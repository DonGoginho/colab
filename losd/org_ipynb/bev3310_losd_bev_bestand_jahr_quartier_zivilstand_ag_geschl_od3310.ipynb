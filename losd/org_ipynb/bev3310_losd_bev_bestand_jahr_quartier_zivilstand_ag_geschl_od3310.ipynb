{
 "cells": [
  {
   "attachments": {},
   "cell_type": "markdown",
   "metadata": {},
   "source": [
    "# Testing LOSD\n",
    "### Bevölkerung nach Zivilstand, Geschlecht, Alter und Stadtquartier\n",
    "\n",
    "Zivilstand der Bevölkerung nach Geschlecht, Alter und Stadtquartier, seit 1993.\n",
    "https://data.integ.stadt-zuerich.ch/dataset/bev331od3310 \n",
    "\n",
    "Datum: 26.03.2024\n",
    "\n",
    "### Colab\n",
    "Mit Colab kann das Jupyter-Notebook interaktiv im Browser gestartet werden. \n",
    "\n",
    "Klicke auf den Button:\n",
    "[![Open In Colab](https://colab.research.google.com/assets/colab-badge.svg)](https://github.com/DonGoginho/colab/blob/main/losd/3310_losd_bev_bestand_jahr_quartier_zivilstand_ag_geschl_od3310.ipynb)\n"
   ]
  },
  {
   "cell_type": "markdown",
   "metadata": {},
   "source": [
    "### Importiere die notwendigen Packages"
   ]
  },
  {
   "cell_type": "code",
   "execution_count": 1,
   "metadata": {},
   "outputs": [],
   "source": [
    "#%pip install altair datetime folium geopandas io requests matplotlib numpy pandas seaborn plotly"
   ]
  },
  {
   "cell_type": "code",
   "execution_count": 2,
   "metadata": {},
   "outputs": [],
   "source": [
    "import altair as alt\n",
    "import datetime\n",
    "import folium \n",
    "import geopandas as gpd\n",
    "import io\n",
    "from IPython.display import Markdown as md\n",
    "import matplotlib.pyplot as plt\n",
    "import numpy as np\n",
    "import pandas as pd\n",
    "#import pivottablejs\n",
    "#from pivottablejs import pivot_ui\n",
    "import plotly.express as px\n",
    "import requests\n",
    "import seaborn as sns"
   ]
  },
  {
   "cell_type": "markdown",
   "metadata": {},
   "source": [
    "Importiere die eigenen Funktionen, die unter ../0_scripts abegelegt sind:"
   ]
  },
  {
   "cell_type": "code",
   "execution_count": 3,
   "metadata": {},
   "outputs": [],
   "source": [
    "import sys\n",
    "sys.path.append('../0_scripts')\n",
    "\n",
    "import my_py_dataviz_functions as mypy_dv\n",
    "import my_py_dataloading_functions as mypy_dl"
   ]
  },
  {
   "cell_type": "code",
   "execution_count": 4,
   "metadata": {},
   "outputs": [],
   "source": [
    "SSL_VERIFY = False\n",
    "# evtl. SSL_VERIFY auf False setzen wenn die Verbindung zu https://www.gemeinderat-zuerich.ch nicht klappt (z.B. wegen Proxy)\n",
    "# Um die SSL Verifikation auszustellen, bitte die nächste Zeile einkommentieren (\"#\" entfernen)\n",
    "# SSL_VERIFY = False"
   ]
  },
  {
   "cell_type": "code",
   "execution_count": 5,
   "metadata": {},
   "outputs": [],
   "source": [
    "if not SSL_VERIFY:\n",
    "    import urllib3\n",
    "    urllib3.disable_warnings()"
   ]
  },
  {
   "cell_type": "markdown",
   "metadata": {},
   "source": [
    "### Settings\n",
    "Definiere Settings. \n",
    "Hier das Zahlenformat von Float-Werten (z.B. *'{:,.2f}'.format* mit Komma als Tausenderzeichen)"
   ]
  },
  {
   "cell_type": "code",
   "execution_count": 6,
   "metadata": {},
   "outputs": [],
   "source": [
    "#pd.options.display.float_format = lambda x : '{:,.1f}'.format(x) if (np.isnan(x) | np.isinf(x)) else '{:,.0f}'.format(x) if int(x) == x else '{:,.1f}'.format(x)\n",
    "pd.options.display.float_format = '{:.0f}'.format\n",
    "pd.set_option('display.width', 100)\n",
    "pd.set_option('display.max_columns', 15)"
   ]
  },
  {
   "cell_type": "markdown",
   "metadata": {},
   "source": [
    "#### Zeitvariabeln"
   ]
  },
  {
   "cell_type": "code",
   "execution_count": 7,
   "metadata": {},
   "outputs": [],
   "source": [
    "#Zeitvariabeln als Strings:\n",
    "now = datetime.date.today()\n",
    "year_today = now.strftime(\"%Y\")\n",
    "date_today = \"_\"+now.strftime(\"%Y-%m-%d\")\n",
    "\n",
    "#Zeitvariabeln als Integers:\n",
    "int_times = now.timetuple()\n",
    "aktuellesJahr = int_times[0]\n",
    "aktuellerMonat = int_times[1]\n",
    "selectedMonat = int_times[1]-2\n",
    "#print(aktuellesJahr, aktuellerMonat,'datenstand: ', selectedMonat, int_times)"
   ]
  },
  {
   "cell_type": "markdown",
   "metadata": {},
   "source": [
    "### Daten importieren und Metadaten checken\n",
    "\n",
    "- status: int / prod\n",
    "- data_source: web / ld / dropzone\n",
    "- datums_attr: beschreibt das oder die Datumsfelder, die als Datum geparsed werden sollen. Falls es keines gibt: None"
   ]
  },
  {
   "cell_type": "markdown",
   "metadata": {},
   "source": [
    "**BITTE HIER ANPASSEN**"
   ]
  },
  {
   "cell_type": "code",
   "execution_count": 8,
   "metadata": {},
   "outputs": [],
   "source": [
    "package_name = \"bev331od3310\""
   ]
  },
  {
   "cell_type": "code",
   "execution_count": 9,
   "metadata": {
    "tags": []
   },
   "outputs": [
    {
     "name": "stdout",
     "output_type": "stream",
     "text": [
      "fp lautet:https://ld.integ.stadt-zuerich.ch/statistics/view/BEV331OD3310/observation?format=csv\n"
     ]
    },
    {
     "data": {
      "text/markdown": [
       " **Überprüfe die Metadaten:**"
      ],
      "text/plain": [
       "<IPython.core.display.Markdown object>"
      ]
     },
     "metadata": {},
     "output_type": "display_data"
    },
    {
     "data": {
      "text/markdown": [
       " **Dataset auf INTEG-Datakatalog:** Link https://data.integ.stadt-zuerich.ch/dataset/bev331od3310 "
      ],
      "text/plain": [
       "<IPython.core.display.Markdown object>"
      ]
     },
     "metadata": {},
     "output_type": "display_data"
    },
    {
     "data": {
      "text/markdown": [
       " **View auf INTEG-LD:** Link https://ld.integ.stadt-zuerich.ch/statistics/view/BEV331OD3310 "
      ],
      "text/plain": [
       "<IPython.core.display.Markdown object>"
      ]
     },
     "metadata": {},
     "output_type": "display_data"
    },
    {
     "name": "stdout",
     "output_type": "stream",
     "text": [
      "Es ist ein Fehler aufgetreten: No columns to parse from file\n"
     ]
    },
    {
     "name": "stderr",
     "output_type": "stream",
     "text": [
      "Error: No columns to parse from file\n",
      "\n"
     ]
    }
   ],
   "source": [
    "data2betested = mypy_dl.load_data(\n",
    "    status = 'int'\n",
    "    , data_source = 'ld'\n",
    "    , package_name = package_name\n",
    "    , dataset_name = \"bev331od3310.csv\"    \n",
    "    , datums_attr = ['ZEIT_LANG']\n",
    "    )"
   ]
  },
  {
   "cell_type": "code",
   "execution_count": 10,
   "metadata": {},
   "outputs": [
    {
     "ename": "AttributeError",
     "evalue": "'NoneType' object has no attribute 'head'",
     "output_type": "error",
     "traceback": [
      "\u001b[1;31m---------------------------------------------------------------------------\u001b[0m",
      "\u001b[1;31mAttributeError\u001b[0m                            Traceback (most recent call last)",
      "Cell \u001b[1;32mIn[10], line 1\u001b[0m\n\u001b[1;32m----> 1\u001b[0m \u001b[43mdata2betested\u001b[49m\u001b[38;5;241;43m.\u001b[39;49m\u001b[43mhead\u001b[49m(\u001b[38;5;241m2\u001b[39m)\n",
      "\u001b[1;31mAttributeError\u001b[0m: 'NoneType' object has no attribute 'head'"
     ]
    }
   ],
   "source": [
    "data2betested.head(2)"
   ]
  },
  {
   "cell_type": "markdown",
   "metadata": {},
   "source": [
    "Berechne weitere Attribute falls notwendig"
   ]
  },
  {
   "cell_type": "code",
   "execution_count": null,
   "metadata": {},
   "outputs": [
    {
     "ename": "AttributeError",
     "evalue": "Can only use .str accessor with string values!",
     "output_type": "error",
     "traceback": [
      "\u001b[1;31m---------------------------------------------------------------------------\u001b[0m",
      "\u001b[1;31mAttributeError\u001b[0m                            Traceback (most recent call last)",
      "Cell \u001b[1;32mIn[11], line 4\u001b[0m\n\u001b[0;32m      1\u001b[0m data2betested \u001b[38;5;241m=\u001b[39m (\n\u001b[0;32m      2\u001b[0m     \u001b[43mdata2betested\u001b[49m\n\u001b[0;32m      3\u001b[0m \u001b[43m    \u001b[49m\u001b[38;5;241;43m.\u001b[39;49m\u001b[43mcopy\u001b[49m\u001b[43m(\u001b[49m\u001b[43m)\u001b[49m\n\u001b[1;32m----> 4\u001b[0m \u001b[43m    \u001b[49m\u001b[38;5;241;43m.\u001b[39;49m\u001b[43massign\u001b[49m\u001b[43m(\u001b[49m\n\u001b[0;32m      5\u001b[0m \u001b[43m        \u001b[49m\u001b[38;5;66;43;03m#Aktualisierungs_Datum_str= lambda x: x.Aktualisierungs_Datum.astype(str),\u001b[39;49;00m\n\u001b[0;32m      6\u001b[0m \u001b[43m        \u001b[49m\u001b[43mStichtagDatJahr\u001b[49m\u001b[43m \u001b[49m\u001b[38;5;241;43m=\u001b[39;49m\u001b[43m \u001b[49m\u001b[38;5;28;43;01mlambda\u001b[39;49;00m\u001b[43m \u001b[49m\u001b[43mx\u001b[49m\u001b[43m:\u001b[49m\u001b[43m \u001b[49m\u001b[43mx\u001b[49m\u001b[38;5;241;43m.\u001b[39;49m\u001b[43mZEIT_LANG\u001b[49m\u001b[43m,\u001b[49m\n\u001b[0;32m      7\u001b[0m \u001b[43m        \u001b[49m\u001b[43mStichtagDatJahr_str\u001b[49m\u001b[43m \u001b[49m\u001b[38;5;241;43m=\u001b[39;49m\u001b[43m \u001b[49m\u001b[38;5;28;43;01mlambda\u001b[39;49;00m\u001b[43m \u001b[49m\u001b[43mx\u001b[49m\u001b[43m:\u001b[49m\u001b[43m \u001b[49m\u001b[43mx\u001b[49m\u001b[38;5;241;43m.\u001b[39;49m\u001b[43mZEIT_LANG\u001b[49m\u001b[38;5;241;43m.\u001b[39;49m\u001b[43mastype\u001b[49m\u001b[43m(\u001b[49m\u001b[38;5;28;43mstr\u001b[39;49m\u001b[43m)\u001b[49m\u001b[43m,\u001b[49m\n\u001b[0;32m      8\u001b[0m \u001b[43m        \u001b[49m\u001b[43mJahr\u001b[49m\u001b[43m \u001b[49m\u001b[38;5;241;43m=\u001b[39;49m\u001b[43m \u001b[49m\u001b[38;5;28;43;01mlambda\u001b[39;49;00m\u001b[43m \u001b[49m\u001b[43mx\u001b[49m\u001b[43m:\u001b[49m\u001b[43m \u001b[49m\u001b[43mx\u001b[49m\u001b[38;5;241;43m.\u001b[39;49m\u001b[43mZEIT_LANG\u001b[49m\u001b[38;5;241;43m.\u001b[39;49m\u001b[43mdt\u001b[49m\u001b[38;5;241;43m.\u001b[39;49m\u001b[43myear\u001b[49m\u001b[43m,\u001b[49m\n\u001b[0;32m      9\u001b[0m \u001b[43m        \u001b[49m\u001b[38;5;66;43;03m#Jahr_nbr = lambda x: x.ZEIT_CODE.str[-4:].astype(int),    \u001b[39;49;00m\n\u001b[0;32m     10\u001b[0m \u001b[43m        \u001b[49m\u001b[43mRAUM_my_sort\u001b[49m\u001b[43m \u001b[49m\u001b[38;5;241;43m=\u001b[39;49m\u001b[43m \u001b[49m\u001b[38;5;28;43;01mlambda\u001b[39;49;00m\u001b[43m \u001b[49m\u001b[43mx\u001b[49m\u001b[43m:\u001b[49m\u001b[43m \u001b[49m\u001b[43mx\u001b[49m\u001b[38;5;241;43m.\u001b[39;49m\u001b[43mRAUM_CODE\u001b[49m\u001b[38;5;241;43m.\u001b[39;49m\u001b[43mstr\u001b[49m\u001b[43m[\u001b[49m\u001b[38;5;241;43m-\u001b[39;49m\u001b[38;5;241;43m3\u001b[39;49m\u001b[43m:\u001b[49m\u001b[43m]\u001b[49m\u001b[38;5;241;43m.\u001b[39;49m\u001b[43mastype\u001b[49m\u001b[43m(\u001b[49m\u001b[38;5;28;43mint\u001b[39;49m\u001b[43m)\u001b[49m\u001b[43m,\u001b[49m\n\u001b[0;32m     11\u001b[0m \n\u001b[0;32m     12\u001b[0m \u001b[43m    \u001b[49m\u001b[43m)\u001b[49m\n\u001b[0;32m     13\u001b[0m     \u001b[38;5;241m.\u001b[39msort_values(\u001b[38;5;124m'\u001b[39m\u001b[38;5;124mZEIT_LANG\u001b[39m\u001b[38;5;124m'\u001b[39m, ascending\u001b[38;5;241m=\u001b[39m\u001b[38;5;28;01mFalse\u001b[39;00m)\n\u001b[0;32m     14\u001b[0m     )\n\u001b[0;32m     15\u001b[0m data2betested\u001b[38;5;241m.\u001b[39mhead(\u001b[38;5;241m2\u001b[39m)\n",
      "File \u001b[1;32mc:\\Users\\sszsim\\AppData\\Local\\anaconda3\\envs\\gogo_stuff\\Lib\\site-packages\\pandas\\core\\frame.py:5226\u001b[0m, in \u001b[0;36mDataFrame.assign\u001b[1;34m(self, **kwargs)\u001b[0m\n\u001b[0;32m   5223\u001b[0m data \u001b[38;5;241m=\u001b[39m \u001b[38;5;28mself\u001b[39m\u001b[38;5;241m.\u001b[39mcopy(deep\u001b[38;5;241m=\u001b[39m\u001b[38;5;28;01mNone\u001b[39;00m)\n\u001b[0;32m   5225\u001b[0m \u001b[38;5;28;01mfor\u001b[39;00m k, v \u001b[38;5;129;01min\u001b[39;00m kwargs\u001b[38;5;241m.\u001b[39mitems():\n\u001b[1;32m-> 5226\u001b[0m     data[k] \u001b[38;5;241m=\u001b[39m \u001b[43mcom\u001b[49m\u001b[38;5;241;43m.\u001b[39;49m\u001b[43mapply_if_callable\u001b[49m\u001b[43m(\u001b[49m\u001b[43mv\u001b[49m\u001b[43m,\u001b[49m\u001b[43m \u001b[49m\u001b[43mdata\u001b[49m\u001b[43m)\u001b[49m\n\u001b[0;32m   5227\u001b[0m \u001b[38;5;28;01mreturn\u001b[39;00m data\n",
      "File \u001b[1;32mc:\\Users\\sszsim\\AppData\\Local\\anaconda3\\envs\\gogo_stuff\\Lib\\site-packages\\pandas\\core\\common.py:384\u001b[0m, in \u001b[0;36mapply_if_callable\u001b[1;34m(maybe_callable, obj, **kwargs)\u001b[0m\n\u001b[0;32m    373\u001b[0m \u001b[38;5;250m\u001b[39m\u001b[38;5;124;03m\"\"\"\u001b[39;00m\n\u001b[0;32m    374\u001b[0m \u001b[38;5;124;03mEvaluate possibly callable input using obj and kwargs if it is callable,\u001b[39;00m\n\u001b[0;32m    375\u001b[0m \u001b[38;5;124;03motherwise return as it is.\u001b[39;00m\n\u001b[1;32m   (...)\u001b[0m\n\u001b[0;32m    381\u001b[0m \u001b[38;5;124;03m**kwargs\u001b[39;00m\n\u001b[0;32m    382\u001b[0m \u001b[38;5;124;03m\"\"\"\u001b[39;00m\n\u001b[0;32m    383\u001b[0m \u001b[38;5;28;01mif\u001b[39;00m \u001b[38;5;28mcallable\u001b[39m(maybe_callable):\n\u001b[1;32m--> 384\u001b[0m     \u001b[38;5;28;01mreturn\u001b[39;00m \u001b[43mmaybe_callable\u001b[49m\u001b[43m(\u001b[49m\u001b[43mobj\u001b[49m\u001b[43m,\u001b[49m\u001b[43m \u001b[49m\u001b[38;5;241;43m*\u001b[39;49m\u001b[38;5;241;43m*\u001b[39;49m\u001b[43mkwargs\u001b[49m\u001b[43m)\u001b[49m\n\u001b[0;32m    386\u001b[0m \u001b[38;5;28;01mreturn\u001b[39;00m maybe_callable\n",
      "Cell \u001b[1;32mIn[11], line 10\u001b[0m, in \u001b[0;36m<lambda>\u001b[1;34m(x)\u001b[0m\n\u001b[0;32m      1\u001b[0m data2betested \u001b[38;5;241m=\u001b[39m (\n\u001b[0;32m      2\u001b[0m     data2betested\n\u001b[0;32m      3\u001b[0m     \u001b[38;5;241m.\u001b[39mcopy()\n\u001b[0;32m      4\u001b[0m     \u001b[38;5;241m.\u001b[39massign(\n\u001b[0;32m      5\u001b[0m         \u001b[38;5;66;03m#Aktualisierungs_Datum_str= lambda x: x.Aktualisierungs_Datum.astype(str),\u001b[39;00m\n\u001b[0;32m      6\u001b[0m         StichtagDatJahr \u001b[38;5;241m=\u001b[39m \u001b[38;5;28;01mlambda\u001b[39;00m x: x\u001b[38;5;241m.\u001b[39mZEIT_LANG,\n\u001b[0;32m      7\u001b[0m         StichtagDatJahr_str \u001b[38;5;241m=\u001b[39m \u001b[38;5;28;01mlambda\u001b[39;00m x: x\u001b[38;5;241m.\u001b[39mZEIT_LANG\u001b[38;5;241m.\u001b[39mastype(\u001b[38;5;28mstr\u001b[39m),\n\u001b[0;32m      8\u001b[0m         Jahr \u001b[38;5;241m=\u001b[39m \u001b[38;5;28;01mlambda\u001b[39;00m x: x\u001b[38;5;241m.\u001b[39mZEIT_LANG\u001b[38;5;241m.\u001b[39mdt\u001b[38;5;241m.\u001b[39myear,\n\u001b[0;32m      9\u001b[0m         \u001b[38;5;66;03m#Jahr_nbr = lambda x: x.ZEIT_CODE.str[-4:].astype(int),    \u001b[39;00m\n\u001b[1;32m---> 10\u001b[0m         RAUM_my_sort \u001b[38;5;241m=\u001b[39m \u001b[38;5;28;01mlambda\u001b[39;00m x: \u001b[43mx\u001b[49m\u001b[38;5;241;43m.\u001b[39;49m\u001b[43mRAUM_CODE\u001b[49m\u001b[38;5;241;43m.\u001b[39;49m\u001b[43mstr\u001b[49m[\u001b[38;5;241m-\u001b[39m\u001b[38;5;241m3\u001b[39m:]\u001b[38;5;241m.\u001b[39mastype(\u001b[38;5;28mint\u001b[39m),\n\u001b[0;32m     11\u001b[0m \n\u001b[0;32m     12\u001b[0m     )\n\u001b[0;32m     13\u001b[0m     \u001b[38;5;241m.\u001b[39msort_values(\u001b[38;5;124m'\u001b[39m\u001b[38;5;124mZEIT_LANG\u001b[39m\u001b[38;5;124m'\u001b[39m, ascending\u001b[38;5;241m=\u001b[39m\u001b[38;5;28;01mFalse\u001b[39;00m)\n\u001b[0;32m     14\u001b[0m     )\n\u001b[0;32m     15\u001b[0m data2betested\u001b[38;5;241m.\u001b[39mhead(\u001b[38;5;241m2\u001b[39m)\n",
      "File \u001b[1;32mc:\\Users\\sszsim\\AppData\\Local\\anaconda3\\envs\\gogo_stuff\\Lib\\site-packages\\pandas\\core\\generic.py:6296\u001b[0m, in \u001b[0;36mNDFrame.__getattr__\u001b[1;34m(self, name)\u001b[0m\n\u001b[0;32m   6289\u001b[0m \u001b[38;5;28;01mif\u001b[39;00m (\n\u001b[0;32m   6290\u001b[0m     name \u001b[38;5;129;01mnot\u001b[39;00m \u001b[38;5;129;01min\u001b[39;00m \u001b[38;5;28mself\u001b[39m\u001b[38;5;241m.\u001b[39m_internal_names_set\n\u001b[0;32m   6291\u001b[0m     \u001b[38;5;129;01mand\u001b[39;00m name \u001b[38;5;129;01mnot\u001b[39;00m \u001b[38;5;129;01min\u001b[39;00m \u001b[38;5;28mself\u001b[39m\u001b[38;5;241m.\u001b[39m_metadata\n\u001b[0;32m   6292\u001b[0m     \u001b[38;5;129;01mand\u001b[39;00m name \u001b[38;5;129;01mnot\u001b[39;00m \u001b[38;5;129;01min\u001b[39;00m \u001b[38;5;28mself\u001b[39m\u001b[38;5;241m.\u001b[39m_accessors\n\u001b[0;32m   6293\u001b[0m     \u001b[38;5;129;01mand\u001b[39;00m \u001b[38;5;28mself\u001b[39m\u001b[38;5;241m.\u001b[39m_info_axis\u001b[38;5;241m.\u001b[39m_can_hold_identifiers_and_holds_name(name)\n\u001b[0;32m   6294\u001b[0m ):\n\u001b[0;32m   6295\u001b[0m     \u001b[38;5;28;01mreturn\u001b[39;00m \u001b[38;5;28mself\u001b[39m[name]\n\u001b[1;32m-> 6296\u001b[0m \u001b[38;5;28;01mreturn\u001b[39;00m \u001b[38;5;28;43mobject\u001b[39;49m\u001b[38;5;241;43m.\u001b[39;49m\u001b[38;5;21;43m__getattribute__\u001b[39;49m\u001b[43m(\u001b[49m\u001b[38;5;28;43mself\u001b[39;49m\u001b[43m,\u001b[49m\u001b[43m \u001b[49m\u001b[43mname\u001b[49m\u001b[43m)\u001b[49m\n",
      "File \u001b[1;32mc:\\Users\\sszsim\\AppData\\Local\\anaconda3\\envs\\gogo_stuff\\Lib\\site-packages\\pandas\\core\\accessor.py:224\u001b[0m, in \u001b[0;36mCachedAccessor.__get__\u001b[1;34m(self, obj, cls)\u001b[0m\n\u001b[0;32m    221\u001b[0m \u001b[38;5;28;01mif\u001b[39;00m obj \u001b[38;5;129;01mis\u001b[39;00m \u001b[38;5;28;01mNone\u001b[39;00m:\n\u001b[0;32m    222\u001b[0m     \u001b[38;5;66;03m# we're accessing the attribute of the class, i.e., Dataset.geo\u001b[39;00m\n\u001b[0;32m    223\u001b[0m     \u001b[38;5;28;01mreturn\u001b[39;00m \u001b[38;5;28mself\u001b[39m\u001b[38;5;241m.\u001b[39m_accessor\n\u001b[1;32m--> 224\u001b[0m accessor_obj \u001b[38;5;241m=\u001b[39m \u001b[38;5;28;43mself\u001b[39;49m\u001b[38;5;241;43m.\u001b[39;49m\u001b[43m_accessor\u001b[49m\u001b[43m(\u001b[49m\u001b[43mobj\u001b[49m\u001b[43m)\u001b[49m\n\u001b[0;32m    225\u001b[0m \u001b[38;5;66;03m# Replace the property with the accessor object. Inspired by:\u001b[39;00m\n\u001b[0;32m    226\u001b[0m \u001b[38;5;66;03m# https://www.pydanny.com/cached-property.html\u001b[39;00m\n\u001b[0;32m    227\u001b[0m \u001b[38;5;66;03m# We need to use object.__setattr__ because we overwrite __setattr__ on\u001b[39;00m\n\u001b[0;32m    228\u001b[0m \u001b[38;5;66;03m# NDFrame\u001b[39;00m\n\u001b[0;32m    229\u001b[0m \u001b[38;5;28mobject\u001b[39m\u001b[38;5;241m.\u001b[39m\u001b[38;5;21m__setattr__\u001b[39m(obj, \u001b[38;5;28mself\u001b[39m\u001b[38;5;241m.\u001b[39m_name, accessor_obj)\n",
      "File \u001b[1;32mc:\\Users\\sszsim\\AppData\\Local\\anaconda3\\envs\\gogo_stuff\\Lib\\site-packages\\pandas\\core\\strings\\accessor.py:191\u001b[0m, in \u001b[0;36mStringMethods.__init__\u001b[1;34m(self, data)\u001b[0m\n\u001b[0;32m    188\u001b[0m \u001b[38;5;28;01mdef\u001b[39;00m \u001b[38;5;21m__init__\u001b[39m(\u001b[38;5;28mself\u001b[39m, data) \u001b[38;5;241m-\u001b[39m\u001b[38;5;241m>\u001b[39m \u001b[38;5;28;01mNone\u001b[39;00m:\n\u001b[0;32m    189\u001b[0m     \u001b[38;5;28;01mfrom\u001b[39;00m \u001b[38;5;21;01mpandas\u001b[39;00m\u001b[38;5;21;01m.\u001b[39;00m\u001b[38;5;21;01mcore\u001b[39;00m\u001b[38;5;21;01m.\u001b[39;00m\u001b[38;5;21;01marrays\u001b[39;00m\u001b[38;5;21;01m.\u001b[39;00m\u001b[38;5;21;01mstring_\u001b[39;00m \u001b[38;5;28;01mimport\u001b[39;00m StringDtype\n\u001b[1;32m--> 191\u001b[0m     \u001b[38;5;28mself\u001b[39m\u001b[38;5;241m.\u001b[39m_inferred_dtype \u001b[38;5;241m=\u001b[39m \u001b[38;5;28;43mself\u001b[39;49m\u001b[38;5;241;43m.\u001b[39;49m\u001b[43m_validate\u001b[49m\u001b[43m(\u001b[49m\u001b[43mdata\u001b[49m\u001b[43m)\u001b[49m\n\u001b[0;32m    192\u001b[0m     \u001b[38;5;28mself\u001b[39m\u001b[38;5;241m.\u001b[39m_is_categorical \u001b[38;5;241m=\u001b[39m \u001b[38;5;28misinstance\u001b[39m(data\u001b[38;5;241m.\u001b[39mdtype, CategoricalDtype)\n\u001b[0;32m    193\u001b[0m     \u001b[38;5;28mself\u001b[39m\u001b[38;5;241m.\u001b[39m_is_string \u001b[38;5;241m=\u001b[39m \u001b[38;5;28misinstance\u001b[39m(data\u001b[38;5;241m.\u001b[39mdtype, StringDtype)\n",
      "File \u001b[1;32mc:\\Users\\sszsim\\AppData\\Local\\anaconda3\\envs\\gogo_stuff\\Lib\\site-packages\\pandas\\core\\strings\\accessor.py:245\u001b[0m, in \u001b[0;36mStringMethods._validate\u001b[1;34m(data)\u001b[0m\n\u001b[0;32m    242\u001b[0m inferred_dtype \u001b[38;5;241m=\u001b[39m lib\u001b[38;5;241m.\u001b[39minfer_dtype(values, skipna\u001b[38;5;241m=\u001b[39m\u001b[38;5;28;01mTrue\u001b[39;00m)\n\u001b[0;32m    244\u001b[0m \u001b[38;5;28;01mif\u001b[39;00m inferred_dtype \u001b[38;5;129;01mnot\u001b[39;00m \u001b[38;5;129;01min\u001b[39;00m allowed_types:\n\u001b[1;32m--> 245\u001b[0m     \u001b[38;5;28;01mraise\u001b[39;00m \u001b[38;5;167;01mAttributeError\u001b[39;00m(\u001b[38;5;124m\"\u001b[39m\u001b[38;5;124mCan only use .str accessor with string values!\u001b[39m\u001b[38;5;124m\"\u001b[39m)\n\u001b[0;32m    246\u001b[0m \u001b[38;5;28;01mreturn\u001b[39;00m inferred_dtype\n",
      "\u001b[1;31mAttributeError\u001b[0m: Can only use .str accessor with string values!"
     ]
    }
   ],
   "source": [
    "data2betested = (\n",
    "    data2betested\n",
    "    .copy()\n",
    "    .assign(\n",
    "        #Aktualisierungs_Datum_str= lambda x: x.Aktualisierungs_Datum.astype(str),\n",
    "        StichtagDatJahr = lambda x: x.ZEIT_LANG,\n",
    "        StichtagDatJahr_str = lambda x: x.ZEIT_LANG.astype(str),\n",
    "        Jahr = lambda x: x.ZEIT_LANG.dt.year,\n",
    "        #Jahr_nbr = lambda x: x.ZEIT_CODE.str[-4:].astype(int),    \n",
    "        RAUM_my_sort = lambda x: x.RAUM_CODE.str[-3:].astype(int),\n",
    "\n",
    "    )\n",
    "    .sort_values('ZEIT_LANG', ascending=False)\n",
    "    )\n",
    "data2betested.head(2)"
   ]
  },
  {
   "cell_type": "markdown",
   "metadata": {},
   "source": [
    "Zeitbereich aus den Daten:"
   ]
  },
  {
   "cell_type": "code",
   "execution_count": null,
   "metadata": {},
   "outputs": [
    {
     "name": "stdout",
     "output_type": "stream",
     "text": [
      "Die Daten haben ein Minimumjahr von nan und ein Maximumjahr von nan\n"
     ]
    }
   ],
   "source": [
    "data_max_date = str(max(data2betested.ZEIT_LANG).year)\n",
    "data_min_date = str(min(data2betested.ZEIT_LANG).year)\n",
    "\n",
    "print(f\"Die Daten haben ein Minimumjahr von {data_min_date} und ein Maximumjahr von {data_max_date}\")\n"
   ]
  },
  {
   "cell_type": "markdown",
   "metadata": {},
   "source": [
    "Temp speichere die csv-Datei, da es immer wieder zu Ausfällen kommt. So kann ich mal den Report fertig bauen."
   ]
  },
  {
   "cell_type": "code",
   "execution_count": null,
   "metadata": {},
   "outputs": [],
   "source": [
    "docname = package_name +date_today+\".csv\"\n",
    "print(docname)\n"
   ]
  },
  {
   "cell_type": "code",
   "execution_count": null,
   "metadata": {},
   "outputs": [],
   "source": [
    "data2betested.to_csv('./saved_data/sprint_a_'+docname, index=False)"
   ]
  },
  {
   "cell_type": "markdown",
   "metadata": {},
   "source": [
    "### Einfache Datentests"
   ]
  },
  {
   "cell_type": "code",
   "execution_count": null,
   "metadata": {},
   "outputs": [
    {
     "data": {
      "text/html": [
       "<div>\n",
       "<style scoped>\n",
       "    .dataframe tbody tr th:only-of-type {\n",
       "        vertical-align: middle;\n",
       "    }\n",
       "\n",
       "    .dataframe tbody tr th {\n",
       "        vertical-align: top;\n",
       "    }\n",
       "\n",
       "    .dataframe thead th {\n",
       "        text-align: right;\n",
       "    }\n",
       "</style>\n",
       "<table border=\"1\" class=\"dataframe\">\n",
       "  <thead>\n",
       "    <tr style=\"text-align: right;\">\n",
       "      <th></th>\n",
       "      <th>140898</th>\n",
       "      <th>300136</th>\n",
       "    </tr>\n",
       "  </thead>\n",
       "  <tbody>\n",
       "    <tr>\n",
       "      <th>ZEIT_LANG</th>\n",
       "      <td>2022-12-31 00:00:00</td>\n",
       "      <td>2022-12-31 00:00:00</td>\n",
       "    </tr>\n",
       "    <tr>\n",
       "      <th>ZEIT_CODE</th>\n",
       "      <td>Z31122022</td>\n",
       "      <td>Z31122022</td>\n",
       "    </tr>\n",
       "    <tr>\n",
       "      <th>RAUM_LANG</th>\n",
       "      <td>Alt-Wiedikon</td>\n",
       "      <td>Friesenberg</td>\n",
       "    </tr>\n",
       "    <tr>\n",
       "      <th>RAUM_CODE</th>\n",
       "      <td>R00031</td>\n",
       "      <td>R00033</td>\n",
       "    </tr>\n",
       "    <tr>\n",
       "      <th>ALT_LANG</th>\n",
       "      <td>42 Jahre alt</td>\n",
       "      <td>46 Jahre alt</td>\n",
       "    </tr>\n",
       "    <tr>\n",
       "      <th>ALT_CODE</th>\n",
       "      <td>ALT0042</td>\n",
       "      <td>ALT0046</td>\n",
       "    </tr>\n",
       "    <tr>\n",
       "      <th>SEX_LANG</th>\n",
       "      <td>weiblich</td>\n",
       "      <td>männlich</td>\n",
       "    </tr>\n",
       "    <tr>\n",
       "      <th>SEX_CODE</th>\n",
       "      <td>SEX0002</td>\n",
       "      <td>SEX0001</td>\n",
       "    </tr>\n",
       "    <tr>\n",
       "      <th>ZIV_LANG</th>\n",
       "      <td>Ledig</td>\n",
       "      <td>Verheiratet</td>\n",
       "    </tr>\n",
       "    <tr>\n",
       "      <th>ZIV_CODE</th>\n",
       "      <td>ZIV0001</td>\n",
       "      <td>ZIV0003</td>\n",
       "    </tr>\n",
       "    <tr>\n",
       "      <th>BEW</th>\n",
       "      <td>82</td>\n",
       "      <td>66</td>\n",
       "    </tr>\n",
       "    <tr>\n",
       "      <th>KREISEZH_LANG</th>\n",
       "      <td>Kreis 3 (ab 1915)</td>\n",
       "      <td>Kreis 3 (ab 1915)</td>\n",
       "    </tr>\n",
       "    <tr>\n",
       "      <th>KREISEZH_CODE</th>\n",
       "      <td>R00600</td>\n",
       "      <td>R00600</td>\n",
       "    </tr>\n",
       "    <tr>\n",
       "      <th>StichtagDatJahr</th>\n",
       "      <td>2022-12-31 00:00:00</td>\n",
       "      <td>2022-12-31 00:00:00</td>\n",
       "    </tr>\n",
       "    <tr>\n",
       "      <th>StichtagDatJahr_str</th>\n",
       "      <td>2022-12-31</td>\n",
       "      <td>2022-12-31</td>\n",
       "    </tr>\n",
       "    <tr>\n",
       "      <th>Jahr</th>\n",
       "      <td>2022</td>\n",
       "      <td>2022</td>\n",
       "    </tr>\n",
       "    <tr>\n",
       "      <th>RAUM_my_sort</th>\n",
       "      <td>31</td>\n",
       "      <td>33</td>\n",
       "    </tr>\n",
       "  </tbody>\n",
       "</table>\n",
       "</div>"
      ],
      "text/plain": [
       "                                  140898               300136\n",
       "ZEIT_LANG            2022-12-31 00:00:00  2022-12-31 00:00:00\n",
       "ZEIT_CODE                      Z31122022            Z31122022\n",
       "RAUM_LANG                   Alt-Wiedikon          Friesenberg\n",
       "RAUM_CODE                         R00031               R00033\n",
       "ALT_LANG                    42 Jahre alt         46 Jahre alt\n",
       "ALT_CODE                         ALT0042              ALT0046\n",
       "SEX_LANG                        weiblich             männlich\n",
       "SEX_CODE                         SEX0002              SEX0001\n",
       "ZIV_LANG                           Ledig          Verheiratet\n",
       "ZIV_CODE                         ZIV0001              ZIV0003\n",
       "BEW                                   82                   66\n",
       "KREISEZH_LANG          Kreis 3 (ab 1915)    Kreis 3 (ab 1915)\n",
       "KREISEZH_CODE                     R00600               R00600\n",
       "StichtagDatJahr      2022-12-31 00:00:00  2022-12-31 00:00:00\n",
       "StichtagDatJahr_str           2022-12-31           2022-12-31\n",
       "Jahr                                2022                 2022\n",
       "RAUM_my_sort                          31                   33"
      ]
     },
     "execution_count": 24,
     "metadata": {},
     "output_type": "execute_result"
    }
   ],
   "source": [
    "data2betested.head(2).T"
   ]
  },
  {
   "cell_type": "code",
   "execution_count": null,
   "metadata": {},
   "outputs": [
    {
     "name": "stdout",
     "output_type": "stream",
     "text": [
      "<class 'pandas.core.frame.DataFrame'>\n",
      "Index: 562329 entries, 140898 to 0\n",
      "Data columns (total 17 columns):\n",
      " #   Column               Non-Null Count   Dtype         \n",
      "---  ------               --------------   -----         \n",
      " 0   ZEIT_LANG            562329 non-null  datetime64[ns]\n",
      " 1   ZEIT_CODE            562329 non-null  object        \n",
      " 2   RAUM_LANG            562329 non-null  object        \n",
      " 3   RAUM_CODE            562329 non-null  object        \n",
      " 4   ALT_LANG             562329 non-null  object        \n",
      " 5   ALT_CODE             562329 non-null  object        \n",
      " 6   SEX_LANG             562329 non-null  object        \n",
      " 7   SEX_CODE             562329 non-null  object        \n",
      " 8   ZIV_LANG             562329 non-null  object        \n",
      " 9   ZIV_CODE             562329 non-null  object        \n",
      " 10  BEW                  562329 non-null  float64       \n",
      " 11  KREISEZH_LANG        562329 non-null  object        \n",
      " 12  KREISEZH_CODE        562329 non-null  object        \n",
      " 13  StichtagDatJahr      562329 non-null  datetime64[ns]\n",
      " 14  StichtagDatJahr_str  562329 non-null  object        \n",
      " 15  Jahr                 562329 non-null  int32         \n",
      " 16  RAUM_my_sort         562329 non-null  int32         \n",
      "dtypes: datetime64[ns](2), float64(1), int32(2), object(12)\n",
      "memory usage: 455.5 MB\n"
     ]
    }
   ],
   "source": [
    "data2betested.info(memory_usage='deep', verbose=True)"
   ]
  },
  {
   "cell_type": "code",
   "execution_count": null,
   "metadata": {},
   "outputs": [
    {
     "name": "stdout",
     "output_type": "stream",
     "text": [
      "The dataset has 562,329 rows (observations) and 17 columns (variables).\n"
     ]
    },
    {
     "name": "stdout",
     "output_type": "stream",
     "text": [
      "There seem to be 0 exact duplicates in the data.\n"
     ]
    }
   ],
   "source": [
    "print(f'The dataset has {data2betested.shape[0]:,.0f} rows (observations) and {data2betested.shape[1]:,.0f} columns (variables).')\n",
    "print(f'There seem to be {data2betested.duplicated().sum()} exact duplicates in the data.')"
   ]
  },
  {
   "cell_type": "markdown",
   "metadata": {},
   "source": [
    "Welches sind die Quartiere ohne Werte bei BEW?"
   ]
  },
  {
   "cell_type": "code",
   "execution_count": null,
   "metadata": {},
   "outputs": [
    {
     "data": {
      "text/html": [
       "<div>\n",
       "<style scoped>\n",
       "    .dataframe tbody tr th:only-of-type {\n",
       "        vertical-align: middle;\n",
       "    }\n",
       "\n",
       "    .dataframe tbody tr th {\n",
       "        vertical-align: top;\n",
       "    }\n",
       "\n",
       "    .dataframe thead th {\n",
       "        text-align: right;\n",
       "    }\n",
       "</style>\n",
       "<table border=\"1\" class=\"dataframe\">\n",
       "  <thead>\n",
       "    <tr style=\"text-align: right;\">\n",
       "      <th></th>\n",
       "      <th>ZEIT_LANG</th>\n",
       "      <th>ZEIT_CODE</th>\n",
       "      <th>RAUM_LANG</th>\n",
       "      <th>RAUM_CODE</th>\n",
       "      <th>ALT_LANG</th>\n",
       "      <th>ALT_CODE</th>\n",
       "      <th>SEX_LANG</th>\n",
       "      <th>...</th>\n",
       "      <th>BEW</th>\n",
       "      <th>KREISEZH_LANG</th>\n",
       "      <th>KREISEZH_CODE</th>\n",
       "      <th>StichtagDatJahr</th>\n",
       "      <th>StichtagDatJahr_str</th>\n",
       "      <th>Jahr</th>\n",
       "      <th>RAUM_my_sort</th>\n",
       "    </tr>\n",
       "  </thead>\n",
       "  <tbody>\n",
       "  </tbody>\n",
       "</table>\n",
       "<p>0 rows × 17 columns</p>\n",
       "</div>"
      ],
      "text/plain": [
       "Empty DataFrame\n",
       "Columns: [ZEIT_LANG, ZEIT_CODE, RAUM_LANG, RAUM_CODE, ALT_LANG, ALT_CODE, SEX_LANG, SEX_CODE, ZIV_LANG, ZIV_CODE, BEW, KREISEZH_LANG, KREISEZH_CODE, StichtagDatJahr, StichtagDatJahr_str, Jahr, RAUM_my_sort]\n",
       "Index: []\n",
       "\n",
       "[0 rows x 17 columns]"
      ]
     },
     "execution_count": 27,
     "metadata": {},
     "output_type": "execute_result"
    }
   ],
   "source": [
    "data2betested[np.isnan(data2betested.BEW)]"
   ]
  },
  {
   "cell_type": "markdown",
   "metadata": {
    "colab_type": "text",
    "id": "1dTPVmmsgOVx"
   },
   "source": [
    "### Verwende das Datum als Index\n",
    "\n",
    "While we did already parse the `datetime` column into the respective datetime type, it currently is just a regular column. \n",
    "**To enable quick and convenient queries and aggregations, we need to turn it into the index of the DataFrame**"
   ]
  },
  {
   "cell_type": "code",
   "execution_count": null,
   "metadata": {},
   "outputs": [],
   "source": [
    "data2betested = data2betested.set_index(\"StichtagDatJahr\") \n",
    "data2betested = data2betested.sort_index()"
   ]
  },
  {
   "cell_type": "code",
   "execution_count": null,
   "metadata": {},
   "outputs": [
    {
     "data": {
      "text/plain": [
       "Index([1993, 1994, 1995, 1996, 1997, 1998, 1999, 2000, 2001, 2002, 2003, 2004, 2005, 2006, 2007,\n",
       "       2008, 2009, 2010, 2011, 2012, 2013, 2014, 2015, 2016, 2017, 2018, 2019, 2020, 2021, 2022],\n",
       "      dtype='int32', name='StichtagDatJahr')"
      ]
     },
     "execution_count": 29,
     "metadata": {},
     "output_type": "execute_result"
    }
   ],
   "source": [
    "data2betested.index.year.unique()"
   ]
  },
  {
   "cell_type": "markdown",
   "metadata": {},
   "source": [
    "### Beschreibe einzelne Attribute"
   ]
  },
  {
   "cell_type": "markdown",
   "metadata": {},
   "source": [
    "Beschreibe nicht numerische Attribute"
   ]
  },
  {
   "cell_type": "code",
   "execution_count": null,
   "metadata": {},
   "outputs": [
    {
     "name": "stdout",
     "output_type": "stream",
     "text": [
      "No categorical data in dataset.\n"
     ]
    }
   ],
   "source": [
    "# describe non-numerical features\n",
    "try:\n",
    "    with pd.option_context('display.float_format', '{:,.2f}'.format):\n",
    "        display(data2betested.describe(exclude='number',datetime_is_numeric=True))\n",
    "except:\n",
    "    print(\"No categorical data in dataset.\")"
   ]
  },
  {
   "cell_type": "markdown",
   "metadata": {},
   "source": [
    "Beschreibe numerische Attribute"
   ]
  },
  {
   "cell_type": "code",
   "execution_count": null,
   "metadata": {},
   "outputs": [
    {
     "data": {
      "text/html": [
       "<div>\n",
       "<style scoped>\n",
       "    .dataframe tbody tr th:only-of-type {\n",
       "        vertical-align: middle;\n",
       "    }\n",
       "\n",
       "    .dataframe tbody tr th {\n",
       "        vertical-align: top;\n",
       "    }\n",
       "\n",
       "    .dataframe thead th {\n",
       "        text-align: right;\n",
       "    }\n",
       "</style>\n",
       "<table border=\"1\" class=\"dataframe\">\n",
       "  <thead>\n",
       "    <tr style=\"text-align: right;\">\n",
       "      <th></th>\n",
       "      <th>BEW</th>\n",
       "      <th>Jahr</th>\n",
       "      <th>RAUM_my_sort</th>\n",
       "    </tr>\n",
       "  </thead>\n",
       "  <tbody>\n",
       "    <tr>\n",
       "      <th>count</th>\n",
       "      <td>562,329</td>\n",
       "      <td>562,329</td>\n",
       "      <td>562,329</td>\n",
       "    </tr>\n",
       "    <tr>\n",
       "      <th>mean</th>\n",
       "      <td>21</td>\n",
       "      <td>2,008</td>\n",
       "      <td>67</td>\n",
       "    </tr>\n",
       "    <tr>\n",
       "      <th>std</th>\n",
       "      <td>31</td>\n",
       "      <td>9</td>\n",
       "      <td>35</td>\n",
       "    </tr>\n",
       "    <tr>\n",
       "      <th>min</th>\n",
       "      <td>0</td>\n",
       "      <td>1,993</td>\n",
       "      <td>11</td>\n",
       "    </tr>\n",
       "    <tr>\n",
       "      <th>25%</th>\n",
       "      <td>3</td>\n",
       "      <td>2,000</td>\n",
       "      <td>34</td>\n",
       "    </tr>\n",
       "    <tr>\n",
       "      <th>50%</th>\n",
       "      <td>9</td>\n",
       "      <td>2,008</td>\n",
       "      <td>71</td>\n",
       "    </tr>\n",
       "    <tr>\n",
       "      <th>75%</th>\n",
       "      <td>25</td>\n",
       "      <td>2,015</td>\n",
       "      <td>101</td>\n",
       "    </tr>\n",
       "    <tr>\n",
       "      <th>max</th>\n",
       "      <td>379</td>\n",
       "      <td>2,022</td>\n",
       "      <td>123</td>\n",
       "    </tr>\n",
       "  </tbody>\n",
       "</table>\n",
       "</div>"
      ],
      "text/plain": [
       "          BEW    Jahr  RAUM_my_sort\n",
       "count 562,329 562,329       562,329\n",
       "mean       21   2,008            67\n",
       "std        31       9            35\n",
       "min         0   1,993            11\n",
       "25%         3   2,000            34\n",
       "50%         9   2,008            71\n",
       "75%        25   2,015           101\n",
       "max       379   2,022           123"
      ]
     },
     "metadata": {},
     "output_type": "display_data"
    }
   ],
   "source": [
    "# describe numerical features\n",
    "try:\n",
    "    with pd.option_context('display.float_format', '{:,.0f}'.format):\n",
    "        display(data2betested.describe(include='number'))\n",
    "except:\n",
    "    print(\"No numercial data in dataset.\")"
   ]
  },
  {
   "cell_type": "code",
   "execution_count": null,
   "metadata": {},
   "outputs": [
    {
     "data": {
      "image/png": "[encoded data removed]",
      "text/plain": [
       "<Figure size 1800x600 with 4 Axes>"
      ]
     },
     "metadata": {},
     "output_type": "display_data"
    }
   ],
   "source": [
    "plt.style.use('ggplot')\n",
    "params = {\n",
    "    'text.color': (0.25, 0.25, 0.25),\n",
    "    'figure.figsize': [18, 6],\n",
    "   }\n",
    "plt.rcParams.update(params)\n",
    "\n",
    "try:\n",
    "    data2betested.hist(bins=25, rwidth=0.9)\n",
    "    plt.tight_layout()\n",
    "    plt.show()\n",
    "except:\n",
    "    print(\"No numercial data to plot.\") "
   ]
  },
  {
   "cell_type": "markdown",
   "metadata": {},
   "source": [
    "### Gibt es Duplikate?"
   ]
  },
  {
   "cell_type": "code",
   "execution_count": null,
   "metadata": {},
   "outputs": [
    {
     "data": {
      "text/html": [
       "<div>\n",
       "<style scoped>\n",
       "    .dataframe tbody tr th:only-of-type {\n",
       "        vertical-align: middle;\n",
       "    }\n",
       "\n",
       "    .dataframe tbody tr th {\n",
       "        vertical-align: top;\n",
       "    }\n",
       "\n",
       "    .dataframe thead th {\n",
       "        text-align: right;\n",
       "    }\n",
       "</style>\n",
       "<table border=\"1\" class=\"dataframe\">\n",
       "  <thead>\n",
       "    <tr style=\"text-align: right;\">\n",
       "      <th></th>\n",
       "      <th>ZEIT_LANG</th>\n",
       "      <th>ZEIT_CODE</th>\n",
       "      <th>RAUM_LANG</th>\n",
       "      <th>RAUM_CODE</th>\n",
       "      <th>ALT_LANG</th>\n",
       "      <th>ALT_CODE</th>\n",
       "      <th>SEX_LANG</th>\n",
       "      <th>...</th>\n",
       "      <th>ZIV_CODE</th>\n",
       "      <th>BEW</th>\n",
       "      <th>KREISEZH_LANG</th>\n",
       "      <th>KREISEZH_CODE</th>\n",
       "      <th>StichtagDatJahr_str</th>\n",
       "      <th>Jahr</th>\n",
       "      <th>RAUM_my_sort</th>\n",
       "    </tr>\n",
       "    <tr>\n",
       "      <th>StichtagDatJahr</th>\n",
       "      <th></th>\n",
       "      <th></th>\n",
       "      <th></th>\n",
       "      <th></th>\n",
       "      <th></th>\n",
       "      <th></th>\n",
       "      <th></th>\n",
       "      <th></th>\n",
       "      <th></th>\n",
       "      <th></th>\n",
       "      <th></th>\n",
       "      <th></th>\n",
       "      <th></th>\n",
       "      <th></th>\n",
       "      <th></th>\n",
       "    </tr>\n",
       "  </thead>\n",
       "  <tbody>\n",
       "  </tbody>\n",
       "</table>\n",
       "<p>0 rows × 16 columns</p>\n",
       "</div>"
      ],
      "text/plain": [
       "Empty DataFrame\n",
       "Columns: [ZEIT_LANG, ZEIT_CODE, RAUM_LANG, RAUM_CODE, ALT_LANG, ALT_CODE, SEX_LANG, SEX_CODE, ZIV_LANG, ZIV_CODE, BEW, KREISEZH_LANG, KREISEZH_CODE, StichtagDatJahr_str, Jahr, RAUM_my_sort]\n",
       "Index: []\n",
       "\n",
       "[0 rows x 16 columns]"
      ]
     },
     "execution_count": 33,
     "metadata": {},
     "output_type": "execute_result"
    }
   ],
   "source": [
    "# find duplicate rows\n",
    "duplicate_rows = data2betested[data2betested.duplicated()]\n",
    "duplicate_rows"
   ]
  },
  {
   "cell_type": "markdown",
   "metadata": {},
   "source": [
    "### Nullwerte und Missings?"
   ]
  },
  {
   "cell_type": "code",
   "execution_count": null,
   "metadata": {},
   "outputs": [
    {
     "data": {
      "text/plain": [
       "ZEIT_LANG              0\n",
       "ZEIT_CODE              0\n",
       "RAUM_LANG              0\n",
       "RAUM_CODE              0\n",
       "ALT_LANG               0\n",
       "ALT_CODE               0\n",
       "SEX_LANG               0\n",
       "SEX_CODE               0\n",
       "ZIV_LANG               0\n",
       "ZIV_CODE               0\n",
       "BEW                    0\n",
       "KREISEZH_LANG          0\n",
       "KREISEZH_CODE          0\n",
       "StichtagDatJahr_str    0\n",
       "Jahr                   0\n",
       "RAUM_my_sort           0\n",
       "dtype: int64"
      ]
     },
     "execution_count": 34,
     "metadata": {},
     "output_type": "execute_result"
    }
   ],
   "source": [
    "data2betested.isnull().sum()"
   ]
  },
  {
   "cell_type": "code",
   "execution_count": null,
   "metadata": {},
   "outputs": [],
   "source": [
    "# check missing values with missingno\n",
    "# https://github.com/ResidentMario/missingno\n",
    "import missingno as msno\n",
    "#msno.matrix(data2betested, labels=True, sort='descending');\n",
    "#msno.heatmap(data2betested)"
   ]
  },
  {
   "cell_type": "markdown",
   "metadata": {},
   "source": [
    "### Gruppierungen"
   ]
  },
  {
   "cell_type": "code",
   "execution_count": null,
   "metadata": {},
   "outputs": [
    {
     "data": {
      "text/html": [
       "<div>\n",
       "<style scoped>\n",
       "    .dataframe tbody tr th:only-of-type {\n",
       "        vertical-align: middle;\n",
       "    }\n",
       "\n",
       "    .dataframe tbody tr th {\n",
       "        vertical-align: top;\n",
       "    }\n",
       "\n",
       "    .dataframe thead th {\n",
       "        text-align: right;\n",
       "    }\n",
       "</style>\n",
       "<table border=\"1\" class=\"dataframe\">\n",
       "  <thead>\n",
       "    <tr style=\"text-align: right;\">\n",
       "      <th></th>\n",
       "      <th>Jahr</th>\n",
       "      <th>sum_AnzBestWir</th>\n",
       "    </tr>\n",
       "  </thead>\n",
       "  <tbody>\n",
       "    <tr>\n",
       "      <th>0</th>\n",
       "      <td>2022</td>\n",
       "      <td>443037</td>\n",
       "    </tr>\n",
       "    <tr>\n",
       "      <th>1</th>\n",
       "      <td>2021</td>\n",
       "      <td>436332</td>\n",
       "    </tr>\n",
       "    <tr>\n",
       "      <th>2</th>\n",
       "      <td>2020</td>\n",
       "      <td>434736</td>\n",
       "    </tr>\n",
       "  </tbody>\n",
       "</table>\n",
       "</div>"
      ],
      "text/plain": [
       "   Jahr  sum_AnzBestWir\n",
       "0  2022          443037\n",
       "1  2021          436332\n",
       "2  2020          434736"
      ]
     },
     "execution_count": 36,
     "metadata": {},
     "output_type": "execute_result"
    }
   ],
   "source": [
    "agg_jahr = data2betested.loc[data_min_date:data_max_date]\\\n",
    "    .groupby(['Jahr']) \\\n",
    "    .agg(sum_AnzBestWir=('BEW', 'sum')) \\\n",
    "    .sort_values('Jahr', ascending=False) \n",
    "agg_jahr.reset_index().head(3)"
   ]
  },
  {
   "cell_type": "code",
   "execution_count": null,
   "metadata": {},
   "outputs": [
    {
     "data": {
      "text/html": [
       "<div>\n",
       "<style scoped>\n",
       "    .dataframe tbody tr th:only-of-type {\n",
       "        vertical-align: middle;\n",
       "    }\n",
       "\n",
       "    .dataframe tbody tr th {\n",
       "        vertical-align: top;\n",
       "    }\n",
       "\n",
       "    .dataframe thead th {\n",
       "        text-align: right;\n",
       "    }\n",
       "</style>\n",
       "<table border=\"1\" class=\"dataframe\">\n",
       "  <thead>\n",
       "    <tr style=\"text-align: right;\">\n",
       "      <th></th>\n",
       "      <th>RAUM_my_sort</th>\n",
       "      <th>ZEIT_LANG</th>\n",
       "      <th>RAUM_CODE</th>\n",
       "      <th>sum_AnzBestWir</th>\n",
       "    </tr>\n",
       "  </thead>\n",
       "  <tbody>\n",
       "    <tr>\n",
       "      <th>0</th>\n",
       "      <td>123</td>\n",
       "      <td>2022-12-31</td>\n",
       "      <td>R00123</td>\n",
       "      <td>12920</td>\n",
       "    </tr>\n",
       "    <tr>\n",
       "      <th>1</th>\n",
       "      <td>123</td>\n",
       "      <td>2007-12-31</td>\n",
       "      <td>R00123</td>\n",
       "      <td>11343</td>\n",
       "    </tr>\n",
       "    <tr>\n",
       "      <th>2</th>\n",
       "      <td>123</td>\n",
       "      <td>1993-12-31</td>\n",
       "      <td>R00123</td>\n",
       "      <td>10834</td>\n",
       "    </tr>\n",
       "    <tr>\n",
       "      <th>3</th>\n",
       "      <td>123</td>\n",
       "      <td>1994-12-31</td>\n",
       "      <td>R00123</td>\n",
       "      <td>10895</td>\n",
       "    </tr>\n",
       "    <tr>\n",
       "      <th>4</th>\n",
       "      <td>123</td>\n",
       "      <td>1995-12-31</td>\n",
       "      <td>R00123</td>\n",
       "      <td>10995</td>\n",
       "    </tr>\n",
       "    <tr>\n",
       "      <th>5</th>\n",
       "      <td>123</td>\n",
       "      <td>1996-12-31</td>\n",
       "      <td>R00123</td>\n",
       "      <td>10990</td>\n",
       "    </tr>\n",
       "    <tr>\n",
       "      <th>6</th>\n",
       "      <td>123</td>\n",
       "      <td>1997-12-31</td>\n",
       "      <td>R00123</td>\n",
       "      <td>11013</td>\n",
       "    </tr>\n",
       "    <tr>\n",
       "      <th>7</th>\n",
       "      <td>123</td>\n",
       "      <td>1998-12-31</td>\n",
       "      <td>R00123</td>\n",
       "      <td>11015</td>\n",
       "    </tr>\n",
       "    <tr>\n",
       "      <th>8</th>\n",
       "      <td>123</td>\n",
       "      <td>1999-12-31</td>\n",
       "      <td>R00123</td>\n",
       "      <td>11119</td>\n",
       "    </tr>\n",
       "    <tr>\n",
       "      <th>9</th>\n",
       "      <td>123</td>\n",
       "      <td>2000-12-31</td>\n",
       "      <td>R00123</td>\n",
       "      <td>11281</td>\n",
       "    </tr>\n",
       "    <tr>\n",
       "      <th>10</th>\n",
       "      <td>123</td>\n",
       "      <td>2002-12-31</td>\n",
       "      <td>R00123</td>\n",
       "      <td>11434</td>\n",
       "    </tr>\n",
       "    <tr>\n",
       "      <th>11</th>\n",
       "      <td>123</td>\n",
       "      <td>2003-12-31</td>\n",
       "      <td>R00123</td>\n",
       "      <td>11432</td>\n",
       "    </tr>\n",
       "    <tr>\n",
       "      <th>12</th>\n",
       "      <td>123</td>\n",
       "      <td>2004-12-31</td>\n",
       "      <td>R00123</td>\n",
       "      <td>11336</td>\n",
       "    </tr>\n",
       "    <tr>\n",
       "      <th>13</th>\n",
       "      <td>123</td>\n",
       "      <td>2005-12-31</td>\n",
       "      <td>R00123</td>\n",
       "      <td>11265</td>\n",
       "    </tr>\n",
       "    <tr>\n",
       "      <th>14</th>\n",
       "      <td>123</td>\n",
       "      <td>2006-12-31</td>\n",
       "      <td>R00123</td>\n",
       "      <td>11205</td>\n",
       "    </tr>\n",
       "    <tr>\n",
       "      <th>15</th>\n",
       "      <td>123</td>\n",
       "      <td>2001-12-31</td>\n",
       "      <td>R00123</td>\n",
       "      <td>11302</td>\n",
       "    </tr>\n",
       "    <tr>\n",
       "      <th>16</th>\n",
       "      <td>123</td>\n",
       "      <td>2008-12-31</td>\n",
       "      <td>R00123</td>\n",
       "      <td>11478</td>\n",
       "    </tr>\n",
       "    <tr>\n",
       "      <th>17</th>\n",
       "      <td>123</td>\n",
       "      <td>2015-12-31</td>\n",
       "      <td>R00123</td>\n",
       "      <td>11930</td>\n",
       "    </tr>\n",
       "    <tr>\n",
       "      <th>18</th>\n",
       "      <td>123</td>\n",
       "      <td>2009-12-31</td>\n",
       "      <td>R00123</td>\n",
       "      <td>11610</td>\n",
       "    </tr>\n",
       "    <tr>\n",
       "      <th>19</th>\n",
       "      <td>123</td>\n",
       "      <td>2020-12-31</td>\n",
       "      <td>R00123</td>\n",
       "      <td>12963</td>\n",
       "    </tr>\n",
       "    <tr>\n",
       "      <th>20</th>\n",
       "      <td>123</td>\n",
       "      <td>2019-12-31</td>\n",
       "      <td>R00123</td>\n",
       "      <td>13129</td>\n",
       "    </tr>\n",
       "    <tr>\n",
       "      <th>21</th>\n",
       "      <td>123</td>\n",
       "      <td>2018-12-31</td>\n",
       "      <td>R00123</td>\n",
       "      <td>12801</td>\n",
       "    </tr>\n",
       "    <tr>\n",
       "      <th>22</th>\n",
       "      <td>123</td>\n",
       "      <td>2017-12-31</td>\n",
       "      <td>R00123</td>\n",
       "      <td>12627</td>\n",
       "    </tr>\n",
       "    <tr>\n",
       "      <th>23</th>\n",
       "      <td>123</td>\n",
       "      <td>2016-12-31</td>\n",
       "      <td>R00123</td>\n",
       "      <td>12463</td>\n",
       "    </tr>\n",
       "    <tr>\n",
       "      <th>24</th>\n",
       "      <td>123</td>\n",
       "      <td>2021-12-31</td>\n",
       "      <td>R00123</td>\n",
       "      <td>12891</td>\n",
       "    </tr>\n",
       "    <tr>\n",
       "      <th>25</th>\n",
       "      <td>123</td>\n",
       "      <td>2014-12-31</td>\n",
       "      <td>R00123</td>\n",
       "      <td>11679</td>\n",
       "    </tr>\n",
       "    <tr>\n",
       "      <th>26</th>\n",
       "      <td>123</td>\n",
       "      <td>2013-12-31</td>\n",
       "      <td>R00123</td>\n",
       "      <td>11153</td>\n",
       "    </tr>\n",
       "    <tr>\n",
       "      <th>27</th>\n",
       "      <td>123</td>\n",
       "      <td>2012-12-31</td>\n",
       "      <td>R00123</td>\n",
       "      <td>11404</td>\n",
       "    </tr>\n",
       "    <tr>\n",
       "      <th>28</th>\n",
       "      <td>123</td>\n",
       "      <td>2011-12-31</td>\n",
       "      <td>R00123</td>\n",
       "      <td>11516</td>\n",
       "    </tr>\n",
       "    <tr>\n",
       "      <th>29</th>\n",
       "      <td>123</td>\n",
       "      <td>2010-12-31</td>\n",
       "      <td>R00123</td>\n",
       "      <td>11459</td>\n",
       "    </tr>\n",
       "    <tr>\n",
       "      <th>30</th>\n",
       "      <td>122</td>\n",
       "      <td>1999-12-31</td>\n",
       "      <td>R00122</td>\n",
       "      <td>10390</td>\n",
       "    </tr>\n",
       "    <tr>\n",
       "      <th>31</th>\n",
       "      <td>122</td>\n",
       "      <td>2005-12-31</td>\n",
       "      <td>R00122</td>\n",
       "      <td>10322</td>\n",
       "    </tr>\n",
       "    <tr>\n",
       "      <th>32</th>\n",
       "      <td>122</td>\n",
       "      <td>2004-12-31</td>\n",
       "      <td>R00122</td>\n",
       "      <td>10274</td>\n",
       "    </tr>\n",
       "    <tr>\n",
       "      <th>33</th>\n",
       "      <td>122</td>\n",
       "      <td>2003-12-31</td>\n",
       "      <td>R00122</td>\n",
       "      <td>10389</td>\n",
       "    </tr>\n",
       "    <tr>\n",
       "      <th>34</th>\n",
       "      <td>122</td>\n",
       "      <td>2002-12-31</td>\n",
       "      <td>R00122</td>\n",
       "      <td>10373</td>\n",
       "    </tr>\n",
       "    <tr>\n",
       "      <th>35</th>\n",
       "      <td>122</td>\n",
       "      <td>2001-12-31</td>\n",
       "      <td>R00122</td>\n",
       "      <td>10430</td>\n",
       "    </tr>\n",
       "    <tr>\n",
       "      <th>36</th>\n",
       "      <td>122</td>\n",
       "      <td>2000-12-31</td>\n",
       "      <td>R00122</td>\n",
       "      <td>10479</td>\n",
       "    </tr>\n",
       "    <tr>\n",
       "      <th>37</th>\n",
       "      <td>122</td>\n",
       "      <td>1997-12-31</td>\n",
       "      <td>R00122</td>\n",
       "      <td>10237</td>\n",
       "    </tr>\n",
       "    <tr>\n",
       "      <th>38</th>\n",
       "      <td>122</td>\n",
       "      <td>1998-12-31</td>\n",
       "      <td>R00122</td>\n",
       "      <td>10174</td>\n",
       "    </tr>\n",
       "    <tr>\n",
       "      <th>39</th>\n",
       "      <td>122</td>\n",
       "      <td>2007-12-31</td>\n",
       "      <td>R00122</td>\n",
       "      <td>10806</td>\n",
       "    </tr>\n",
       "    <tr>\n",
       "      <th>40</th>\n",
       "      <td>122</td>\n",
       "      <td>1996-12-31</td>\n",
       "      <td>R00122</td>\n",
       "      <td>10141</td>\n",
       "    </tr>\n",
       "    <tr>\n",
       "      <th>41</th>\n",
       "      <td>122</td>\n",
       "      <td>1995-12-31</td>\n",
       "      <td>R00122</td>\n",
       "      <td>10248</td>\n",
       "    </tr>\n",
       "    <tr>\n",
       "      <th>42</th>\n",
       "      <td>122</td>\n",
       "      <td>1994-12-31</td>\n",
       "      <td>R00122</td>\n",
       "      <td>10240</td>\n",
       "    </tr>\n",
       "    <tr>\n",
       "      <th>43</th>\n",
       "      <td>122</td>\n",
       "      <td>1993-12-31</td>\n",
       "      <td>R00122</td>\n",
       "      <td>10175</td>\n",
       "    </tr>\n",
       "    <tr>\n",
       "      <th>44</th>\n",
       "      <td>122</td>\n",
       "      <td>2006-12-31</td>\n",
       "      <td>R00122</td>\n",
       "      <td>10637</td>\n",
       "    </tr>\n",
       "    <tr>\n",
       "      <th>45</th>\n",
       "      <td>122</td>\n",
       "      <td>2016-12-31</td>\n",
       "      <td>R00122</td>\n",
       "      <td>11076</td>\n",
       "    </tr>\n",
       "    <tr>\n",
       "      <th>46</th>\n",
       "      <td>122</td>\n",
       "      <td>2008-12-31</td>\n",
       "      <td>R00122</td>\n",
       "      <td>10864</td>\n",
       "    </tr>\n",
       "    <tr>\n",
       "      <th>47</th>\n",
       "      <td>122</td>\n",
       "      <td>2017-12-31</td>\n",
       "      <td>R00122</td>\n",
       "      <td>11012</td>\n",
       "    </tr>\n",
       "    <tr>\n",
       "      <th>48</th>\n",
       "      <td>122</td>\n",
       "      <td>2009-12-31</td>\n",
       "      <td>R00122</td>\n",
       "      <td>10857</td>\n",
       "    </tr>\n",
       "    <tr>\n",
       "      <th>49</th>\n",
       "      <td>122</td>\n",
       "      <td>2021-12-31</td>\n",
       "      <td>R00122</td>\n",
       "      <td>10975</td>\n",
       "    </tr>\n",
       "  </tbody>\n",
       "</table>\n",
       "</div>"
      ],
      "text/plain": [
       "    RAUM_my_sort  ZEIT_LANG RAUM_CODE  sum_AnzBestWir\n",
       "0            123 2022-12-31    R00123           12920\n",
       "1            123 2007-12-31    R00123           11343\n",
       "2            123 1993-12-31    R00123           10834\n",
       "3            123 1994-12-31    R00123           10895\n",
       "4            123 1995-12-31    R00123           10995\n",
       "5            123 1996-12-31    R00123           10990\n",
       "6            123 1997-12-31    R00123           11013\n",
       "7            123 1998-12-31    R00123           11015\n",
       "8            123 1999-12-31    R00123           11119\n",
       "9            123 2000-12-31    R00123           11281\n",
       "10           123 2002-12-31    R00123           11434\n",
       "11           123 2003-12-31    R00123           11432\n",
       "12           123 2004-12-31    R00123           11336\n",
       "13           123 2005-12-31    R00123           11265\n",
       "14           123 2006-12-31    R00123           11205\n",
       "15           123 2001-12-31    R00123           11302\n",
       "16           123 2008-12-31    R00123           11478\n",
       "17           123 2015-12-31    R00123           11930\n",
       "18           123 2009-12-31    R00123           11610\n",
       "19           123 2020-12-31    R00123           12963\n",
       "20           123 2019-12-31    R00123           13129\n",
       "21           123 2018-12-31    R00123           12801\n",
       "22           123 2017-12-31    R00123           12627\n",
       "23           123 2016-12-31    R00123           12463\n",
       "24           123 2021-12-31    R00123           12891\n",
       "25           123 2014-12-31    R00123           11679\n",
       "26           123 2013-12-31    R00123           11153\n",
       "27           123 2012-12-31    R00123           11404\n",
       "28           123 2011-12-31    R00123           11516\n",
       "29           123 2010-12-31    R00123           11459\n",
       "30           122 1999-12-31    R00122           10390\n",
       "31           122 2005-12-31    R00122           10322\n",
       "32           122 2004-12-31    R00122           10274\n",
       "33           122 2003-12-31    R00122           10389\n",
       "34           122 2002-12-31    R00122           10373\n",
       "35           122 2001-12-31    R00122           10430\n",
       "36           122 2000-12-31    R00122           10479\n",
       "37           122 1997-12-31    R00122           10237\n",
       "38           122 1998-12-31    R00122           10174\n",
       "39           122 2007-12-31    R00122           10806\n",
       "40           122 1996-12-31    R00122           10141\n",
       "41           122 1995-12-31    R00122           10248\n",
       "42           122 1994-12-31    R00122           10240\n",
       "43           122 1993-12-31    R00122           10175\n",
       "44           122 2006-12-31    R00122           10637\n",
       "45           122 2016-12-31    R00122           11076\n",
       "46           122 2008-12-31    R00122           10864\n",
       "47           122 2017-12-31    R00122           11012\n",
       "48           122 2009-12-31    R00122           10857\n",
       "49           122 2021-12-31    R00122           10975"
      ]
     },
     "execution_count": 37,
     "metadata": {},
     "output_type": "execute_result"
    }
   ],
   "source": [
    "agg_Quarts = data2betested.loc[data_min_date:data_max_date]\\\n",
    "    .groupby(['RAUM_my_sort', 'ZEIT_LANG', 'RAUM_CODE']) \\\n",
    "    .agg(sum_AnzBestWir=('BEW', 'sum')) \\\n",
    "    .sort_values('RAUM_CODE', ascending=False) \n",
    "agg_Quarts.reset_index().head(50)"
   ]
  },
  {
   "cell_type": "code",
   "execution_count": null,
   "metadata": {},
   "outputs": [
    {
     "data": {
      "text/html": [
       "<div>\n",
       "<style scoped>\n",
       "    .dataframe tbody tr th:only-of-type {\n",
       "        vertical-align: middle;\n",
       "    }\n",
       "\n",
       "    .dataframe tbody tr th {\n",
       "        vertical-align: top;\n",
       "    }\n",
       "\n",
       "    .dataframe thead th {\n",
       "        text-align: right;\n",
       "    }\n",
       "</style>\n",
       "<table border=\"1\" class=\"dataframe\">\n",
       "  <thead>\n",
       "    <tr style=\"text-align: right;\">\n",
       "      <th></th>\n",
       "      <th>ALT_LANG</th>\n",
       "      <th>ALT_CODE</th>\n",
       "      <th>sum_AnzBestWir</th>\n",
       "    </tr>\n",
       "  </thead>\n",
       "  <tbody>\n",
       "    <tr>\n",
       "      <th>0</th>\n",
       "      <td>111 Jahre alt</td>\n",
       "      <td>ALT0111</td>\n",
       "      <td>1</td>\n",
       "    </tr>\n",
       "    <tr>\n",
       "      <th>1</th>\n",
       "      <td>110 Jahre alt</td>\n",
       "      <td>ALT0110</td>\n",
       "      <td>0</td>\n",
       "    </tr>\n",
       "    <tr>\n",
       "      <th>2</th>\n",
       "      <td>109 Jahre alt</td>\n",
       "      <td>ALT0109</td>\n",
       "      <td>3</td>\n",
       "    </tr>\n",
       "    <tr>\n",
       "      <th>3</th>\n",
       "      <td>108 Jahre alt</td>\n",
       "      <td>ALT0108</td>\n",
       "      <td>5</td>\n",
       "    </tr>\n",
       "    <tr>\n",
       "      <th>4</th>\n",
       "      <td>107 Jahre alt</td>\n",
       "      <td>ALT0107</td>\n",
       "      <td>12</td>\n",
       "    </tr>\n",
       "    <tr>\n",
       "      <th>...</th>\n",
       "      <td>...</td>\n",
       "      <td>...</td>\n",
       "      <td>...</td>\n",
       "    </tr>\n",
       "    <tr>\n",
       "      <th>107</th>\n",
       "      <td>4 Jahre alt</td>\n",
       "      <td>ALT0004</td>\n",
       "      <td>102434</td>\n",
       "    </tr>\n",
       "    <tr>\n",
       "      <th>108</th>\n",
       "      <td>3 Jahre alt</td>\n",
       "      <td>ALT0003</td>\n",
       "      <td>106628</td>\n",
       "    </tr>\n",
       "    <tr>\n",
       "      <th>109</th>\n",
       "      <td>2 Jahre alt</td>\n",
       "      <td>ALT0002</td>\n",
       "      <td>111309</td>\n",
       "    </tr>\n",
       "    <tr>\n",
       "      <th>110</th>\n",
       "      <td>1 Jahr alt</td>\n",
       "      <td>ALT0001</td>\n",
       "      <td>117277</td>\n",
       "    </tr>\n",
       "    <tr>\n",
       "      <th>111</th>\n",
       "      <td>0 Jahre alt</td>\n",
       "      <td>ALT0000</td>\n",
       "      <td>121175</td>\n",
       "    </tr>\n",
       "  </tbody>\n",
       "</table>\n",
       "<p>112 rows × 3 columns</p>\n",
       "</div>"
      ],
      "text/plain": [
       "          ALT_LANG ALT_CODE  sum_AnzBestWir\n",
       "0    111 Jahre alt  ALT0111               1\n",
       "1    110 Jahre alt  ALT0110               0\n",
       "2    109 Jahre alt  ALT0109               3\n",
       "3    108 Jahre alt  ALT0108               5\n",
       "4    107 Jahre alt  ALT0107              12\n",
       "..             ...      ...             ...\n",
       "107    4 Jahre alt  ALT0004          102434\n",
       "108    3 Jahre alt  ALT0003          106628\n",
       "109    2 Jahre alt  ALT0002          111309\n",
       "110     1 Jahr alt  ALT0001          117277\n",
       "111    0 Jahre alt  ALT0000          121175\n",
       "\n",
       "[112 rows x 3 columns]"
      ]
     },
     "execution_count": 38,
     "metadata": {},
     "output_type": "execute_result"
    }
   ],
   "source": [
    "agg_Alt = data2betested.loc[data_min_date:data_max_date]\\\n",
    "    .groupby(['ALT_LANG', 'ALT_CODE',]) \\\n",
    "    .agg(sum_AnzBestWir=('BEW', 'sum')) \\\n",
    "    .sort_values('ALT_CODE', ascending=False) \n",
    "agg_Alt.reset_index()"
   ]
  },
  {
   "cell_type": "code",
   "execution_count": null,
   "metadata": {},
   "outputs": [
    {
     "data": {
      "text/html": [
       "<div>\n",
       "<style scoped>\n",
       "    .dataframe tbody tr th:only-of-type {\n",
       "        vertical-align: middle;\n",
       "    }\n",
       "\n",
       "    .dataframe tbody tr th {\n",
       "        vertical-align: top;\n",
       "    }\n",
       "\n",
       "    .dataframe thead th {\n",
       "        text-align: right;\n",
       "    }\n",
       "</style>\n",
       "<table border=\"1\" class=\"dataframe\">\n",
       "  <thead>\n",
       "    <tr style=\"text-align: right;\">\n",
       "      <th></th>\n",
       "      <th>SEX_LANG</th>\n",
       "      <th>SEX_CODE</th>\n",
       "      <th>sum_AnzBestWir</th>\n",
       "    </tr>\n",
       "  </thead>\n",
       "  <tbody>\n",
       "    <tr>\n",
       "      <th>0</th>\n",
       "      <td>weiblich</td>\n",
       "      <td>SEX0002</td>\n",
       "      <td>220721</td>\n",
       "    </tr>\n",
       "    <tr>\n",
       "      <th>1</th>\n",
       "      <td>männlich</td>\n",
       "      <td>SEX0001</td>\n",
       "      <td>222316</td>\n",
       "    </tr>\n",
       "  </tbody>\n",
       "</table>\n",
       "</div>"
      ],
      "text/plain": [
       "   SEX_LANG SEX_CODE  sum_AnzBestWir\n",
       "0  weiblich  SEX0002          220721\n",
       "1  männlich  SEX0001          222316"
      ]
     },
     "execution_count": 39,
     "metadata": {},
     "output_type": "execute_result"
    }
   ],
   "source": [
    "agg_Alt = data2betested.loc[data_max_date]\\\n",
    "    .groupby(['SEX_LANG','SEX_CODE',]) \\\n",
    "    .agg(sum_AnzBestWir=('BEW', 'sum')) \\\n",
    "    .sort_values('SEX_CODE', ascending=False) \n",
    "agg_Alt.reset_index()"
   ]
  },
  {
   "cell_type": "code",
   "execution_count": null,
   "metadata": {},
   "outputs": [
    {
     "data": {
      "text/html": [
       "<div>\n",
       "<style scoped>\n",
       "    .dataframe tbody tr th:only-of-type {\n",
       "        vertical-align: middle;\n",
       "    }\n",
       "\n",
       "    .dataframe tbody tr th {\n",
       "        vertical-align: top;\n",
       "    }\n",
       "\n",
       "    .dataframe thead th {\n",
       "        text-align: right;\n",
       "    }\n",
       "</style>\n",
       "<table border=\"1\" class=\"dataframe\">\n",
       "  <thead>\n",
       "    <tr style=\"text-align: right;\">\n",
       "      <th></th>\n",
       "      <th>ZIV_LANG</th>\n",
       "      <th>ZIV_CODE</th>\n",
       "      <th>sum_AnzBestWir</th>\n",
       "    </tr>\n",
       "  </thead>\n",
       "  <tbody>\n",
       "    <tr>\n",
       "      <th>0</th>\n",
       "      <td>Unbekannt</td>\n",
       "      <td>ZIV0099</td>\n",
       "      <td>84</td>\n",
       "    </tr>\n",
       "    <tr>\n",
       "      <th>1</th>\n",
       "      <td>Aufgelöste Partnerschaft</td>\n",
       "      <td>ZIV0007</td>\n",
       "      <td>543</td>\n",
       "    </tr>\n",
       "    <tr>\n",
       "      <th>2</th>\n",
       "      <td>In eingetragener Partnerschaft</td>\n",
       "      <td>ZIV0006</td>\n",
       "      <td>1880</td>\n",
       "    </tr>\n",
       "    <tr>\n",
       "      <th>3</th>\n",
       "      <td>Geschieden</td>\n",
       "      <td>ZIV0005</td>\n",
       "      <td>35853</td>\n",
       "    </tr>\n",
       "    <tr>\n",
       "      <th>4</th>\n",
       "      <td>Verwitwet</td>\n",
       "      <td>ZIV0004</td>\n",
       "      <td>13996</td>\n",
       "    </tr>\n",
       "    <tr>\n",
       "      <th>5</th>\n",
       "      <td>Verheiratet</td>\n",
       "      <td>ZIV0003</td>\n",
       "      <td>132504</td>\n",
       "    </tr>\n",
       "    <tr>\n",
       "      <th>6</th>\n",
       "      <td>Ledig</td>\n",
       "      <td>ZIV0001</td>\n",
       "      <td>258177</td>\n",
       "    </tr>\n",
       "  </tbody>\n",
       "</table>\n",
       "</div>"
      ],
      "text/plain": [
       "                         ZIV_LANG ZIV_CODE  sum_AnzBestWir\n",
       "0                       Unbekannt  ZIV0099              84\n",
       "1        Aufgelöste Partnerschaft  ZIV0007             543\n",
       "2  In eingetragener Partnerschaft  ZIV0006            1880\n",
       "3                      Geschieden  ZIV0005           35853\n",
       "4                       Verwitwet  ZIV0004           13996\n",
       "5                     Verheiratet  ZIV0003          132504\n",
       "6                           Ledig  ZIV0001          258177"
      ]
     },
     "execution_count": 40,
     "metadata": {},
     "output_type": "execute_result"
    }
   ],
   "source": [
    "agg_Ziv = data2betested.loc[data_max_date]\\\n",
    "    .groupby(['ZIV_LANG', 'ZIV_CODE',]) \\\n",
    "    .agg(sum_AnzBestWir=('BEW', 'sum')) \\\n",
    "    .sort_values('ZIV_CODE', ascending=False) \n",
    "agg_Ziv.reset_index()"
   ]
  },
  {
   "cell_type": "code",
   "execution_count": null,
   "metadata": {},
   "outputs": [
    {
     "data": {
      "text/html": [
       "<div>\n",
       "<style scoped>\n",
       "    .dataframe tbody tr th:only-of-type {\n",
       "        vertical-align: middle;\n",
       "    }\n",
       "\n",
       "    .dataframe tbody tr th {\n",
       "        vertical-align: top;\n",
       "    }\n",
       "\n",
       "    .dataframe thead th {\n",
       "        text-align: right;\n",
       "    }\n",
       "</style>\n",
       "<table border=\"1\" class=\"dataframe\">\n",
       "  <thead>\n",
       "    <tr style=\"text-align: right;\">\n",
       "      <th></th>\n",
       "      <th>KREISEZH_LANG</th>\n",
       "      <th>KREISEZH_CODE</th>\n",
       "      <th>sum_AnzBestWir</th>\n",
       "    </tr>\n",
       "  </thead>\n",
       "  <tbody>\n",
       "    <tr>\n",
       "      <th>0</th>\n",
       "      <td>Kreis 2 (ab 1893)</td>\n",
       "      <td>R00200</td>\n",
       "      <td>37049</td>\n",
       "    </tr>\n",
       "    <tr>\n",
       "      <th>1</th>\n",
       "      <td>Kreis 3 (ab 1915)</td>\n",
       "      <td>R00600</td>\n",
       "      <td>50582</td>\n",
       "    </tr>\n",
       "    <tr>\n",
       "      <th>2</th>\n",
       "      <td>Kreis 4 (ab 1915)</td>\n",
       "      <td>R00700</td>\n",
       "      <td>29672</td>\n",
       "    </tr>\n",
       "    <tr>\n",
       "      <th>3</th>\n",
       "      <td>Kreis 5 (ab 1915)</td>\n",
       "      <td>R00800</td>\n",
       "      <td>15888</td>\n",
       "    </tr>\n",
       "    <tr>\n",
       "      <th>4</th>\n",
       "      <td>Kreis 8 (ab 1915)</td>\n",
       "      <td>R01100</td>\n",
       "      <td>17814</td>\n",
       "    </tr>\n",
       "    <tr>\n",
       "      <th>5</th>\n",
       "      <td>Kreis 6 (ab 1934)</td>\n",
       "      <td>R01200</td>\n",
       "      <td>35862</td>\n",
       "    </tr>\n",
       "    <tr>\n",
       "      <th>6</th>\n",
       "      <td>Kreis 7 (ab 1934)</td>\n",
       "      <td>R01300</td>\n",
       "      <td>39301</td>\n",
       "    </tr>\n",
       "    <tr>\n",
       "      <th>7</th>\n",
       "      <td>Kreis 9 (ab 1934)</td>\n",
       "      <td>R01400</td>\n",
       "      <td>58517</td>\n",
       "    </tr>\n",
       "    <tr>\n",
       "      <th>8</th>\n",
       "      <td>Kreis 10 (ab 1934)</td>\n",
       "      <td>R01500</td>\n",
       "      <td>41505</td>\n",
       "    </tr>\n",
       "    <tr>\n",
       "      <th>9</th>\n",
       "      <td>altes Quartier Schwamendingen (1934-1969); Kre...</td>\n",
       "      <td>R01700</td>\n",
       "      <td>32953</td>\n",
       "    </tr>\n",
       "    <tr>\n",
       "      <th>10</th>\n",
       "      <td>Kreis 11 (ab 1970)</td>\n",
       "      <td>R01800</td>\n",
       "      <td>78034</td>\n",
       "    </tr>\n",
       "    <tr>\n",
       "      <th>11</th>\n",
       "      <td>Kreis 1 (Stadtgebiet vor 1893)</td>\n",
       "      <td>R10000</td>\n",
       "      <td>5860</td>\n",
       "    </tr>\n",
       "  </tbody>\n",
       "</table>\n",
       "</div>"
      ],
      "text/plain": [
       "                                        KREISEZH_LANG KREISEZH_CODE  sum_AnzBestWir\n",
       "0                                   Kreis 2 (ab 1893)        R00200           37049\n",
       "1                                   Kreis 3 (ab 1915)        R00600           50582\n",
       "2                                   Kreis 4 (ab 1915)        R00700           29672\n",
       "3                                   Kreis 5 (ab 1915)        R00800           15888\n",
       "4                                   Kreis 8 (ab 1915)        R01100           17814\n",
       "5                                   Kreis 6 (ab 1934)        R01200           35862\n",
       "6                                   Kreis 7 (ab 1934)        R01300           39301\n",
       "7                                   Kreis 9 (ab 1934)        R01400           58517\n",
       "8                                  Kreis 10 (ab 1934)        R01500           41505\n",
       "9   altes Quartier Schwamendingen (1934-1969); Kre...        R01700           32953\n",
       "10                                 Kreis 11 (ab 1970)        R01800           78034\n",
       "11                     Kreis 1 (Stadtgebiet vor 1893)        R10000            5860"
      ]
     },
     "execution_count": 41,
     "metadata": {},
     "output_type": "execute_result"
    }
   ],
   "source": [
    "agg_Kreise = data2betested.loc[data_max_date]\\\n",
    "    .groupby(['KREISEZH_LANG', 'KREISEZH_CODE']) \\\n",
    "    .agg(sum_AnzBestWir=('BEW', 'sum')) \\\n",
    "    .sort_values('KREISEZH_CODE', ascending=True) \n",
    "agg_Kreise.reset_index()"
   ]
  },
  {
   "cell_type": "markdown",
   "metadata": {},
   "source": [
    "### Zeitpunkte und Zeiträume abfragen\n",
    "\n",
    "A particular powerful feature of the Pandas DataFrame is its indexing capability that also works using time-based entities, such as dates and times. We have already created the index above, so let's put it to use."
   ]
  },
  {
   "cell_type": "code",
   "execution_count": null,
   "metadata": {},
   "outputs": [
    {
     "data": {
      "text/html": [
       "<div>\n",
       "<style scoped>\n",
       "    .dataframe tbody tr th:only-of-type {\n",
       "        vertical-align: middle;\n",
       "    }\n",
       "\n",
       "    .dataframe tbody tr th {\n",
       "        vertical-align: top;\n",
       "    }\n",
       "\n",
       "    .dataframe thead th {\n",
       "        text-align: right;\n",
       "    }\n",
       "</style>\n",
       "<table border=\"1\" class=\"dataframe\">\n",
       "  <thead>\n",
       "    <tr style=\"text-align: right;\">\n",
       "      <th></th>\n",
       "      <th>ZEIT_LANG</th>\n",
       "      <th>ZEIT_CODE</th>\n",
       "      <th>RAUM_LANG</th>\n",
       "      <th>RAUM_CODE</th>\n",
       "      <th>ALT_LANG</th>\n",
       "      <th>ALT_CODE</th>\n",
       "      <th>SEX_LANG</th>\n",
       "      <th>...</th>\n",
       "      <th>ZIV_CODE</th>\n",
       "      <th>BEW</th>\n",
       "      <th>KREISEZH_LANG</th>\n",
       "      <th>KREISEZH_CODE</th>\n",
       "      <th>StichtagDatJahr_str</th>\n",
       "      <th>Jahr</th>\n",
       "      <th>RAUM_my_sort</th>\n",
       "    </tr>\n",
       "    <tr>\n",
       "      <th>StichtagDatJahr</th>\n",
       "      <th></th>\n",
       "      <th></th>\n",
       "      <th></th>\n",
       "      <th></th>\n",
       "      <th></th>\n",
       "      <th></th>\n",
       "      <th></th>\n",
       "      <th></th>\n",
       "      <th></th>\n",
       "      <th></th>\n",
       "      <th></th>\n",
       "      <th></th>\n",
       "      <th></th>\n",
       "      <th></th>\n",
       "      <th></th>\n",
       "    </tr>\n",
       "  </thead>\n",
       "  <tbody>\n",
       "    <tr>\n",
       "      <th>2022-12-31</th>\n",
       "      <td>2022-12-31</td>\n",
       "      <td>Z31122022</td>\n",
       "      <td>Leimbach</td>\n",
       "      <td>R00023</td>\n",
       "      <td>97 Jahre alt</td>\n",
       "      <td>ALT0097</td>\n",
       "      <td>weiblich</td>\n",
       "      <td>...</td>\n",
       "      <td>ZIV0004</td>\n",
       "      <td>1</td>\n",
       "      <td>Kreis 2 (ab 1893)</td>\n",
       "      <td>R00200</td>\n",
       "      <td>2022-12-31</td>\n",
       "      <td>2022</td>\n",
       "      <td>23</td>\n",
       "    </tr>\n",
       "    <tr>\n",
       "      <th>2022-12-31</th>\n",
       "      <td>2022-12-31</td>\n",
       "      <td>Z31122022</td>\n",
       "      <td>Friesenberg</td>\n",
       "      <td>R00033</td>\n",
       "      <td>33 Jahre alt</td>\n",
       "      <td>ALT0033</td>\n",
       "      <td>männlich</td>\n",
       "      <td>...</td>\n",
       "      <td>ZIV0003</td>\n",
       "      <td>27</td>\n",
       "      <td>Kreis 3 (ab 1915)</td>\n",
       "      <td>R00600</td>\n",
       "      <td>2022-12-31</td>\n",
       "      <td>2022</td>\n",
       "      <td>33</td>\n",
       "    </tr>\n",
       "  </tbody>\n",
       "</table>\n",
       "<p>2 rows × 16 columns</p>\n",
       "</div>"
      ],
      "text/plain": [
       "                 ZEIT_LANG  ZEIT_CODE    RAUM_LANG RAUM_CODE      ALT_LANG ALT_CODE  SEX_LANG  \\\n",
       "StichtagDatJahr                                                                                 \n",
       "2022-12-31      2022-12-31  Z31122022     Leimbach    R00023  97 Jahre alt  ALT0097  weiblich   \n",
       "2022-12-31      2022-12-31  Z31122022  Friesenberg    R00033  33 Jahre alt  ALT0033  männlich   \n",
       "\n",
       "                 ... ZIV_CODE BEW      KREISEZH_LANG  KREISEZH_CODE StichtagDatJahr_str  Jahr  \\\n",
       "StichtagDatJahr  ...                                                                            \n",
       "2022-12-31       ...  ZIV0004   1  Kreis 2 (ab 1893)         R00200          2022-12-31  2022   \n",
       "2022-12-31       ...  ZIV0003  27  Kreis 3 (ab 1915)         R00600          2022-12-31  2022   \n",
       "\n",
       "                RAUM_my_sort  \n",
       "StichtagDatJahr               \n",
       "2022-12-31                23  \n",
       "2022-12-31                33  \n",
       "\n",
       "[2 rows x 16 columns]"
      ]
     },
     "execution_count": 42,
     "metadata": {},
     "output_type": "execute_result"
    }
   ],
   "source": [
    "data2betested.loc[data_max_date].head(2)\n",
    "#data2betested.loc[\"2021-10-31\":\"2021-11-30\"].head(2)"
   ]
  },
  {
   "cell_type": "markdown",
   "metadata": {},
   "source": [
    "### Visualisierungen nach Zeitausschnitten"
   ]
  },
  {
   "cell_type": "markdown",
   "metadata": {},
   "source": [
    "#### Entwicklung Wohnbevölkerung seit ..."
   ]
  },
  {
   "cell_type": "code",
   "execution_count": null,
   "metadata": {},
   "outputs": [
    {
     "data": {
      "text/plain": [
       "Index(['StichtagDatJahr', 'ZEIT_LANG', 'ZEIT_CODE', 'RAUM_LANG', 'RAUM_CODE', 'ALT_LANG',\n",
       "       'ALT_CODE', 'SEX_LANG', 'SEX_CODE', 'ZIV_LANG', 'ZIV_CODE', 'BEW', 'KREISEZH_LANG',\n",
       "       'KREISEZH_CODE', 'StichtagDatJahr_str', 'Jahr', 'RAUM_my_sort'],\n",
       "      dtype='object')"
      ]
     },
     "execution_count": 43,
     "metadata": {},
     "output_type": "execute_result"
    }
   ],
   "source": [
    "data2betested.reset_index().columns"
   ]
  },
  {
   "cell_type": "code",
   "execution_count": null,
   "metadata": {},
   "outputs": [
    {
     "data": {
      "text/html": [
       "<div>\n",
       "<style scoped>\n",
       "    .dataframe tbody tr th:only-of-type {\n",
       "        vertical-align: middle;\n",
       "    }\n",
       "\n",
       "    .dataframe tbody tr th {\n",
       "        vertical-align: top;\n",
       "    }\n",
       "\n",
       "    .dataframe thead th {\n",
       "        text-align: right;\n",
       "    }\n",
       "</style>\n",
       "<table border=\"1\" class=\"dataframe\">\n",
       "  <thead>\n",
       "    <tr style=\"text-align: right;\">\n",
       "      <th></th>\n",
       "      <th>StichtagDatJahr</th>\n",
       "      <th>sum_WBev</th>\n",
       "    </tr>\n",
       "  </thead>\n",
       "  <tbody>\n",
       "    <tr>\n",
       "      <th>26</th>\n",
       "      <td>1996-12-31</td>\n",
       "      <td>359648</td>\n",
       "    </tr>\n",
       "    <tr>\n",
       "      <th>27</th>\n",
       "      <td>1995-12-31</td>\n",
       "      <td>360826</td>\n",
       "    </tr>\n",
       "    <tr>\n",
       "      <th>28</th>\n",
       "      <td>1994-12-31</td>\n",
       "      <td>360848</td>\n",
       "    </tr>\n",
       "    <tr>\n",
       "      <th>29</th>\n",
       "      <td>1993-12-31</td>\n",
       "      <td>360898</td>\n",
       "    </tr>\n",
       "  </tbody>\n",
       "</table>\n",
       "</div>"
      ],
      "text/plain": [
       "   StichtagDatJahr  sum_WBev\n",
       "26      1996-12-31    359648\n",
       "27      1995-12-31    360826\n",
       "28      1994-12-31    360848\n",
       "29      1993-12-31    360898"
      ]
     },
     "execution_count": 44,
     "metadata": {},
     "output_type": "execute_result"
    }
   ],
   "source": [
    "myAgg1 = data2betested.loc[data_min_date:data_max_date]\\\n",
    "    .groupby(['StichtagDatJahr']) \\\n",
    "    .agg(sum_WBev=('BEW', 'sum')) \\\n",
    "    .sort_values('StichtagDatJahr', ascending=False) \n",
    "\n",
    "myAgg1.reset_index().tail(4)"
   ]
  },
  {
   "cell_type": "code",
   "execution_count": null,
   "metadata": {},
   "outputs": [],
   "source": [
    "grafik1 = mypy_dv.plot_altair_multiline_highlight(\n",
    "    data = myAgg1.reset_index().query('sum_WBev>3')\n",
    "    ,x = 'StichtagDatJahr:T'\n",
    "    ,x_beschriftung = 'Jahr'\n",
    "    ,y = 'sum_WBev:Q'\n",
    "    ,y_beschriftung = 'Anz. Personen'\n",
    "    ,category=''\n",
    "    ,category_beschriftung='Legend'\n",
    "    ,warning_status = \"always\" #always or ignore\n",
    "    ,myTitle=\"Bevölkerungsentwicklung, seit \"+str(data2betested.index.year.min())\n",
    ")"
   ]
  },
  {
   "cell_type": "code",
   "execution_count": null,
   "metadata": {},
   "outputs": [
    {
     "data": {
      "text/html": [
       "\n",
       "<style>\n",
       "  #altair-viz-e6480e16a1ae443388a7dd22075c5d2c.vega-embed {\n",
       "    width: 100%;\n",
       "    display: flex;\n",
       "  }\n",
       "\n",
       "  #altair-viz-e6480e16a1ae443388a7dd22075c5d2c.vega-embed details,\n",
       "  #altair-viz-e6480e16a1ae443388a7dd22075c5d2c.vega-embed details summary {\n",
       "    position: relative;\n",
       "  }\n",
       "</style>\n",
       "<div id=\"altair-viz-e6480e16a1ae443388a7dd22075c5d2c\"></div>\n",
       "<script type=\"text/javascript\">\n",
       "  var VEGA_DEBUG = (typeof VEGA_DEBUG == \"undefined\") ? {} : VEGA_DEBUG;\n",
       "  (function(spec, embedOpt){\n",
       "    let outputDiv = document.currentScript.previousElementSibling;\n",
       "    if (outputDiv.id !== \"altair-viz-e6480e16a1ae443388a7dd22075c5d2c\") {\n",
       "      outputDiv = document.getElementById(\"altair-viz-e6480e16a1ae443388a7dd22075c5d2c\");\n",
       "    }\n",
       "    const paths = {\n",
       "      \"vega\": \"https://cdn.jsdelivr.net/npm/vega@5?noext\",\n",
       "      \"vega-lib\": \"https://cdn.jsdelivr.net/npm/vega-lib?noext\",\n",
       "      \"vega-lite\": \"https://cdn.jsdelivr.net/npm/vega-lite@5.8.0?noext\",\n",
       "      \"vega-embed\": \"https://cdn.jsdelivr.net/npm/vega-embed@6?noext\",\n",
       "    };\n",
       "\n",
       "    function maybeLoadScript(lib, version) {\n",
       "      var key = `${lib.replace(\"-\", \"\")}_version`;\n",
       "      return (VEGA_DEBUG[key] == version) ?\n",
       "        Promise.resolve(paths[lib]) :\n",
       "        new Promise(function(resolve, reject) {\n",
       "          var s = document.createElement('script');\n",
       "          document.getElementsByTagName(\"head\")[0].appendChild(s);\n",
       "          s.async = true;\n",
       "          s.onload = () => {\n",
       "            VEGA_DEBUG[key] = version;\n",
       "            return resolve(paths[lib]);\n",
       "          };\n",
       "          s.onerror = () => reject(`Error loading script: ${paths[lib]}`);\n",
       "          s.src = paths[lib];\n",
       "        });\n",
       "    }\n",
       "\n",
       "    function showError(err) {\n",
       "      outputDiv.innerHTML = `<div class=\"error\" style=\"color:red;\">${err}</div>`;\n",
       "      throw err;\n",
       "    }\n",
       "\n",
       "    function displayChart(vegaEmbed) {\n",
       "      vegaEmbed(outputDiv, spec, embedOpt)\n",
       "        .catch(err => showError(`Javascript Error: ${err.message}<br>This usually means there's a typo in your chart specification. See the javascript console for the full traceback.`));\n",
       "    }\n",
       "\n",
       "    if(typeof define === \"function\" && define.amd) {\n",
       "      requirejs.config({paths});\n",
       "      require([\"vega-embed\"], displayChart, err => showError(`Error loading script: ${err.message}`));\n",
       "    } else {\n",
       "      maybeLoadScript(\"vega\", \"5\")\n",
       "        .then(() => maybeLoadScript(\"vega-lite\", \"5.8.0\"))\n",
       "        .then(() => maybeLoadScript(\"vega-embed\", \"6\"))\n",
       "        .catch(showError)\n",
       "        .then(() => displayChart(vegaEmbed));\n",
       "    }\n",
       "  })({\"config\": {\"view\": {\"continuousWidth\": 300, \"continuousHeight\": 300}}, \"layer\": [{\"mark\": {\"type\": \"circle\"}, \"encoding\": {\"opacity\": {\"value\": 1.3}, \"tooltip\": [{\"field\": \"StichtagDatJahr\", \"type\": \"temporal\"}, {\"field\": \"sum_WBev\", \"type\": \"quantitative\"}], \"x\": {\"axis\": {\"title\": \"Jahr\"}, \"field\": \"StichtagDatJahr\", \"type\": \"temporal\"}, \"y\": {\"axis\": {\"title\": \"Anz. Personen\"}, \"field\": \"sum_WBev\", \"type\": \"quantitative\"}}, \"name\": \"view_1\", \"title\": \"Bev\\u00f6lkerungsentwicklung, seit \"}, {\"mark\": {\"type\": \"line\"}, \"encoding\": {\"size\": {\"condition\": {\"test\": {\"not\": {\"param\": \"param_1\"}}, \"value\": 1.2}, \"value\": 3}, \"tooltip\": [{\"field\": \"StichtagDatJahr\", \"type\": \"temporal\"}, {\"field\": \"sum_WBev\", \"type\": \"quantitative\"}], \"x\": {\"axis\": {\"title\": \"Jahr\"}, \"field\": \"StichtagDatJahr\", \"type\": \"temporal\"}, \"y\": {\"axis\": {\"title\": \"Anz. Personen\"}, \"field\": \"sum_WBev\", \"type\": \"quantitative\"}}, \"title\": \"Bev\\u00f6lkerungsentwicklung, seit \"}], \"data\": {\"name\": \"data-b28e6f476b4c368d36637bbce2c6e776\"}, \"height\": 400, \"params\": [{\"name\": \"param_1\", \"select\": {\"type\": \"point\", \"fields\": [\"\"], \"nearest\": true, \"on\": \"pointerover\"}, \"views\": [\"view_1\"]}], \"width\": 750, \"$schema\": \"https://vega.github.io/schema/vega-lite/v5.8.0.json\", \"datasets\": {\"data-b28e6f476b4c368d36637bbce2c6e776\": [{\"StichtagDatJahr\": \"2022-12-31T00:00:00\", \"sum_WBev\": 443037.0}, {\"StichtagDatJahr\": \"2021-12-31T00:00:00\", \"sum_WBev\": 436332.0}, {\"StichtagDatJahr\": \"2020-12-31T00:00:00\", \"sum_WBev\": 434736.0}, {\"StichtagDatJahr\": \"2019-12-31T00:00:00\", \"sum_WBev\": 434008.0}, {\"StichtagDatJahr\": \"2018-12-31T00:00:00\", \"sum_WBev\": 428737.0}, {\"StichtagDatJahr\": \"2017-12-31T00:00:00\", \"sum_WBev\": 423310.0}, {\"StichtagDatJahr\": \"2016-12-31T00:00:00\", \"sum_WBev\": 415682.0}, {\"StichtagDatJahr\": \"2015-12-31T00:00:00\", \"sum_WBev\": 410404.0}, {\"StichtagDatJahr\": \"2014-12-31T00:00:00\", \"sum_WBev\": 404783.0}, {\"StichtagDatJahr\": \"2013-12-31T00:00:00\", \"sum_WBev\": 398575.0}, {\"StichtagDatJahr\": \"2012-12-31T00:00:00\", \"sum_WBev\": 394012.0}, {\"StichtagDatJahr\": \"2011-12-31T00:00:00\", \"sum_WBev\": 390082.0}, {\"StichtagDatJahr\": \"2010-12-31T00:00:00\", \"sum_WBev\": 385468.0}, {\"StichtagDatJahr\": \"2009-12-31T00:00:00\", \"sum_WBev\": 382906.0}, {\"StichtagDatJahr\": \"2008-12-31T00:00:00\", \"sum_WBev\": 380499.0}, {\"StichtagDatJahr\": \"2007-12-31T00:00:00\", \"sum_WBev\": 376815.0}, {\"StichtagDatJahr\": \"2006-12-31T00:00:00\", \"sum_WBev\": 370062.0}, {\"StichtagDatJahr\": \"2005-12-31T00:00:00\", \"sum_WBev\": 366809.0}, {\"StichtagDatJahr\": \"2004-12-31T00:00:00\", \"sum_WBev\": 364977.0}, {\"StichtagDatJahr\": \"2003-12-31T00:00:00\", \"sum_WBev\": 364528.0}, {\"StichtagDatJahr\": \"2002-12-31T00:00:00\", \"sum_WBev\": 364558.0}, {\"StichtagDatJahr\": \"2001-12-31T00:00:00\", \"sum_WBev\": 362042.0}, {\"StichtagDatJahr\": \"2000-12-31T00:00:00\", \"sum_WBev\": 360980.0}, {\"StichtagDatJahr\": \"1999-12-31T00:00:00\", \"sum_WBev\": 360704.0}, {\"StichtagDatJahr\": \"1998-12-31T00:00:00\", \"sum_WBev\": 359073.0}, {\"StichtagDatJahr\": \"1997-12-31T00:00:00\", \"sum_WBev\": 358594.0}, {\"StichtagDatJahr\": \"1996-12-31T00:00:00\", \"sum_WBev\": 359648.0}, {\"StichtagDatJahr\": \"1995-12-31T00:00:00\", \"sum_WBev\": 360826.0}, {\"StichtagDatJahr\": \"1994-12-31T00:00:00\", \"sum_WBev\": 360848.0}, {\"StichtagDatJahr\": \"1993-12-31T00:00:00\", \"sum_WBev\": 360898.0}]}}, {\"mode\": \"vega-lite\"});\n",
       "</script>"
      ],
      "text/plain": [
       "alt.LayerChart(...)"
      ]
     },
     "execution_count": 46,
     "metadata": {},
     "output_type": "execute_result"
    }
   ],
   "source": [
    "grafic_name = package_name+\"_alt1_total\"+date_today+\".png\"\n",
    "print('grafiken_testing/'+grafic_name)\n",
    "\n",
    "grafik1.save('grafiken_testing/'+grafic_name)"
   ]
  },
  {
   "cell_type": "markdown",
   "metadata": {
    "tags": []
   },
   "source": [
    "#### Entwicklung Wohnbevölkerung nach Stadtquartier seit ..."
   ]
  },
  {
   "cell_type": "code",
   "execution_count": null,
   "metadata": {},
   "outputs": [
    {
     "data": {
      "text/plain": [
       "Index(['ZEIT_LANG', 'ZEIT_CODE', 'RAUM_LANG', 'RAUM_CODE', 'ALT_LANG', 'ALT_CODE', 'SEX_LANG',\n",
       "       'SEX_CODE', 'ZIV_LANG', 'ZIV_CODE', 'BEW', 'KREISEZH_LANG', 'KREISEZH_CODE',\n",
       "       'StichtagDatJahr_str', 'Jahr', 'RAUM_my_sort'],\n",
       "      dtype='object')"
      ]
     },
     "execution_count": 47,
     "metadata": {},
     "output_type": "execute_result"
    }
   ],
   "source": [
    "data2betested.columns"
   ]
  },
  {
   "cell_type": "code",
   "execution_count": null,
   "metadata": {
    "tags": []
   },
   "outputs": [
    {
     "data": {
      "text/html": [
       "<div>\n",
       "<style scoped>\n",
       "    .dataframe tbody tr th:only-of-type {\n",
       "        vertical-align: middle;\n",
       "    }\n",
       "\n",
       "    .dataframe tbody tr th {\n",
       "        vertical-align: top;\n",
       "    }\n",
       "\n",
       "    .dataframe thead th {\n",
       "        text-align: right;\n",
       "    }\n",
       "</style>\n",
       "<table border=\"1\" class=\"dataframe\">\n",
       "  <thead>\n",
       "    <tr style=\"text-align: right;\">\n",
       "      <th></th>\n",
       "      <th>StichtagDatJahr</th>\n",
       "      <th>RAUM_LANG</th>\n",
       "      <th>RAUM_CODE</th>\n",
       "      <th>sum_WBev</th>\n",
       "    </tr>\n",
       "  </thead>\n",
       "  <tbody>\n",
       "    <tr>\n",
       "      <th>0</th>\n",
       "      <td>1993-12-31</td>\n",
       "      <td>Affoltern</td>\n",
       "      <td>R00111</td>\n",
       "      <td>18095</td>\n",
       "    </tr>\n",
       "    <tr>\n",
       "      <th>1</th>\n",
       "      <td>1993-12-31</td>\n",
       "      <td>Mühlebach</td>\n",
       "      <td>R00082</td>\n",
       "      <td>5694</td>\n",
       "    </tr>\n",
       "  </tbody>\n",
       "</table>\n",
       "</div>"
      ],
      "text/plain": [
       "  StichtagDatJahr  RAUM_LANG RAUM_CODE  sum_WBev\n",
       "0      1993-12-31  Affoltern    R00111     18095\n",
       "1      1993-12-31  Mühlebach    R00082      5694"
      ]
     },
     "execution_count": 48,
     "metadata": {},
     "output_type": "execute_result"
    }
   ],
   "source": [
    "#myAgg = data2betested.loc[\"2008-11-30\":\"2021-10-31\"]\n",
    "myAgg2 = data2betested.loc[data_min_date:data_max_date]\\\n",
    "    .groupby(['StichtagDatJahr', 'RAUM_LANG', 'RAUM_CODE']) \\\n",
    "    .agg(sum_WBev=('BEW', 'sum')) \\\n",
    "    .sort_values('StichtagDatJahr', ascending=True) \n",
    "\n",
    "myAgg2.reset_index().head(2)"
   ]
  },
  {
   "cell_type": "code",
   "execution_count": null,
   "metadata": {},
   "outputs": [],
   "source": [
    "grafik2 = mypy_dv.plot_altair_multiline_highlight(\n",
    "    data = myAgg2.reset_index().query('sum_WBev>30')\n",
    "    ,x = 'StichtagDatJahr:T'\n",
    "    ,x_beschriftung = 'Jahr'\n",
    "    ,y = 'sum_WBev:Q'\n",
    "    ,y_beschriftung = 'Anz. Personen'\n",
    "    ,category = \"RAUM_LANG:N\"\n",
    "    ,category_beschriftung= 'Stadtquartier:'\n",
    "    ,warning_status = \"ignore\" #always or ignore\n",
    "    ,myTitle=\"Bevölkerung nach Stadtquartier, seit \"+str(data2betested.index.year.min())\n",
    ")"
   ]
  },
  {
   "cell_type": "code",
   "execution_count": null,
   "metadata": {},
   "outputs": [
    {
     "data": {
      "text/html": [
       "\n",
       "<style>\n",
       "  #altair-viz-2ea3821ea50c45b9a2a44f2379b70822.vega-embed {\n",
       "    width: 100%;\n",
       "    display: flex;\n",
       "  }\n",
       "\n",
       "  #altair-viz-2ea3821ea50c45b9a2a44f2379b70822.vega-embed details,\n",
       "  #altair-viz-2ea3821ea50c45b9a2a44f2379b70822.vega-embed details summary {\n",
       "    position: relative;\n",
       "  }\n",
       "</style>\n",
       "<div id=\"altair-viz-2ea3821ea50c45b9a2a44f2379b70822\"></div>\n",
       "<script type=\"text/javascript\">\n",
       "  var VEGA_DEBUG = (typeof VEGA_DEBUG == \"undefined\") ? {} : VEGA_DEBUG;\n",
       "  (function(spec, embedOpt){\n",
       "    let outputDiv = document.currentScript.previousElementSibling;\n",
       "    if (outputDiv.id !== \"altair-viz-2ea3821ea50c45b9a2a44f2379b70822\") {\n",
       "      outputDiv = document.getElementById(\"altair-viz-2ea3821ea50c45b9a2a44f2379b70822\");\n",
       "    }\n",
       "    const paths = {\n",
       "      \"vega\": \"https://cdn.jsdelivr.net/npm/vega@5?noext\",\n",
       "      \"vega-lib\": \"https://cdn.jsdelivr.net/npm/vega-lib?noext\",\n",
       "      \"vega-lite\": \"https://cdn.jsdelivr.net/npm/vega-lite@5.8.0?noext\",\n",
       "      \"vega-embed\": \"https://cdn.jsdelivr.net/npm/vega-embed@6?noext\",\n",
       "    };\n",
       "\n",
       "    function maybeLoadScript(lib, version) {\n",
       "      var key = `${lib.replace(\"-\", \"\")}_version`;\n",
       "      return (VEGA_DEBUG[key] == version) ?\n",
       "        Promise.resolve(paths[lib]) :\n",
       "        new Promise(function(resolve, reject) {\n",
       "          var s = document.createElement('script');\n",
       "          document.getElementsByTagName(\"head\")[0].appendChild(s);\n",
       "          s.async = true;\n",
       "          s.onload = () => {\n",
       "            VEGA_DEBUG[key] = version;\n",
       "            return resolve(paths[lib]);\n",
       "          };\n",
       "          s.onerror = () => reject(`Error loading script: ${paths[lib]}`);\n",
       "          s.src = paths[lib];\n",
       "        });\n",
       "    }\n",
       "\n",
       "    function showError(err) {\n",
       "      outputDiv.innerHTML = `<div class=\"error\" style=\"color:red;\">${err}</div>`;\n",
       "      throw err;\n",
       "    }\n",
       "\n",
       "    function displayChart(vegaEmbed) {\n",
       "      vegaEmbed(outputDiv, spec, embedOpt)\n",
       "        .catch(err => showError(`Javascript Error: ${err.message}<br>This usually means there's a typo in your chart specification. See the javascript console for the full traceback.`));\n",
       "    }\n",
       "\n",
       "    if(typeof define === \"function\" && define.amd) {\n",
       "      requirejs.config({paths});\n",
       "      require([\"vega-embed\"], displayChart, err => showError(`Error loading script: ${err.message}`));\n",
       "    } else {\n",
       "      maybeLoadScript(\"vega\", \"5\")\n",
       "        .then(() => maybeLoadScript(\"vega-lite\", \"5.8.0\"))\n",
       "        .then(() => maybeLoadScript(\"vega-embed\", \"6\"))\n",
       "        .catch(showError)\n",
       "        .then(() => displayChart(vegaEmbed));\n",
       "    }\n",
       "  })({\"config\": {\"view\": {\"continuousWidth\": 300, \"continuousHeight\": 300}}, \"layer\": [{\"mark\": {\"type\": \"circle\"}, \"encoding\": {\"color\": {\"field\": \"RAUM_LANG\", \"legend\": {\"orient\": \"right\", \"title\": \"Stadtquartier:\"}, \"type\": \"nominal\"}, \"opacity\": {\"value\": 1.3}, \"tooltip\": [{\"field\": \"StichtagDatJahr\", \"type\": \"temporal\"}, {\"field\": \"RAUM_LANG\", \"type\": \"nominal\"}, {\"field\": \"sum_WBev\", \"type\": \"quantitative\"}], \"x\": {\"axis\": {\"title\": \"Jahr\"}, \"field\": \"StichtagDatJahr\", \"type\": \"temporal\"}, \"y\": {\"axis\": {\"title\": \"Anz. Personen\"}, \"field\": \"sum_WBev\", \"type\": \"quantitative\"}}, \"name\": \"view_2\", \"title\": \"Bev\\u00f6lkerung nach Stadtquartier, seit 1993\"}, {\"mark\": {\"type\": \"line\"}, \"encoding\": {\"color\": {\"field\": \"RAUM_LANG\", \"legend\": {\"orient\": \"right\", \"title\": \"Stadtquartier:\"}, \"type\": \"nominal\"}, \"size\": {\"condition\": {\"test\": {\"not\": {\"param\": \"param_2\"}}, \"value\": 1.2}, \"value\": 3}, \"tooltip\": [{\"field\": \"StichtagDatJahr\", \"type\": \"temporal\"}, {\"field\": \"RAUM_LANG\", \"type\": \"nominal\"}, {\"field\": \"sum_WBev\", \"type\": \"quantitative\"}], \"x\": {\"axis\": {\"title\": \"Jahr\"}, \"field\": \"StichtagDatJahr\", \"type\": \"temporal\"}, \"y\": {\"axis\": {\"title\": \"Anz. Personen\"}, \"field\": \"sum_WBev\", \"type\": \"quantitative\"}}, \"title\": \"Bev\\u00f6lkerung nach Stadtquartier, seit 1993\"}], \"data\": {\"name\": \"data-6b3e0f1b3dec4e7d64a589850b7b8ffa\"}, \"height\": 400, \"params\": [{\"name\": \"param_2\", \"select\": {\"type\": \"point\", \"fields\": [\"RAUM_LANG:N\"], \"nearest\": true, \"on\": \"pointerover\"}, \"views\": [\"view_2\"]}], \"width\": 750, \"$schema\": \"https://vega.github.io/schema/vega-lite/v5.8.0.json\", \"datasets\": {\"data-6b3e0f1b3dec4e7d64a589850b7b8ffa\": [{\"StichtagDatJahr\": \"1993-12-31T00:00:00\", \"RAUM_LANG\": \"Affoltern\", \"RAUM_CODE\": \"R00111\", \"sum_WBev\": 18095.0}, {\"StichtagDatJahr\": \"1993-12-31T00:00:00\", \"RAUM_LANG\": \"M\\u00fchlebach\", \"RAUM_CODE\": \"R00082\", \"sum_WBev\": 5694.0}, {\"StichtagDatJahr\": \"1993-12-31T00:00:00\", \"RAUM_LANG\": \"Oberstrass\", \"RAUM_CODE\": \"R00063\", \"sum_WBev\": 10154.0}, {\"StichtagDatJahr\": \"1993-12-31T00:00:00\", \"RAUM_LANG\": \"Oerlikon\", \"RAUM_CODE\": \"R00115\", \"sum_WBev\": 16710.0}, {\"StichtagDatJahr\": \"1993-12-31T00:00:00\", \"RAUM_LANG\": \"Rathaus\", \"RAUM_CODE\": \"R00011\", \"sum_WBev\": 3133.0}, {\"StichtagDatJahr\": \"1993-12-31T00:00:00\", \"RAUM_LANG\": \"Saatlen\", \"RAUM_CODE\": \"R00121\", \"sum_WBev\": 6472.0}, {\"StichtagDatJahr\": \"1993-12-31T00:00:00\", \"RAUM_LANG\": \"Seebach\", \"RAUM_CODE\": \"R00119\", \"sum_WBev\": 17614.0}, {\"StichtagDatJahr\": \"1993-12-31T00:00:00\", \"RAUM_LANG\": \"Lindenhof\", \"RAUM_CODE\": \"R00013\", \"sum_WBev\": 1136.0}, {\"StichtagDatJahr\": \"1993-12-31T00:00:00\", \"RAUM_LANG\": \"Seefeld\", \"RAUM_CODE\": \"R00081\", \"sum_WBev\": 5283.0}, {\"StichtagDatJahr\": \"1993-12-31T00:00:00\", \"RAUM_LANG\": \"Unterstrass\", \"RAUM_CODE\": \"R00061\", \"sum_WBev\": 20425.0}, {\"StichtagDatJahr\": \"1993-12-31T00:00:00\", \"RAUM_LANG\": \"Weinegg\", \"RAUM_CODE\": \"R00083\", \"sum_WBev\": 4856.0}, {\"StichtagDatJahr\": \"1993-12-31T00:00:00\", \"RAUM_LANG\": \"Werd\", \"RAUM_CODE\": \"R00041\", \"sum_WBev\": 4048.0}, {\"StichtagDatJahr\": \"1993-12-31T00:00:00\", \"RAUM_LANG\": \"Wipkingen\", \"RAUM_CODE\": \"R00102\", \"sum_WBev\": 15974.0}, {\"StichtagDatJahr\": \"1993-12-31T00:00:00\", \"RAUM_LANG\": \"Witikon\", \"RAUM_CODE\": \"R00074\", \"sum_WBev\": 9626.0}, {\"StichtagDatJahr\": \"1993-12-31T00:00:00\", \"RAUM_LANG\": \"Wollishofen\", \"RAUM_CODE\": \"R00021\", \"sum_WBev\": 15927.0}, {\"StichtagDatJahr\": \"1993-12-31T00:00:00\", \"RAUM_LANG\": \"Sihlfeld\", \"RAUM_CODE\": \"R00034\", \"sum_WBev\": 21536.0}, {\"StichtagDatJahr\": \"1993-12-31T00:00:00\", \"RAUM_LANG\": \"Leimbach\", \"RAUM_CODE\": \"R00023\", \"sum_WBev\": 4555.0}, {\"StichtagDatJahr\": \"1993-12-31T00:00:00\", \"RAUM_LANG\": \"Schwamendingen-Mitte\", \"RAUM_CODE\": \"R00122\", \"sum_WBev\": 10175.0}, {\"StichtagDatJahr\": \"1993-12-31T00:00:00\", \"RAUM_LANG\": \"H\\u00f6ngg\", \"RAUM_CODE\": \"R00101\", \"sum_WBev\": 19118.0}, {\"StichtagDatJahr\": \"1993-12-31T00:00:00\", \"RAUM_LANG\": \"Langstrasse\", \"RAUM_CODE\": \"R00042\", \"sum_WBev\": 11505.0}, {\"StichtagDatJahr\": \"1993-12-31T00:00:00\", \"RAUM_LANG\": \"Alt-Wiedikon\", \"RAUM_CODE\": \"R00031\", \"sum_WBev\": 14637.0}, {\"StichtagDatJahr\": \"1993-12-31T00:00:00\", \"RAUM_LANG\": \"Altstetten\", \"RAUM_CODE\": \"R00092\", \"sum_WBev\": 27871.0}, {\"StichtagDatJahr\": \"1993-12-31T00:00:00\", \"RAUM_LANG\": \"City\", \"RAUM_CODE\": \"R00014\", \"sum_WBev\": 884.0}, {\"StichtagDatJahr\": \"1993-12-31T00:00:00\", \"RAUM_LANG\": \"Enge\", \"RAUM_CODE\": \"R00024\", \"sum_WBev\": 8125.0}, {\"StichtagDatJahr\": \"1993-12-31T00:00:00\", \"RAUM_LANG\": \"Escher Wyss\", \"RAUM_CODE\": \"R00052\", \"sum_WBev\": 1547.0}, {\"StichtagDatJahr\": \"1993-12-31T00:00:00\", \"RAUM_LANG\": \"Fluntern\", \"RAUM_CODE\": \"R00071\", \"sum_WBev\": 7188.0}, {\"StichtagDatJahr\": \"1993-12-31T00:00:00\", \"RAUM_LANG\": \"Albisrieden\", \"RAUM_CODE\": \"R00091\", \"sum_WBev\": 17132.0}, {\"StichtagDatJahr\": \"1993-12-31T00:00:00\", \"RAUM_LANG\": \"Gewerbeschule\", \"RAUM_CODE\": \"R00051\", \"sum_WBev\": 9948.0}, {\"StichtagDatJahr\": \"1993-12-31T00:00:00\", \"RAUM_LANG\": \"Hard\", \"RAUM_CODE\": \"R00044\", \"sum_WBev\": 12747.0}, {\"StichtagDatJahr\": \"1993-12-31T00:00:00\", \"RAUM_LANG\": \"Hirslanden\", \"RAUM_CODE\": \"R00073\", \"sum_WBev\": 6835.0}, {\"StichtagDatJahr\": \"1993-12-31T00:00:00\", \"RAUM_LANG\": \"Hirzenbach\", \"RAUM_CODE\": \"R00123\", \"sum_WBev\": 10834.0}, {\"StichtagDatJahr\": \"1993-12-31T00:00:00\", \"RAUM_LANG\": \"Hochschulen\", \"RAUM_CODE\": \"R00012\", \"sum_WBev\": 808.0}, {\"StichtagDatJahr\": \"1993-12-31T00:00:00\", \"RAUM_LANG\": \"Hottingen\", \"RAUM_CODE\": \"R00072\", \"sum_WBev\": 10139.0}, {\"StichtagDatJahr\": \"1993-12-31T00:00:00\", \"RAUM_LANG\": \"Friesenberg\", \"RAUM_CODE\": \"R00033\", \"sum_WBev\": 10167.0}, {\"StichtagDatJahr\": \"1994-12-31T00:00:00\", \"RAUM_LANG\": \"M\\u00fchlebach\", \"RAUM_CODE\": \"R00082\", \"sum_WBev\": 5611.0}, {\"StichtagDatJahr\": \"1994-12-31T00:00:00\", \"RAUM_LANG\": \"Oberstrass\", \"RAUM_CODE\": \"R00063\", \"sum_WBev\": 10266.0}, {\"StichtagDatJahr\": \"1994-12-31T00:00:00\", \"RAUM_LANG\": \"Oerlikon\", \"RAUM_CODE\": \"R00115\", \"sum_WBev\": 16771.0}, {\"StichtagDatJahr\": \"1994-12-31T00:00:00\", \"RAUM_LANG\": \"Rathaus\", \"RAUM_CODE\": \"R00011\", \"sum_WBev\": 3089.0}, {\"StichtagDatJahr\": \"1994-12-31T00:00:00\", \"RAUM_LANG\": \"Saatlen\", \"RAUM_CODE\": \"R00121\", \"sum_WBev\": 6430.0}, {\"StichtagDatJahr\": \"1994-12-31T00:00:00\", \"RAUM_LANG\": \"Seebach\", \"RAUM_CODE\": \"R00119\", \"sum_WBev\": 17642.0}, {\"StichtagDatJahr\": \"1994-12-31T00:00:00\", \"RAUM_LANG\": \"Seefeld\", \"RAUM_CODE\": \"R00081\", \"sum_WBev\": 5304.0}, {\"StichtagDatJahr\": \"1994-12-31T00:00:00\", \"RAUM_LANG\": \"Weinegg\", \"RAUM_CODE\": \"R00083\", \"sum_WBev\": 4883.0}, {\"StichtagDatJahr\": \"1994-12-31T00:00:00\", \"RAUM_LANG\": \"Unterstrass\", \"RAUM_CODE\": \"R00061\", \"sum_WBev\": 20477.0}, {\"StichtagDatJahr\": \"1994-12-31T00:00:00\", \"RAUM_LANG\": \"Werd\", \"RAUM_CODE\": \"R00041\", \"sum_WBev\": 4125.0}, {\"StichtagDatJahr\": \"1994-12-31T00:00:00\", \"RAUM_LANG\": \"Wipkingen\", \"RAUM_CODE\": \"R00102\", \"sum_WBev\": 16057.0}, {\"StichtagDatJahr\": \"1994-12-31T00:00:00\", \"RAUM_LANG\": \"Witikon\", \"RAUM_CODE\": \"R00074\", \"sum_WBev\": 9661.0}, {\"StichtagDatJahr\": \"1994-12-31T00:00:00\", \"RAUM_LANG\": \"Wollishofen\", \"RAUM_CODE\": \"R00021\", \"sum_WBev\": 15902.0}, {\"StichtagDatJahr\": \"1994-12-31T00:00:00\", \"RAUM_LANG\": \"Lindenhof\", \"RAUM_CODE\": \"R00013\", \"sum_WBev\": 1087.0}, {\"StichtagDatJahr\": \"1994-12-31T00:00:00\", \"RAUM_LANG\": \"Sihlfeld\", \"RAUM_CODE\": \"R00034\", \"sum_WBev\": 21569.0}, {\"StichtagDatJahr\": \"1994-12-31T00:00:00\", \"RAUM_LANG\": \"Leimbach\", \"RAUM_CODE\": \"R00023\", \"sum_WBev\": 4598.0}, {\"StichtagDatJahr\": \"1994-12-31T00:00:00\", \"RAUM_LANG\": \"Schwamendingen-Mitte\", \"RAUM_CODE\": \"R00122\", \"sum_WBev\": 10240.0}, {\"StichtagDatJahr\": \"1994-12-31T00:00:00\", \"RAUM_LANG\": \"H\\u00f6ngg\", \"RAUM_CODE\": \"R00101\", \"sum_WBev\": 19184.0}, {\"StichtagDatJahr\": \"1994-12-31T00:00:00\", \"RAUM_LANG\": \"Albisrieden\", \"RAUM_CODE\": \"R00091\", \"sum_WBev\": 17058.0}, {\"StichtagDatJahr\": \"1994-12-31T00:00:00\", \"RAUM_LANG\": \"Alt-Wiedikon\", \"RAUM_CODE\": \"R00031\", \"sum_WBev\": 14803.0}, {\"StichtagDatJahr\": \"1994-12-31T00:00:00\", \"RAUM_LANG\": \"Altstetten\", \"RAUM_CODE\": \"R00092\", \"sum_WBev\": 27717.0}, {\"StichtagDatJahr\": \"1994-12-31T00:00:00\", \"RAUM_LANG\": \"City\", \"RAUM_CODE\": \"R00014\", \"sum_WBev\": 845.0}, {\"StichtagDatJahr\": \"1994-12-31T00:00:00\", \"RAUM_LANG\": \"Enge\", \"RAUM_CODE\": \"R00024\", \"sum_WBev\": 8122.0}, {\"StichtagDatJahr\": \"1994-12-31T00:00:00\", \"RAUM_LANG\": \"Escher Wyss\", \"RAUM_CODE\": \"R00052\", \"sum_WBev\": 1596.0}, {\"StichtagDatJahr\": \"1994-12-31T00:00:00\", \"RAUM_LANG\": \"Fluntern\", \"RAUM_CODE\": \"R00071\", \"sum_WBev\": 7085.0}, {\"StichtagDatJahr\": \"1994-12-31T00:00:00\", \"RAUM_LANG\": \"Affoltern\", \"RAUM_CODE\": \"R00111\", \"sum_WBev\": 18061.0}, {\"StichtagDatJahr\": \"1994-12-31T00:00:00\", \"RAUM_LANG\": \"Langstrasse\", \"RAUM_CODE\": \"R00042\", \"sum_WBev\": 11183.0}, {\"StichtagDatJahr\": \"1994-12-31T00:00:00\", \"RAUM_LANG\": \"Gewerbeschule\", \"RAUM_CODE\": \"R00051\", \"sum_WBev\": 9773.0}, {\"StichtagDatJahr\": \"1994-12-31T00:00:00\", \"RAUM_LANG\": \"Hard\", \"RAUM_CODE\": \"R00044\", \"sum_WBev\": 12816.0}, {\"StichtagDatJahr\": \"1994-12-31T00:00:00\", \"RAUM_LANG\": \"Hirslanden\", \"RAUM_CODE\": \"R00073\", \"sum_WBev\": 6750.0}, {\"StichtagDatJahr\": \"1994-12-31T00:00:00\", \"RAUM_LANG\": \"Hirzenbach\", \"RAUM_CODE\": \"R00123\", \"sum_WBev\": 10895.0}, {\"StichtagDatJahr\": \"1994-12-31T00:00:00\", \"RAUM_LANG\": \"Hochschulen\", \"RAUM_CODE\": \"R00012\", \"sum_WBev\": 806.0}, {\"StichtagDatJahr\": \"1994-12-31T00:00:00\", \"RAUM_LANG\": \"Hottingen\", \"RAUM_CODE\": \"R00072\", \"sum_WBev\": 10229.0}, {\"StichtagDatJahr\": \"1994-12-31T00:00:00\", \"RAUM_LANG\": \"Friesenberg\", \"RAUM_CODE\": \"R00033\", \"sum_WBev\": 10213.0}, {\"StichtagDatJahr\": \"1995-12-31T00:00:00\", \"RAUM_LANG\": \"Lindenhof\", \"RAUM_CODE\": \"R00013\", \"sum_WBev\": 1096.0}, {\"StichtagDatJahr\": \"1995-12-31T00:00:00\", \"RAUM_LANG\": \"M\\u00fchlebach\", \"RAUM_CODE\": \"R00082\", \"sum_WBev\": 5611.0}, {\"StichtagDatJahr\": \"1995-12-31T00:00:00\", \"RAUM_LANG\": \"Oberstrass\", \"RAUM_CODE\": \"R00063\", \"sum_WBev\": 10121.0}, {\"StichtagDatJahr\": \"1995-12-31T00:00:00\", \"RAUM_LANG\": \"Oerlikon\", \"RAUM_CODE\": \"R00115\", \"sum_WBev\": 17033.0}, {\"StichtagDatJahr\": \"1995-12-31T00:00:00\", \"RAUM_LANG\": \"Rathaus\", \"RAUM_CODE\": \"R00011\", \"sum_WBev\": 3049.0}, {\"StichtagDatJahr\": \"1995-12-31T00:00:00\", \"RAUM_LANG\": \"Saatlen\", \"RAUM_CODE\": \"R00121\", \"sum_WBev\": 6442.0}, {\"StichtagDatJahr\": \"1995-12-31T00:00:00\", \"RAUM_LANG\": \"Schwamendingen-Mitte\", \"RAUM_CODE\": \"R00122\", \"sum_WBev\": 10248.0}, {\"StichtagDatJahr\": \"1995-12-31T00:00:00\", \"RAUM_LANG\": \"Wollishofen\", \"RAUM_CODE\": \"R00021\", \"sum_WBev\": 15918.0}, {\"StichtagDatJahr\": \"1995-12-31T00:00:00\", \"RAUM_LANG\": \"Seefeld\", \"RAUM_CODE\": \"R00081\", \"sum_WBev\": 5281.0}, {\"StichtagDatJahr\": \"1995-12-31T00:00:00\", \"RAUM_LANG\": \"Sihlfeld\", \"RAUM_CODE\": \"R00034\", \"sum_WBev\": 21453.0}, {\"StichtagDatJahr\": \"1995-12-31T00:00:00\", \"RAUM_LANG\": \"Weinegg\", \"RAUM_CODE\": \"R00083\", \"sum_WBev\": 4871.0}, {\"StichtagDatJahr\": \"1995-12-31T00:00:00\", \"RAUM_LANG\": \"Werd\", \"RAUM_CODE\": \"R00041\", \"sum_WBev\": 4005.0}, {\"StichtagDatJahr\": \"1995-12-31T00:00:00\", \"RAUM_LANG\": \"Wipkingen\", \"RAUM_CODE\": \"R00102\", \"sum_WBev\": 16080.0}, {\"StichtagDatJahr\": \"1995-12-31T00:00:00\", \"RAUM_LANG\": \"Witikon\", \"RAUM_CODE\": \"R00074\", \"sum_WBev\": 9732.0}, {\"StichtagDatJahr\": \"1995-12-31T00:00:00\", \"RAUM_LANG\": \"Leimbach\", \"RAUM_CODE\": \"R00023\", \"sum_WBev\": 4647.0}, {\"StichtagDatJahr\": \"1995-12-31T00:00:00\", \"RAUM_LANG\": \"Seebach\", \"RAUM_CODE\": \"R00119\", \"sum_WBev\": 17700.0}, {\"StichtagDatJahr\": \"1995-12-31T00:00:00\", \"RAUM_LANG\": \"Unterstrass\", \"RAUM_CODE\": \"R00061\", \"sum_WBev\": 20356.0}, {\"StichtagDatJahr\": \"1995-12-31T00:00:00\", \"RAUM_LANG\": \"Langstrasse\", \"RAUM_CODE\": \"R00042\", \"sum_WBev\": 10952.0}, {\"StichtagDatJahr\": \"1995-12-31T00:00:00\", \"RAUM_LANG\": \"Hottingen\", \"RAUM_CODE\": \"R00072\", \"sum_WBev\": 10234.0}, {\"StichtagDatJahr\": \"1995-12-31T00:00:00\", \"RAUM_LANG\": \"H\\u00f6ngg\", \"RAUM_CODE\": \"R00101\", \"sum_WBev\": 19243.0}, {\"StichtagDatJahr\": \"1995-12-31T00:00:00\", \"RAUM_LANG\": \"Affoltern\", \"RAUM_CODE\": \"R00111\", \"sum_WBev\": 18154.0}, {\"StichtagDatJahr\": \"1995-12-31T00:00:00\", \"RAUM_LANG\": \"Albisrieden\", \"RAUM_CODE\": \"R00091\", \"sum_WBev\": 16843.0}, {\"StichtagDatJahr\": \"1995-12-31T00:00:00\", \"RAUM_LANG\": \"Alt-Wiedikon\", \"RAUM_CODE\": \"R00031\", \"sum_WBev\": 14719.0}, {\"StichtagDatJahr\": \"1995-12-31T00:00:00\", \"RAUM_LANG\": \"City\", \"RAUM_CODE\": \"R00014\", \"sum_WBev\": 1007.0}, {\"StichtagDatJahr\": \"1995-12-31T00:00:00\", \"RAUM_LANG\": \"Enge\", \"RAUM_CODE\": \"R00024\", \"sum_WBev\": 8174.0}, {\"StichtagDatJahr\": \"1995-12-31T00:00:00\", \"RAUM_LANG\": \"Escher Wyss\", \"RAUM_CODE\": \"R00052\", \"sum_WBev\": 1649.0}, {\"StichtagDatJahr\": \"1995-12-31T00:00:00\", \"RAUM_LANG\": \"Altstetten\", \"RAUM_CODE\": \"R00092\", \"sum_WBev\": 27788.0}, {\"StichtagDatJahr\": \"1995-12-31T00:00:00\", \"RAUM_LANG\": \"Friesenberg\", \"RAUM_CODE\": \"R00033\", \"sum_WBev\": 10155.0}, {\"StichtagDatJahr\": \"1995-12-31T00:00:00\", \"RAUM_LANG\": \"Gewerbeschule\", \"RAUM_CODE\": \"R00051\", \"sum_WBev\": 9811.0}, {\"StichtagDatJahr\": \"1995-12-31T00:00:00\", \"RAUM_LANG\": \"Hard\", \"RAUM_CODE\": \"R00044\", \"sum_WBev\": 12872.0}, {\"StichtagDatJahr\": \"1995-12-31T00:00:00\", \"RAUM_LANG\": \"Hirslanden\", \"RAUM_CODE\": \"R00073\", \"sum_WBev\": 6654.0}, {\"StichtagDatJahr\": \"1995-12-31T00:00:00\", \"RAUM_LANG\": \"Hirzenbach\", \"RAUM_CODE\": \"R00123\", \"sum_WBev\": 10995.0}, {\"StichtagDatJahr\": \"1995-12-31T00:00:00\", \"RAUM_LANG\": \"Hochschulen\", \"RAUM_CODE\": \"R00012\", \"sum_WBev\": 782.0}, {\"StichtagDatJahr\": \"1995-12-31T00:00:00\", \"RAUM_LANG\": \"Fluntern\", \"RAUM_CODE\": \"R00071\", \"sum_WBev\": 7151.0}, {\"StichtagDatJahr\": \"1996-12-31T00:00:00\", \"RAUM_LANG\": \"Schwamendingen-Mitte\", \"RAUM_CODE\": \"R00122\", \"sum_WBev\": 10141.0}, {\"StichtagDatJahr\": \"1996-12-31T00:00:00\", \"RAUM_LANG\": \"M\\u00fchlebach\", \"RAUM_CODE\": \"R00082\", \"sum_WBev\": 5566.0}, {\"StichtagDatJahr\": \"1996-12-31T00:00:00\", \"RAUM_LANG\": \"Oberstrass\", \"RAUM_CODE\": \"R00063\", \"sum_WBev\": 10110.0}, {\"StichtagDatJahr\": \"1996-12-31T00:00:00\", \"RAUM_LANG\": \"Oerlikon\", \"RAUM_CODE\": \"R00115\", \"sum_WBev\": 16813.0}, {\"StichtagDatJahr\": \"1996-12-31T00:00:00\", \"RAUM_LANG\": \"Rathaus\", \"RAUM_CODE\": \"R00011\", \"sum_WBev\": 3078.0}, {\"StichtagDatJahr\": \"1996-12-31T00:00:00\", \"RAUM_LANG\": \"Saatlen\", \"RAUM_CODE\": \"R00121\", \"sum_WBev\": 6384.0}, {\"StichtagDatJahr\": \"1996-12-31T00:00:00\", \"RAUM_LANG\": \"Seefeld\", \"RAUM_CODE\": \"R00081\", \"sum_WBev\": 5226.0}, {\"StichtagDatJahr\": \"1996-12-31T00:00:00\", \"RAUM_LANG\": \"Lindenhof\", \"RAUM_CODE\": \"R00013\", \"sum_WBev\": 1044.0}, {\"StichtagDatJahr\": \"1996-12-31T00:00:00\", \"RAUM_LANG\": \"Unterstrass\", \"RAUM_CODE\": \"R00061\", \"sum_WBev\": 20318.0}, {\"StichtagDatJahr\": \"1996-12-31T00:00:00\", \"RAUM_LANG\": \"Weinegg\", \"RAUM_CODE\": \"R00083\", \"sum_WBev\": 4900.0}, {\"StichtagDatJahr\": \"1996-12-31T00:00:00\", \"RAUM_LANG\": \"Werd\", \"RAUM_CODE\": \"R00041\", \"sum_WBev\": 3979.0}, {\"StichtagDatJahr\": \"1996-12-31T00:00:00\", \"RAUM_LANG\": \"Wipkingen\", \"RAUM_CODE\": \"R00102\", \"sum_WBev\": 16131.0}, {\"StichtagDatJahr\": \"1996-12-31T00:00:00\", \"RAUM_LANG\": \"Witikon\", \"RAUM_CODE\": \"R00074\", \"sum_WBev\": 9647.0}, {\"StichtagDatJahr\": \"1996-12-31T00:00:00\", \"RAUM_LANG\": \"Wollishofen\", \"RAUM_CODE\": \"R00021\", \"sum_WBev\": 15844.0}, {\"StichtagDatJahr\": \"1996-12-31T00:00:00\", \"RAUM_LANG\": \"Sihlfeld\", \"RAUM_CODE\": \"R00034\", \"sum_WBev\": 21233.0}, {\"StichtagDatJahr\": \"1996-12-31T00:00:00\", \"RAUM_LANG\": \"Leimbach\", \"RAUM_CODE\": \"R00023\", \"sum_WBev\": 4553.0}, {\"StichtagDatJahr\": \"1996-12-31T00:00:00\", \"RAUM_LANG\": \"Seebach\", \"RAUM_CODE\": \"R00119\", \"sum_WBev\": 17624.0}, {\"StichtagDatJahr\": \"1996-12-31T00:00:00\", \"RAUM_LANG\": \"H\\u00f6ngg\", \"RAUM_CODE\": \"R00101\", \"sum_WBev\": 19604.0}, {\"StichtagDatJahr\": \"1996-12-31T00:00:00\", \"RAUM_LANG\": \"Affoltern\", \"RAUM_CODE\": \"R00111\", \"sum_WBev\": 18122.0}, {\"StichtagDatJahr\": \"1996-12-31T00:00:00\", \"RAUM_LANG\": \"Albisrieden\", \"RAUM_CODE\": \"R00091\", \"sum_WBev\": 16705.0}, {\"StichtagDatJahr\": \"1996-12-31T00:00:00\", \"RAUM_LANG\": \"Alt-Wiedikon\", \"RAUM_CODE\": \"R00031\", \"sum_WBev\": 14869.0}, {\"StichtagDatJahr\": \"1996-12-31T00:00:00\", \"RAUM_LANG\": \"Altstetten\", \"RAUM_CODE\": \"R00092\", \"sum_WBev\": 27660.0}, {\"StichtagDatJahr\": \"1996-12-31T00:00:00\", \"RAUM_LANG\": \"City\", \"RAUM_CODE\": \"R00014\", \"sum_WBev\": 981.0}, {\"StichtagDatJahr\": \"1996-12-31T00:00:00\", \"RAUM_LANG\": \"Enge\", \"RAUM_CODE\": \"R00024\", \"sum_WBev\": 8155.0}, {\"StichtagDatJahr\": \"1996-12-31T00:00:00\", \"RAUM_LANG\": \"Escher Wyss\", \"RAUM_CODE\": \"R00052\", \"sum_WBev\": 1641.0}, {\"StichtagDatJahr\": \"1996-12-31T00:00:00\", \"RAUM_LANG\": \"Fluntern\", \"RAUM_CODE\": \"R00071\", \"sum_WBev\": 7178.0}, {\"StichtagDatJahr\": \"1996-12-31T00:00:00\", \"RAUM_LANG\": \"Langstrasse\", \"RAUM_CODE\": \"R00042\", \"sum_WBev\": 10718.0}, {\"StichtagDatJahr\": \"1996-12-31T00:00:00\", \"RAUM_LANG\": \"Friesenberg\", \"RAUM_CODE\": \"R00033\", \"sum_WBev\": 9993.0}, {\"StichtagDatJahr\": \"1996-12-31T00:00:00\", \"RAUM_LANG\": \"Gewerbeschule\", \"RAUM_CODE\": \"R00051\", \"sum_WBev\": 9700.0}, {\"StichtagDatJahr\": \"1996-12-31T00:00:00\", \"RAUM_LANG\": \"Hard\", \"RAUM_CODE\": \"R00044\", \"sum_WBev\": 12937.0}, {\"StichtagDatJahr\": \"1996-12-31T00:00:00\", \"RAUM_LANG\": \"Hirslanden\", \"RAUM_CODE\": \"R00073\", \"sum_WBev\": 6703.0}, {\"StichtagDatJahr\": \"1996-12-31T00:00:00\", \"RAUM_LANG\": \"Hirzenbach\", \"RAUM_CODE\": \"R00123\", \"sum_WBev\": 10990.0}, {\"StichtagDatJahr\": \"1996-12-31T00:00:00\", \"RAUM_LANG\": \"Hochschulen\", \"RAUM_CODE\": \"R00012\", \"sum_WBev\": 753.0}, {\"StichtagDatJahr\": \"1996-12-31T00:00:00\", \"RAUM_LANG\": \"Hottingen\", \"RAUM_CODE\": \"R00072\", \"sum_WBev\": 10348.0}, {\"StichtagDatJahr\": \"1997-12-31T00:00:00\", \"RAUM_LANG\": \"M\\u00fchlebach\", \"RAUM_CODE\": \"R00082\", \"sum_WBev\": 5474.0}, {\"StichtagDatJahr\": \"1997-12-31T00:00:00\", \"RAUM_LANG\": \"Oberstrass\", \"RAUM_CODE\": \"R00063\", \"sum_WBev\": 9994.0}, {\"StichtagDatJahr\": \"1997-12-31T00:00:00\", \"RAUM_LANG\": \"Rathaus\", \"RAUM_CODE\": \"R00011\", \"sum_WBev\": 3083.0}, {\"StichtagDatJahr\": \"1997-12-31T00:00:00\", \"RAUM_LANG\": \"Saatlen\", \"RAUM_CODE\": \"R00121\", \"sum_WBev\": 6428.0}, {\"StichtagDatJahr\": \"1997-12-31T00:00:00\", \"RAUM_LANG\": \"Schwamendingen-Mitte\", \"RAUM_CODE\": \"R00122\", \"sum_WBev\": 10237.0}, {\"StichtagDatJahr\": \"1997-12-31T00:00:00\", \"RAUM_LANG\": \"Seebach\", \"RAUM_CODE\": \"R00119\", \"sum_WBev\": 17719.0}, {\"StichtagDatJahr\": \"1997-12-31T00:00:00\", \"RAUM_LANG\": \"Seefeld\", \"RAUM_CODE\": \"R00081\", \"sum_WBev\": 5155.0}, {\"StichtagDatJahr\": \"1997-12-31T00:00:00\", \"RAUM_LANG\": \"Weinegg\", \"RAUM_CODE\": \"R00083\", \"sum_WBev\": 4799.0}, {\"StichtagDatJahr\": \"1997-12-31T00:00:00\", \"RAUM_LANG\": \"Unterstrass\", \"RAUM_CODE\": \"R00061\", \"sum_WBev\": 20281.0}, {\"StichtagDatJahr\": \"1997-12-31T00:00:00\", \"RAUM_LANG\": \"Lindenhof\", \"RAUM_CODE\": \"R00013\", \"sum_WBev\": 1025.0}, {\"StichtagDatJahr\": \"1997-12-31T00:00:00\", \"RAUM_LANG\": \"Werd\", \"RAUM_CODE\": \"R00041\", \"sum_WBev\": 3928.0}, {\"StichtagDatJahr\": \"1997-12-31T00:00:00\", \"RAUM_LANG\": \"Wipkingen\", \"RAUM_CODE\": \"R00102\", \"sum_WBev\": 15817.0}, {\"StichtagDatJahr\": \"1997-12-31T00:00:00\", \"RAUM_LANG\": \"Witikon\", \"RAUM_CODE\": \"R00074\", \"sum_WBev\": 9577.0}, {\"StichtagDatJahr\": \"1997-12-31T00:00:00\", \"RAUM_LANG\": \"Wollishofen\", \"RAUM_CODE\": \"R00021\", \"sum_WBev\": 15820.0}, {\"StichtagDatJahr\": \"1997-12-31T00:00:00\", \"RAUM_LANG\": \"Sihlfeld\", \"RAUM_CODE\": \"R00034\", \"sum_WBev\": 21132.0}, {\"StichtagDatJahr\": \"1997-12-31T00:00:00\", \"RAUM_LANG\": \"Leimbach\", \"RAUM_CODE\": \"R00023\", \"sum_WBev\": 4484.0}, {\"StichtagDatJahr\": \"1997-12-31T00:00:00\", \"RAUM_LANG\": \"Oerlikon\", \"RAUM_CODE\": \"R00115\", \"sum_WBev\": 16765.0}, {\"StichtagDatJahr\": \"1997-12-31T00:00:00\", \"RAUM_LANG\": \"H\\u00f6ngg\", \"RAUM_CODE\": \"R00101\", \"sum_WBev\": 19793.0}, {\"StichtagDatJahr\": \"1997-12-31T00:00:00\", \"RAUM_LANG\": \"Albisrieden\", \"RAUM_CODE\": \"R00091\", \"sum_WBev\": 16630.0}, {\"StichtagDatJahr\": \"1997-12-31T00:00:00\", \"RAUM_LANG\": \"Alt-Wiedikon\", \"RAUM_CODE\": \"R00031\", \"sum_WBev\": 15000.0}, {\"StichtagDatJahr\": \"1997-12-31T00:00:00\", \"RAUM_LANG\": \"Altstetten\", \"RAUM_CODE\": \"R00092\", \"sum_WBev\": 27663.0}, {\"StichtagDatJahr\": \"1997-12-31T00:00:00\", \"RAUM_LANG\": \"City\", \"RAUM_CODE\": \"R00014\", \"sum_WBev\": 996.0}, {\"StichtagDatJahr\": \"1997-12-31T00:00:00\", \"RAUM_LANG\": \"Enge\", \"RAUM_CODE\": \"R00024\", \"sum_WBev\": 8164.0}, {\"StichtagDatJahr\": \"1997-12-31T00:00:00\", \"RAUM_LANG\": \"Escher Wyss\", \"RAUM_CODE\": \"R00052\", \"sum_WBev\": 1622.0}, {\"StichtagDatJahr\": \"1997-12-31T00:00:00\", \"RAUM_LANG\": \"Fluntern\", \"RAUM_CODE\": \"R00071\", \"sum_WBev\": 7191.0}, {\"StichtagDatJahr\": \"1997-12-31T00:00:00\", \"RAUM_LANG\": \"Affoltern\", \"RAUM_CODE\": \"R00111\", \"sum_WBev\": 18177.0}, {\"StichtagDatJahr\": \"1997-12-31T00:00:00\", \"RAUM_LANG\": \"Gewerbeschule\", \"RAUM_CODE\": \"R00051\", \"sum_WBev\": 9525.0}, {\"StichtagDatJahr\": \"1997-12-31T00:00:00\", \"RAUM_LANG\": \"Friesenberg\", \"RAUM_CODE\": \"R00033\", \"sum_WBev\": 9991.0}, {\"StichtagDatJahr\": \"1997-12-31T00:00:00\", \"RAUM_LANG\": \"Hottingen\", \"RAUM_CODE\": \"R00072\", \"sum_WBev\": 10326.0}, {\"StichtagDatJahr\": \"1997-12-31T00:00:00\", \"RAUM_LANG\": \"Hochschulen\", \"RAUM_CODE\": \"R00012\", \"sum_WBev\": 762.0}, {\"StichtagDatJahr\": \"1997-12-31T00:00:00\", \"RAUM_LANG\": \"Langstrasse\", \"RAUM_CODE\": \"R00042\", \"sum_WBev\": 10480.0}, {\"StichtagDatJahr\": \"1997-12-31T00:00:00\", \"RAUM_LANG\": \"Hirslanden\", \"RAUM_CODE\": \"R00073\", \"sum_WBev\": 6659.0}, {\"StichtagDatJahr\": \"1997-12-31T00:00:00\", \"RAUM_LANG\": \"Hard\", \"RAUM_CODE\": \"R00044\", \"sum_WBev\": 12884.0}, {\"StichtagDatJahr\": \"1997-12-31T00:00:00\", \"RAUM_LANG\": \"Hirzenbach\", \"RAUM_CODE\": \"R00123\", \"sum_WBev\": 11013.0}, {\"StichtagDatJahr\": \"1998-12-31T00:00:00\", \"RAUM_LANG\": \"Wollishofen\", \"RAUM_CODE\": \"R00021\", \"sum_WBev\": 15826.0}, {\"StichtagDatJahr\": \"1998-12-31T00:00:00\", \"RAUM_LANG\": \"Lindenhof\", \"RAUM_CODE\": \"R00013\", \"sum_WBev\": 995.0}, {\"StichtagDatJahr\": \"1998-12-31T00:00:00\", \"RAUM_LANG\": \"M\\u00fchlebach\", \"RAUM_CODE\": \"R00082\", \"sum_WBev\": 5461.0}, {\"StichtagDatJahr\": \"1998-12-31T00:00:00\", \"RAUM_LANG\": \"Oberstrass\", \"RAUM_CODE\": \"R00063\", \"sum_WBev\": 9907.0}, {\"StichtagDatJahr\": \"1998-12-31T00:00:00\", \"RAUM_LANG\": \"Oerlikon\", \"RAUM_CODE\": \"R00115\", \"sum_WBev\": 17026.0}, {\"StichtagDatJahr\": \"1998-12-31T00:00:00\", \"RAUM_LANG\": \"Rathaus\", \"RAUM_CODE\": \"R00011\", \"sum_WBev\": 3050.0}, {\"StichtagDatJahr\": \"1998-12-31T00:00:00\", \"RAUM_LANG\": \"Saatlen\", \"RAUM_CODE\": \"R00121\", \"sum_WBev\": 6568.0}, {\"StichtagDatJahr\": \"1998-12-31T00:00:00\", \"RAUM_LANG\": \"Schwamendingen-Mitte\", \"RAUM_CODE\": \"R00122\", \"sum_WBev\": 10174.0}, {\"StichtagDatJahr\": \"1998-12-31T00:00:00\", \"RAUM_LANG\": \"Seefeld\", \"RAUM_CODE\": \"R00081\", \"sum_WBev\": 5087.0}, {\"StichtagDatJahr\": \"1998-12-31T00:00:00\", \"RAUM_LANG\": \"Sihlfeld\", \"RAUM_CODE\": \"R00034\", \"sum_WBev\": 21018.0}, {\"StichtagDatJahr\": \"1998-12-31T00:00:00\", \"RAUM_LANG\": \"Weinegg\", \"RAUM_CODE\": \"R00083\", \"sum_WBev\": 4816.0}, {\"StichtagDatJahr\": \"1998-12-31T00:00:00\", \"RAUM_LANG\": \"Werd\", \"RAUM_CODE\": \"R00041\", \"sum_WBev\": 3913.0}, {\"StichtagDatJahr\": \"1998-12-31T00:00:00\", \"RAUM_LANG\": \"Wipkingen\", \"RAUM_CODE\": \"R00102\", \"sum_WBev\": 15643.0}, {\"StichtagDatJahr\": \"1998-12-31T00:00:00\", \"RAUM_LANG\": \"Witikon\", \"RAUM_CODE\": \"R00074\", \"sum_WBev\": 9553.0}, {\"StichtagDatJahr\": \"1998-12-31T00:00:00\", \"RAUM_LANG\": \"Leimbach\", \"RAUM_CODE\": \"R00023\", \"sum_WBev\": 4619.0}, {\"StichtagDatJahr\": \"1998-12-31T00:00:00\", \"RAUM_LANG\": \"Seebach\", \"RAUM_CODE\": \"R00119\", \"sum_WBev\": 17906.0}, {\"StichtagDatJahr\": \"1998-12-31T00:00:00\", \"RAUM_LANG\": \"Unterstrass\", \"RAUM_CODE\": \"R00061\", \"sum_WBev\": 20266.0}, {\"StichtagDatJahr\": \"1998-12-31T00:00:00\", \"RAUM_LANG\": \"Langstrasse\", \"RAUM_CODE\": \"R00042\", \"sum_WBev\": 10399.0}, {\"StichtagDatJahr\": \"1998-12-31T00:00:00\", \"RAUM_LANG\": \"Hottingen\", \"RAUM_CODE\": \"R00072\", \"sum_WBev\": 10240.0}, {\"StichtagDatJahr\": \"1998-12-31T00:00:00\", \"RAUM_LANG\": \"Affoltern\", \"RAUM_CODE\": \"R00111\", \"sum_WBev\": 18469.0}, {\"StichtagDatJahr\": \"1998-12-31T00:00:00\", \"RAUM_LANG\": \"Albisrieden\", \"RAUM_CODE\": \"R00091\", \"sum_WBev\": 16548.0}, {\"StichtagDatJahr\": \"1998-12-31T00:00:00\", \"RAUM_LANG\": \"Alt-Wiedikon\", \"RAUM_CODE\": \"R00031\", \"sum_WBev\": 14975.0}, {\"StichtagDatJahr\": \"1998-12-31T00:00:00\", \"RAUM_LANG\": \"Altstetten\", \"RAUM_CODE\": \"R00092\", \"sum_WBev\": 27656.0}, {\"StichtagDatJahr\": \"1998-12-31T00:00:00\", \"RAUM_LANG\": \"City\", \"RAUM_CODE\": \"R00014\", \"sum_WBev\": 1030.0}, {\"StichtagDatJahr\": \"1998-12-31T00:00:00\", \"RAUM_LANG\": \"Enge\", \"RAUM_CODE\": \"R00024\", \"sum_WBev\": 8150.0}, {\"StichtagDatJahr\": \"1998-12-31T00:00:00\", \"RAUM_LANG\": \"Escher Wyss\", \"RAUM_CODE\": \"R00052\", \"sum_WBev\": 1579.0}, {\"StichtagDatJahr\": \"1998-12-31T00:00:00\", \"RAUM_LANG\": \"H\\u00f6ngg\", \"RAUM_CODE\": \"R00101\", \"sum_WBev\": 20054.0}, {\"StichtagDatJahr\": \"1998-12-31T00:00:00\", \"RAUM_LANG\": \"Friesenberg\", \"RAUM_CODE\": \"R00033\", \"sum_WBev\": 10029.0}, {\"StichtagDatJahr\": \"1998-12-31T00:00:00\", \"RAUM_LANG\": \"Gewerbeschule\", \"RAUM_CODE\": \"R00051\", \"sum_WBev\": 9464.0}, {\"StichtagDatJahr\": \"1998-12-31T00:00:00\", \"RAUM_LANG\": \"Hard\", \"RAUM_CODE\": \"R00044\", \"sum_WBev\": 12871.0}, {\"StichtagDatJahr\": \"1998-12-31T00:00:00\", \"RAUM_LANG\": \"Hirslanden\", \"RAUM_CODE\": \"R00073\", \"sum_WBev\": 6702.0}, {\"StichtagDatJahr\": \"1998-12-31T00:00:00\", \"RAUM_LANG\": \"Hirzenbach\", \"RAUM_CODE\": \"R00123\", \"sum_WBev\": 11015.0}, {\"StichtagDatJahr\": \"1998-12-31T00:00:00\", \"RAUM_LANG\": \"Hochschulen\", \"RAUM_CODE\": \"R00012\", \"sum_WBev\": 792.0}, {\"StichtagDatJahr\": \"1998-12-31T00:00:00\", \"RAUM_LANG\": \"Fluntern\", \"RAUM_CODE\": \"R00071\", \"sum_WBev\": 7272.0}, {\"StichtagDatJahr\": \"1999-12-31T00:00:00\", \"RAUM_LANG\": \"M\\u00fchlebach\", \"RAUM_CODE\": \"R00082\", \"sum_WBev\": 5527.0}, {\"StichtagDatJahr\": \"1999-12-31T00:00:00\", \"RAUM_LANG\": \"Oberstrass\", \"RAUM_CODE\": \"R00063\", \"sum_WBev\": 9897.0}, {\"StichtagDatJahr\": \"1999-12-31T00:00:00\", \"RAUM_LANG\": \"Oerlikon\", \"RAUM_CODE\": \"R00115\", \"sum_WBev\": 17368.0}, {\"StichtagDatJahr\": \"1999-12-31T00:00:00\", \"RAUM_LANG\": \"Rathaus\", \"RAUM_CODE\": \"R00011\", \"sum_WBev\": 3104.0}, {\"StichtagDatJahr\": \"1999-12-31T00:00:00\", \"RAUM_LANG\": \"Saatlen\", \"RAUM_CODE\": \"R00121\", \"sum_WBev\": 6554.0}, {\"StichtagDatJahr\": \"1999-12-31T00:00:00\", \"RAUM_LANG\": \"Schwamendingen-Mitte\", \"RAUM_CODE\": \"R00122\", \"sum_WBev\": 10390.0}, {\"StichtagDatJahr\": \"1999-12-31T00:00:00\", \"RAUM_LANG\": \"Seebach\", \"RAUM_CODE\": \"R00119\", \"sum_WBev\": 17889.0}, {\"StichtagDatJahr\": \"1999-12-31T00:00:00\", \"RAUM_LANG\": \"Unterstrass\", \"RAUM_CODE\": \"R00061\", \"sum_WBev\": 20083.0}, {\"StichtagDatJahr\": \"1999-12-31T00:00:00\", \"RAUM_LANG\": \"Sihlfeld\", \"RAUM_CODE\": \"R00034\", \"sum_WBev\": 20997.0}, {\"StichtagDatJahr\": \"1999-12-31T00:00:00\", \"RAUM_LANG\": \"Weinegg\", \"RAUM_CODE\": \"R00083\", \"sum_WBev\": 4800.0}, {\"StichtagDatJahr\": \"1999-12-31T00:00:00\", \"RAUM_LANG\": \"Werd\", \"RAUM_CODE\": \"R00041\", \"sum_WBev\": 3966.0}, {\"StichtagDatJahr\": \"1999-12-31T00:00:00\", \"RAUM_LANG\": \"Wipkingen\", \"RAUM_CODE\": \"R00102\", \"sum_WBev\": 15531.0}, {\"StichtagDatJahr\": \"1999-12-31T00:00:00\", \"RAUM_LANG\": \"Witikon\", \"RAUM_CODE\": \"R00074\", \"sum_WBev\": 9554.0}, {\"StichtagDatJahr\": \"1999-12-31T00:00:00\", \"RAUM_LANG\": \"Lindenhof\", \"RAUM_CODE\": \"R00013\", \"sum_WBev\": 1032.0}, {\"StichtagDatJahr\": \"1999-12-31T00:00:00\", \"RAUM_LANG\": \"Seefeld\", \"RAUM_CODE\": \"R00081\", \"sum_WBev\": 4969.0}, {\"StichtagDatJahr\": \"1999-12-31T00:00:00\", \"RAUM_LANG\": \"Wollishofen\", \"RAUM_CODE\": \"R00021\", \"sum_WBev\": 15896.0}, {\"StichtagDatJahr\": \"1999-12-31T00:00:00\", \"RAUM_LANG\": \"Leimbach\", \"RAUM_CODE\": \"R00023\", \"sum_WBev\": 4650.0}, {\"StichtagDatJahr\": \"1999-12-31T00:00:00\", \"RAUM_LANG\": \"H\\u00f6ngg\", \"RAUM_CODE\": \"R00101\", \"sum_WBev\": 20559.0}, {\"StichtagDatJahr\": \"1999-12-31T00:00:00\", \"RAUM_LANG\": \"Langstrasse\", \"RAUM_CODE\": \"R00042\", \"sum_WBev\": 10370.0}, {\"StichtagDatJahr\": \"1999-12-31T00:00:00\", \"RAUM_LANG\": \"Affoltern\", \"RAUM_CODE\": \"R00111\", \"sum_WBev\": 18468.0}, {\"StichtagDatJahr\": \"1999-12-31T00:00:00\", \"RAUM_LANG\": \"Albisrieden\", \"RAUM_CODE\": \"R00091\", \"sum_WBev\": 16341.0}, {\"StichtagDatJahr\": \"1999-12-31T00:00:00\", \"RAUM_LANG\": \"Alt-Wiedikon\", \"RAUM_CODE\": \"R00031\", \"sum_WBev\": 14889.0}, {\"StichtagDatJahr\": \"1999-12-31T00:00:00\", \"RAUM_LANG\": \"Altstetten\", \"RAUM_CODE\": \"R00092\", \"sum_WBev\": 27928.0}, {\"StichtagDatJahr\": \"1999-12-31T00:00:00\", \"RAUM_LANG\": \"Enge\", \"RAUM_CODE\": \"R00024\", \"sum_WBev\": 8134.0}, {\"StichtagDatJahr\": \"1999-12-31T00:00:00\", \"RAUM_LANG\": \"Escher Wyss\", \"RAUM_CODE\": \"R00052\", \"sum_WBev\": 1953.0}, {\"StichtagDatJahr\": \"1999-12-31T00:00:00\", \"RAUM_LANG\": \"City\", \"RAUM_CODE\": \"R00014\", \"sum_WBev\": 967.0}, {\"StichtagDatJahr\": \"1999-12-31T00:00:00\", \"RAUM_LANG\": \"Friesenberg\", \"RAUM_CODE\": \"R00033\", \"sum_WBev\": 10013.0}, {\"StichtagDatJahr\": \"1999-12-31T00:00:00\", \"RAUM_LANG\": \"Gewerbeschule\", \"RAUM_CODE\": \"R00051\", \"sum_WBev\": 9594.0}, {\"StichtagDatJahr\": \"1999-12-31T00:00:00\", \"RAUM_LANG\": \"Hard\", \"RAUM_CODE\": \"R00044\", \"sum_WBev\": 12951.0}, {\"StichtagDatJahr\": \"1999-12-31T00:00:00\", \"RAUM_LANG\": \"Hirslanden\", \"RAUM_CODE\": \"R00073\", \"sum_WBev\": 6837.0}, {\"StichtagDatJahr\": \"1999-12-31T00:00:00\", \"RAUM_LANG\": \"Hirzenbach\", \"RAUM_CODE\": \"R00123\", \"sum_WBev\": 11119.0}, {\"StichtagDatJahr\": \"1999-12-31T00:00:00\", \"RAUM_LANG\": \"Hochschulen\", \"RAUM_CODE\": \"R00012\", \"sum_WBev\": 769.0}, {\"StichtagDatJahr\": \"1999-12-31T00:00:00\", \"RAUM_LANG\": \"Hottingen\", \"RAUM_CODE\": \"R00072\", \"sum_WBev\": 10307.0}, {\"StichtagDatJahr\": \"1999-12-31T00:00:00\", \"RAUM_LANG\": \"Fluntern\", \"RAUM_CODE\": \"R00071\", \"sum_WBev\": 7298.0}, {\"StichtagDatJahr\": \"2000-12-31T00:00:00\", \"RAUM_LANG\": \"Schwamendingen-Mitte\", \"RAUM_CODE\": \"R00122\", \"sum_WBev\": 10479.0}, {\"StichtagDatJahr\": \"2000-12-31T00:00:00\", \"RAUM_LANG\": \"M\\u00fchlebach\", \"RAUM_CODE\": \"R00082\", \"sum_WBev\": 5545.0}, {\"StichtagDatJahr\": \"2000-12-31T00:00:00\", \"RAUM_LANG\": \"Oberstrass\", \"RAUM_CODE\": \"R00063\", \"sum_WBev\": 9864.0}, {\"StichtagDatJahr\": \"2000-12-31T00:00:00\", \"RAUM_LANG\": \"Oerlikon\", \"RAUM_CODE\": \"R00115\", \"sum_WBev\": 17876.0}, {\"StichtagDatJahr\": \"2000-12-31T00:00:00\", \"RAUM_LANG\": \"Rathaus\", \"RAUM_CODE\": \"R00011\", \"sum_WBev\": 3109.0}, {\"StichtagDatJahr\": \"2000-12-31T00:00:00\", \"RAUM_LANG\": \"Saatlen\", \"RAUM_CODE\": \"R00121\", \"sum_WBev\": 6338.0}, {\"StichtagDatJahr\": \"2000-12-31T00:00:00\", \"RAUM_LANG\": \"Seebach\", \"RAUM_CODE\": \"R00119\", \"sum_WBev\": 17870.0}, {\"StichtagDatJahr\": \"2000-12-31T00:00:00\", \"RAUM_LANG\": \"Lindenhof\", \"RAUM_CODE\": \"R00013\", \"sum_WBev\": 989.0}, {\"StichtagDatJahr\": \"2000-12-31T00:00:00\", \"RAUM_LANG\": \"Sihlfeld\", \"RAUM_CODE\": \"R00034\", \"sum_WBev\": 20887.0}, {\"StichtagDatJahr\": \"2000-12-31T00:00:00\", \"RAUM_LANG\": \"Unterstrass\", \"RAUM_CODE\": \"R00061\", \"sum_WBev\": 19933.0}, {\"StichtagDatJahr\": \"2000-12-31T00:00:00\", \"RAUM_LANG\": \"Weinegg\", \"RAUM_CODE\": \"R00083\", \"sum_WBev\": 4804.0}, {\"StichtagDatJahr\": \"2000-12-31T00:00:00\", \"RAUM_LANG\": \"Werd\", \"RAUM_CODE\": \"R00041\", \"sum_WBev\": 3917.0}, {\"StichtagDatJahr\": \"2000-12-31T00:00:00\", \"RAUM_LANG\": \"Wipkingen\", \"RAUM_CODE\": \"R00102\", \"sum_WBev\": 15704.0}, {\"StichtagDatJahr\": \"2000-12-31T00:00:00\", \"RAUM_LANG\": \"Witikon\", \"RAUM_CODE\": \"R00074\", \"sum_WBev\": 9544.0}, {\"StichtagDatJahr\": \"2000-12-31T00:00:00\", \"RAUM_LANG\": \"Wollishofen\", \"RAUM_CODE\": \"R00021\", \"sum_WBev\": 16102.0}, {\"StichtagDatJahr\": \"2000-12-31T00:00:00\", \"RAUM_LANG\": \"Seefeld\", \"RAUM_CODE\": \"R00081\", \"sum_WBev\": 4989.0}, {\"StichtagDatJahr\": \"2000-12-31T00:00:00\", \"RAUM_LANG\": \"Leimbach\", \"RAUM_CODE\": \"R00023\", \"sum_WBev\": 4644.0}, {\"StichtagDatJahr\": \"2000-12-31T00:00:00\", \"RAUM_LANG\": \"Fluntern\", \"RAUM_CODE\": \"R00071\", \"sum_WBev\": 7267.0}, {\"StichtagDatJahr\": \"2000-12-31T00:00:00\", \"RAUM_LANG\": \"H\\u00f6ngg\", \"RAUM_CODE\": \"R00101\", \"sum_WBev\": 20423.0}, {\"StichtagDatJahr\": \"2000-12-31T00:00:00\", \"RAUM_LANG\": \"Albisrieden\", \"RAUM_CODE\": \"R00091\", \"sum_WBev\": 16445.0}, {\"StichtagDatJahr\": \"2000-12-31T00:00:00\", \"RAUM_LANG\": \"Alt-Wiedikon\", \"RAUM_CODE\": \"R00031\", \"sum_WBev\": 14789.0}, {\"StichtagDatJahr\": \"2000-12-31T00:00:00\", \"RAUM_LANG\": \"Altstetten\", \"RAUM_CODE\": \"R00092\", \"sum_WBev\": 28174.0}, {\"StichtagDatJahr\": \"2000-12-31T00:00:00\", \"RAUM_LANG\": \"City\", \"RAUM_CODE\": \"R00014\", \"sum_WBev\": 929.0}, {\"StichtagDatJahr\": \"2000-12-31T00:00:00\", \"RAUM_LANG\": \"Enge\", \"RAUM_CODE\": \"R00024\", \"sum_WBev\": 8189.0}, {\"StichtagDatJahr\": \"2000-12-31T00:00:00\", \"RAUM_LANG\": \"Escher Wyss\", \"RAUM_CODE\": \"R00052\", \"sum_WBev\": 1929.0}, {\"StichtagDatJahr\": \"2000-12-31T00:00:00\", \"RAUM_LANG\": \"Langstrasse\", \"RAUM_CODE\": \"R00042\", \"sum_WBev\": 10237.0}, {\"StichtagDatJahr\": \"2000-12-31T00:00:00\", \"RAUM_LANG\": \"Affoltern\", \"RAUM_CODE\": \"R00111\", \"sum_WBev\": 18387.0}, {\"StichtagDatJahr\": \"2000-12-31T00:00:00\", \"RAUM_LANG\": \"Gewerbeschule\", \"RAUM_CODE\": \"R00051\", \"sum_WBev\": 9824.0}, {\"StichtagDatJahr\": \"2000-12-31T00:00:00\", \"RAUM_LANG\": \"Hard\", \"RAUM_CODE\": \"R00044\", \"sum_WBev\": 12875.0}, {\"StichtagDatJahr\": \"2000-12-31T00:00:00\", \"RAUM_LANG\": \"Hirslanden\", \"RAUM_CODE\": \"R00073\", \"sum_WBev\": 6759.0}, {\"StichtagDatJahr\": \"2000-12-31T00:00:00\", \"RAUM_LANG\": \"Hirzenbach\", \"RAUM_CODE\": \"R00123\", \"sum_WBev\": 11281.0}, {\"StichtagDatJahr\": \"2000-12-31T00:00:00\", \"RAUM_LANG\": \"Hochschulen\", \"RAUM_CODE\": \"R00012\", \"sum_WBev\": 759.0}, {\"StichtagDatJahr\": \"2000-12-31T00:00:00\", \"RAUM_LANG\": \"Hottingen\", \"RAUM_CODE\": \"R00072\", \"sum_WBev\": 10147.0}, {\"StichtagDatJahr\": \"2000-12-31T00:00:00\", \"RAUM_LANG\": \"Friesenberg\", \"RAUM_CODE\": \"R00033\", \"sum_WBev\": 9972.0}, {\"StichtagDatJahr\": \"2001-12-31T00:00:00\", \"RAUM_LANG\": \"M\\u00fchlebach\", \"RAUM_CODE\": \"R00082\", \"sum_WBev\": 5486.0}, {\"StichtagDatJahr\": \"2001-12-31T00:00:00\", \"RAUM_LANG\": \"Oberstrass\", \"RAUM_CODE\": \"R00063\", \"sum_WBev\": 9764.0}, {\"StichtagDatJahr\": \"2001-12-31T00:00:00\", \"RAUM_LANG\": \"Oerlikon\", \"RAUM_CODE\": \"R00115\", \"sum_WBev\": 18223.0}, {\"StichtagDatJahr\": \"2001-12-31T00:00:00\", \"RAUM_LANG\": \"Rathaus\", \"RAUM_CODE\": \"R00011\", \"sum_WBev\": 3103.0}, {\"StichtagDatJahr\": \"2001-12-31T00:00:00\", \"RAUM_LANG\": \"Saatlen\", \"RAUM_CODE\": \"R00121\", \"sum_WBev\": 6386.0}, {\"StichtagDatJahr\": \"2001-12-31T00:00:00\", \"RAUM_LANG\": \"Schwamendingen-Mitte\", \"RAUM_CODE\": \"R00122\", \"sum_WBev\": 10430.0}, {\"StichtagDatJahr\": \"2001-12-31T00:00:00\", \"RAUM_LANG\": \"Seebach\", \"RAUM_CODE\": \"R00119\", \"sum_WBev\": 18103.0}, {\"StichtagDatJahr\": \"2001-12-31T00:00:00\", \"RAUM_LANG\": \"Unterstrass\", \"RAUM_CODE\": \"R00061\", \"sum_WBev\": 19831.0}, {\"StichtagDatJahr\": \"2001-12-31T00:00:00\", \"RAUM_LANG\": \"Sihlfeld\", \"RAUM_CODE\": \"R00034\", \"sum_WBev\": 20704.0}, {\"StichtagDatJahr\": \"2001-12-31T00:00:00\", \"RAUM_LANG\": \"Weinegg\", \"RAUM_CODE\": \"R00083\", \"sum_WBev\": 4816.0}, {\"StichtagDatJahr\": \"2001-12-31T00:00:00\", \"RAUM_LANG\": \"Werd\", \"RAUM_CODE\": \"R00041\", \"sum_WBev\": 3838.0}, {\"StichtagDatJahr\": \"2001-12-31T00:00:00\", \"RAUM_LANG\": \"Wipkingen\", \"RAUM_CODE\": \"R00102\", \"sum_WBev\": 15567.0}, {\"StichtagDatJahr\": \"2001-12-31T00:00:00\", \"RAUM_LANG\": \"Witikon\", \"RAUM_CODE\": \"R00074\", \"sum_WBev\": 9559.0}, {\"StichtagDatJahr\": \"2001-12-31T00:00:00\", \"RAUM_LANG\": \"Lindenhof\", \"RAUM_CODE\": \"R00013\", \"sum_WBev\": 948.0}, {\"StichtagDatJahr\": \"2001-12-31T00:00:00\", \"RAUM_LANG\": \"Seefeld\", \"RAUM_CODE\": \"R00081\", \"sum_WBev\": 5025.0}, {\"StichtagDatJahr\": \"2001-12-31T00:00:00\", \"RAUM_LANG\": \"Leimbach\", \"RAUM_CODE\": \"R00023\", \"sum_WBev\": 4668.0}, {\"StichtagDatJahr\": \"2001-12-31T00:00:00\", \"RAUM_LANG\": \"Wollishofen\", \"RAUM_CODE\": \"R00021\", \"sum_WBev\": 15928.0}, {\"StichtagDatJahr\": \"2001-12-31T00:00:00\", \"RAUM_LANG\": \"H\\u00f6ngg\", \"RAUM_CODE\": \"R00101\", \"sum_WBev\": 20588.0}, {\"StichtagDatJahr\": \"2001-12-31T00:00:00\", \"RAUM_LANG\": \"Affoltern\", \"RAUM_CODE\": \"R00111\", \"sum_WBev\": 18693.0}, {\"StichtagDatJahr\": \"2001-12-31T00:00:00\", \"RAUM_LANG\": \"Albisrieden\", \"RAUM_CODE\": \"R00091\", \"sum_WBev\": 16614.0}, {\"StichtagDatJahr\": \"2001-12-31T00:00:00\", \"RAUM_LANG\": \"Alt-Wiedikon\", \"RAUM_CODE\": \"R00031\", \"sum_WBev\": 14692.0}, {\"StichtagDatJahr\": \"2001-12-31T00:00:00\", \"RAUM_LANG\": \"Altstetten\", \"RAUM_CODE\": \"R00092\", \"sum_WBev\": 28783.0}, {\"StichtagDatJahr\": \"2001-12-31T00:00:00\", \"RAUM_LANG\": \"City\", \"RAUM_CODE\": \"R00014\", \"sum_WBev\": 907.0}, {\"StichtagDatJahr\": \"2001-12-31T00:00:00\", \"RAUM_LANG\": \"Enge\", \"RAUM_CODE\": \"R00024\", \"sum_WBev\": 8102.0}, {\"StichtagDatJahr\": \"2001-12-31T00:00:00\", \"RAUM_LANG\": \"Escher Wyss\", \"RAUM_CODE\": \"R00052\", \"sum_WBev\": 2133.0}, {\"StichtagDatJahr\": \"2001-12-31T00:00:00\", \"RAUM_LANG\": \"Langstrasse\", \"RAUM_CODE\": \"R00042\", \"sum_WBev\": 10276.0}, {\"StichtagDatJahr\": \"2001-12-31T00:00:00\", \"RAUM_LANG\": \"Friesenberg\", \"RAUM_CODE\": \"R00033\", \"sum_WBev\": 10042.0}, {\"StichtagDatJahr\": \"2001-12-31T00:00:00\", \"RAUM_LANG\": \"Gewerbeschule\", \"RAUM_CODE\": \"R00051\", \"sum_WBev\": 9835.0}, {\"StichtagDatJahr\": \"2001-12-31T00:00:00\", \"RAUM_LANG\": \"Hard\", \"RAUM_CODE\": \"R00044\", \"sum_WBev\": 12841.0}, {\"StichtagDatJahr\": \"2001-12-31T00:00:00\", \"RAUM_LANG\": \"Hirslanden\", \"RAUM_CODE\": \"R00073\", \"sum_WBev\": 6800.0}, {\"StichtagDatJahr\": \"2001-12-31T00:00:00\", \"RAUM_LANG\": \"Hirzenbach\", \"RAUM_CODE\": \"R00123\", \"sum_WBev\": 11302.0}, {\"StichtagDatJahr\": \"2001-12-31T00:00:00\", \"RAUM_LANG\": \"Hochschulen\", \"RAUM_CODE\": \"R00012\", \"sum_WBev\": 738.0}, {\"StichtagDatJahr\": \"2001-12-31T00:00:00\", \"RAUM_LANG\": \"Hottingen\", \"RAUM_CODE\": \"R00072\", \"sum_WBev\": 10096.0}, {\"StichtagDatJahr\": \"2001-12-31T00:00:00\", \"RAUM_LANG\": \"Fluntern\", \"RAUM_CODE\": \"R00071\", \"sum_WBev\": 7221.0}, {\"StichtagDatJahr\": \"2002-12-31T00:00:00\", \"RAUM_LANG\": \"Lindenhof\", \"RAUM_CODE\": \"R00013\", \"sum_WBev\": 950.0}, {\"StichtagDatJahr\": \"2002-12-31T00:00:00\", \"RAUM_LANG\": \"M\\u00fchlebach\", \"RAUM_CODE\": \"R00082\", \"sum_WBev\": 5450.0}, {\"StichtagDatJahr\": \"2002-12-31T00:00:00\", \"RAUM_LANG\": \"Oberstrass\", \"RAUM_CODE\": \"R00063\", \"sum_WBev\": 9725.0}, {\"StichtagDatJahr\": \"2002-12-31T00:00:00\", \"RAUM_LANG\": \"Oerlikon\", \"RAUM_CODE\": \"R00115\", \"sum_WBev\": 18778.0}, {\"StichtagDatJahr\": \"2002-12-31T00:00:00\", \"RAUM_LANG\": \"Rathaus\", \"RAUM_CODE\": \"R00011\", \"sum_WBev\": 3128.0}, {\"StichtagDatJahr\": \"2002-12-31T00:00:00\", \"RAUM_LANG\": \"Saatlen\", \"RAUM_CODE\": \"R00121\", \"sum_WBev\": 6663.0}, {\"StichtagDatJahr\": \"2002-12-31T00:00:00\", \"RAUM_LANG\": \"Schwamendingen-Mitte\", \"RAUM_CODE\": \"R00122\", \"sum_WBev\": 10373.0}, {\"StichtagDatJahr\": \"2002-12-31T00:00:00\", \"RAUM_LANG\": \"Unterstrass\", \"RAUM_CODE\": \"R00061\", \"sum_WBev\": 19863.0}, {\"StichtagDatJahr\": \"2002-12-31T00:00:00\", \"RAUM_LANG\": \"Seefeld\", \"RAUM_CODE\": \"R00081\", \"sum_WBev\": 5122.0}, {\"StichtagDatJahr\": \"2002-12-31T00:00:00\", \"RAUM_LANG\": \"Sihlfeld\", \"RAUM_CODE\": \"R00034\", \"sum_WBev\": 20731.0}, {\"StichtagDatJahr\": \"2002-12-31T00:00:00\", \"RAUM_LANG\": \"Weinegg\", \"RAUM_CODE\": \"R00083\", \"sum_WBev\": 4776.0}, {\"StichtagDatJahr\": \"2002-12-31T00:00:00\", \"RAUM_LANG\": \"Werd\", \"RAUM_CODE\": \"R00041\", \"sum_WBev\": 3850.0}, {\"StichtagDatJahr\": \"2002-12-31T00:00:00\", \"RAUM_LANG\": \"Wipkingen\", \"RAUM_CODE\": \"R00102\", \"sum_WBev\": 15495.0}, {\"StichtagDatJahr\": \"2002-12-31T00:00:00\", \"RAUM_LANG\": \"Witikon\", \"RAUM_CODE\": \"R00074\", \"sum_WBev\": 9571.0}, {\"StichtagDatJahr\": \"2002-12-31T00:00:00\", \"RAUM_LANG\": \"Leimbach\", \"RAUM_CODE\": \"R00023\", \"sum_WBev\": 4681.0}, {\"StichtagDatJahr\": \"2002-12-31T00:00:00\", \"RAUM_LANG\": \"Seebach\", \"RAUM_CODE\": \"R00119\", \"sum_WBev\": 18972.0}, {\"StichtagDatJahr\": \"2002-12-31T00:00:00\", \"RAUM_LANG\": \"Wollishofen\", \"RAUM_CODE\": \"R00021\", \"sum_WBev\": 15771.0}, {\"StichtagDatJahr\": \"2002-12-31T00:00:00\", \"RAUM_LANG\": \"Langstrasse\", \"RAUM_CODE\": \"R00042\", \"sum_WBev\": 10447.0}, {\"StichtagDatJahr\": \"2002-12-31T00:00:00\", \"RAUM_LANG\": \"Hottingen\", \"RAUM_CODE\": \"R00072\", \"sum_WBev\": 10021.0}, {\"StichtagDatJahr\": \"2002-12-31T00:00:00\", \"RAUM_LANG\": \"H\\u00f6ngg\", \"RAUM_CODE\": \"R00101\", \"sum_WBev\": 20570.0}, {\"StichtagDatJahr\": \"2002-12-31T00:00:00\", \"RAUM_LANG\": \"Affoltern\", \"RAUM_CODE\": \"R00111\", \"sum_WBev\": 18705.0}, {\"StichtagDatJahr\": \"2002-12-31T00:00:00\", \"RAUM_LANG\": \"Albisrieden\", \"RAUM_CODE\": \"R00091\", \"sum_WBev\": 16669.0}, {\"StichtagDatJahr\": \"2002-12-31T00:00:00\", \"RAUM_LANG\": \"Alt-Wiedikon\", \"RAUM_CODE\": \"R00031\", \"sum_WBev\": 14811.0}, {\"StichtagDatJahr\": \"2002-12-31T00:00:00\", \"RAUM_LANG\": \"City\", \"RAUM_CODE\": \"R00014\", \"sum_WBev\": 910.0}, {\"StichtagDatJahr\": \"2002-12-31T00:00:00\", \"RAUM_LANG\": \"Enge\", \"RAUM_CODE\": \"R00024\", \"sum_WBev\": 8279.0}, {\"StichtagDatJahr\": \"2002-12-31T00:00:00\", \"RAUM_LANG\": \"Escher Wyss\", \"RAUM_CODE\": \"R00052\", \"sum_WBev\": 2516.0}, {\"StichtagDatJahr\": \"2002-12-31T00:00:00\", \"RAUM_LANG\": \"Altstetten\", \"RAUM_CODE\": \"R00092\", \"sum_WBev\": 28776.0}, {\"StichtagDatJahr\": \"2002-12-31T00:00:00\", \"RAUM_LANG\": \"Friesenberg\", \"RAUM_CODE\": \"R00033\", \"sum_WBev\": 10188.0}, {\"StichtagDatJahr\": \"2002-12-31T00:00:00\", \"RAUM_LANG\": \"Gewerbeschule\", \"RAUM_CODE\": \"R00051\", \"sum_WBev\": 9900.0}, {\"StichtagDatJahr\": \"2002-12-31T00:00:00\", \"RAUM_LANG\": \"Hard\", \"RAUM_CODE\": \"R00044\", \"sum_WBev\": 12856.0}, {\"StichtagDatJahr\": \"2002-12-31T00:00:00\", \"RAUM_LANG\": \"Hirslanden\", \"RAUM_CODE\": \"R00073\", \"sum_WBev\": 6781.0}, {\"StichtagDatJahr\": \"2002-12-31T00:00:00\", \"RAUM_LANG\": \"Hirzenbach\", \"RAUM_CODE\": \"R00123\", \"sum_WBev\": 11434.0}, {\"StichtagDatJahr\": \"2002-12-31T00:00:00\", \"RAUM_LANG\": \"Hochschulen\", \"RAUM_CODE\": \"R00012\", \"sum_WBev\": 727.0}, {\"StichtagDatJahr\": \"2002-12-31T00:00:00\", \"RAUM_LANG\": \"Fluntern\", \"RAUM_CODE\": \"R00071\", \"sum_WBev\": 7069.0}, {\"StichtagDatJahr\": \"2003-12-31T00:00:00\", \"RAUM_LANG\": \"Schwamendingen-Mitte\", \"RAUM_CODE\": \"R00122\", \"sum_WBev\": 10389.0}, {\"StichtagDatJahr\": \"2003-12-31T00:00:00\", \"RAUM_LANG\": \"M\\u00fchlebach\", \"RAUM_CODE\": \"R00082\", \"sum_WBev\": 5434.0}, {\"StichtagDatJahr\": \"2003-12-31T00:00:00\", \"RAUM_LANG\": \"Oberstrass\", \"RAUM_CODE\": \"R00063\", \"sum_WBev\": 9689.0}, {\"StichtagDatJahr\": \"2003-12-31T00:00:00\", \"RAUM_LANG\": \"Oerlikon\", \"RAUM_CODE\": \"R00115\", \"sum_WBev\": 19217.0}, {\"StichtagDatJahr\": \"2003-12-31T00:00:00\", \"RAUM_LANG\": \"Rathaus\", \"RAUM_CODE\": \"R00011\", \"sum_WBev\": 3149.0}, {\"StichtagDatJahr\": \"2003-12-31T00:00:00\", \"RAUM_LANG\": \"Saatlen\", \"RAUM_CODE\": \"R00121\", \"sum_WBev\": 6583.0}, {\"StichtagDatJahr\": \"2003-12-31T00:00:00\", \"RAUM_LANG\": \"Seebach\", \"RAUM_CODE\": \"R00119\", \"sum_WBev\": 19438.0}, {\"StichtagDatJahr\": \"2003-12-31T00:00:00\", \"RAUM_LANG\": \"Lindenhof\", \"RAUM_CODE\": \"R00013\", \"sum_WBev\": 942.0}, {\"StichtagDatJahr\": \"2003-12-31T00:00:00\", \"RAUM_LANG\": \"Sihlfeld\", \"RAUM_CODE\": \"R00034\", \"sum_WBev\": 20663.0}, {\"StichtagDatJahr\": \"2003-12-31T00:00:00\", \"RAUM_LANG\": \"Unterstrass\", \"RAUM_CODE\": \"R00061\", \"sum_WBev\": 19882.0}, {\"StichtagDatJahr\": \"2003-12-31T00:00:00\", \"RAUM_LANG\": \"Weinegg\", \"RAUM_CODE\": \"R00083\", \"sum_WBev\": 4747.0}, {\"StichtagDatJahr\": \"2003-12-31T00:00:00\", \"RAUM_LANG\": \"Werd\", \"RAUM_CODE\": \"R00041\", \"sum_WBev\": 3788.0}, {\"StichtagDatJahr\": \"2003-12-31T00:00:00\", \"RAUM_LANG\": \"Wipkingen\", \"RAUM_CODE\": \"R00102\", \"sum_WBev\": 15476.0}, {\"StichtagDatJahr\": \"2003-12-31T00:00:00\", \"RAUM_LANG\": \"Witikon\", \"RAUM_CODE\": \"R00074\", \"sum_WBev\": 9503.0}, {\"StichtagDatJahr\": \"2003-12-31T00:00:00\", \"RAUM_LANG\": \"Seefeld\", \"RAUM_CODE\": \"R00081\", \"sum_WBev\": 4996.0}, {\"StichtagDatJahr\": \"2003-12-31T00:00:00\", \"RAUM_LANG\": \"Leimbach\", \"RAUM_CODE\": \"R00023\", \"sum_WBev\": 4830.0}, {\"StichtagDatJahr\": \"2003-12-31T00:00:00\", \"RAUM_LANG\": \"Wollishofen\", \"RAUM_CODE\": \"R00021\", \"sum_WBev\": 15468.0}, {\"StichtagDatJahr\": \"2003-12-31T00:00:00\", \"RAUM_LANG\": \"H\\u00f6ngg\", \"RAUM_CODE\": \"R00101\", \"sum_WBev\": 20810.0}, {\"StichtagDatJahr\": \"2003-12-31T00:00:00\", \"RAUM_LANG\": \"Affoltern\", \"RAUM_CODE\": \"R00111\", \"sum_WBev\": 18787.0}, {\"StichtagDatJahr\": \"2003-12-31T00:00:00\", \"RAUM_LANG\": \"Albisrieden\", \"RAUM_CODE\": \"R00091\", \"sum_WBev\": 17018.0}, {\"StichtagDatJahr\": \"2003-12-31T00:00:00\", \"RAUM_LANG\": \"Alt-Wiedikon\", \"RAUM_CODE\": \"R00031\", \"sum_WBev\": 14459.0}, {\"StichtagDatJahr\": \"2003-12-31T00:00:00\", \"RAUM_LANG\": \"Altstetten\", \"RAUM_CODE\": \"R00092\", \"sum_WBev\": 28323.0}, {\"StichtagDatJahr\": \"2003-12-31T00:00:00\", \"RAUM_LANG\": \"City\", \"RAUM_CODE\": \"R00014\", \"sum_WBev\": 886.0}, {\"StichtagDatJahr\": \"2003-12-31T00:00:00\", \"RAUM_LANG\": \"Enge\", \"RAUM_CODE\": \"R00024\", \"sum_WBev\": 8228.0}, {\"StichtagDatJahr\": \"2003-12-31T00:00:00\", \"RAUM_LANG\": \"Escher Wyss\", \"RAUM_CODE\": \"R00052\", \"sum_WBev\": 2465.0}, {\"StichtagDatJahr\": \"2003-12-31T00:00:00\", \"RAUM_LANG\": \"Langstrasse\", \"RAUM_CODE\": \"R00042\", \"sum_WBev\": 10304.0}, {\"StichtagDatJahr\": \"2003-12-31T00:00:00\", \"RAUM_LANG\": \"Friesenberg\", \"RAUM_CODE\": \"R00033\", \"sum_WBev\": 10387.0}, {\"StichtagDatJahr\": \"2003-12-31T00:00:00\", \"RAUM_LANG\": \"Gewerbeschule\", \"RAUM_CODE\": \"R00051\", \"sum_WBev\": 9781.0}, {\"StichtagDatJahr\": \"2003-12-31T00:00:00\", \"RAUM_LANG\": \"Hard\", \"RAUM_CODE\": \"R00044\", \"sum_WBev\": 12817.0}, {\"StichtagDatJahr\": \"2003-12-31T00:00:00\", \"RAUM_LANG\": \"Hirslanden\", \"RAUM_CODE\": \"R00073\", \"sum_WBev\": 6795.0}, {\"StichtagDatJahr\": \"2003-12-31T00:00:00\", \"RAUM_LANG\": \"Hirzenbach\", \"RAUM_CODE\": \"R00123\", \"sum_WBev\": 11432.0}, {\"StichtagDatJahr\": \"2003-12-31T00:00:00\", \"RAUM_LANG\": \"Hochschulen\", \"RAUM_CODE\": \"R00012\", \"sum_WBev\": 723.0}, {\"StichtagDatJahr\": \"2003-12-31T00:00:00\", \"RAUM_LANG\": \"Hottingen\", \"RAUM_CODE\": \"R00072\", \"sum_WBev\": 10017.0}, {\"StichtagDatJahr\": \"2003-12-31T00:00:00\", \"RAUM_LANG\": \"Fluntern\", \"RAUM_CODE\": \"R00071\", \"sum_WBev\": 7102.0}, {\"StichtagDatJahr\": \"2004-12-31T00:00:00\", \"RAUM_LANG\": \"M\\u00fchlebach\", \"RAUM_CODE\": \"R00082\", \"sum_WBev\": 5546.0}, {\"StichtagDatJahr\": \"2004-12-31T00:00:00\", \"RAUM_LANG\": \"Oberstrass\", \"RAUM_CODE\": \"R00063\", \"sum_WBev\": 9546.0}, {\"StichtagDatJahr\": \"2004-12-31T00:00:00\", \"RAUM_LANG\": \"Rathaus\", \"RAUM_CODE\": \"R00011\", \"sum_WBev\": 3115.0}, {\"StichtagDatJahr\": \"2004-12-31T00:00:00\", \"RAUM_LANG\": \"Saatlen\", \"RAUM_CODE\": \"R00121\", \"sum_WBev\": 6697.0}, {\"StichtagDatJahr\": \"2004-12-31T00:00:00\", \"RAUM_LANG\": \"Schwamendingen-Mitte\", \"RAUM_CODE\": \"R00122\", \"sum_WBev\": 10274.0}, {\"StichtagDatJahr\": \"2004-12-31T00:00:00\", \"RAUM_LANG\": \"Seebach\", \"RAUM_CODE\": \"R00119\", \"sum_WBev\": 19501.0}, {\"StichtagDatJahr\": \"2004-12-31T00:00:00\", \"RAUM_LANG\": \"Weinegg\", \"RAUM_CODE\": \"R00083\", \"sum_WBev\": 4771.0}, {\"StichtagDatJahr\": \"2004-12-31T00:00:00\", \"RAUM_LANG\": \"Sihlfeld\", \"RAUM_CODE\": \"R00034\", \"sum_WBev\": 20567.0}, {\"StichtagDatJahr\": \"2004-12-31T00:00:00\", \"RAUM_LANG\": \"Unterstrass\", \"RAUM_CODE\": \"R00061\", \"sum_WBev\": 19742.0}, {\"StichtagDatJahr\": \"2004-12-31T00:00:00\", \"RAUM_LANG\": \"Lindenhof\", \"RAUM_CODE\": \"R00013\", \"sum_WBev\": 947.0}, {\"StichtagDatJahr\": \"2004-12-31T00:00:00\", \"RAUM_LANG\": \"Werd\", \"RAUM_CODE\": \"R00041\", \"sum_WBev\": 3763.0}, {\"StichtagDatJahr\": \"2004-12-31T00:00:00\", \"RAUM_LANG\": \"Wipkingen\", \"RAUM_CODE\": \"R00102\", \"sum_WBev\": 15428.0}, {\"StichtagDatJahr\": \"2004-12-31T00:00:00\", \"RAUM_LANG\": \"Witikon\", \"RAUM_CODE\": \"R00074\", \"sum_WBev\": 9711.0}, {\"StichtagDatJahr\": \"2004-12-31T00:00:00\", \"RAUM_LANG\": \"Wollishofen\", \"RAUM_CODE\": \"R00021\", \"sum_WBev\": 15499.0}, {\"StichtagDatJahr\": \"2004-12-31T00:00:00\", \"RAUM_LANG\": \"Seefeld\", \"RAUM_CODE\": \"R00081\", \"sum_WBev\": 4993.0}, {\"StichtagDatJahr\": \"2004-12-31T00:00:00\", \"RAUM_LANG\": \"Leimbach\", \"RAUM_CODE\": \"R00023\", \"sum_WBev\": 4778.0}, {\"StichtagDatJahr\": \"2004-12-31T00:00:00\", \"RAUM_LANG\": \"Oerlikon\", \"RAUM_CODE\": \"R00115\", \"sum_WBev\": 19375.0}, {\"StichtagDatJahr\": \"2004-12-31T00:00:00\", \"RAUM_LANG\": \"H\\u00f6ngg\", \"RAUM_CODE\": \"R00101\", \"sum_WBev\": 20856.0}, {\"StichtagDatJahr\": \"2004-12-31T00:00:00\", \"RAUM_LANG\": \"Affoltern\", \"RAUM_CODE\": \"R00111\", \"sum_WBev\": 18886.0}, {\"StichtagDatJahr\": \"2004-12-31T00:00:00\", \"RAUM_LANG\": \"Albisrieden\", \"RAUM_CODE\": \"R00091\", \"sum_WBev\": 17087.0}, {\"StichtagDatJahr\": \"2004-12-31T00:00:00\", \"RAUM_LANG\": \"Alt-Wiedikon\", \"RAUM_CODE\": \"R00031\", \"sum_WBev\": 14551.0}, {\"StichtagDatJahr\": \"2004-12-31T00:00:00\", \"RAUM_LANG\": \"Altstetten\", \"RAUM_CODE\": \"R00092\", \"sum_WBev\": 28368.0}, {\"StichtagDatJahr\": \"2004-12-31T00:00:00\", \"RAUM_LANG\": \"City\", \"RAUM_CODE\": \"R00014\", \"sum_WBev\": 843.0}, {\"StichtagDatJahr\": \"2004-12-31T00:00:00\", \"RAUM_LANG\": \"Enge\", \"RAUM_CODE\": \"R00024\", \"sum_WBev\": 8209.0}, {\"StichtagDatJahr\": \"2004-12-31T00:00:00\", \"RAUM_LANG\": \"Escher Wyss\", \"RAUM_CODE\": \"R00052\", \"sum_WBev\": 2624.0}, {\"StichtagDatJahr\": \"2004-12-31T00:00:00\", \"RAUM_LANG\": \"Langstrasse\", \"RAUM_CODE\": \"R00042\", \"sum_WBev\": 10319.0}, {\"StichtagDatJahr\": \"2004-12-31T00:00:00\", \"RAUM_LANG\": \"Friesenberg\", \"RAUM_CODE\": \"R00033\", \"sum_WBev\": 10326.0}, {\"StichtagDatJahr\": \"2004-12-31T00:00:00\", \"RAUM_LANG\": \"Gewerbeschule\", \"RAUM_CODE\": \"R00051\", \"sum_WBev\": 9773.0}, {\"StichtagDatJahr\": \"2004-12-31T00:00:00\", \"RAUM_LANG\": \"Hard\", \"RAUM_CODE\": \"R00044\", \"sum_WBev\": 12804.0}, {\"StichtagDatJahr\": \"2004-12-31T00:00:00\", \"RAUM_LANG\": \"Hirslanden\", \"RAUM_CODE\": \"R00073\", \"sum_WBev\": 6806.0}, {\"StichtagDatJahr\": \"2004-12-31T00:00:00\", \"RAUM_LANG\": \"Hirzenbach\", \"RAUM_CODE\": \"R00123\", \"sum_WBev\": 11336.0}, {\"StichtagDatJahr\": \"2004-12-31T00:00:00\", \"RAUM_LANG\": \"Hochschulen\", \"RAUM_CODE\": \"R00012\", \"sum_WBev\": 725.0}, {\"StichtagDatJahr\": \"2004-12-31T00:00:00\", \"RAUM_LANG\": \"Hottingen\", \"RAUM_CODE\": \"R00072\", \"sum_WBev\": 9926.0}, {\"StichtagDatJahr\": \"2004-12-31T00:00:00\", \"RAUM_LANG\": \"Fluntern\", \"RAUM_CODE\": \"R00071\", \"sum_WBev\": 7285.0}, {\"StichtagDatJahr\": \"2005-12-31T00:00:00\", \"RAUM_LANG\": \"Lindenhof\", \"RAUM_CODE\": \"R00013\", \"sum_WBev\": 950.0}, {\"StichtagDatJahr\": \"2005-12-31T00:00:00\", \"RAUM_LANG\": \"M\\u00fchlebach\", \"RAUM_CODE\": \"R00082\", \"sum_WBev\": 5577.0}, {\"StichtagDatJahr\": \"2005-12-31T00:00:00\", \"RAUM_LANG\": \"Oberstrass\", \"RAUM_CODE\": \"R00063\", \"sum_WBev\": 9494.0}, {\"StichtagDatJahr\": \"2005-12-31T00:00:00\", \"RAUM_LANG\": \"Oerlikon\", \"RAUM_CODE\": \"R00115\", \"sum_WBev\": 19663.0}, {\"StichtagDatJahr\": \"2005-12-31T00:00:00\", \"RAUM_LANG\": \"Rathaus\", \"RAUM_CODE\": \"R00011\", \"sum_WBev\": 3081.0}, {\"StichtagDatJahr\": \"2005-12-31T00:00:00\", \"RAUM_LANG\": \"Saatlen\", \"RAUM_CODE\": \"R00121\", \"sum_WBev\": 6649.0}, {\"StichtagDatJahr\": \"2005-12-31T00:00:00\", \"RAUM_LANG\": \"Schwamendingen-Mitte\", \"RAUM_CODE\": \"R00122\", \"sum_WBev\": 10322.0}, {\"StichtagDatJahr\": \"2005-12-31T00:00:00\", \"RAUM_LANG\": \"Unterstrass\", \"RAUM_CODE\": \"R00061\", \"sum_WBev\": 19921.0}, {\"StichtagDatJahr\": \"2005-12-31T00:00:00\", \"RAUM_LANG\": \"Seefeld\", \"RAUM_CODE\": \"R00081\", \"sum_WBev\": 4923.0}, {\"StichtagDatJahr\": \"2005-12-31T00:00:00\", \"RAUM_LANG\": \"Sihlfeld\", \"RAUM_CODE\": \"R00034\", \"sum_WBev\": 20554.0}, {\"StichtagDatJahr\": \"2005-12-31T00:00:00\", \"RAUM_LANG\": \"Weinegg\", \"RAUM_CODE\": \"R00083\", \"sum_WBev\": 4843.0}, {\"StichtagDatJahr\": \"2005-12-31T00:00:00\", \"RAUM_LANG\": \"Werd\", \"RAUM_CODE\": \"R00041\", \"sum_WBev\": 3878.0}, {\"StichtagDatJahr\": \"2005-12-31T00:00:00\", \"RAUM_LANG\": \"Wipkingen\", \"RAUM_CODE\": \"R00102\", \"sum_WBev\": 15446.0}, {\"StichtagDatJahr\": \"2005-12-31T00:00:00\", \"RAUM_LANG\": \"Witikon\", \"RAUM_CODE\": \"R00074\", \"sum_WBev\": 9864.0}, {\"StichtagDatJahr\": \"2005-12-31T00:00:00\", \"RAUM_LANG\": \"Leimbach\", \"RAUM_CODE\": \"R00023\", \"sum_WBev\": 4867.0}, {\"StichtagDatJahr\": \"2005-12-31T00:00:00\", \"RAUM_LANG\": \"Seebach\", \"RAUM_CODE\": \"R00119\", \"sum_WBev\": 19879.0}, {\"StichtagDatJahr\": \"2005-12-31T00:00:00\", \"RAUM_LANG\": \"Wollishofen\", \"RAUM_CODE\": \"R00021\", \"sum_WBev\": 15592.0}, {\"StichtagDatJahr\": \"2005-12-31T00:00:00\", \"RAUM_LANG\": \"Langstrasse\", \"RAUM_CODE\": \"R00042\", \"sum_WBev\": 10368.0}, {\"StichtagDatJahr\": \"2005-12-31T00:00:00\", \"RAUM_LANG\": \"Hottingen\", \"RAUM_CODE\": \"R00072\", \"sum_WBev\": 10100.0}, {\"StichtagDatJahr\": \"2005-12-31T00:00:00\", \"RAUM_LANG\": \"Affoltern\", \"RAUM_CODE\": \"R00111\", \"sum_WBev\": 18733.0}, {\"StichtagDatJahr\": \"2005-12-31T00:00:00\", \"RAUM_LANG\": \"Albisrieden\", \"RAUM_CODE\": \"R00091\", \"sum_WBev\": 17226.0}, {\"StichtagDatJahr\": \"2005-12-31T00:00:00\", \"RAUM_LANG\": \"Alt-Wiedikon\", \"RAUM_CODE\": \"R00031\", \"sum_WBev\": 14971.0}, {\"StichtagDatJahr\": \"2005-12-31T00:00:00\", \"RAUM_LANG\": \"Altstetten\", \"RAUM_CODE\": \"R00092\", \"sum_WBev\": 28278.0}, {\"StichtagDatJahr\": \"2005-12-31T00:00:00\", \"RAUM_LANG\": \"City\", \"RAUM_CODE\": \"R00014\", \"sum_WBev\": 846.0}, {\"StichtagDatJahr\": \"2005-12-31T00:00:00\", \"RAUM_LANG\": \"Enge\", \"RAUM_CODE\": \"R00024\", \"sum_WBev\": 8375.0}, {\"StichtagDatJahr\": \"2005-12-31T00:00:00\", \"RAUM_LANG\": \"Escher Wyss\", \"RAUM_CODE\": \"R00052\", \"sum_WBev\": 2727.0}, {\"StichtagDatJahr\": \"2005-12-31T00:00:00\", \"RAUM_LANG\": \"H\\u00f6ngg\", \"RAUM_CODE\": \"R00101\", \"sum_WBev\": 20773.0}, {\"StichtagDatJahr\": \"2005-12-31T00:00:00\", \"RAUM_LANG\": \"Friesenberg\", \"RAUM_CODE\": \"R00033\", \"sum_WBev\": 10360.0}, {\"StichtagDatJahr\": \"2005-12-31T00:00:00\", \"RAUM_LANG\": \"Gewerbeschule\", \"RAUM_CODE\": \"R00051\", \"sum_WBev\": 9690.0}, {\"StichtagDatJahr\": \"2005-12-31T00:00:00\", \"RAUM_LANG\": \"Hard\", \"RAUM_CODE\": \"R00044\", \"sum_WBev\": 12715.0}, {\"StichtagDatJahr\": \"2005-12-31T00:00:00\", \"RAUM_LANG\": \"Hirslanden\", \"RAUM_CODE\": \"R00073\", \"sum_WBev\": 6859.0}, {\"StichtagDatJahr\": \"2005-12-31T00:00:00\", \"RAUM_LANG\": \"Hirzenbach\", \"RAUM_CODE\": \"R00123\", \"sum_WBev\": 11265.0}, {\"StichtagDatJahr\": \"2005-12-31T00:00:00\", \"RAUM_LANG\": \"Hochschulen\", \"RAUM_CODE\": \"R00012\", \"sum_WBev\": 695.0}, {\"StichtagDatJahr\": \"2005-12-31T00:00:00\", \"RAUM_LANG\": \"Fluntern\", \"RAUM_CODE\": \"R00071\", \"sum_WBev\": 7325.0}, {\"StichtagDatJahr\": \"2006-12-31T00:00:00\", \"RAUM_LANG\": \"Lindenhof\", \"RAUM_CODE\": \"R00013\", \"sum_WBev\": 955.0}, {\"StichtagDatJahr\": \"2006-12-31T00:00:00\", \"RAUM_LANG\": \"M\\u00fchlebach\", \"RAUM_CODE\": \"R00082\", \"sum_WBev\": 5549.0}, {\"StichtagDatJahr\": \"2006-12-31T00:00:00\", \"RAUM_LANG\": \"Oberstrass\", \"RAUM_CODE\": \"R00063\", \"sum_WBev\": 9698.0}, {\"StichtagDatJahr\": \"2006-12-31T00:00:00\", \"RAUM_LANG\": \"Oerlikon\", \"RAUM_CODE\": \"R00115\", \"sum_WBev\": 20318.0}, {\"StichtagDatJahr\": \"2006-12-31T00:00:00\", \"RAUM_LANG\": \"Rathaus\", \"RAUM_CODE\": \"R00011\", \"sum_WBev\": 3097.0}, {\"StichtagDatJahr\": \"2006-12-31T00:00:00\", \"RAUM_LANG\": \"Saatlen\", \"RAUM_CODE\": \"R00121\", \"sum_WBev\": 6695.0}, {\"StichtagDatJahr\": \"2006-12-31T00:00:00\", \"RAUM_LANG\": \"Schwamendingen-Mitte\", \"RAUM_CODE\": \"R00122\", \"sum_WBev\": 10637.0}, {\"StichtagDatJahr\": \"2006-12-31T00:00:00\", \"RAUM_LANG\": \"Unterstrass\", \"RAUM_CODE\": \"R00061\", \"sum_WBev\": 19959.0}, {\"StichtagDatJahr\": \"2006-12-31T00:00:00\", \"RAUM_LANG\": \"Seefeld\", \"RAUM_CODE\": \"R00081\", \"sum_WBev\": 4842.0}, {\"StichtagDatJahr\": \"2006-12-31T00:00:00\", \"RAUM_LANG\": \"Sihlfeld\", \"RAUM_CODE\": \"R00034\", \"sum_WBev\": 20314.0}, {\"StichtagDatJahr\": \"2006-12-31T00:00:00\", \"RAUM_LANG\": \"Weinegg\", \"RAUM_CODE\": \"R00083\", \"sum_WBev\": 4816.0}, {\"StichtagDatJahr\": \"2006-12-31T00:00:00\", \"RAUM_LANG\": \"Werd\", \"RAUM_CODE\": \"R00041\", \"sum_WBev\": 3865.0}, {\"StichtagDatJahr\": \"2006-12-31T00:00:00\", \"RAUM_LANG\": \"Wipkingen\", \"RAUM_CODE\": \"R00102\", \"sum_WBev\": 15392.0}, {\"StichtagDatJahr\": \"2006-12-31T00:00:00\", \"RAUM_LANG\": \"Leimbach\", \"RAUM_CODE\": \"R00023\", \"sum_WBev\": 4944.0}, {\"StichtagDatJahr\": \"2006-12-31T00:00:00\", \"RAUM_LANG\": \"Wollishofen\", \"RAUM_CODE\": \"R00021\", \"sum_WBev\": 15587.0}, {\"StichtagDatJahr\": \"2006-12-31T00:00:00\", \"RAUM_LANG\": \"Seebach\", \"RAUM_CODE\": \"R00119\", \"sum_WBev\": 20757.0}, {\"StichtagDatJahr\": \"2006-12-31T00:00:00\", \"RAUM_LANG\": \"Witikon\", \"RAUM_CODE\": \"R00074\", \"sum_WBev\": 9958.0}, {\"StichtagDatJahr\": \"2006-12-31T00:00:00\", \"RAUM_LANG\": \"Langstrasse\", \"RAUM_CODE\": \"R00042\", \"sum_WBev\": 10332.0}, {\"StichtagDatJahr\": \"2006-12-31T00:00:00\", \"RAUM_LANG\": \"Hottingen\", \"RAUM_CODE\": \"R00072\", \"sum_WBev\": 10180.0}, {\"StichtagDatJahr\": \"2006-12-31T00:00:00\", \"RAUM_LANG\": \"H\\u00f6ngg\", \"RAUM_CODE\": \"R00101\", \"sum_WBev\": 21017.0}, {\"StichtagDatJahr\": \"2006-12-31T00:00:00\", \"RAUM_LANG\": \"Affoltern\", \"RAUM_CODE\": \"R00111\", \"sum_WBev\": 18793.0}, {\"StichtagDatJahr\": \"2006-12-31T00:00:00\", \"RAUM_LANG\": \"Albisrieden\", \"RAUM_CODE\": \"R00091\", \"sum_WBev\": 17275.0}, {\"StichtagDatJahr\": \"2006-12-31T00:00:00\", \"RAUM_LANG\": \"Alt-Wiedikon\", \"RAUM_CODE\": \"R00031\", \"sum_WBev\": 15231.0}, {\"StichtagDatJahr\": \"2006-12-31T00:00:00\", \"RAUM_LANG\": \"City\", \"RAUM_CODE\": \"R00014\", \"sum_WBev\": 845.0}, {\"StichtagDatJahr\": \"2006-12-31T00:00:00\", \"RAUM_LANG\": \"Enge\", \"RAUM_CODE\": \"R00024\", \"sum_WBev\": 8367.0}, {\"StichtagDatJahr\": \"2006-12-31T00:00:00\", \"RAUM_LANG\": \"Escher Wyss\", \"RAUM_CODE\": \"R00052\", \"sum_WBev\": 2987.0}, {\"StichtagDatJahr\": \"2006-12-31T00:00:00\", \"RAUM_LANG\": \"Altstetten\", \"RAUM_CODE\": \"R00092\", \"sum_WBev\": 28868.0}, {\"StichtagDatJahr\": \"2006-12-31T00:00:00\", \"RAUM_LANG\": \"Friesenberg\", \"RAUM_CODE\": \"R00033\", \"sum_WBev\": 10342.0}, {\"StichtagDatJahr\": \"2006-12-31T00:00:00\", \"RAUM_LANG\": \"Gewerbeschule\", \"RAUM_CODE\": \"R00051\", \"sum_WBev\": 9735.0}, {\"StichtagDatJahr\": \"2006-12-31T00:00:00\", \"RAUM_LANG\": \"Hard\", \"RAUM_CODE\": \"R00044\", \"sum_WBev\": 12508.0}, {\"StichtagDatJahr\": \"2006-12-31T00:00:00\", \"RAUM_LANG\": \"Hirslanden\", \"RAUM_CODE\": \"R00073\", \"sum_WBev\": 6904.0}, {\"StichtagDatJahr\": \"2006-12-31T00:00:00\", \"RAUM_LANG\": \"Hirzenbach\", \"RAUM_CODE\": \"R00123\", \"sum_WBev\": 11205.0}, {\"StichtagDatJahr\": \"2006-12-31T00:00:00\", \"RAUM_LANG\": \"Hochschulen\", \"RAUM_CODE\": \"R00012\", \"sum_WBev\": 711.0}, {\"StichtagDatJahr\": \"2006-12-31T00:00:00\", \"RAUM_LANG\": \"Fluntern\", \"RAUM_CODE\": \"R00071\", \"sum_WBev\": 7379.0}, {\"StichtagDatJahr\": \"2007-12-31T00:00:00\", \"RAUM_LANG\": \"Schwamendingen-Mitte\", \"RAUM_CODE\": \"R00122\", \"sum_WBev\": 10806.0}, {\"StichtagDatJahr\": \"2007-12-31T00:00:00\", \"RAUM_LANG\": \"M\\u00fchlebach\", \"RAUM_CODE\": \"R00082\", \"sum_WBev\": 5567.0}, {\"StichtagDatJahr\": \"2007-12-31T00:00:00\", \"RAUM_LANG\": \"Oberstrass\", \"RAUM_CODE\": \"R00063\", \"sum_WBev\": 9960.0}, {\"StichtagDatJahr\": \"2007-12-31T00:00:00\", \"RAUM_LANG\": \"Oerlikon\", \"RAUM_CODE\": \"R00115\", \"sum_WBev\": 20754.0}, {\"StichtagDatJahr\": \"2007-12-31T00:00:00\", \"RAUM_LANG\": \"Rathaus\", \"RAUM_CODE\": \"R00011\", \"sum_WBev\": 3079.0}, {\"StichtagDatJahr\": \"2007-12-31T00:00:00\", \"RAUM_LANG\": \"Saatlen\", \"RAUM_CODE\": \"R00121\", \"sum_WBev\": 6842.0}, {\"StichtagDatJahr\": \"2007-12-31T00:00:00\", \"RAUM_LANG\": \"Seebach\", \"RAUM_CODE\": \"R00119\", \"sum_WBev\": 21390.0}, {\"StichtagDatJahr\": \"2007-12-31T00:00:00\", \"RAUM_LANG\": \"Lindenhof\", \"RAUM_CODE\": \"R00013\", \"sum_WBev\": 954.0}, {\"StichtagDatJahr\": \"2007-12-31T00:00:00\", \"RAUM_LANG\": \"Sihlfeld\", \"RAUM_CODE\": \"R00034\", \"sum_WBev\": 20372.0}, {\"StichtagDatJahr\": \"2007-12-31T00:00:00\", \"RAUM_LANG\": \"Unterstrass\", \"RAUM_CODE\": \"R00061\", \"sum_WBev\": 20243.0}, {\"StichtagDatJahr\": \"2007-12-31T00:00:00\", \"RAUM_LANG\": \"Weinegg\", \"RAUM_CODE\": \"R00083\", \"sum_WBev\": 4944.0}, {\"StichtagDatJahr\": \"2007-12-31T00:00:00\", \"RAUM_LANG\": \"Werd\", \"RAUM_CODE\": \"R00041\", \"sum_WBev\": 3944.0}, {\"StichtagDatJahr\": \"2007-12-31T00:00:00\", \"RAUM_LANG\": \"Wipkingen\", \"RAUM_CODE\": \"R00102\", \"sum_WBev\": 15399.0}, {\"StichtagDatJahr\": \"2007-12-31T00:00:00\", \"RAUM_LANG\": \"Witikon\", \"RAUM_CODE\": \"R00074\", \"sum_WBev\": 10127.0}, {\"StichtagDatJahr\": \"2007-12-31T00:00:00\", \"RAUM_LANG\": \"Seefeld\", \"RAUM_CODE\": \"R00081\", \"sum_WBev\": 4920.0}, {\"StichtagDatJahr\": \"2007-12-31T00:00:00\", \"RAUM_LANG\": \"Leimbach\", \"RAUM_CODE\": \"R00023\", \"sum_WBev\": 5204.0}, {\"StichtagDatJahr\": \"2007-12-31T00:00:00\", \"RAUM_LANG\": \"Wollishofen\", \"RAUM_CODE\": \"R00021\", \"sum_WBev\": 15744.0}, {\"StichtagDatJahr\": \"2007-12-31T00:00:00\", \"RAUM_LANG\": \"H\\u00f6ngg\", \"RAUM_CODE\": \"R00101\", \"sum_WBev\": 21075.0}, {\"StichtagDatJahr\": \"2007-12-31T00:00:00\", \"RAUM_LANG\": \"Affoltern\", \"RAUM_CODE\": \"R00111\", \"sum_WBev\": 20948.0}, {\"StichtagDatJahr\": \"2007-12-31T00:00:00\", \"RAUM_LANG\": \"Albisrieden\", \"RAUM_CODE\": \"R00091\", \"sum_WBev\": 17527.0}, {\"StichtagDatJahr\": \"2007-12-31T00:00:00\", \"RAUM_LANG\": \"Alt-Wiedikon\", \"RAUM_CODE\": \"R00031\", \"sum_WBev\": 15440.0}, {\"StichtagDatJahr\": \"2007-12-31T00:00:00\", \"RAUM_LANG\": \"Altstetten\", \"RAUM_CODE\": \"R00092\", \"sum_WBev\": 29348.0}, {\"StichtagDatJahr\": \"2007-12-31T00:00:00\", \"RAUM_LANG\": \"City\", \"RAUM_CODE\": \"R00014\", \"sum_WBev\": 876.0}, {\"StichtagDatJahr\": \"2007-12-31T00:00:00\", \"RAUM_LANG\": \"Enge\", \"RAUM_CODE\": \"R00024\", \"sum_WBev\": 8473.0}, {\"StichtagDatJahr\": \"2007-12-31T00:00:00\", \"RAUM_LANG\": \"Escher Wyss\", \"RAUM_CODE\": \"R00052\", \"sum_WBev\": 3008.0}, {\"StichtagDatJahr\": \"2007-12-31T00:00:00\", \"RAUM_LANG\": \"Langstrasse\", \"RAUM_CODE\": \"R00042\", \"sum_WBev\": 10310.0}, {\"StichtagDatJahr\": \"2007-12-31T00:00:00\", \"RAUM_LANG\": \"Friesenberg\", \"RAUM_CODE\": \"R00033\", \"sum_WBev\": 10296.0}, {\"StichtagDatJahr\": \"2007-12-31T00:00:00\", \"RAUM_LANG\": \"Gewerbeschule\", \"RAUM_CODE\": \"R00051\", \"sum_WBev\": 9706.0}, {\"StichtagDatJahr\": \"2007-12-31T00:00:00\", \"RAUM_LANG\": \"Hard\", \"RAUM_CODE\": \"R00044\", \"sum_WBev\": 12802.0}, {\"StichtagDatJahr\": \"2007-12-31T00:00:00\", \"RAUM_LANG\": \"Hirslanden\", \"RAUM_CODE\": \"R00073\", \"sum_WBev\": 6977.0}, {\"StichtagDatJahr\": \"2007-12-31T00:00:00\", \"RAUM_LANG\": \"Hirzenbach\", \"RAUM_CODE\": \"R00123\", \"sum_WBev\": 11343.0}, {\"StichtagDatJahr\": \"2007-12-31T00:00:00\", \"RAUM_LANG\": \"Hochschulen\", \"RAUM_CODE\": \"R00012\", \"sum_WBev\": 698.0}, {\"StichtagDatJahr\": \"2007-12-31T00:00:00\", \"RAUM_LANG\": \"Hottingen\", \"RAUM_CODE\": \"R00072\", \"sum_WBev\": 10284.0}, {\"StichtagDatJahr\": \"2007-12-31T00:00:00\", \"RAUM_LANG\": \"Fluntern\", \"RAUM_CODE\": \"R00071\", \"sum_WBev\": 7455.0}, {\"StichtagDatJahr\": \"2008-12-31T00:00:00\", \"RAUM_LANG\": \"M\\u00fchlebach\", \"RAUM_CODE\": \"R00082\", \"sum_WBev\": 5491.0}, {\"StichtagDatJahr\": \"2008-12-31T00:00:00\", \"RAUM_LANG\": \"Oberstrass\", \"RAUM_CODE\": \"R00063\", \"sum_WBev\": 10102.0}, {\"StichtagDatJahr\": \"2008-12-31T00:00:00\", \"RAUM_LANG\": \"Oerlikon\", \"RAUM_CODE\": \"R00115\", \"sum_WBev\": 20853.0}, {\"StichtagDatJahr\": \"2008-12-31T00:00:00\", \"RAUM_LANG\": \"Rathaus\", \"RAUM_CODE\": \"R00011\", \"sum_WBev\": 3051.0}, {\"StichtagDatJahr\": \"2008-12-31T00:00:00\", \"RAUM_LANG\": \"Saatlen\", \"RAUM_CODE\": \"R00121\", \"sum_WBev\": 6843.0}, {\"StichtagDatJahr\": \"2008-12-31T00:00:00\", \"RAUM_LANG\": \"Schwamendingen-Mitte\", \"RAUM_CODE\": \"R00122\", \"sum_WBev\": 10864.0}, {\"StichtagDatJahr\": \"2008-12-31T00:00:00\", \"RAUM_LANG\": \"Seebach\", \"RAUM_CODE\": \"R00119\", \"sum_WBev\": 21386.0}, {\"StichtagDatJahr\": \"2008-12-31T00:00:00\", \"RAUM_LANG\": \"Weinegg\", \"RAUM_CODE\": \"R00083\", \"sum_WBev\": 4961.0}, {\"StichtagDatJahr\": \"2008-12-31T00:00:00\", \"RAUM_LANG\": \"Sihlfeld\", \"RAUM_CODE\": \"R00034\", \"sum_WBev\": 20543.0}, {\"StichtagDatJahr\": \"2008-12-31T00:00:00\", \"RAUM_LANG\": \"Unterstrass\", \"RAUM_CODE\": \"R00061\", \"sum_WBev\": 20655.0}, {\"StichtagDatJahr\": \"2008-12-31T00:00:00\", \"RAUM_LANG\": \"Werd\", \"RAUM_CODE\": \"R00041\", \"sum_WBev\": 4015.0}, {\"StichtagDatJahr\": \"2008-12-31T00:00:00\", \"RAUM_LANG\": \"Wipkingen\", \"RAUM_CODE\": \"R00102\", \"sum_WBev\": 15500.0}, {\"StichtagDatJahr\": \"2008-12-31T00:00:00\", \"RAUM_LANG\": \"Witikon\", \"RAUM_CODE\": \"R00074\", \"sum_WBev\": 10183.0}, {\"StichtagDatJahr\": \"2008-12-31T00:00:00\", \"RAUM_LANG\": \"Wollishofen\", \"RAUM_CODE\": \"R00021\", \"sum_WBev\": 15794.0}, {\"StichtagDatJahr\": \"2008-12-31T00:00:00\", \"RAUM_LANG\": \"Lindenhof\", \"RAUM_CODE\": \"R00013\", \"sum_WBev\": 940.0}, {\"StichtagDatJahr\": \"2008-12-31T00:00:00\", \"RAUM_LANG\": \"Seefeld\", \"RAUM_CODE\": \"R00081\", \"sum_WBev\": 4863.0}, {\"StichtagDatJahr\": \"2008-12-31T00:00:00\", \"RAUM_LANG\": \"Leimbach\", \"RAUM_CODE\": \"R00023\", \"sum_WBev\": 5185.0}, {\"StichtagDatJahr\": \"2008-12-31T00:00:00\", \"RAUM_LANG\": \"Langstrasse\", \"RAUM_CODE\": \"R00042\", \"sum_WBev\": 10455.0}, {\"StichtagDatJahr\": \"2008-12-31T00:00:00\", \"RAUM_LANG\": \"H\\u00f6ngg\", \"RAUM_CODE\": \"R00101\", \"sum_WBev\": 21186.0}, {\"StichtagDatJahr\": \"2008-12-31T00:00:00\", \"RAUM_LANG\": \"Affoltern\", \"RAUM_CODE\": \"R00111\", \"sum_WBev\": 22044.0}, {\"StichtagDatJahr\": \"2008-12-31T00:00:00\", \"RAUM_LANG\": \"Albisrieden\", \"RAUM_CODE\": \"R00091\", \"sum_WBev\": 17555.0}, {\"StichtagDatJahr\": \"2008-12-31T00:00:00\", \"RAUM_LANG\": \"Alt-Wiedikon\", \"RAUM_CODE\": \"R00031\", \"sum_WBev\": 15727.0}, {\"StichtagDatJahr\": \"2008-12-31T00:00:00\", \"RAUM_LANG\": \"Altstetten\", \"RAUM_CODE\": \"R00092\", \"sum_WBev\": 29740.0}, {\"StichtagDatJahr\": \"2008-12-31T00:00:00\", \"RAUM_LANG\": \"Enge\", \"RAUM_CODE\": \"R00024\", \"sum_WBev\": 8552.0}, {\"StichtagDatJahr\": \"2008-12-31T00:00:00\", \"RAUM_LANG\": \"Escher Wyss\", \"RAUM_CODE\": \"R00052\", \"sum_WBev\": 2971.0}, {\"StichtagDatJahr\": \"2008-12-31T00:00:00\", \"RAUM_LANG\": \"Fluntern\", \"RAUM_CODE\": \"R00071\", \"sum_WBev\": 7542.0}, {\"StichtagDatJahr\": \"2008-12-31T00:00:00\", \"RAUM_LANG\": \"City\", \"RAUM_CODE\": \"R00014\", \"sum_WBev\": 843.0}, {\"StichtagDatJahr\": \"2008-12-31T00:00:00\", \"RAUM_LANG\": \"Gewerbeschule\", \"RAUM_CODE\": \"R00051\", \"sum_WBev\": 9751.0}, {\"StichtagDatJahr\": \"2008-12-31T00:00:00\", \"RAUM_LANG\": \"Hard\", \"RAUM_CODE\": \"R00044\", \"sum_WBev\": 12884.0}, {\"StichtagDatJahr\": \"2008-12-31T00:00:00\", \"RAUM_LANG\": \"Hirslanden\", \"RAUM_CODE\": \"R00073\", \"sum_WBev\": 6967.0}, {\"StichtagDatJahr\": \"2008-12-31T00:00:00\", \"RAUM_LANG\": \"Hirzenbach\", \"RAUM_CODE\": \"R00123\", \"sum_WBev\": 11478.0}, {\"StichtagDatJahr\": \"2008-12-31T00:00:00\", \"RAUM_LANG\": \"Hochschulen\", \"RAUM_CODE\": \"R00012\", \"sum_WBev\": 702.0}, {\"StichtagDatJahr\": \"2008-12-31T00:00:00\", \"RAUM_LANG\": \"Hottingen\", \"RAUM_CODE\": \"R00072\", \"sum_WBev\": 10548.0}, {\"StichtagDatJahr\": \"2008-12-31T00:00:00\", \"RAUM_LANG\": \"Friesenberg\", \"RAUM_CODE\": \"R00033\", \"sum_WBev\": 10325.0}, {\"StichtagDatJahr\": \"2009-12-31T00:00:00\", \"RAUM_LANG\": \"Schwamendingen-Mitte\", \"RAUM_CODE\": \"R00122\", \"sum_WBev\": 10857.0}, {\"StichtagDatJahr\": \"2009-12-31T00:00:00\", \"RAUM_LANG\": \"M\\u00fchlebach\", \"RAUM_CODE\": \"R00082\", \"sum_WBev\": 5545.0}, {\"StichtagDatJahr\": \"2009-12-31T00:00:00\", \"RAUM_LANG\": \"Oberstrass\", \"RAUM_CODE\": \"R00063\", \"sum_WBev\": 10051.0}, {\"StichtagDatJahr\": \"2009-12-31T00:00:00\", \"RAUM_LANG\": \"Oerlikon\", \"RAUM_CODE\": \"R00115\", \"sum_WBev\": 20740.0}, {\"StichtagDatJahr\": \"2009-12-31T00:00:00\", \"RAUM_LANG\": \"Rathaus\", \"RAUM_CODE\": \"R00011\", \"sum_WBev\": 3110.0}, {\"StichtagDatJahr\": \"2009-12-31T00:00:00\", \"RAUM_LANG\": \"Saatlen\", \"RAUM_CODE\": \"R00121\", \"sum_WBev\": 7132.0}, {\"StichtagDatJahr\": \"2009-12-31T00:00:00\", \"RAUM_LANG\": \"Seebach\", \"RAUM_CODE\": \"R00119\", \"sum_WBev\": 21489.0}, {\"StichtagDatJahr\": \"2009-12-31T00:00:00\", \"RAUM_LANG\": \"Wollishofen\", \"RAUM_CODE\": \"R00021\", \"sum_WBev\": 15854.0}, {\"StichtagDatJahr\": \"2009-12-31T00:00:00\", \"RAUM_LANG\": \"Sihlfeld\", \"RAUM_CODE\": \"R00034\", \"sum_WBev\": 20464.0}, {\"StichtagDatJahr\": \"2009-12-31T00:00:00\", \"RAUM_LANG\": \"Unterstrass\", \"RAUM_CODE\": \"R00061\", \"sum_WBev\": 21080.0}, {\"StichtagDatJahr\": \"2009-12-31T00:00:00\", \"RAUM_LANG\": \"Weinegg\", \"RAUM_CODE\": \"R00083\", \"sum_WBev\": 4935.0}, {\"StichtagDatJahr\": \"2009-12-31T00:00:00\", \"RAUM_LANG\": \"Werd\", \"RAUM_CODE\": \"R00041\", \"sum_WBev\": 4104.0}, {\"StichtagDatJahr\": \"2009-12-31T00:00:00\", \"RAUM_LANG\": \"Wipkingen\", \"RAUM_CODE\": \"R00102\", \"sum_WBev\": 15645.0}, {\"StichtagDatJahr\": \"2009-12-31T00:00:00\", \"RAUM_LANG\": \"Witikon\", \"RAUM_CODE\": \"R00074\", \"sum_WBev\": 10284.0}, {\"StichtagDatJahr\": \"2009-12-31T00:00:00\", \"RAUM_LANG\": \"Lindenhof\", \"RAUM_CODE\": \"R00013\", \"sum_WBev\": 940.0}, {\"StichtagDatJahr\": \"2009-12-31T00:00:00\", \"RAUM_LANG\": \"Seefeld\", \"RAUM_CODE\": \"R00081\", \"sum_WBev\": 4732.0}, {\"StichtagDatJahr\": \"2009-12-31T00:00:00\", \"RAUM_LANG\": \"Leimbach\", \"RAUM_CODE\": \"R00023\", \"sum_WBev\": 5287.0}, {\"StichtagDatJahr\": \"2009-12-31T00:00:00\", \"RAUM_LANG\": \"Langstrasse\", \"RAUM_CODE\": \"R00042\", \"sum_WBev\": 10392.0}, {\"StichtagDatJahr\": \"2009-12-31T00:00:00\", \"RAUM_LANG\": \"H\\u00f6ngg\", \"RAUM_CODE\": \"R00101\", \"sum_WBev\": 21294.0}, {\"StichtagDatJahr\": \"2009-12-31T00:00:00\", \"RAUM_LANG\": \"Albisrieden\", \"RAUM_CODE\": \"R00091\", \"sum_WBev\": 17675.0}, {\"StichtagDatJahr\": \"2009-12-31T00:00:00\", \"RAUM_LANG\": \"Alt-Wiedikon\", \"RAUM_CODE\": \"R00031\", \"sum_WBev\": 15504.0}, {\"StichtagDatJahr\": \"2009-12-31T00:00:00\", \"RAUM_LANG\": \"Altstetten\", \"RAUM_CODE\": \"R00092\", \"sum_WBev\": 29845.0}, {\"StichtagDatJahr\": \"2009-12-31T00:00:00\", \"RAUM_LANG\": \"City\", \"RAUM_CODE\": \"R00014\", \"sum_WBev\": 853.0}, {\"StichtagDatJahr\": \"2009-12-31T00:00:00\", \"RAUM_LANG\": \"Enge\", \"RAUM_CODE\": \"R00024\", \"sum_WBev\": 8668.0}, {\"StichtagDatJahr\": \"2009-12-31T00:00:00\", \"RAUM_LANG\": \"Escher Wyss\", \"RAUM_CODE\": \"R00052\", \"sum_WBev\": 3060.0}, {\"StichtagDatJahr\": \"2009-12-31T00:00:00\", \"RAUM_LANG\": \"Fluntern\", \"RAUM_CODE\": \"R00071\", \"sum_WBev\": 7528.0}, {\"StichtagDatJahr\": \"2009-12-31T00:00:00\", \"RAUM_LANG\": \"Affoltern\", \"RAUM_CODE\": \"R00111\", \"sum_WBev\": 22383.0}, {\"StichtagDatJahr\": \"2009-12-31T00:00:00\", \"RAUM_LANG\": \"Gewerbeschule\", \"RAUM_CODE\": \"R00051\", \"sum_WBev\": 9717.0}, {\"StichtagDatJahr\": \"2009-12-31T00:00:00\", \"RAUM_LANG\": \"Hard\", \"RAUM_CODE\": \"R00044\", \"sum_WBev\": 12902.0}, {\"StichtagDatJahr\": \"2009-12-31T00:00:00\", \"RAUM_LANG\": \"Hirslanden\", \"RAUM_CODE\": \"R00073\", \"sum_WBev\": 6956.0}, {\"StichtagDatJahr\": \"2009-12-31T00:00:00\", \"RAUM_LANG\": \"Hirzenbach\", \"RAUM_CODE\": \"R00123\", \"sum_WBev\": 11610.0}, {\"StichtagDatJahr\": \"2009-12-31T00:00:00\", \"RAUM_LANG\": \"Hochschulen\", \"RAUM_CODE\": \"R00012\", \"sum_WBev\": 673.0}, {\"StichtagDatJahr\": \"2009-12-31T00:00:00\", \"RAUM_LANG\": \"Hottingen\", \"RAUM_CODE\": \"R00072\", \"sum_WBev\": 10594.0}, {\"StichtagDatJahr\": \"2009-12-31T00:00:00\", \"RAUM_LANG\": \"Friesenberg\", \"RAUM_CODE\": \"R00033\", \"sum_WBev\": 11003.0}, {\"StichtagDatJahr\": \"2010-12-31T00:00:00\", \"RAUM_LANG\": \"Oberstrass\", \"RAUM_CODE\": \"R00063\", \"sum_WBev\": 10231.0}, {\"StichtagDatJahr\": \"2010-12-31T00:00:00\", \"RAUM_LANG\": \"Oerlikon\", \"RAUM_CODE\": \"R00115\", \"sum_WBev\": 20787.0}, {\"StichtagDatJahr\": \"2010-12-31T00:00:00\", \"RAUM_LANG\": \"Rathaus\", \"RAUM_CODE\": \"R00011\", \"sum_WBev\": 3099.0}, {\"StichtagDatJahr\": \"2010-12-31T00:00:00\", \"RAUM_LANG\": \"Saatlen\", \"RAUM_CODE\": \"R00121\", \"sum_WBev\": 7175.0}, {\"StichtagDatJahr\": \"2010-12-31T00:00:00\", \"RAUM_LANG\": \"Schwamendingen-Mitte\", \"RAUM_CODE\": \"R00122\", \"sum_WBev\": 10903.0}, {\"StichtagDatJahr\": \"2010-12-31T00:00:00\", \"RAUM_LANG\": \"Seebach\", \"RAUM_CODE\": \"R00119\", \"sum_WBev\": 22037.0}, {\"StichtagDatJahr\": \"2010-12-31T00:00:00\", \"RAUM_LANG\": \"Seefeld\", \"RAUM_CODE\": \"R00081\", \"sum_WBev\": 4840.0}, {\"StichtagDatJahr\": \"2010-12-31T00:00:00\", \"RAUM_LANG\": \"Weinegg\", \"RAUM_CODE\": \"R00083\", \"sum_WBev\": 4999.0}, {\"StichtagDatJahr\": \"2010-12-31T00:00:00\", \"RAUM_LANG\": \"Unterstrass\", \"RAUM_CODE\": \"R00061\", \"sum_WBev\": 21233.0}, {\"StichtagDatJahr\": \"2010-12-31T00:00:00\", \"RAUM_LANG\": \"Werd\", \"RAUM_CODE\": \"R00041\", \"sum_WBev\": 4167.0}, {\"StichtagDatJahr\": \"2010-12-31T00:00:00\", \"RAUM_LANG\": \"Wipkingen\", \"RAUM_CODE\": \"R00102\", \"sum_WBev\": 15700.0}, {\"StichtagDatJahr\": \"2010-12-31T00:00:00\", \"RAUM_LANG\": \"Witikon\", \"RAUM_CODE\": \"R00074\", \"sum_WBev\": 10242.0}, {\"StichtagDatJahr\": \"2010-12-31T00:00:00\", \"RAUM_LANG\": \"Wollishofen\", \"RAUM_CODE\": \"R00021\", \"sum_WBev\": 15988.0}, {\"StichtagDatJahr\": \"2010-12-31T00:00:00\", \"RAUM_LANG\": \"M\\u00fchlebach\", \"RAUM_CODE\": \"R00082\", \"sum_WBev\": 5679.0}, {\"StichtagDatJahr\": \"2010-12-31T00:00:00\", \"RAUM_LANG\": \"Sihlfeld\", \"RAUM_CODE\": \"R00034\", \"sum_WBev\": 20115.0}, {\"StichtagDatJahr\": \"2010-12-31T00:00:00\", \"RAUM_LANG\": \"Lindenhof\", \"RAUM_CODE\": \"R00013\", \"sum_WBev\": 951.0}, {\"StichtagDatJahr\": \"2010-12-31T00:00:00\", \"RAUM_LANG\": \"Leimbach\", \"RAUM_CODE\": \"R00023\", \"sum_WBev\": 5293.0}, {\"StichtagDatJahr\": \"2010-12-31T00:00:00\", \"RAUM_LANG\": \"Affoltern\", \"RAUM_CODE\": \"R00111\", \"sum_WBev\": 22972.0}, {\"StichtagDatJahr\": \"2010-12-31T00:00:00\", \"RAUM_LANG\": \"Langstrasse\", \"RAUM_CODE\": \"R00042\", \"sum_WBev\": 10379.0}, {\"StichtagDatJahr\": \"2010-12-31T00:00:00\", \"RAUM_LANG\": \"Albisrieden\", \"RAUM_CODE\": \"R00091\", \"sum_WBev\": 17835.0}, {\"StichtagDatJahr\": \"2010-12-31T00:00:00\", \"RAUM_LANG\": \"Alt-Wiedikon\", \"RAUM_CODE\": \"R00031\", \"sum_WBev\": 15988.0}, {\"StichtagDatJahr\": \"2010-12-31T00:00:00\", \"RAUM_LANG\": \"Altstetten\", \"RAUM_CODE\": \"R00092\", \"sum_WBev\": 30659.0}, {\"StichtagDatJahr\": \"2010-12-31T00:00:00\", \"RAUM_LANG\": \"City\", \"RAUM_CODE\": \"R00014\", \"sum_WBev\": 835.0}, {\"StichtagDatJahr\": \"2010-12-31T00:00:00\", \"RAUM_LANG\": \"Escher Wyss\", \"RAUM_CODE\": \"R00052\", \"sum_WBev\": 3076.0}, {\"StichtagDatJahr\": \"2010-12-31T00:00:00\", \"RAUM_LANG\": \"Fluntern\", \"RAUM_CODE\": \"R00071\", \"sum_WBev\": 7637.0}, {\"StichtagDatJahr\": \"2010-12-31T00:00:00\", \"RAUM_LANG\": \"Enge\", \"RAUM_CODE\": \"R00024\", \"sum_WBev\": 8597.0}, {\"StichtagDatJahr\": \"2010-12-31T00:00:00\", \"RAUM_LANG\": \"Gewerbeschule\", \"RAUM_CODE\": \"R00051\", \"sum_WBev\": 9688.0}, {\"StichtagDatJahr\": \"2010-12-31T00:00:00\", \"RAUM_LANG\": \"Hard\", \"RAUM_CODE\": \"R00044\", \"sum_WBev\": 12883.0}, {\"StichtagDatJahr\": \"2010-12-31T00:00:00\", \"RAUM_LANG\": \"Hirslanden\", \"RAUM_CODE\": \"R00073\", \"sum_WBev\": 6998.0}, {\"StichtagDatJahr\": \"2010-12-31T00:00:00\", \"RAUM_LANG\": \"Hirzenbach\", \"RAUM_CODE\": \"R00123\", \"sum_WBev\": 11459.0}, {\"StichtagDatJahr\": \"2010-12-31T00:00:00\", \"RAUM_LANG\": \"Hochschulen\", \"RAUM_CODE\": \"R00012\", \"sum_WBev\": 678.0}, {\"StichtagDatJahr\": \"2010-12-31T00:00:00\", \"RAUM_LANG\": \"Hottingen\", \"RAUM_CODE\": \"R00072\", \"sum_WBev\": 10570.0}, {\"StichtagDatJahr\": \"2010-12-31T00:00:00\", \"RAUM_LANG\": \"H\\u00f6ngg\", \"RAUM_CODE\": \"R00101\", \"sum_WBev\": 21179.0}, {\"StichtagDatJahr\": \"2010-12-31T00:00:00\", \"RAUM_LANG\": \"Friesenberg\", \"RAUM_CODE\": \"R00033\", \"sum_WBev\": 10596.0}, {\"StichtagDatJahr\": \"2011-12-31T00:00:00\", \"RAUM_LANG\": \"Schwamendingen-Mitte\", \"RAUM_CODE\": \"R00122\", \"sum_WBev\": 10863.0}, {\"StichtagDatJahr\": \"2011-12-31T00:00:00\", \"RAUM_LANG\": \"M\\u00fchlebach\", \"RAUM_CODE\": \"R00082\", \"sum_WBev\": 5651.0}, {\"StichtagDatJahr\": \"2011-12-31T00:00:00\", \"RAUM_LANG\": \"Oberstrass\", \"RAUM_CODE\": \"R00063\", \"sum_WBev\": 10316.0}, {\"StichtagDatJahr\": \"2011-12-31T00:00:00\", \"RAUM_LANG\": \"Oerlikon\", \"RAUM_CODE\": \"R00115\", \"sum_WBev\": 21253.0}, {\"StichtagDatJahr\": \"2011-12-31T00:00:00\", \"RAUM_LANG\": \"Rathaus\", \"RAUM_CODE\": \"R00011\", \"sum_WBev\": 3140.0}, {\"StichtagDatJahr\": \"2011-12-31T00:00:00\", \"RAUM_LANG\": \"Saatlen\", \"RAUM_CODE\": \"R00121\", \"sum_WBev\": 7131.0}, {\"StichtagDatJahr\": \"2011-12-31T00:00:00\", \"RAUM_LANG\": \"Seebach\", \"RAUM_CODE\": \"R00119\", \"sum_WBev\": 22255.0}, {\"StichtagDatJahr\": \"2011-12-31T00:00:00\", \"RAUM_LANG\": \"Lindenhof\", \"RAUM_CODE\": \"R00013\", \"sum_WBev\": 950.0}, {\"StichtagDatJahr\": \"2011-12-31T00:00:00\", \"RAUM_LANG\": \"Sihlfeld\", \"RAUM_CODE\": \"R00034\", \"sum_WBev\": 20307.0}, {\"StichtagDatJahr\": \"2011-12-31T00:00:00\", \"RAUM_LANG\": \"Unterstrass\", \"RAUM_CODE\": \"R00061\", \"sum_WBev\": 21240.0}, {\"StichtagDatJahr\": \"2011-12-31T00:00:00\", \"RAUM_LANG\": \"Weinegg\", \"RAUM_CODE\": \"R00083\", \"sum_WBev\": 4942.0}, {\"StichtagDatJahr\": \"2011-12-31T00:00:00\", \"RAUM_LANG\": \"Werd\", \"RAUM_CODE\": \"R00041\", \"sum_WBev\": 4189.0}, {\"StichtagDatJahr\": \"2011-12-31T00:00:00\", \"RAUM_LANG\": \"Wipkingen\", \"RAUM_CODE\": \"R00102\", \"sum_WBev\": 15869.0}, {\"StichtagDatJahr\": \"2011-12-31T00:00:00\", \"RAUM_LANG\": \"Witikon\", \"RAUM_CODE\": \"R00074\", \"sum_WBev\": 10258.0}, {\"StichtagDatJahr\": \"2011-12-31T00:00:00\", \"RAUM_LANG\": \"Wollishofen\", \"RAUM_CODE\": \"R00021\", \"sum_WBev\": 16055.0}, {\"StichtagDatJahr\": \"2011-12-31T00:00:00\", \"RAUM_LANG\": \"Seefeld\", \"RAUM_CODE\": \"R00081\", \"sum_WBev\": 4908.0}, {\"StichtagDatJahr\": \"2011-12-31T00:00:00\", \"RAUM_LANG\": \"Leimbach\", \"RAUM_CODE\": \"R00023\", \"sum_WBev\": 5340.0}, {\"StichtagDatJahr\": \"2011-12-31T00:00:00\", \"RAUM_LANG\": \"Langstrasse\", \"RAUM_CODE\": \"R00042\", \"sum_WBev\": 10520.0}, {\"StichtagDatJahr\": \"2011-12-31T00:00:00\", \"RAUM_LANG\": \"H\\u00f6ngg\", \"RAUM_CODE\": \"R00101\", \"sum_WBev\": 21323.0}, {\"StichtagDatJahr\": \"2011-12-31T00:00:00\", \"RAUM_LANG\": \"Affoltern\", \"RAUM_CODE\": \"R00111\", \"sum_WBev\": 24437.0}, {\"StichtagDatJahr\": \"2011-12-31T00:00:00\", \"RAUM_LANG\": \"Albisrieden\", \"RAUM_CODE\": \"R00091\", \"sum_WBev\": 18432.0}, {\"StichtagDatJahr\": \"2011-12-31T00:00:00\", \"RAUM_LANG\": \"Alt-Wiedikon\", \"RAUM_CODE\": \"R00031\", \"sum_WBev\": 16014.0}, {\"StichtagDatJahr\": \"2011-12-31T00:00:00\", \"RAUM_LANG\": \"Altstetten\", \"RAUM_CODE\": \"R00092\", \"sum_WBev\": 31381.0}, {\"StichtagDatJahr\": \"2011-12-31T00:00:00\", \"RAUM_LANG\": \"Enge\", \"RAUM_CODE\": \"R00024\", \"sum_WBev\": 8684.0}, {\"StichtagDatJahr\": \"2011-12-31T00:00:00\", \"RAUM_LANG\": \"Escher Wyss\", \"RAUM_CODE\": \"R00052\", \"sum_WBev\": 3129.0}, {\"StichtagDatJahr\": \"2011-12-31T00:00:00\", \"RAUM_LANG\": \"Fluntern\", \"RAUM_CODE\": \"R00071\", \"sum_WBev\": 7873.0}, {\"StichtagDatJahr\": \"2011-12-31T00:00:00\", \"RAUM_LANG\": \"City\", \"RAUM_CODE\": \"R00014\", \"sum_WBev\": 779.0}, {\"StichtagDatJahr\": \"2011-12-31T00:00:00\", \"RAUM_LANG\": \"Gewerbeschule\", \"RAUM_CODE\": \"R00051\", \"sum_WBev\": 9795.0}, {\"StichtagDatJahr\": \"2011-12-31T00:00:00\", \"RAUM_LANG\": \"Hard\", \"RAUM_CODE\": \"R00044\", \"sum_WBev\": 12744.0}, {\"StichtagDatJahr\": \"2011-12-31T00:00:00\", \"RAUM_LANG\": \"Hirslanden\", \"RAUM_CODE\": \"R00073\", \"sum_WBev\": 7024.0}, {\"StichtagDatJahr\": \"2011-12-31T00:00:00\", \"RAUM_LANG\": \"Hirzenbach\", \"RAUM_CODE\": \"R00123\", \"sum_WBev\": 11516.0}, {\"StichtagDatJahr\": \"2011-12-31T00:00:00\", \"RAUM_LANG\": \"Hochschulen\", \"RAUM_CODE\": \"R00012\", \"sum_WBev\": 681.0}, {\"StichtagDatJahr\": \"2011-12-31T00:00:00\", \"RAUM_LANG\": \"Hottingen\", \"RAUM_CODE\": \"R00072\", \"sum_WBev\": 10461.0}, {\"StichtagDatJahr\": \"2011-12-31T00:00:00\", \"RAUM_LANG\": \"Friesenberg\", \"RAUM_CODE\": \"R00033\", \"sum_WBev\": 10622.0}, {\"StichtagDatJahr\": \"2012-12-31T00:00:00\", \"RAUM_LANG\": \"Schwamendingen-Mitte\", \"RAUM_CODE\": \"R00122\", \"sum_WBev\": 10934.0}, {\"StichtagDatJahr\": \"2012-12-31T00:00:00\", \"RAUM_LANG\": \"M\\u00fchlebach\", \"RAUM_CODE\": \"R00082\", \"sum_WBev\": 5745.0}, {\"StichtagDatJahr\": \"2012-12-31T00:00:00\", \"RAUM_LANG\": \"Oberstrass\", \"RAUM_CODE\": \"R00063\", \"sum_WBev\": 10308.0}, {\"StichtagDatJahr\": \"2012-12-31T00:00:00\", \"RAUM_LANG\": \"Oerlikon\", \"RAUM_CODE\": \"R00115\", \"sum_WBev\": 21331.0}, {\"StichtagDatJahr\": \"2012-12-31T00:00:00\", \"RAUM_LANG\": \"Rathaus\", \"RAUM_CODE\": \"R00011\", \"sum_WBev\": 3164.0}, {\"StichtagDatJahr\": \"2012-12-31T00:00:00\", \"RAUM_LANG\": \"Saatlen\", \"RAUM_CODE\": \"R00121\", \"sum_WBev\": 7118.0}, {\"StichtagDatJahr\": \"2012-12-31T00:00:00\", \"RAUM_LANG\": \"Seebach\", \"RAUM_CODE\": \"R00119\", \"sum_WBev\": 23310.0}, {\"StichtagDatJahr\": \"2012-12-31T00:00:00\", \"RAUM_LANG\": \"Wollishofen\", \"RAUM_CODE\": \"R00021\", \"sum_WBev\": 16029.0}, {\"StichtagDatJahr\": \"2012-12-31T00:00:00\", \"RAUM_LANG\": \"Sihlfeld\", \"RAUM_CODE\": \"R00034\", \"sum_WBev\": 20831.0}, {\"StichtagDatJahr\": \"2012-12-31T00:00:00\", \"RAUM_LANG\": \"Unterstrass\", \"RAUM_CODE\": \"R00061\", \"sum_WBev\": 21442.0}, {\"StichtagDatJahr\": \"2012-12-31T00:00:00\", \"RAUM_LANG\": \"Weinegg\", \"RAUM_CODE\": \"R00083\", \"sum_WBev\": 4783.0}, {\"StichtagDatJahr\": \"2012-12-31T00:00:00\", \"RAUM_LANG\": \"Werd\", \"RAUM_CODE\": \"R00041\", \"sum_WBev\": 4195.0}, {\"StichtagDatJahr\": \"2012-12-31T00:00:00\", \"RAUM_LANG\": \"Wipkingen\", \"RAUM_CODE\": \"R00102\", \"sum_WBev\": 15791.0}, {\"StichtagDatJahr\": \"2012-12-31T00:00:00\", \"RAUM_LANG\": \"Witikon\", \"RAUM_CODE\": \"R00074\", \"sum_WBev\": 10246.0}, {\"StichtagDatJahr\": \"2012-12-31T00:00:00\", \"RAUM_LANG\": \"Lindenhof\", \"RAUM_CODE\": \"R00013\", \"sum_WBev\": 935.0}, {\"StichtagDatJahr\": \"2012-12-31T00:00:00\", \"RAUM_LANG\": \"Seefeld\", \"RAUM_CODE\": \"R00081\", \"sum_WBev\": 4916.0}, {\"StichtagDatJahr\": \"2012-12-31T00:00:00\", \"RAUM_LANG\": \"Leimbach\", \"RAUM_CODE\": \"R00023\", \"sum_WBev\": 5354.0}, {\"StichtagDatJahr\": \"2012-12-31T00:00:00\", \"RAUM_LANG\": \"Langstrasse\", \"RAUM_CODE\": \"R00042\", \"sum_WBev\": 10560.0}, {\"StichtagDatJahr\": \"2012-12-31T00:00:00\", \"RAUM_LANG\": \"H\\u00f6ngg\", \"RAUM_CODE\": \"R00101\", \"sum_WBev\": 21537.0}, {\"StichtagDatJahr\": \"2012-12-31T00:00:00\", \"RAUM_LANG\": \"Albisrieden\", \"RAUM_CODE\": \"R00091\", \"sum_WBev\": 18999.0}, {\"StichtagDatJahr\": \"2012-12-31T00:00:00\", \"RAUM_LANG\": \"Alt-Wiedikon\", \"RAUM_CODE\": \"R00031\", \"sum_WBev\": 16109.0}, {\"StichtagDatJahr\": \"2012-12-31T00:00:00\", \"RAUM_LANG\": \"Altstetten\", \"RAUM_CODE\": \"R00092\", \"sum_WBev\": 31438.0}, {\"StichtagDatJahr\": \"2012-12-31T00:00:00\", \"RAUM_LANG\": \"City\", \"RAUM_CODE\": \"R00014\", \"sum_WBev\": 799.0}, {\"StichtagDatJahr\": \"2012-12-31T00:00:00\", \"RAUM_LANG\": \"Enge\", \"RAUM_CODE\": \"R00024\", \"sum_WBev\": 8702.0}, {\"StichtagDatJahr\": \"2012-12-31T00:00:00\", \"RAUM_LANG\": \"Escher Wyss\", \"RAUM_CODE\": \"R00052\", \"sum_WBev\": 3343.0}, {\"StichtagDatJahr\": \"2012-12-31T00:00:00\", \"RAUM_LANG\": \"Fluntern\", \"RAUM_CODE\": \"R00071\", \"sum_WBev\": 7779.0}, {\"StichtagDatJahr\": \"2012-12-31T00:00:00\", \"RAUM_LANG\": \"Affoltern\", \"RAUM_CODE\": \"R00111\", \"sum_WBev\": 24855.0}, {\"StichtagDatJahr\": \"2012-12-31T00:00:00\", \"RAUM_LANG\": \"Gewerbeschule\", \"RAUM_CODE\": \"R00051\", \"sum_WBev\": 9824.0}, {\"StichtagDatJahr\": \"2012-12-31T00:00:00\", \"RAUM_LANG\": \"Hard\", \"RAUM_CODE\": \"R00044\", \"sum_WBev\": 12994.0}, {\"StichtagDatJahr\": \"2012-12-31T00:00:00\", \"RAUM_LANG\": \"Hirslanden\", \"RAUM_CODE\": \"R00073\", \"sum_WBev\": 7131.0}, {\"StichtagDatJahr\": \"2012-12-31T00:00:00\", \"RAUM_LANG\": \"Hirzenbach\", \"RAUM_CODE\": \"R00123\", \"sum_WBev\": 11404.0}, {\"StichtagDatJahr\": \"2012-12-31T00:00:00\", \"RAUM_LANG\": \"Hochschulen\", \"RAUM_CODE\": \"R00012\", \"sum_WBev\": 673.0}, {\"StichtagDatJahr\": \"2012-12-31T00:00:00\", \"RAUM_LANG\": \"Hottingen\", \"RAUM_CODE\": \"R00072\", \"sum_WBev\": 10447.0}, {\"StichtagDatJahr\": \"2012-12-31T00:00:00\", \"RAUM_LANG\": \"Friesenberg\", \"RAUM_CODE\": \"R00033\", \"sum_WBev\": 10986.0}, {\"StichtagDatJahr\": \"2013-12-31T00:00:00\", \"RAUM_LANG\": \"Oberstrass\", \"RAUM_CODE\": \"R00063\", \"sum_WBev\": 10452.0}, {\"StichtagDatJahr\": \"2013-12-31T00:00:00\", \"RAUM_LANG\": \"Oerlikon\", \"RAUM_CODE\": \"R00115\", \"sum_WBev\": 21658.0}, {\"StichtagDatJahr\": \"2013-12-31T00:00:00\", \"RAUM_LANG\": \"Rathaus\", \"RAUM_CODE\": \"R00011\", \"sum_WBev\": 3194.0}, {\"StichtagDatJahr\": \"2013-12-31T00:00:00\", \"RAUM_LANG\": \"Saatlen\", \"RAUM_CODE\": \"R00121\", \"sum_WBev\": 7280.0}, {\"StichtagDatJahr\": \"2013-12-31T00:00:00\", \"RAUM_LANG\": \"Schwamendingen-Mitte\", \"RAUM_CODE\": \"R00122\", \"sum_WBev\": 11209.0}, {\"StichtagDatJahr\": \"2013-12-31T00:00:00\", \"RAUM_LANG\": \"Seebach\", \"RAUM_CODE\": \"R00119\", \"sum_WBev\": 24008.0}, {\"StichtagDatJahr\": \"2013-12-31T00:00:00\", \"RAUM_LANG\": \"Seefeld\", \"RAUM_CODE\": \"R00081\", \"sum_WBev\": 4978.0}, {\"StichtagDatJahr\": \"2013-12-31T00:00:00\", \"RAUM_LANG\": \"Weinegg\", \"RAUM_CODE\": \"R00083\", \"sum_WBev\": 5022.0}, {\"StichtagDatJahr\": \"2013-12-31T00:00:00\", \"RAUM_LANG\": \"Unterstrass\", \"RAUM_CODE\": \"R00061\", \"sum_WBev\": 21876.0}, {\"StichtagDatJahr\": \"2013-12-31T00:00:00\", \"RAUM_LANG\": \"Werd\", \"RAUM_CODE\": \"R00041\", \"sum_WBev\": 4188.0}, {\"StichtagDatJahr\": \"2013-12-31T00:00:00\", \"RAUM_LANG\": \"Wipkingen\", \"RAUM_CODE\": \"R00102\", \"sum_WBev\": 15835.0}, {\"StichtagDatJahr\": \"2013-12-31T00:00:00\", \"RAUM_LANG\": \"Witikon\", \"RAUM_CODE\": \"R00074\", \"sum_WBev\": 10267.0}, {\"StichtagDatJahr\": \"2013-12-31T00:00:00\", \"RAUM_LANG\": \"Wollishofen\", \"RAUM_CODE\": \"R00021\", \"sum_WBev\": 15937.0}, {\"StichtagDatJahr\": \"2013-12-31T00:00:00\", \"RAUM_LANG\": \"M\\u00fchlebach\", \"RAUM_CODE\": \"R00082\", \"sum_WBev\": 5912.0}, {\"StichtagDatJahr\": \"2013-12-31T00:00:00\", \"RAUM_LANG\": \"Sihlfeld\", \"RAUM_CODE\": \"R00034\", \"sum_WBev\": 20931.0}, {\"StichtagDatJahr\": \"2013-12-31T00:00:00\", \"RAUM_LANG\": \"Lindenhof\", \"RAUM_CODE\": \"R00013\", \"sum_WBev\": 923.0}, {\"StichtagDatJahr\": \"2013-12-31T00:00:00\", \"RAUM_LANG\": \"Leimbach\", \"RAUM_CODE\": \"R00023\", \"sum_WBev\": 5730.0}, {\"StichtagDatJahr\": \"2013-12-31T00:00:00\", \"RAUM_LANG\": \"Affoltern\", \"RAUM_CODE\": \"R00111\", \"sum_WBev\": 25082.0}, {\"StichtagDatJahr\": \"2013-12-31T00:00:00\", \"RAUM_LANG\": \"Albisrieden\", \"RAUM_CODE\": \"R00091\", \"sum_WBev\": 19146.0}, {\"StichtagDatJahr\": \"2013-12-31T00:00:00\", \"RAUM_LANG\": \"Alt-Wiedikon\", \"RAUM_CODE\": \"R00031\", \"sum_WBev\": 16706.0}, {\"StichtagDatJahr\": \"2013-12-31T00:00:00\", \"RAUM_LANG\": \"Altstetten\", \"RAUM_CODE\": \"R00092\", \"sum_WBev\": 31115.0}, {\"StichtagDatJahr\": \"2013-12-31T00:00:00\", \"RAUM_LANG\": \"City\", \"RAUM_CODE\": \"R00014\", \"sum_WBev\": 783.0}, {\"StichtagDatJahr\": \"2013-12-31T00:00:00\", \"RAUM_LANG\": \"Enge\", \"RAUM_CODE\": \"R00024\", \"sum_WBev\": 8836.0}, {\"StichtagDatJahr\": \"2013-12-31T00:00:00\", \"RAUM_LANG\": \"Escher Wyss\", \"RAUM_CODE\": \"R00052\", \"sum_WBev\": 4010.0}, {\"StichtagDatJahr\": \"2013-12-31T00:00:00\", \"RAUM_LANG\": \"Fluntern\", \"RAUM_CODE\": \"R00071\", \"sum_WBev\": 7856.0}, {\"StichtagDatJahr\": \"2013-12-31T00:00:00\", \"RAUM_LANG\": \"Langstrasse\", \"RAUM_CODE\": \"R00042\", \"sum_WBev\": 10686.0}, {\"StichtagDatJahr\": \"2013-12-31T00:00:00\", \"RAUM_LANG\": \"Gewerbeschule\", \"RAUM_CODE\": \"R00051\", \"sum_WBev\": 9626.0}, {\"StichtagDatJahr\": \"2013-12-31T00:00:00\", \"RAUM_LANG\": \"Hard\", \"RAUM_CODE\": \"R00044\", \"sum_WBev\": 13241.0}, {\"StichtagDatJahr\": \"2013-12-31T00:00:00\", \"RAUM_LANG\": \"Hirslanden\", \"RAUM_CODE\": \"R00073\", \"sum_WBev\": 7285.0}, {\"StichtagDatJahr\": \"2013-12-31T00:00:00\", \"RAUM_LANG\": \"Hirzenbach\", \"RAUM_CODE\": \"R00123\", \"sum_WBev\": 11153.0}, {\"StichtagDatJahr\": \"2013-12-31T00:00:00\", \"RAUM_LANG\": \"Hochschulen\", \"RAUM_CODE\": \"R00012\", \"sum_WBev\": 665.0}, {\"StichtagDatJahr\": \"2013-12-31T00:00:00\", \"RAUM_LANG\": \"Hottingen\", \"RAUM_CODE\": \"R00072\", \"sum_WBev\": 10708.0}, {\"StichtagDatJahr\": \"2013-12-31T00:00:00\", \"RAUM_LANG\": \"H\\u00f6ngg\", \"RAUM_CODE\": \"R00101\", \"sum_WBev\": 21581.0}, {\"StichtagDatJahr\": \"2013-12-31T00:00:00\", \"RAUM_LANG\": \"Friesenberg\", \"RAUM_CODE\": \"R00033\", \"sum_WBev\": 10696.0}, {\"StichtagDatJahr\": \"2014-12-31T00:00:00\", \"RAUM_LANG\": \"M\\u00fchlebach\", \"RAUM_CODE\": \"R00082\", \"sum_WBev\": 6107.0}, {\"StichtagDatJahr\": \"2014-12-31T00:00:00\", \"RAUM_LANG\": \"Oberstrass\", \"RAUM_CODE\": \"R00063\", \"sum_WBev\": 10556.0}, {\"StichtagDatJahr\": \"2014-12-31T00:00:00\", \"RAUM_LANG\": \"Oerlikon\", \"RAUM_CODE\": \"R00115\", \"sum_WBev\": 21895.0}, {\"StichtagDatJahr\": \"2014-12-31T00:00:00\", \"RAUM_LANG\": \"Rathaus\", \"RAUM_CODE\": \"R00011\", \"sum_WBev\": 3236.0}, {\"StichtagDatJahr\": \"2014-12-31T00:00:00\", \"RAUM_LANG\": \"Saatlen\", \"RAUM_CODE\": \"R00121\", \"sum_WBev\": 7563.0}, {\"StichtagDatJahr\": \"2014-12-31T00:00:00\", \"RAUM_LANG\": \"Schwamendingen-Mitte\", \"RAUM_CODE\": \"R00122\", \"sum_WBev\": 11301.0}, {\"StichtagDatJahr\": \"2014-12-31T00:00:00\", \"RAUM_LANG\": \"Seebach\", \"RAUM_CODE\": \"R00119\", \"sum_WBev\": 24431.0}, {\"StichtagDatJahr\": \"2014-12-31T00:00:00\", \"RAUM_LANG\": \"Weinegg\", \"RAUM_CODE\": \"R00083\", \"sum_WBev\": 5036.0}, {\"StichtagDatJahr\": \"2014-12-31T00:00:00\", \"RAUM_LANG\": \"Sihlfeld\", \"RAUM_CODE\": \"R00034\", \"sum_WBev\": 21195.0}, {\"StichtagDatJahr\": \"2014-12-31T00:00:00\", \"RAUM_LANG\": \"Unterstrass\", \"RAUM_CODE\": \"R00061\", \"sum_WBev\": 22126.0}, {\"StichtagDatJahr\": \"2014-12-31T00:00:00\", \"RAUM_LANG\": \"Werd\", \"RAUM_CODE\": \"R00041\", \"sum_WBev\": 4428.0}, {\"StichtagDatJahr\": \"2014-12-31T00:00:00\", \"RAUM_LANG\": \"Wipkingen\", \"RAUM_CODE\": \"R00102\", \"sum_WBev\": 15717.0}, {\"StichtagDatJahr\": \"2014-12-31T00:00:00\", \"RAUM_LANG\": \"Witikon\", \"RAUM_CODE\": \"R00074\", \"sum_WBev\": 10406.0}, {\"StichtagDatJahr\": \"2014-12-31T00:00:00\", \"RAUM_LANG\": \"Wollishofen\", \"RAUM_CODE\": \"R00021\", \"sum_WBev\": 16137.0}, {\"StichtagDatJahr\": \"2014-12-31T00:00:00\", \"RAUM_LANG\": \"Lindenhof\", \"RAUM_CODE\": \"R00013\", \"sum_WBev\": 955.0}, {\"StichtagDatJahr\": \"2014-12-31T00:00:00\", \"RAUM_LANG\": \"Seefeld\", \"RAUM_CODE\": \"R00081\", \"sum_WBev\": 5035.0}, {\"StichtagDatJahr\": \"2014-12-31T00:00:00\", \"RAUM_LANG\": \"Langstrasse\", \"RAUM_CODE\": \"R00042\", \"sum_WBev\": 10985.0}, {\"StichtagDatJahr\": \"2014-12-31T00:00:00\", \"RAUM_LANG\": \"Hirslanden\", \"RAUM_CODE\": \"R00073\", \"sum_WBev\": 7403.0}, {\"StichtagDatJahr\": \"2014-12-31T00:00:00\", \"RAUM_LANG\": \"H\\u00f6ngg\", \"RAUM_CODE\": \"R00101\", \"sum_WBev\": 21826.0}, {\"StichtagDatJahr\": \"2014-12-31T00:00:00\", \"RAUM_LANG\": \"Affoltern\", \"RAUM_CODE\": \"R00111\", \"sum_WBev\": 25902.0}, {\"StichtagDatJahr\": \"2014-12-31T00:00:00\", \"RAUM_LANG\": \"Albisrieden\", \"RAUM_CODE\": \"R00091\", \"sum_WBev\": 19199.0}, {\"StichtagDatJahr\": \"2014-12-31T00:00:00\", \"RAUM_LANG\": \"Alt-Wiedikon\", \"RAUM_CODE\": \"R00031\", \"sum_WBev\": 16918.0}, {\"StichtagDatJahr\": \"2014-12-31T00:00:00\", \"RAUM_LANG\": \"Altstetten\", \"RAUM_CODE\": \"R00092\", \"sum_WBev\": 31486.0}, {\"StichtagDatJahr\": \"2014-12-31T00:00:00\", \"RAUM_LANG\": \"Leimbach\", \"RAUM_CODE\": \"R00023\", \"sum_WBev\": 5936.0}, {\"StichtagDatJahr\": \"2014-12-31T00:00:00\", \"RAUM_LANG\": \"Enge\", \"RAUM_CODE\": \"R00024\", \"sum_WBev\": 9083.0}, {\"StichtagDatJahr\": \"2014-12-31T00:00:00\", \"RAUM_LANG\": \"Escher Wyss\", \"RAUM_CODE\": \"R00052\", \"sum_WBev\": 4604.0}, {\"StichtagDatJahr\": \"2014-12-31T00:00:00\", \"RAUM_LANG\": \"City\", \"RAUM_CODE\": \"R00014\", \"sum_WBev\": 791.0}, {\"StichtagDatJahr\": \"2014-12-31T00:00:00\", \"RAUM_LANG\": \"Friesenberg\", \"RAUM_CODE\": \"R00033\", \"sum_WBev\": 10695.0}, {\"StichtagDatJahr\": \"2014-12-31T00:00:00\", \"RAUM_LANG\": \"Gewerbeschule\", \"RAUM_CODE\": \"R00051\", \"sum_WBev\": 9539.0}, {\"StichtagDatJahr\": \"2014-12-31T00:00:00\", \"RAUM_LANG\": \"Hard\", \"RAUM_CODE\": \"R00044\", \"sum_WBev\": 13232.0}, {\"StichtagDatJahr\": \"2014-12-31T00:00:00\", \"RAUM_LANG\": \"Hirzenbach\", \"RAUM_CODE\": \"R00123\", \"sum_WBev\": 11679.0}, {\"StichtagDatJahr\": \"2014-12-31T00:00:00\", \"RAUM_LANG\": \"Hochschulen\", \"RAUM_CODE\": \"R00012\", \"sum_WBev\": 634.0}, {\"StichtagDatJahr\": \"2014-12-31T00:00:00\", \"RAUM_LANG\": \"Hottingen\", \"RAUM_CODE\": \"R00072\", \"sum_WBev\": 10882.0}, {\"StichtagDatJahr\": \"2014-12-31T00:00:00\", \"RAUM_LANG\": \"Fluntern\", \"RAUM_CODE\": \"R00071\", \"sum_WBev\": 7865.0}, {\"StichtagDatJahr\": \"2015-12-31T00:00:00\", \"RAUM_LANG\": \"Schwamendingen-Mitte\", \"RAUM_CODE\": \"R00122\", \"sum_WBev\": 11315.0}, {\"StichtagDatJahr\": \"2015-12-31T00:00:00\", \"RAUM_LANG\": \"M\\u00fchlebach\", \"RAUM_CODE\": \"R00082\", \"sum_WBev\": 6116.0}, {\"StichtagDatJahr\": \"2015-12-31T00:00:00\", \"RAUM_LANG\": \"Oberstrass\", \"RAUM_CODE\": \"R00063\", \"sum_WBev\": 10641.0}, {\"StichtagDatJahr\": \"2015-12-31T00:00:00\", \"RAUM_LANG\": \"Oerlikon\", \"RAUM_CODE\": \"R00115\", \"sum_WBev\": 21966.0}, {\"StichtagDatJahr\": \"2015-12-31T00:00:00\", \"RAUM_LANG\": \"Rathaus\", \"RAUM_CODE\": \"R00011\", \"sum_WBev\": 3197.0}, {\"StichtagDatJahr\": \"2015-12-31T00:00:00\", \"RAUM_LANG\": \"Saatlen\", \"RAUM_CODE\": \"R00121\", \"sum_WBev\": 8508.0}, {\"StichtagDatJahr\": \"2015-12-31T00:00:00\", \"RAUM_LANG\": \"Wollishofen\", \"RAUM_CODE\": \"R00021\", \"sum_WBev\": 16244.0}, {\"StichtagDatJahr\": \"2015-12-31T00:00:00\", \"RAUM_LANG\": \"Lindenhof\", \"RAUM_CODE\": \"R00013\", \"sum_WBev\": 974.0}, {\"StichtagDatJahr\": \"2015-12-31T00:00:00\", \"RAUM_LANG\": \"Seefeld\", \"RAUM_CODE\": \"R00081\", \"sum_WBev\": 4990.0}, {\"StichtagDatJahr\": \"2015-12-31T00:00:00\", \"RAUM_LANG\": \"Sihlfeld\", \"RAUM_CODE\": \"R00034\", \"sum_WBev\": 21339.0}, {\"StichtagDatJahr\": \"2015-12-31T00:00:00\", \"RAUM_LANG\": \"Unterstrass\", \"RAUM_CODE\": \"R00061\", \"sum_WBev\": 22226.0}, {\"StichtagDatJahr\": \"2015-12-31T00:00:00\", \"RAUM_LANG\": \"Weinegg\", \"RAUM_CODE\": \"R00083\", \"sum_WBev\": 5086.0}, {\"StichtagDatJahr\": \"2015-12-31T00:00:00\", \"RAUM_LANG\": \"Werd\", \"RAUM_CODE\": \"R00041\", \"sum_WBev\": 4460.0}, {\"StichtagDatJahr\": \"2015-12-31T00:00:00\", \"RAUM_LANG\": \"Wipkingen\", \"RAUM_CODE\": \"R00102\", \"sum_WBev\": 15879.0}, {\"StichtagDatJahr\": \"2015-12-31T00:00:00\", \"RAUM_LANG\": \"Witikon\", \"RAUM_CODE\": \"R00074\", \"sum_WBev\": 10639.0}, {\"StichtagDatJahr\": \"2015-12-31T00:00:00\", \"RAUM_LANG\": \"Seebach\", \"RAUM_CODE\": \"R00119\", \"sum_WBev\": 24991.0}, {\"StichtagDatJahr\": \"2015-12-31T00:00:00\", \"RAUM_LANG\": \"Leimbach\", \"RAUM_CODE\": \"R00023\", \"sum_WBev\": 6102.0}, {\"StichtagDatJahr\": \"2015-12-31T00:00:00\", \"RAUM_LANG\": \"Friesenberg\", \"RAUM_CODE\": \"R00033\", \"sum_WBev\": 10698.0}, {\"StichtagDatJahr\": \"2015-12-31T00:00:00\", \"RAUM_LANG\": \"H\\u00f6ngg\", \"RAUM_CODE\": \"R00101\", \"sum_WBev\": 22320.0}, {\"StichtagDatJahr\": \"2015-12-31T00:00:00\", \"RAUM_LANG\": \"Langstrasse\", \"RAUM_CODE\": \"R00042\", \"sum_WBev\": 11169.0}, {\"StichtagDatJahr\": \"2015-12-31T00:00:00\", \"RAUM_LANG\": \"Affoltern\", \"RAUM_CODE\": \"R00111\", \"sum_WBev\": 25874.0}, {\"StichtagDatJahr\": \"2015-12-31T00:00:00\", \"RAUM_LANG\": \"Albisrieden\", \"RAUM_CODE\": \"R00091\", \"sum_WBev\": 19325.0}, {\"StichtagDatJahr\": \"2015-12-31T00:00:00\", \"RAUM_LANG\": \"Alt-Wiedikon\", \"RAUM_CODE\": \"R00031\", \"sum_WBev\": 17158.0}, {\"StichtagDatJahr\": \"2015-12-31T00:00:00\", \"RAUM_LANG\": \"City\", \"RAUM_CODE\": \"R00014\", \"sum_WBev\": 805.0}, {\"StichtagDatJahr\": \"2015-12-31T00:00:00\", \"RAUM_LANG\": \"Enge\", \"RAUM_CODE\": \"R00024\", \"sum_WBev\": 9257.0}, {\"StichtagDatJahr\": \"2015-12-31T00:00:00\", \"RAUM_LANG\": \"Escher Wyss\", \"RAUM_CODE\": \"R00052\", \"sum_WBev\": 5457.0}, {\"StichtagDatJahr\": \"2015-12-31T00:00:00\", \"RAUM_LANG\": \"Altstetten\", \"RAUM_CODE\": \"R00092\", \"sum_WBev\": 32003.0}, {\"StichtagDatJahr\": \"2015-12-31T00:00:00\", \"RAUM_LANG\": \"Gewerbeschule\", \"RAUM_CODE\": \"R00051\", \"sum_WBev\": 9608.0}, {\"StichtagDatJahr\": \"2015-12-31T00:00:00\", \"RAUM_LANG\": \"Hard\", \"RAUM_CODE\": \"R00044\", \"sum_WBev\": 13072.0}, {\"StichtagDatJahr\": \"2015-12-31T00:00:00\", \"RAUM_LANG\": \"Hirslanden\", \"RAUM_CODE\": \"R00073\", \"sum_WBev\": 7380.0}, {\"StichtagDatJahr\": \"2015-12-31T00:00:00\", \"RAUM_LANG\": \"Hirzenbach\", \"RAUM_CODE\": \"R00123\", \"sum_WBev\": 11930.0}, {\"StichtagDatJahr\": \"2015-12-31T00:00:00\", \"RAUM_LANG\": \"Hochschulen\", \"RAUM_CODE\": \"R00012\", \"sum_WBev\": 641.0}, {\"StichtagDatJahr\": \"2015-12-31T00:00:00\", \"RAUM_LANG\": \"Hottingen\", \"RAUM_CODE\": \"R00072\", \"sum_WBev\": 11081.0}, {\"StichtagDatJahr\": \"2015-12-31T00:00:00\", \"RAUM_LANG\": \"Fluntern\", \"RAUM_CODE\": \"R00071\", \"sum_WBev\": 7953.0}, {\"StichtagDatJahr\": \"2016-12-31T00:00:00\", \"RAUM_LANG\": \"Schwamendingen-Mitte\", \"RAUM_CODE\": \"R00122\", \"sum_WBev\": 11076.0}, {\"StichtagDatJahr\": \"2016-12-31T00:00:00\", \"RAUM_LANG\": \"M\\u00fchlebach\", \"RAUM_CODE\": \"R00082\", \"sum_WBev\": 6137.0}, {\"StichtagDatJahr\": \"2016-12-31T00:00:00\", \"RAUM_LANG\": \"Oberstrass\", \"RAUM_CODE\": \"R00063\", \"sum_WBev\": 10794.0}, {\"StichtagDatJahr\": \"2016-12-31T00:00:00\", \"RAUM_LANG\": \"Oerlikon\", \"RAUM_CODE\": \"R00115\", \"sum_WBev\": 22161.0}, {\"StichtagDatJahr\": \"2016-12-31T00:00:00\", \"RAUM_LANG\": \"Rathaus\", \"RAUM_CODE\": \"R00011\", \"sum_WBev\": 3226.0}, {\"StichtagDatJahr\": \"2016-12-31T00:00:00\", \"RAUM_LANG\": \"Saatlen\", \"RAUM_CODE\": \"R00121\", \"sum_WBev\": 8283.0}, {\"StichtagDatJahr\": \"2016-12-31T00:00:00\", \"RAUM_LANG\": \"Seebach\", \"RAUM_CODE\": \"R00119\", \"sum_WBev\": 25198.0}, {\"StichtagDatJahr\": \"2016-12-31T00:00:00\", \"RAUM_LANG\": \"Wollishofen\", \"RAUM_CODE\": \"R00021\", \"sum_WBev\": 16567.0}, {\"StichtagDatJahr\": \"2016-12-31T00:00:00\", \"RAUM_LANG\": \"Sihlfeld\", \"RAUM_CODE\": \"R00034\", \"sum_WBev\": 21177.0}, {\"StichtagDatJahr\": \"2016-12-31T00:00:00\", \"RAUM_LANG\": \"Unterstrass\", \"RAUM_CODE\": \"R00061\", \"sum_WBev\": 22476.0}, {\"StichtagDatJahr\": \"2016-12-31T00:00:00\", \"RAUM_LANG\": \"Weinegg\", \"RAUM_CODE\": \"R00083\", \"sum_WBev\": 5030.0}, {\"StichtagDatJahr\": \"2016-12-31T00:00:00\", \"RAUM_LANG\": \"Werd\", \"RAUM_CODE\": \"R00041\", \"sum_WBev\": 4594.0}, {\"StichtagDatJahr\": \"2016-12-31T00:00:00\", \"RAUM_LANG\": \"Wipkingen\", \"RAUM_CODE\": \"R00102\", \"sum_WBev\": 16141.0}, {\"StichtagDatJahr\": \"2016-12-31T00:00:00\", \"RAUM_LANG\": \"Witikon\", \"RAUM_CODE\": \"R00074\", \"sum_WBev\": 10667.0}, {\"StichtagDatJahr\": \"2016-12-31T00:00:00\", \"RAUM_LANG\": \"Lindenhof\", \"RAUM_CODE\": \"R00013\", \"sum_WBev\": 972.0}, {\"StichtagDatJahr\": \"2016-12-31T00:00:00\", \"RAUM_LANG\": \"Seefeld\", \"RAUM_CODE\": \"R00081\", \"sum_WBev\": 5046.0}, {\"StichtagDatJahr\": \"2016-12-31T00:00:00\", \"RAUM_LANG\": \"Leimbach\", \"RAUM_CODE\": \"R00023\", \"sum_WBev\": 6173.0}, {\"StichtagDatJahr\": \"2016-12-31T00:00:00\", \"RAUM_LANG\": \"Langstrasse\", \"RAUM_CODE\": \"R00042\", \"sum_WBev\": 11145.0}, {\"StichtagDatJahr\": \"2016-12-31T00:00:00\", \"RAUM_LANG\": \"H\\u00f6ngg\", \"RAUM_CODE\": \"R00101\", \"sum_WBev\": 23423.0}, {\"StichtagDatJahr\": \"2016-12-31T00:00:00\", \"RAUM_LANG\": \"Albisrieden\", \"RAUM_CODE\": \"R00091\", \"sum_WBev\": 21174.0}, {\"StichtagDatJahr\": \"2016-12-31T00:00:00\", \"RAUM_LANG\": \"Alt-Wiedikon\", \"RAUM_CODE\": \"R00031\", \"sum_WBev\": 17321.0}, {\"StichtagDatJahr\": \"2016-12-31T00:00:00\", \"RAUM_LANG\": \"Altstetten\", \"RAUM_CODE\": \"R00092\", \"sum_WBev\": 31724.0}, {\"StichtagDatJahr\": \"2016-12-31T00:00:00\", \"RAUM_LANG\": \"City\", \"RAUM_CODE\": \"R00014\", \"sum_WBev\": 810.0}, {\"StichtagDatJahr\": \"2016-12-31T00:00:00\", \"RAUM_LANG\": \"Enge\", \"RAUM_CODE\": \"R00024\", \"sum_WBev\": 9422.0}, {\"StichtagDatJahr\": \"2016-12-31T00:00:00\", \"RAUM_LANG\": \"Escher Wyss\", \"RAUM_CODE\": \"R00052\", \"sum_WBev\": 5825.0}, {\"StichtagDatJahr\": \"2016-12-31T00:00:00\", \"RAUM_LANG\": \"Fluntern\", \"RAUM_CODE\": \"R00071\", \"sum_WBev\": 8038.0}, {\"StichtagDatJahr\": \"2016-12-31T00:00:00\", \"RAUM_LANG\": \"Affoltern\", \"RAUM_CODE\": \"R00111\", \"sum_WBev\": 26054.0}, {\"StichtagDatJahr\": \"2016-12-31T00:00:00\", \"RAUM_LANG\": \"Gewerbeschule\", \"RAUM_CODE\": \"R00051\", \"sum_WBev\": 9598.0}, {\"StichtagDatJahr\": \"2016-12-31T00:00:00\", \"RAUM_LANG\": \"Hard\", \"RAUM_CODE\": \"R00044\", \"sum_WBev\": 12891.0}, {\"StichtagDatJahr\": \"2016-12-31T00:00:00\", \"RAUM_LANG\": \"Hirslanden\", \"RAUM_CODE\": \"R00073\", \"sum_WBev\": 7321.0}, {\"StichtagDatJahr\": \"2016-12-31T00:00:00\", \"RAUM_LANG\": \"Hirzenbach\", \"RAUM_CODE\": \"R00123\", \"sum_WBev\": 12463.0}, {\"StichtagDatJahr\": \"2016-12-31T00:00:00\", \"RAUM_LANG\": \"Hochschulen\", \"RAUM_CODE\": \"R00012\", \"sum_WBev\": 640.0}, {\"StichtagDatJahr\": \"2016-12-31T00:00:00\", \"RAUM_LANG\": \"Hottingen\", \"RAUM_CODE\": \"R00072\", \"sum_WBev\": 11113.0}, {\"StichtagDatJahr\": \"2016-12-31T00:00:00\", \"RAUM_LANG\": \"Friesenberg\", \"RAUM_CODE\": \"R00033\", \"sum_WBev\": 11002.0}, {\"StichtagDatJahr\": \"2017-12-31T00:00:00\", \"RAUM_LANG\": \"Oberstrass\", \"RAUM_CODE\": \"R00063\", \"sum_WBev\": 10846.0}, {\"StichtagDatJahr\": \"2017-12-31T00:00:00\", \"RAUM_LANG\": \"Oerlikon\", \"RAUM_CODE\": \"R00115\", \"sum_WBev\": 22815.0}, {\"StichtagDatJahr\": \"2017-12-31T00:00:00\", \"RAUM_LANG\": \"Rathaus\", \"RAUM_CODE\": \"R00011\", \"sum_WBev\": 3266.0}, {\"StichtagDatJahr\": \"2017-12-31T00:00:00\", \"RAUM_LANG\": \"Saatlen\", \"RAUM_CODE\": \"R00121\", \"sum_WBev\": 8388.0}, {\"StichtagDatJahr\": \"2017-12-31T00:00:00\", \"RAUM_LANG\": \"Schwamendingen-Mitte\", \"RAUM_CODE\": \"R00122\", \"sum_WBev\": 11012.0}, {\"StichtagDatJahr\": \"2017-12-31T00:00:00\", \"RAUM_LANG\": \"Seebach\", \"RAUM_CODE\": \"R00119\", \"sum_WBev\": 25817.0}, {\"StichtagDatJahr\": \"2017-12-31T00:00:00\", \"RAUM_LANG\": \"Seefeld\", \"RAUM_CODE\": \"R00081\", \"sum_WBev\": 5129.0}, {\"StichtagDatJahr\": \"2017-12-31T00:00:00\", \"RAUM_LANG\": \"Weinegg\", \"RAUM_CODE\": \"R00083\", \"sum_WBev\": 5248.0}, {\"StichtagDatJahr\": \"2017-12-31T00:00:00\", \"RAUM_LANG\": \"Unterstrass\", \"RAUM_CODE\": \"R00061\", \"sum_WBev\": 22768.0}, {\"StichtagDatJahr\": \"2017-12-31T00:00:00\", \"RAUM_LANG\": \"Werd\", \"RAUM_CODE\": \"R00041\", \"sum_WBev\": 4574.0}, {\"StichtagDatJahr\": \"2017-12-31T00:00:00\", \"RAUM_LANG\": \"Wipkingen\", \"RAUM_CODE\": \"R00102\", \"sum_WBev\": 16544.0}, {\"StichtagDatJahr\": \"2017-12-31T00:00:00\", \"RAUM_LANG\": \"Witikon\", \"RAUM_CODE\": \"R00074\", \"sum_WBev\": 10600.0}, {\"StichtagDatJahr\": \"2017-12-31T00:00:00\", \"RAUM_LANG\": \"Wollishofen\", \"RAUM_CODE\": \"R00021\", \"sum_WBev\": 17892.0}, {\"StichtagDatJahr\": \"2017-12-31T00:00:00\", \"RAUM_LANG\": \"M\\u00fchlebach\", \"RAUM_CODE\": \"R00082\", \"sum_WBev\": 6164.0}, {\"StichtagDatJahr\": \"2017-12-31T00:00:00\", \"RAUM_LANG\": \"Sihlfeld\", \"RAUM_CODE\": \"R00034\", \"sum_WBev\": 21660.0}, {\"StichtagDatJahr\": \"2017-12-31T00:00:00\", \"RAUM_LANG\": \"Lindenhof\", \"RAUM_CODE\": \"R00013\", \"sum_WBev\": 955.0}, {\"StichtagDatJahr\": \"2017-12-31T00:00:00\", \"RAUM_LANG\": \"Leimbach\", \"RAUM_CODE\": \"R00023\", \"sum_WBev\": 6212.0}, {\"StichtagDatJahr\": \"2017-12-31T00:00:00\", \"RAUM_LANG\": \"Affoltern\", \"RAUM_CODE\": \"R00111\", \"sum_WBev\": 26177.0}, {\"StichtagDatJahr\": \"2017-12-31T00:00:00\", \"RAUM_LANG\": \"Albisrieden\", \"RAUM_CODE\": \"R00091\", \"sum_WBev\": 22113.0}, {\"StichtagDatJahr\": \"2017-12-31T00:00:00\", \"RAUM_LANG\": \"Alt-Wiedikon\", \"RAUM_CODE\": \"R00031\", \"sum_WBev\": 17522.0}, {\"StichtagDatJahr\": \"2017-12-31T00:00:00\", \"RAUM_LANG\": \"Altstetten\", \"RAUM_CODE\": \"R00092\", \"sum_WBev\": 32603.0}, {\"StichtagDatJahr\": \"2017-12-31T00:00:00\", \"RAUM_LANG\": \"City\", \"RAUM_CODE\": \"R00014\", \"sum_WBev\": 830.0}, {\"StichtagDatJahr\": \"2017-12-31T00:00:00\", \"RAUM_LANG\": \"Enge\", \"RAUM_CODE\": \"R00024\", \"sum_WBev\": 9489.0}, {\"StichtagDatJahr\": \"2017-12-31T00:00:00\", \"RAUM_LANG\": \"Escher Wyss\", \"RAUM_CODE\": \"R00052\", \"sum_WBev\": 6088.0}, {\"StichtagDatJahr\": \"2017-12-31T00:00:00\", \"RAUM_LANG\": \"Fluntern\", \"RAUM_CODE\": \"R00071\", \"sum_WBev\": 8221.0}, {\"StichtagDatJahr\": \"2017-12-31T00:00:00\", \"RAUM_LANG\": \"Langstrasse\", \"RAUM_CODE\": \"R00042\", \"sum_WBev\": 11144.0}, {\"StichtagDatJahr\": \"2017-12-31T00:00:00\", \"RAUM_LANG\": \"Gewerbeschule\", \"RAUM_CODE\": \"R00051\", \"sum_WBev\": 9578.0}, {\"StichtagDatJahr\": \"2017-12-31T00:00:00\", \"RAUM_LANG\": \"Hard\", \"RAUM_CODE\": \"R00044\", \"sum_WBev\": 13057.0}, {\"StichtagDatJahr\": \"2017-12-31T00:00:00\", \"RAUM_LANG\": \"Hirslanden\", \"RAUM_CODE\": \"R00073\", \"sum_WBev\": 7465.0}, {\"StichtagDatJahr\": \"2017-12-31T00:00:00\", \"RAUM_LANG\": \"Hirzenbach\", \"RAUM_CODE\": \"R00123\", \"sum_WBev\": 12627.0}, {\"StichtagDatJahr\": \"2017-12-31T00:00:00\", \"RAUM_LANG\": \"Hochschulen\", \"RAUM_CODE\": \"R00012\", \"sum_WBev\": 677.0}, {\"StichtagDatJahr\": \"2017-12-31T00:00:00\", \"RAUM_LANG\": \"Hottingen\", \"RAUM_CODE\": \"R00072\", \"sum_WBev\": 11172.0}, {\"StichtagDatJahr\": \"2017-12-31T00:00:00\", \"RAUM_LANG\": \"H\\u00f6ngg\", \"RAUM_CODE\": \"R00101\", \"sum_WBev\": 23797.0}, {\"StichtagDatJahr\": \"2017-12-31T00:00:00\", \"RAUM_LANG\": \"Friesenberg\", \"RAUM_CODE\": \"R00033\", \"sum_WBev\": 10860.0}, {\"StichtagDatJahr\": \"2018-12-31T00:00:00\", \"RAUM_LANG\": \"M\\u00fchlebach\", \"RAUM_CODE\": \"R00082\", \"sum_WBev\": 6315.0}, {\"StichtagDatJahr\": \"2018-12-31T00:00:00\", \"RAUM_LANG\": \"Oberstrass\", \"RAUM_CODE\": \"R00063\", \"sum_WBev\": 10927.0}, {\"StichtagDatJahr\": \"2018-12-31T00:00:00\", \"RAUM_LANG\": \"Oerlikon\", \"RAUM_CODE\": \"R00115\", \"sum_WBev\": 23214.0}, {\"StichtagDatJahr\": \"2018-12-31T00:00:00\", \"RAUM_LANG\": \"Rathaus\", \"RAUM_CODE\": \"R00011\", \"sum_WBev\": 3267.0}, {\"StichtagDatJahr\": \"2018-12-31T00:00:00\", \"RAUM_LANG\": \"Saatlen\", \"RAUM_CODE\": \"R00121\", \"sum_WBev\": 8582.0}, {\"StichtagDatJahr\": \"2018-12-31T00:00:00\", \"RAUM_LANG\": \"Schwamendingen-Mitte\", \"RAUM_CODE\": \"R00122\", \"sum_WBev\": 11100.0}, {\"StichtagDatJahr\": \"2018-12-31T00:00:00\", \"RAUM_LANG\": \"Seebach\", \"RAUM_CODE\": \"R00119\", \"sum_WBev\": 25568.0}, {\"StichtagDatJahr\": \"2018-12-31T00:00:00\", \"RAUM_LANG\": \"Weinegg\", \"RAUM_CODE\": \"R00083\", \"sum_WBev\": 5220.0}, {\"StichtagDatJahr\": \"2018-12-31T00:00:00\", \"RAUM_LANG\": \"Sihlfeld\", \"RAUM_CODE\": \"R00034\", \"sum_WBev\": 21680.0}, {\"StichtagDatJahr\": \"2018-12-31T00:00:00\", \"RAUM_LANG\": \"Unterstrass\", \"RAUM_CODE\": \"R00061\", \"sum_WBev\": 23394.0}, {\"StichtagDatJahr\": \"2018-12-31T00:00:00\", \"RAUM_LANG\": \"Werd\", \"RAUM_CODE\": \"R00041\", \"sum_WBev\": 4455.0}, {\"StichtagDatJahr\": \"2018-12-31T00:00:00\", \"RAUM_LANG\": \"Wipkingen\", \"RAUM_CODE\": \"R00102\", \"sum_WBev\": 16321.0}, {\"StichtagDatJahr\": \"2018-12-31T00:00:00\", \"RAUM_LANG\": \"Witikon\", \"RAUM_CODE\": \"R00074\", \"sum_WBev\": 10953.0}, {\"StichtagDatJahr\": \"2018-12-31T00:00:00\", \"RAUM_LANG\": \"Wollishofen\", \"RAUM_CODE\": \"R00021\", \"sum_WBev\": 18923.0}, {\"StichtagDatJahr\": \"2018-12-31T00:00:00\", \"RAUM_LANG\": \"Lindenhof\", \"RAUM_CODE\": \"R00013\", \"sum_WBev\": 990.0}, {\"StichtagDatJahr\": \"2018-12-31T00:00:00\", \"RAUM_LANG\": \"Seefeld\", \"RAUM_CODE\": \"R00081\", \"sum_WBev\": 5253.0}, {\"StichtagDatJahr\": \"2018-12-31T00:00:00\", \"RAUM_LANG\": \"Langstrasse\", \"RAUM_CODE\": \"R00042\", \"sum_WBev\": 11111.0}, {\"StichtagDatJahr\": \"2018-12-31T00:00:00\", \"RAUM_LANG\": \"Hirslanden\", \"RAUM_CODE\": \"R00073\", \"sum_WBev\": 7488.0}, {\"StichtagDatJahr\": \"2018-12-31T00:00:00\", \"RAUM_LANG\": \"H\\u00f6ngg\", \"RAUM_CODE\": \"R00101\", \"sum_WBev\": 24020.0}, {\"StichtagDatJahr\": \"2018-12-31T00:00:00\", \"RAUM_LANG\": \"Affoltern\", \"RAUM_CODE\": \"R00111\", \"sum_WBev\": 26562.0}, {\"StichtagDatJahr\": \"2018-12-31T00:00:00\", \"RAUM_LANG\": \"Albisrieden\", \"RAUM_CODE\": \"R00091\", \"sum_WBev\": 22304.0}, {\"StichtagDatJahr\": \"2018-12-31T00:00:00\", \"RAUM_LANG\": \"Alt-Wiedikon\", \"RAUM_CODE\": \"R00031\", \"sum_WBev\": 17956.0}, {\"StichtagDatJahr\": \"2018-12-31T00:00:00\", \"RAUM_LANG\": \"Altstetten\", \"RAUM_CODE\": \"R00092\", \"sum_WBev\": 33461.0}, {\"StichtagDatJahr\": \"2018-12-31T00:00:00\", \"RAUM_LANG\": \"Leimbach\", \"RAUM_CODE\": \"R00023\", \"sum_WBev\": 6320.0}, {\"StichtagDatJahr\": \"2018-12-31T00:00:00\", \"RAUM_LANG\": \"Enge\", \"RAUM_CODE\": \"R00024\", \"sum_WBev\": 9634.0}, {\"StichtagDatJahr\": \"2018-12-31T00:00:00\", \"RAUM_LANG\": \"Escher Wyss\", \"RAUM_CODE\": \"R00052\", \"sum_WBev\": 6066.0}, {\"StichtagDatJahr\": \"2018-12-31T00:00:00\", \"RAUM_LANG\": \"City\", \"RAUM_CODE\": \"R00014\", \"sum_WBev\": 829.0}, {\"StichtagDatJahr\": \"2018-12-31T00:00:00\", \"RAUM_LANG\": \"Friesenberg\", \"RAUM_CODE\": \"R00033\", \"sum_WBev\": 10933.0}, {\"StichtagDatJahr\": \"2018-12-31T00:00:00\", \"RAUM_LANG\": \"Gewerbeschule\", \"RAUM_CODE\": \"R00051\", \"sum_WBev\": 9513.0}, {\"StichtagDatJahr\": \"2018-12-31T00:00:00\", \"RAUM_LANG\": \"Hard\", \"RAUM_CODE\": \"R00044\", \"sum_WBev\": 13163.0}, {\"StichtagDatJahr\": \"2018-12-31T00:00:00\", \"RAUM_LANG\": \"Hirzenbach\", \"RAUM_CODE\": \"R00123\", \"sum_WBev\": 12801.0}, {\"StichtagDatJahr\": \"2018-12-31T00:00:00\", \"RAUM_LANG\": \"Hochschulen\", \"RAUM_CODE\": \"R00012\", \"sum_WBev\": 664.0}, {\"StichtagDatJahr\": \"2018-12-31T00:00:00\", \"RAUM_LANG\": \"Hottingen\", \"RAUM_CODE\": \"R00072\", \"sum_WBev\": 11265.0}, {\"StichtagDatJahr\": \"2018-12-31T00:00:00\", \"RAUM_LANG\": \"Fluntern\", \"RAUM_CODE\": \"R00071\", \"sum_WBev\": 8485.0}, {\"StichtagDatJahr\": \"2019-12-31T00:00:00\", \"RAUM_LANG\": \"Schwamendingen-Mitte\", \"RAUM_CODE\": \"R00122\", \"sum_WBev\": 11261.0}, {\"StichtagDatJahr\": \"2019-12-31T00:00:00\", \"RAUM_LANG\": \"M\\u00fchlebach\", \"RAUM_CODE\": \"R00082\", \"sum_WBev\": 6327.0}, {\"StichtagDatJahr\": \"2019-12-31T00:00:00\", \"RAUM_LANG\": \"Oberstrass\", \"RAUM_CODE\": \"R00063\", \"sum_WBev\": 10823.0}, {\"StichtagDatJahr\": \"2019-12-31T00:00:00\", \"RAUM_LANG\": \"Oerlikon\", \"RAUM_CODE\": \"R00115\", \"sum_WBev\": 23288.0}, {\"StichtagDatJahr\": \"2019-12-31T00:00:00\", \"RAUM_LANG\": \"Rathaus\", \"RAUM_CODE\": \"R00011\", \"sum_WBev\": 3307.0}, {\"StichtagDatJahr\": \"2019-12-31T00:00:00\", \"RAUM_LANG\": \"Saatlen\", \"RAUM_CODE\": \"R00121\", \"sum_WBev\": 8841.0}, {\"StichtagDatJahr\": \"2019-12-31T00:00:00\", \"RAUM_LANG\": \"Wollishofen\", \"RAUM_CODE\": \"R00021\", \"sum_WBev\": 19225.0}, {\"StichtagDatJahr\": \"2019-12-31T00:00:00\", \"RAUM_LANG\": \"Lindenhof\", \"RAUM_CODE\": \"R00013\", \"sum_WBev\": 1009.0}, {\"StichtagDatJahr\": \"2019-12-31T00:00:00\", \"RAUM_LANG\": \"Seefeld\", \"RAUM_CODE\": \"R00081\", \"sum_WBev\": 5319.0}, {\"StichtagDatJahr\": \"2019-12-31T00:00:00\", \"RAUM_LANG\": \"Sihlfeld\", \"RAUM_CODE\": \"R00034\", \"sum_WBev\": 22141.0}, {\"StichtagDatJahr\": \"2019-12-31T00:00:00\", \"RAUM_LANG\": \"Unterstrass\", \"RAUM_CODE\": \"R00061\", \"sum_WBev\": 23971.0}, {\"StichtagDatJahr\": \"2019-12-31T00:00:00\", \"RAUM_LANG\": \"Weinegg\", \"RAUM_CODE\": \"R00083\", \"sum_WBev\": 5414.0}, {\"StichtagDatJahr\": \"2019-12-31T00:00:00\", \"RAUM_LANG\": \"Werd\", \"RAUM_CODE\": \"R00041\", \"sum_WBev\": 4455.0}, {\"StichtagDatJahr\": \"2019-12-31T00:00:00\", \"RAUM_LANG\": \"Wipkingen\", \"RAUM_CODE\": \"R00102\", \"sum_WBev\": 16474.0}, {\"StichtagDatJahr\": \"2019-12-31T00:00:00\", \"RAUM_LANG\": \"Witikon\", \"RAUM_CODE\": \"R00074\", \"sum_WBev\": 11054.0}, {\"StichtagDatJahr\": \"2019-12-31T00:00:00\", \"RAUM_LANG\": \"Seebach\", \"RAUM_CODE\": \"R00119\", \"sum_WBev\": 25806.0}, {\"StichtagDatJahr\": \"2019-12-31T00:00:00\", \"RAUM_LANG\": \"Leimbach\", \"RAUM_CODE\": \"R00023\", \"sum_WBev\": 6152.0}, {\"StichtagDatJahr\": \"2019-12-31T00:00:00\", \"RAUM_LANG\": \"Friesenberg\", \"RAUM_CODE\": \"R00033\", \"sum_WBev\": 11107.0}, {\"StichtagDatJahr\": \"2019-12-31T00:00:00\", \"RAUM_LANG\": \"H\\u00f6ngg\", \"RAUM_CODE\": \"R00101\", \"sum_WBev\": 24358.0}, {\"StichtagDatJahr\": \"2019-12-31T00:00:00\", \"RAUM_LANG\": \"Affoltern\", \"RAUM_CODE\": \"R00111\", \"sum_WBev\": 26710.0}, {\"StichtagDatJahr\": \"2019-12-31T00:00:00\", \"RAUM_LANG\": \"Albisrieden\", \"RAUM_CODE\": \"R00091\", \"sum_WBev\": 22352.0}, {\"StichtagDatJahr\": \"2019-12-31T00:00:00\", \"RAUM_LANG\": \"Alt-Wiedikon\", \"RAUM_CODE\": \"R00031\", \"sum_WBev\": 17874.0}, {\"StichtagDatJahr\": \"2019-12-31T00:00:00\", \"RAUM_LANG\": \"Altstetten\", \"RAUM_CODE\": \"R00092\", \"sum_WBev\": 34285.0}, {\"StichtagDatJahr\": \"2019-12-31T00:00:00\", \"RAUM_LANG\": \"City\", \"RAUM_CODE\": \"R00014\", \"sum_WBev\": 797.0}, {\"StichtagDatJahr\": \"2019-12-31T00:00:00\", \"RAUM_LANG\": \"Enge\", \"RAUM_CODE\": \"R00024\", \"sum_WBev\": 9658.0}, {\"StichtagDatJahr\": \"2019-12-31T00:00:00\", \"RAUM_LANG\": \"Escher Wyss\", \"RAUM_CODE\": \"R00052\", \"sum_WBev\": 6188.0}, {\"StichtagDatJahr\": \"2019-12-31T00:00:00\", \"RAUM_LANG\": \"Langstrasse\", \"RAUM_CODE\": \"R00042\", \"sum_WBev\": 11853.0}, {\"StichtagDatJahr\": \"2019-12-31T00:00:00\", \"RAUM_LANG\": \"Gewerbeschule\", \"RAUM_CODE\": \"R00051\", \"sum_WBev\": 9562.0}, {\"StichtagDatJahr\": \"2019-12-31T00:00:00\", \"RAUM_LANG\": \"Hard\", \"RAUM_CODE\": \"R00044\", \"sum_WBev\": 13060.0}, {\"StichtagDatJahr\": \"2019-12-31T00:00:00\", \"RAUM_LANG\": \"Hirslanden\", \"RAUM_CODE\": \"R00073\", \"sum_WBev\": 7503.0}, {\"StichtagDatJahr\": \"2019-12-31T00:00:00\", \"RAUM_LANG\": \"Hirzenbach\", \"RAUM_CODE\": \"R00123\", \"sum_WBev\": 13129.0}, {\"StichtagDatJahr\": \"2019-12-31T00:00:00\", \"RAUM_LANG\": \"Hochschulen\", \"RAUM_CODE\": \"R00012\", \"sum_WBev\": 678.0}, {\"StichtagDatJahr\": \"2019-12-31T00:00:00\", \"RAUM_LANG\": \"Hottingen\", \"RAUM_CODE\": \"R00072\", \"sum_WBev\": 11388.0}, {\"StichtagDatJahr\": \"2019-12-31T00:00:00\", \"RAUM_LANG\": \"Fluntern\", \"RAUM_CODE\": \"R00071\", \"sum_WBev\": 8639.0}, {\"StichtagDatJahr\": \"2020-12-31T00:00:00\", \"RAUM_LANG\": \"Oberstrass\", \"RAUM_CODE\": \"R00063\", \"sum_WBev\": 10824.0}, {\"StichtagDatJahr\": \"2020-12-31T00:00:00\", \"RAUM_LANG\": \"Oerlikon\", \"RAUM_CODE\": \"R00115\", \"sum_WBev\": 23548.0}, {\"StichtagDatJahr\": \"2020-12-31T00:00:00\", \"RAUM_LANG\": \"Rathaus\", \"RAUM_CODE\": \"R00011\", \"sum_WBev\": 3317.0}, {\"StichtagDatJahr\": \"2020-12-31T00:00:00\", \"RAUM_LANG\": \"Saatlen\", \"RAUM_CODE\": \"R00121\", \"sum_WBev\": 8799.0}, {\"StichtagDatJahr\": \"2020-12-31T00:00:00\", \"RAUM_LANG\": \"Schwamendingen-Mitte\", \"RAUM_CODE\": \"R00122\", \"sum_WBev\": 11083.0}, {\"StichtagDatJahr\": \"2020-12-31T00:00:00\", \"RAUM_LANG\": \"Seebach\", \"RAUM_CODE\": \"R00119\", \"sum_WBev\": 26056.0}, {\"StichtagDatJahr\": \"2020-12-31T00:00:00\", \"RAUM_LANG\": \"Seefeld\", \"RAUM_CODE\": \"R00081\", \"sum_WBev\": 5480.0}, {\"StichtagDatJahr\": \"2020-12-31T00:00:00\", \"RAUM_LANG\": \"Weinegg\", \"RAUM_CODE\": \"R00083\", \"sum_WBev\": 5562.0}, {\"StichtagDatJahr\": \"2020-12-31T00:00:00\", \"RAUM_LANG\": \"Unterstrass\", \"RAUM_CODE\": \"R00061\", \"sum_WBev\": 24493.0}, {\"StichtagDatJahr\": \"2020-12-31T00:00:00\", \"RAUM_LANG\": \"Werd\", \"RAUM_CODE\": \"R00041\", \"sum_WBev\": 4570.0}, {\"StichtagDatJahr\": \"2020-12-31T00:00:00\", \"RAUM_LANG\": \"Wipkingen\", \"RAUM_CODE\": \"R00102\", \"sum_WBev\": 16605.0}, {\"StichtagDatJahr\": \"2020-12-31T00:00:00\", \"RAUM_LANG\": \"Witikon\", \"RAUM_CODE\": \"R00074\", \"sum_WBev\": 11244.0}, {\"StichtagDatJahr\": \"2020-12-31T00:00:00\", \"RAUM_LANG\": \"Wollishofen\", \"RAUM_CODE\": \"R00021\", \"sum_WBev\": 19757.0}, {\"StichtagDatJahr\": \"2020-12-31T00:00:00\", \"RAUM_LANG\": \"M\\u00fchlebach\", \"RAUM_CODE\": \"R00082\", \"sum_WBev\": 6414.0}, {\"StichtagDatJahr\": \"2020-12-31T00:00:00\", \"RAUM_LANG\": \"Sihlfeld\", \"RAUM_CODE\": \"R00034\", \"sum_WBev\": 21921.0}, {\"StichtagDatJahr\": \"2020-12-31T00:00:00\", \"RAUM_LANG\": \"Lindenhof\", \"RAUM_CODE\": \"R00013\", \"sum_WBev\": 1010.0}, {\"StichtagDatJahr\": \"2020-12-31T00:00:00\", \"RAUM_LANG\": \"Leimbach\", \"RAUM_CODE\": \"R00023\", \"sum_WBev\": 6140.0}, {\"StichtagDatJahr\": \"2020-12-31T00:00:00\", \"RAUM_LANG\": \"Affoltern\", \"RAUM_CODE\": \"R00111\", \"sum_WBev\": 26584.0}, {\"StichtagDatJahr\": \"2020-12-31T00:00:00\", \"RAUM_LANG\": \"Langstrasse\", \"RAUM_CODE\": \"R00042\", \"sum_WBev\": 11910.0}, {\"StichtagDatJahr\": \"2020-12-31T00:00:00\", \"RAUM_LANG\": \"Albisrieden\", \"RAUM_CODE\": \"R00091\", \"sum_WBev\": 22364.0}, {\"StichtagDatJahr\": \"2020-12-31T00:00:00\", \"RAUM_LANG\": \"Alt-Wiedikon\", \"RAUM_CODE\": \"R00031\", \"sum_WBev\": 17764.0}, {\"StichtagDatJahr\": \"2020-12-31T00:00:00\", \"RAUM_LANG\": \"Altstetten\", \"RAUM_CODE\": \"R00092\", \"sum_WBev\": 34098.0}, {\"StichtagDatJahr\": \"2020-12-31T00:00:00\", \"RAUM_LANG\": \"City\", \"RAUM_CODE\": \"R00014\", \"sum_WBev\": 829.0}, {\"StichtagDatJahr\": \"2020-12-31T00:00:00\", \"RAUM_LANG\": \"Escher Wyss\", \"RAUM_CODE\": \"R00052\", \"sum_WBev\": 6198.0}, {\"StichtagDatJahr\": \"2020-12-31T00:00:00\", \"RAUM_LANG\": \"Fluntern\", \"RAUM_CODE\": \"R00071\", \"sum_WBev\": 8685.0}, {\"StichtagDatJahr\": \"2020-12-31T00:00:00\", \"RAUM_LANG\": \"Enge\", \"RAUM_CODE\": \"R00024\", \"sum_WBev\": 9655.0}, {\"StichtagDatJahr\": \"2020-12-31T00:00:00\", \"RAUM_LANG\": \"Gewerbeschule\", \"RAUM_CODE\": \"R00051\", \"sum_WBev\": 9424.0}, {\"StichtagDatJahr\": \"2020-12-31T00:00:00\", \"RAUM_LANG\": \"Hard\", \"RAUM_CODE\": \"R00044\", \"sum_WBev\": 12554.0}, {\"StichtagDatJahr\": \"2020-12-31T00:00:00\", \"RAUM_LANG\": \"Hirslanden\", \"RAUM_CODE\": \"R00073\", \"sum_WBev\": 7396.0}, {\"StichtagDatJahr\": \"2020-12-31T00:00:00\", \"RAUM_LANG\": \"Hirzenbach\", \"RAUM_CODE\": \"R00123\", \"sum_WBev\": 12963.0}, {\"StichtagDatJahr\": \"2020-12-31T00:00:00\", \"RAUM_LANG\": \"Hochschulen\", \"RAUM_CODE\": \"R00012\", \"sum_WBev\": 675.0}, {\"StichtagDatJahr\": \"2020-12-31T00:00:00\", \"RAUM_LANG\": \"Hottingen\", \"RAUM_CODE\": \"R00072\", \"sum_WBev\": 11304.0}, {\"StichtagDatJahr\": \"2020-12-31T00:00:00\", \"RAUM_LANG\": \"H\\u00f6ngg\", \"RAUM_CODE\": \"R00101\", \"sum_WBev\": 24439.0}, {\"StichtagDatJahr\": \"2020-12-31T00:00:00\", \"RAUM_LANG\": \"Friesenberg\", \"RAUM_CODE\": \"R00033\", \"sum_WBev\": 11071.0}, {\"StichtagDatJahr\": \"2021-12-31T00:00:00\", \"RAUM_LANG\": \"Schwamendingen-Mitte\", \"RAUM_CODE\": \"R00122\", \"sum_WBev\": 10975.0}, {\"StichtagDatJahr\": \"2021-12-31T00:00:00\", \"RAUM_LANG\": \"M\\u00fchlebach\", \"RAUM_CODE\": \"R00082\", \"sum_WBev\": 6408.0}, {\"StichtagDatJahr\": \"2021-12-31T00:00:00\", \"RAUM_LANG\": \"Oberstrass\", \"RAUM_CODE\": \"R00063\", \"sum_WBev\": 10866.0}, {\"StichtagDatJahr\": \"2021-12-31T00:00:00\", \"RAUM_LANG\": \"Oerlikon\", \"RAUM_CODE\": \"R00115\", \"sum_WBev\": 23880.0}, {\"StichtagDatJahr\": \"2021-12-31T00:00:00\", \"RAUM_LANG\": \"Rathaus\", \"RAUM_CODE\": \"R00011\", \"sum_WBev\": 3275.0}, {\"StichtagDatJahr\": \"2021-12-31T00:00:00\", \"RAUM_LANG\": \"Saatlen\", \"RAUM_CODE\": \"R00121\", \"sum_WBev\": 8788.0}, {\"StichtagDatJahr\": \"2021-12-31T00:00:00\", \"RAUM_LANG\": \"Wollishofen\", \"RAUM_CODE\": \"R00021\", \"sum_WBev\": 19937.0}, {\"StichtagDatJahr\": \"2021-12-31T00:00:00\", \"RAUM_LANG\": \"Lindenhof\", \"RAUM_CODE\": \"R00013\", \"sum_WBev\": 1024.0}, {\"StichtagDatJahr\": \"2021-12-31T00:00:00\", \"RAUM_LANG\": \"Seefeld\", \"RAUM_CODE\": \"R00081\", \"sum_WBev\": 5862.0}, {\"StichtagDatJahr\": \"2021-12-31T00:00:00\", \"RAUM_LANG\": \"Sihlfeld\", \"RAUM_CODE\": \"R00034\", \"sum_WBev\": 21516.0}, {\"StichtagDatJahr\": \"2021-12-31T00:00:00\", \"RAUM_LANG\": \"Unterstrass\", \"RAUM_CODE\": \"R00061\", \"sum_WBev\": 24489.0}, {\"StichtagDatJahr\": \"2021-12-31T00:00:00\", \"RAUM_LANG\": \"Weinegg\", \"RAUM_CODE\": \"R00083\", \"sum_WBev\": 5548.0}, {\"StichtagDatJahr\": \"2021-12-31T00:00:00\", \"RAUM_LANG\": \"Werd\", \"RAUM_CODE\": \"R00041\", \"sum_WBev\": 4574.0}, {\"StichtagDatJahr\": \"2021-12-31T00:00:00\", \"RAUM_LANG\": \"Wipkingen\", \"RAUM_CODE\": \"R00102\", \"sum_WBev\": 16507.0}, {\"StichtagDatJahr\": \"2021-12-31T00:00:00\", \"RAUM_LANG\": \"Witikon\", \"RAUM_CODE\": \"R00074\", \"sum_WBev\": 11255.0}, {\"StichtagDatJahr\": \"2021-12-31T00:00:00\", \"RAUM_LANG\": \"Seebach\", \"RAUM_CODE\": \"R00119\", \"sum_WBev\": 26541.0}, {\"StichtagDatJahr\": \"2021-12-31T00:00:00\", \"RAUM_LANG\": \"Leimbach\", \"RAUM_CODE\": \"R00023\", \"sum_WBev\": 6338.0}, {\"StichtagDatJahr\": \"2021-12-31T00:00:00\", \"RAUM_LANG\": \"Friesenberg\", \"RAUM_CODE\": \"R00033\", \"sum_WBev\": 10957.0}, {\"StichtagDatJahr\": \"2021-12-31T00:00:00\", \"RAUM_LANG\": \"H\\u00f6ngg\", \"RAUM_CODE\": \"R00101\", \"sum_WBev\": 24510.0}, {\"StichtagDatJahr\": \"2021-12-31T00:00:00\", \"RAUM_LANG\": \"Affoltern\", \"RAUM_CODE\": \"R00111\", \"sum_WBev\": 26554.0}, {\"StichtagDatJahr\": \"2021-12-31T00:00:00\", \"RAUM_LANG\": \"Albisrieden\", \"RAUM_CODE\": \"R00091\", \"sum_WBev\": 22412.0}, {\"StichtagDatJahr\": \"2021-12-31T00:00:00\", \"RAUM_LANG\": \"Alt-Wiedikon\", \"RAUM_CODE\": \"R00031\", \"sum_WBev\": 17631.0}, {\"StichtagDatJahr\": \"2021-12-31T00:00:00\", \"RAUM_LANG\": \"Altstetten\", \"RAUM_CODE\": \"R00092\", \"sum_WBev\": 34665.0}, {\"StichtagDatJahr\": \"2021-12-31T00:00:00\", \"RAUM_LANG\": \"Langstrasse\", \"RAUM_CODE\": \"R00042\", \"sum_WBev\": 11815.0}, {\"StichtagDatJahr\": \"2021-12-31T00:00:00\", \"RAUM_LANG\": \"Enge\", \"RAUM_CODE\": \"R00024\", \"sum_WBev\": 9750.0}, {\"StichtagDatJahr\": \"2021-12-31T00:00:00\", \"RAUM_LANG\": \"Escher Wyss\", \"RAUM_CODE\": \"R00052\", \"sum_WBev\": 6221.0}, {\"StichtagDatJahr\": \"2021-12-31T00:00:00\", \"RAUM_LANG\": \"City\", \"RAUM_CODE\": \"R00014\", \"sum_WBev\": 817.0}, {\"StichtagDatJahr\": \"2021-12-31T00:00:00\", \"RAUM_LANG\": \"Gewerbeschule\", \"RAUM_CODE\": \"R00051\", \"sum_WBev\": 9583.0}, {\"StichtagDatJahr\": \"2021-12-31T00:00:00\", \"RAUM_LANG\": \"Hard\", \"RAUM_CODE\": \"R00044\", \"sum_WBev\": 12634.0}, {\"StichtagDatJahr\": \"2021-12-31T00:00:00\", \"RAUM_LANG\": \"Hirslanden\", \"RAUM_CODE\": \"R00073\", \"sum_WBev\": 7338.0}, {\"StichtagDatJahr\": \"2021-12-31T00:00:00\", \"RAUM_LANG\": \"Hirzenbach\", \"RAUM_CODE\": \"R00123\", \"sum_WBev\": 12891.0}, {\"StichtagDatJahr\": \"2021-12-31T00:00:00\", \"RAUM_LANG\": \"Hochschulen\", \"RAUM_CODE\": \"R00012\", \"sum_WBev\": 701.0}, {\"StichtagDatJahr\": \"2021-12-31T00:00:00\", \"RAUM_LANG\": \"Hottingen\", \"RAUM_CODE\": \"R00072\", \"sum_WBev\": 11293.0}, {\"StichtagDatJahr\": \"2021-12-31T00:00:00\", \"RAUM_LANG\": \"Fluntern\", \"RAUM_CODE\": \"R00071\", \"sum_WBev\": 8777.0}, {\"StichtagDatJahr\": \"2022-12-31T00:00:00\", \"RAUM_LANG\": \"Lindenhof\", \"RAUM_CODE\": \"R00013\", \"sum_WBev\": 1034.0}, {\"StichtagDatJahr\": \"2022-12-31T00:00:00\", \"RAUM_LANG\": \"M\\u00fchlebach\", \"RAUM_CODE\": \"R00082\", \"sum_WBev\": 6440.0}, {\"StichtagDatJahr\": \"2022-12-31T00:00:00\", \"RAUM_LANG\": \"Oberstrass\", \"RAUM_CODE\": \"R00063\", \"sum_WBev\": 10909.0}, {\"StichtagDatJahr\": \"2022-12-31T00:00:00\", \"RAUM_LANG\": \"Oerlikon\", \"RAUM_CODE\": \"R00115\", \"sum_WBev\": 24119.0}, {\"StichtagDatJahr\": \"2022-12-31T00:00:00\", \"RAUM_LANG\": \"Rathaus\", \"RAUM_CODE\": \"R00011\", \"sum_WBev\": 3330.0}, {\"StichtagDatJahr\": \"2022-12-31T00:00:00\", \"RAUM_LANG\": \"Saatlen\", \"RAUM_CODE\": \"R00121\", \"sum_WBev\": 8826.0}, {\"StichtagDatJahr\": \"2022-12-31T00:00:00\", \"RAUM_LANG\": \"Wipkingen\", \"RAUM_CODE\": \"R00102\", \"sum_WBev\": 16698.0}, {\"StichtagDatJahr\": \"2022-12-31T00:00:00\", \"RAUM_LANG\": \"Seebach\", \"RAUM_CODE\": \"R00119\", \"sum_WBev\": 26980.0}, {\"StichtagDatJahr\": \"2022-12-31T00:00:00\", \"RAUM_LANG\": \"Seefeld\", \"RAUM_CODE\": \"R00081\", \"sum_WBev\": 5815.0}, {\"StichtagDatJahr\": \"2022-12-31T00:00:00\", \"RAUM_LANG\": \"Sihlfeld\", \"RAUM_CODE\": \"R00034\", \"sum_WBev\": 21642.0}, {\"StichtagDatJahr\": \"2022-12-31T00:00:00\", \"RAUM_LANG\": \"Unterstrass\", \"RAUM_CODE\": \"R00061\", \"sum_WBev\": 24953.0}, {\"StichtagDatJahr\": \"2022-12-31T00:00:00\", \"RAUM_LANG\": \"Weinegg\", \"RAUM_CODE\": \"R00083\", \"sum_WBev\": 5559.0}, {\"StichtagDatJahr\": \"2022-12-31T00:00:00\", \"RAUM_LANG\": \"Werd\", \"RAUM_CODE\": \"R00041\", \"sum_WBev\": 4515.0}, {\"StichtagDatJahr\": \"2022-12-31T00:00:00\", \"RAUM_LANG\": \"Leimbach\", \"RAUM_CODE\": \"R00023\", \"sum_WBev\": 6462.0}, {\"StichtagDatJahr\": \"2022-12-31T00:00:00\", \"RAUM_LANG\": \"Schwamendingen-Mitte\", \"RAUM_CODE\": \"R00122\", \"sum_WBev\": 11207.0}, {\"StichtagDatJahr\": \"2022-12-31T00:00:00\", \"RAUM_LANG\": \"Langstrasse\", \"RAUM_CODE\": \"R00042\", \"sum_WBev\": 11977.0}, {\"StichtagDatJahr\": \"2022-12-31T00:00:00\", \"RAUM_LANG\": \"Friesenberg\", \"RAUM_CODE\": \"R00033\", \"sum_WBev\": 10861.0}, {\"StichtagDatJahr\": \"2022-12-31T00:00:00\", \"RAUM_LANG\": \"Hottingen\", \"RAUM_CODE\": \"R00072\", \"sum_WBev\": 11422.0}, {\"StichtagDatJahr\": \"2022-12-31T00:00:00\", \"RAUM_LANG\": \"Witikon\", \"RAUM_CODE\": \"R00074\", \"sum_WBev\": 11402.0}, {\"StichtagDatJahr\": \"2022-12-31T00:00:00\", \"RAUM_LANG\": \"Affoltern\", \"RAUM_CODE\": \"R00111\", \"sum_WBev\": 26935.0}, {\"StichtagDatJahr\": \"2022-12-31T00:00:00\", \"RAUM_LANG\": \"Albisrieden\", \"RAUM_CODE\": \"R00091\", \"sum_WBev\": 22875.0}, {\"StichtagDatJahr\": \"2022-12-31T00:00:00\", \"RAUM_LANG\": \"Alt-Wiedikon\", \"RAUM_CODE\": \"R00031\", \"sum_WBev\": 18079.0}, {\"StichtagDatJahr\": \"2022-12-31T00:00:00\", \"RAUM_LANG\": \"Altstetten\", \"RAUM_CODE\": \"R00092\", \"sum_WBev\": 35642.0}, {\"StichtagDatJahr\": \"2022-12-31T00:00:00\", \"RAUM_LANG\": \"City\", \"RAUM_CODE\": \"R00014\", \"sum_WBev\": 820.0}, {\"StichtagDatJahr\": \"2022-12-31T00:00:00\", \"RAUM_LANG\": \"H\\u00f6ngg\", \"RAUM_CODE\": \"R00101\", \"sum_WBev\": 24807.0}, {\"StichtagDatJahr\": \"2022-12-31T00:00:00\", \"RAUM_LANG\": \"Enge\", \"RAUM_CODE\": \"R00024\", \"sum_WBev\": 10017.0}, {\"StichtagDatJahr\": \"2022-12-31T00:00:00\", \"RAUM_LANG\": \"Fluntern\", \"RAUM_CODE\": \"R00071\", \"sum_WBev\": 8946.0}, {\"StichtagDatJahr\": \"2022-12-31T00:00:00\", \"RAUM_LANG\": \"Gewerbeschule\", \"RAUM_CODE\": \"R00051\", \"sum_WBev\": 9663.0}, {\"StichtagDatJahr\": \"2022-12-31T00:00:00\", \"RAUM_LANG\": \"Hard\", \"RAUM_CODE\": \"R00044\", \"sum_WBev\": 13180.0}, {\"StichtagDatJahr\": \"2022-12-31T00:00:00\", \"RAUM_LANG\": \"Hirslanden\", \"RAUM_CODE\": \"R00073\", \"sum_WBev\": 7531.0}, {\"StichtagDatJahr\": \"2022-12-31T00:00:00\", \"RAUM_LANG\": \"Hirzenbach\", \"RAUM_CODE\": \"R00123\", \"sum_WBev\": 12920.0}, {\"StichtagDatJahr\": \"2022-12-31T00:00:00\", \"RAUM_LANG\": \"Hochschulen\", \"RAUM_CODE\": \"R00012\", \"sum_WBev\": 676.0}, {\"StichtagDatJahr\": \"2022-12-31T00:00:00\", \"RAUM_LANG\": \"Escher Wyss\", \"RAUM_CODE\": \"R00052\", \"sum_WBev\": 6225.0}, {\"StichtagDatJahr\": \"2022-12-31T00:00:00\", \"RAUM_LANG\": \"Wollishofen\", \"RAUM_CODE\": \"R00021\", \"sum_WBev\": 20570.0}]}}, {\"mode\": \"vega-lite\"});\n",
       "</script>"
      ],
      "text/plain": [
       "alt.LayerChart(...)"
      ]
     },
     "execution_count": 50,
     "metadata": {},
     "output_type": "execute_result"
    }
   ],
   "source": [
    "grafic_name = package_name+\"_alt2_raum_zeit\"+date_today+\".png\"\n",
    "print('grafiken_testing/'+grafic_name)\n",
    "\n",
    "grafik2.save('grafiken_testing/'+grafic_name)"
   ]
  },
  {
   "cell_type": "markdown",
   "metadata": {
    "tags": []
   },
   "source": [
    "#### Entwicklung Wohnbevölkerung nach Zivilstand "
   ]
  },
  {
   "cell_type": "code",
   "execution_count": null,
   "metadata": {},
   "outputs": [
    {
     "data": {
      "text/html": [
       "<div>\n",
       "<style scoped>\n",
       "    .dataframe tbody tr th:only-of-type {\n",
       "        vertical-align: middle;\n",
       "    }\n",
       "\n",
       "    .dataframe tbody tr th {\n",
       "        vertical-align: top;\n",
       "    }\n",
       "\n",
       "    .dataframe thead th {\n",
       "        text-align: right;\n",
       "    }\n",
       "</style>\n",
       "<table border=\"1\" class=\"dataframe\">\n",
       "  <thead>\n",
       "    <tr style=\"text-align: right;\">\n",
       "      <th></th>\n",
       "      <th>StichtagDatJahr</th>\n",
       "      <th>ZIV_LANG</th>\n",
       "      <th>ZIV_CODE</th>\n",
       "      <th>sum_WBev</th>\n",
       "    </tr>\n",
       "  </thead>\n",
       "  <tbody>\n",
       "    <tr>\n",
       "      <th>0</th>\n",
       "      <td>1993-12-31</td>\n",
       "      <td>Geschieden</td>\n",
       "      <td>ZIV0005</td>\n",
       "      <td>26975</td>\n",
       "    </tr>\n",
       "    <tr>\n",
       "      <th>1</th>\n",
       "      <td>1993-12-31</td>\n",
       "      <td>Ledig</td>\n",
       "      <td>ZIV0001</td>\n",
       "      <td>155209</td>\n",
       "    </tr>\n",
       "    <tr>\n",
       "      <th>2</th>\n",
       "      <td>1993-12-31</td>\n",
       "      <td>Verheiratet</td>\n",
       "      <td>ZIV0003</td>\n",
       "      <td>151993</td>\n",
       "    </tr>\n",
       "    <tr>\n",
       "      <th>3</th>\n",
       "      <td>1993-12-31</td>\n",
       "      <td>Verwitwet</td>\n",
       "      <td>ZIV0004</td>\n",
       "      <td>26721</td>\n",
       "    </tr>\n",
       "    <tr>\n",
       "      <th>4</th>\n",
       "      <td>1994-12-31</td>\n",
       "      <td>Geschieden</td>\n",
       "      <td>ZIV0005</td>\n",
       "      <td>27240</td>\n",
       "    </tr>\n",
       "  </tbody>\n",
       "</table>\n",
       "</div>"
      ],
      "text/plain": [
       "  StichtagDatJahr     ZIV_LANG ZIV_CODE  sum_WBev\n",
       "0      1993-12-31   Geschieden  ZIV0005     26975\n",
       "1      1993-12-31        Ledig  ZIV0001    155209\n",
       "2      1993-12-31  Verheiratet  ZIV0003    151993\n",
       "3      1993-12-31    Verwitwet  ZIV0004     26721\n",
       "4      1994-12-31   Geschieden  ZIV0005     27240"
      ]
     },
     "execution_count": 51,
     "metadata": {},
     "output_type": "execute_result"
    }
   ],
   "source": [
    "myAgg3 = data2betested.loc[data_min_date:data_max_date]\\\n",
    "    .groupby(['StichtagDatJahr', 'ZIV_LANG', 'ZIV_CODE']) \\\n",
    "    .agg(sum_WBev=('BEW', 'sum')) \\\n",
    "    .sort_values('StichtagDatJahr', ascending=True) \n",
    "\n",
    "myAgg3.reset_index().head(5)\n"
   ]
  },
  {
   "cell_type": "code",
   "execution_count": null,
   "metadata": {},
   "outputs": [
    {
     "data": {
      "text/plain": [
       "Index(['ZEIT_LANG', 'ZEIT_CODE', 'RAUM_LANG', 'RAUM_CODE', 'ALT_LANG', 'ALT_CODE', 'SEX_LANG',\n",
       "       'SEX_CODE', 'ZIV_LANG', 'ZIV_CODE', 'BEW', 'KREISEZH_LANG', 'KREISEZH_CODE',\n",
       "       'StichtagDatJahr_str', 'Jahr', 'RAUM_my_sort'],\n",
       "      dtype='object')"
      ]
     },
     "execution_count": 52,
     "metadata": {},
     "output_type": "execute_result"
    }
   ],
   "source": [
    "data2betested.columns"
   ]
  },
  {
   "cell_type": "code",
   "execution_count": null,
   "metadata": {},
   "outputs": [],
   "source": [
    "grafik3 = mypy_dv.plot_altair_multiline_highlight(\n",
    "    data = myAgg3.reset_index().query('RAUM_my_sort < 100')\n",
    "    ,x = 'StichtagDatJahr:T'\n",
    "    ,x_beschriftung = 'Jahr'\n",
    "    ,y = 'sum_WBev:Q'\n",
    "    ,y_beschriftung = 'Anz. Personen'\n",
    "    ,category = \"ZIV_LANG:N\"\n",
    "    ,category_beschriftung= 'Zivilstand:'\n",
    "    ,warning_status = \"ignore\" #always or ignore\n",
    "    ,myTitle=\"Entwicklung Wohnbevölkerung nach Zivilstand, seit \"+str(data2betested.index.year.min())\n",
    ")\n",
    "grafik3"
   ]
  },
  {
   "cell_type": "code",
   "execution_count": null,
   "metadata": {},
   "outputs": [],
   "source": [
    "grafic_name = package_name+\"_alt3_ziv_zeit\"+date_today+\".png\"\n",
    "print('grafiken_testing/'+grafic_name)\n",
    "\n",
    "grafik3.save('grafiken_testing/'+grafic_name)"
   ]
  },
  {
   "cell_type": "markdown",
   "metadata": {},
   "source": [
    "#### Entwicklung der Wohnbevölkerung nach Geschlecht"
   ]
  },
  {
   "cell_type": "code",
   "execution_count": null,
   "metadata": {},
   "outputs": [
    {
     "data": {
      "text/html": [
       "<div>\n",
       "<style scoped>\n",
       "    .dataframe tbody tr th:only-of-type {\n",
       "        vertical-align: middle;\n",
       "    }\n",
       "\n",
       "    .dataframe tbody tr th {\n",
       "        vertical-align: top;\n",
       "    }\n",
       "\n",
       "    .dataframe thead th {\n",
       "        text-align: right;\n",
       "    }\n",
       "</style>\n",
       "<table border=\"1\" class=\"dataframe\">\n",
       "  <thead>\n",
       "    <tr style=\"text-align: right;\">\n",
       "      <th></th>\n",
       "      <th>StichtagDatJahr</th>\n",
       "      <th>SEX_LANG</th>\n",
       "      <th>SEX_CODE</th>\n",
       "      <th>sum_WBev</th>\n",
       "    </tr>\n",
       "  </thead>\n",
       "  <tbody>\n",
       "    <tr>\n",
       "      <th>0</th>\n",
       "      <td>1993-12-31</td>\n",
       "      <td>männlich</td>\n",
       "      <td>SEX0001</td>\n",
       "      <td>172002</td>\n",
       "    </tr>\n",
       "    <tr>\n",
       "      <th>1</th>\n",
       "      <td>1993-12-31</td>\n",
       "      <td>weiblich</td>\n",
       "      <td>SEX0002</td>\n",
       "      <td>188896</td>\n",
       "    </tr>\n",
       "    <tr>\n",
       "      <th>2</th>\n",
       "      <td>1994-12-31</td>\n",
       "      <td>männlich</td>\n",
       "      <td>SEX0001</td>\n",
       "      <td>172309</td>\n",
       "    </tr>\n",
       "    <tr>\n",
       "      <th>3</th>\n",
       "      <td>1994-12-31</td>\n",
       "      <td>weiblich</td>\n",
       "      <td>SEX0002</td>\n",
       "      <td>188539</td>\n",
       "    </tr>\n",
       "    <tr>\n",
       "      <th>4</th>\n",
       "      <td>1995-12-31</td>\n",
       "      <td>männlich</td>\n",
       "      <td>SEX0001</td>\n",
       "      <td>172441</td>\n",
       "    </tr>\n",
       "  </tbody>\n",
       "</table>\n",
       "</div>"
      ],
      "text/plain": [
       "  StichtagDatJahr  SEX_LANG SEX_CODE  sum_WBev\n",
       "0      1993-12-31  männlich  SEX0001    172002\n",
       "1      1993-12-31  weiblich  SEX0002    188896\n",
       "2      1994-12-31  männlich  SEX0001    172309\n",
       "3      1994-12-31  weiblich  SEX0002    188539\n",
       "4      1995-12-31  männlich  SEX0001    172441"
      ]
     },
     "execution_count": 54,
     "metadata": {},
     "output_type": "execute_result"
    }
   ],
   "source": [
    "myAgg4 = data2betested.loc[data_min_date:data_max_date]\\\n",
    "    .groupby(['StichtagDatJahr', 'SEX_LANG','SEX_CODE', ]) \\\n",
    "    .agg(sum_WBev=('BEW', 'sum')) \\\n",
    "    .sort_values('StichtagDatJahr', ascending=True) \n",
    "\n",
    "myAgg4.reset_index().head(5)\n"
   ]
  },
  {
   "cell_type": "code",
   "execution_count": null,
   "metadata": {},
   "outputs": [],
   "source": [
    "grafik4 = mypy_dv.plot_altair_multiline_highlight(\n",
    "    data = myAgg4.reset_index().query('RAUM_my_sort < 100')\n",
    "    ,x = 'StichtagDatJahr:T'\n",
    "    ,x_beschriftung = 'Jahr'\n",
    "    ,y = 'sum_WBev:Q'\n",
    "    ,y_beschriftung = 'Anz. Personen'\n",
    "    ,category = \"SEX_LANG:N\"\n",
    "    ,category_beschriftung= 'Geschlecht:'\n",
    "    ,warning_status = \"ignore\" #always or ignore\n",
    "    ,myTitle=\"Entwicklung Wohnbevölkerung nach Geschlecht, seit \"+str(data2betested.index.year.min())\n",
    ")\n",
    "grafik4"
   ]
  },
  {
   "cell_type": "code",
   "execution_count": null,
   "metadata": {},
   "outputs": [],
   "source": [
    "grafic_name = package_name+\"_alt4_geschl_zeit\"+date_today+\".png\"\n",
    "print('grafiken_testing/'+grafic_name)\n",
    "\n",
    "grafik4.save('grafiken_testing/'+grafic_name)"
   ]
  },
  {
   "cell_type": "markdown",
   "metadata": {},
   "source": [
    "#### Entwicklung der Wohnbevölkerung nach Alter"
   ]
  },
  {
   "cell_type": "code",
   "execution_count": null,
   "metadata": {},
   "outputs": [
    {
     "data": {
      "text/html": [
       "<div>\n",
       "<style scoped>\n",
       "    .dataframe tbody tr th:only-of-type {\n",
       "        vertical-align: middle;\n",
       "    }\n",
       "\n",
       "    .dataframe tbody tr th {\n",
       "        vertical-align: top;\n",
       "    }\n",
       "\n",
       "    .dataframe thead th {\n",
       "        text-align: right;\n",
       "    }\n",
       "</style>\n",
       "<table border=\"1\" class=\"dataframe\">\n",
       "  <thead>\n",
       "    <tr style=\"text-align: right;\">\n",
       "      <th></th>\n",
       "      <th>StichtagDatJahr</th>\n",
       "      <th>ALT_LANG</th>\n",
       "      <th>ALT_CODE</th>\n",
       "      <th>sum_WBev</th>\n",
       "    </tr>\n",
       "  </thead>\n",
       "  <tbody>\n",
       "    <tr>\n",
       "      <th>0</th>\n",
       "      <td>1993-12-31</td>\n",
       "      <td>0 Jahre alt</td>\n",
       "      <td>ALT0000</td>\n",
       "      <td>3291</td>\n",
       "    </tr>\n",
       "    <tr>\n",
       "      <th>1</th>\n",
       "      <td>1993-12-31</td>\n",
       "      <td>73 Jahre alt</td>\n",
       "      <td>ALT0073</td>\n",
       "      <td>3410</td>\n",
       "    </tr>\n",
       "    <tr>\n",
       "      <th>2</th>\n",
       "      <td>1993-12-31</td>\n",
       "      <td>72 Jahre alt</td>\n",
       "      <td>ALT0072</td>\n",
       "      <td>3417</td>\n",
       "    </tr>\n",
       "    <tr>\n",
       "      <th>3</th>\n",
       "      <td>1993-12-31</td>\n",
       "      <td>71 Jahre alt</td>\n",
       "      <td>ALT0071</td>\n",
       "      <td>3484</td>\n",
       "    </tr>\n",
       "    <tr>\n",
       "      <th>4</th>\n",
       "      <td>1993-12-31</td>\n",
       "      <td>70 Jahre alt</td>\n",
       "      <td>ALT0070</td>\n",
       "      <td>3575</td>\n",
       "    </tr>\n",
       "  </tbody>\n",
       "</table>\n",
       "</div>"
      ],
      "text/plain": [
       "  StichtagDatJahr      ALT_LANG ALT_CODE  sum_WBev\n",
       "0      1993-12-31   0 Jahre alt  ALT0000      3291\n",
       "1      1993-12-31  73 Jahre alt  ALT0073      3410\n",
       "2      1993-12-31  72 Jahre alt  ALT0072      3417\n",
       "3      1993-12-31  71 Jahre alt  ALT0071      3484\n",
       "4      1993-12-31  70 Jahre alt  ALT0070      3575"
      ]
     },
     "execution_count": 57,
     "metadata": {},
     "output_type": "execute_result"
    }
   ],
   "source": [
    "#myAgg = data2betested.loc[\"2008-11-30\":\"2021-10-31\"]\n",
    "myAgg5 = data2betested.loc[data_min_date:data_max_date]\\\n",
    "    .groupby(['StichtagDatJahr', 'ALT_LANG', 'ALT_CODE']) \\\n",
    "    .agg(sum_WBev=('BEW', 'sum')) \\\n",
    "    .sort_values('StichtagDatJahr', ascending=True) \n",
    "\n",
    "myAgg5.reset_index().head(5)\n"
   ]
  },
  {
   "cell_type": "code",
   "execution_count": null,
   "metadata": {},
   "outputs": [],
   "source": [
    "grafik5 = mypy_dv.plot_altair_multiline_highlight(\n",
    "    data = myAgg4.reset_index()\n",
    "    ,x = 'StichtagDatJahr:T'\n",
    "    ,x_beschriftung = 'Jahr'\n",
    "    ,y = 'sum_WBev:Q'\n",
    "    ,y_beschriftung = 'Anz. Personen'\n",
    "    ,category = \"ALT_LANG:N\"\n",
    "    ,category_beschriftung= 'Alter:'\n",
    "    ,warning_status = \"ignore\" #always or ignore\n",
    "    ,myTitle=\"Entwicklung Wohnbevölkerung nach Alter, seit \"+str(data2betested.index.year.min())\n",
    ")\n",
    "grafik5"
   ]
  },
  {
   "cell_type": "code",
   "execution_count": null,
   "metadata": {},
   "outputs": [],
   "source": [
    "grafic_name = package_name+\"_alt4_alter_zeit\"+date_today+\".png\"\n",
    "print('grafiken_testing/'+grafic_name)\n",
    "\n",
    "grafik5.save('grafiken_testing/'+grafic_name)"
   ]
  },
  {
   "cell_type": "markdown",
   "metadata": {
    "tags": []
   },
   "source": [
    "#### Barcharts mit Seaborn"
   ]
  },
  {
   "cell_type": "code",
   "execution_count": null,
   "metadata": {},
   "outputs": [],
   "source": [
    "#myAgg = data2betested.loc[\"2008-11-30\":\"2021-10-31\"]\n",
    "myAggBar = data2betested.loc[\"2018\":data_max_date]\\\n",
    "    .groupby(['StichtagDatJahr','Jahr', 'RAUM_LANG', 'RAUM_CODE']) \\\n",
    "    .agg(sum_WBev=('BEW', 'sum')) \\\n",
    "    .sort_values('StichtagDatJahr', ascending=True) \n",
    "\n",
    "myAggBar.reset_index().head(3)"
   ]
  },
  {
   "cell_type": "code",
   "execution_count": null,
   "metadata": {},
   "outputs": [],
   "source": [
    "#help(sns.catplot)     "
   ]
  },
  {
   "cell_type": "code",
   "execution_count": null,
   "metadata": {},
   "outputs": [],
   "source": [
    "#Stile for the following sns graphs\n",
    "sns.set_theme(style=\"whitegrid\")"
   ]
  },
  {
   "cell_type": "code",
   "execution_count": null,
   "metadata": {},
   "outputs": [
    {
     "data": {
      "text/plain": [
       "<seaborn.axisgrid.FacetGrid at 0x18582e83b50>"
      ]
     },
     "execution_count": 63,
     "metadata": {},
     "output_type": "execute_result"
    },
    {
     "data": {
      "image/png": "[encoded data removed]",
      "text/plain": [
       "<Figure size 1214.25x500 with 1 Axes>"
      ]
     },
     "metadata": {},
     "output_type": "display_data"
    }
   ],
   "source": [
    "#sns.color_palette(\"flare\", as_cmap=True)\n",
    "myHist = sns.catplot(x=\"Jahr\"\n",
    "            , y=\"sum_WBev\"\n",
    "            , hue=\"RAUM_LANG\"\n",
    "            , kind=\"bar\" #boxen, violin, --> wenn die aggregation nicht genau den werten in der grafik entspricht\n",
    "            , palette=\"pastel\" #, color=\"green\"\n",
    "            , height=5\n",
    "            , aspect=2\n",
    "            , order=None, legend_out=True\n",
    "            ,data=myAggBar.reset_index().sort_values(\"RAUM_CODE\", ascending=True)\n",
    "           )\n",
    "myHist.set_xlabels('Quartiere', fontsize=11) # not set_label\n",
    "myHist.set_ylabels('Anz. Pers.', fontsize=11)\n"
   ]
  },
  {
   "cell_type": "markdown",
   "metadata": {},
   "source": [
    "#### Facet Grids"
   ]
  },
  {
   "cell_type": "markdown",
   "metadata": {},
   "source": [
    "##### Wohnbevölkerung nach Stadtquartier"
   ]
  },
  {
   "cell_type": "code",
   "execution_count": null,
   "metadata": {},
   "outputs": [
    {
     "data": {
      "text/html": [
       "<div>\n",
       "<style scoped>\n",
       "    .dataframe tbody tr th:only-of-type {\n",
       "        vertical-align: middle;\n",
       "    }\n",
       "\n",
       "    .dataframe tbody tr th {\n",
       "        vertical-align: top;\n",
       "    }\n",
       "\n",
       "    .dataframe thead th {\n",
       "        text-align: right;\n",
       "    }\n",
       "</style>\n",
       "<table border=\"1\" class=\"dataframe\">\n",
       "  <thead>\n",
       "    <tr style=\"text-align: right;\">\n",
       "      <th></th>\n",
       "      <th></th>\n",
       "      <th></th>\n",
       "      <th></th>\n",
       "      <th></th>\n",
       "      <th>sum_WBev</th>\n",
       "    </tr>\n",
       "    <tr>\n",
       "      <th>Jahr</th>\n",
       "      <th>StichtagDatJahr_str</th>\n",
       "      <th>RAUM_LANG</th>\n",
       "      <th>RAUM_CODE</th>\n",
       "      <th>RAUM_my_sort</th>\n",
       "      <th></th>\n",
       "    </tr>\n",
       "  </thead>\n",
       "  <tbody>\n",
       "    <tr>\n",
       "      <th>1993</th>\n",
       "      <th>1993-12-31</th>\n",
       "      <th>Rathaus</th>\n",
       "      <th>R00011</th>\n",
       "      <th>11</th>\n",
       "      <td>3133</td>\n",
       "    </tr>\n",
       "    <tr>\n",
       "      <th>2010</th>\n",
       "      <th>2010-12-31</th>\n",
       "      <th>Rathaus</th>\n",
       "      <th>R00011</th>\n",
       "      <th>11</th>\n",
       "      <td>3099</td>\n",
       "    </tr>\n",
       "    <tr>\n",
       "      <th>2018</th>\n",
       "      <th>2018-12-31</th>\n",
       "      <th>Rathaus</th>\n",
       "      <th>R00011</th>\n",
       "      <th>11</th>\n",
       "      <td>3267</td>\n",
       "    </tr>\n",
       "    <tr>\n",
       "      <th>2002</th>\n",
       "      <th>2002-12-31</th>\n",
       "      <th>Rathaus</th>\n",
       "      <th>R00011</th>\n",
       "      <th>11</th>\n",
       "      <td>3128</td>\n",
       "    </tr>\n",
       "    <tr>\n",
       "      <th>1999</th>\n",
       "      <th>1999-12-31</th>\n",
       "      <th>Rathaus</th>\n",
       "      <th>R00011</th>\n",
       "      <th>11</th>\n",
       "      <td>3104</td>\n",
       "    </tr>\n",
       "    <tr>\n",
       "      <th>...</th>\n",
       "      <th>...</th>\n",
       "      <th>...</th>\n",
       "      <th>...</th>\n",
       "      <th>...</th>\n",
       "      <td>...</td>\n",
       "    </tr>\n",
       "    <tr>\n",
       "      <th>1995</th>\n",
       "      <th>1995-12-31</th>\n",
       "      <th>Hirzenbach</th>\n",
       "      <th>R00123</th>\n",
       "      <th>123</th>\n",
       "      <td>10995</td>\n",
       "    </tr>\n",
       "    <tr>\n",
       "      <th>2009</th>\n",
       "      <th>2009-12-31</th>\n",
       "      <th>Hirzenbach</th>\n",
       "      <th>R00123</th>\n",
       "      <th>123</th>\n",
       "      <td>11610</td>\n",
       "    </tr>\n",
       "    <tr>\n",
       "      <th>2002</th>\n",
       "      <th>2002-12-31</th>\n",
       "      <th>Hirzenbach</th>\n",
       "      <th>R00123</th>\n",
       "      <th>123</th>\n",
       "      <td>11434</td>\n",
       "    </tr>\n",
       "    <tr>\n",
       "      <th>2005</th>\n",
       "      <th>2005-12-31</th>\n",
       "      <th>Hirzenbach</th>\n",
       "      <th>R00123</th>\n",
       "      <th>123</th>\n",
       "      <td>11265</td>\n",
       "    </tr>\n",
       "    <tr>\n",
       "      <th>1994</th>\n",
       "      <th>1994-12-31</th>\n",
       "      <th>Hirzenbach</th>\n",
       "      <th>R00123</th>\n",
       "      <th>123</th>\n",
       "      <td>10895</td>\n",
       "    </tr>\n",
       "  </tbody>\n",
       "</table>\n",
       "<p>1020 rows × 1 columns</p>\n",
       "</div>"
      ],
      "text/plain": [
       "                                                            sum_WBev\n",
       "Jahr StichtagDatJahr_str RAUM_LANG  RAUM_CODE RAUM_my_sort          \n",
       "1993 1993-12-31          Rathaus    R00011    11                3133\n",
       "2010 2010-12-31          Rathaus    R00011    11                3099\n",
       "2018 2018-12-31          Rathaus    R00011    11                3267\n",
       "2002 2002-12-31          Rathaus    R00011    11                3128\n",
       "1999 1999-12-31          Rathaus    R00011    11                3104\n",
       "...                                                              ...\n",
       "1995 1995-12-31          Hirzenbach R00123    123              10995\n",
       "2009 2009-12-31          Hirzenbach R00123    123              11610\n",
       "2002 2002-12-31          Hirzenbach R00123    123              11434\n",
       "2005 2005-12-31          Hirzenbach R00123    123              11265\n",
       "1994 1994-12-31          Hirzenbach R00123    123              10895\n",
       "\n",
       "[1020 rows x 1 columns]"
      ]
     },
     "execution_count": 64,
     "metadata": {},
     "output_type": "execute_result"
    }
   ],
   "source": [
    "myFG = data2betested.loc[data_min_date:data_max_date]\\\n",
    "    .groupby(['Jahr','StichtagDatJahr_str', 'RAUM_LANG', 'RAUM_CODE', 'RAUM_my_sort']) \\\n",
    "    .agg(sum_WBev=('BEW', 'sum')) \\\n",
    "    .sort_values('RAUM_my_sort', ascending=True) \n",
    "\n",
    "myFG"
   ]
  },
  {
   "cell_type": "code",
   "execution_count": null,
   "metadata": {},
   "outputs": [],
   "source": [
    "faced_grid1 = mypy_dv.plot_sns_facetgrid(\n",
    "    data = myFG.reset_index()\n",
    "    ,col = \"RAUM_LANG\"\n",
    "    ,hue = \"RAUM_LANG\"\n",
    "    ,col_wrap = 6\n",
    "    ,height = 3\n",
    "    ,grafiktyp = sns.lineplot\n",
    "    ,x = \"StichtagDatJahr\"\n",
    "    ,xlabel = ''\n",
    "    ,y = \"sum_WBev\"\n",
    "    ,ylabel= \"Anzahl Personen\"\n",
    "    ,warning_status =\"ignore\"\n",
    "    ,myTitle=\"Bevölkerungsentwicklung pro Statistischem Quartier, seit \"+str(data2betested.index.year.min())\n",
    ")\n",
    "faced_grid1"
   ]
  },
  {
   "cell_type": "code",
   "execution_count": null,
   "metadata": {},
   "outputs": [
    {
     "name": "stdout",
     "output_type": "stream",
     "text": [
      "grafiken_testing/BEV324OD3241_fg_statZone_zeit__2024-05-28.png\n"
     ]
    }
   ],
   "source": [
    "grafic_name = package_name+\"_fg_statQuart_zeit_\"+date_today+\".png\"\n",
    "\n",
    "print('grafiken_testing/'+grafic_name)\n",
    "\n",
    "\n",
    "faced_grid1.savefig('grafiken_testing/'+grafic_name)"
   ]
  },
  {
   "cell_type": "markdown",
   "metadata": {},
   "source": [
    "##### Wohnbevölkerung nach Alter und Zivilstand\n",
    "\n",
    "**Hinweis**: Eine Gruppierung in Altersgruppen (z.B. wie bisher AlterV10 Zehnjahresgruppen) wäre hier sinnvoll. Da es keine numerischen Codes gibt, ist eine eigene Altersgruppe zu erstellen etwas mühsam..."
   ]
  },
  {
   "cell_type": "code",
   "execution_count": null,
   "metadata": {},
   "outputs": [
    {
     "data": {
      "text/html": [
       "<div>\n",
       "<style scoped>\n",
       "    .dataframe tbody tr th:only-of-type {\n",
       "        vertical-align: middle;\n",
       "    }\n",
       "\n",
       "    .dataframe tbody tr th {\n",
       "        vertical-align: top;\n",
       "    }\n",
       "\n",
       "    .dataframe thead th {\n",
       "        text-align: right;\n",
       "    }\n",
       "</style>\n",
       "<table border=\"1\" class=\"dataframe\">\n",
       "  <thead>\n",
       "    <tr style=\"text-align: right;\">\n",
       "      <th></th>\n",
       "      <th></th>\n",
       "      <th></th>\n",
       "      <th></th>\n",
       "      <th></th>\n",
       "      <th></th>\n",
       "      <th>sum_WBev</th>\n",
       "    </tr>\n",
       "    <tr>\n",
       "      <th>Jahr</th>\n",
       "      <th>StichtagDatJahr</th>\n",
       "      <th>ALT_LANG</th>\n",
       "      <th>ALT_CODE</th>\n",
       "      <th>ZIV_LANG</th>\n",
       "      <th>ZIV_CODE</th>\n",
       "      <th></th>\n",
       "    </tr>\n",
       "  </thead>\n",
       "  <tbody>\n",
       "    <tr>\n",
       "      <th>1993</th>\n",
       "      <th>1993-12-31</th>\n",
       "      <th>0 Jahre alt</th>\n",
       "      <th>ALT0000</th>\n",
       "      <th>Ledig</th>\n",
       "      <th>ZIV0001</th>\n",
       "      <td>3291</td>\n",
       "    </tr>\n",
       "    <tr>\n",
       "      <th>2001</th>\n",
       "      <th>2001-12-31</th>\n",
       "      <th>0 Jahre alt</th>\n",
       "      <th>ALT0000</th>\n",
       "      <th>Ledig</th>\n",
       "      <th>ZIV0001</th>\n",
       "      <td>3300</td>\n",
       "    </tr>\n",
       "  </tbody>\n",
       "</table>\n",
       "</div>"
      ],
      "text/plain": [
       "                                                             sum_WBev\n",
       "Jahr StichtagDatJahr ALT_LANG    ALT_CODE ZIV_LANG ZIV_CODE          \n",
       "1993 1993-12-31      0 Jahre alt ALT0000  Ledig    ZIV0001       3291\n",
       "2001 2001-12-31      0 Jahre alt ALT0000  Ledig    ZIV0001       3300"
      ]
     },
     "execution_count": 66,
     "metadata": {},
     "output_type": "execute_result"
    }
   ],
   "source": [
    "myFG2 = data2betested.loc[data_min_date:data_max_date]\\\n",
    "    .groupby(['Jahr','StichtagDatJahr', 'ALT_LANG', 'ALT_CODE', 'ZIV_LANG', 'ZIV_CODE']) \\\n",
    "    .agg(sum_WBev=('BEW', 'sum')) \\\n",
    "    .sort_values('ALT_CODE', ascending=True) \n",
    "\n",
    "myFG2.head(2)"
   ]
  },
  {
   "cell_type": "code",
   "execution_count": null,
   "metadata": {},
   "outputs": [],
   "source": [
    "faced_grid2 = mypy_dv.plot_sns_facetgrid(\n",
    "    data = myFG2.reset_index().sort_values('ALT_CODE', ascending=True)\n",
    "    ,col = \"ALT_LANG\"\n",
    "    ,hue = \"ZIV_LANG\"\n",
    "    ,col_wrap = 6\n",
    "    ,height = 3\n",
    "    ,grafiktyp = sns.lineplot\n",
    "    ,x = \"StichtagDatJahr\"\n",
    "    ,xlabel = ''\n",
    "    ,y = \"sum_WBev\"\n",
    "    ,ylabel= \"Anzahl Personen\"\n",
    "    ,warning_status =\"ignore\"\n",
    "    ,myTitle=\"Bevölkerungsentwicklung pro Statistischem Quartier, seit \"+str(data2betested.index.year.min())\n",
    ")\n",
    "faced_grid2"
   ]
  },
  {
   "cell_type": "code",
   "execution_count": null,
   "metadata": {},
   "outputs": [
    {
     "name": "stdout",
     "output_type": "stream",
     "text": [
      "grafiken_testing/BEV324OD3241_fg_statZone_zeit__2024-05-28.png\n"
     ]
    }
   ],
   "source": [
    "grafic_name = package_name+\"_fg_alter_ziv_zeit_\"+date_today+\".png\"\n",
    "\n",
    "print('grafiken_testing/'+grafic_name)\n",
    "\n",
    "\n",
    "faced_grid2.savefig('grafiken_testing/'+grafic_name)"
   ]
  },
  {
   "cell_type": "markdown",
   "metadata": {},
   "source": [
    "### Daten in interaktiver Treemap zeigen"
   ]
  },
  {
   "cell_type": "code",
   "execution_count": null,
   "metadata": {},
   "outputs": [
    {
     "data": {
      "text/plain": [
       "Index(['ZEIT_LANG', 'ZEIT_CODE', 'RAUM_LANG', 'RAUM_CODE', 'ALT_LANG', 'ALT_CODE', 'SEX_LANG',\n",
       "       'SEX_CODE', 'ZIV_LANG', 'ZIV_CODE', 'BEW', 'KREISEZH_LANG', 'KREISEZH_CODE',\n",
       "       'StichtagDatJahr_str', 'Jahr', 'RAUM_my_sort'],\n",
       "      dtype='object')"
      ]
     },
     "execution_count": 68,
     "metadata": {},
     "output_type": "execute_result"
    }
   ],
   "source": [
    "data2betested.columns"
   ]
  },
  {
   "cell_type": "code",
   "execution_count": null,
   "metadata": {},
   "outputs": [],
   "source": [
    "myTM = data2betested.loc['2020':data_max_date]  \\\n",
    "    .groupby(['StichtagDatJahr', 'SEX_LANG','SEX_CODE', 'ZIV_LANG', 'ZIV_CODE']) \\\n",
    "    .agg(sum_WBev=('BEW', 'sum')) \\\n",
    "    .sort_values('sum_WBev', ascending=True) "
   ]
  },
  {
   "cell_type": "code",
   "execution_count": null,
   "metadata": {},
   "outputs": [],
   "source": [
    "treeMap1 = mypy_dv.plot_px_treemap(\n",
    "    data=myTM.reset_index()\n",
    "    ,levels=[\"StichtagDatJahr\", \"SEX_LANG\", \"ZIV_LANG\"]\n",
    "    ,values=\"sum_WBev\"\n",
    "    ,color=\"ZIV_LANG\"\n",
    "    ,myHeaderTitle=\"Wohnbevölkerung nach Zivilstand und Geschlecht, 2020 - \"+data_max_date\n",
    "    ,color_discrete_map={'(?)':'lightgrey', 'Wohnen':'lightblue'}                \n",
    "    #,margin_val_bottom=25\n",
    ")\n",
    "treeMap1\n"
   ]
  },
  {
   "cell_type": "code",
   "execution_count": null,
   "metadata": {},
   "outputs": [],
   "source": [
    "grafic_name = package_name+\"_tm_jahr_sex_ziv_\"+date_today+\".png\"\n",
    "print(grafic_name)\n",
    "\n",
    "treeMap1.write_image('grafiken_testing/'+grafic_name)"
   ]
  },
  {
   "cell_type": "code",
   "execution_count": null,
   "metadata": {},
   "outputs": [],
   "source": [
    "myTM2 = data2betested.loc[data_max_date]  \\\n",
    "    .groupby(['StichtagDatJahr', 'SEX_LANG','SEX_CODE', 'ZIV_LANG', 'ZIV_CODE','KREISEZH_LANG']) \\\n",
    "    .agg(sum_WBev=('BEW', 'sum')) \\\n",
    "    .sort_values('sum_WBev', ascending=True) "
   ]
  },
  {
   "cell_type": "code",
   "execution_count": null,
   "metadata": {},
   "outputs": [],
   "source": [
    "treeMap2 = mypy_dv.plot_px_treemap(\n",
    "    data=myTM2.reset_index()\n",
    "    ,levels=[\"KREISEZH_LANG\", \"ZIV_LANG\",\"SEX_LANG\"]\n",
    "    ,values=\"sum_WBev\"\n",
    "    ,color=\"ZIV_LANG\"\n",
    "    ,color_discrete_map={'(?)':'lightgrey', 'Wohnen':'lightblue'}                \n",
    "    ,myHeaderTitle=\"Wohnbevölkerung nach Stadtkreis, Zivilstand und Geschlecht, \"+data_max_date\n",
    ")\n",
    "treeMap2\n"
   ]
  },
  {
   "cell_type": "code",
   "execution_count": null,
   "metadata": {},
   "outputs": [],
   "source": [
    "grafic_name = package_name+\"_tm2_kreis_ziv_sex\"+date_today+\".png\"\n",
    "print(grafic_name)\n",
    "\n",
    "treeMap2.write_image('grafiken_testing/'+grafic_name)"
   ]
  },
  {
   "cell_type": "markdown",
   "metadata": {},
   "source": [
    "## ---------------------- hier Plausi beendet\n",
    "\n",
    "Übersicht zu LOSD-Jobs:\n",
    "[Sharepoint](https://kollaboration.intranet.stzh.ch/orga/ssz-produkte/Lists/SASA_Outputs/OGD%20Metadaten.aspx#InplviewHasheb69a2c0-ed94-4ef2-91a5-3b19f038e442=FilterField1%3DMetadaten%255Fx002d%255FPublikations%255Fx00-FilterValue1%3DINT)"
   ]
  }
 ],
 "metadata": {
  "kernelspec": {
   "display_name": "gogo_stuff",
   "language": "python",
   "name": "python3"
  },
  "language_info": {
   "codemirror_mode": {
    "name": "ipython",
    "version": 3
   },
   "file_extension": ".py",
   "mimetype": "text/x-python",
   "name": "python",
   "nbconvert_exporter": "python",
   "pygments_lexer": "ipython3",
   "version": "3.11.8"
  }
 },
 "nbformat": 4,
 "nbformat_minor": 4
}
