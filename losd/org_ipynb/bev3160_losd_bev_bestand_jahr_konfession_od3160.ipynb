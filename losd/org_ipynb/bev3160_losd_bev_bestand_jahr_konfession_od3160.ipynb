{
 "cells": [
  {
   "cell_type": "markdown",
   "metadata": {},
   "source": [
    "# Testing LOSD\n",
    "### Bevölkerung nach Konfession, seit 1934\n",
    "\n",
    "Wirtschaftliche Wohnbevölkerung der Stadt Zürich nach Religion und Jahr, seit 1934.\n",
    "\n",
    "https://data.integ.stadt-zuerich.ch/dataset/bev316od3160\n",
    "\n",
    "Datum: 15.03.2024\n",
    "\n",
    "### Colab\n",
    "Mit Colab kann das Jupyter-Notebook interaktiv im Browser gestartet werden. \n",
    "\n",
    "Klicke auf den Button:\n",
    "[![Open In Colab](https://colab.research.google.com/assets/colab-badge.svg)](https://github.com/DonGoginho/colab/blob/main/losd/3160_losd_bev_bestand_jahr_konfession_od3160.ipynb)\n"
   ]
  },
  {
   "cell_type": "markdown",
   "metadata": {},
   "source": [
    "### Importiere die notwendigen Packages"
   ]
  },
  {
   "cell_type": "code",
   "execution_count": 1,
   "metadata": {},
   "outputs": [
    {
     "name": "stdout",
     "output_type": "stream",
     "text": [
      "6.29.3\n",
      "Python-Version: 3.11.8 | packaged by Anaconda, Inc. | (main, Feb 26 2024, 21:34:05) [MSC v.1916 64 bit (AMD64)]\n",
      "Python-Implementierung: CPython\n",
      "Python-Build: ('main', 'Feb 26 2024 21:34:05')\n",
      "Python-Compiler: MSC v.1916 64 bit (AMD64)\n"
     ]
    }
   ],
   "source": [
    "#%pip install altair datetime folium geopandas io requests matplotlib numpy pandas seaborn plotly\n",
    "import ipykernel\n",
    "print(ipykernel.__version__)\n",
    "\n",
    "import sys\n",
    "import platform\n",
    "print(\"Python-Version:\", sys.version)\n",
    "print(\"Python-Implementierung:\", platform.python_implementation())\n",
    "print(\"Python-Build:\", platform.python_build())\n",
    "print(\"Python-Compiler:\", platform.python_compiler())\n"
   ]
  },
  {
   "cell_type": "code",
   "execution_count": 2,
   "metadata": {},
   "outputs": [],
   "source": [
    "import altair as alt\n",
    "import datetime\n",
    "import folium \n",
    "import geopandas as gpd\n",
    "import io\n",
    "from IPython.display import Markdown as md\n",
    "import matplotlib.pyplot as plt\n",
    "import numpy as np\n",
    "import pandas as pd\n",
    "#import pivottablejs\n",
    "#from pivottablejs import pivot_ui\n",
    "import plotly.express as px\n",
    "import requests\n",
    "import seaborn as sns"
   ]
  },
  {
   "cell_type": "code",
   "execution_count": 3,
   "metadata": {},
   "outputs": [],
   "source": [
    "import sys\n",
    "sys.path.append('../0_scripts')\n",
    "\n",
    "import my_py_dataviz_functions as mypy_dv\n",
    "import my_py_dataloading_functions as mypy_dl"
   ]
  },
  {
   "cell_type": "code",
   "execution_count": 4,
   "metadata": {},
   "outputs": [],
   "source": [
    "SSL_VERIFY = False\n",
    "# evtl. SSL_VERIFY auf False setzen wenn die Verbindung zu https://www.gemeinderat-zuerich.ch nicht klappt (z.B. wegen Proxy)\n",
    "# Um die SSL Verifikation auszustellen, bitte die nächste Zeile einkommentieren (\"#\" entfernen)\n",
    "# SSL_VERIFY = False"
   ]
  },
  {
   "cell_type": "code",
   "execution_count": 5,
   "metadata": {},
   "outputs": [],
   "source": [
    "if not SSL_VERIFY:\n",
    "    import urllib3\n",
    "    urllib3.disable_warnings()"
   ]
  },
  {
   "cell_type": "markdown",
   "metadata": {},
   "source": [
    "### Settings\n",
    "Definiere Settings. \n",
    "Hier das Zahlenformat von Float-Werten (z.B. *'{:,.2f}'.format* mit Komma als Tausenderzeichen)"
   ]
  },
  {
   "cell_type": "code",
   "execution_count": 6,
   "metadata": {},
   "outputs": [],
   "source": [
    "#pd.options.display.float_format = lambda x : '{:,.1f}'.format(x) if (np.isnan(x) | np.isinf(x)) else '{:,.0f}'.format(x) if int(x) == x else '{:,.1f}'.format(x)\n",
    "pd.options.display.float_format = '{:.0f}'.format\n",
    "pd.set_option('display.width', 100)\n",
    "pd.set_option('display.max_columns', 15)"
   ]
  },
  {
   "cell_type": "markdown",
   "metadata": {},
   "source": [
    "#### Zeitvariabeln"
   ]
  },
  {
   "cell_type": "code",
   "execution_count": 7,
   "metadata": {},
   "outputs": [],
   "source": [
    "#Zeitvariabeln als Strings:\n",
    "now = datetime.date.today()\n",
    "year_today = now.strftime(\"%Y\")\n",
    "date_today = \"_\"+now.strftime(\"%Y-%m-%d\")\n",
    "\n",
    "#Zeitvariabeln als Integers:\n",
    "int_times = now.timetuple()\n",
    "aktuellesJahr = int_times[0]\n",
    "aktuellerMonat = int_times[1]\n",
    "selectedMonat = int_times[1]-2\n",
    "#print(aktuellesJahr, aktuellerMonat,'datenstand: ', selectedMonat, int_times)"
   ]
  },
  {
   "cell_type": "markdown",
   "metadata": {},
   "source": [
    "### Daten importieren und Metadaten checken\n",
    "\n",
    "- status: int / prod\n",
    "- data_source: web / ld / dropzone\n",
    "- datums_attr: beschreibt das oder die Datumsfelder, die als Datum geparsed werden sollen. Falls es keines gibt: None"
   ]
  },
  {
   "cell_type": "markdown",
   "metadata": {},
   "source": [
    "**BITTE HIER ANPASSEN**"
   ]
  },
  {
   "cell_type": "code",
   "execution_count": 11,
   "metadata": {},
   "outputs": [],
   "source": [
    "#speichere die variable global, damit ich sie später verwenden kann, wenn ich grafiken mit diesem namen speichere.\n",
    "package_name = \"bev316od3160\""
   ]
  },
  {
   "cell_type": "code",
   "execution_count": 12,
   "metadata": {},
   "outputs": [
    {
     "name": "stdout",
     "output_type": "stream",
     "text": [
      "fp lautet:https://ld.integ.stadt-zuerich.ch/statistics/view/BEV316OD3160/observation?format=csv\n"
     ]
    },
    {
     "data": {
      "text/markdown": [
       " **Überprüfe die Metadaten:**"
      ],
      "text/plain": [
       "<IPython.core.display.Markdown object>"
      ]
     },
     "metadata": {},
     "output_type": "display_data"
    },
    {
     "data": {
      "text/markdown": [
       " **Dataset auf INTEG-Datakatalog:** Link https://data.integ.stadt-zuerich.ch/dataset/bev316od3160 "
      ],
      "text/plain": [
       "<IPython.core.display.Markdown object>"
      ]
     },
     "metadata": {},
     "output_type": "display_data"
    },
    {
     "data": {
      "text/markdown": [
       " **View auf INTEG-LD:** Link https://ld.integ.stadt-zuerich.ch/statistics/view/BEV316OD3160 "
      ],
      "text/plain": [
       "<IPython.core.display.Markdown object>"
      ]
     },
     "metadata": {},
     "output_type": "display_data"
    },
    {
     "name": "stdout",
     "output_type": "stream",
     "text": [
      "Es ist ein Fehler aufgetreten: No columns to parse from file\n"
     ]
    },
    {
     "name": "stderr",
     "output_type": "stream",
     "text": [
      "Error: No columns to parse from file\n",
      "\n"
     ]
    }
   ],
   "source": [
    "data2betested = mypy_dl.load_data(\n",
    "    status = 'int'\n",
    "    , data_source = 'ld'\n",
    "    , package_name = package_name\n",
    "    , dataset_name = \"bev316od3160.csv\"    \n",
    "    , datums_attr = ['ZEIT_LANG']\n",
    "    )"
   ]
  },
  {
   "cell_type": "code",
   "execution_count": 10,
   "metadata": {},
   "outputs": [
    {
     "ename": "AttributeError",
     "evalue": "'NoneType' object has no attribute 'head'",
     "output_type": "error",
     "traceback": [
      "\u001b[1;31m---------------------------------------------------------------------------\u001b[0m",
      "\u001b[1;31mAttributeError\u001b[0m                            Traceback (most recent call last)",
      "Cell \u001b[1;32mIn[10], line 1\u001b[0m\n\u001b[1;32m----> 1\u001b[0m \u001b[43mdata2betested\u001b[49m\u001b[38;5;241;43m.\u001b[39;49m\u001b[43mhead\u001b[49m(\u001b[38;5;241m2\u001b[39m)\n",
      "\u001b[1;31mAttributeError\u001b[0m: 'NoneType' object has no attribute 'head'"
     ]
    }
   ],
   "source": [
    "data2betested.head(2)"
   ]
  },
  {
   "cell_type": "code",
   "execution_count": null,
   "metadata": {},
   "outputs": [
    {
     "ename": "AttributeError",
     "evalue": "'NoneType' object has no attribute 'sort_values'",
     "output_type": "error",
     "traceback": [
      "\u001b[1;31m---------------------------------------------------------------------------\u001b[0m",
      "\u001b[1;31mAttributeError\u001b[0m                            Traceback (most recent call last)",
      "Cell \u001b[1;32mIn[10], line 1\u001b[0m\n\u001b[1;32m----> 1\u001b[0m \u001b[43mdata2betested\u001b[49m\u001b[38;5;241;43m.\u001b[39;49m\u001b[43msort_values\u001b[49m(\u001b[38;5;124m\"\u001b[39m\u001b[38;5;124mZEIT_LANG\u001b[39m\u001b[38;5;124m\"\u001b[39m, ascending\u001b[38;5;241m=\u001b[39m\u001b[38;5;28;01mFalse\u001b[39;00m)\u001b[38;5;241m.\u001b[39mhead(\u001b[38;5;241m2\u001b[39m)\n",
      "\u001b[1;31mAttributeError\u001b[0m: 'NoneType' object has no attribute 'sort_values'"
     ]
    }
   ],
   "source": [
    "data2betested.sort_values(\"ZEIT_LANG\", ascending=False).head(2)"
   ]
  },
  {
   "cell_type": "markdown",
   "metadata": {},
   "source": [
    "Berechne weitere Attribute falls notwendig"
   ]
  },
  {
   "cell_type": "markdown",
   "metadata": {},
   "source": [
    "`ACHTUNG`!\n",
    "\n",
    "In Pandas kann `datetime` Daten ab dem Jahr **1677** speichern. Das liegt daran, dass Pandas datetime64[ns] auf der Basis von NumPy verwendet, das wiederum den Datentyp datetime64 bereitstellt, der auf dem Standard des Proleptischen Gregorianischen Kalenders basiert. Dieser Kalender geht bis zum Jahr 1677 zurück.\n",
    "\n",
    "Alternative: Abfangen des Problems mit Funktion:\n",
    "\n",
    "-----------------------------------------------"
   ]
  },
  {
   "cell_type": "code",
   "execution_count": null,
   "metadata": {},
   "outputs": [],
   "source": [
    "def convert_to_datetime(date_str):\n",
    "    try:\n",
    "        date = pd.to_datetime(date_str)\n",
    "        if date.year < 1677:\n",
    "            raise ValueError(\"Datum liegt außerhalb des gültigen Bereichs für datetime-Objekte.\")\n",
    "        return date\n",
    "    except ValueError:\n",
    "        return pd.NaT  # Falls ein ungültiges Datum übergeben wurde, gib NaT (Not a Timestamp) zurück\n"
   ]
  },
  {
   "cell_type": "markdown",
   "metadata": {},
   "source": [
    "-------------------------------------------------------"
   ]
  },
  {
   "cell_type": "code",
   "execution_count": null,
   "metadata": {},
   "outputs": [
    {
     "data": {
      "text/html": [
       "<div>\n",
       "<style scoped>\n",
       "    .dataframe tbody tr th:only-of-type {\n",
       "        vertical-align: middle;\n",
       "    }\n",
       "\n",
       "    .dataframe tbody tr th {\n",
       "        vertical-align: top;\n",
       "    }\n",
       "\n",
       "    .dataframe thead th {\n",
       "        text-align: right;\n",
       "    }\n",
       "</style>\n",
       "<table border=\"1\" class=\"dataframe\">\n",
       "  <thead>\n",
       "    <tr style=\"text-align: right;\">\n",
       "      <th></th>\n",
       "      <th>ZEIT_LANG</th>\n",
       "      <th>ZEIT_CODE</th>\n",
       "      <th>RAUM_LANG</th>\n",
       "      <th>RAUM_CODE</th>\n",
       "      <th>KON_LANG</th>\n",
       "      <th>KON_CODE</th>\n",
       "      <th>BEW</th>\n",
       "      <th>StichtagDatJahr</th>\n",
       "      <th>StichtagDatJahr_str</th>\n",
       "      <th>Jahr_nbr</th>\n",
       "      <th>RAUM_my_sort</th>\n",
       "    </tr>\n",
       "  </thead>\n",
       "  <tbody>\n",
       "    <tr>\n",
       "      <th>52</th>\n",
       "      <td>2023-12-31</td>\n",
       "      <td>Z31122023</td>\n",
       "      <td>Stadt Zürich (ab 1934)</td>\n",
       "      <td>R30000</td>\n",
       "      <td>Andere, ohne, unbekannt</td>\n",
       "      <td>KON9900</td>\n",
       "      <td>275174</td>\n",
       "      <td>2023-12-31</td>\n",
       "      <td>2023-12-31</td>\n",
       "      <td>2023</td>\n",
       "      <td>31122023</td>\n",
       "    </tr>\n",
       "    <tr>\n",
       "      <th>157</th>\n",
       "      <td>2023-12-31</td>\n",
       "      <td>Z31122023</td>\n",
       "      <td>Stadt Zürich (ab 1934)</td>\n",
       "      <td>R30000</td>\n",
       "      <td>Römisch-katholische Kirche</td>\n",
       "      <td>KON2001</td>\n",
       "      <td>97639</td>\n",
       "      <td>2023-12-31</td>\n",
       "      <td>2023-12-31</td>\n",
       "      <td>2023</td>\n",
       "      <td>31122023</td>\n",
       "    </tr>\n",
       "    <tr>\n",
       "      <th>258</th>\n",
       "      <td>2023-12-31</td>\n",
       "      <td>Z31122023</td>\n",
       "      <td>Stadt Zürich (ab 1934)</td>\n",
       "      <td>R30000</td>\n",
       "      <td>Evangelisch-reformierte Kirche</td>\n",
       "      <td>KON1001</td>\n",
       "      <td>74269</td>\n",
       "      <td>2023-12-31</td>\n",
       "      <td>2023-12-31</td>\n",
       "      <td>2023</td>\n",
       "      <td>31122023</td>\n",
       "    </tr>\n",
       "    <tr>\n",
       "      <th>40</th>\n",
       "      <td>2022-12-31</td>\n",
       "      <td>Z31122022</td>\n",
       "      <td>Stadt Zürich (ab 1934)</td>\n",
       "      <td>R30000</td>\n",
       "      <td>Römisch-katholische Kirche</td>\n",
       "      <td>KON2001</td>\n",
       "      <td>102074</td>\n",
       "      <td>2022-12-31</td>\n",
       "      <td>2022-12-31</td>\n",
       "      <td>2022</td>\n",
       "      <td>31122022</td>\n",
       "    </tr>\n",
       "    <tr>\n",
       "      <th>204</th>\n",
       "      <td>2022-12-31</td>\n",
       "      <td>Z31122022</td>\n",
       "      <td>Stadt Zürich (ab 1934)</td>\n",
       "      <td>R30000</td>\n",
       "      <td>Andere, ohne, unbekannt</td>\n",
       "      <td>KON9900</td>\n",
       "      <td>263856</td>\n",
       "      <td>2022-12-31</td>\n",
       "      <td>2022-12-31</td>\n",
       "      <td>2022</td>\n",
       "      <td>31122022</td>\n",
       "    </tr>\n",
       "    <tr>\n",
       "      <th>...</th>\n",
       "      <td>...</td>\n",
       "      <td>...</td>\n",
       "      <td>...</td>\n",
       "      <td>...</td>\n",
       "      <td>...</td>\n",
       "      <td>...</td>\n",
       "      <td>...</td>\n",
       "      <td>...</td>\n",
       "      <td>...</td>\n",
       "      <td>...</td>\n",
       "      <td>...</td>\n",
       "    </tr>\n",
       "    <tr>\n",
       "      <th>73</th>\n",
       "      <td>1934-12-31</td>\n",
       "      <td>Z31121934</td>\n",
       "      <td>Stadt Zürich (ab 1934)</td>\n",
       "      <td>R30000</td>\n",
       "      <td>Evangelisch-reformierte Kirche</td>\n",
       "      <td>KON1001</td>\n",
       "      <td>208357</td>\n",
       "      <td>1934-12-31</td>\n",
       "      <td>1934-12-31</td>\n",
       "      <td>1934</td>\n",
       "      <td>31121934</td>\n",
       "    </tr>\n",
       "    <tr>\n",
       "      <th>240</th>\n",
       "      <td>1930-12-31</td>\n",
       "      <td>Z31121930</td>\n",
       "      <td>Stadt Zürich (ab 1934)</td>\n",
       "      <td>R30000</td>\n",
       "      <td>Evangelisch-reformierte Kirche</td>\n",
       "      <td>KON1001</td>\n",
       "      <td>189773</td>\n",
       "      <td>1930-12-31</td>\n",
       "      <td>1930-12-31</td>\n",
       "      <td>1930</td>\n",
       "      <td>31121930</td>\n",
       "    </tr>\n",
       "    <tr>\n",
       "      <th>2</th>\n",
       "      <td>1920-12-31</td>\n",
       "      <td>Z31121920</td>\n",
       "      <td>Stadt Zürich (ab 1934)</td>\n",
       "      <td>R30000</td>\n",
       "      <td>Evangelisch-reformierte Kirche</td>\n",
       "      <td>KON1001</td>\n",
       "      <td>155027</td>\n",
       "      <td>1920-12-31</td>\n",
       "      <td>1920-12-31</td>\n",
       "      <td>1920</td>\n",
       "      <td>31121920</td>\n",
       "    </tr>\n",
       "    <tr>\n",
       "      <th>25</th>\n",
       "      <td>1910-12-31</td>\n",
       "      <td>Z31121910</td>\n",
       "      <td>Stadt Zürich (ab 1934)</td>\n",
       "      <td>R30000</td>\n",
       "      <td>Evangelisch-reformierte Kirche</td>\n",
       "      <td>KON1001</td>\n",
       "      <td>139649</td>\n",
       "      <td>1910-12-31</td>\n",
       "      <td>1910-12-31</td>\n",
       "      <td>1910</td>\n",
       "      <td>31121910</td>\n",
       "    </tr>\n",
       "    <tr>\n",
       "      <th>142</th>\n",
       "      <td>1900-12-31</td>\n",
       "      <td>Z31121900</td>\n",
       "      <td>Stadt Zürich (ab 1934)</td>\n",
       "      <td>R30000</td>\n",
       "      <td>Evangelisch-reformierte Kirche</td>\n",
       "      <td>KON1001</td>\n",
       "      <td>116555</td>\n",
       "      <td>1900-12-31</td>\n",
       "      <td>1900-12-31</td>\n",
       "      <td>1900</td>\n",
       "      <td>31121900</td>\n",
       "    </tr>\n",
       "  </tbody>\n",
       "</table>\n",
       "<p>274 rows × 11 columns</p>\n",
       "</div>"
      ],
      "text/plain": [
       "     ZEIT_LANG  ZEIT_CODE               RAUM_LANG RAUM_CODE                        KON_LANG  \\\n",
       "52  2023-12-31  Z31122023  Stadt Zürich (ab 1934)    R30000         Andere, ohne, unbekannt   \n",
       "157 2023-12-31  Z31122023  Stadt Zürich (ab 1934)    R30000      Römisch-katholische Kirche   \n",
       "258 2023-12-31  Z31122023  Stadt Zürich (ab 1934)    R30000  Evangelisch-reformierte Kirche   \n",
       "40  2022-12-31  Z31122022  Stadt Zürich (ab 1934)    R30000      Römisch-katholische Kirche   \n",
       "204 2022-12-31  Z31122022  Stadt Zürich (ab 1934)    R30000         Andere, ohne, unbekannt   \n",
       "..         ...        ...                     ...       ...                             ...   \n",
       "73  1934-12-31  Z31121934  Stadt Zürich (ab 1934)    R30000  Evangelisch-reformierte Kirche   \n",
       "240 1930-12-31  Z31121930  Stadt Zürich (ab 1934)    R30000  Evangelisch-reformierte Kirche   \n",
       "2   1920-12-31  Z31121920  Stadt Zürich (ab 1934)    R30000  Evangelisch-reformierte Kirche   \n",
       "25  1910-12-31  Z31121910  Stadt Zürich (ab 1934)    R30000  Evangelisch-reformierte Kirche   \n",
       "142 1900-12-31  Z31121900  Stadt Zürich (ab 1934)    R30000  Evangelisch-reformierte Kirche   \n",
       "\n",
       "    KON_CODE    BEW StichtagDatJahr StichtagDatJahr_str  Jahr_nbr  RAUM_my_sort  \n",
       "52   KON9900 275174      2023-12-31          2023-12-31      2023      31122023  \n",
       "157  KON2001  97639      2023-12-31          2023-12-31      2023      31122023  \n",
       "258  KON1001  74269      2023-12-31          2023-12-31      2023      31122023  \n",
       "40   KON2001 102074      2022-12-31          2022-12-31      2022      31122022  \n",
       "204  KON9900 263856      2022-12-31          2022-12-31      2022      31122022  \n",
       "..       ...    ...             ...                 ...       ...           ...  \n",
       "73   KON1001 208357      1934-12-31          1934-12-31      1934      31121934  \n",
       "240  KON1001 189773      1930-12-31          1930-12-31      1930      31121930  \n",
       "2    KON1001 155027      1920-12-31          1920-12-31      1920      31121920  \n",
       "25   KON1001 139649      1910-12-31          1910-12-31      1910      31121910  \n",
       "142  KON1001 116555      1900-12-31          1900-12-31      1900      31121900  \n",
       "\n",
       "[274 rows x 11 columns]"
      ]
     },
     "execution_count": 23,
     "metadata": {},
     "output_type": "execute_result"
    }
   ],
   "source": [
    "data2betested = (\n",
    "    data2betested\n",
    "    .copy()\n",
    "    .assign(\n",
    "        StichtagDatJahr = lambda x: x.ZEIT_LANG.apply(convert_to_datetime),\n",
    "        #StichtagDatJahr = lambda x: x.ZEIT_lang,\n",
    "        StichtagDatJahr_str = lambda x: x.ZEIT_LANG.astype(str),\n",
    "        #Jahr = lambda x: x.ZEIT_lang.dt.year,\n",
    "        Jahr_nbr = lambda x: x.ZEIT_CODE.str[-4:].astype(int),    \n",
    "        RAUM_my_sort = lambda x: x.ZEIT_CODE.str[1:].astype(int),\n",
    "\n",
    "    )\n",
    "    .sort_values('ZEIT_LANG', ascending=False)\n",
    "    )\n",
    "data2betested"
   ]
  },
  {
   "cell_type": "markdown",
   "metadata": {},
   "source": [
    "Minimales und maximales Jahr im Datensatz"
   ]
  },
  {
   "cell_type": "code",
   "execution_count": null,
   "metadata": {},
   "outputs": [
    {
     "name": "stdout",
     "output_type": "stream",
     "text": [
      "Die Daten haben ein Minimumjahr von 1900 und ein Maximumjahr von 2023\n"
     ]
    }
   ],
   "source": [
    "data_max_date = str(max(data2betested.StichtagDatJahr).year)\n",
    "data_min_date = str(min(data2betested.StichtagDatJahr).year)\n",
    "\n",
    "print(f\"Die Daten haben ein Minimumjahr von {data_min_date} und ein Maximumjahr von {data_max_date}\")"
   ]
  },
  {
   "cell_type": "markdown",
   "metadata": {},
   "source": [
    "Temp speichere die csv-Datei, da es immer wieder zu Ausfällen kommt. So kann ich mal den Report fertig bauen."
   ]
  },
  {
   "cell_type": "code",
   "execution_count": null,
   "metadata": {},
   "outputs": [],
   "source": [
    "docname = package_name +date_today+\".csv\"\n",
    "print(docname)\n"
   ]
  },
  {
   "cell_type": "code",
   "execution_count": null,
   "metadata": {},
   "outputs": [],
   "source": [
    "data2betested.to_csv('./saved_data/'+docname, index=False)"
   ]
  },
  {
   "cell_type": "code",
   "execution_count": null,
   "metadata": {},
   "outputs": [],
   "source": [
    "data2betested.to_csv('./saved_data/'+docname, index=False)"
   ]
  },
  {
   "cell_type": "markdown",
   "metadata": {},
   "source": [
    "Zeitbereich aus den Daten:"
   ]
  },
  {
   "cell_type": "code",
   "execution_count": null,
   "metadata": {},
   "outputs": [
    {
     "name": "stdout",
     "output_type": "stream",
     "text": [
      "Die Daten haben ein Minimumjahr von 1900 und ein Maximumjahr von 2023\n"
     ]
    }
   ],
   "source": [
    "data_max_date = str(max(data2betested.Jahr_nbr))\n",
    "\n",
    "try:\n",
    "    if min(data2betested.Jahr_nbr) < 1678:\n",
    "        data_min_date=\"1688\"\n",
    "    else:\n",
    "        data_min_date = str(min(data2betested.Jahr_nbr))\n",
    "except ValueError:\n",
    "    print(\"Fehler...\")\n",
    "\n",
    "print(f\"Die Daten haben ein Minimumjahr von {data_min_date} und ein Maximumjahr von {data_max_date}\")\n"
   ]
  },
  {
   "cell_type": "markdown",
   "metadata": {},
   "source": [
    "### Einfache Datentests"
   ]
  },
  {
   "cell_type": "code",
   "execution_count": null,
   "metadata": {},
   "outputs": [
    {
     "data": {
      "text/html": [
       "<div>\n",
       "<style scoped>\n",
       "    .dataframe tbody tr th:only-of-type {\n",
       "        vertical-align: middle;\n",
       "    }\n",
       "\n",
       "    .dataframe tbody tr th {\n",
       "        vertical-align: top;\n",
       "    }\n",
       "\n",
       "    .dataframe thead th {\n",
       "        text-align: right;\n",
       "    }\n",
       "</style>\n",
       "<table border=\"1\" class=\"dataframe\">\n",
       "  <thead>\n",
       "    <tr style=\"text-align: right;\">\n",
       "      <th></th>\n",
       "      <th>52</th>\n",
       "      <th>157</th>\n",
       "    </tr>\n",
       "  </thead>\n",
       "  <tbody>\n",
       "    <tr>\n",
       "      <th>ZEIT_LANG</th>\n",
       "      <td>2023-12-31 00:00:00</td>\n",
       "      <td>2023-12-31 00:00:00</td>\n",
       "    </tr>\n",
       "    <tr>\n",
       "      <th>ZEIT_CODE</th>\n",
       "      <td>Z31122023</td>\n",
       "      <td>Z31122023</td>\n",
       "    </tr>\n",
       "    <tr>\n",
       "      <th>RAUM_LANG</th>\n",
       "      <td>Stadt Zürich (ab 1934)</td>\n",
       "      <td>Stadt Zürich (ab 1934)</td>\n",
       "    </tr>\n",
       "    <tr>\n",
       "      <th>RAUM_CODE</th>\n",
       "      <td>R30000</td>\n",
       "      <td>R30000</td>\n",
       "    </tr>\n",
       "    <tr>\n",
       "      <th>KON_LANG</th>\n",
       "      <td>Andere, ohne, unbekannt</td>\n",
       "      <td>Römisch-katholische Kirche</td>\n",
       "    </tr>\n",
       "    <tr>\n",
       "      <th>KON_CODE</th>\n",
       "      <td>KON9900</td>\n",
       "      <td>KON2001</td>\n",
       "    </tr>\n",
       "    <tr>\n",
       "      <th>BEW</th>\n",
       "      <td>275174</td>\n",
       "      <td>97639</td>\n",
       "    </tr>\n",
       "    <tr>\n",
       "      <th>StichtagDatJahr</th>\n",
       "      <td>2023-12-31 00:00:00</td>\n",
       "      <td>2023-12-31 00:00:00</td>\n",
       "    </tr>\n",
       "    <tr>\n",
       "      <th>StichtagDatJahr_str</th>\n",
       "      <td>2023-12-31</td>\n",
       "      <td>2023-12-31</td>\n",
       "    </tr>\n",
       "    <tr>\n",
       "      <th>Jahr_nbr</th>\n",
       "      <td>2023</td>\n",
       "      <td>2023</td>\n",
       "    </tr>\n",
       "    <tr>\n",
       "      <th>RAUM_my_sort</th>\n",
       "      <td>31122023</td>\n",
       "      <td>31122023</td>\n",
       "    </tr>\n",
       "  </tbody>\n",
       "</table>\n",
       "</div>"
      ],
      "text/plain": [
       "                                         52                          157\n",
       "ZEIT_LANG                2023-12-31 00:00:00         2023-12-31 00:00:00\n",
       "ZEIT_CODE                          Z31122023                   Z31122023\n",
       "RAUM_LANG             Stadt Zürich (ab 1934)      Stadt Zürich (ab 1934)\n",
       "RAUM_CODE                             R30000                      R30000\n",
       "KON_LANG             Andere, ohne, unbekannt  Römisch-katholische Kirche\n",
       "KON_CODE                             KON9900                     KON2001\n",
       "BEW                                   275174                       97639\n",
       "StichtagDatJahr          2023-12-31 00:00:00         2023-12-31 00:00:00\n",
       "StichtagDatJahr_str               2023-12-31                  2023-12-31\n",
       "Jahr_nbr                                2023                        2023\n",
       "RAUM_my_sort                        31122023                    31122023"
      ]
     },
     "execution_count": 26,
     "metadata": {},
     "output_type": "execute_result"
    }
   ],
   "source": [
    "data2betested.head(2).T"
   ]
  },
  {
   "cell_type": "code",
   "execution_count": null,
   "metadata": {},
   "outputs": [
    {
     "name": "stdout",
     "output_type": "stream",
     "text": [
      "<class 'pandas.core.frame.DataFrame'>\n",
      "Index: 274 entries, 52 to 142\n",
      "Data columns (total 11 columns):\n",
      " #   Column               Non-Null Count  Dtype         \n",
      "---  ------               --------------  -----         \n",
      " 0   ZEIT_LANG            274 non-null    datetime64[ns]\n",
      " 1   ZEIT_CODE            274 non-null    object        \n",
      " 2   RAUM_LANG            274 non-null    object        \n",
      " 3   RAUM_CODE            274 non-null    object        \n",
      " 4   KON_LANG             274 non-null    object        \n",
      " 5   KON_CODE             274 non-null    object        \n",
      " 6   BEW                  274 non-null    float64       \n",
      " 7   StichtagDatJahr      274 non-null    datetime64[ns]\n",
      " 8   StichtagDatJahr_str  274 non-null    object        \n",
      " 9   Jahr_nbr             274 non-null    int32         \n",
      " 10  RAUM_my_sort         274 non-null    int32         \n",
      "dtypes: datetime64[ns](2), float64(1), int32(2), object(6)\n",
      "memory usage: 132.3 KB\n"
     ]
    }
   ],
   "source": [
    "data2betested.info(memory_usage='deep', verbose=True)"
   ]
  },
  {
   "cell_type": "code",
   "execution_count": null,
   "metadata": {},
   "outputs": [
    {
     "name": "stdout",
     "output_type": "stream",
     "text": [
      "The dataset has 274 rows (observations) and 11 columns (variables).\n",
      "There seem to be 0 exact duplicates in the data.\n"
     ]
    }
   ],
   "source": [
    "print(f'The dataset has {data2betested.shape[0]:,.0f} rows (observations) and {data2betested.shape[1]:,.0f} columns (variables).')\n",
    "print(f'There seem to be {data2betested.duplicated().sum()} exact duplicates in the data.')"
   ]
  },
  {
   "cell_type": "markdown",
   "metadata": {},
   "source": [
    "Welches sind die Quartiere ohne Werte bei BEW?"
   ]
  },
  {
   "cell_type": "code",
   "execution_count": null,
   "metadata": {},
   "outputs": [
    {
     "data": {
      "text/html": [
       "<div>\n",
       "<style scoped>\n",
       "    .dataframe tbody tr th:only-of-type {\n",
       "        vertical-align: middle;\n",
       "    }\n",
       "\n",
       "    .dataframe tbody tr th {\n",
       "        vertical-align: top;\n",
       "    }\n",
       "\n",
       "    .dataframe thead th {\n",
       "        text-align: right;\n",
       "    }\n",
       "</style>\n",
       "<table border=\"1\" class=\"dataframe\">\n",
       "  <thead>\n",
       "    <tr style=\"text-align: right;\">\n",
       "      <th></th>\n",
       "      <th>ZEIT_LANG</th>\n",
       "      <th>ZEIT_CODE</th>\n",
       "      <th>RAUM_LANG</th>\n",
       "      <th>RAUM_CODE</th>\n",
       "      <th>KON_LANG</th>\n",
       "      <th>KON_CODE</th>\n",
       "      <th>BEW</th>\n",
       "      <th>StichtagDatJahr</th>\n",
       "      <th>StichtagDatJahr_str</th>\n",
       "      <th>Jahr_nbr</th>\n",
       "      <th>RAUM_my_sort</th>\n",
       "    </tr>\n",
       "  </thead>\n",
       "  <tbody>\n",
       "  </tbody>\n",
       "</table>\n",
       "</div>"
      ],
      "text/plain": [
       "Empty DataFrame\n",
       "Columns: [ZEIT_LANG, ZEIT_CODE, RAUM_LANG, RAUM_CODE, KON_LANG, KON_CODE, BEW, StichtagDatJahr, StichtagDatJahr_str, Jahr_nbr, RAUM_my_sort]\n",
       "Index: []"
      ]
     },
     "execution_count": 29,
     "metadata": {},
     "output_type": "execute_result"
    }
   ],
   "source": [
    "data2betested[np.isnan(data2betested.BEW)]"
   ]
  },
  {
   "cell_type": "markdown",
   "metadata": {
    "colab_type": "text",
    "id": "1dTPVmmsgOVx"
   },
   "source": [
    "### Verwende das Datum als Index\n",
    "\n",
    "While we did already parse the `datetime` column into the respective datetime type, it currently is just a regular column. \n",
    "**To enable quick and convenient queries and aggregations, we need to turn it into the index of the DataFrame**"
   ]
  },
  {
   "cell_type": "code",
   "execution_count": null,
   "metadata": {},
   "outputs": [],
   "source": [
    "data2betested = data2betested.set_index(\"StichtagDatJahr\") \n",
    "data2betested = data2betested.sort_index()"
   ]
  },
  {
   "cell_type": "code",
   "execution_count": null,
   "metadata": {},
   "outputs": [
    {
     "data": {
      "text/plain": [
       "Index([1900, 1910, 1920, 1930, 1934, 1935, 1936, 1937, 1938, 1939, 1940, 1941, 1942, 1943, 1944,\n",
       "       1945, 1946, 1947, 1948, 1949, 1950, 1951, 1952, 1953, 1954, 1955, 1956, 1957, 1958, 1959,\n",
       "       1960, 1961, 1962, 1963, 1964, 1965, 1966, 1967, 1968, 1969, 1970, 1971, 1972, 1973, 1974,\n",
       "       1975, 1976, 1977, 1978, 1979, 1980, 1981, 1982, 1983, 1984, 1985, 1986, 1987, 1988, 1989,\n",
       "       1990, 1991, 1992, 1993, 1994, 1995, 1996, 1997, 1998, 1999, 2000, 2001, 2002, 2003, 2004,\n",
       "       2005, 2006, 2007, 2008, 2009, 2010, 2011, 2012, 2013, 2014, 2015, 2016, 2017, 2018, 2019,\n",
       "       2020, 2021, 2022, 2023],\n",
       "      dtype='int32', name='StichtagDatJahr')"
      ]
     },
     "execution_count": 31,
     "metadata": {},
     "output_type": "execute_result"
    }
   ],
   "source": [
    "data2betested.index.year.unique()\n"
   ]
  },
  {
   "cell_type": "markdown",
   "metadata": {},
   "source": [
    "### Beschreibe einzelne Attribute"
   ]
  },
  {
   "cell_type": "markdown",
   "metadata": {},
   "source": [
    "Beschreibe nicht numerische Attribute"
   ]
  },
  {
   "cell_type": "code",
   "execution_count": null,
   "metadata": {},
   "outputs": [
    {
     "name": "stdout",
     "output_type": "stream",
     "text": [
      "No categorical data in dataset.\n"
     ]
    }
   ],
   "source": [
    "# describe non-numerical features\n",
    "try:\n",
    "    with pd.option_context('display.float_format', '{:,.2f}'.format):\n",
    "        display(data2betested.describe(exclude='number',datetime_is_numeric=True))\n",
    "except:\n",
    "    print(\"No categorical data in dataset.\")"
   ]
  },
  {
   "cell_type": "markdown",
   "metadata": {},
   "source": [
    "Beschreibe numerische Attribute"
   ]
  },
  {
   "cell_type": "code",
   "execution_count": null,
   "metadata": {},
   "outputs": [
    {
     "data": {
      "text/html": [
       "<div>\n",
       "<style scoped>\n",
       "    .dataframe tbody tr th:only-of-type {\n",
       "        vertical-align: middle;\n",
       "    }\n",
       "\n",
       "    .dataframe tbody tr th {\n",
       "        vertical-align: top;\n",
       "    }\n",
       "\n",
       "    .dataframe thead th {\n",
       "        text-align: right;\n",
       "    }\n",
       "</style>\n",
       "<table border=\"1\" class=\"dataframe\">\n",
       "  <thead>\n",
       "    <tr style=\"text-align: right;\">\n",
       "      <th></th>\n",
       "      <th>BEW</th>\n",
       "      <th>Jahr_nbr</th>\n",
       "      <th>RAUM_my_sort</th>\n",
       "    </tr>\n",
       "  </thead>\n",
       "  <tbody>\n",
       "    <tr>\n",
       "      <th>count</th>\n",
       "      <td>274</td>\n",
       "      <td>274</td>\n",
       "      <td>274</td>\n",
       "    </tr>\n",
       "    <tr>\n",
       "      <th>mean</th>\n",
       "      <td>128,803</td>\n",
       "      <td>1,978</td>\n",
       "      <td>31,121,978</td>\n",
       "    </tr>\n",
       "    <tr>\n",
       "      <th>std</th>\n",
       "      <td>70,991</td>\n",
       "      <td>27</td>\n",
       "      <td>27</td>\n",
       "    </tr>\n",
       "    <tr>\n",
       "      <th>min</th>\n",
       "      <td>13,634</td>\n",
       "      <td>1,900</td>\n",
       "      <td>31,121,900</td>\n",
       "    </tr>\n",
       "    <tr>\n",
       "      <th>25%</th>\n",
       "      <td>91,940</td>\n",
       "      <td>1,955</td>\n",
       "      <td>31,121,955</td>\n",
       "    </tr>\n",
       "    <tr>\n",
       "      <th>50%</th>\n",
       "      <td>123,694</td>\n",
       "      <td>1,978</td>\n",
       "      <td>31,121,978</td>\n",
       "    </tr>\n",
       "    <tr>\n",
       "      <th>75%</th>\n",
       "      <td>163,833</td>\n",
       "      <td>2,001</td>\n",
       "      <td>31,122,001</td>\n",
       "    </tr>\n",
       "    <tr>\n",
       "      <th>max</th>\n",
       "      <td>275,174</td>\n",
       "      <td>2,023</td>\n",
       "      <td>31,122,023</td>\n",
       "    </tr>\n",
       "  </tbody>\n",
       "</table>\n",
       "</div>"
      ],
      "text/plain": [
       "          BEW  Jahr_nbr  RAUM_my_sort\n",
       "count     274       274           274\n",
       "mean  128,803     1,978    31,121,978\n",
       "std    70,991        27            27\n",
       "min    13,634     1,900    31,121,900\n",
       "25%    91,940     1,955    31,121,955\n",
       "50%   123,694     1,978    31,121,978\n",
       "75%   163,833     2,001    31,122,001\n",
       "max   275,174     2,023    31,122,023"
      ]
     },
     "metadata": {},
     "output_type": "display_data"
    }
   ],
   "source": [
    "# describe numerical features\n",
    "try:\n",
    "    with pd.option_context('display.float_format', '{:,.0f}'.format):\n",
    "        display(data2betested.describe(include='number'))\n",
    "except:\n",
    "    print(\"No numercial data in dataset.\")"
   ]
  },
  {
   "cell_type": "code",
   "execution_count": null,
   "metadata": {},
   "outputs": [
    {
     "data": {
      "image/png": "[encoded data removed]",
      "text/plain": [
       "<Figure size 1800x600 with 4 Axes>"
      ]
     },
     "metadata": {},
     "output_type": "display_data"
    }
   ],
   "source": [
    "plt.style.use('ggplot')\n",
    "params = {\n",
    "    'text.color': (0.25, 0.25, 0.25),\n",
    "    'figure.figsize': [18, 6],\n",
    "   }\n",
    "plt.rcParams.update(params)\n",
    "\n",
    "try:\n",
    "    data2betested.hist(bins=25, rwidth=0.9)\n",
    "    plt.tight_layout()\n",
    "    plt.show()\n",
    "except:\n",
    "    print(\"No numercial data to plot.\") "
   ]
  },
  {
   "cell_type": "markdown",
   "metadata": {},
   "source": [
    "### Gibt es Duplikate?"
   ]
  },
  {
   "cell_type": "code",
   "execution_count": null,
   "metadata": {},
   "outputs": [
    {
     "data": {
      "text/html": [
       "<div>\n",
       "<style scoped>\n",
       "    .dataframe tbody tr th:only-of-type {\n",
       "        vertical-align: middle;\n",
       "    }\n",
       "\n",
       "    .dataframe tbody tr th {\n",
       "        vertical-align: top;\n",
       "    }\n",
       "\n",
       "    .dataframe thead th {\n",
       "        text-align: right;\n",
       "    }\n",
       "</style>\n",
       "<table border=\"1\" class=\"dataframe\">\n",
       "  <thead>\n",
       "    <tr style=\"text-align: right;\">\n",
       "      <th></th>\n",
       "      <th>ZEIT_LANG</th>\n",
       "      <th>ZEIT_CODE</th>\n",
       "      <th>RAUM_LANG</th>\n",
       "      <th>RAUM_CODE</th>\n",
       "      <th>KON_LANG</th>\n",
       "      <th>KON_CODE</th>\n",
       "      <th>BEW</th>\n",
       "      <th>StichtagDatJahr_str</th>\n",
       "      <th>Jahr_nbr</th>\n",
       "      <th>RAUM_my_sort</th>\n",
       "    </tr>\n",
       "    <tr>\n",
       "      <th>StichtagDatJahr</th>\n",
       "      <th></th>\n",
       "      <th></th>\n",
       "      <th></th>\n",
       "      <th></th>\n",
       "      <th></th>\n",
       "      <th></th>\n",
       "      <th></th>\n",
       "      <th></th>\n",
       "      <th></th>\n",
       "      <th></th>\n",
       "    </tr>\n",
       "  </thead>\n",
       "  <tbody>\n",
       "  </tbody>\n",
       "</table>\n",
       "</div>"
      ],
      "text/plain": [
       "Empty DataFrame\n",
       "Columns: [ZEIT_LANG, ZEIT_CODE, RAUM_LANG, RAUM_CODE, KON_LANG, KON_CODE, BEW, StichtagDatJahr_str, Jahr_nbr, RAUM_my_sort]\n",
       "Index: []"
      ]
     },
     "execution_count": 35,
     "metadata": {},
     "output_type": "execute_result"
    }
   ],
   "source": [
    "# find duplicate rows\n",
    "duplicate_rows = data2betested[data2betested.duplicated()]\n",
    "duplicate_rows"
   ]
  },
  {
   "cell_type": "markdown",
   "metadata": {},
   "source": [
    "### Nullwerte und Missings?"
   ]
  },
  {
   "cell_type": "code",
   "execution_count": null,
   "metadata": {},
   "outputs": [
    {
     "data": {
      "text/plain": [
       "ZEIT_LANG              0\n",
       "ZEIT_CODE              0\n",
       "RAUM_LANG              0\n",
       "RAUM_CODE              0\n",
       "KON_LANG               0\n",
       "KON_CODE               0\n",
       "BEW                    0\n",
       "StichtagDatJahr_str    0\n",
       "Jahr_nbr               0\n",
       "RAUM_my_sort           0\n",
       "dtype: int64"
      ]
     },
     "execution_count": 36,
     "metadata": {},
     "output_type": "execute_result"
    }
   ],
   "source": [
    "data2betested.isnull().sum()"
   ]
  },
  {
   "cell_type": "code",
   "execution_count": null,
   "metadata": {},
   "outputs": [],
   "source": [
    "# check missing values with missingno\n",
    "# https://github.com/ResidentMario/missingno\n",
    "import missingno as msno\n",
    "#msno.matrix(data2betested, labels=True, sort='descending');\n",
    "#msno.heatmap(data2betested)"
   ]
  },
  {
   "cell_type": "markdown",
   "metadata": {},
   "source": [
    "### Gruppierungen"
   ]
  },
  {
   "cell_type": "code",
   "execution_count": null,
   "metadata": {},
   "outputs": [
    {
     "data": {
      "text/html": [
       "<div>\n",
       "<style scoped>\n",
       "    .dataframe tbody tr th:only-of-type {\n",
       "        vertical-align: middle;\n",
       "    }\n",
       "\n",
       "    .dataframe tbody tr th {\n",
       "        vertical-align: top;\n",
       "    }\n",
       "\n",
       "    .dataframe thead th {\n",
       "        text-align: right;\n",
       "    }\n",
       "</style>\n",
       "<table border=\"1\" class=\"dataframe\">\n",
       "  <thead>\n",
       "    <tr style=\"text-align: right;\">\n",
       "      <th></th>\n",
       "      <th>Jahr_nbr</th>\n",
       "      <th>sum_AnzBestWir</th>\n",
       "    </tr>\n",
       "  </thead>\n",
       "  <tbody>\n",
       "    <tr>\n",
       "      <th>0</th>\n",
       "      <td>2023</td>\n",
       "      <td>447082</td>\n",
       "    </tr>\n",
       "    <tr>\n",
       "      <th>1</th>\n",
       "      <td>2022</td>\n",
       "      <td>443037</td>\n",
       "    </tr>\n",
       "    <tr>\n",
       "      <th>2</th>\n",
       "      <td>2021</td>\n",
       "      <td>436332</td>\n",
       "    </tr>\n",
       "  </tbody>\n",
       "</table>\n",
       "</div>"
      ],
      "text/plain": [
       "   Jahr_nbr  sum_AnzBestWir\n",
       "0      2023          447082\n",
       "1      2022          443037\n",
       "2      2021          436332"
      ]
     },
     "execution_count": 38,
     "metadata": {},
     "output_type": "execute_result"
    }
   ],
   "source": [
    "agg_jahr = data2betested.loc[data_min_date:data_max_date]\\\n",
    "    .groupby(['Jahr_nbr']) \\\n",
    "    .agg(sum_AnzBestWir=('BEW', 'sum')) \\\n",
    "    .sort_values('Jahr_nbr', ascending=False) \n",
    "agg_jahr.reset_index().head(3)"
   ]
  },
  {
   "cell_type": "code",
   "execution_count": null,
   "metadata": {},
   "outputs": [
    {
     "data": {
      "text/plain": [
       "array(['Stadt Zürich (ab 1934)'], dtype=object)"
      ]
     },
     "execution_count": 39,
     "metadata": {},
     "output_type": "execute_result"
    }
   ],
   "source": [
    "data2betested.RAUM_LANG.unique()"
   ]
  },
  {
   "cell_type": "code",
   "execution_count": null,
   "metadata": {},
   "outputs": [
    {
     "data": {
      "text/html": [
       "<div>\n",
       "<style scoped>\n",
       "    .dataframe tbody tr th:only-of-type {\n",
       "        vertical-align: middle;\n",
       "    }\n",
       "\n",
       "    .dataframe tbody tr th {\n",
       "        vertical-align: top;\n",
       "    }\n",
       "\n",
       "    .dataframe thead th {\n",
       "        text-align: right;\n",
       "    }\n",
       "</style>\n",
       "<table border=\"1\" class=\"dataframe\">\n",
       "  <thead>\n",
       "    <tr style=\"text-align: right;\">\n",
       "      <th></th>\n",
       "      <th>Jahr_nbr</th>\n",
       "      <th>RAUM_LANG</th>\n",
       "      <th>RAUM_CODE</th>\n",
       "      <th>sum_AnzBestWir</th>\n",
       "    </tr>\n",
       "  </thead>\n",
       "  <tbody>\n",
       "    <tr>\n",
       "      <th>0</th>\n",
       "      <td>2023</td>\n",
       "      <td>Stadt Zürich (ab 1934)</td>\n",
       "      <td>R30000</td>\n",
       "      <td>447082</td>\n",
       "    </tr>\n",
       "    <tr>\n",
       "      <th>1</th>\n",
       "      <td>2022</td>\n",
       "      <td>Stadt Zürich (ab 1934)</td>\n",
       "      <td>R30000</td>\n",
       "      <td>443037</td>\n",
       "    </tr>\n",
       "    <tr>\n",
       "      <th>2</th>\n",
       "      <td>2021</td>\n",
       "      <td>Stadt Zürich (ab 1934)</td>\n",
       "      <td>R30000</td>\n",
       "      <td>436332</td>\n",
       "    </tr>\n",
       "    <tr>\n",
       "      <th>3</th>\n",
       "      <td>2020</td>\n",
       "      <td>Stadt Zürich (ab 1934)</td>\n",
       "      <td>R30000</td>\n",
       "      <td>434736</td>\n",
       "    </tr>\n",
       "    <tr>\n",
       "      <th>4</th>\n",
       "      <td>2019</td>\n",
       "      <td>Stadt Zürich (ab 1934)</td>\n",
       "      <td>R30000</td>\n",
       "      <td>434008</td>\n",
       "    </tr>\n",
       "  </tbody>\n",
       "</table>\n",
       "</div>"
      ],
      "text/plain": [
       "   Jahr_nbr               RAUM_LANG RAUM_CODE  sum_AnzBestWir\n",
       "0      2023  Stadt Zürich (ab 1934)    R30000          447082\n",
       "1      2022  Stadt Zürich (ab 1934)    R30000          443037\n",
       "2      2021  Stadt Zürich (ab 1934)    R30000          436332\n",
       "3      2020  Stadt Zürich (ab 1934)    R30000          434736\n",
       "4      2019  Stadt Zürich (ab 1934)    R30000          434008"
      ]
     },
     "execution_count": 40,
     "metadata": {},
     "output_type": "execute_result"
    }
   ],
   "source": [
    "agg_Quarts = data2betested.loc[data_min_date:data_max_date]\\\n",
    "    .groupby(['Jahr_nbr','RAUM_LANG', 'RAUM_CODE']) \\\n",
    "    .agg(sum_AnzBestWir=('BEW', 'sum')) \\\n",
    "    .sort_values(['Jahr_nbr','RAUM_CODE'], ascending=[False, True]) \n",
    "agg_Quarts.reset_index().head(5)"
   ]
  },
  {
   "cell_type": "code",
   "execution_count": null,
   "metadata": {},
   "outputs": [
    {
     "data": {
      "text/plain": [
       "Index(['ZEIT_LANG', 'ZEIT_CODE', 'RAUM_LANG', 'RAUM_CODE', 'KON_LANG', 'KON_CODE', 'BEW',\n",
       "       'StichtagDatJahr_str', 'Jahr_nbr', 'RAUM_my_sort'],\n",
       "      dtype='object')"
      ]
     },
     "execution_count": 41,
     "metadata": {},
     "output_type": "execute_result"
    }
   ],
   "source": [
    "data2betested.columns"
   ]
  },
  {
   "cell_type": "markdown",
   "metadata": {},
   "source": [
    "### Zeitpunkte und Zeiträume abfragen\n",
    "\n",
    "A particular powerful feature of the Pandas DataFrame is its indexing capability that also works using time-based entities, such as dates and times. We have already created the index above, so let's put it to use."
   ]
  },
  {
   "cell_type": "code",
   "execution_count": null,
   "metadata": {},
   "outputs": [
    {
     "data": {
      "text/html": [
       "<div>\n",
       "<style scoped>\n",
       "    .dataframe tbody tr th:only-of-type {\n",
       "        vertical-align: middle;\n",
       "    }\n",
       "\n",
       "    .dataframe tbody tr th {\n",
       "        vertical-align: top;\n",
       "    }\n",
       "\n",
       "    .dataframe thead th {\n",
       "        text-align: right;\n",
       "    }\n",
       "</style>\n",
       "<table border=\"1\" class=\"dataframe\">\n",
       "  <thead>\n",
       "    <tr style=\"text-align: right;\">\n",
       "      <th></th>\n",
       "      <th>ZEIT_LANG</th>\n",
       "      <th>ZEIT_CODE</th>\n",
       "      <th>RAUM_LANG</th>\n",
       "      <th>RAUM_CODE</th>\n",
       "      <th>KON_LANG</th>\n",
       "      <th>KON_CODE</th>\n",
       "      <th>BEW</th>\n",
       "      <th>StichtagDatJahr_str</th>\n",
       "      <th>Jahr_nbr</th>\n",
       "      <th>RAUM_my_sort</th>\n",
       "    </tr>\n",
       "    <tr>\n",
       "      <th>StichtagDatJahr</th>\n",
       "      <th></th>\n",
       "      <th></th>\n",
       "      <th></th>\n",
       "      <th></th>\n",
       "      <th></th>\n",
       "      <th></th>\n",
       "      <th></th>\n",
       "      <th></th>\n",
       "      <th></th>\n",
       "      <th></th>\n",
       "    </tr>\n",
       "  </thead>\n",
       "  <tbody>\n",
       "    <tr>\n",
       "      <th>2023-12-31</th>\n",
       "      <td>2023-12-31</td>\n",
       "      <td>Z31122023</td>\n",
       "      <td>Stadt Zürich (ab 1934)</td>\n",
       "      <td>R30000</td>\n",
       "      <td>Evangelisch-reformierte Kirche</td>\n",
       "      <td>KON1001</td>\n",
       "      <td>74269</td>\n",
       "      <td>2023-12-31</td>\n",
       "      <td>2023</td>\n",
       "      <td>31122023</td>\n",
       "    </tr>\n",
       "    <tr>\n",
       "      <th>2023-12-31</th>\n",
       "      <td>2023-12-31</td>\n",
       "      <td>Z31122023</td>\n",
       "      <td>Stadt Zürich (ab 1934)</td>\n",
       "      <td>R30000</td>\n",
       "      <td>Römisch-katholische Kirche</td>\n",
       "      <td>KON2001</td>\n",
       "      <td>97639</td>\n",
       "      <td>2023-12-31</td>\n",
       "      <td>2023</td>\n",
       "      <td>31122023</td>\n",
       "    </tr>\n",
       "  </tbody>\n",
       "</table>\n",
       "</div>"
      ],
      "text/plain": [
       "                 ZEIT_LANG  ZEIT_CODE               RAUM_LANG RAUM_CODE  \\\n",
       "StichtagDatJahr                                                           \n",
       "2023-12-31      2023-12-31  Z31122023  Stadt Zürich (ab 1934)    R30000   \n",
       "2023-12-31      2023-12-31  Z31122023  Stadt Zürich (ab 1934)    R30000   \n",
       "\n",
       "                                       KON_LANG KON_CODE   BEW StichtagDatJahr_str  Jahr_nbr  \\\n",
       "StichtagDatJahr                                                                                \n",
       "2023-12-31       Evangelisch-reformierte Kirche  KON1001 74269          2023-12-31      2023   \n",
       "2023-12-31           Römisch-katholische Kirche  KON2001 97639          2023-12-31      2023   \n",
       "\n",
       "                 RAUM_my_sort  \n",
       "StichtagDatJahr                \n",
       "2023-12-31           31122023  \n",
       "2023-12-31           31122023  "
      ]
     },
     "execution_count": 42,
     "metadata": {},
     "output_type": "execute_result"
    }
   ],
   "source": [
    "data2betested.loc[data_max_date].head(2)\n",
    "#data2betested.loc[\"2021-10-31\":\"2021-11-30\"].head(2)"
   ]
  },
  {
   "cell_type": "markdown",
   "metadata": {},
   "source": [
    "### Visualisierungen nach Zeitausschnitten"
   ]
  },
  {
   "cell_type": "markdown",
   "metadata": {},
   "source": [
    "#### Entwicklung Wohnbevölkerung seit ..."
   ]
  },
  {
   "cell_type": "code",
   "execution_count": null,
   "metadata": {},
   "outputs": [
    {
     "data": {
      "text/html": [
       "<div>\n",
       "<style scoped>\n",
       "    .dataframe tbody tr th:only-of-type {\n",
       "        vertical-align: middle;\n",
       "    }\n",
       "\n",
       "    .dataframe tbody tr th {\n",
       "        vertical-align: top;\n",
       "    }\n",
       "\n",
       "    .dataframe thead th {\n",
       "        text-align: right;\n",
       "    }\n",
       "</style>\n",
       "<table border=\"1\" class=\"dataframe\">\n",
       "  <thead>\n",
       "    <tr style=\"text-align: right;\">\n",
       "      <th></th>\n",
       "      <th>StichtagDatJahr</th>\n",
       "      <th>RAUM_LANG</th>\n",
       "      <th>sum_WBev</th>\n",
       "    </tr>\n",
       "  </thead>\n",
       "  <tbody>\n",
       "    <tr>\n",
       "      <th>0</th>\n",
       "      <td>2023-12-31</td>\n",
       "      <td>Stadt Zürich (ab 1934)</td>\n",
       "      <td>447082</td>\n",
       "    </tr>\n",
       "  </tbody>\n",
       "</table>\n",
       "</div>"
      ],
      "text/plain": [
       "  StichtagDatJahr               RAUM_LANG  sum_WBev\n",
       "0      2023-12-31  Stadt Zürich (ab 1934)    447082"
      ]
     },
     "execution_count": 43,
     "metadata": {},
     "output_type": "execute_result"
    }
   ],
   "source": [
    "myAgg1 = data2betested.loc[data_min_date:data_max_date]\\\n",
    "    .groupby(['StichtagDatJahr','RAUM_LANG']) \\\n",
    "    .agg(sum_WBev=('BEW', 'sum')) \\\n",
    "    .sort_values('StichtagDatJahr', ascending=False) \n",
    "\n",
    "myAgg1.reset_index().head(1)"
   ]
  },
  {
   "cell_type": "code",
   "execution_count": null,
   "metadata": {},
   "outputs": [],
   "source": [
    "grafik1 = mypy_dv.plot_altair_multiline_highlight(\n",
    "    data = myAgg1.reset_index().query('sum_WBev>3')\n",
    "    , x = 'StichtagDatJahr:T'\n",
    "    , y = 'sum_WBev:Q'\n",
    "    , x_beschriftung = 'Jahr'\n",
    "    , y_beschriftung = 'Anz. Personen'\n",
    "    , warning_status  = \"ignore\"\n",
    "    , category=''\n",
    "    , category_beschriftung='legende:'\n",
    "    , myTitle=\"Bevölkerungsentwicklung, seit \"+data_min_date    \n",
    ")\n",
    "grafik1"
   ]
  },
  {
   "cell_type": "code",
   "execution_count": null,
   "metadata": {},
   "outputs": [
    {
     "name": "stdout",
     "output_type": "stream",
     "text": [
      "grafiken_testing/bev316od3160alt1_total_2024-05-28.png\n"
     ]
    }
   ],
   "source": [
    "grafic_name = package_name+\"_alt1_total\"+date_today+\".png\"\n",
    "print('grafiken_testing/'+grafic_name)\n",
    "\n",
    "grafik1.save('grafiken_testing/'+grafic_name)"
   ]
  },
  {
   "cell_type": "markdown",
   "metadata": {
    "tags": []
   },
   "source": [
    "#### Barcharts mit Seaborn"
   ]
  },
  {
   "cell_type": "code",
   "execution_count": null,
   "metadata": {},
   "outputs": [
    {
     "data": {
      "text/html": [
       "<div>\n",
       "<style scoped>\n",
       "    .dataframe tbody tr th:only-of-type {\n",
       "        vertical-align: middle;\n",
       "    }\n",
       "\n",
       "    .dataframe tbody tr th {\n",
       "        vertical-align: top;\n",
       "    }\n",
       "\n",
       "    .dataframe thead th {\n",
       "        text-align: right;\n",
       "    }\n",
       "</style>\n",
       "<table border=\"1\" class=\"dataframe\">\n",
       "  <thead>\n",
       "    <tr style=\"text-align: right;\">\n",
       "      <th></th>\n",
       "      <th>StichtagDatJahr</th>\n",
       "      <th>Jahr_nbr</th>\n",
       "      <th>RAUM_LANG</th>\n",
       "      <th>RAUM_CODE</th>\n",
       "      <th>KON_LANG</th>\n",
       "      <th>KON_CODE</th>\n",
       "      <th>sum_WBev</th>\n",
       "    </tr>\n",
       "  </thead>\n",
       "  <tbody>\n",
       "    <tr>\n",
       "      <th>0</th>\n",
       "      <td>2000-12-31</td>\n",
       "      <td>2000</td>\n",
       "      <td>Stadt Zürich (ab 1934)</td>\n",
       "      <td>R30000</td>\n",
       "      <td>Andere, ohne, unbekannt</td>\n",
       "      <td>KON9900</td>\n",
       "      <td>124559</td>\n",
       "    </tr>\n",
       "    <tr>\n",
       "      <th>1</th>\n",
       "      <td>2000-12-31</td>\n",
       "      <td>2000</td>\n",
       "      <td>Stadt Zürich (ab 1934)</td>\n",
       "      <td>R30000</td>\n",
       "      <td>Evangelisch-reformierte Kirche</td>\n",
       "      <td>KON1001</td>\n",
       "      <td>112513</td>\n",
       "    </tr>\n",
       "    <tr>\n",
       "      <th>2</th>\n",
       "      <td>2000-12-31</td>\n",
       "      <td>2000</td>\n",
       "      <td>Stadt Zürich (ab 1934)</td>\n",
       "      <td>R30000</td>\n",
       "      <td>Römisch-katholische Kirche</td>\n",
       "      <td>KON2001</td>\n",
       "      <td>123908</td>\n",
       "    </tr>\n",
       "  </tbody>\n",
       "</table>\n",
       "</div>"
      ],
      "text/plain": [
       "  StichtagDatJahr  Jahr_nbr               RAUM_LANG RAUM_CODE                        KON_LANG  \\\n",
       "0      2000-12-31      2000  Stadt Zürich (ab 1934)    R30000         Andere, ohne, unbekannt   \n",
       "1      2000-12-31      2000  Stadt Zürich (ab 1934)    R30000  Evangelisch-reformierte Kirche   \n",
       "2      2000-12-31      2000  Stadt Zürich (ab 1934)    R30000      Römisch-katholische Kirche   \n",
       "\n",
       "  KON_CODE  sum_WBev  \n",
       "0  KON9900    124559  \n",
       "1  KON1001    112513  \n",
       "2  KON2001    123908  "
      ]
     },
     "execution_count": 46,
     "metadata": {},
     "output_type": "execute_result"
    }
   ],
   "source": [
    "#myAgg = data2betested.loc[\"2008-11-30\":\"2021-10-31\"]\n",
    "myAggBar = data2betested.loc[\"2000\":data_max_date]\\\n",
    "    .groupby(['StichtagDatJahr','Jahr_nbr', 'RAUM_LANG', 'RAUM_CODE','KON_LANG', 'KON_CODE']) \\\n",
    "    .agg(sum_WBev=('BEW', 'sum')) \\\n",
    "    .sort_values('StichtagDatJahr', ascending=True) \n",
    "\n",
    "myAggBar.reset_index().head(3)"
   ]
  },
  {
   "cell_type": "code",
   "execution_count": null,
   "metadata": {},
   "outputs": [],
   "source": [
    "#Stile for the following sns graphs\n",
    "sns.set_theme(style=\"whitegrid\")"
   ]
  },
  {
   "cell_type": "code",
   "execution_count": null,
   "metadata": {},
   "outputs": [
    {
     "data": {
      "text/plain": [
       "<seaborn.axisgrid.FacetGrid at 0x1aa92b1c550>"
      ]
     },
     "execution_count": 49,
     "metadata": {},
     "output_type": "execute_result"
    },
    {
     "data": {
      "image/png": "[encoded data removed]",
      "text/plain": [
       "<Figure size 1264.12x500 with 1 Axes>"
      ]
     },
     "metadata": {},
     "output_type": "display_data"
    }
   ],
   "source": [
    "#sns.color_palette(\"flare\", as_cmap=True)\n",
    "myHist = sns.catplot(x=\"Jahr_nbr\"\n",
    "            , y=\"sum_WBev\"\n",
    "            , hue=\"KON_LANG\"\n",
    "            , kind=\"bar\" #boxen, violin, --> wenn die aggregation nicht genau den werten in der grafik entspricht\n",
    "            , palette=\"pastel\" #, color=\"green\"\n",
    "            , height=5\n",
    "            , aspect=2\n",
    "            , order=None, legend_out=True\n",
    "            ,data=myAggBar.reset_index().sort_values(\"RAUM_CODE\", ascending=True)\n",
    "           )\n",
    "myHist.set_xlabels('Quartiere', fontsize=11) # not set_label\n",
    "myHist.set_ylabels('Anz. Pers.', fontsize=11)\n"
   ]
  },
  {
   "cell_type": "markdown",
   "metadata": {},
   "source": [
    "#### Faced Grids"
   ]
  },
  {
   "cell_type": "code",
   "execution_count": null,
   "metadata": {},
   "outputs": [
    {
     "data": {
      "text/plain": [
       "Index(['ZEIT_LANG', 'ZEIT_CODE', 'RAUM_LANG', 'RAUM_CODE', 'KON_LANG', 'KON_CODE', 'BEW',\n",
       "       'StichtagDatJahr_str', 'Jahr_nbr', 'RAUM_my_sort'],\n",
       "      dtype='object')"
      ]
     },
     "execution_count": 50,
     "metadata": {},
     "output_type": "execute_result"
    }
   ],
   "source": [
    "data2betested.columns"
   ]
  },
  {
   "cell_type": "code",
   "execution_count": null,
   "metadata": {},
   "outputs": [
    {
     "data": {
      "text/html": [
       "<div>\n",
       "<style scoped>\n",
       "    .dataframe tbody tr th:only-of-type {\n",
       "        vertical-align: middle;\n",
       "    }\n",
       "\n",
       "    .dataframe tbody tr th {\n",
       "        vertical-align: top;\n",
       "    }\n",
       "\n",
       "    .dataframe thead th {\n",
       "        text-align: right;\n",
       "    }\n",
       "</style>\n",
       "<table border=\"1\" class=\"dataframe\">\n",
       "  <thead>\n",
       "    <tr style=\"text-align: right;\">\n",
       "      <th></th>\n",
       "      <th></th>\n",
       "      <th></th>\n",
       "      <th></th>\n",
       "      <th></th>\n",
       "      <th></th>\n",
       "      <th></th>\n",
       "      <th>sum_WBev</th>\n",
       "    </tr>\n",
       "    <tr>\n",
       "      <th>Jahr_nbr</th>\n",
       "      <th>StichtagDatJahr_str</th>\n",
       "      <th>RAUM_LANG</th>\n",
       "      <th>RAUM_CODE</th>\n",
       "      <th>RAUM_my_sort</th>\n",
       "      <th>KON_LANG</th>\n",
       "      <th>KON_CODE</th>\n",
       "      <th></th>\n",
       "    </tr>\n",
       "  </thead>\n",
       "  <tbody>\n",
       "    <tr>\n",
       "      <th>1900</th>\n",
       "      <th>1900-12-31</th>\n",
       "      <th>Stadt Zürich (ab 1934)</th>\n",
       "      <th>R30000</th>\n",
       "      <th>31121900</th>\n",
       "      <th>Evangelisch-reformierte Kirche</th>\n",
       "      <th>KON1001</th>\n",
       "      <td>116555</td>\n",
       "    </tr>\n",
       "    <tr>\n",
       "      <th>1910</th>\n",
       "      <th>1910-12-31</th>\n",
       "      <th>Stadt Zürich (ab 1934)</th>\n",
       "      <th>R30000</th>\n",
       "      <th>31121910</th>\n",
       "      <th>Evangelisch-reformierte Kirche</th>\n",
       "      <th>KON1001</th>\n",
       "      <td>139649</td>\n",
       "    </tr>\n",
       "  </tbody>\n",
       "</table>\n",
       "</div>"
      ],
      "text/plain": [
       "                                                                                                                    sum_WBev\n",
       "Jahr_nbr StichtagDatJahr_str RAUM_LANG              RAUM_CODE RAUM_my_sort KON_LANG                       KON_CODE          \n",
       "1900     1900-12-31          Stadt Zürich (ab 1934) R30000    31121900     Evangelisch-reformierte Kirche KON1001     116555\n",
       "1910     1910-12-31          Stadt Zürich (ab 1934) R30000    31121910     Evangelisch-reformierte Kirche KON1001     139649"
      ]
     },
     "execution_count": 63,
     "metadata": {},
     "output_type": "execute_result"
    }
   ],
   "source": [
    "myFG1 = data2betested.loc[data_min_date:data_max_date]\\\n",
    "    .groupby(['Jahr_nbr','StichtagDatJahr_str', 'RAUM_LANG', 'RAUM_CODE', 'RAUM_my_sort', 'KON_LANG', 'KON_CODE']) \\\n",
    "    .agg(sum_WBev=('BEW', 'sum')) \\\n",
    "    .sort_values('RAUM_my_sort', ascending=True) \n",
    "\n",
    "myFG1.head(2)"
   ]
  },
  {
   "cell_type": "code",
   "execution_count": null,
   "metadata": {},
   "outputs": [],
   "source": [
    "faced_grid1 = mypy_dv.plot_sns_facetgrid(\n",
    "    data = myFG1.reset_index()\n",
    "    , col = \"KON_LANG\"\n",
    "    , hue = \"KON_LANG\"\n",
    "    , col_wrap = 4\n",
    "    , height = 3\n",
    "    , grafiktyp = sns.lineplot\n",
    "    , x = \"Jahr_nbr\"\n",
    "    , xlabel = ''\n",
    "    , y = \"sum_WBev\"\n",
    "    , ylabel= \"Anzahl Personen\"\n",
    "    , warning_status =\"always\"\n",
    "    , myTitle=\"Entwicklung der Konfessioen, seit \"+str(data2betested.index.year.min())\n",
    ")\n",
    "\n",
    "faced_grid1 "
   ]
  },
  {
   "cell_type": "code",
   "execution_count": null,
   "metadata": {},
   "outputs": [
    {
     "data": {
      "text/plain": [
       "<seaborn.axisgrid.FacetGrid at 0x1aa92687f50>"
      ]
     },
     "execution_count": 65,
     "metadata": {},
     "output_type": "execute_result"
    },
    {
     "data": {
      "image/png": "[encoded data removed]",
      "text/plain": [
       "<Figure size 1464.12x300 with 3 Axes>"
      ]
     },
     "metadata": {},
     "output_type": "display_data"
    }
   ],
   "source": [
    "grafic_name = package_name+\"_fg_konf_zeit_\"+date_today+\".png\"\n",
    "\n",
    "print('grafiken_testing/'+grafic_name)\n",
    "\n",
    "\n",
    "faced_grid1.savefig('grafiken_testing/'+grafic_name)"
   ]
  },
  {
   "cell_type": "markdown",
   "metadata": {},
   "source": [
    "Hinweis:\n",
    "Die Warnings kommen daher, dass die sehr alten Werte zu inf (also NaT) definiert wurden...\n",
    "\n"
   ]
  },
  {
   "cell_type": "code",
   "execution_count": null,
   "metadata": {},
   "outputs": [],
   "source": [
    "data2betested.replace([float('inf'), float('-inf')], pd.NA, inplace=True)"
   ]
  },
  {
   "cell_type": "code",
   "execution_count": null,
   "metadata": {},
   "outputs": [],
   "source": [
    "mypy_dv.plot_sns_facetgrid(data, col, hue, col_wrap, height, grafiktyp, x, xlabel, y, ylabel, warning_status)"
   ]
  },
  {
   "cell_type": "markdown",
   "metadata": {},
   "source": [
    "## ---------------------- hier Plausi beendet\n",
    "\n",
    "Übersicht zu LOSD-Jobs:\n",
    "[Sharepoint](https://kollaboration.intranet.stzh.ch/orga/ssz-produkte/Lists/SASA_Outputs/OGD%20Metadaten.aspx#InplviewHasheb69a2c0-ed94-4ef2-91a5-3b19f038e442=FilterField1%3DMetadaten%255Fx002d%255FPublikations%255Fx00-FilterValue1%3DINT)"
   ]
  }
 ],
 "metadata": {
  "kernelspec": {
   "display_name": "Python 3 (ipykernel)",
   "language": "python",
   "name": "python3"
  },
  "language_info": {
   "codemirror_mode": {
    "name": "ipython",
    "version": 3
   },
   "file_extension": ".py",
   "mimetype": "text/x-python",
   "name": "python",
   "nbconvert_exporter": "python",
   "pygments_lexer": "ipython3",
   "version": "3.11.8"
  }
 },
 "nbformat": 4,
 "nbformat_minor": 4
}
