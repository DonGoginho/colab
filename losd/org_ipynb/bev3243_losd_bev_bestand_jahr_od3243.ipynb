{
 "cells": [
  {
   "attachments": {},
   "cell_type": "markdown",
   "metadata": {},
   "source": [
    "# Testing LOSD\n",
    "### Bevölkerung, seit 1901\n",
    "\n",
    "Wirtschaftliche Wohnbevölkerung der Stadt Zürich nach Jahr, seit 1901.\n",
    "\n",
    "https://data.integ.stadt-zuerich.ch/dataset/bev324od3243\n",
    "\n",
    "Datum: 15.03.2024\n",
    "\n",
    "### Colab\n",
    "Mit Colab kann das Jupyter-Notebook interaktiv im Browser gestartet werden. \n",
    "\n",
    "Klicke auf den Button:\n",
    "[![Open In Colab](https://colab.research.google.com/assets/colab-badge.svg)](https://github.com/DonGoginho/colab/blob/main/losd/3243_losd_bev_bestand_jahr_od3243.ipynb)\n"
   ]
  },
  {
   "cell_type": "markdown",
   "metadata": {},
   "source": [
    "### Importiere die notwendigen Packages"
   ]
  },
  {
   "cell_type": "code",
   "execution_count": 49,
   "metadata": {},
   "outputs": [
    {
     "name": "stdout",
     "output_type": "stream",
     "text": [
      "6.29.3\n",
      "Python-Version: 3.11.8 | packaged by Anaconda, Inc. | (main, Feb 26 2024, 21:34:05) [MSC v.1916 64 bit (AMD64)]\n",
      "Python-Implementierung: CPython\n",
      "Python-Build: ('main', 'Feb 26 2024 21:34:05')\n",
      "Python-Compiler: MSC v.1916 64 bit (AMD64)\n"
     ]
    }
   ],
   "source": [
    "import ipykernel\n",
    "print(ipykernel.__version__)\n",
    "\n",
    "import sys\n",
    "import platform\n",
    "print(\"Python-Version:\", sys.version)\n",
    "print(\"Python-Implementierung:\", platform.python_implementation())\n",
    "print(\"Python-Build:\", platform.python_build())\n",
    "print(\"Python-Compiler:\", platform.python_compiler())"
   ]
  },
  {
   "cell_type": "code",
   "execution_count": 50,
   "metadata": {},
   "outputs": [],
   "source": [
    "#%pip install altair datetime folium geopandas io requests matplotlib numpy pandas seaborn plotly"
   ]
  },
  {
   "cell_type": "code",
   "execution_count": 51,
   "metadata": {},
   "outputs": [],
   "source": [
    "import altair as alt\n",
    "import datetime\n",
    "import folium \n",
    "import geopandas as gpd\n",
    "import io\n",
    "from IPython.display import Markdown as md\n",
    "import matplotlib.pyplot as plt\n",
    "import numpy as np\n",
    "import pandas as pd\n",
    "#import pivottablejs\n",
    "#from pivottablejs import pivot_ui\n",
    "import plotly.express as px\n",
    "import requests\n",
    "import seaborn as sns"
   ]
  },
  {
   "cell_type": "markdown",
   "metadata": {},
   "source": [
    "Importiere die eigenen Funktionen, die unter ../0_scripts abegelegt sind:"
   ]
  },
  {
   "cell_type": "code",
   "execution_count": 52,
   "metadata": {},
   "outputs": [],
   "source": [
    "import sys\n",
    "sys.path.append('../0_scripts')\n",
    "\n",
    "import my_py_dataviz_functions as mypy_dv\n",
    "import my_py_dataloading_functions as mypy_dl"
   ]
  },
  {
   "cell_type": "code",
   "execution_count": 53,
   "metadata": {},
   "outputs": [],
   "source": [
    "SSL_VERIFY = False\n",
    "# evtl. SSL_VERIFY auf False setzen wenn die Verbindung zu https://www.gemeinderat-zuerich.ch nicht klappt (z.B. wegen Proxy)\n",
    "# Um die SSL Verifikation auszustellen, bitte die nächste Zeile einkommentieren (\"#\" entfernen)\n",
    "# SSL_VERIFY = False"
   ]
  },
  {
   "cell_type": "code",
   "execution_count": 54,
   "metadata": {},
   "outputs": [],
   "source": [
    "if not SSL_VERIFY:\n",
    "    import urllib3\n",
    "    urllib3.disable_warnings()"
   ]
  },
  {
   "cell_type": "markdown",
   "metadata": {},
   "source": [
    "### Settings\n",
    "Definiere Settings. \n",
    "Hier das Zahlenformat von Float-Werten (z.B. *'{:,.2f}'.format* mit Komma als Tausenderzeichen)"
   ]
  },
  {
   "cell_type": "code",
   "execution_count": 55,
   "metadata": {},
   "outputs": [],
   "source": [
    "#pd.options.display.float_format = lambda x : '{:,.1f}'.format(x) if (np.isnan(x) | np.isinf(x)) else '{:,.0f}'.format(x) if int(x) == x else '{:,.1f}'.format(x)\n",
    "pd.options.display.float_format = '{:.0f}'.format\n",
    "pd.set_option('display.width', 100)\n",
    "pd.set_option('display.max_columns', 15)"
   ]
  },
  {
   "cell_type": "markdown",
   "metadata": {},
   "source": [
    "#### Zeitvariabeln"
   ]
  },
  {
   "cell_type": "code",
   "execution_count": 56,
   "metadata": {},
   "outputs": [],
   "source": [
    "#Zeitvariabeln als Strings:\n",
    "now = datetime.date.today()\n",
    "year_today = now.strftime(\"%Y\")\n",
    "date_today = \"_\"+now.strftime(\"%Y-%m-%d\")\n",
    "\n",
    "#Zeitvariabeln als Integers:\n",
    "int_times = now.timetuple()\n",
    "aktuellesJahr = int_times[0]\n",
    "aktuellerMonat = int_times[1]\n",
    "selectedMonat = int_times[1]-2\n",
    "#print(aktuellesJahr, aktuellerMonat,'datenstand: ', selectedMonat, int_times)"
   ]
  },
  {
   "cell_type": "markdown",
   "metadata": {},
   "source": [
    "### Daten importieren und Metadaten checken\n",
    "\n",
    "- status: int / prod\n",
    "- data_source: web / ld / dropzone\n",
    "- datums_attr: beschreibt das oder die Datumsfelder, die als Datum geparsed werden sollen. Falls es keines gibt: None"
   ]
  },
  {
   "cell_type": "markdown",
   "metadata": {},
   "source": []
  },
  {
   "cell_type": "markdown",
   "metadata": {},
   "source": [
    "**BITTE HIER ANPASSEN**"
   ]
  },
  {
   "cell_type": "code",
   "execution_count": 57,
   "metadata": {},
   "outputs": [],
   "source": [
    "package_name = \"bev324od3243\""
   ]
  },
  {
   "cell_type": "code",
   "execution_count": 58,
   "metadata": {
    "tags": []
   },
   "outputs": [
    {
     "name": "stdout",
     "output_type": "stream",
     "text": [
      "fp lautet:https://ld.integ.stadt-zuerich.ch/statistics/view/BEV324OD3243/observation?format=csv\n"
     ]
    },
    {
     "data": {
      "text/markdown": [
       " **Überprüfe die Metadaten:**"
      ],
      "text/plain": [
       "<IPython.core.display.Markdown object>"
      ]
     },
     "metadata": {},
     "output_type": "display_data"
    },
    {
     "data": {
      "text/markdown": [
       " **Dataset auf INTEG-Datakatalog:** Link https://data.integ.stadt-zuerich.ch/dataset/bev324od3243 "
      ],
      "text/plain": [
       "<IPython.core.display.Markdown object>"
      ]
     },
     "metadata": {},
     "output_type": "display_data"
    },
    {
     "data": {
      "text/markdown": [
       " **View auf INTEG-LD:** Link https://ld.integ.stadt-zuerich.ch/statistics/view/BEV324OD3243 "
      ],
      "text/plain": [
       "<IPython.core.display.Markdown object>"
      ]
     },
     "metadata": {},
     "output_type": "display_data"
    },
    {
     "name": "stdout",
     "output_type": "stream",
     "text": [
      "data_source: web\n"
     ]
    }
   ],
   "source": [
    "data2betested = mypy_dl.load_data(\n",
    "    status = 'int'\n",
    "    , data_source = 'ld'\n",
    "    , package_name = package_name\n",
    "    , dataset_name = \"bev324od3243.csv\"    \n",
    "    , datums_attr = ['ZEIT_LANG']\n",
    "    )"
   ]
  },
  {
   "cell_type": "code",
   "execution_count": 59,
   "metadata": {},
   "outputs": [
    {
     "data": {
      "application/vnd.microsoft.datawrangler.viewer.v0+json": {
       "columns": [
        {
         "name": "index",
         "rawType": "int64",
         "type": "integer"
        },
        {
         "name": "ZEIT_LANG",
         "rawType": "datetime64[ns]",
         "type": "datetime"
        },
        {
         "name": "ZEIT_CODE",
         "rawType": "object",
         "type": "string"
        },
        {
         "name": "RAUM_LANG",
         "rawType": "object",
         "type": "string"
        },
        {
         "name": "RAUM_CODE",
         "rawType": "object",
         "type": "string"
        },
        {
         "name": "BEW",
         "rawType": "float64",
         "type": "float"
        }
       ],
       "conversionMethod": "pd.DataFrame",
       "ref": "ec7b9fc9-ae8c-45c8-9425-b131d85a16f6",
       "rows": [
        [
         "0",
         "1928-12-31 00:00:00",
         "Z31121928",
         "Stadt nach 1. Eingemeindung 1893 (1893-1933)",
         "R20000",
         "227081.0"
        ],
        [
         "1",
         "1966-12-31 00:00:00",
         "Z31121966",
         "Stadt Zürich (ab 1934)",
         "R30000",
         "433234.0"
        ]
       ],
       "shape": {
        "columns": 5,
        "rows": 2
       }
      },
      "text/html": [
       "<div>\n",
       "<style scoped>\n",
       "    .dataframe tbody tr th:only-of-type {\n",
       "        vertical-align: middle;\n",
       "    }\n",
       "\n",
       "    .dataframe tbody tr th {\n",
       "        vertical-align: top;\n",
       "    }\n",
       "\n",
       "    .dataframe thead th {\n",
       "        text-align: right;\n",
       "    }\n",
       "</style>\n",
       "<table border=\"1\" class=\"dataframe\">\n",
       "  <thead>\n",
       "    <tr style=\"text-align: right;\">\n",
       "      <th></th>\n",
       "      <th>ZEIT_LANG</th>\n",
       "      <th>ZEIT_CODE</th>\n",
       "      <th>RAUM_LANG</th>\n",
       "      <th>RAUM_CODE</th>\n",
       "      <th>BEW</th>\n",
       "    </tr>\n",
       "  </thead>\n",
       "  <tbody>\n",
       "    <tr>\n",
       "      <th>0</th>\n",
       "      <td>1928-12-31</td>\n",
       "      <td>Z31121928</td>\n",
       "      <td>Stadt nach 1. Eingemeindung 1893 (1893-1933)</td>\n",
       "      <td>R20000</td>\n",
       "      <td>227081</td>\n",
       "    </tr>\n",
       "    <tr>\n",
       "      <th>1</th>\n",
       "      <td>1966-12-31</td>\n",
       "      <td>Z31121966</td>\n",
       "      <td>Stadt Zürich (ab 1934)</td>\n",
       "      <td>R30000</td>\n",
       "      <td>433234</td>\n",
       "    </tr>\n",
       "  </tbody>\n",
       "</table>\n",
       "</div>"
      ],
      "text/plain": [
       "   ZEIT_LANG  ZEIT_CODE                                     RAUM_LANG RAUM_CODE    BEW\n",
       "0 1928-12-31  Z31121928  Stadt nach 1. Eingemeindung 1893 (1893-1933)    R20000 227081\n",
       "1 1966-12-31  Z31121966                        Stadt Zürich (ab 1934)    R30000 433234"
      ]
     },
     "execution_count": 59,
     "metadata": {},
     "output_type": "execute_result"
    }
   ],
   "source": [
    "data2betested.head(2)"
   ]
  },
  {
   "cell_type": "markdown",
   "metadata": {},
   "source": [
    "Berechne weitere Attribute falls notwendig"
   ]
  },
  {
   "cell_type": "markdown",
   "metadata": {},
   "source": [
    "`ACHTUNG`!\n",
    "\n",
    "In Pandas kann `datetime` Daten ab dem Jahr **1677** speichern. Das liegt daran, dass Pandas datetime64[ns] auf der Basis von NumPy verwendet, das wiederum den Datentyp datetime64 bereitstellt, der auf dem Standard des Proleptischen Gregorianischen Kalenders basiert. Dieser Kalender geht bis zum Jahr 1677 zurück.\n",
    "\n",
    "Alternative: Abfangen des Problems mit Funktion:\n",
    "\n",
    "-----------------------------------------------"
   ]
  },
  {
   "cell_type": "code",
   "execution_count": 60,
   "metadata": {},
   "outputs": [],
   "source": [
    "def convert_to_datetime(date_str):\n",
    "    try:\n",
    "        date = pd.to_datetime(date_str)\n",
    "        if date.year < 1677:\n",
    "            raise ValueError(\"Datum liegt außerhalb des gültigen Bereichs für datetime-Objekte.\")\n",
    "        return date\n",
    "    except ValueError:\n",
    "        return pd.NaT  # Falls ein ungültiges Datum übergeben wurde, gib NaT (Not a Timestamp) zurück\n"
   ]
  },
  {
   "cell_type": "markdown",
   "metadata": {},
   "source": [
    "-------------------------------------------------------"
   ]
  },
  {
   "cell_type": "code",
   "execution_count": 61,
   "metadata": {},
   "outputs": [
    {
     "data": {
      "application/vnd.microsoft.datawrangler.viewer.v0+json": {
       "columns": [
        {
         "name": "index",
         "rawType": "int64",
         "type": "integer"
        },
        {
         "name": "ZEIT_LANG",
         "rawType": "datetime64[ns]",
         "type": "datetime"
        },
        {
         "name": "ZEIT_CODE",
         "rawType": "object",
         "type": "string"
        },
        {
         "name": "RAUM_LANG",
         "rawType": "object",
         "type": "string"
        },
        {
         "name": "RAUM_CODE",
         "rawType": "object",
         "type": "string"
        },
        {
         "name": "BEW",
         "rawType": "float64",
         "type": "float"
        },
        {
         "name": "StichtagDatJahr",
         "rawType": "datetime64[ns]",
         "type": "datetime"
        },
        {
         "name": "StichtagDatJahr_str",
         "rawType": "object",
         "type": "string"
        },
        {
         "name": "Jahr_nbr",
         "rawType": "int32",
         "type": "integer"
        },
        {
         "name": "RAUM_my_sort",
         "rawType": "int32",
         "type": "integer"
        }
       ],
       "conversionMethod": "pd.DataFrame",
       "ref": "25226c8a-b8f4-47bd-94a8-216d7f5a818a",
       "rows": [
        [
         "117",
         "2023-12-31 00:00:00",
         "Z31122023",
         "Stadt Zürich (ab 1934)",
         "R30000",
         "447082.0",
         "2023-12-31 00:00:00",
         "2023-12-31",
         "2023",
         "30000"
        ],
        [
         "60",
         "2022-12-31 00:00:00",
         "Z31122022",
         "Stadt Zürich (ab 1934)",
         "R30000",
         "443037.0",
         "2022-12-31 00:00:00",
         "2022-12-31",
         "2022",
         "30000"
        ]
       ],
       "shape": {
        "columns": 9,
        "rows": 2
       }
      },
      "text/html": [
       "<div>\n",
       "<style scoped>\n",
       "    .dataframe tbody tr th:only-of-type {\n",
       "        vertical-align: middle;\n",
       "    }\n",
       "\n",
       "    .dataframe tbody tr th {\n",
       "        vertical-align: top;\n",
       "    }\n",
       "\n",
       "    .dataframe thead th {\n",
       "        text-align: right;\n",
       "    }\n",
       "</style>\n",
       "<table border=\"1\" class=\"dataframe\">\n",
       "  <thead>\n",
       "    <tr style=\"text-align: right;\">\n",
       "      <th></th>\n",
       "      <th>ZEIT_LANG</th>\n",
       "      <th>ZEIT_CODE</th>\n",
       "      <th>RAUM_LANG</th>\n",
       "      <th>RAUM_CODE</th>\n",
       "      <th>BEW</th>\n",
       "      <th>StichtagDatJahr</th>\n",
       "      <th>StichtagDatJahr_str</th>\n",
       "      <th>Jahr_nbr</th>\n",
       "      <th>RAUM_my_sort</th>\n",
       "    </tr>\n",
       "  </thead>\n",
       "  <tbody>\n",
       "    <tr>\n",
       "      <th>117</th>\n",
       "      <td>2023-12-31</td>\n",
       "      <td>Z31122023</td>\n",
       "      <td>Stadt Zürich (ab 1934)</td>\n",
       "      <td>R30000</td>\n",
       "      <td>447082</td>\n",
       "      <td>2023-12-31</td>\n",
       "      <td>2023-12-31</td>\n",
       "      <td>2023</td>\n",
       "      <td>30000</td>\n",
       "    </tr>\n",
       "    <tr>\n",
       "      <th>60</th>\n",
       "      <td>2022-12-31</td>\n",
       "      <td>Z31122022</td>\n",
       "      <td>Stadt Zürich (ab 1934)</td>\n",
       "      <td>R30000</td>\n",
       "      <td>443037</td>\n",
       "      <td>2022-12-31</td>\n",
       "      <td>2022-12-31</td>\n",
       "      <td>2022</td>\n",
       "      <td>30000</td>\n",
       "    </tr>\n",
       "  </tbody>\n",
       "</table>\n",
       "</div>"
      ],
      "text/plain": [
       "     ZEIT_LANG  ZEIT_CODE               RAUM_LANG RAUM_CODE    BEW StichtagDatJahr  \\\n",
       "117 2023-12-31  Z31122023  Stadt Zürich (ab 1934)    R30000 447082      2023-12-31   \n",
       "60  2022-12-31  Z31122022  Stadt Zürich (ab 1934)    R30000 443037      2022-12-31   \n",
       "\n",
       "    StichtagDatJahr_str  Jahr_nbr  RAUM_my_sort  \n",
       "117          2023-12-31      2023         30000  \n",
       "60           2022-12-31      2022         30000  "
      ]
     },
     "execution_count": 61,
     "metadata": {},
     "output_type": "execute_result"
    }
   ],
   "source": [
    "data2betested = (\n",
    "    data2betested\n",
    "    .copy()\n",
    "    .assign(\n",
    "        StichtagDatJahr = lambda x: x.ZEIT_LANG.apply(convert_to_datetime),\n",
    "        #StichtagDatJahr = lambda x: x.ZEIT_lang,\n",
    "        StichtagDatJahr_str = lambda x: x.ZEIT_LANG.astype(str),\n",
    "        #Jahr = lambda x: x.ZEIT_lang.dt.year,\n",
    "        Jahr_nbr = lambda x: x.ZEIT_CODE.str[-4:].astype(int),    \n",
    "        RAUM_my_sort = lambda x: x.RAUM_CODE.str[1:].astype(int),\n",
    "\n",
    "    )\n",
    "    .sort_values('ZEIT_LANG', ascending=False)\n",
    "    )\n",
    "data2betested.head(2)"
   ]
  },
  {
   "cell_type": "markdown",
   "metadata": {},
   "source": [
    "Minimales und maximales Jahr im Datensatz"
   ]
  },
  {
   "cell_type": "code",
   "execution_count": 62,
   "metadata": {},
   "outputs": [
    {
     "name": "stdout",
     "output_type": "stream",
     "text": [
      "Die Daten haben ein Minimumjahr von 1893 und ein Maximumjahr von 2023\n"
     ]
    }
   ],
   "source": [
    "data_max_date = str(max(data2betested.StichtagDatJahr).year)\n",
    "data_min_date = str(min(data2betested.StichtagDatJahr).year)\n",
    "\n",
    "print(f\"Die Daten haben ein Minimumjahr von {data_min_date} und ein Maximumjahr von {data_max_date}\")"
   ]
  },
  {
   "cell_type": "markdown",
   "metadata": {},
   "source": [
    "Temp speichere die csv-Datei, da es immer wieder zu Ausfällen kommt. So kann ich mal den Report fertig bauen."
   ]
  },
  {
   "cell_type": "code",
   "execution_count": 63,
   "metadata": {},
   "outputs": [
    {
     "name": "stdout",
     "output_type": "stream",
     "text": [
      "bev324od3243_2025-02-25.csv\n"
     ]
    }
   ],
   "source": [
    "docname = package_name +date_today+\".csv\"\n",
    "print(docname)\n"
   ]
  },
  {
   "cell_type": "code",
   "execution_count": 64,
   "metadata": {},
   "outputs": [],
   "source": [
    "data2betested.to_csv('./saved_data/'+docname, index=False)"
   ]
  },
  {
   "cell_type": "markdown",
   "metadata": {},
   "source": [
    "Zeitbereich aus den Daten:"
   ]
  },
  {
   "cell_type": "code",
   "execution_count": 65,
   "metadata": {},
   "outputs": [
    {
     "name": "stdout",
     "output_type": "stream",
     "text": [
      "Die Daten haben ein Minimumjahr von 1893 und ein Maximumjahr von 2023\n"
     ]
    }
   ],
   "source": [
    "data_max_date = str(max(data2betested.Jahr_nbr))\n",
    "\n",
    "try:\n",
    "    if min(data2betested.Jahr_nbr) < 1678:\n",
    "        data_min_date=\"1688\"\n",
    "    else:\n",
    "        data_min_date = str(min(data2betested.Jahr_nbr))\n",
    "except ValueError:\n",
    "    print(\"Fehler...\")\n",
    "\n",
    "print(f\"Die Daten haben ein Minimumjahr von {data_min_date} und ein Maximumjahr von {data_max_date}\")\n"
   ]
  },
  {
   "cell_type": "markdown",
   "metadata": {},
   "source": [
    "### Einfache Datentests"
   ]
  },
  {
   "cell_type": "code",
   "execution_count": 66,
   "metadata": {},
   "outputs": [
    {
     "data": {
      "application/vnd.microsoft.datawrangler.viewer.v0+json": {
       "columns": [
        {
         "name": "index",
         "rawType": "object",
         "type": "string"
        },
        {
         "name": "117",
         "rawType": "object",
         "type": "unknown"
        },
        {
         "name": "60",
         "rawType": "object",
         "type": "unknown"
        }
       ],
       "conversionMethod": "pd.DataFrame",
       "ref": "a49f0ddc-13e1-4d58-88ad-53f6b57e0bee",
       "rows": [
        [
         "ZEIT_LANG",
         "2023-12-31 00:00:00",
         "2022-12-31 00:00:00"
        ],
        [
         "ZEIT_CODE",
         "Z31122023",
         "Z31122022"
        ],
        [
         "RAUM_LANG",
         "Stadt Zürich (ab 1934)",
         "Stadt Zürich (ab 1934)"
        ],
        [
         "RAUM_CODE",
         "R30000",
         "R30000"
        ],
        [
         "BEW",
         "447082.0",
         "443037.0"
        ],
        [
         "StichtagDatJahr",
         "2023-12-31 00:00:00",
         "2022-12-31 00:00:00"
        ],
        [
         "StichtagDatJahr_str",
         "2023-12-31",
         "2022-12-31"
        ],
        [
         "Jahr_nbr",
         "2023",
         "2022"
        ],
        [
         "RAUM_my_sort",
         "30000",
         "30000"
        ]
       ],
       "shape": {
        "columns": 2,
        "rows": 9
       }
      },
      "text/html": [
       "<div>\n",
       "<style scoped>\n",
       "    .dataframe tbody tr th:only-of-type {\n",
       "        vertical-align: middle;\n",
       "    }\n",
       "\n",
       "    .dataframe tbody tr th {\n",
       "        vertical-align: top;\n",
       "    }\n",
       "\n",
       "    .dataframe thead th {\n",
       "        text-align: right;\n",
       "    }\n",
       "</style>\n",
       "<table border=\"1\" class=\"dataframe\">\n",
       "  <thead>\n",
       "    <tr style=\"text-align: right;\">\n",
       "      <th></th>\n",
       "      <th>117</th>\n",
       "      <th>60</th>\n",
       "    </tr>\n",
       "  </thead>\n",
       "  <tbody>\n",
       "    <tr>\n",
       "      <th>ZEIT_LANG</th>\n",
       "      <td>2023-12-31 00:00:00</td>\n",
       "      <td>2022-12-31 00:00:00</td>\n",
       "    </tr>\n",
       "    <tr>\n",
       "      <th>ZEIT_CODE</th>\n",
       "      <td>Z31122023</td>\n",
       "      <td>Z31122022</td>\n",
       "    </tr>\n",
       "    <tr>\n",
       "      <th>RAUM_LANG</th>\n",
       "      <td>Stadt Zürich (ab 1934)</td>\n",
       "      <td>Stadt Zürich (ab 1934)</td>\n",
       "    </tr>\n",
       "    <tr>\n",
       "      <th>RAUM_CODE</th>\n",
       "      <td>R30000</td>\n",
       "      <td>R30000</td>\n",
       "    </tr>\n",
       "    <tr>\n",
       "      <th>BEW</th>\n",
       "      <td>447082</td>\n",
       "      <td>443037</td>\n",
       "    </tr>\n",
       "    <tr>\n",
       "      <th>StichtagDatJahr</th>\n",
       "      <td>2023-12-31 00:00:00</td>\n",
       "      <td>2022-12-31 00:00:00</td>\n",
       "    </tr>\n",
       "    <tr>\n",
       "      <th>StichtagDatJahr_str</th>\n",
       "      <td>2023-12-31</td>\n",
       "      <td>2022-12-31</td>\n",
       "    </tr>\n",
       "    <tr>\n",
       "      <th>Jahr_nbr</th>\n",
       "      <td>2023</td>\n",
       "      <td>2022</td>\n",
       "    </tr>\n",
       "    <tr>\n",
       "      <th>RAUM_my_sort</th>\n",
       "      <td>30000</td>\n",
       "      <td>30000</td>\n",
       "    </tr>\n",
       "  </tbody>\n",
       "</table>\n",
       "</div>"
      ],
      "text/plain": [
       "                                        117                     60 \n",
       "ZEIT_LANG               2023-12-31 00:00:00     2022-12-31 00:00:00\n",
       "ZEIT_CODE                         Z31122023               Z31122022\n",
       "RAUM_LANG            Stadt Zürich (ab 1934)  Stadt Zürich (ab 1934)\n",
       "RAUM_CODE                            R30000                  R30000\n",
       "BEW                                  447082                  443037\n",
       "StichtagDatJahr         2023-12-31 00:00:00     2022-12-31 00:00:00\n",
       "StichtagDatJahr_str              2023-12-31              2022-12-31\n",
       "Jahr_nbr                               2023                    2022\n",
       "RAUM_my_sort                          30000                   30000"
      ]
     },
     "execution_count": 66,
     "metadata": {},
     "output_type": "execute_result"
    }
   ],
   "source": [
    "data2betested.head(2).T"
   ]
  },
  {
   "cell_type": "code",
   "execution_count": 67,
   "metadata": {},
   "outputs": [
    {
     "name": "stdout",
     "output_type": "stream",
     "text": [
      "<class 'pandas.core.frame.DataFrame'>\n",
      "Index: 164 entries, 117 to 67\n",
      "Data columns (total 9 columns):\n",
      " #   Column               Non-Null Count  Dtype         \n",
      "---  ------               --------------  -----         \n",
      " 0   ZEIT_LANG            164 non-null    datetime64[ns]\n",
      " 1   ZEIT_CODE            164 non-null    object        \n",
      " 2   RAUM_LANG            164 non-null    object        \n",
      " 3   RAUM_CODE            164 non-null    object        \n",
      " 4   BEW                  164 non-null    float64       \n",
      " 5   StichtagDatJahr      164 non-null    datetime64[ns]\n",
      " 6   StichtagDatJahr_str  164 non-null    object        \n",
      " 7   Jahr_nbr             164 non-null    int32         \n",
      " 8   RAUM_my_sort         164 non-null    int32         \n",
      "dtypes: datetime64[ns](2), float64(1), int32(2), object(4)\n",
      "memory usage: 57.1 KB\n"
     ]
    }
   ],
   "source": [
    "data2betested.info(memory_usage='deep', verbose=True)"
   ]
  },
  {
   "cell_type": "code",
   "execution_count": 68,
   "metadata": {},
   "outputs": [
    {
     "name": "stdout",
     "output_type": "stream",
     "text": [
      "The dataset has 164 rows (observations) and 9 columns (variables).\n",
      "There seem to be 0 exact duplicates in the data.\n"
     ]
    }
   ],
   "source": [
    "print(f'The dataset has {data2betested.shape[0]:,.0f} rows (observations) and {data2betested.shape[1]:,.0f} columns (variables).')\n",
    "print(f'There seem to be {data2betested.duplicated().sum()} exact duplicates in the data.')"
   ]
  },
  {
   "cell_type": "markdown",
   "metadata": {},
   "source": [
    "Welches sind die Quartiere ohne Werte bei BEW?"
   ]
  },
  {
   "cell_type": "code",
   "execution_count": 69,
   "metadata": {},
   "outputs": [
    {
     "data": {
      "application/vnd.microsoft.datawrangler.viewer.v0+json": {
       "columns": [
        {
         "name": "index",
         "rawType": "int64",
         "type": "integer"
        },
        {
         "name": "ZEIT_LANG",
         "rawType": "datetime64[ns]",
         "type": "datetime"
        },
        {
         "name": "ZEIT_CODE",
         "rawType": "object",
         "type": "string"
        },
        {
         "name": "RAUM_LANG",
         "rawType": "object",
         "type": "string"
        },
        {
         "name": "RAUM_CODE",
         "rawType": "object",
         "type": "string"
        },
        {
         "name": "BEW",
         "rawType": "float64",
         "type": "float"
        },
        {
         "name": "StichtagDatJahr",
         "rawType": "datetime64[ns]",
         "type": "datetime"
        },
        {
         "name": "StichtagDatJahr_str",
         "rawType": "object",
         "type": "string"
        },
        {
         "name": "Jahr_nbr",
         "rawType": "int32",
         "type": "integer"
        },
        {
         "name": "RAUM_my_sort",
         "rawType": "int32",
         "type": "integer"
        }
       ],
       "conversionMethod": "pd.DataFrame",
       "ref": "10ddd914-f668-4938-820e-8f0f80693e26",
       "rows": [],
       "shape": {
        "columns": 9,
        "rows": 0
       }
      },
      "text/html": [
       "<div>\n",
       "<style scoped>\n",
       "    .dataframe tbody tr th:only-of-type {\n",
       "        vertical-align: middle;\n",
       "    }\n",
       "\n",
       "    .dataframe tbody tr th {\n",
       "        vertical-align: top;\n",
       "    }\n",
       "\n",
       "    .dataframe thead th {\n",
       "        text-align: right;\n",
       "    }\n",
       "</style>\n",
       "<table border=\"1\" class=\"dataframe\">\n",
       "  <thead>\n",
       "    <tr style=\"text-align: right;\">\n",
       "      <th></th>\n",
       "      <th>ZEIT_LANG</th>\n",
       "      <th>ZEIT_CODE</th>\n",
       "      <th>RAUM_LANG</th>\n",
       "      <th>RAUM_CODE</th>\n",
       "      <th>BEW</th>\n",
       "      <th>StichtagDatJahr</th>\n",
       "      <th>StichtagDatJahr_str</th>\n",
       "      <th>Jahr_nbr</th>\n",
       "      <th>RAUM_my_sort</th>\n",
       "    </tr>\n",
       "  </thead>\n",
       "  <tbody>\n",
       "  </tbody>\n",
       "</table>\n",
       "</div>"
      ],
      "text/plain": [
       "Empty DataFrame\n",
       "Columns: [ZEIT_LANG, ZEIT_CODE, RAUM_LANG, RAUM_CODE, BEW, StichtagDatJahr, StichtagDatJahr_str, Jahr_nbr, RAUM_my_sort]\n",
       "Index: []"
      ]
     },
     "execution_count": 69,
     "metadata": {},
     "output_type": "execute_result"
    }
   ],
   "source": [
    "data2betested[np.isnan(data2betested.BEW)]"
   ]
  },
  {
   "cell_type": "markdown",
   "metadata": {
    "colab_type": "text",
    "id": "1dTPVmmsgOVx"
   },
   "source": [
    "### Verwende das Datum als Index\n",
    "\n",
    "While we did already parse the `datetime` column into the respective datetime type, it currently is just a regular column. \n",
    "**To enable quick and convenient queries and aggregations, we need to turn it into the index of the DataFrame**"
   ]
  },
  {
   "cell_type": "code",
   "execution_count": 70,
   "metadata": {},
   "outputs": [],
   "source": [
    "data2betested = data2betested.set_index(\"StichtagDatJahr\") \n",
    "data2betested = data2betested.sort_index()"
   ]
  },
  {
   "cell_type": "code",
   "execution_count": 71,
   "metadata": {},
   "outputs": [
    {
     "data": {
      "text/plain": [
       "Index([1893, 1894, 1895, 1896, 1897, 1898, 1899, 1900, 1901, 1902,\n",
       "       ...\n",
       "       2014, 2015, 2016, 2017, 2018, 2019, 2020, 2021, 2022, 2023],\n",
       "      dtype='int32', name='StichtagDatJahr', length=131)"
      ]
     },
     "execution_count": 71,
     "metadata": {},
     "output_type": "execute_result"
    }
   ],
   "source": [
    "data2betested.index.year.unique()\n"
   ]
  },
  {
   "cell_type": "markdown",
   "metadata": {},
   "source": [
    "### Beschreibe einzelne Attribute"
   ]
  },
  {
   "cell_type": "markdown",
   "metadata": {},
   "source": [
    "Beschreibe nicht numerische Attribute"
   ]
  },
  {
   "cell_type": "code",
   "execution_count": 72,
   "metadata": {},
   "outputs": [
    {
     "data": {
      "application/vnd.microsoft.datawrangler.viewer.v0+json": {
       "columns": [
        {
         "name": "index",
         "rawType": "object",
         "type": "string"
        },
        {
         "name": "ZEIT_LANG",
         "rawType": "object",
         "type": "unknown"
        },
        {
         "name": "ZEIT_CODE",
         "rawType": "object",
         "type": "unknown"
        },
        {
         "name": "RAUM_LANG",
         "rawType": "object",
         "type": "unknown"
        },
        {
         "name": "RAUM_CODE",
         "rawType": "object",
         "type": "unknown"
        },
        {
         "name": "StichtagDatJahr_str",
         "rawType": "object",
         "type": "unknown"
        }
       ],
       "conversionMethod": "pd.DataFrame",
       "ref": "35859b9e-5328-4d53-a218-7e92c67c2f93",
       "rows": [
        [
         "count",
         "164",
         "164",
         "164",
         "164",
         "164"
        ],
        [
         "unique",
         null,
         "131",
         "2",
         "2",
         "131"
        ],
        [
         "top",
         null,
         "Z31121921",
         "Stadt Zürich (ab 1934)",
         "R30000",
         "1921-12-31"
        ],
        [
         "freq",
         null,
         "2",
         "123",
         "123",
         "2"
        ],
        [
         "mean",
         "1950-09-30 20:29:16.097560960",
         null,
         null,
         null,
         null
        ],
        [
         "min",
         "1893-12-31 00:00:00",
         null,
         null,
         null,
         null
        ],
        [
         "25%",
         "1917-12-31 00:00:00",
         null,
         null,
         null,
         null
        ],
        [
         "50%",
         "1942-07-01 12:00:00",
         null,
         null,
         null,
         null
        ],
        [
         "75%",
         "1983-04-01 06:00:00",
         null,
         null,
         null,
         null
        ],
        [
         "max",
         "2023-12-31 00:00:00",
         null,
         null,
         null,
         null
        ]
       ],
       "shape": {
        "columns": 5,
        "rows": 10
       }
      },
      "text/html": [
       "<div>\n",
       "<style scoped>\n",
       "    .dataframe tbody tr th:only-of-type {\n",
       "        vertical-align: middle;\n",
       "    }\n",
       "\n",
       "    .dataframe tbody tr th {\n",
       "        vertical-align: top;\n",
       "    }\n",
       "\n",
       "    .dataframe thead th {\n",
       "        text-align: right;\n",
       "    }\n",
       "</style>\n",
       "<table border=\"1\" class=\"dataframe\">\n",
       "  <thead>\n",
       "    <tr style=\"text-align: right;\">\n",
       "      <th></th>\n",
       "      <th>ZEIT_LANG</th>\n",
       "      <th>ZEIT_CODE</th>\n",
       "      <th>RAUM_LANG</th>\n",
       "      <th>RAUM_CODE</th>\n",
       "      <th>StichtagDatJahr_str</th>\n",
       "    </tr>\n",
       "  </thead>\n",
       "  <tbody>\n",
       "    <tr>\n",
       "      <th>count</th>\n",
       "      <td>164</td>\n",
       "      <td>164</td>\n",
       "      <td>164</td>\n",
       "      <td>164</td>\n",
       "      <td>164</td>\n",
       "    </tr>\n",
       "    <tr>\n",
       "      <th>unique</th>\n",
       "      <td>NaN</td>\n",
       "      <td>131</td>\n",
       "      <td>2</td>\n",
       "      <td>2</td>\n",
       "      <td>131</td>\n",
       "    </tr>\n",
       "    <tr>\n",
       "      <th>top</th>\n",
       "      <td>NaN</td>\n",
       "      <td>Z31121921</td>\n",
       "      <td>Stadt Zürich (ab 1934)</td>\n",
       "      <td>R30000</td>\n",
       "      <td>1921-12-31</td>\n",
       "    </tr>\n",
       "    <tr>\n",
       "      <th>freq</th>\n",
       "      <td>NaN</td>\n",
       "      <td>2</td>\n",
       "      <td>123</td>\n",
       "      <td>123</td>\n",
       "      <td>2</td>\n",
       "    </tr>\n",
       "    <tr>\n",
       "      <th>mean</th>\n",
       "      <td>1950-09-30 20:29:16.097560960</td>\n",
       "      <td>NaN</td>\n",
       "      <td>NaN</td>\n",
       "      <td>NaN</td>\n",
       "      <td>NaN</td>\n",
       "    </tr>\n",
       "    <tr>\n",
       "      <th>min</th>\n",
       "      <td>1893-12-31 00:00:00</td>\n",
       "      <td>NaN</td>\n",
       "      <td>NaN</td>\n",
       "      <td>NaN</td>\n",
       "      <td>NaN</td>\n",
       "    </tr>\n",
       "    <tr>\n",
       "      <th>25%</th>\n",
       "      <td>1917-12-31 00:00:00</td>\n",
       "      <td>NaN</td>\n",
       "      <td>NaN</td>\n",
       "      <td>NaN</td>\n",
       "      <td>NaN</td>\n",
       "    </tr>\n",
       "    <tr>\n",
       "      <th>50%</th>\n",
       "      <td>1942-07-01 12:00:00</td>\n",
       "      <td>NaN</td>\n",
       "      <td>NaN</td>\n",
       "      <td>NaN</td>\n",
       "      <td>NaN</td>\n",
       "    </tr>\n",
       "    <tr>\n",
       "      <th>75%</th>\n",
       "      <td>1983-04-01 06:00:00</td>\n",
       "      <td>NaN</td>\n",
       "      <td>NaN</td>\n",
       "      <td>NaN</td>\n",
       "      <td>NaN</td>\n",
       "    </tr>\n",
       "    <tr>\n",
       "      <th>max</th>\n",
       "      <td>2023-12-31 00:00:00</td>\n",
       "      <td>NaN</td>\n",
       "      <td>NaN</td>\n",
       "      <td>NaN</td>\n",
       "      <td>NaN</td>\n",
       "    </tr>\n",
       "  </tbody>\n",
       "</table>\n",
       "</div>"
      ],
      "text/plain": [
       "                            ZEIT_LANG  ZEIT_CODE               RAUM_LANG RAUM_CODE  \\\n",
       "count                             164        164                     164       164   \n",
       "unique                            NaN        131                       2         2   \n",
       "top                               NaN  Z31121921  Stadt Zürich (ab 1934)    R30000   \n",
       "freq                              NaN          2                     123       123   \n",
       "mean    1950-09-30 20:29:16.097560960        NaN                     NaN       NaN   \n",
       "min               1893-12-31 00:00:00        NaN                     NaN       NaN   \n",
       "25%               1917-12-31 00:00:00        NaN                     NaN       NaN   \n",
       "50%               1942-07-01 12:00:00        NaN                     NaN       NaN   \n",
       "75%               1983-04-01 06:00:00        NaN                     NaN       NaN   \n",
       "max               2023-12-31 00:00:00        NaN                     NaN       NaN   \n",
       "\n",
       "       StichtagDatJahr_str  \n",
       "count                  164  \n",
       "unique                 131  \n",
       "top             1921-12-31  \n",
       "freq                     2  \n",
       "mean                   NaN  \n",
       "min                    NaN  \n",
       "25%                    NaN  \n",
       "50%                    NaN  \n",
       "75%                    NaN  \n",
       "max                    NaN  "
      ]
     },
     "metadata": {},
     "output_type": "display_data"
    }
   ],
   "source": [
    "# describe non-numerical features\n",
    "try:\n",
    "    with pd.option_context('display.float_format', '{:,.2f}'.format):\n",
    "        display(data2betested.describe(exclude='number'))\n",
    "except:\n",
    "    print(\"No categorical data in dataset.\")"
   ]
  },
  {
   "cell_type": "markdown",
   "metadata": {},
   "source": [
    "Beschreibe numerische Attribute"
   ]
  },
  {
   "cell_type": "code",
   "execution_count": 73,
   "metadata": {},
   "outputs": [
    {
     "data": {
      "application/vnd.microsoft.datawrangler.viewer.v0+json": {
       "columns": [
        {
         "name": "index",
         "rawType": "object",
         "type": "string"
        },
        {
         "name": "BEW",
         "rawType": "float64",
         "type": "float"
        },
        {
         "name": "Jahr_nbr",
         "rawType": "float64",
         "type": "float"
        },
        {
         "name": "RAUM_my_sort",
         "rawType": "float64",
         "type": "float"
        }
       ],
       "conversionMethod": "pd.DataFrame",
       "ref": "b0e736cc-b287-4bef-8d4a-e782e40f128f",
       "rows": [
        [
         "count",
         "164.0",
         "164.0",
         "164.0"
        ],
        [
         "mean",
         "300230.506097561",
         "1949.75",
         "27500.0"
        ],
        [
         "std",
         "100980.26051128184",
         "37.94027838493519",
         "4343.389307309054"
        ],
        [
         "min",
         "117044.0",
         "1893.0",
         "20000.0"
        ],
        [
         "25%",
         "201168.0",
         "1917.0",
         "27500.0"
        ],
        [
         "50%",
         "339957.5",
         "1941.5",
         "30000.0"
        ],
        [
         "75%",
         "383569.25",
         "1982.25",
         "30000.0"
        ],
        [
         "max",
         "447082.0",
         "2023.0",
         "30000.0"
        ]
       ],
       "shape": {
        "columns": 3,
        "rows": 8
       }
      },
      "text/html": [
       "<div>\n",
       "<style scoped>\n",
       "    .dataframe tbody tr th:only-of-type {\n",
       "        vertical-align: middle;\n",
       "    }\n",
       "\n",
       "    .dataframe tbody tr th {\n",
       "        vertical-align: top;\n",
       "    }\n",
       "\n",
       "    .dataframe thead th {\n",
       "        text-align: right;\n",
       "    }\n",
       "</style>\n",
       "<table border=\"1\" class=\"dataframe\">\n",
       "  <thead>\n",
       "    <tr style=\"text-align: right;\">\n",
       "      <th></th>\n",
       "      <th>BEW</th>\n",
       "      <th>Jahr_nbr</th>\n",
       "      <th>RAUM_my_sort</th>\n",
       "    </tr>\n",
       "  </thead>\n",
       "  <tbody>\n",
       "    <tr>\n",
       "      <th>count</th>\n",
       "      <td>164</td>\n",
       "      <td>164</td>\n",
       "      <td>164</td>\n",
       "    </tr>\n",
       "    <tr>\n",
       "      <th>mean</th>\n",
       "      <td>300,231</td>\n",
       "      <td>1,950</td>\n",
       "      <td>27,500</td>\n",
       "    </tr>\n",
       "    <tr>\n",
       "      <th>std</th>\n",
       "      <td>100,980</td>\n",
       "      <td>38</td>\n",
       "      <td>4,343</td>\n",
       "    </tr>\n",
       "    <tr>\n",
       "      <th>min</th>\n",
       "      <td>117,044</td>\n",
       "      <td>1,893</td>\n",
       "      <td>20,000</td>\n",
       "    </tr>\n",
       "    <tr>\n",
       "      <th>25%</th>\n",
       "      <td>201,168</td>\n",
       "      <td>1,917</td>\n",
       "      <td>27,500</td>\n",
       "    </tr>\n",
       "    <tr>\n",
       "      <th>50%</th>\n",
       "      <td>339,958</td>\n",
       "      <td>1,942</td>\n",
       "      <td>30,000</td>\n",
       "    </tr>\n",
       "    <tr>\n",
       "      <th>75%</th>\n",
       "      <td>383,569</td>\n",
       "      <td>1,982</td>\n",
       "      <td>30,000</td>\n",
       "    </tr>\n",
       "    <tr>\n",
       "      <th>max</th>\n",
       "      <td>447,082</td>\n",
       "      <td>2,023</td>\n",
       "      <td>30,000</td>\n",
       "    </tr>\n",
       "  </tbody>\n",
       "</table>\n",
       "</div>"
      ],
      "text/plain": [
       "          BEW  Jahr_nbr  RAUM_my_sort\n",
       "count     164       164           164\n",
       "mean  300,231     1,950        27,500\n",
       "std   100,980        38         4,343\n",
       "min   117,044     1,893        20,000\n",
       "25%   201,168     1,917        27,500\n",
       "50%   339,958     1,942        30,000\n",
       "75%   383,569     1,982        30,000\n",
       "max   447,082     2,023        30,000"
      ]
     },
     "metadata": {},
     "output_type": "display_data"
    }
   ],
   "source": [
    "# describe numerical features\n",
    "try:\n",
    "    with pd.option_context('display.float_format', '{:,.0f}'.format):\n",
    "        display(data2betested.describe(include='number'))\n",
    "except:\n",
    "    print(\"No numercial data in dataset.\")"
   ]
  },
  {
   "cell_type": "code",
   "execution_count": 74,
   "metadata": {},
   "outputs": [
    {
     "data": {
      "image/png": "[encoded data removed]",
      "text/plain": [
       "<Figure size 1800x600 with 4 Axes>"
      ]
     },
     "metadata": {},
     "output_type": "display_data"
    }
   ],
   "source": [
    "plt.style.use('ggplot')\n",
    "params = {\n",
    "    'text.color': (0.25, 0.25, 0.25),\n",
    "    'figure.figsize': [18, 6],\n",
    "   }\n",
    "plt.rcParams.update(params)\n",
    "\n",
    "try:\n",
    "    data2betested.hist(bins=25, rwidth=0.9)\n",
    "    plt.tight_layout()\n",
    "    plt.show()\n",
    "except:\n",
    "    print(\"No numercial data to plot.\") "
   ]
  },
  {
   "cell_type": "markdown",
   "metadata": {},
   "source": [
    "### Gibt es Duplikate?"
   ]
  },
  {
   "cell_type": "code",
   "execution_count": 75,
   "metadata": {},
   "outputs": [
    {
     "data": {
      "application/vnd.microsoft.datawrangler.viewer.v0+json": {
       "columns": [
        {
         "name": "StichtagDatJahr",
         "rawType": "datetime64[ns]",
         "type": "datetime"
        },
        {
         "name": "ZEIT_LANG",
         "rawType": "datetime64[ns]",
         "type": "datetime"
        },
        {
         "name": "ZEIT_CODE",
         "rawType": "object",
         "type": "string"
        },
        {
         "name": "RAUM_LANG",
         "rawType": "object",
         "type": "string"
        },
        {
         "name": "RAUM_CODE",
         "rawType": "object",
         "type": "string"
        },
        {
         "name": "BEW",
         "rawType": "float64",
         "type": "float"
        },
        {
         "name": "StichtagDatJahr_str",
         "rawType": "object",
         "type": "string"
        },
        {
         "name": "Jahr_nbr",
         "rawType": "int32",
         "type": "integer"
        },
        {
         "name": "RAUM_my_sort",
         "rawType": "int32",
         "type": "integer"
        }
       ],
       "conversionMethod": "pd.DataFrame",
       "ref": "24e0face-0ae3-4735-a094-1fc4e59b8bf4",
       "rows": [],
       "shape": {
        "columns": 8,
        "rows": 0
       }
      },
      "text/html": [
       "<div>\n",
       "<style scoped>\n",
       "    .dataframe tbody tr th:only-of-type {\n",
       "        vertical-align: middle;\n",
       "    }\n",
       "\n",
       "    .dataframe tbody tr th {\n",
       "        vertical-align: top;\n",
       "    }\n",
       "\n",
       "    .dataframe thead th {\n",
       "        text-align: right;\n",
       "    }\n",
       "</style>\n",
       "<table border=\"1\" class=\"dataframe\">\n",
       "  <thead>\n",
       "    <tr style=\"text-align: right;\">\n",
       "      <th></th>\n",
       "      <th>ZEIT_LANG</th>\n",
       "      <th>ZEIT_CODE</th>\n",
       "      <th>RAUM_LANG</th>\n",
       "      <th>RAUM_CODE</th>\n",
       "      <th>BEW</th>\n",
       "      <th>StichtagDatJahr_str</th>\n",
       "      <th>Jahr_nbr</th>\n",
       "      <th>RAUM_my_sort</th>\n",
       "    </tr>\n",
       "    <tr>\n",
       "      <th>StichtagDatJahr</th>\n",
       "      <th></th>\n",
       "      <th></th>\n",
       "      <th></th>\n",
       "      <th></th>\n",
       "      <th></th>\n",
       "      <th></th>\n",
       "      <th></th>\n",
       "      <th></th>\n",
       "    </tr>\n",
       "  </thead>\n",
       "  <tbody>\n",
       "  </tbody>\n",
       "</table>\n",
       "</div>"
      ],
      "text/plain": [
       "Empty DataFrame\n",
       "Columns: [ZEIT_LANG, ZEIT_CODE, RAUM_LANG, RAUM_CODE, BEW, StichtagDatJahr_str, Jahr_nbr, RAUM_my_sort]\n",
       "Index: []"
      ]
     },
     "execution_count": 75,
     "metadata": {},
     "output_type": "execute_result"
    }
   ],
   "source": [
    "# find duplicate rows\n",
    "duplicate_rows = data2betested[data2betested.duplicated()]\n",
    "duplicate_rows"
   ]
  },
  {
   "cell_type": "markdown",
   "metadata": {},
   "source": [
    "### Nullwerte und Missings?"
   ]
  },
  {
   "cell_type": "code",
   "execution_count": 76,
   "metadata": {},
   "outputs": [
    {
     "data": {
      "text/plain": [
       "ZEIT_LANG              0\n",
       "ZEIT_CODE              0\n",
       "RAUM_LANG              0\n",
       "RAUM_CODE              0\n",
       "BEW                    0\n",
       "StichtagDatJahr_str    0\n",
       "Jahr_nbr               0\n",
       "RAUM_my_sort           0\n",
       "dtype: int64"
      ]
     },
     "execution_count": 76,
     "metadata": {},
     "output_type": "execute_result"
    }
   ],
   "source": [
    "data2betested.isnull().sum()"
   ]
  },
  {
   "cell_type": "code",
   "execution_count": 77,
   "metadata": {},
   "outputs": [],
   "source": [
    "# check missing values with missingno\n",
    "# https://github.com/ResidentMario/missingno\n",
    "import missingno as msno\n",
    "#msno.matrix(data2betested, labels=True, sort='descending');\n",
    "#msno.heatmap(data2betested)"
   ]
  },
  {
   "cell_type": "markdown",
   "metadata": {},
   "source": [
    "### Gruppierungen"
   ]
  },
  {
   "cell_type": "code",
   "execution_count": 78,
   "metadata": {},
   "outputs": [
    {
     "data": {
      "application/vnd.microsoft.datawrangler.viewer.v0+json": {
       "columns": [
        {
         "name": "index",
         "rawType": "int64",
         "type": "integer"
        },
        {
         "name": "Jahr_nbr",
         "rawType": "int32",
         "type": "integer"
        },
        {
         "name": "sum_AnzBestWir",
         "rawType": "float64",
         "type": "float"
        }
       ],
       "conversionMethod": "pd.DataFrame",
       "ref": "c50cfbbe-481a-4aed-98b9-ad9c4ff88319",
       "rows": [
        [
         "0",
         "2023",
         "447082.0"
        ],
        [
         "1",
         "2022",
         "443037.0"
        ],
        [
         "2",
         "2021",
         "436332.0"
        ]
       ],
       "shape": {
        "columns": 2,
        "rows": 3
       }
      },
      "text/html": [
       "<div>\n",
       "<style scoped>\n",
       "    .dataframe tbody tr th:only-of-type {\n",
       "        vertical-align: middle;\n",
       "    }\n",
       "\n",
       "    .dataframe tbody tr th {\n",
       "        vertical-align: top;\n",
       "    }\n",
       "\n",
       "    .dataframe thead th {\n",
       "        text-align: right;\n",
       "    }\n",
       "</style>\n",
       "<table border=\"1\" class=\"dataframe\">\n",
       "  <thead>\n",
       "    <tr style=\"text-align: right;\">\n",
       "      <th></th>\n",
       "      <th>Jahr_nbr</th>\n",
       "      <th>sum_AnzBestWir</th>\n",
       "    </tr>\n",
       "  </thead>\n",
       "  <tbody>\n",
       "    <tr>\n",
       "      <th>0</th>\n",
       "      <td>2023</td>\n",
       "      <td>447082</td>\n",
       "    </tr>\n",
       "    <tr>\n",
       "      <th>1</th>\n",
       "      <td>2022</td>\n",
       "      <td>443037</td>\n",
       "    </tr>\n",
       "    <tr>\n",
       "      <th>2</th>\n",
       "      <td>2021</td>\n",
       "      <td>436332</td>\n",
       "    </tr>\n",
       "  </tbody>\n",
       "</table>\n",
       "</div>"
      ],
      "text/plain": [
       "   Jahr_nbr  sum_AnzBestWir\n",
       "0      2023          447082\n",
       "1      2022          443037\n",
       "2      2021          436332"
      ]
     },
     "execution_count": 78,
     "metadata": {},
     "output_type": "execute_result"
    }
   ],
   "source": [
    "agg_jahr = data2betested.loc[data_min_date:data_max_date]\\\n",
    "    .groupby(['Jahr_nbr']) \\\n",
    "    .agg(sum_AnzBestWir=('BEW', 'sum')) \\\n",
    "    .sort_values('Jahr_nbr', ascending=False) \n",
    "agg_jahr.reset_index().head(3)"
   ]
  },
  {
   "cell_type": "code",
   "execution_count": 79,
   "metadata": {},
   "outputs": [
    {
     "data": {
      "text/plain": [
       "array(['Stadt nach 1. Eingemeindung 1893 (1893-1933)',\n",
       "       'Stadt Zürich (ab 1934)'], dtype=object)"
      ]
     },
     "execution_count": 79,
     "metadata": {},
     "output_type": "execute_result"
    }
   ],
   "source": [
    "data2betested.RAUM_LANG.unique()"
   ]
  },
  {
   "cell_type": "code",
   "execution_count": 80,
   "metadata": {},
   "outputs": [
    {
     "data": {
      "application/vnd.microsoft.datawrangler.viewer.v0+json": {
       "columns": [
        {
         "name": "index",
         "rawType": "int64",
         "type": "integer"
        },
        {
         "name": "Jahr_nbr",
         "rawType": "int32",
         "type": "integer"
        },
        {
         "name": "RAUM_LANG",
         "rawType": "object",
         "type": "string"
        },
        {
         "name": "RAUM_CODE",
         "rawType": "object",
         "type": "string"
        },
        {
         "name": "sum_AnzBestWir",
         "rawType": "float64",
         "type": "float"
        }
       ],
       "conversionMethod": "pd.DataFrame",
       "ref": "1c6e96cf-aaac-4e3c-9703-57c4d940f886",
       "rows": [
        [
         "0",
         "2023",
         "Stadt Zürich (ab 1934)",
         "R30000",
         "447082.0"
        ],
        [
         "1",
         "2022",
         "Stadt Zürich (ab 1934)",
         "R30000",
         "443037.0"
        ]
       ],
       "shape": {
        "columns": 4,
        "rows": 2
       }
      },
      "text/html": [
       "<div>\n",
       "<style scoped>\n",
       "    .dataframe tbody tr th:only-of-type {\n",
       "        vertical-align: middle;\n",
       "    }\n",
       "\n",
       "    .dataframe tbody tr th {\n",
       "        vertical-align: top;\n",
       "    }\n",
       "\n",
       "    .dataframe thead th {\n",
       "        text-align: right;\n",
       "    }\n",
       "</style>\n",
       "<table border=\"1\" class=\"dataframe\">\n",
       "  <thead>\n",
       "    <tr style=\"text-align: right;\">\n",
       "      <th></th>\n",
       "      <th>Jahr_nbr</th>\n",
       "      <th>RAUM_LANG</th>\n",
       "      <th>RAUM_CODE</th>\n",
       "      <th>sum_AnzBestWir</th>\n",
       "    </tr>\n",
       "  </thead>\n",
       "  <tbody>\n",
       "    <tr>\n",
       "      <th>0</th>\n",
       "      <td>2023</td>\n",
       "      <td>Stadt Zürich (ab 1934)</td>\n",
       "      <td>R30000</td>\n",
       "      <td>447082</td>\n",
       "    </tr>\n",
       "    <tr>\n",
       "      <th>1</th>\n",
       "      <td>2022</td>\n",
       "      <td>Stadt Zürich (ab 1934)</td>\n",
       "      <td>R30000</td>\n",
       "      <td>443037</td>\n",
       "    </tr>\n",
       "  </tbody>\n",
       "</table>\n",
       "</div>"
      ],
      "text/plain": [
       "   Jahr_nbr               RAUM_LANG RAUM_CODE  sum_AnzBestWir\n",
       "0      2023  Stadt Zürich (ab 1934)    R30000          447082\n",
       "1      2022  Stadt Zürich (ab 1934)    R30000          443037"
      ]
     },
     "execution_count": 80,
     "metadata": {},
     "output_type": "execute_result"
    }
   ],
   "source": [
    "agg_Quarts = data2betested.loc[data_min_date:data_max_date]\\\n",
    "    .groupby(['Jahr_nbr','RAUM_LANG', 'RAUM_CODE']) \\\n",
    "    .agg(sum_AnzBestWir=('BEW', 'sum')) \\\n",
    "    .sort_values(['Jahr_nbr','RAUM_CODE'], ascending=[False, True]) \n",
    "agg_Quarts.reset_index().head(2)"
   ]
  },
  {
   "cell_type": "code",
   "execution_count": 81,
   "metadata": {},
   "outputs": [
    {
     "data": {
      "text/plain": [
       "Index(['ZEIT_LANG', 'ZEIT_CODE', 'RAUM_LANG', 'RAUM_CODE', 'BEW', 'StichtagDatJahr_str',\n",
       "       'Jahr_nbr', 'RAUM_my_sort'],\n",
       "      dtype='object')"
      ]
     },
     "execution_count": 81,
     "metadata": {},
     "output_type": "execute_result"
    }
   ],
   "source": [
    "data2betested.columns"
   ]
  },
  {
   "cell_type": "markdown",
   "metadata": {},
   "source": [
    "### Zeitpunkte und Zeiträume abfragen\n",
    "\n",
    "A particular powerful feature of the Pandas DataFrame is its indexing capability that also works using time-based entities, such as dates and times. We have already created the index above, so let's put it to use."
   ]
  },
  {
   "cell_type": "code",
   "execution_count": 82,
   "metadata": {},
   "outputs": [
    {
     "data": {
      "application/vnd.microsoft.datawrangler.viewer.v0+json": {
       "columns": [
        {
         "name": "StichtagDatJahr",
         "rawType": "datetime64[ns]",
         "type": "datetime"
        },
        {
         "name": "ZEIT_LANG",
         "rawType": "datetime64[ns]",
         "type": "datetime"
        },
        {
         "name": "ZEIT_CODE",
         "rawType": "object",
         "type": "string"
        },
        {
         "name": "RAUM_LANG",
         "rawType": "object",
         "type": "string"
        },
        {
         "name": "RAUM_CODE",
         "rawType": "object",
         "type": "string"
        },
        {
         "name": "BEW",
         "rawType": "float64",
         "type": "float"
        },
        {
         "name": "StichtagDatJahr_str",
         "rawType": "object",
         "type": "string"
        },
        {
         "name": "Jahr_nbr",
         "rawType": "int32",
         "type": "integer"
        },
        {
         "name": "RAUM_my_sort",
         "rawType": "int32",
         "type": "integer"
        }
       ],
       "conversionMethod": "pd.DataFrame",
       "ref": "a99d4ff8-74f5-4a36-98c0-80b1750d2d74",
       "rows": [
        [
         "2023-12-31 00:00:00",
         "2023-12-31 00:00:00",
         "Z31122023",
         "Stadt Zürich (ab 1934)",
         "R30000",
         "447082.0",
         "2023-12-31",
         "2023",
         "30000"
        ]
       ],
       "shape": {
        "columns": 8,
        "rows": 1
       }
      },
      "text/html": [
       "<div>\n",
       "<style scoped>\n",
       "    .dataframe tbody tr th:only-of-type {\n",
       "        vertical-align: middle;\n",
       "    }\n",
       "\n",
       "    .dataframe tbody tr th {\n",
       "        vertical-align: top;\n",
       "    }\n",
       "\n",
       "    .dataframe thead th {\n",
       "        text-align: right;\n",
       "    }\n",
       "</style>\n",
       "<table border=\"1\" class=\"dataframe\">\n",
       "  <thead>\n",
       "    <tr style=\"text-align: right;\">\n",
       "      <th></th>\n",
       "      <th>ZEIT_LANG</th>\n",
       "      <th>ZEIT_CODE</th>\n",
       "      <th>RAUM_LANG</th>\n",
       "      <th>RAUM_CODE</th>\n",
       "      <th>BEW</th>\n",
       "      <th>StichtagDatJahr_str</th>\n",
       "      <th>Jahr_nbr</th>\n",
       "      <th>RAUM_my_sort</th>\n",
       "    </tr>\n",
       "    <tr>\n",
       "      <th>StichtagDatJahr</th>\n",
       "      <th></th>\n",
       "      <th></th>\n",
       "      <th></th>\n",
       "      <th></th>\n",
       "      <th></th>\n",
       "      <th></th>\n",
       "      <th></th>\n",
       "      <th></th>\n",
       "    </tr>\n",
       "  </thead>\n",
       "  <tbody>\n",
       "    <tr>\n",
       "      <th>2023-12-31</th>\n",
       "      <td>2023-12-31</td>\n",
       "      <td>Z31122023</td>\n",
       "      <td>Stadt Zürich (ab 1934)</td>\n",
       "      <td>R30000</td>\n",
       "      <td>447082</td>\n",
       "      <td>2023-12-31</td>\n",
       "      <td>2023</td>\n",
       "      <td>30000</td>\n",
       "    </tr>\n",
       "  </tbody>\n",
       "</table>\n",
       "</div>"
      ],
      "text/plain": [
       "                 ZEIT_LANG  ZEIT_CODE               RAUM_LANG RAUM_CODE    BEW  \\\n",
       "StichtagDatJahr                                                                  \n",
       "2023-12-31      2023-12-31  Z31122023  Stadt Zürich (ab 1934)    R30000 447082   \n",
       "\n",
       "                StichtagDatJahr_str  Jahr_nbr  RAUM_my_sort  \n",
       "StichtagDatJahr                                              \n",
       "2023-12-31               2023-12-31      2023         30000  "
      ]
     },
     "execution_count": 82,
     "metadata": {},
     "output_type": "execute_result"
    }
   ],
   "source": [
    "data2betested.loc[data_max_date].head(2)\n",
    "#data2betested.loc[\"2021-10-31\":\"2021-11-30\"].head(2)"
   ]
  },
  {
   "cell_type": "markdown",
   "metadata": {},
   "source": [
    "### Visualisierungen nach Zeitausschnitten"
   ]
  },
  {
   "cell_type": "markdown",
   "metadata": {},
   "source": [
    "#### Entwicklung Wohnbevölkerung seit ..."
   ]
  },
  {
   "cell_type": "code",
   "execution_count": 83,
   "metadata": {},
   "outputs": [
    {
     "data": {
      "text/plain": [
       "Index(['ZEIT_LANG', 'ZEIT_CODE', 'RAUM_LANG', 'RAUM_CODE', 'BEW', 'StichtagDatJahr_str',\n",
       "       'Jahr_nbr', 'RAUM_my_sort'],\n",
       "      dtype='object')"
      ]
     },
     "execution_count": 83,
     "metadata": {},
     "output_type": "execute_result"
    }
   ],
   "source": [
    "data2betested.columns"
   ]
  },
  {
   "cell_type": "code",
   "execution_count": 84,
   "metadata": {},
   "outputs": [
    {
     "data": {
      "application/vnd.microsoft.datawrangler.viewer.v0+json": {
       "columns": [
        {
         "name": "index",
         "rawType": "int64",
         "type": "integer"
        },
        {
         "name": "StichtagDatJahr",
         "rawType": "datetime64[ns]",
         "type": "datetime"
        },
        {
         "name": "sum_WBev",
         "rawType": "float64",
         "type": "float"
        }
       ],
       "conversionMethod": "pd.DataFrame",
       "ref": "130479c3-8013-49b3-91a3-b6a2839b0899",
       "rows": [
        [
         "0",
         "2023-12-31 00:00:00",
         "447082.0"
        ],
        [
         "1",
         "2022-12-31 00:00:00",
         "443037.0"
        ]
       ],
       "shape": {
        "columns": 2,
        "rows": 2
       }
      },
      "text/html": [
       "<div>\n",
       "<style scoped>\n",
       "    .dataframe tbody tr th:only-of-type {\n",
       "        vertical-align: middle;\n",
       "    }\n",
       "\n",
       "    .dataframe tbody tr th {\n",
       "        vertical-align: top;\n",
       "    }\n",
       "\n",
       "    .dataframe thead th {\n",
       "        text-align: right;\n",
       "    }\n",
       "</style>\n",
       "<table border=\"1\" class=\"dataframe\">\n",
       "  <thead>\n",
       "    <tr style=\"text-align: right;\">\n",
       "      <th></th>\n",
       "      <th>StichtagDatJahr</th>\n",
       "      <th>sum_WBev</th>\n",
       "    </tr>\n",
       "  </thead>\n",
       "  <tbody>\n",
       "    <tr>\n",
       "      <th>0</th>\n",
       "      <td>2023-12-31</td>\n",
       "      <td>447082</td>\n",
       "    </tr>\n",
       "    <tr>\n",
       "      <th>1</th>\n",
       "      <td>2022-12-31</td>\n",
       "      <td>443037</td>\n",
       "    </tr>\n",
       "  </tbody>\n",
       "</table>\n",
       "</div>"
      ],
      "text/plain": [
       "  StichtagDatJahr  sum_WBev\n",
       "0      2023-12-31    447082\n",
       "1      2022-12-31    443037"
      ]
     },
     "execution_count": 84,
     "metadata": {},
     "output_type": "execute_result"
    }
   ],
   "source": [
    "myAgg1= data2betested.loc[data_min_date:data_max_date]\\\n",
    "    .groupby(['StichtagDatJahr']) \\\n",
    "    .agg(sum_WBev=('BEW', 'sum')) \\\n",
    "    .sort_values('StichtagDatJahr', ascending=False) \n",
    "\n",
    "myAgg1.reset_index().head(2)"
   ]
  },
  {
   "cell_type": "code",
   "execution_count": 85,
   "metadata": {},
   "outputs": [
    {
     "data": {
      "text/html": [
       "\n",
       "<style>\n",
       "  #altair-viz-d3976e94ef134b05a21b48b2fb2a7d32.vega-embed {\n",
       "    width: 100%;\n",
       "    display: flex;\n",
       "  }\n",
       "\n",
       "  #altair-viz-d3976e94ef134b05a21b48b2fb2a7d32.vega-embed details,\n",
       "  #altair-viz-d3976e94ef134b05a21b48b2fb2a7d32.vega-embed details summary {\n",
       "    position: relative;\n",
       "  }\n",
       "</style>\n",
       "<div id=\"altair-viz-d3976e94ef134b05a21b48b2fb2a7d32\"></div>\n",
       "<script type=\"text/javascript\">\n",
       "  var VEGA_DEBUG = (typeof VEGA_DEBUG == \"undefined\") ? {} : VEGA_DEBUG;\n",
       "  (function(spec, embedOpt){\n",
       "    let outputDiv = document.currentScript.previousElementSibling;\n",
       "    if (outputDiv.id !== \"altair-viz-d3976e94ef134b05a21b48b2fb2a7d32\") {\n",
       "      outputDiv = document.getElementById(\"altair-viz-d3976e94ef134b05a21b48b2fb2a7d32\");\n",
       "    }\n",
       "    const paths = {\n",
       "      \"vega\": \"https://cdn.jsdelivr.net/npm/vega@5?noext\",\n",
       "      \"vega-lib\": \"https://cdn.jsdelivr.net/npm/vega-lib?noext\",\n",
       "      \"vega-lite\": \"https://cdn.jsdelivr.net/npm/vega-lite@5.8.0?noext\",\n",
       "      \"vega-embed\": \"https://cdn.jsdelivr.net/npm/vega-embed@6?noext\",\n",
       "    };\n",
       "\n",
       "    function maybeLoadScript(lib, version) {\n",
       "      var key = `${lib.replace(\"-\", \"\")}_version`;\n",
       "      return (VEGA_DEBUG[key] == version) ?\n",
       "        Promise.resolve(paths[lib]) :\n",
       "        new Promise(function(resolve, reject) {\n",
       "          var s = document.createElement('script');\n",
       "          document.getElementsByTagName(\"head\")[0].appendChild(s);\n",
       "          s.async = true;\n",
       "          s.onload = () => {\n",
       "            VEGA_DEBUG[key] = version;\n",
       "            return resolve(paths[lib]);\n",
       "          };\n",
       "          s.onerror = () => reject(`Error loading script: ${paths[lib]}`);\n",
       "          s.src = paths[lib];\n",
       "        });\n",
       "    }\n",
       "\n",
       "    function showError(err) {\n",
       "      outputDiv.innerHTML = `<div class=\"error\" style=\"color:red;\">${err}</div>`;\n",
       "      throw err;\n",
       "    }\n",
       "\n",
       "    function displayChart(vegaEmbed) {\n",
       "      vegaEmbed(outputDiv, spec, embedOpt)\n",
       "        .catch(err => showError(`Javascript Error: ${err.message}<br>This usually means there's a typo in your chart specification. See the javascript console for the full traceback.`));\n",
       "    }\n",
       "\n",
       "    if(typeof define === \"function\" && define.amd) {\n",
       "      requirejs.config({paths});\n",
       "      require([\"vega-embed\"], displayChart, err => showError(`Error loading script: ${err.message}`));\n",
       "    } else {\n",
       "      maybeLoadScript(\"vega\", \"5\")\n",
       "        .then(() => maybeLoadScript(\"vega-lite\", \"5.8.0\"))\n",
       "        .then(() => maybeLoadScript(\"vega-embed\", \"6\"))\n",
       "        .catch(showError)\n",
       "        .then(() => displayChart(vegaEmbed));\n",
       "    }\n",
       "  })({\"config\": {\"view\": {\"continuousWidth\": 300, \"continuousHeight\": 300}}, \"layer\": [{\"mark\": {\"type\": \"circle\"}, \"encoding\": {\"opacity\": {\"value\": 1.3}, \"tooltip\": [{\"field\": \"StichtagDatJahr\", \"type\": \"temporal\"}, {\"field\": \"sum_WBev\", \"type\": \"quantitative\"}], \"x\": {\"axis\": {\"title\": \"Jahr\"}, \"field\": \"StichtagDatJahr\", \"type\": \"temporal\"}, \"y\": {\"axis\": {\"title\": \"Anz. Personen\"}, \"field\": \"sum_WBev\", \"type\": \"quantitative\"}}, \"name\": \"view_3\", \"title\": \"Bev\\u00f6lkerungsentwicklung, seit 1893\"}, {\"mark\": {\"type\": \"line\"}, \"encoding\": {\"size\": {\"condition\": {\"test\": {\"not\": {\"param\": \"param_3\"}}, \"value\": 1.2}, \"value\": 3}, \"tooltip\": [{\"field\": \"StichtagDatJahr\", \"type\": \"temporal\"}, {\"field\": \"sum_WBev\", \"type\": \"quantitative\"}], \"x\": {\"axis\": {\"title\": \"Jahr\"}, \"field\": \"StichtagDatJahr\", \"type\": \"temporal\"}, \"y\": {\"axis\": {\"title\": \"Anz. Personen\"}, \"field\": \"sum_WBev\", \"type\": \"quantitative\"}}, \"title\": \"Bev\\u00f6lkerungsentwicklung, seit 1893\"}], \"data\": {\"name\": \"data-2f336f171e3e705c955e990e361553dd\"}, \"height\": 400, \"params\": [{\"name\": \"param_3\", \"select\": {\"type\": \"point\", \"fields\": [\"\"], \"nearest\": true, \"on\": \"pointerover\"}, \"views\": [\"view_3\"]}], \"width\": 750, \"$schema\": \"https://vega.github.io/schema/vega-lite/v5.8.0.json\", \"datasets\": {\"data-2f336f171e3e705c955e990e361553dd\": [{\"StichtagDatJahr\": \"2023-12-31T00:00:00\", \"sum_WBev\": 447082.0}, {\"StichtagDatJahr\": \"2022-12-31T00:00:00\", \"sum_WBev\": 443037.0}, {\"StichtagDatJahr\": \"2021-12-31T00:00:00\", \"sum_WBev\": 436332.0}, {\"StichtagDatJahr\": \"2020-12-31T00:00:00\", \"sum_WBev\": 434736.0}, {\"StichtagDatJahr\": \"2019-12-31T00:00:00\", \"sum_WBev\": 434008.0}, {\"StichtagDatJahr\": \"2018-12-31T00:00:00\", \"sum_WBev\": 428737.0}, {\"StichtagDatJahr\": \"2017-12-31T00:00:00\", \"sum_WBev\": 423310.0}, {\"StichtagDatJahr\": \"2016-12-31T00:00:00\", \"sum_WBev\": 415682.0}, {\"StichtagDatJahr\": \"2015-12-31T00:00:00\", \"sum_WBev\": 410404.0}, {\"StichtagDatJahr\": \"2014-12-31T00:00:00\", \"sum_WBev\": 404783.0}, {\"StichtagDatJahr\": \"2013-12-31T00:00:00\", \"sum_WBev\": 398575.0}, {\"StichtagDatJahr\": \"2012-12-31T00:00:00\", \"sum_WBev\": 394012.0}, {\"StichtagDatJahr\": \"2011-12-31T00:00:00\", \"sum_WBev\": 390082.0}, {\"StichtagDatJahr\": \"2010-12-31T00:00:00\", \"sum_WBev\": 385468.0}, {\"StichtagDatJahr\": \"2009-12-31T00:00:00\", \"sum_WBev\": 382906.0}, {\"StichtagDatJahr\": \"2008-12-31T00:00:00\", \"sum_WBev\": 380499.0}, {\"StichtagDatJahr\": \"2007-12-31T00:00:00\", \"sum_WBev\": 376815.0}, {\"StichtagDatJahr\": \"2006-12-31T00:00:00\", \"sum_WBev\": 370062.0}, {\"StichtagDatJahr\": \"2005-12-31T00:00:00\", \"sum_WBev\": 366809.0}, {\"StichtagDatJahr\": \"2004-12-31T00:00:00\", \"sum_WBev\": 364977.0}, {\"StichtagDatJahr\": \"2003-12-31T00:00:00\", \"sum_WBev\": 364528.0}, {\"StichtagDatJahr\": \"2002-12-31T00:00:00\", \"sum_WBev\": 364558.0}, {\"StichtagDatJahr\": \"2001-12-31T00:00:00\", \"sum_WBev\": 362042.0}, {\"StichtagDatJahr\": \"2000-12-31T00:00:00\", \"sum_WBev\": 360980.0}, {\"StichtagDatJahr\": \"1999-12-31T00:00:00\", \"sum_WBev\": 360704.0}, {\"StichtagDatJahr\": \"1998-12-31T00:00:00\", \"sum_WBev\": 359073.0}, {\"StichtagDatJahr\": \"1997-12-31T00:00:00\", \"sum_WBev\": 358594.0}, {\"StichtagDatJahr\": \"1996-12-31T00:00:00\", \"sum_WBev\": 359648.0}, {\"StichtagDatJahr\": \"1995-12-31T00:00:00\", \"sum_WBev\": 360826.0}, {\"StichtagDatJahr\": \"1994-12-31T00:00:00\", \"sum_WBev\": 360848.0}, {\"StichtagDatJahr\": \"1993-12-31T00:00:00\", \"sum_WBev\": 360898.0}, {\"StichtagDatJahr\": \"1992-12-31T00:00:00\", \"sum_WBev\": 359664.0}, {\"StichtagDatJahr\": \"1991-12-31T00:00:00\", \"sum_WBev\": 360875.0}, {\"StichtagDatJahr\": \"1990-12-31T00:00:00\", \"sum_WBev\": 356352.0}, {\"StichtagDatJahr\": \"1989-12-31T00:00:00\", \"sum_WBev\": 355901.0}, {\"StichtagDatJahr\": \"1988-12-31T00:00:00\", \"sum_WBev\": 357360.0}, {\"StichtagDatJahr\": \"1987-12-31T00:00:00\", \"sum_WBev\": 358042.0}, {\"StichtagDatJahr\": \"1986-12-31T00:00:00\", \"sum_WBev\": 358873.0}, {\"StichtagDatJahr\": \"1985-12-31T00:00:00\", \"sum_WBev\": 359084.0}, {\"StichtagDatJahr\": \"1984-12-31T00:00:00\", \"sum_WBev\": 361493.0}, {\"StichtagDatJahr\": \"1983-12-31T00:00:00\", \"sum_WBev\": 363652.0}, {\"StichtagDatJahr\": \"1982-12-31T00:00:00\", \"sum_WBev\": 366340.0}, {\"StichtagDatJahr\": \"1981-12-31T00:00:00\", \"sum_WBev\": 368171.0}, {\"StichtagDatJahr\": \"1980-12-31T00:00:00\", \"sum_WBev\": 370618.0}, {\"StichtagDatJahr\": \"1979-12-31T00:00:00\", \"sum_WBev\": 374221.0}, {\"StichtagDatJahr\": \"1978-12-31T00:00:00\", \"sum_WBev\": 376447.0}, {\"StichtagDatJahr\": \"1977-12-31T00:00:00\", \"sum_WBev\": 379635.0}, {\"StichtagDatJahr\": \"1976-12-31T00:00:00\", \"sum_WBev\": 382999.0}, {\"StichtagDatJahr\": \"1975-12-31T00:00:00\", \"sum_WBev\": 389613.0}, {\"StichtagDatJahr\": \"1974-12-31T00:00:00\", \"sum_WBev\": 396261.0}, {\"StichtagDatJahr\": \"1973-12-31T00:00:00\", \"sum_WBev\": 401577.0}, {\"StichtagDatJahr\": \"1972-12-31T00:00:00\", \"sum_WBev\": 407647.0}, {\"StichtagDatJahr\": \"1971-12-31T00:00:00\", \"sum_WBev\": 412169.0}, {\"StichtagDatJahr\": \"1970-12-31T00:00:00\", \"sum_WBev\": 420684.0}, {\"StichtagDatJahr\": \"1969-12-31T00:00:00\", \"sum_WBev\": 427598.0}, {\"StichtagDatJahr\": \"1968-12-31T00:00:00\", \"sum_WBev\": 432368.0}, {\"StichtagDatJahr\": \"1967-12-31T00:00:00\", \"sum_WBev\": 432547.0}, {\"StichtagDatJahr\": \"1966-12-31T00:00:00\", \"sum_WBev\": 433234.0}, {\"StichtagDatJahr\": \"1965-12-31T00:00:00\", \"sum_WBev\": 435310.0}, {\"StichtagDatJahr\": \"1964-12-31T00:00:00\", \"sum_WBev\": 438814.0}, {\"StichtagDatJahr\": \"1963-12-31T00:00:00\", \"sum_WBev\": 439983.0}, {\"StichtagDatJahr\": \"1962-12-31T00:00:00\", \"sum_WBev\": 443465.0}, {\"StichtagDatJahr\": \"1961-12-31T00:00:00\", \"sum_WBev\": 442314.0}, {\"StichtagDatJahr\": \"1960-12-31T00:00:00\", \"sum_WBev\": 439979.0}, {\"StichtagDatJahr\": \"1959-12-31T00:00:00\", \"sum_WBev\": 436475.0}, {\"StichtagDatJahr\": \"1958-12-31T00:00:00\", \"sum_WBev\": 433352.0}, {\"StichtagDatJahr\": \"1957-12-31T00:00:00\", \"sum_WBev\": 428174.0}, {\"StichtagDatJahr\": \"1956-12-31T00:00:00\", \"sum_WBev\": 422012.0}, {\"StichtagDatJahr\": \"1955-12-31T00:00:00\", \"sum_WBev\": 418588.0}, {\"StichtagDatJahr\": \"1954-12-31T00:00:00\", \"sum_WBev\": 414011.0}, {\"StichtagDatJahr\": \"1953-12-31T00:00:00\", \"sum_WBev\": 409260.0}, {\"StichtagDatJahr\": \"1952-12-31T00:00:00\", \"sum_WBev\": 404101.0}, {\"StichtagDatJahr\": \"1951-12-31T00:00:00\", \"sum_WBev\": 395683.0}, {\"StichtagDatJahr\": \"1950-12-31T00:00:00\", \"sum_WBev\": 388771.0}, {\"StichtagDatJahr\": \"1949-12-31T00:00:00\", \"sum_WBev\": 385280.0}, {\"StichtagDatJahr\": \"1948-12-31T00:00:00\", \"sum_WBev\": 382940.0}, {\"StichtagDatJahr\": \"1947-12-31T00:00:00\", \"sum_WBev\": 376564.0}, {\"StichtagDatJahr\": \"1946-12-31T00:00:00\", \"sum_WBev\": 366752.0}, {\"StichtagDatJahr\": \"1945-12-31T00:00:00\", \"sum_WBev\": 357060.0}, {\"StichtagDatJahr\": \"1944-12-31T00:00:00\", \"sum_WBev\": 351444.0}, {\"StichtagDatJahr\": \"1943-12-31T00:00:00\", \"sum_WBev\": 345658.0}, {\"StichtagDatJahr\": \"1942-12-31T00:00:00\", \"sum_WBev\": 339635.0}, {\"StichtagDatJahr\": \"1941-12-31T00:00:00\", \"sum_WBev\": 340280.0}, {\"StichtagDatJahr\": \"1940-12-31T00:00:00\", \"sum_WBev\": 337499.0}, {\"StichtagDatJahr\": \"1939-12-31T00:00:00\", \"sum_WBev\": 337164.0}, {\"StichtagDatJahr\": \"1938-12-31T00:00:00\", \"sum_WBev\": 329780.0}, {\"StichtagDatJahr\": \"1937-12-31T00:00:00\", \"sum_WBev\": 321380.0}, {\"StichtagDatJahr\": \"1936-12-31T00:00:00\", \"sum_WBev\": 319849.0}, {\"StichtagDatJahr\": \"1935-12-31T00:00:00\", \"sum_WBev\": 318981.0}, {\"StichtagDatJahr\": \"1934-12-31T00:00:00\", \"sum_WBev\": 317367.0}, {\"StichtagDatJahr\": \"1933-12-31T00:00:00\", \"sum_WBev\": 529014.0}, {\"StichtagDatJahr\": \"1932-12-31T00:00:00\", \"sum_WBev\": 522030.0}, {\"StichtagDatJahr\": \"1931-12-31T00:00:00\", \"sum_WBev\": 515318.0}, {\"StichtagDatJahr\": \"1930-12-31T00:00:00\", \"sum_WBev\": 493708.0}, {\"StichtagDatJahr\": \"1929-12-31T00:00:00\", \"sum_WBev\": 476469.0}, {\"StichtagDatJahr\": \"1928-12-31T00:00:00\", \"sum_WBev\": 457557.0}, {\"StichtagDatJahr\": \"1927-12-31T00:00:00\", \"sum_WBev\": 438347.0}, {\"StichtagDatJahr\": \"1926-12-31T00:00:00\", \"sum_WBev\": 427530.0}, {\"StichtagDatJahr\": \"1925-12-31T00:00:00\", \"sum_WBev\": 416726.0}, {\"StichtagDatJahr\": \"1924-12-31T00:00:00\", \"sum_WBev\": 411921.0}, {\"StichtagDatJahr\": \"1923-12-31T00:00:00\", \"sum_WBev\": 406998.0}, {\"StichtagDatJahr\": \"1922-12-31T00:00:00\", \"sum_WBev\": 399856.0}, {\"StichtagDatJahr\": \"1921-12-31T00:00:00\", \"sum_WBev\": 402115.0}, {\"StichtagDatJahr\": \"1920-12-31T00:00:00\", \"sum_WBev\": 412572.0}, {\"StichtagDatJahr\": \"1919-12-31T00:00:00\", \"sum_WBev\": 421143.0}, {\"StichtagDatJahr\": \"1918-12-31T00:00:00\", \"sum_WBev\": 423593.0}, {\"StichtagDatJahr\": \"1917-12-31T00:00:00\", \"sum_WBev\": 427049.0}, {\"StichtagDatJahr\": \"1916-12-31T00:00:00\", \"sum_WBev\": 412728.0}, {\"StichtagDatJahr\": \"1915-12-31T00:00:00\", \"sum_WBev\": 399957.0}, {\"StichtagDatJahr\": \"1914-12-31T00:00:00\", \"sum_WBev\": 392160.0}, {\"StichtagDatJahr\": \"1913-12-31T00:00:00\", \"sum_WBev\": 401578.0}, {\"StichtagDatJahr\": \"1912-12-31T00:00:00\", \"sum_WBev\": 401138.0}, {\"StichtagDatJahr\": \"1911-12-31T00:00:00\", \"sum_WBev\": 391163.0}, {\"StichtagDatJahr\": \"1910-12-31T00:00:00\", \"sum_WBev\": 380192.0}, {\"StichtagDatJahr\": \"1909-12-31T00:00:00\", \"sum_WBev\": 369558.0}, {\"StichtagDatJahr\": \"1908-12-31T00:00:00\", \"sum_WBev\": 360946.0}, {\"StichtagDatJahr\": \"1907-12-31T00:00:00\", \"sum_WBev\": 355336.0}, {\"StichtagDatJahr\": \"1906-12-31T00:00:00\", \"sum_WBev\": 346138.0}, {\"StichtagDatJahr\": \"1905-12-31T00:00:00\", \"sum_WBev\": 337754.0}, {\"StichtagDatJahr\": \"1904-12-31T00:00:00\", \"sum_WBev\": 328120.0}, {\"StichtagDatJahr\": \"1903-12-31T00:00:00\", \"sum_WBev\": 317438.0}, {\"StichtagDatJahr\": \"1902-12-31T00:00:00\", \"sum_WBev\": 307482.0}, {\"StichtagDatJahr\": \"1901-12-31T00:00:00\", \"sum_WBev\": 300602.0}, {\"StichtagDatJahr\": \"1900-12-31T00:00:00\", \"sum_WBev\": 150547.0}, {\"StichtagDatJahr\": \"1899-12-31T00:00:00\", \"sum_WBev\": 151225.0}, {\"StichtagDatJahr\": \"1898-12-31T00:00:00\", \"sum_WBev\": 149781.0}, {\"StichtagDatJahr\": \"1897-12-31T00:00:00\", \"sum_WBev\": 146257.0}, {\"StichtagDatJahr\": \"1896-12-31T00:00:00\", \"sum_WBev\": 139452.0}, {\"StichtagDatJahr\": \"1895-12-31T00:00:00\", \"sum_WBev\": 132485.0}, {\"StichtagDatJahr\": \"1894-12-31T00:00:00\", \"sum_WBev\": 124411.0}, {\"StichtagDatJahr\": \"1893-12-31T00:00:00\", \"sum_WBev\": 117044.0}]}}, {\"mode\": \"vega-lite\"});\n",
       "</script>"
      ],
      "text/plain": [
       "alt.LayerChart(...)"
      ]
     },
     "execution_count": 85,
     "metadata": {},
     "output_type": "execute_result"
    }
   ],
   "source": [
    "grafik1 = mypy_dv.plot_altair_multiline_highlight(\n",
    "    data = myAgg1.reset_index().query('sum_WBev>30')\n",
    "    ,x = 'StichtagDatJahr:T'\n",
    "    ,x_beschriftung = 'Jahr'\n",
    "    ,y = 'sum_WBev:Q'\n",
    "    ,y_beschriftung = 'Anz. Personen'\n",
    "    ,category=''\n",
    "    ,category_beschriftung=''\n",
    "    ,warning_status = \"ignore\" #always or ignore\n",
    "    ,myTitle=\"Bevölkerungsentwicklung, seit \"+data_min_date\n",
    ")\n",
    "grafik1"
   ]
  },
  {
   "cell_type": "code",
   "execution_count": 86,
   "metadata": {},
   "outputs": [
    {
     "name": "stdout",
     "output_type": "stream",
     "text": [
      "grafiken_testing/bev324od3243_alt1_total_2025-02-25.png\n"
     ]
    }
   ],
   "source": [
    "grafic_name = package_name+\"_alt1_total\"+date_today+\".png\"\n",
    "print('grafiken_testing/'+grafic_name)\n",
    "\n",
    "grafik1.save('grafiken_testing/'+grafic_name)"
   ]
  },
  {
   "cell_type": "code",
   "execution_count": 87,
   "metadata": {},
   "outputs": [
    {
     "data": {
      "application/vnd.microsoft.datawrangler.viewer.v0+json": {
       "columns": [
        {
         "name": "index",
         "rawType": "int64",
         "type": "integer"
        },
        {
         "name": "StichtagDatJahr",
         "rawType": "datetime64[ns]",
         "type": "datetime"
        },
        {
         "name": "RAUM_LANG",
         "rawType": "object",
         "type": "string"
        },
        {
         "name": "RAUM_CODE",
         "rawType": "object",
         "type": "string"
        },
        {
         "name": "sum_WBev",
         "rawType": "float64",
         "type": "float"
        }
       ],
       "conversionMethod": "pd.DataFrame",
       "ref": "2f4bb520-a171-4f5c-93e6-643a4aa90c27",
       "rows": [
        [
         "0",
         "2023-12-31 00:00:00",
         "Stadt Zürich (ab 1934)",
         "R30000",
         "447082.0"
        ],
        [
         "1",
         "2022-12-31 00:00:00",
         "Stadt Zürich (ab 1934)",
         "R30000",
         "443037.0"
        ]
       ],
       "shape": {
        "columns": 4,
        "rows": 2
       }
      },
      "text/html": [
       "<div>\n",
       "<style scoped>\n",
       "    .dataframe tbody tr th:only-of-type {\n",
       "        vertical-align: middle;\n",
       "    }\n",
       "\n",
       "    .dataframe tbody tr th {\n",
       "        vertical-align: top;\n",
       "    }\n",
       "\n",
       "    .dataframe thead th {\n",
       "        text-align: right;\n",
       "    }\n",
       "</style>\n",
       "<table border=\"1\" class=\"dataframe\">\n",
       "  <thead>\n",
       "    <tr style=\"text-align: right;\">\n",
       "      <th></th>\n",
       "      <th>StichtagDatJahr</th>\n",
       "      <th>RAUM_LANG</th>\n",
       "      <th>RAUM_CODE</th>\n",
       "      <th>sum_WBev</th>\n",
       "    </tr>\n",
       "  </thead>\n",
       "  <tbody>\n",
       "    <tr>\n",
       "      <th>0</th>\n",
       "      <td>2023-12-31</td>\n",
       "      <td>Stadt Zürich (ab 1934)</td>\n",
       "      <td>R30000</td>\n",
       "      <td>447082</td>\n",
       "    </tr>\n",
       "    <tr>\n",
       "      <th>1</th>\n",
       "      <td>2022-12-31</td>\n",
       "      <td>Stadt Zürich (ab 1934)</td>\n",
       "      <td>R30000</td>\n",
       "      <td>443037</td>\n",
       "    </tr>\n",
       "  </tbody>\n",
       "</table>\n",
       "</div>"
      ],
      "text/plain": [
       "  StichtagDatJahr               RAUM_LANG RAUM_CODE  sum_WBev\n",
       "0      2023-12-31  Stadt Zürich (ab 1934)    R30000    447082\n",
       "1      2022-12-31  Stadt Zürich (ab 1934)    R30000    443037"
      ]
     },
     "execution_count": 87,
     "metadata": {},
     "output_type": "execute_result"
    }
   ],
   "source": [
    "myAgg2= data2betested.loc[data_min_date:data_max_date]\\\n",
    "    .groupby(['StichtagDatJahr', 'RAUM_LANG', 'RAUM_CODE',]) \\\n",
    "    .agg(sum_WBev=('BEW', 'sum')) \\\n",
    "    .sort_values('StichtagDatJahr', ascending=False) \n",
    "\n",
    "myAgg2.reset_index().head(2)"
   ]
  },
  {
   "cell_type": "code",
   "execution_count": 88,
   "metadata": {},
   "outputs": [
    {
     "data": {
      "text/html": [
       "\n",
       "<style>\n",
       "  #altair-viz-613b055d3ace4c1badf3c8a1a670147b.vega-embed {\n",
       "    width: 100%;\n",
       "    display: flex;\n",
       "  }\n",
       "\n",
       "  #altair-viz-613b055d3ace4c1badf3c8a1a670147b.vega-embed details,\n",
       "  #altair-viz-613b055d3ace4c1badf3c8a1a670147b.vega-embed details summary {\n",
       "    position: relative;\n",
       "  }\n",
       "</style>\n",
       "<div id=\"altair-viz-613b055d3ace4c1badf3c8a1a670147b\"></div>\n",
       "<script type=\"text/javascript\">\n",
       "  var VEGA_DEBUG = (typeof VEGA_DEBUG == \"undefined\") ? {} : VEGA_DEBUG;\n",
       "  (function(spec, embedOpt){\n",
       "    let outputDiv = document.currentScript.previousElementSibling;\n",
       "    if (outputDiv.id !== \"altair-viz-613b055d3ace4c1badf3c8a1a670147b\") {\n",
       "      outputDiv = document.getElementById(\"altair-viz-613b055d3ace4c1badf3c8a1a670147b\");\n",
       "    }\n",
       "    const paths = {\n",
       "      \"vega\": \"https://cdn.jsdelivr.net/npm/vega@5?noext\",\n",
       "      \"vega-lib\": \"https://cdn.jsdelivr.net/npm/vega-lib?noext\",\n",
       "      \"vega-lite\": \"https://cdn.jsdelivr.net/npm/vega-lite@5.8.0?noext\",\n",
       "      \"vega-embed\": \"https://cdn.jsdelivr.net/npm/vega-embed@6?noext\",\n",
       "    };\n",
       "\n",
       "    function maybeLoadScript(lib, version) {\n",
       "      var key = `${lib.replace(\"-\", \"\")}_version`;\n",
       "      return (VEGA_DEBUG[key] == version) ?\n",
       "        Promise.resolve(paths[lib]) :\n",
       "        new Promise(function(resolve, reject) {\n",
       "          var s = document.createElement('script');\n",
       "          document.getElementsByTagName(\"head\")[0].appendChild(s);\n",
       "          s.async = true;\n",
       "          s.onload = () => {\n",
       "            VEGA_DEBUG[key] = version;\n",
       "            return resolve(paths[lib]);\n",
       "          };\n",
       "          s.onerror = () => reject(`Error loading script: ${paths[lib]}`);\n",
       "          s.src = paths[lib];\n",
       "        });\n",
       "    }\n",
       "\n",
       "    function showError(err) {\n",
       "      outputDiv.innerHTML = `<div class=\"error\" style=\"color:red;\">${err}</div>`;\n",
       "      throw err;\n",
       "    }\n",
       "\n",
       "    function displayChart(vegaEmbed) {\n",
       "      vegaEmbed(outputDiv, spec, embedOpt)\n",
       "        .catch(err => showError(`Javascript Error: ${err.message}<br>This usually means there's a typo in your chart specification. See the javascript console for the full traceback.`));\n",
       "    }\n",
       "\n",
       "    if(typeof define === \"function\" && define.amd) {\n",
       "      requirejs.config({paths});\n",
       "      require([\"vega-embed\"], displayChart, err => showError(`Error loading script: ${err.message}`));\n",
       "    } else {\n",
       "      maybeLoadScript(\"vega\", \"5\")\n",
       "        .then(() => maybeLoadScript(\"vega-lite\", \"5.8.0\"))\n",
       "        .then(() => maybeLoadScript(\"vega-embed\", \"6\"))\n",
       "        .catch(showError)\n",
       "        .then(() => displayChart(vegaEmbed));\n",
       "    }\n",
       "  })({\"config\": {\"view\": {\"continuousWidth\": 300, \"continuousHeight\": 300}}, \"layer\": [{\"mark\": {\"type\": \"circle\"}, \"encoding\": {\"color\": {\"field\": \"RAUM_LANG\", \"legend\": {\"orient\": \"right\", \"title\": \"\"}, \"type\": \"nominal\"}, \"opacity\": {\"value\": 1.3}, \"tooltip\": [{\"field\": \"StichtagDatJahr\", \"type\": \"temporal\"}, {\"field\": \"RAUM_LANG\", \"type\": \"nominal\"}, {\"field\": \"sum_WBev\", \"type\": \"quantitative\"}], \"x\": {\"axis\": {\"title\": \"Jahr\"}, \"field\": \"StichtagDatJahr\", \"type\": \"temporal\"}, \"y\": {\"axis\": {\"title\": \"Anz. Personen\"}, \"field\": \"sum_WBev\", \"type\": \"quantitative\"}}, \"name\": \"view_4\", \"title\": \"Bev\\u00f6lkerungsentwicklung nach Raum, seit 1893\"}, {\"mark\": {\"type\": \"line\"}, \"encoding\": {\"color\": {\"field\": \"RAUM_LANG\", \"legend\": {\"orient\": \"right\", \"title\": \"\"}, \"type\": \"nominal\"}, \"size\": {\"condition\": {\"test\": {\"not\": {\"param\": \"param_4\"}}, \"value\": 1.2}, \"value\": 3}, \"tooltip\": [{\"field\": \"StichtagDatJahr\", \"type\": \"temporal\"}, {\"field\": \"RAUM_LANG\", \"type\": \"nominal\"}, {\"field\": \"sum_WBev\", \"type\": \"quantitative\"}], \"x\": {\"axis\": {\"title\": \"Jahr\"}, \"field\": \"StichtagDatJahr\", \"type\": \"temporal\"}, \"y\": {\"axis\": {\"title\": \"Anz. Personen\"}, \"field\": \"sum_WBev\", \"type\": \"quantitative\"}}, \"title\": \"Bev\\u00f6lkerungsentwicklung nach Raum, seit 1893\"}], \"data\": {\"name\": \"data-9a0310b26588b2427f2bfcdf13272491\"}, \"height\": 400, \"params\": [{\"name\": \"param_4\", \"select\": {\"type\": \"point\", \"fields\": [\"RAUM_LANG\"], \"nearest\": true, \"on\": \"pointerover\"}, \"views\": [\"view_4\"]}], \"width\": 750, \"$schema\": \"https://vega.github.io/schema/vega-lite/v5.8.0.json\", \"datasets\": {\"data-9a0310b26588b2427f2bfcdf13272491\": [{\"StichtagDatJahr\": \"2023-12-31T00:00:00\", \"RAUM_LANG\": \"Stadt Z\\u00fcrich (ab 1934)\", \"RAUM_CODE\": \"R30000\", \"sum_WBev\": 447082.0}, {\"StichtagDatJahr\": \"2022-12-31T00:00:00\", \"RAUM_LANG\": \"Stadt Z\\u00fcrich (ab 1934)\", \"RAUM_CODE\": \"R30000\", \"sum_WBev\": 443037.0}, {\"StichtagDatJahr\": \"2021-12-31T00:00:00\", \"RAUM_LANG\": \"Stadt Z\\u00fcrich (ab 1934)\", \"RAUM_CODE\": \"R30000\", \"sum_WBev\": 436332.0}, {\"StichtagDatJahr\": \"2020-12-31T00:00:00\", \"RAUM_LANG\": \"Stadt Z\\u00fcrich (ab 1934)\", \"RAUM_CODE\": \"R30000\", \"sum_WBev\": 434736.0}, {\"StichtagDatJahr\": \"2019-12-31T00:00:00\", \"RAUM_LANG\": \"Stadt Z\\u00fcrich (ab 1934)\", \"RAUM_CODE\": \"R30000\", \"sum_WBev\": 434008.0}, {\"StichtagDatJahr\": \"2018-12-31T00:00:00\", \"RAUM_LANG\": \"Stadt Z\\u00fcrich (ab 1934)\", \"RAUM_CODE\": \"R30000\", \"sum_WBev\": 428737.0}, {\"StichtagDatJahr\": \"2017-12-31T00:00:00\", \"RAUM_LANG\": \"Stadt Z\\u00fcrich (ab 1934)\", \"RAUM_CODE\": \"R30000\", \"sum_WBev\": 423310.0}, {\"StichtagDatJahr\": \"2016-12-31T00:00:00\", \"RAUM_LANG\": \"Stadt Z\\u00fcrich (ab 1934)\", \"RAUM_CODE\": \"R30000\", \"sum_WBev\": 415682.0}, {\"StichtagDatJahr\": \"2015-12-31T00:00:00\", \"RAUM_LANG\": \"Stadt Z\\u00fcrich (ab 1934)\", \"RAUM_CODE\": \"R30000\", \"sum_WBev\": 410404.0}, {\"StichtagDatJahr\": \"2014-12-31T00:00:00\", \"RAUM_LANG\": \"Stadt Z\\u00fcrich (ab 1934)\", \"RAUM_CODE\": \"R30000\", \"sum_WBev\": 404783.0}, {\"StichtagDatJahr\": \"2013-12-31T00:00:00\", \"RAUM_LANG\": \"Stadt Z\\u00fcrich (ab 1934)\", \"RAUM_CODE\": \"R30000\", \"sum_WBev\": 398575.0}, {\"StichtagDatJahr\": \"2012-12-31T00:00:00\", \"RAUM_LANG\": \"Stadt Z\\u00fcrich (ab 1934)\", \"RAUM_CODE\": \"R30000\", \"sum_WBev\": 394012.0}, {\"StichtagDatJahr\": \"2011-12-31T00:00:00\", \"RAUM_LANG\": \"Stadt Z\\u00fcrich (ab 1934)\", \"RAUM_CODE\": \"R30000\", \"sum_WBev\": 390082.0}, {\"StichtagDatJahr\": \"2010-12-31T00:00:00\", \"RAUM_LANG\": \"Stadt Z\\u00fcrich (ab 1934)\", \"RAUM_CODE\": \"R30000\", \"sum_WBev\": 385468.0}, {\"StichtagDatJahr\": \"2009-12-31T00:00:00\", \"RAUM_LANG\": \"Stadt Z\\u00fcrich (ab 1934)\", \"RAUM_CODE\": \"R30000\", \"sum_WBev\": 382906.0}, {\"StichtagDatJahr\": \"2008-12-31T00:00:00\", \"RAUM_LANG\": \"Stadt Z\\u00fcrich (ab 1934)\", \"RAUM_CODE\": \"R30000\", \"sum_WBev\": 380499.0}, {\"StichtagDatJahr\": \"2007-12-31T00:00:00\", \"RAUM_LANG\": \"Stadt Z\\u00fcrich (ab 1934)\", \"RAUM_CODE\": \"R30000\", \"sum_WBev\": 376815.0}, {\"StichtagDatJahr\": \"2006-12-31T00:00:00\", \"RAUM_LANG\": \"Stadt Z\\u00fcrich (ab 1934)\", \"RAUM_CODE\": \"R30000\", \"sum_WBev\": 370062.0}, {\"StichtagDatJahr\": \"2005-12-31T00:00:00\", \"RAUM_LANG\": \"Stadt Z\\u00fcrich (ab 1934)\", \"RAUM_CODE\": \"R30000\", \"sum_WBev\": 366809.0}, {\"StichtagDatJahr\": \"2004-12-31T00:00:00\", \"RAUM_LANG\": \"Stadt Z\\u00fcrich (ab 1934)\", \"RAUM_CODE\": \"R30000\", \"sum_WBev\": 364977.0}, {\"StichtagDatJahr\": \"2003-12-31T00:00:00\", \"RAUM_LANG\": \"Stadt Z\\u00fcrich (ab 1934)\", \"RAUM_CODE\": \"R30000\", \"sum_WBev\": 364528.0}, {\"StichtagDatJahr\": \"2002-12-31T00:00:00\", \"RAUM_LANG\": \"Stadt Z\\u00fcrich (ab 1934)\", \"RAUM_CODE\": \"R30000\", \"sum_WBev\": 364558.0}, {\"StichtagDatJahr\": \"2001-12-31T00:00:00\", \"RAUM_LANG\": \"Stadt Z\\u00fcrich (ab 1934)\", \"RAUM_CODE\": \"R30000\", \"sum_WBev\": 362042.0}, {\"StichtagDatJahr\": \"2000-12-31T00:00:00\", \"RAUM_LANG\": \"Stadt Z\\u00fcrich (ab 1934)\", \"RAUM_CODE\": \"R30000\", \"sum_WBev\": 360980.0}, {\"StichtagDatJahr\": \"1999-12-31T00:00:00\", \"RAUM_LANG\": \"Stadt Z\\u00fcrich (ab 1934)\", \"RAUM_CODE\": \"R30000\", \"sum_WBev\": 360704.0}, {\"StichtagDatJahr\": \"1998-12-31T00:00:00\", \"RAUM_LANG\": \"Stadt Z\\u00fcrich (ab 1934)\", \"RAUM_CODE\": \"R30000\", \"sum_WBev\": 359073.0}, {\"StichtagDatJahr\": \"1997-12-31T00:00:00\", \"RAUM_LANG\": \"Stadt Z\\u00fcrich (ab 1934)\", \"RAUM_CODE\": \"R30000\", \"sum_WBev\": 358594.0}, {\"StichtagDatJahr\": \"1996-12-31T00:00:00\", \"RAUM_LANG\": \"Stadt Z\\u00fcrich (ab 1934)\", \"RAUM_CODE\": \"R30000\", \"sum_WBev\": 359648.0}, {\"StichtagDatJahr\": \"1995-12-31T00:00:00\", \"RAUM_LANG\": \"Stadt Z\\u00fcrich (ab 1934)\", \"RAUM_CODE\": \"R30000\", \"sum_WBev\": 360826.0}, {\"StichtagDatJahr\": \"1994-12-31T00:00:00\", \"RAUM_LANG\": \"Stadt Z\\u00fcrich (ab 1934)\", \"RAUM_CODE\": \"R30000\", \"sum_WBev\": 360848.0}, {\"StichtagDatJahr\": \"1993-12-31T00:00:00\", \"RAUM_LANG\": \"Stadt Z\\u00fcrich (ab 1934)\", \"RAUM_CODE\": \"R30000\", \"sum_WBev\": 360898.0}, {\"StichtagDatJahr\": \"1992-12-31T00:00:00\", \"RAUM_LANG\": \"Stadt Z\\u00fcrich (ab 1934)\", \"RAUM_CODE\": \"R30000\", \"sum_WBev\": 359664.0}, {\"StichtagDatJahr\": \"1991-12-31T00:00:00\", \"RAUM_LANG\": \"Stadt Z\\u00fcrich (ab 1934)\", \"RAUM_CODE\": \"R30000\", \"sum_WBev\": 360875.0}, {\"StichtagDatJahr\": \"1990-12-31T00:00:00\", \"RAUM_LANG\": \"Stadt Z\\u00fcrich (ab 1934)\", \"RAUM_CODE\": \"R30000\", \"sum_WBev\": 356352.0}, {\"StichtagDatJahr\": \"1989-12-31T00:00:00\", \"RAUM_LANG\": \"Stadt Z\\u00fcrich (ab 1934)\", \"RAUM_CODE\": \"R30000\", \"sum_WBev\": 355901.0}, {\"StichtagDatJahr\": \"1988-12-31T00:00:00\", \"RAUM_LANG\": \"Stadt Z\\u00fcrich (ab 1934)\", \"RAUM_CODE\": \"R30000\", \"sum_WBev\": 357360.0}, {\"StichtagDatJahr\": \"1987-12-31T00:00:00\", \"RAUM_LANG\": \"Stadt Z\\u00fcrich (ab 1934)\", \"RAUM_CODE\": \"R30000\", \"sum_WBev\": 358042.0}, {\"StichtagDatJahr\": \"1986-12-31T00:00:00\", \"RAUM_LANG\": \"Stadt Z\\u00fcrich (ab 1934)\", \"RAUM_CODE\": \"R30000\", \"sum_WBev\": 358873.0}, {\"StichtagDatJahr\": \"1985-12-31T00:00:00\", \"RAUM_LANG\": \"Stadt Z\\u00fcrich (ab 1934)\", \"RAUM_CODE\": \"R30000\", \"sum_WBev\": 359084.0}, {\"StichtagDatJahr\": \"1984-12-31T00:00:00\", \"RAUM_LANG\": \"Stadt Z\\u00fcrich (ab 1934)\", \"RAUM_CODE\": \"R30000\", \"sum_WBev\": 361493.0}, {\"StichtagDatJahr\": \"1983-12-31T00:00:00\", \"RAUM_LANG\": \"Stadt Z\\u00fcrich (ab 1934)\", \"RAUM_CODE\": \"R30000\", \"sum_WBev\": 363652.0}, {\"StichtagDatJahr\": \"1982-12-31T00:00:00\", \"RAUM_LANG\": \"Stadt Z\\u00fcrich (ab 1934)\", \"RAUM_CODE\": \"R30000\", \"sum_WBev\": 366340.0}, {\"StichtagDatJahr\": \"1981-12-31T00:00:00\", \"RAUM_LANG\": \"Stadt Z\\u00fcrich (ab 1934)\", \"RAUM_CODE\": \"R30000\", \"sum_WBev\": 368171.0}, {\"StichtagDatJahr\": \"1980-12-31T00:00:00\", \"RAUM_LANG\": \"Stadt Z\\u00fcrich (ab 1934)\", \"RAUM_CODE\": \"R30000\", \"sum_WBev\": 370618.0}, {\"StichtagDatJahr\": \"1979-12-31T00:00:00\", \"RAUM_LANG\": \"Stadt Z\\u00fcrich (ab 1934)\", \"RAUM_CODE\": \"R30000\", \"sum_WBev\": 374221.0}, {\"StichtagDatJahr\": \"1978-12-31T00:00:00\", \"RAUM_LANG\": \"Stadt Z\\u00fcrich (ab 1934)\", \"RAUM_CODE\": \"R30000\", \"sum_WBev\": 376447.0}, {\"StichtagDatJahr\": \"1977-12-31T00:00:00\", \"RAUM_LANG\": \"Stadt Z\\u00fcrich (ab 1934)\", \"RAUM_CODE\": \"R30000\", \"sum_WBev\": 379635.0}, {\"StichtagDatJahr\": \"1976-12-31T00:00:00\", \"RAUM_LANG\": \"Stadt Z\\u00fcrich (ab 1934)\", \"RAUM_CODE\": \"R30000\", \"sum_WBev\": 382999.0}, {\"StichtagDatJahr\": \"1975-12-31T00:00:00\", \"RAUM_LANG\": \"Stadt Z\\u00fcrich (ab 1934)\", \"RAUM_CODE\": \"R30000\", \"sum_WBev\": 389613.0}, {\"StichtagDatJahr\": \"1974-12-31T00:00:00\", \"RAUM_LANG\": \"Stadt Z\\u00fcrich (ab 1934)\", \"RAUM_CODE\": \"R30000\", \"sum_WBev\": 396261.0}, {\"StichtagDatJahr\": \"1973-12-31T00:00:00\", \"RAUM_LANG\": \"Stadt Z\\u00fcrich (ab 1934)\", \"RAUM_CODE\": \"R30000\", \"sum_WBev\": 401577.0}, {\"StichtagDatJahr\": \"1972-12-31T00:00:00\", \"RAUM_LANG\": \"Stadt Z\\u00fcrich (ab 1934)\", \"RAUM_CODE\": \"R30000\", \"sum_WBev\": 407647.0}, {\"StichtagDatJahr\": \"1971-12-31T00:00:00\", \"RAUM_LANG\": \"Stadt Z\\u00fcrich (ab 1934)\", \"RAUM_CODE\": \"R30000\", \"sum_WBev\": 412169.0}, {\"StichtagDatJahr\": \"1970-12-31T00:00:00\", \"RAUM_LANG\": \"Stadt Z\\u00fcrich (ab 1934)\", \"RAUM_CODE\": \"R30000\", \"sum_WBev\": 420684.0}, {\"StichtagDatJahr\": \"1969-12-31T00:00:00\", \"RAUM_LANG\": \"Stadt Z\\u00fcrich (ab 1934)\", \"RAUM_CODE\": \"R30000\", \"sum_WBev\": 427598.0}, {\"StichtagDatJahr\": \"1968-12-31T00:00:00\", \"RAUM_LANG\": \"Stadt Z\\u00fcrich (ab 1934)\", \"RAUM_CODE\": \"R30000\", \"sum_WBev\": 432368.0}, {\"StichtagDatJahr\": \"1967-12-31T00:00:00\", \"RAUM_LANG\": \"Stadt Z\\u00fcrich (ab 1934)\", \"RAUM_CODE\": \"R30000\", \"sum_WBev\": 432547.0}, {\"StichtagDatJahr\": \"1966-12-31T00:00:00\", \"RAUM_LANG\": \"Stadt Z\\u00fcrich (ab 1934)\", \"RAUM_CODE\": \"R30000\", \"sum_WBev\": 433234.0}, {\"StichtagDatJahr\": \"1965-12-31T00:00:00\", \"RAUM_LANG\": \"Stadt Z\\u00fcrich (ab 1934)\", \"RAUM_CODE\": \"R30000\", \"sum_WBev\": 435310.0}, {\"StichtagDatJahr\": \"1964-12-31T00:00:00\", \"RAUM_LANG\": \"Stadt Z\\u00fcrich (ab 1934)\", \"RAUM_CODE\": \"R30000\", \"sum_WBev\": 438814.0}, {\"StichtagDatJahr\": \"1963-12-31T00:00:00\", \"RAUM_LANG\": \"Stadt Z\\u00fcrich (ab 1934)\", \"RAUM_CODE\": \"R30000\", \"sum_WBev\": 439983.0}, {\"StichtagDatJahr\": \"1962-12-31T00:00:00\", \"RAUM_LANG\": \"Stadt Z\\u00fcrich (ab 1934)\", \"RAUM_CODE\": \"R30000\", \"sum_WBev\": 443465.0}, {\"StichtagDatJahr\": \"1961-12-31T00:00:00\", \"RAUM_LANG\": \"Stadt Z\\u00fcrich (ab 1934)\", \"RAUM_CODE\": \"R30000\", \"sum_WBev\": 442314.0}, {\"StichtagDatJahr\": \"1960-12-31T00:00:00\", \"RAUM_LANG\": \"Stadt Z\\u00fcrich (ab 1934)\", \"RAUM_CODE\": \"R30000\", \"sum_WBev\": 439979.0}, {\"StichtagDatJahr\": \"1959-12-31T00:00:00\", \"RAUM_LANG\": \"Stadt Z\\u00fcrich (ab 1934)\", \"RAUM_CODE\": \"R30000\", \"sum_WBev\": 436475.0}, {\"StichtagDatJahr\": \"1958-12-31T00:00:00\", \"RAUM_LANG\": \"Stadt Z\\u00fcrich (ab 1934)\", \"RAUM_CODE\": \"R30000\", \"sum_WBev\": 433352.0}, {\"StichtagDatJahr\": \"1957-12-31T00:00:00\", \"RAUM_LANG\": \"Stadt Z\\u00fcrich (ab 1934)\", \"RAUM_CODE\": \"R30000\", \"sum_WBev\": 428174.0}, {\"StichtagDatJahr\": \"1956-12-31T00:00:00\", \"RAUM_LANG\": \"Stadt Z\\u00fcrich (ab 1934)\", \"RAUM_CODE\": \"R30000\", \"sum_WBev\": 422012.0}, {\"StichtagDatJahr\": \"1955-12-31T00:00:00\", \"RAUM_LANG\": \"Stadt Z\\u00fcrich (ab 1934)\", \"RAUM_CODE\": \"R30000\", \"sum_WBev\": 418588.0}, {\"StichtagDatJahr\": \"1954-12-31T00:00:00\", \"RAUM_LANG\": \"Stadt Z\\u00fcrich (ab 1934)\", \"RAUM_CODE\": \"R30000\", \"sum_WBev\": 414011.0}, {\"StichtagDatJahr\": \"1953-12-31T00:00:00\", \"RAUM_LANG\": \"Stadt Z\\u00fcrich (ab 1934)\", \"RAUM_CODE\": \"R30000\", \"sum_WBev\": 409260.0}, {\"StichtagDatJahr\": \"1952-12-31T00:00:00\", \"RAUM_LANG\": \"Stadt Z\\u00fcrich (ab 1934)\", \"RAUM_CODE\": \"R30000\", \"sum_WBev\": 404101.0}, {\"StichtagDatJahr\": \"1951-12-31T00:00:00\", \"RAUM_LANG\": \"Stadt Z\\u00fcrich (ab 1934)\", \"RAUM_CODE\": \"R30000\", \"sum_WBev\": 395683.0}, {\"StichtagDatJahr\": \"1950-12-31T00:00:00\", \"RAUM_LANG\": \"Stadt Z\\u00fcrich (ab 1934)\", \"RAUM_CODE\": \"R30000\", \"sum_WBev\": 388771.0}, {\"StichtagDatJahr\": \"1949-12-31T00:00:00\", \"RAUM_LANG\": \"Stadt Z\\u00fcrich (ab 1934)\", \"RAUM_CODE\": \"R30000\", \"sum_WBev\": 385280.0}, {\"StichtagDatJahr\": \"1948-12-31T00:00:00\", \"RAUM_LANG\": \"Stadt Z\\u00fcrich (ab 1934)\", \"RAUM_CODE\": \"R30000\", \"sum_WBev\": 382940.0}, {\"StichtagDatJahr\": \"1947-12-31T00:00:00\", \"RAUM_LANG\": \"Stadt Z\\u00fcrich (ab 1934)\", \"RAUM_CODE\": \"R30000\", \"sum_WBev\": 376564.0}, {\"StichtagDatJahr\": \"1946-12-31T00:00:00\", \"RAUM_LANG\": \"Stadt Z\\u00fcrich (ab 1934)\", \"RAUM_CODE\": \"R30000\", \"sum_WBev\": 366752.0}, {\"StichtagDatJahr\": \"1945-12-31T00:00:00\", \"RAUM_LANG\": \"Stadt Z\\u00fcrich (ab 1934)\", \"RAUM_CODE\": \"R30000\", \"sum_WBev\": 357060.0}, {\"StichtagDatJahr\": \"1944-12-31T00:00:00\", \"RAUM_LANG\": \"Stadt Z\\u00fcrich (ab 1934)\", \"RAUM_CODE\": \"R30000\", \"sum_WBev\": 351444.0}, {\"StichtagDatJahr\": \"1943-12-31T00:00:00\", \"RAUM_LANG\": \"Stadt Z\\u00fcrich (ab 1934)\", \"RAUM_CODE\": \"R30000\", \"sum_WBev\": 345658.0}, {\"StichtagDatJahr\": \"1942-12-31T00:00:00\", \"RAUM_LANG\": \"Stadt Z\\u00fcrich (ab 1934)\", \"RAUM_CODE\": \"R30000\", \"sum_WBev\": 339635.0}, {\"StichtagDatJahr\": \"1941-12-31T00:00:00\", \"RAUM_LANG\": \"Stadt Z\\u00fcrich (ab 1934)\", \"RAUM_CODE\": \"R30000\", \"sum_WBev\": 340280.0}, {\"StichtagDatJahr\": \"1940-12-31T00:00:00\", \"RAUM_LANG\": \"Stadt Z\\u00fcrich (ab 1934)\", \"RAUM_CODE\": \"R30000\", \"sum_WBev\": 337499.0}, {\"StichtagDatJahr\": \"1939-12-31T00:00:00\", \"RAUM_LANG\": \"Stadt Z\\u00fcrich (ab 1934)\", \"RAUM_CODE\": \"R30000\", \"sum_WBev\": 337164.0}, {\"StichtagDatJahr\": \"1938-12-31T00:00:00\", \"RAUM_LANG\": \"Stadt Z\\u00fcrich (ab 1934)\", \"RAUM_CODE\": \"R30000\", \"sum_WBev\": 329780.0}, {\"StichtagDatJahr\": \"1937-12-31T00:00:00\", \"RAUM_LANG\": \"Stadt Z\\u00fcrich (ab 1934)\", \"RAUM_CODE\": \"R30000\", \"sum_WBev\": 321380.0}, {\"StichtagDatJahr\": \"1936-12-31T00:00:00\", \"RAUM_LANG\": \"Stadt Z\\u00fcrich (ab 1934)\", \"RAUM_CODE\": \"R30000\", \"sum_WBev\": 319849.0}, {\"StichtagDatJahr\": \"1935-12-31T00:00:00\", \"RAUM_LANG\": \"Stadt Z\\u00fcrich (ab 1934)\", \"RAUM_CODE\": \"R30000\", \"sum_WBev\": 318981.0}, {\"StichtagDatJahr\": \"1934-12-31T00:00:00\", \"RAUM_LANG\": \"Stadt Z\\u00fcrich (ab 1934)\", \"RAUM_CODE\": \"R30000\", \"sum_WBev\": 317367.0}, {\"StichtagDatJahr\": \"1933-12-31T00:00:00\", \"RAUM_LANG\": \"Stadt Z\\u00fcrich (ab 1934)\", \"RAUM_CODE\": \"R30000\", \"sum_WBev\": 264043.0}, {\"StichtagDatJahr\": \"1933-12-31T00:00:00\", \"RAUM_LANG\": \"Stadt nach 1. Eingemeindung 1893 (1893-1933)\", \"RAUM_CODE\": \"R20000\", \"sum_WBev\": 264971.0}, {\"StichtagDatJahr\": \"1932-12-31T00:00:00\", \"RAUM_LANG\": \"Stadt nach 1. Eingemeindung 1893 (1893-1933)\", \"RAUM_CODE\": \"R20000\", \"sum_WBev\": 261336.0}, {\"StichtagDatJahr\": \"1932-12-31T00:00:00\", \"RAUM_LANG\": \"Stadt Z\\u00fcrich (ab 1934)\", \"RAUM_CODE\": \"R30000\", \"sum_WBev\": 260694.0}, {\"StichtagDatJahr\": \"1931-12-31T00:00:00\", \"RAUM_LANG\": \"Stadt nach 1. Eingemeindung 1893 (1893-1933)\", \"RAUM_CODE\": \"R20000\", \"sum_WBev\": 257840.0}, {\"StichtagDatJahr\": \"1931-12-31T00:00:00\", \"RAUM_LANG\": \"Stadt Z\\u00fcrich (ab 1934)\", \"RAUM_CODE\": \"R30000\", \"sum_WBev\": 257478.0}, {\"StichtagDatJahr\": \"1930-12-31T00:00:00\", \"RAUM_LANG\": \"Stadt nach 1. Eingemeindung 1893 (1893-1933)\", \"RAUM_CODE\": \"R20000\", \"sum_WBev\": 244641.0}, {\"StichtagDatJahr\": \"1930-12-31T00:00:00\", \"RAUM_LANG\": \"Stadt Z\\u00fcrich (ab 1934)\", \"RAUM_CODE\": \"R30000\", \"sum_WBev\": 249067.0}, {\"StichtagDatJahr\": \"1929-12-31T00:00:00\", \"RAUM_LANG\": \"Stadt nach 1. Eingemeindung 1893 (1893-1933)\", \"RAUM_CODE\": \"R20000\", \"sum_WBev\": 236267.0}, {\"StichtagDatJahr\": \"1929-12-31T00:00:00\", \"RAUM_LANG\": \"Stadt Z\\u00fcrich (ab 1934)\", \"RAUM_CODE\": \"R30000\", \"sum_WBev\": 240202.0}, {\"StichtagDatJahr\": \"1928-12-31T00:00:00\", \"RAUM_LANG\": \"Stadt Z\\u00fcrich (ab 1934)\", \"RAUM_CODE\": \"R30000\", \"sum_WBev\": 230476.0}, {\"StichtagDatJahr\": \"1928-12-31T00:00:00\", \"RAUM_LANG\": \"Stadt nach 1. Eingemeindung 1893 (1893-1933)\", \"RAUM_CODE\": \"R20000\", \"sum_WBev\": 227081.0}, {\"StichtagDatJahr\": \"1927-12-31T00:00:00\", \"RAUM_LANG\": \"Stadt nach 1. Eingemeindung 1893 (1893-1933)\", \"RAUM_CODE\": \"R20000\", \"sum_WBev\": 217734.0}, {\"StichtagDatJahr\": \"1927-12-31T00:00:00\", \"RAUM_LANG\": \"Stadt Z\\u00fcrich (ab 1934)\", \"RAUM_CODE\": \"R30000\", \"sum_WBev\": 220613.0}, {\"StichtagDatJahr\": \"1926-12-31T00:00:00\", \"RAUM_LANG\": \"Stadt nach 1. Eingemeindung 1893 (1893-1933)\", \"RAUM_CODE\": \"R20000\", \"sum_WBev\": 212571.0}, {\"StichtagDatJahr\": \"1926-12-31T00:00:00\", \"RAUM_LANG\": \"Stadt Z\\u00fcrich (ab 1934)\", \"RAUM_CODE\": \"R30000\", \"sum_WBev\": 214959.0}, {\"StichtagDatJahr\": \"1925-12-31T00:00:00\", \"RAUM_LANG\": \"Stadt nach 1. Eingemeindung 1893 (1893-1933)\", \"RAUM_CODE\": \"R20000\", \"sum_WBev\": 207399.0}, {\"StichtagDatJahr\": \"1925-12-31T00:00:00\", \"RAUM_LANG\": \"Stadt Z\\u00fcrich (ab 1934)\", \"RAUM_CODE\": \"R30000\", \"sum_WBev\": 209327.0}, {\"StichtagDatJahr\": \"1924-12-31T00:00:00\", \"RAUM_LANG\": \"Stadt Z\\u00fcrich (ab 1934)\", \"RAUM_CODE\": \"R30000\", \"sum_WBev\": 206719.0}, {\"StichtagDatJahr\": \"1924-12-31T00:00:00\", \"RAUM_LANG\": \"Stadt nach 1. Eingemeindung 1893 (1893-1933)\", \"RAUM_CODE\": \"R20000\", \"sum_WBev\": 205202.0}, {\"StichtagDatJahr\": \"1923-12-31T00:00:00\", \"RAUM_LANG\": \"Stadt Z\\u00fcrich (ab 1934)\", \"RAUM_CODE\": \"R30000\", \"sum_WBev\": 204049.0}, {\"StichtagDatJahr\": \"1923-12-31T00:00:00\", \"RAUM_LANG\": \"Stadt nach 1. Eingemeindung 1893 (1893-1933)\", \"RAUM_CODE\": \"R20000\", \"sum_WBev\": 202949.0}, {\"StichtagDatJahr\": \"1922-12-31T00:00:00\", \"RAUM_LANG\": \"Stadt nach 1. Eingemeindung 1893 (1893-1933)\", \"RAUM_CODE\": \"R20000\", \"sum_WBev\": 199567.0}, {\"StichtagDatJahr\": \"1922-12-31T00:00:00\", \"RAUM_LANG\": \"Stadt Z\\u00fcrich (ab 1934)\", \"RAUM_CODE\": \"R30000\", \"sum_WBev\": 200289.0}, {\"StichtagDatJahr\": \"1921-12-31T00:00:00\", \"RAUM_LANG\": \"Stadt nach 1. Eingemeindung 1893 (1893-1933)\", \"RAUM_CODE\": \"R20000\", \"sum_WBev\": 200873.0}, {\"StichtagDatJahr\": \"1921-12-31T00:00:00\", \"RAUM_LANG\": \"Stadt Z\\u00fcrich (ab 1934)\", \"RAUM_CODE\": \"R30000\", \"sum_WBev\": 201242.0}, {\"StichtagDatJahr\": \"1920-12-31T00:00:00\", \"RAUM_LANG\": \"Stadt nach 1. Eingemeindung 1893 (1893-1933)\", \"RAUM_CODE\": \"R20000\", \"sum_WBev\": 206273.0}, {\"StichtagDatJahr\": \"1920-12-31T00:00:00\", \"RAUM_LANG\": \"Stadt Z\\u00fcrich (ab 1934)\", \"RAUM_CODE\": \"R30000\", \"sum_WBev\": 206299.0}, {\"StichtagDatJahr\": \"1919-12-31T00:00:00\", \"RAUM_LANG\": \"Stadt nach 1. Eingemeindung 1893 (1893-1933)\", \"RAUM_CODE\": \"R20000\", \"sum_WBev\": 210992.0}, {\"StichtagDatJahr\": \"1919-12-31T00:00:00\", \"RAUM_LANG\": \"Stadt Z\\u00fcrich (ab 1934)\", \"RAUM_CODE\": \"R30000\", \"sum_WBev\": 210151.0}, {\"StichtagDatJahr\": \"1918-12-31T00:00:00\", \"RAUM_LANG\": \"Stadt nach 1. Eingemeindung 1893 (1893-1933)\", \"RAUM_CODE\": \"R20000\", \"sum_WBev\": 212172.0}, {\"StichtagDatJahr\": \"1918-12-31T00:00:00\", \"RAUM_LANG\": \"Stadt Z\\u00fcrich (ab 1934)\", \"RAUM_CODE\": \"R30000\", \"sum_WBev\": 211421.0}, {\"StichtagDatJahr\": \"1917-12-31T00:00:00\", \"RAUM_LANG\": \"Stadt Z\\u00fcrich (ab 1934)\", \"RAUM_CODE\": \"R30000\", \"sum_WBev\": 213193.0}, {\"StichtagDatJahr\": \"1917-12-31T00:00:00\", \"RAUM_LANG\": \"Stadt nach 1. Eingemeindung 1893 (1893-1933)\", \"RAUM_CODE\": \"R20000\", \"sum_WBev\": 213856.0}, {\"StichtagDatJahr\": \"1916-12-31T00:00:00\", \"RAUM_LANG\": \"Stadt nach 1. Eingemeindung 1893 (1893-1933)\", \"RAUM_CODE\": \"R20000\", \"sum_WBev\": 206655.0}, {\"StichtagDatJahr\": \"1916-12-31T00:00:00\", \"RAUM_LANG\": \"Stadt Z\\u00fcrich (ab 1934)\", \"RAUM_CODE\": \"R30000\", \"sum_WBev\": 206073.0}, {\"StichtagDatJahr\": \"1915-12-31T00:00:00\", \"RAUM_LANG\": \"Stadt nach 1. Eingemeindung 1893 (1893-1933)\", \"RAUM_CODE\": \"R20000\", \"sum_WBev\": 200231.0}, {\"StichtagDatJahr\": \"1915-12-31T00:00:00\", \"RAUM_LANG\": \"Stadt Z\\u00fcrich (ab 1934)\", \"RAUM_CODE\": \"R30000\", \"sum_WBev\": 199726.0}, {\"StichtagDatJahr\": \"1914-12-31T00:00:00\", \"RAUM_LANG\": \"Stadt nach 1. Eingemeindung 1893 (1893-1933)\", \"RAUM_CODE\": \"R20000\", \"sum_WBev\": 196293.0}, {\"StichtagDatJahr\": \"1914-12-31T00:00:00\", \"RAUM_LANG\": \"Stadt Z\\u00fcrich (ab 1934)\", \"RAUM_CODE\": \"R30000\", \"sum_WBev\": 195867.0}, {\"StichtagDatJahr\": \"1913-12-31T00:00:00\", \"RAUM_LANG\": \"Stadt Z\\u00fcrich (ab 1934)\", \"RAUM_CODE\": \"R30000\", \"sum_WBev\": 200632.0}, {\"StichtagDatJahr\": \"1913-12-31T00:00:00\", \"RAUM_LANG\": \"Stadt nach 1. Eingemeindung 1893 (1893-1933)\", \"RAUM_CODE\": \"R20000\", \"sum_WBev\": 200946.0}, {\"StichtagDatJahr\": \"1912-12-31T00:00:00\", \"RAUM_LANG\": \"Stadt Z\\u00fcrich (ab 1934)\", \"RAUM_CODE\": \"R30000\", \"sum_WBev\": 200462.0}, {\"StichtagDatJahr\": \"1912-12-31T00:00:00\", \"RAUM_LANG\": \"Stadt nach 1. Eingemeindung 1893 (1893-1933)\", \"RAUM_CODE\": \"R20000\", \"sum_WBev\": 200676.0}, {\"StichtagDatJahr\": \"1911-12-31T00:00:00\", \"RAUM_LANG\": \"Stadt nach 1. Eingemeindung 1893 (1893-1933)\", \"RAUM_CODE\": \"R20000\", \"sum_WBev\": 195638.0}, {\"StichtagDatJahr\": \"1911-12-31T00:00:00\", \"RAUM_LANG\": \"Stadt Z\\u00fcrich (ab 1934)\", \"RAUM_CODE\": \"R30000\", \"sum_WBev\": 195525.0}, {\"StichtagDatJahr\": \"1910-12-31T00:00:00\", \"RAUM_LANG\": \"Stadt nach 1. Eingemeindung 1893 (1893-1933)\", \"RAUM_CODE\": \"R20000\", \"sum_WBev\": 190100.0}, {\"StichtagDatJahr\": \"1910-12-31T00:00:00\", \"RAUM_LANG\": \"Stadt Z\\u00fcrich (ab 1934)\", \"RAUM_CODE\": \"R30000\", \"sum_WBev\": 190092.0}, {\"StichtagDatJahr\": \"1909-12-31T00:00:00\", \"RAUM_LANG\": \"Stadt nach 1. Eingemeindung 1893 (1893-1933)\", \"RAUM_CODE\": \"R20000\", \"sum_WBev\": 184517.0}, {\"StichtagDatJahr\": \"1909-12-31T00:00:00\", \"RAUM_LANG\": \"Stadt Z\\u00fcrich (ab 1934)\", \"RAUM_CODE\": \"R30000\", \"sum_WBev\": 185041.0}, {\"StichtagDatJahr\": \"1908-12-31T00:00:00\", \"RAUM_LANG\": \"Stadt nach 1. Eingemeindung 1893 (1893-1933)\", \"RAUM_CODE\": \"R20000\", \"sum_WBev\": 180224.0}, {\"StichtagDatJahr\": \"1908-12-31T00:00:00\", \"RAUM_LANG\": \"Stadt Z\\u00fcrich (ab 1934)\", \"RAUM_CODE\": \"R30000\", \"sum_WBev\": 180722.0}, {\"StichtagDatJahr\": \"1907-12-31T00:00:00\", \"RAUM_LANG\": \"Stadt Z\\u00fcrich (ab 1934)\", \"RAUM_CODE\": \"R30000\", \"sum_WBev\": 177899.0}, {\"StichtagDatJahr\": \"1907-12-31T00:00:00\", \"RAUM_LANG\": \"Stadt nach 1. Eingemeindung 1893 (1893-1933)\", \"RAUM_CODE\": \"R20000\", \"sum_WBev\": 177437.0}, {\"StichtagDatJahr\": \"1906-12-31T00:00:00\", \"RAUM_LANG\": \"Stadt nach 1. Eingemeindung 1893 (1893-1933)\", \"RAUM_CODE\": \"R20000\", \"sum_WBev\": 172855.0}, {\"StichtagDatJahr\": \"1906-12-31T00:00:00\", \"RAUM_LANG\": \"Stadt Z\\u00fcrich (ab 1934)\", \"RAUM_CODE\": \"R30000\", \"sum_WBev\": 173283.0}, {\"StichtagDatJahr\": \"1905-12-31T00:00:00\", \"RAUM_LANG\": \"Stadt nach 1. Eingemeindung 1893 (1893-1933)\", \"RAUM_CODE\": \"R20000\", \"sum_WBev\": 168877.0}, {\"StichtagDatJahr\": \"1905-12-31T00:00:00\", \"RAUM_LANG\": \"Stadt Z\\u00fcrich (ab 1934)\", \"RAUM_CODE\": \"R30000\", \"sum_WBev\": 168877.0}, {\"StichtagDatJahr\": \"1904-12-31T00:00:00\", \"RAUM_LANG\": \"Stadt nach 1. Eingemeindung 1893 (1893-1933)\", \"RAUM_CODE\": \"R20000\", \"sum_WBev\": 164060.0}, {\"StichtagDatJahr\": \"1904-12-31T00:00:00\", \"RAUM_LANG\": \"Stadt Z\\u00fcrich (ab 1934)\", \"RAUM_CODE\": \"R30000\", \"sum_WBev\": 164060.0}, {\"StichtagDatJahr\": \"1903-12-31T00:00:00\", \"RAUM_LANG\": \"Stadt nach 1. Eingemeindung 1893 (1893-1933)\", \"RAUM_CODE\": \"R20000\", \"sum_WBev\": 158719.0}, {\"StichtagDatJahr\": \"1903-12-31T00:00:00\", \"RAUM_LANG\": \"Stadt Z\\u00fcrich (ab 1934)\", \"RAUM_CODE\": \"R30000\", \"sum_WBev\": 158719.0}, {\"StichtagDatJahr\": \"1902-12-31T00:00:00\", \"RAUM_LANG\": \"Stadt nach 1. Eingemeindung 1893 (1893-1933)\", \"RAUM_CODE\": \"R20000\", \"sum_WBev\": 153741.0}, {\"StichtagDatJahr\": \"1902-12-31T00:00:00\", \"RAUM_LANG\": \"Stadt Z\\u00fcrich (ab 1934)\", \"RAUM_CODE\": \"R30000\", \"sum_WBev\": 153741.0}, {\"StichtagDatJahr\": \"1901-12-31T00:00:00\", \"RAUM_LANG\": \"Stadt nach 1. Eingemeindung 1893 (1893-1933)\", \"RAUM_CODE\": \"R20000\", \"sum_WBev\": 150301.0}, {\"StichtagDatJahr\": \"1901-12-31T00:00:00\", \"RAUM_LANG\": \"Stadt Z\\u00fcrich (ab 1934)\", \"RAUM_CODE\": \"R30000\", \"sum_WBev\": 150301.0}, {\"StichtagDatJahr\": \"1900-12-31T00:00:00\", \"RAUM_LANG\": \"Stadt nach 1. Eingemeindung 1893 (1893-1933)\", \"RAUM_CODE\": \"R20000\", \"sum_WBev\": 150547.0}, {\"StichtagDatJahr\": \"1899-12-31T00:00:00\", \"RAUM_LANG\": \"Stadt nach 1. Eingemeindung 1893 (1893-1933)\", \"RAUM_CODE\": \"R20000\", \"sum_WBev\": 151225.0}, {\"StichtagDatJahr\": \"1898-12-31T00:00:00\", \"RAUM_LANG\": \"Stadt nach 1. Eingemeindung 1893 (1893-1933)\", \"RAUM_CODE\": \"R20000\", \"sum_WBev\": 149781.0}, {\"StichtagDatJahr\": \"1897-12-31T00:00:00\", \"RAUM_LANG\": \"Stadt nach 1. Eingemeindung 1893 (1893-1933)\", \"RAUM_CODE\": \"R20000\", \"sum_WBev\": 146257.0}, {\"StichtagDatJahr\": \"1896-12-31T00:00:00\", \"RAUM_LANG\": \"Stadt nach 1. Eingemeindung 1893 (1893-1933)\", \"RAUM_CODE\": \"R20000\", \"sum_WBev\": 139452.0}, {\"StichtagDatJahr\": \"1895-12-31T00:00:00\", \"RAUM_LANG\": \"Stadt nach 1. Eingemeindung 1893 (1893-1933)\", \"RAUM_CODE\": \"R20000\", \"sum_WBev\": 132485.0}, {\"StichtagDatJahr\": \"1894-12-31T00:00:00\", \"RAUM_LANG\": \"Stadt nach 1. Eingemeindung 1893 (1893-1933)\", \"RAUM_CODE\": \"R20000\", \"sum_WBev\": 124411.0}, {\"StichtagDatJahr\": \"1893-12-31T00:00:00\", \"RAUM_LANG\": \"Stadt nach 1. Eingemeindung 1893 (1893-1933)\", \"RAUM_CODE\": \"R20000\", \"sum_WBev\": 117044.0}]}}, {\"mode\": \"vega-lite\"});\n",
       "</script>"
      ],
      "text/plain": [
       "alt.LayerChart(...)"
      ]
     },
     "execution_count": 88,
     "metadata": {},
     "output_type": "execute_result"
    }
   ],
   "source": [
    "grafik2 = mypy_dv.plot_altair_multiline_highlight(\n",
    "    data = myAgg2.reset_index().query('sum_WBev>30')\n",
    "    ,x = 'StichtagDatJahr:T'\n",
    "    ,x_beschriftung = 'Jahr'\n",
    "    ,y = 'sum_WBev:Q'\n",
    "    ,y_beschriftung = 'Anz. Personen'\n",
    "    ,category='RAUM_LANG'\n",
    "    ,category_beschriftung=''\n",
    "    ,warning_status = \"ignore\" #always or ignore\n",
    "    ,myTitle=\"Bevölkerungsentwicklung nach Raum, seit \"+data_min_date\n",
    ")\n",
    "grafik2"
   ]
  },
  {
   "cell_type": "code",
   "execution_count": 89,
   "metadata": {},
   "outputs": [
    {
     "name": "stdout",
     "output_type": "stream",
     "text": [
      "grafiken_testing/bev324od3243_alt2_raum_2025-02-25.png\n"
     ]
    }
   ],
   "source": [
    "grafic_name = package_name+\"_alt2_raum\"+date_today+\".png\"\n",
    "print('grafiken_testing/'+grafic_name)\n",
    "\n",
    "grafik2.save('grafiken_testing/'+grafic_name)"
   ]
  },
  {
   "cell_type": "markdown",
   "metadata": {
    "tags": []
   },
   "source": [
    "#### Barcharts mit Seaborn"
   ]
  },
  {
   "cell_type": "code",
   "execution_count": 90,
   "metadata": {},
   "outputs": [
    {
     "data": {
      "application/vnd.microsoft.datawrangler.viewer.v0+json": {
       "columns": [
        {
         "name": "index",
         "rawType": "int64",
         "type": "integer"
        },
        {
         "name": "StichtagDatJahr",
         "rawType": "datetime64[ns]",
         "type": "datetime"
        },
        {
         "name": "Jahr_nbr",
         "rawType": "int32",
         "type": "integer"
        },
        {
         "name": "RAUM_LANG",
         "rawType": "object",
         "type": "string"
        },
        {
         "name": "RAUM_CODE",
         "rawType": "object",
         "type": "string"
        },
        {
         "name": "sum_WBev",
         "rawType": "float64",
         "type": "float"
        }
       ],
       "conversionMethod": "pd.DataFrame",
       "ref": "648719f8-d59d-4a44-8174-c514a642efee",
       "rows": [
        [
         "0",
         "1893-12-31 00:00:00",
         "1893",
         "Stadt nach 1. Eingemeindung 1893 (1893-1933)",
         "R20000",
         "117044.0"
        ],
        [
         "1",
         "1894-12-31 00:00:00",
         "1894",
         "Stadt nach 1. Eingemeindung 1893 (1893-1933)",
         "R20000",
         "124411.0"
        ],
        [
         "2",
         "1895-12-31 00:00:00",
         "1895",
         "Stadt nach 1. Eingemeindung 1893 (1893-1933)",
         "R20000",
         "132485.0"
        ]
       ],
       "shape": {
        "columns": 5,
        "rows": 3
       }
      },
      "text/html": [
       "<div>\n",
       "<style scoped>\n",
       "    .dataframe tbody tr th:only-of-type {\n",
       "        vertical-align: middle;\n",
       "    }\n",
       "\n",
       "    .dataframe tbody tr th {\n",
       "        vertical-align: top;\n",
       "    }\n",
       "\n",
       "    .dataframe thead th {\n",
       "        text-align: right;\n",
       "    }\n",
       "</style>\n",
       "<table border=\"1\" class=\"dataframe\">\n",
       "  <thead>\n",
       "    <tr style=\"text-align: right;\">\n",
       "      <th></th>\n",
       "      <th>StichtagDatJahr</th>\n",
       "      <th>Jahr_nbr</th>\n",
       "      <th>RAUM_LANG</th>\n",
       "      <th>RAUM_CODE</th>\n",
       "      <th>sum_WBev</th>\n",
       "    </tr>\n",
       "  </thead>\n",
       "  <tbody>\n",
       "    <tr>\n",
       "      <th>0</th>\n",
       "      <td>1893-12-31</td>\n",
       "      <td>1893</td>\n",
       "      <td>Stadt nach 1. Eingemeindung 1893 (1893-1933)</td>\n",
       "      <td>R20000</td>\n",
       "      <td>117044</td>\n",
       "    </tr>\n",
       "    <tr>\n",
       "      <th>1</th>\n",
       "      <td>1894-12-31</td>\n",
       "      <td>1894</td>\n",
       "      <td>Stadt nach 1. Eingemeindung 1893 (1893-1933)</td>\n",
       "      <td>R20000</td>\n",
       "      <td>124411</td>\n",
       "    </tr>\n",
       "    <tr>\n",
       "      <th>2</th>\n",
       "      <td>1895-12-31</td>\n",
       "      <td>1895</td>\n",
       "      <td>Stadt nach 1. Eingemeindung 1893 (1893-1933)</td>\n",
       "      <td>R20000</td>\n",
       "      <td>132485</td>\n",
       "    </tr>\n",
       "  </tbody>\n",
       "</table>\n",
       "</div>"
      ],
      "text/plain": [
       "  StichtagDatJahr  Jahr_nbr                                     RAUM_LANG RAUM_CODE  sum_WBev\n",
       "0      1893-12-31      1893  Stadt nach 1. Eingemeindung 1893 (1893-1933)    R20000    117044\n",
       "1      1894-12-31      1894  Stadt nach 1. Eingemeindung 1893 (1893-1933)    R20000    124411\n",
       "2      1895-12-31      1895  Stadt nach 1. Eingemeindung 1893 (1893-1933)    R20000    132485"
      ]
     },
     "execution_count": 90,
     "metadata": {},
     "output_type": "execute_result"
    }
   ],
   "source": [
    "#myAgg = data2betested.loc[\"2008-11-30\":\"2021-10-31\"]\n",
    "myAggBar = data2betested.loc[data_min_date:data_max_date]\\\n",
    "    .groupby(['StichtagDatJahr','Jahr_nbr', 'RAUM_LANG', 'RAUM_CODE']) \\\n",
    "    .agg(sum_WBev=('BEW', 'sum')) \\\n",
    "    .sort_values('StichtagDatJahr', ascending=True) \n",
    "\n",
    "myAggBar.reset_index().head(3)"
   ]
  },
  {
   "cell_type": "code",
   "execution_count": 91,
   "metadata": {},
   "outputs": [],
   "source": [
    "#help(sns.catplot)     "
   ]
  },
  {
   "cell_type": "code",
   "execution_count": 92,
   "metadata": {},
   "outputs": [],
   "source": [
    "#Stile for the following sns graphs\n",
    "sns.set_theme(style=\"whitegrid\")"
   ]
  },
  {
   "cell_type": "code",
   "execution_count": 93,
   "metadata": {},
   "outputs": [
    {
     "data": {
      "text/plain": [
       "<seaborn.axisgrid.FacetGrid at 0x2128ae41690>"
      ]
     },
     "execution_count": 93,
     "metadata": {},
     "output_type": "execute_result"
    },
    {
     "data": {
      "image/png": "[encoded data removed]",
      "text/plain": [
       "<Figure size 1380.88x500 with 1 Axes>"
      ]
     },
     "metadata": {},
     "output_type": "display_data"
    }
   ],
   "source": [
    "#sns.color_palette(\"flare\", as_cmap=True)\n",
    "myHist = sns.catplot(x=\"Jahr_nbr\"\n",
    "            , y=\"sum_WBev\"\n",
    "            , hue=\"RAUM_LANG\"\n",
    "            , kind=\"bar\" #boxen, violin, --> wenn die aggregation nicht genau den werten in der grafik entspricht\n",
    "            , palette=\"pastel\" #, color=\"green\"\n",
    "            , height=5\n",
    "            , aspect=2\n",
    "            , order=None, legend_out=True\n",
    "            ,data=myAggBar.reset_index().sort_values(\"RAUM_CODE\", ascending=True)\n",
    "           )\n",
    "myHist.set_xlabels('Quartiere', fontsize=11) # not set_label\n",
    "myHist.set_ylabels('Anz. Pers.', fontsize=11)\n"
   ]
  },
  {
   "cell_type": "code",
   "execution_count": 94,
   "metadata": {},
   "outputs": [
    {
     "data": {
      "application/vnd.microsoft.datawrangler.viewer.v0+json": {
       "columns": [
        {
         "name": "('Jahr_nbr', 'StichtagDatJahr_str', 'RAUM_LANG', 'RAUM_CODE', 'RAUM_my_sort')",
         "rawType": "object",
         "type": "unknown"
        },
        {
         "name": "sum_WBev",
         "rawType": "float64",
         "type": "float"
        }
       ],
       "conversionMethod": "pd.DataFrame",
       "ref": "53bb7abb-2f6d-45e6-8dd2-d579bd1b51d3",
       "rows": [
        [
         "(1893, '1893-12-31', 'Stadt nach 1. Eingemeindung 1893 (1893-1933)', 'R20000', 20000)",
         "117044.0"
        ],
        [
         "(1911, '1911-12-31', 'Stadt nach 1. Eingemeindung 1893 (1893-1933)', 'R20000', 20000)",
         "195638.0"
        ]
       ],
       "shape": {
        "columns": 1,
        "rows": 2
       }
      },
      "text/html": [
       "<div>\n",
       "<style scoped>\n",
       "    .dataframe tbody tr th:only-of-type {\n",
       "        vertical-align: middle;\n",
       "    }\n",
       "\n",
       "    .dataframe tbody tr th {\n",
       "        vertical-align: top;\n",
       "    }\n",
       "\n",
       "    .dataframe thead th {\n",
       "        text-align: right;\n",
       "    }\n",
       "</style>\n",
       "<table border=\"1\" class=\"dataframe\">\n",
       "  <thead>\n",
       "    <tr style=\"text-align: right;\">\n",
       "      <th></th>\n",
       "      <th></th>\n",
       "      <th></th>\n",
       "      <th></th>\n",
       "      <th></th>\n",
       "      <th>sum_WBev</th>\n",
       "    </tr>\n",
       "    <tr>\n",
       "      <th>Jahr_nbr</th>\n",
       "      <th>StichtagDatJahr_str</th>\n",
       "      <th>RAUM_LANG</th>\n",
       "      <th>RAUM_CODE</th>\n",
       "      <th>RAUM_my_sort</th>\n",
       "      <th></th>\n",
       "    </tr>\n",
       "  </thead>\n",
       "  <tbody>\n",
       "    <tr>\n",
       "      <th>1893</th>\n",
       "      <th>1893-12-31</th>\n",
       "      <th>Stadt nach 1. Eingemeindung 1893 (1893-1933)</th>\n",
       "      <th>R20000</th>\n",
       "      <th>20000</th>\n",
       "      <td>117044</td>\n",
       "    </tr>\n",
       "    <tr>\n",
       "      <th>1911</th>\n",
       "      <th>1911-12-31</th>\n",
       "      <th>Stadt nach 1. Eingemeindung 1893 (1893-1933)</th>\n",
       "      <th>R20000</th>\n",
       "      <th>20000</th>\n",
       "      <td>195638</td>\n",
       "    </tr>\n",
       "  </tbody>\n",
       "</table>\n",
       "</div>"
      ],
      "text/plain": [
       "                                                                                                  sum_WBev\n",
       "Jahr_nbr StichtagDatJahr_str RAUM_LANG                                    RAUM_CODE RAUM_my_sort          \n",
       "1893     1893-12-31          Stadt nach 1. Eingemeindung 1893 (1893-1933) R20000    20000           117044\n",
       "1911     1911-12-31          Stadt nach 1. Eingemeindung 1893 (1893-1933) R20000    20000           195638"
      ]
     },
     "execution_count": 94,
     "metadata": {},
     "output_type": "execute_result"
    }
   ],
   "source": [
    "myFG = data2betested.loc[data_min_date:data_max_date]\\\n",
    "    .groupby(['Jahr_nbr','StichtagDatJahr_str', 'RAUM_LANG', 'RAUM_CODE', 'RAUM_my_sort']) \\\n",
    "    .agg(sum_WBev=('BEW', 'sum')) \\\n",
    "    .sort_values('RAUM_my_sort', ascending=True) \n",
    "\n",
    "myFG.head(2)"
   ]
  },
  {
   "cell_type": "code",
   "execution_count": 95,
   "metadata": {},
   "outputs": [
    {
     "data": {
      "text/plain": [
       "<seaborn.axisgrid.FacetGrid at 0x212ee25c610>"
      ]
     },
     "execution_count": 95,
     "metadata": {},
     "output_type": "execute_result"
    },
    {
     "data": {
      "image/png": "[encoded data removed]",
      "text/plain": [
       "<Figure size 1180.88x400 with 2 Axes>"
      ]
     },
     "metadata": {},
     "output_type": "display_data"
    }
   ],
   "source": [
    "faced_grid1 = mypy_dv.plot_sns_facetgrid(\n",
    "    data = myFG.reset_index()\n",
    "    ,col = \"RAUM_LANG\"\n",
    "    ,hue = \"RAUM_LANG\"\n",
    "    ,col_wrap = 2\n",
    "    ,height = 2\n",
    "    ,grafiktyp = sns.lineplot\n",
    "    ,x = \"Jahr_nbr\"\n",
    "    ,xlabel = ''\n",
    "    ,y = \"sum_WBev\"\n",
    "    ,ylabel= \"Anzahl Personen\"\n",
    "    ,warning_status =\"ignore\"\n",
    "    ,myTitle=\"Bevölkerungsentwicklung, seit \"+str(data2betested.index.year.min())\n",
    ")\n",
    "faced_grid1"
   ]
  },
  {
   "cell_type": "code",
   "execution_count": 96,
   "metadata": {},
   "outputs": [
    {
     "name": "stdout",
     "output_type": "stream",
     "text": [
      "grafiken_testing/bev324od3243_fg_raum_zeit_2025-02-25.png\n"
     ]
    }
   ],
   "source": [
    "grafic_name = package_name+\"_fg_raum_zeit\"+date_today+\".png\"\n",
    "\n",
    "print('grafiken_testing/'+grafic_name)\n",
    "\n",
    "\n",
    "faced_grid1.savefig('grafiken_testing/'+grafic_name)"
   ]
  },
  {
   "cell_type": "markdown",
   "metadata": {},
   "source": [
    "## ---------------------- hier Plausi beendet\n",
    "\n",
    "Übersicht zu LOSD-Jobs:\n",
    "[Sharepoint](https://kollaboration.intranet.stzh.ch/orga/ssz-produkte/Lists/SASA_Outputs/OGD%20Metadaten.aspx#InplviewHasheb69a2c0-ed94-4ef2-91a5-3b19f038e442=FilterField1%3DMetadaten%255Fx002d%255FPublikations%255Fx00-FilterValue1%3DINT)"
   ]
  }
 ],
 "metadata": {
  "kernelspec": {
   "display_name": "gogo_stuff",
   "language": "python",
   "name": "python3"
  },
  "language_info": {
   "codemirror_mode": {
    "name": "ipython",
    "version": 3
   },
   "file_extension": ".py",
   "mimetype": "text/x-python",
   "name": "python",
   "nbconvert_exporter": "python",
   "pygments_lexer": "ipython3",
   "version": "3.11.8"
  }
 },
 "nbformat": 4,
 "nbformat_minor": 4
}
