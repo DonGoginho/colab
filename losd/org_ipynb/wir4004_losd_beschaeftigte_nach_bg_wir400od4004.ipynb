{
 "cells": [
  {
   "cell_type": "markdown",
   "metadata": {},
   "source": [
    "# Testing LOSD\n",
    "## Beschäftigte nach Beschäftigungsgrad\n",
    "\n",
    "Diese Daten beinhalten Quantilwerte des steuerbaren Einkommens natürlicher Personen, die in der Stadt Zürich primär steuerpflichtig sind.\n",
    "\n",
    "Diese Daten beinhalten aggreggierte Beschäftigtenzahlen in der Stadt Zürich und den nächsthöheren Ebenen. Die Daten für die Stadt Zürich werden nach diversen Merkmalen unterteilt (Sektor, Geschlecht, Beschäftigungsgrad). Ausserdem werden für die Stadt Zürich auch noch Vollzeitäquivalente ausgewiesen.\n",
    "\n",
    "https://data.integ.stadt-zuerich.ch/dataset/wir400od4004\n",
    "\n",
    "Datum: 24.05.2024\n",
    "\n",
    "### Colab\n",
    "Mit Colab kann das Jupyter-Notebook interaktiv im Browser gestartet werden. \n",
    "\n",
    "Klicke auf den Button:\n",
    "[![Open In Colab](https://colab.research.google.com/assets/colab-badge.svg)](https://github.com/DonGoginho/colab/blob/main/losd/xyz.ipynb)\n"
   ]
  },
  {
   "cell_type": "markdown",
   "metadata": {},
   "source": [
    "### Importiere die notwendigen Packages"
   ]
  },
  {
   "cell_type": "code",
   "execution_count": 1,
   "metadata": {},
   "outputs": [],
   "source": [
    "#%pip install altair datetime folium geopandas io requests matplotlib numpy pandas seaborn plotly"
   ]
  },
  {
   "cell_type": "code",
   "execution_count": 2,
   "metadata": {},
   "outputs": [],
   "source": [
    "import altair as alt\n",
    "import datetime\n",
    "import folium \n",
    "import geopandas as gpd\n",
    "import io\n",
    "from IPython.display import Markdown as md\n",
    "import matplotlib.pyplot as plt\n",
    "import numpy as np\n",
    "import pandas as pd\n",
    "#import pivottablejs\n",
    "#from pivottablejs import pivot_ui\n",
    "import plotly.express as px\n",
    "import requests\n",
    "import seaborn as sns"
   ]
  },
  {
   "cell_type": "markdown",
   "metadata": {},
   "source": [
    "Importiere die eigenen Funktionen, die unter ../0_scripts abegelegt sind:"
   ]
  },
  {
   "cell_type": "code",
   "execution_count": 3,
   "metadata": {},
   "outputs": [],
   "source": [
    "import sys\n",
    "sys.path.append('../0_scripts')\n",
    "\n",
    "import my_py_dataviz_functions as mypy_dv\n",
    "import my_py_dataloading_functions as mypy_dl"
   ]
  },
  {
   "cell_type": "code",
   "execution_count": 4,
   "metadata": {},
   "outputs": [],
   "source": [
    "SSL_VERIFY = False\n",
    "# evtl. SSL_VERIFY auf False setzen wenn die Verbindung zu https://www.gemeinderat-zuerich.ch nicht klappt (z.B. wegen Proxy)\n",
    "# Um die SSL Verifikation auszustellen, bitte die nächste Zeile einkommentieren (\"#\" entfernen)\n",
    "# SSL_VERIFY = False"
   ]
  },
  {
   "cell_type": "code",
   "execution_count": 5,
   "metadata": {},
   "outputs": [],
   "source": [
    "if not SSL_VERIFY:\n",
    "    import urllib3\n",
    "    urllib3.disable_warnings()"
   ]
  },
  {
   "cell_type": "markdown",
   "metadata": {},
   "source": [
    "### Settings\n",
    "Definiere Settings. \n",
    "Hier das Zahlenformat von Float-Werten (z.B. *'{:,.2f}'.format* mit Komma als Tausenderzeichen)"
   ]
  },
  {
   "cell_type": "code",
   "execution_count": 6,
   "metadata": {},
   "outputs": [],
   "source": [
    "#pd.options.display.float_format = lambda x : '{:,.1f}'.format(x) if (np.isnan(x) | np.isinf(x)) else '{:,.0f}'.format(x) if int(x) == x else '{:,.1f}'.format(x)\n",
    "pd.options.display.float_format = '{:.0f}'.format\n",
    "pd.set_option('display.width', 100)\n",
    "pd.set_option('display.max_columns', 15)"
   ]
  },
  {
   "cell_type": "markdown",
   "metadata": {},
   "source": [
    "#### Zeitvariabeln"
   ]
  },
  {
   "cell_type": "code",
   "execution_count": 7,
   "metadata": {},
   "outputs": [],
   "source": [
    "#Zeitvariabeln als Strings:\n",
    "now = datetime.date.today()\n",
    "year_today = now.strftime(\"%Y\")\n",
    "date_today = \"_\"+now.strftime(\"%Y-%m-%d\")\n",
    "\n",
    "#Zeitvariabeln als Integers:\n",
    "int_times = now.timetuple()\n",
    "aktuellesJahr = int_times[0]\n",
    "aktuellerMonat = int_times[1]\n",
    "selectedMonat = int_times[1]-2\n",
    "#print(aktuellesJahr, aktuellerMonat,'datenstand: ', selectedMonat, int_times)"
   ]
  },
  {
   "cell_type": "markdown",
   "metadata": {},
   "source": [
    "### Daten importieren und Metadaten checken\n",
    "\n",
    "- status: int / prod\n",
    "- data_source: web / ld / dropzone\n",
    "- datums_attr: beschreibt das oder die Datumsfelder, die als Datum geparsed werden sollen. Falls es keines gibt: None"
   ]
  },
  {
   "cell_type": "code",
   "execution_count": 8,
   "metadata": {},
   "outputs": [],
   "source": [
    "#speichere die variable global, damit ich sie später verwenden kann, wenn ich grafiken mit diesem namen speichere.\n",
    "package_name = \"wir400od4004\"\n",
    "#package_name = \"bfs_wir_besch_bg_jahr_od4004\""
   ]
  },
  {
   "cell_type": "code",
   "execution_count": 9,
   "metadata": {},
   "outputs": [
    {
     "name": "stdout",
     "output_type": "stream",
     "text": [
      "fp lautet:https://ld.integ.stadt-zuerich.ch/statistics/view/WIR400OD4004/observation?format=csv\n"
     ]
    },
    {
     "data": {
      "text/markdown": [
       " **Überprüfe die Metadaten:**"
      ],
      "text/plain": [
       "<IPython.core.display.Markdown object>"
      ]
     },
     "metadata": {},
     "output_type": "display_data"
    },
    {
     "data": {
      "text/markdown": [
       " **Dataset auf INTEG-Datakatalog:** Link https://data.integ.stadt-zuerich.ch/dataset/wir400od4004 "
      ],
      "text/plain": [
       "<IPython.core.display.Markdown object>"
      ]
     },
     "metadata": {},
     "output_type": "display_data"
    },
    {
     "data": {
      "text/markdown": [
       " **View auf INTEG-LD:** Link https://ld.integ.stadt-zuerich.ch/statistics/view/WIR400OD4004 "
      ],
      "text/plain": [
       "<IPython.core.display.Markdown object>"
      ]
     },
     "metadata": {},
     "output_type": "display_data"
    },
    {
     "name": "stdout",
     "output_type": "stream",
     "text": [
      "data_source: web\n"
     ]
    }
   ],
   "source": [
    "data2betested = mypy_dl.load_data(\n",
    "    status = 'int'\n",
    "    , data_source = 'ld'\n",
    "    , package_name = package_name\n",
    "    , dataset_name = \"wir400od4004\"   #Das Datenformat muss nicht angegeben werden. Default .csv\n",
    "    , datums_attr = ['ZEIT_LANG']\n",
    "    )\n"
   ]
  },
  {
   "cell_type": "code",
   "execution_count": 10,
   "metadata": {},
   "outputs": [
    {
     "data": {
      "text/html": [
       "<div>\n",
       "<style scoped>\n",
       "    .dataframe tbody tr th:only-of-type {\n",
       "        vertical-align: middle;\n",
       "    }\n",
       "\n",
       "    .dataframe tbody tr th {\n",
       "        vertical-align: top;\n",
       "    }\n",
       "\n",
       "    .dataframe thead th {\n",
       "        text-align: right;\n",
       "    }\n",
       "</style>\n",
       "<table border=\"1\" class=\"dataframe\">\n",
       "  <thead>\n",
       "    <tr style=\"text-align: right;\">\n",
       "      <th></th>\n",
       "      <th>ZEIT_LANG</th>\n",
       "      <th>ZEIT_CODE</th>\n",
       "      <th>RAUM_LANG</th>\n",
       "      <th>RAUM_CODE</th>\n",
       "      <th>BEG_LANG</th>\n",
       "      <th>BEG_CODE</th>\n",
       "      <th>BES</th>\n",
       "    </tr>\n",
       "  </thead>\n",
       "  <tbody>\n",
       "    <tr>\n",
       "      <th>0</th>\n",
       "      <td>2021-12-31</td>\n",
       "      <td>Z31122021</td>\n",
       "      <td>Stadt Zürich (ab 1934)</td>\n",
       "      <td>R30000</td>\n",
       "      <td>Vollzeitbeschäftigte</td>\n",
       "      <td>BEG1100</td>\n",
       "      <td>292600</td>\n",
       "    </tr>\n",
       "    <tr>\n",
       "      <th>1</th>\n",
       "      <td>2018-03-31</td>\n",
       "      <td>Z31032018</td>\n",
       "      <td>Stadt Zürich (ab 1934)</td>\n",
       "      <td>R30000</td>\n",
       "      <td>Teilzeitbeschäftigte</td>\n",
       "      <td>BEG1200</td>\n",
       "      <td>187500</td>\n",
       "    </tr>\n",
       "    <tr>\n",
       "      <th>2</th>\n",
       "      <td>2015-09-30</td>\n",
       "      <td>Z30092015</td>\n",
       "      <td>Stadt Zürich (ab 1934)</td>\n",
       "      <td>R30000</td>\n",
       "      <td>Vollzeitbeschäftigte</td>\n",
       "      <td>BEG1100</td>\n",
       "      <td>274800</td>\n",
       "    </tr>\n",
       "    <tr>\n",
       "      <th>3</th>\n",
       "      <td>2005-09-30</td>\n",
       "      <td>Z30092005</td>\n",
       "      <td>Stadt Zürich (ab 1934)</td>\n",
       "      <td>R30000</td>\n",
       "      <td>Vollzeitbeschäftigte</td>\n",
       "      <td>BEG1100</td>\n",
       "      <td>247100</td>\n",
       "    </tr>\n",
       "    <tr>\n",
       "      <th>4</th>\n",
       "      <td>2021-12-31</td>\n",
       "      <td>Z31122021</td>\n",
       "      <td>Stadt Zürich (ab 1934)</td>\n",
       "      <td>R30000</td>\n",
       "      <td>Teilzeitbeschäftigte</td>\n",
       "      <td>BEG1200</td>\n",
       "      <td>208900</td>\n",
       "    </tr>\n",
       "    <tr>\n",
       "      <th>5</th>\n",
       "      <td>2009-09-30</td>\n",
       "      <td>Z30092009</td>\n",
       "      <td>Stadt Zürich (ab 1934)</td>\n",
       "      <td>R30000</td>\n",
       "      <td>Vollzeitbeschäftigte</td>\n",
       "      <td>BEG1100</td>\n",
       "      <td>266800</td>\n",
       "    </tr>\n",
       "  </tbody>\n",
       "</table>\n",
       "</div>"
      ],
      "text/plain": [
       "   ZEIT_LANG  ZEIT_CODE               RAUM_LANG RAUM_CODE              BEG_LANG BEG_CODE    BES\n",
       "0 2021-12-31  Z31122021  Stadt Zürich (ab 1934)    R30000  Vollzeitbeschäftigte  BEG1100 292600\n",
       "1 2018-03-31  Z31032018  Stadt Zürich (ab 1934)    R30000  Teilzeitbeschäftigte  BEG1200 187500\n",
       "2 2015-09-30  Z30092015  Stadt Zürich (ab 1934)    R30000  Vollzeitbeschäftigte  BEG1100 274800\n",
       "3 2005-09-30  Z30092005  Stadt Zürich (ab 1934)    R30000  Vollzeitbeschäftigte  BEG1100 247100\n",
       "4 2021-12-31  Z31122021  Stadt Zürich (ab 1934)    R30000  Teilzeitbeschäftigte  BEG1200 208900\n",
       "5 2009-09-30  Z30092009  Stadt Zürich (ab 1934)    R30000  Vollzeitbeschäftigte  BEG1100 266800"
      ]
     },
     "execution_count": 10,
     "metadata": {},
     "output_type": "execute_result"
    }
   ],
   "source": [
    "data2betested.head(6)"
   ]
  },
  {
   "cell_type": "code",
   "execution_count": 11,
   "metadata": {},
   "outputs": [
    {
     "data": {
      "text/plain": [
       "ZEIT_LANG    datetime64[ns]\n",
       "ZEIT_CODE            object\n",
       "RAUM_LANG            object\n",
       "RAUM_CODE            object\n",
       "BEG_LANG             object\n",
       "BEG_CODE             object\n",
       "BES                 float64\n",
       "dtype: object"
      ]
     },
     "execution_count": 11,
     "metadata": {},
     "output_type": "execute_result"
    }
   ],
   "source": [
    "data2betested.dtypes"
   ]
  },
  {
   "cell_type": "markdown",
   "metadata": {},
   "source": [
    "Berechne weitere Attribute falls notwendig"
   ]
  },
  {
   "cell_type": "code",
   "execution_count": 12,
   "metadata": {},
   "outputs": [
    {
     "data": {
      "text/html": [
       "<div>\n",
       "<style scoped>\n",
       "    .dataframe tbody tr th:only-of-type {\n",
       "        vertical-align: middle;\n",
       "    }\n",
       "\n",
       "    .dataframe tbody tr th {\n",
       "        vertical-align: top;\n",
       "    }\n",
       "\n",
       "    .dataframe thead th {\n",
       "        text-align: right;\n",
       "    }\n",
       "</style>\n",
       "<table border=\"1\" class=\"dataframe\">\n",
       "  <thead>\n",
       "    <tr style=\"text-align: right;\">\n",
       "      <th></th>\n",
       "      <th>67</th>\n",
       "      <th>99</th>\n",
       "    </tr>\n",
       "  </thead>\n",
       "  <tbody>\n",
       "    <tr>\n",
       "      <th>ZEIT_LANG</th>\n",
       "      <td>2024-03-31 00:00:00</td>\n",
       "      <td>2024-03-31 00:00:00</td>\n",
       "    </tr>\n",
       "    <tr>\n",
       "      <th>ZEIT_CODE</th>\n",
       "      <td>Z31032024</td>\n",
       "      <td>Z31032024</td>\n",
       "    </tr>\n",
       "    <tr>\n",
       "      <th>RAUM_LANG</th>\n",
       "      <td>Stadt Zürich (ab 1934)</td>\n",
       "      <td>Stadt Zürich (ab 1934)</td>\n",
       "    </tr>\n",
       "    <tr>\n",
       "      <th>RAUM_CODE</th>\n",
       "      <td>R30000</td>\n",
       "      <td>R30000</td>\n",
       "    </tr>\n",
       "    <tr>\n",
       "      <th>BEG_LANG</th>\n",
       "      <td>Teilzeitbeschäftigte</td>\n",
       "      <td>Vollzeitbeschäftigte</td>\n",
       "    </tr>\n",
       "    <tr>\n",
       "      <th>BEG_CODE</th>\n",
       "      <td>BEG1200</td>\n",
       "      <td>BEG1100</td>\n",
       "    </tr>\n",
       "    <tr>\n",
       "      <th>BES</th>\n",
       "      <td>215900</td>\n",
       "      <td>304800</td>\n",
       "    </tr>\n",
       "    <tr>\n",
       "      <th>StichtagDatJahr</th>\n",
       "      <td>2024-03-31 00:00:00</td>\n",
       "      <td>2024-03-31 00:00:00</td>\n",
       "    </tr>\n",
       "    <tr>\n",
       "      <th>StichtagDatJahr_str</th>\n",
       "      <td>2024-03-31</td>\n",
       "      <td>2024-03-31</td>\n",
       "    </tr>\n",
       "    <tr>\n",
       "      <th>Jahr</th>\n",
       "      <td>2024</td>\n",
       "      <td>2024</td>\n",
       "    </tr>\n",
       "    <tr>\n",
       "      <th>RAUM_my_sort</th>\n",
       "      <td>0</td>\n",
       "      <td>0</td>\n",
       "    </tr>\n",
       "  </tbody>\n",
       "</table>\n",
       "</div>"
      ],
      "text/plain": [
       "                                         67                      99\n",
       "ZEIT_LANG               2024-03-31 00:00:00     2024-03-31 00:00:00\n",
       "ZEIT_CODE                         Z31032024               Z31032024\n",
       "RAUM_LANG            Stadt Zürich (ab 1934)  Stadt Zürich (ab 1934)\n",
       "RAUM_CODE                            R30000                  R30000\n",
       "BEG_LANG               Teilzeitbeschäftigte    Vollzeitbeschäftigte\n",
       "BEG_CODE                            BEG1200                 BEG1100\n",
       "BES                                  215900                  304800\n",
       "StichtagDatJahr         2024-03-31 00:00:00     2024-03-31 00:00:00\n",
       "StichtagDatJahr_str              2024-03-31              2024-03-31\n",
       "Jahr                                   2024                    2024\n",
       "RAUM_my_sort                              0                       0"
      ]
     },
     "execution_count": 12,
     "metadata": {},
     "output_type": "execute_result"
    }
   ],
   "source": [
    "data2betested = (\n",
    "    data2betested\n",
    "    .copy()\n",
    "    .assign(\n",
    "        #Aktualisierungs_Datum_str= lambda x: x.Aktualisierungs_Datum.astype(str),\n",
    "        StichtagDatJahr = lambda x: x.ZEIT_LANG,\n",
    "        StichtagDatJahr_str = lambda x: x.ZEIT_LANG.astype(str),\n",
    "        Jahr = lambda x: x.ZEIT_LANG.dt.year,\n",
    "        #Jahr_nbr = lambda x: x.ZEIT_CODE.str[-4:].astype(int),    \n",
    "        RAUM_my_sort = lambda x: x.RAUM_CODE.str[-3:].astype(int),\n",
    "\n",
    "    )\n",
    "    .sort_values('ZEIT_LANG', ascending=False)\n",
    "    )\n",
    "data2betested.head(2).T"
   ]
  },
  {
   "cell_type": "markdown",
   "metadata": {},
   "source": [
    "Zeitbereich aus den Daten:"
   ]
  },
  {
   "cell_type": "code",
   "execution_count": 13,
   "metadata": {},
   "outputs": [
    {
     "name": "stdout",
     "output_type": "stream",
     "text": [
      "Die Daten haben ein Minimumjahr von 1985 und ein Maximumjahr von 2024\n"
     ]
    }
   ],
   "source": [
    "data_max_date = str(max(data2betested.ZEIT_LANG).year)\n",
    "data_min_date = str(min(data2betested.ZEIT_LANG).year)\n",
    "\n",
    "print(f\"Die Daten haben ein Minimumjahr von {data_min_date} und ein Maximumjahr von {data_max_date}\")\n"
   ]
  },
  {
   "cell_type": "markdown",
   "metadata": {},
   "source": [
    "Temp speichere die csv-Datei, da es immer wieder zu Ausfällen kommt. So kann ich mal den Report fertig bauen."
   ]
  },
  {
   "cell_type": "code",
   "execution_count": 14,
   "metadata": {},
   "outputs": [
    {
     "name": "stdout",
     "output_type": "stream",
     "text": [
      "wir400od4004_2024-06-18.csv\n"
     ]
    }
   ],
   "source": [
    "docname = package_name +date_today+\".csv\"\n",
    "print(docname)"
   ]
  },
  {
   "cell_type": "code",
   "execution_count": 15,
   "metadata": {},
   "outputs": [],
   "source": [
    "data2betested.to_csv('./saved_data/'+docname, index=False)"
   ]
  },
  {
   "cell_type": "markdown",
   "metadata": {},
   "source": [
    "### Einfache Datentests"
   ]
  },
  {
   "cell_type": "code",
   "execution_count": 16,
   "metadata": {},
   "outputs": [
    {
     "data": {
      "text/html": [
       "<div>\n",
       "<style scoped>\n",
       "    .dataframe tbody tr th:only-of-type {\n",
       "        vertical-align: middle;\n",
       "    }\n",
       "\n",
       "    .dataframe tbody tr th {\n",
       "        vertical-align: top;\n",
       "    }\n",
       "\n",
       "    .dataframe thead th {\n",
       "        text-align: right;\n",
       "    }\n",
       "</style>\n",
       "<table border=\"1\" class=\"dataframe\">\n",
       "  <thead>\n",
       "    <tr style=\"text-align: right;\">\n",
       "      <th></th>\n",
       "      <th>67</th>\n",
       "      <th>99</th>\n",
       "    </tr>\n",
       "  </thead>\n",
       "  <tbody>\n",
       "    <tr>\n",
       "      <th>ZEIT_LANG</th>\n",
       "      <td>2024-03-31 00:00:00</td>\n",
       "      <td>2024-03-31 00:00:00</td>\n",
       "    </tr>\n",
       "    <tr>\n",
       "      <th>ZEIT_CODE</th>\n",
       "      <td>Z31032024</td>\n",
       "      <td>Z31032024</td>\n",
       "    </tr>\n",
       "    <tr>\n",
       "      <th>RAUM_LANG</th>\n",
       "      <td>Stadt Zürich (ab 1934)</td>\n",
       "      <td>Stadt Zürich (ab 1934)</td>\n",
       "    </tr>\n",
       "    <tr>\n",
       "      <th>RAUM_CODE</th>\n",
       "      <td>R30000</td>\n",
       "      <td>R30000</td>\n",
       "    </tr>\n",
       "    <tr>\n",
       "      <th>BEG_LANG</th>\n",
       "      <td>Teilzeitbeschäftigte</td>\n",
       "      <td>Vollzeitbeschäftigte</td>\n",
       "    </tr>\n",
       "    <tr>\n",
       "      <th>BEG_CODE</th>\n",
       "      <td>BEG1200</td>\n",
       "      <td>BEG1100</td>\n",
       "    </tr>\n",
       "    <tr>\n",
       "      <th>BES</th>\n",
       "      <td>215900</td>\n",
       "      <td>304800</td>\n",
       "    </tr>\n",
       "    <tr>\n",
       "      <th>StichtagDatJahr</th>\n",
       "      <td>2024-03-31 00:00:00</td>\n",
       "      <td>2024-03-31 00:00:00</td>\n",
       "    </tr>\n",
       "    <tr>\n",
       "      <th>StichtagDatJahr_str</th>\n",
       "      <td>2024-03-31</td>\n",
       "      <td>2024-03-31</td>\n",
       "    </tr>\n",
       "    <tr>\n",
       "      <th>Jahr</th>\n",
       "      <td>2024</td>\n",
       "      <td>2024</td>\n",
       "    </tr>\n",
       "    <tr>\n",
       "      <th>RAUM_my_sort</th>\n",
       "      <td>0</td>\n",
       "      <td>0</td>\n",
       "    </tr>\n",
       "  </tbody>\n",
       "</table>\n",
       "</div>"
      ],
      "text/plain": [
       "                                         67                      99\n",
       "ZEIT_LANG               2024-03-31 00:00:00     2024-03-31 00:00:00\n",
       "ZEIT_CODE                         Z31032024               Z31032024\n",
       "RAUM_LANG            Stadt Zürich (ab 1934)  Stadt Zürich (ab 1934)\n",
       "RAUM_CODE                            R30000                  R30000\n",
       "BEG_LANG               Teilzeitbeschäftigte    Vollzeitbeschäftigte\n",
       "BEG_CODE                            BEG1200                 BEG1100\n",
       "BES                                  215900                  304800\n",
       "StichtagDatJahr         2024-03-31 00:00:00     2024-03-31 00:00:00\n",
       "StichtagDatJahr_str              2024-03-31              2024-03-31\n",
       "Jahr                                   2024                    2024\n",
       "RAUM_my_sort                              0                       0"
      ]
     },
     "execution_count": 16,
     "metadata": {},
     "output_type": "execute_result"
    }
   ],
   "source": [
    "data2betested.head(2).T"
   ]
  },
  {
   "cell_type": "code",
   "execution_count": 17,
   "metadata": {},
   "outputs": [
    {
     "name": "stdout",
     "output_type": "stream",
     "text": [
      "<class 'pandas.core.frame.DataFrame'>\n",
      "Index: 172 entries, 67 to 8\n",
      "Data columns (total 11 columns):\n",
      " #   Column               Non-Null Count  Dtype         \n",
      "---  ------               --------------  -----         \n",
      " 0   ZEIT_LANG            172 non-null    datetime64[ns]\n",
      " 1   ZEIT_CODE            172 non-null    object        \n",
      " 2   RAUM_LANG            172 non-null    object        \n",
      " 3   RAUM_CODE            172 non-null    object        \n",
      " 4   BEG_LANG             172 non-null    object        \n",
      " 5   BEG_CODE             172 non-null    object        \n",
      " 6   BES                  172 non-null    float64       \n",
      " 7   StichtagDatJahr      172 non-null    datetime64[ns]\n",
      " 8   StichtagDatJahr_str  172 non-null    object        \n",
      " 9   Jahr                 172 non-null    int32         \n",
      " 10  RAUM_my_sort         172 non-null    int32         \n",
      "dtypes: datetime64[ns](2), float64(1), int32(2), object(6)\n",
      "memory usage: 84.7 KB\n"
     ]
    }
   ],
   "source": [
    "data2betested.info(memory_usage='deep', verbose=True)"
   ]
  },
  {
   "cell_type": "code",
   "execution_count": 18,
   "metadata": {},
   "outputs": [
    {
     "name": "stdout",
     "output_type": "stream",
     "text": [
      "The dataset has 172 rows (observations) and 11 columns (variables).\n",
      "There seem to be 0 exact duplicates in the data.\n"
     ]
    }
   ],
   "source": [
    "print(f'The dataset has {data2betested.shape[0]:,.0f} rows (observations) and {data2betested.shape[1]:,.0f} columns (variables).')\n",
    "print(f'There seem to be {data2betested.duplicated().sum()} exact duplicates in the data.')"
   ]
  },
  {
   "cell_type": "markdown",
   "metadata": {},
   "source": [
    "Welches sind die Quartiere ohne Werte bei der Kennzahl?"
   ]
  },
  {
   "cell_type": "code",
   "execution_count": 19,
   "metadata": {},
   "outputs": [
    {
     "data": {
      "text/html": [
       "<div>\n",
       "<style scoped>\n",
       "    .dataframe tbody tr th:only-of-type {\n",
       "        vertical-align: middle;\n",
       "    }\n",
       "\n",
       "    .dataframe tbody tr th {\n",
       "        vertical-align: top;\n",
       "    }\n",
       "\n",
       "    .dataframe thead th {\n",
       "        text-align: right;\n",
       "    }\n",
       "</style>\n",
       "<table border=\"1\" class=\"dataframe\">\n",
       "  <thead>\n",
       "    <tr style=\"text-align: right;\">\n",
       "      <th></th>\n",
       "      <th>ZEIT_LANG</th>\n",
       "      <th>ZEIT_CODE</th>\n",
       "      <th>RAUM_LANG</th>\n",
       "      <th>RAUM_CODE</th>\n",
       "      <th>BEG_LANG</th>\n",
       "      <th>BEG_CODE</th>\n",
       "      <th>BES</th>\n",
       "      <th>StichtagDatJahr</th>\n",
       "      <th>StichtagDatJahr_str</th>\n",
       "      <th>Jahr</th>\n",
       "      <th>RAUM_my_sort</th>\n",
       "    </tr>\n",
       "  </thead>\n",
       "  <tbody>\n",
       "  </tbody>\n",
       "</table>\n",
       "</div>"
      ],
      "text/plain": [
       "Empty DataFrame\n",
       "Columns: [ZEIT_LANG, ZEIT_CODE, RAUM_LANG, RAUM_CODE, BEG_LANG, BEG_CODE, BES, StichtagDatJahr, StichtagDatJahr_str, Jahr, RAUM_my_sort]\n",
       "Index: []"
      ]
     },
     "execution_count": 19,
     "metadata": {},
     "output_type": "execute_result"
    }
   ],
   "source": [
    "data2betested[np.isnan(data2betested.BES)]"
   ]
  },
  {
   "cell_type": "markdown",
   "metadata": {
    "colab_type": "text",
    "id": "1dTPVmmsgOVx"
   },
   "source": [
    "### Verwende das Datum als Index\n",
    "\n",
    "While we did already parse the `datetime` column into the respective datetime type, it currently is just a regular column. \n",
    "**To enable quick and convenient queries and aggregations, we need to turn it into the index of the DataFrame**"
   ]
  },
  {
   "cell_type": "code",
   "execution_count": 20,
   "metadata": {},
   "outputs": [],
   "source": [
    "data2betested = data2betested.set_index(\"StichtagDatJahr\") \n",
    "data2betested = data2betested.sort_index()"
   ]
  },
  {
   "cell_type": "code",
   "execution_count": 21,
   "metadata": {},
   "outputs": [
    {
     "data": {
      "text/plain": [
       "Index([1985, 1998, 2003, 2004, 2005, 2006, 2007, 2008, 2009, 2010, 2011, 2012, 2013, 2014, 2015,\n",
       "       2016, 2017, 2018, 2019, 2020, 2021, 2022, 2023, 2024],\n",
       "      dtype='int32', name='StichtagDatJahr')"
      ]
     },
     "execution_count": 21,
     "metadata": {},
     "output_type": "execute_result"
    }
   ],
   "source": [
    "data2betested.index.year.unique()"
   ]
  },
  {
   "cell_type": "markdown",
   "metadata": {},
   "source": [
    "### Beschreibe einzelne Attribute"
   ]
  },
  {
   "cell_type": "markdown",
   "metadata": {},
   "source": [
    "Beschreibe nicht numerische Attribute"
   ]
  },
  {
   "cell_type": "code",
   "execution_count": 22,
   "metadata": {},
   "outputs": [
    {
     "name": "stdout",
     "output_type": "stream",
     "text": [
      "No categorical data in dataset.\n"
     ]
    }
   ],
   "source": [
    "# describe non-numerical features\n",
    "try:\n",
    "    with pd.option_context('display.float_format', '{:,.2f}'.format):\n",
    "        display(data2betested.describe(exclude='number',datetime_is_numeric=True))\n",
    "except:\n",
    "    print(\"No categorical data in dataset.\")"
   ]
  },
  {
   "cell_type": "markdown",
   "metadata": {},
   "source": [
    "Beschreibe numerische Attribute"
   ]
  },
  {
   "cell_type": "code",
   "execution_count": 23,
   "metadata": {},
   "outputs": [
    {
     "data": {
      "text/html": [
       "<div>\n",
       "<style scoped>\n",
       "    .dataframe tbody tr th:only-of-type {\n",
       "        vertical-align: middle;\n",
       "    }\n",
       "\n",
       "    .dataframe tbody tr th {\n",
       "        vertical-align: top;\n",
       "    }\n",
       "\n",
       "    .dataframe thead th {\n",
       "        text-align: right;\n",
       "    }\n",
       "</style>\n",
       "<table border=\"1\" class=\"dataframe\">\n",
       "  <thead>\n",
       "    <tr style=\"text-align: right;\">\n",
       "      <th></th>\n",
       "      <th>BES</th>\n",
       "      <th>Jahr</th>\n",
       "      <th>RAUM_my_sort</th>\n",
       "    </tr>\n",
       "  </thead>\n",
       "  <tbody>\n",
       "    <tr>\n",
       "      <th>count</th>\n",
       "      <td>172</td>\n",
       "      <td>172</td>\n",
       "      <td>172</td>\n",
       "    </tr>\n",
       "    <tr>\n",
       "      <th>mean</th>\n",
       "      <td>220,067</td>\n",
       "      <td>2,013</td>\n",
       "      <td>0</td>\n",
       "    </tr>\n",
       "    <tr>\n",
       "      <th>std</th>\n",
       "      <td>57,012</td>\n",
       "      <td>7</td>\n",
       "      <td>0</td>\n",
       "    </tr>\n",
       "    <tr>\n",
       "      <th>min</th>\n",
       "      <td>71,512</td>\n",
       "      <td>1,985</td>\n",
       "      <td>0</td>\n",
       "    </tr>\n",
       "    <tr>\n",
       "      <th>25%</th>\n",
       "      <td>170,075</td>\n",
       "      <td>2,008</td>\n",
       "      <td>0</td>\n",
       "    </tr>\n",
       "    <tr>\n",
       "      <th>50%</th>\n",
       "      <td>224,910</td>\n",
       "      <td>2,013</td>\n",
       "      <td>0</td>\n",
       "    </tr>\n",
       "    <tr>\n",
       "      <th>75%</th>\n",
       "      <td>272,925</td>\n",
       "      <td>2,018</td>\n",
       "      <td>0</td>\n",
       "    </tr>\n",
       "    <tr>\n",
       "      <th>max</th>\n",
       "      <td>304,800</td>\n",
       "      <td>2,024</td>\n",
       "      <td>0</td>\n",
       "    </tr>\n",
       "  </tbody>\n",
       "</table>\n",
       "</div>"
      ],
      "text/plain": [
       "          BES  Jahr  RAUM_my_sort\n",
       "count     172   172           172\n",
       "mean  220,067 2,013             0\n",
       "std    57,012     7             0\n",
       "min    71,512 1,985             0\n",
       "25%   170,075 2,008             0\n",
       "50%   224,910 2,013             0\n",
       "75%   272,925 2,018             0\n",
       "max   304,800 2,024             0"
      ]
     },
     "metadata": {},
     "output_type": "display_data"
    }
   ],
   "source": [
    "# describe numerical features\n",
    "try:\n",
    "    with pd.option_context('display.float_format', '{:,.0f}'.format):\n",
    "        display(data2betested.describe(include='number'))\n",
    "except:\n",
    "    print(\"No numercial data in dataset.\")"
   ]
  },
  {
   "cell_type": "code",
   "execution_count": 24,
   "metadata": {},
   "outputs": [
    {
     "data": {
      "image/png": "[encoded data removed]",
      "text/plain": [
       "<Figure size 1800x600 with 4 Axes>"
      ]
     },
     "metadata": {},
     "output_type": "display_data"
    }
   ],
   "source": [
    "plt.style.use('ggplot')\n",
    "params = {\n",
    "    'text.color': (0.25, 0.25, 0.25),\n",
    "    'figure.figsize': [18, 6],\n",
    "   }\n",
    "plt.rcParams.update(params)\n",
    "\n",
    "try:\n",
    "    data2betested.hist(bins=25, rwidth=0.9)\n",
    "    plt.tight_layout()\n",
    "    plt.show()\n",
    "except:\n",
    "    print(\"No numercial data to plot.\") "
   ]
  },
  {
   "cell_type": "markdown",
   "metadata": {},
   "source": [
    "### Gibt es Duplikate?"
   ]
  },
  {
   "cell_type": "code",
   "execution_count": 25,
   "metadata": {},
   "outputs": [
    {
     "data": {
      "text/html": [
       "<div>\n",
       "<style scoped>\n",
       "    .dataframe tbody tr th:only-of-type {\n",
       "        vertical-align: middle;\n",
       "    }\n",
       "\n",
       "    .dataframe tbody tr th {\n",
       "        vertical-align: top;\n",
       "    }\n",
       "\n",
       "    .dataframe thead th {\n",
       "        text-align: right;\n",
       "    }\n",
       "</style>\n",
       "<table border=\"1\" class=\"dataframe\">\n",
       "  <thead>\n",
       "    <tr style=\"text-align: right;\">\n",
       "      <th></th>\n",
       "      <th>ZEIT_LANG</th>\n",
       "      <th>ZEIT_CODE</th>\n",
       "      <th>RAUM_LANG</th>\n",
       "      <th>RAUM_CODE</th>\n",
       "      <th>BEG_LANG</th>\n",
       "      <th>BEG_CODE</th>\n",
       "      <th>BES</th>\n",
       "      <th>StichtagDatJahr_str</th>\n",
       "      <th>Jahr</th>\n",
       "      <th>RAUM_my_sort</th>\n",
       "    </tr>\n",
       "    <tr>\n",
       "      <th>StichtagDatJahr</th>\n",
       "      <th></th>\n",
       "      <th></th>\n",
       "      <th></th>\n",
       "      <th></th>\n",
       "      <th></th>\n",
       "      <th></th>\n",
       "      <th></th>\n",
       "      <th></th>\n",
       "      <th></th>\n",
       "      <th></th>\n",
       "    </tr>\n",
       "  </thead>\n",
       "  <tbody>\n",
       "  </tbody>\n",
       "</table>\n",
       "</div>"
      ],
      "text/plain": [
       "Empty DataFrame\n",
       "Columns: [ZEIT_LANG, ZEIT_CODE, RAUM_LANG, RAUM_CODE, BEG_LANG, BEG_CODE, BES, StichtagDatJahr_str, Jahr, RAUM_my_sort]\n",
       "Index: []"
      ]
     },
     "execution_count": 25,
     "metadata": {},
     "output_type": "execute_result"
    }
   ],
   "source": [
    "# find duplicate rows\n",
    "duplicate_rows = data2betested[data2betested.duplicated()]\n",
    "duplicate_rows"
   ]
  },
  {
   "cell_type": "markdown",
   "metadata": {},
   "source": [
    "### Nullwerte und Missings?"
   ]
  },
  {
   "cell_type": "code",
   "execution_count": 26,
   "metadata": {},
   "outputs": [
    {
     "data": {
      "text/plain": [
       "ZEIT_LANG              0\n",
       "ZEIT_CODE              0\n",
       "RAUM_LANG              0\n",
       "RAUM_CODE              0\n",
       "BEG_LANG               0\n",
       "BEG_CODE               0\n",
       "BES                    0\n",
       "StichtagDatJahr_str    0\n",
       "Jahr                   0\n",
       "RAUM_my_sort           0\n",
       "dtype: int64"
      ]
     },
     "execution_count": 26,
     "metadata": {},
     "output_type": "execute_result"
    }
   ],
   "source": [
    "data2betested.isnull().sum()"
   ]
  },
  {
   "cell_type": "code",
   "execution_count": 27,
   "metadata": {},
   "outputs": [],
   "source": [
    "# check missing values with missingno\n",
    "# https://github.com/ResidentMario/missingno\n",
    "#import missingno as msno\n",
    "#msno.matrix(data2betested, labels=True, sort='descending');\n",
    "#msno.heatmap(data2betested)"
   ]
  },
  {
   "cell_type": "markdown",
   "metadata": {},
   "source": [
    "### Gruppierungen"
   ]
  },
  {
   "cell_type": "code",
   "execution_count": 28,
   "metadata": {},
   "outputs": [
    {
     "data": {
      "text/html": [
       "<div>\n",
       "<style scoped>\n",
       "    .dataframe tbody tr th:only-of-type {\n",
       "        vertical-align: middle;\n",
       "    }\n",
       "\n",
       "    .dataframe tbody tr th {\n",
       "        vertical-align: top;\n",
       "    }\n",
       "\n",
       "    .dataframe thead th {\n",
       "        text-align: right;\n",
       "    }\n",
       "</style>\n",
       "<table border=\"1\" class=\"dataframe\">\n",
       "  <thead>\n",
       "    <tr style=\"text-align: right;\">\n",
       "      <th></th>\n",
       "      <th>StichtagDatJahr_str</th>\n",
       "      <th>ZEIT_LANG</th>\n",
       "      <th>sum_BES</th>\n",
       "    </tr>\n",
       "  </thead>\n",
       "  <tbody>\n",
       "    <tr>\n",
       "      <th>0</th>\n",
       "      <td>2024-03-31</td>\n",
       "      <td>2024-03-31</td>\n",
       "      <td>520700</td>\n",
       "    </tr>\n",
       "    <tr>\n",
       "      <th>1</th>\n",
       "      <td>2023-12-31</td>\n",
       "      <td>2023-12-31</td>\n",
       "      <td>525500</td>\n",
       "    </tr>\n",
       "    <tr>\n",
       "      <th>2</th>\n",
       "      <td>2023-09-30</td>\n",
       "      <td>2023-09-30</td>\n",
       "      <td>520000</td>\n",
       "    </tr>\n",
       "    <tr>\n",
       "      <th>3</th>\n",
       "      <td>2023-06-30</td>\n",
       "      <td>2023-06-30</td>\n",
       "      <td>522900</td>\n",
       "    </tr>\n",
       "    <tr>\n",
       "      <th>4</th>\n",
       "      <td>2023-03-31</td>\n",
       "      <td>2023-03-31</td>\n",
       "      <td>515100</td>\n",
       "    </tr>\n",
       "    <tr>\n",
       "      <th>...</th>\n",
       "      <td>...</td>\n",
       "      <td>...</td>\n",
       "      <td>...</td>\n",
       "    </tr>\n",
       "    <tr>\n",
       "      <th>81</th>\n",
       "      <td>2003-12-31</td>\n",
       "      <td>2003-12-31</td>\n",
       "      <td>375800</td>\n",
       "    </tr>\n",
       "    <tr>\n",
       "      <th>82</th>\n",
       "      <td>2003-09-30</td>\n",
       "      <td>2003-09-30</td>\n",
       "      <td>380800</td>\n",
       "    </tr>\n",
       "    <tr>\n",
       "      <th>83</th>\n",
       "      <td>2003-06-30</td>\n",
       "      <td>2003-06-30</td>\n",
       "      <td>379000</td>\n",
       "    </tr>\n",
       "    <tr>\n",
       "      <th>84</th>\n",
       "      <td>1998-09-30</td>\n",
       "      <td>1998-09-30</td>\n",
       "      <td>315287</td>\n",
       "    </tr>\n",
       "    <tr>\n",
       "      <th>85</th>\n",
       "      <td>1985-09-30</td>\n",
       "      <td>1985-09-30</td>\n",
       "      <td>334857</td>\n",
       "    </tr>\n",
       "  </tbody>\n",
       "</table>\n",
       "<p>86 rows × 3 columns</p>\n",
       "</div>"
      ],
      "text/plain": [
       "   StichtagDatJahr_str  ZEIT_LANG  sum_BES\n",
       "0           2024-03-31 2024-03-31   520700\n",
       "1           2023-12-31 2023-12-31   525500\n",
       "2           2023-09-30 2023-09-30   520000\n",
       "3           2023-06-30 2023-06-30   522900\n",
       "4           2023-03-31 2023-03-31   515100\n",
       "..                 ...        ...      ...\n",
       "81          2003-12-31 2003-12-31   375800\n",
       "82          2003-09-30 2003-09-30   380800\n",
       "83          2003-06-30 2003-06-30   379000\n",
       "84          1998-09-30 1998-09-30   315287\n",
       "85          1985-09-30 1985-09-30   334857\n",
       "\n",
       "[86 rows x 3 columns]"
      ]
     },
     "execution_count": 28,
     "metadata": {},
     "output_type": "execute_result"
    }
   ],
   "source": [
    "agg_jahr = data2betested.loc[data_min_date:data_max_date]\\\n",
    "    .groupby(['StichtagDatJahr_str', 'ZEIT_LANG']) \\\n",
    "    .agg(sum_BES=('BES', 'sum')) \\\n",
    "    .sort_values('StichtagDatJahr_str', ascending=False) \n",
    "agg_jahr.reset_index()"
   ]
  },
  {
   "cell_type": "code",
   "execution_count": 29,
   "metadata": {},
   "outputs": [
    {
     "data": {
      "text/html": [
       "<div>\n",
       "<style scoped>\n",
       "    .dataframe tbody tr th:only-of-type {\n",
       "        vertical-align: middle;\n",
       "    }\n",
       "\n",
       "    .dataframe tbody tr th {\n",
       "        vertical-align: top;\n",
       "    }\n",
       "\n",
       "    .dataframe thead th {\n",
       "        text-align: right;\n",
       "    }\n",
       "</style>\n",
       "<table border=\"1\" class=\"dataframe\">\n",
       "  <thead>\n",
       "    <tr style=\"text-align: right;\">\n",
       "      <th></th>\n",
       "      <th>RAUM_my_sort</th>\n",
       "      <th>RAUM_LANG</th>\n",
       "      <th>RAUM_CODE</th>\n",
       "      <th>sum_BES</th>\n",
       "    </tr>\n",
       "  </thead>\n",
       "  <tbody>\n",
       "    <tr>\n",
       "      <th>0</th>\n",
       "      <td>0</td>\n",
       "      <td>Stadt Zürich (ab 1934)</td>\n",
       "      <td>R30000</td>\n",
       "      <td>37851444</td>\n",
       "    </tr>\n",
       "  </tbody>\n",
       "</table>\n",
       "</div>"
      ],
      "text/plain": [
       "   RAUM_my_sort               RAUM_LANG RAUM_CODE  sum_BES\n",
       "0             0  Stadt Zürich (ab 1934)    R30000 37851444"
      ]
     },
     "execution_count": 29,
     "metadata": {},
     "output_type": "execute_result"
    }
   ],
   "source": [
    "agg_Quarts = data2betested.loc[data_min_date:data_max_date]\\\n",
    "    .groupby(['RAUM_my_sort', 'RAUM_LANG', 'RAUM_CODE']) \\\n",
    "    .agg(sum_BES=('BES', 'sum')) \\\n",
    "    .sort_values('RAUM_CODE', ascending=False) \n",
    "agg_Quarts.reset_index().head(50)"
   ]
  },
  {
   "cell_type": "code",
   "execution_count": 30,
   "metadata": {},
   "outputs": [
    {
     "data": {
      "text/plain": [
       "Index(['ZEIT_LANG', 'ZEIT_CODE', 'RAUM_LANG', 'RAUM_CODE', 'BEG_LANG', 'BEG_CODE', 'BES',\n",
       "       'StichtagDatJahr_str', 'Jahr', 'RAUM_my_sort'],\n",
       "      dtype='object')"
      ]
     },
     "execution_count": 30,
     "metadata": {},
     "output_type": "execute_result"
    }
   ],
   "source": [
    "data2betested.columns"
   ]
  },
  {
   "cell_type": "code",
   "execution_count": 31,
   "metadata": {},
   "outputs": [
    {
     "data": {
      "text/html": [
       "<div>\n",
       "<style scoped>\n",
       "    .dataframe tbody tr th:only-of-type {\n",
       "        vertical-align: middle;\n",
       "    }\n",
       "\n",
       "    .dataframe tbody tr th {\n",
       "        vertical-align: top;\n",
       "    }\n",
       "\n",
       "    .dataframe thead th {\n",
       "        text-align: right;\n",
       "    }\n",
       "</style>\n",
       "<table border=\"1\" class=\"dataframe\">\n",
       "  <thead>\n",
       "    <tr style=\"text-align: right;\">\n",
       "      <th></th>\n",
       "      <th>BEG_LANG</th>\n",
       "      <th>BEG_CODE</th>\n",
       "      <th>sum_BES</th>\n",
       "    </tr>\n",
       "  </thead>\n",
       "  <tbody>\n",
       "    <tr>\n",
       "      <th>0</th>\n",
       "      <td>Teilzeitbeschäftigte</td>\n",
       "      <td>BEG1200</td>\n",
       "      <td>14513279</td>\n",
       "    </tr>\n",
       "    <tr>\n",
       "      <th>1</th>\n",
       "      <td>Vollzeitbeschäftigte</td>\n",
       "      <td>BEG1100</td>\n",
       "      <td>23338165</td>\n",
       "    </tr>\n",
       "  </tbody>\n",
       "</table>\n",
       "</div>"
      ],
      "text/plain": [
       "               BEG_LANG BEG_CODE  sum_BES\n",
       "0  Teilzeitbeschäftigte  BEG1200 14513279\n",
       "1  Vollzeitbeschäftigte  BEG1100 23338165"
      ]
     },
     "execution_count": 31,
     "metadata": {},
     "output_type": "execute_result"
    }
   ],
   "source": [
    "agg_BG = data2betested.loc[data_min_date:data_max_date]\\\n",
    "    .groupby(['BEG_LANG', 'BEG_CODE',]) \\\n",
    "    .agg(sum_BES=('BES', 'sum')) \\\n",
    "    .sort_values('BEG_CODE', ascending=False) \n",
    "agg_BG.reset_index().head(5)"
   ]
  },
  {
   "cell_type": "markdown",
   "metadata": {},
   "source": [
    "### Zeitpunkte und Zeiträume abfragen\n",
    "\n",
    "A particular powerful feature of the Pandas DataFrame is its indexing capability that also works using time-based entities, such as dates and times. We have already created the index above, so let's put it to use."
   ]
  },
  {
   "cell_type": "code",
   "execution_count": 32,
   "metadata": {},
   "outputs": [
    {
     "data": {
      "text/html": [
       "<div>\n",
       "<style scoped>\n",
       "    .dataframe tbody tr th:only-of-type {\n",
       "        vertical-align: middle;\n",
       "    }\n",
       "\n",
       "    .dataframe tbody tr th {\n",
       "        vertical-align: top;\n",
       "    }\n",
       "\n",
       "    .dataframe thead th {\n",
       "        text-align: right;\n",
       "    }\n",
       "</style>\n",
       "<table border=\"1\" class=\"dataframe\">\n",
       "  <thead>\n",
       "    <tr style=\"text-align: right;\">\n",
       "      <th></th>\n",
       "      <th>ZEIT_LANG</th>\n",
       "      <th>ZEIT_CODE</th>\n",
       "      <th>RAUM_LANG</th>\n",
       "      <th>RAUM_CODE</th>\n",
       "      <th>BEG_LANG</th>\n",
       "      <th>BEG_CODE</th>\n",
       "      <th>BES</th>\n",
       "      <th>StichtagDatJahr_str</th>\n",
       "      <th>Jahr</th>\n",
       "      <th>RAUM_my_sort</th>\n",
       "    </tr>\n",
       "    <tr>\n",
       "      <th>StichtagDatJahr</th>\n",
       "      <th></th>\n",
       "      <th></th>\n",
       "      <th></th>\n",
       "      <th></th>\n",
       "      <th></th>\n",
       "      <th></th>\n",
       "      <th></th>\n",
       "      <th></th>\n",
       "      <th></th>\n",
       "      <th></th>\n",
       "    </tr>\n",
       "  </thead>\n",
       "  <tbody>\n",
       "    <tr>\n",
       "      <th>2024-03-31</th>\n",
       "      <td>2024-03-31</td>\n",
       "      <td>Z31032024</td>\n",
       "      <td>Stadt Zürich (ab 1934)</td>\n",
       "      <td>R30000</td>\n",
       "      <td>Vollzeitbeschäftigte</td>\n",
       "      <td>BEG1100</td>\n",
       "      <td>304800</td>\n",
       "      <td>2024-03-31</td>\n",
       "      <td>2024</td>\n",
       "      <td>0</td>\n",
       "    </tr>\n",
       "    <tr>\n",
       "      <th>2024-03-31</th>\n",
       "      <td>2024-03-31</td>\n",
       "      <td>Z31032024</td>\n",
       "      <td>Stadt Zürich (ab 1934)</td>\n",
       "      <td>R30000</td>\n",
       "      <td>Teilzeitbeschäftigte</td>\n",
       "      <td>BEG1200</td>\n",
       "      <td>215900</td>\n",
       "      <td>2024-03-31</td>\n",
       "      <td>2024</td>\n",
       "      <td>0</td>\n",
       "    </tr>\n",
       "  </tbody>\n",
       "</table>\n",
       "</div>"
      ],
      "text/plain": [
       "                 ZEIT_LANG  ZEIT_CODE               RAUM_LANG RAUM_CODE              BEG_LANG  \\\n",
       "StichtagDatJahr                                                                                 \n",
       "2024-03-31      2024-03-31  Z31032024  Stadt Zürich (ab 1934)    R30000  Vollzeitbeschäftigte   \n",
       "2024-03-31      2024-03-31  Z31032024  Stadt Zürich (ab 1934)    R30000  Teilzeitbeschäftigte   \n",
       "\n",
       "                BEG_CODE    BES StichtagDatJahr_str  Jahr  RAUM_my_sort  \n",
       "StichtagDatJahr                                                          \n",
       "2024-03-31       BEG1100 304800          2024-03-31  2024             0  \n",
       "2024-03-31       BEG1200 215900          2024-03-31  2024             0  "
      ]
     },
     "execution_count": 32,
     "metadata": {},
     "output_type": "execute_result"
    }
   ],
   "source": [
    "data2betested.loc[data_max_date].head(2)\n",
    "#data2betested.loc[\"2021-10-31\":\"2021-11-30\"].head(2)"
   ]
  },
  {
   "cell_type": "markdown",
   "metadata": {},
   "source": [
    "### Visualisierungen nach Zeitausschnitten"
   ]
  },
  {
   "cell_type": "markdown",
   "metadata": {},
   "source": [
    "#### Entwicklung Beschäftigte"
   ]
  },
  {
   "cell_type": "code",
   "execution_count": 33,
   "metadata": {},
   "outputs": [
    {
     "data": {
      "text/plain": [
       "Index(['ZEIT_LANG', 'ZEIT_CODE', 'RAUM_LANG', 'RAUM_CODE', 'BEG_LANG', 'BEG_CODE', 'BES',\n",
       "       'StichtagDatJahr_str', 'Jahr', 'RAUM_my_sort'],\n",
       "      dtype='object')"
      ]
     },
     "execution_count": 33,
     "metadata": {},
     "output_type": "execute_result"
    }
   ],
   "source": [
    "data2betested.columns"
   ]
  },
  {
   "cell_type": "code",
   "execution_count": 34,
   "metadata": {},
   "outputs": [
    {
     "data": {
      "text/html": [
       "<div>\n",
       "<style scoped>\n",
       "    .dataframe tbody tr th:only-of-type {\n",
       "        vertical-align: middle;\n",
       "    }\n",
       "\n",
       "    .dataframe tbody tr th {\n",
       "        vertical-align: top;\n",
       "    }\n",
       "\n",
       "    .dataframe thead th {\n",
       "        text-align: right;\n",
       "    }\n",
       "</style>\n",
       "<table border=\"1\" class=\"dataframe\">\n",
       "  <thead>\n",
       "    <tr style=\"text-align: right;\">\n",
       "      <th></th>\n",
       "      <th>StichtagDatJahr_str</th>\n",
       "      <th>ZEIT_LANG</th>\n",
       "      <th>sum_BES</th>\n",
       "    </tr>\n",
       "  </thead>\n",
       "  <tbody>\n",
       "    <tr>\n",
       "      <th>0</th>\n",
       "      <td>2024-03-31</td>\n",
       "      <td>2024-03-31</td>\n",
       "      <td>520700</td>\n",
       "    </tr>\n",
       "    <tr>\n",
       "      <th>1</th>\n",
       "      <td>2023-12-31</td>\n",
       "      <td>2023-12-31</td>\n",
       "      <td>525500</td>\n",
       "    </tr>\n",
       "    <tr>\n",
       "      <th>2</th>\n",
       "      <td>2023-09-30</td>\n",
       "      <td>2023-09-30</td>\n",
       "      <td>520000</td>\n",
       "    </tr>\n",
       "    <tr>\n",
       "      <th>3</th>\n",
       "      <td>2023-06-30</td>\n",
       "      <td>2023-06-30</td>\n",
       "      <td>522900</td>\n",
       "    </tr>\n",
       "    <tr>\n",
       "      <th>4</th>\n",
       "      <td>2023-03-31</td>\n",
       "      <td>2023-03-31</td>\n",
       "      <td>515100</td>\n",
       "    </tr>\n",
       "    <tr>\n",
       "      <th>...</th>\n",
       "      <td>...</td>\n",
       "      <td>...</td>\n",
       "      <td>...</td>\n",
       "    </tr>\n",
       "    <tr>\n",
       "      <th>81</th>\n",
       "      <td>2003-12-31</td>\n",
       "      <td>2003-12-31</td>\n",
       "      <td>375800</td>\n",
       "    </tr>\n",
       "    <tr>\n",
       "      <th>82</th>\n",
       "      <td>2003-09-30</td>\n",
       "      <td>2003-09-30</td>\n",
       "      <td>380800</td>\n",
       "    </tr>\n",
       "    <tr>\n",
       "      <th>83</th>\n",
       "      <td>2003-06-30</td>\n",
       "      <td>2003-06-30</td>\n",
       "      <td>379000</td>\n",
       "    </tr>\n",
       "    <tr>\n",
       "      <th>84</th>\n",
       "      <td>1998-09-30</td>\n",
       "      <td>1998-09-30</td>\n",
       "      <td>315287</td>\n",
       "    </tr>\n",
       "    <tr>\n",
       "      <th>85</th>\n",
       "      <td>1985-09-30</td>\n",
       "      <td>1985-09-30</td>\n",
       "      <td>334857</td>\n",
       "    </tr>\n",
       "  </tbody>\n",
       "</table>\n",
       "<p>86 rows × 3 columns</p>\n",
       "</div>"
      ],
      "text/plain": [
       "   StichtagDatJahr_str  ZEIT_LANG  sum_BES\n",
       "0           2024-03-31 2024-03-31   520700\n",
       "1           2023-12-31 2023-12-31   525500\n",
       "2           2023-09-30 2023-09-30   520000\n",
       "3           2023-06-30 2023-06-30   522900\n",
       "4           2023-03-31 2023-03-31   515100\n",
       "..                 ...        ...      ...\n",
       "81          2003-12-31 2003-12-31   375800\n",
       "82          2003-09-30 2003-09-30   380800\n",
       "83          2003-06-30 2003-06-30   379000\n",
       "84          1998-09-30 1998-09-30   315287\n",
       "85          1985-09-30 1985-09-30   334857\n",
       "\n",
       "[86 rows x 3 columns]"
      ]
     },
     "execution_count": 34,
     "metadata": {},
     "output_type": "execute_result"
    }
   ],
   "source": [
    "myAgg1 = data2betested.loc[data_min_date:data_max_date]\\\n",
    "    .groupby(['StichtagDatJahr_str', 'ZEIT_LANG']) \\\n",
    "    .agg(sum_BES=('BES', 'sum')) \\\n",
    "    .sort_values('StichtagDatJahr_str', ascending=False) \n",
    "myAgg1.reset_index()"
   ]
  },
  {
   "cell_type": "code",
   "execution_count": 35,
   "metadata": {},
   "outputs": [
    {
     "data": {
      "text/html": [
       "\n",
       "<style>\n",
       "  #altair-viz-4fc67e8211794a3eb47a07f43cb9e721.vega-embed {\n",
       "    width: 100%;\n",
       "    display: flex;\n",
       "  }\n",
       "\n",
       "  #altair-viz-4fc67e8211794a3eb47a07f43cb9e721.vega-embed details,\n",
       "  #altair-viz-4fc67e8211794a3eb47a07f43cb9e721.vega-embed details summary {\n",
       "    position: relative;\n",
       "  }\n",
       "</style>\n",
       "<div id=\"altair-viz-4fc67e8211794a3eb47a07f43cb9e721\"></div>\n",
       "<script type=\"text/javascript\">\n",
       "  var VEGA_DEBUG = (typeof VEGA_DEBUG == \"undefined\") ? {} : VEGA_DEBUG;\n",
       "  (function(spec, embedOpt){\n",
       "    let outputDiv = document.currentScript.previousElementSibling;\n",
       "    if (outputDiv.id !== \"altair-viz-4fc67e8211794a3eb47a07f43cb9e721\") {\n",
       "      outputDiv = document.getElementById(\"altair-viz-4fc67e8211794a3eb47a07f43cb9e721\");\n",
       "    }\n",
       "    const paths = {\n",
       "      \"vega\": \"https://cdn.jsdelivr.net/npm/vega@5?noext\",\n",
       "      \"vega-lib\": \"https://cdn.jsdelivr.net/npm/vega-lib?noext\",\n",
       "      \"vega-lite\": \"https://cdn.jsdelivr.net/npm/vega-lite@5.8.0?noext\",\n",
       "      \"vega-embed\": \"https://cdn.jsdelivr.net/npm/vega-embed@6?noext\",\n",
       "    };\n",
       "\n",
       "    function maybeLoadScript(lib, version) {\n",
       "      var key = `${lib.replace(\"-\", \"\")}_version`;\n",
       "      return (VEGA_DEBUG[key] == version) ?\n",
       "        Promise.resolve(paths[lib]) :\n",
       "        new Promise(function(resolve, reject) {\n",
       "          var s = document.createElement('script');\n",
       "          document.getElementsByTagName(\"head\")[0].appendChild(s);\n",
       "          s.async = true;\n",
       "          s.onload = () => {\n",
       "            VEGA_DEBUG[key] = version;\n",
       "            return resolve(paths[lib]);\n",
       "          };\n",
       "          s.onerror = () => reject(`Error loading script: ${paths[lib]}`);\n",
       "          s.src = paths[lib];\n",
       "        });\n",
       "    }\n",
       "\n",
       "    function showError(err) {\n",
       "      outputDiv.innerHTML = `<div class=\"error\" style=\"color:red;\">${err}</div>`;\n",
       "      throw err;\n",
       "    }\n",
       "\n",
       "    function displayChart(vegaEmbed) {\n",
       "      vegaEmbed(outputDiv, spec, embedOpt)\n",
       "        .catch(err => showError(`Javascript Error: ${err.message}<br>This usually means there's a typo in your chart specification. See the javascript console for the full traceback.`));\n",
       "    }\n",
       "\n",
       "    if(typeof define === \"function\" && define.amd) {\n",
       "      requirejs.config({paths});\n",
       "      require([\"vega-embed\"], displayChart, err => showError(`Error loading script: ${err.message}`));\n",
       "    } else {\n",
       "      maybeLoadScript(\"vega\", \"5\")\n",
       "        .then(() => maybeLoadScript(\"vega-lite\", \"5.8.0\"))\n",
       "        .then(() => maybeLoadScript(\"vega-embed\", \"6\"))\n",
       "        .catch(showError)\n",
       "        .then(() => displayChart(vegaEmbed));\n",
       "    }\n",
       "  })({\"config\": {\"view\": {\"continuousWidth\": 300, \"continuousHeight\": 300}}, \"layer\": [{\"mark\": {\"type\": \"circle\"}, \"encoding\": {\"opacity\": {\"value\": 1.3}, \"tooltip\": [{\"field\": \"ZEIT_LANG\", \"type\": \"temporal\"}, {\"field\": \"sum_BES\", \"type\": \"quantitative\"}], \"x\": {\"axis\": {\"title\": \"Jahr\"}, \"field\": \"ZEIT_LANG\", \"type\": \"temporal\"}, \"y\": {\"axis\": {\"title\": \"Anzahl Besch\\u00e4ftigte\"}, \"field\": \"sum_BES\", \"type\": \"quantitative\"}}, \"name\": \"view_1\", \"title\": \"Entwicklung Besch\\u00e4ftigten in der Stadt Z\\u00fcrich, seit 1985\"}, {\"mark\": {\"type\": \"line\"}, \"encoding\": {\"size\": {\"condition\": {\"test\": {\"not\": {\"param\": \"param_1\"}}, \"value\": 1.2}, \"value\": 3}, \"tooltip\": [{\"field\": \"ZEIT_LANG\", \"type\": \"temporal\"}, {\"field\": \"sum_BES\", \"type\": \"quantitative\"}], \"x\": {\"axis\": {\"title\": \"Jahr\"}, \"field\": \"ZEIT_LANG\", \"type\": \"temporal\"}, \"y\": {\"axis\": {\"title\": \"Anzahl Besch\\u00e4ftigte\"}, \"field\": \"sum_BES\", \"type\": \"quantitative\"}}, \"title\": \"Entwicklung Besch\\u00e4ftigten in der Stadt Z\\u00fcrich, seit 1985\"}], \"data\": {\"name\": \"data-292ff4c4a171bfbd256a31e95efb7096\"}, \"height\": 400, \"params\": [{\"name\": \"param_1\", \"select\": {\"type\": \"point\", \"fields\": [\"\"], \"nearest\": true, \"on\": \"pointerover\"}, \"views\": [\"view_1\"]}], \"width\": 750, \"$schema\": \"https://vega.github.io/schema/vega-lite/v5.8.0.json\", \"datasets\": {\"data-292ff4c4a171bfbd256a31e95efb7096\": [{\"StichtagDatJahr_str\": \"2024-03-31\", \"ZEIT_LANG\": \"2024-03-31T00:00:00\", \"sum_BES\": 520700.0}, {\"StichtagDatJahr_str\": \"2023-12-31\", \"ZEIT_LANG\": \"2023-12-31T00:00:00\", \"sum_BES\": 525500.0}, {\"StichtagDatJahr_str\": \"2023-09-30\", \"ZEIT_LANG\": \"2023-09-30T00:00:00\", \"sum_BES\": 520000.0}, {\"StichtagDatJahr_str\": \"2023-06-30\", \"ZEIT_LANG\": \"2023-06-30T00:00:00\", \"sum_BES\": 522900.0}, {\"StichtagDatJahr_str\": \"2023-03-31\", \"ZEIT_LANG\": \"2023-03-31T00:00:00\", \"sum_BES\": 515100.0}, {\"StichtagDatJahr_str\": \"2022-12-31\", \"ZEIT_LANG\": \"2022-12-31T00:00:00\", \"sum_BES\": 516100.0}, {\"StichtagDatJahr_str\": \"2022-09-30\", \"ZEIT_LANG\": \"2022-09-30T00:00:00\", \"sum_BES\": 513100.0}, {\"StichtagDatJahr_str\": \"2022-06-30\", \"ZEIT_LANG\": \"2022-06-30T00:00:00\", \"sum_BES\": 505800.0}, {\"StichtagDatJahr_str\": \"2022-03-31\", \"ZEIT_LANG\": \"2022-03-31T00:00:00\", \"sum_BES\": 499200.0}, {\"StichtagDatJahr_str\": \"2021-12-31\", \"ZEIT_LANG\": \"2021-12-31T00:00:00\", \"sum_BES\": 501500.0}, {\"StichtagDatJahr_str\": \"2021-09-30\", \"ZEIT_LANG\": \"2021-09-30T00:00:00\", \"sum_BES\": 494800.0}, {\"StichtagDatJahr_str\": \"2021-06-30\", \"ZEIT_LANG\": \"2021-06-30T00:00:00\", \"sum_BES\": 487900.0}, {\"StichtagDatJahr_str\": \"2021-03-31\", \"ZEIT_LANG\": \"2021-03-31T00:00:00\", \"sum_BES\": 480200.0}, {\"StichtagDatJahr_str\": \"2020-12-31\", \"ZEIT_LANG\": \"2020-12-31T00:00:00\", \"sum_BES\": 486200.0}, {\"StichtagDatJahr_str\": \"2020-09-30\", \"ZEIT_LANG\": \"2020-09-30T00:00:00\", \"sum_BES\": 490500.0}, {\"StichtagDatJahr_str\": \"2020-06-30\", \"ZEIT_LANG\": \"2020-06-30T00:00:00\", \"sum_BES\": 481500.0}, {\"StichtagDatJahr_str\": \"2020-03-31\", \"ZEIT_LANG\": \"2020-03-31T00:00:00\", \"sum_BES\": 485200.0}, {\"StichtagDatJahr_str\": \"2019-12-31\", \"ZEIT_LANG\": \"2019-12-31T00:00:00\", \"sum_BES\": 487500.0}, {\"StichtagDatJahr_str\": \"2019-09-30\", \"ZEIT_LANG\": \"2019-09-30T00:00:00\", \"sum_BES\": 486600.0}, {\"StichtagDatJahr_str\": \"2019-06-30\", \"ZEIT_LANG\": \"2019-06-30T00:00:00\", \"sum_BES\": 483700.0}, {\"StichtagDatJahr_str\": \"2019-03-31\", \"ZEIT_LANG\": \"2019-03-31T00:00:00\", \"sum_BES\": 479200.0}, {\"StichtagDatJahr_str\": \"2018-12-31\", \"ZEIT_LANG\": \"2018-12-31T00:00:00\", \"sum_BES\": 478200.0}, {\"StichtagDatJahr_str\": \"2018-09-30\", \"ZEIT_LANG\": \"2018-09-30T00:00:00\", \"sum_BES\": 477800.0}, {\"StichtagDatJahr_str\": \"2018-06-30\", \"ZEIT_LANG\": \"2018-06-30T00:00:00\", \"sum_BES\": 472800.0}, {\"StichtagDatJahr_str\": \"2018-03-31\", \"ZEIT_LANG\": \"2018-03-31T00:00:00\", \"sum_BES\": 467200.0}, {\"StichtagDatJahr_str\": \"2017-12-31\", \"ZEIT_LANG\": \"2017-12-31T00:00:00\", \"sum_BES\": 466800.0}, {\"StichtagDatJahr_str\": \"2017-09-30\", \"ZEIT_LANG\": \"2017-09-30T00:00:00\", \"sum_BES\": 465300.0}, {\"StichtagDatJahr_str\": \"2017-06-30\", \"ZEIT_LANG\": \"2017-06-30T00:00:00\", \"sum_BES\": 460500.0}, {\"StichtagDatJahr_str\": \"2017-03-31\", \"ZEIT_LANG\": \"2017-03-31T00:00:00\", \"sum_BES\": 455700.0}, {\"StichtagDatJahr_str\": \"2016-12-31\", \"ZEIT_LANG\": \"2016-12-31T00:00:00\", \"sum_BES\": 457900.0}, {\"StichtagDatJahr_str\": \"2016-09-30\", \"ZEIT_LANG\": \"2016-09-30T00:00:00\", \"sum_BES\": 457800.0}, {\"StichtagDatJahr_str\": \"2016-06-30\", \"ZEIT_LANG\": \"2016-06-30T00:00:00\", \"sum_BES\": 456500.0}, {\"StichtagDatJahr_str\": \"2016-03-31\", \"ZEIT_LANG\": \"2016-03-31T00:00:00\", \"sum_BES\": 455600.0}, {\"StichtagDatJahr_str\": \"2015-12-31\", \"ZEIT_LANG\": \"2015-12-31T00:00:00\", \"sum_BES\": 453600.0}, {\"StichtagDatJahr_str\": \"2015-09-30\", \"ZEIT_LANG\": \"2015-09-30T00:00:00\", \"sum_BES\": 454700.0}, {\"StichtagDatJahr_str\": \"2015-06-30\", \"ZEIT_LANG\": \"2015-06-30T00:00:00\", \"sum_BES\": 451800.0}, {\"StichtagDatJahr_str\": \"2015-03-31\", \"ZEIT_LANG\": \"2015-03-31T00:00:00\", \"sum_BES\": 448300.0}, {\"StichtagDatJahr_str\": \"2014-12-31\", \"ZEIT_LANG\": \"2014-12-31T00:00:00\", \"sum_BES\": 451500.0}, {\"StichtagDatJahr_str\": \"2014-09-30\", \"ZEIT_LANG\": \"2014-09-30T00:00:00\", \"sum_BES\": 450800.0}, {\"StichtagDatJahr_str\": \"2014-06-30\", \"ZEIT_LANG\": \"2014-06-30T00:00:00\", \"sum_BES\": 446400.0}, {\"StichtagDatJahr_str\": \"2014-03-31\", \"ZEIT_LANG\": \"2014-03-31T00:00:00\", \"sum_BES\": 441800.0}, {\"StichtagDatJahr_str\": \"2013-12-31\", \"ZEIT_LANG\": \"2013-12-31T00:00:00\", \"sum_BES\": 443100.0}, {\"StichtagDatJahr_str\": \"2013-09-30\", \"ZEIT_LANG\": \"2013-09-30T00:00:00\", \"sum_BES\": 445000.0}, {\"StichtagDatJahr_str\": \"2013-06-30\", \"ZEIT_LANG\": \"2013-06-30T00:00:00\", \"sum_BES\": 442200.0}, {\"StichtagDatJahr_str\": \"2013-03-31\", \"ZEIT_LANG\": \"2013-03-31T00:00:00\", \"sum_BES\": 442900.0}, {\"StichtagDatJahr_str\": \"2012-12-31\", \"ZEIT_LANG\": \"2012-12-31T00:00:00\", \"sum_BES\": 441700.0}, {\"StichtagDatJahr_str\": \"2012-09-30\", \"ZEIT_LANG\": \"2012-09-30T00:00:00\", \"sum_BES\": 443700.0}, {\"StichtagDatJahr_str\": \"2012-06-30\", \"ZEIT_LANG\": \"2012-06-30T00:00:00\", \"sum_BES\": 435700.0}, {\"StichtagDatJahr_str\": \"2012-03-31\", \"ZEIT_LANG\": \"2012-03-31T00:00:00\", \"sum_BES\": 432400.0}, {\"StichtagDatJahr_str\": \"2011-12-31\", \"ZEIT_LANG\": \"2011-12-31T00:00:00\", \"sum_BES\": 428300.0}, {\"StichtagDatJahr_str\": \"2011-09-30\", \"ZEIT_LANG\": \"2011-09-30T00:00:00\", \"sum_BES\": 430900.0}, {\"StichtagDatJahr_str\": \"2011-06-30\", \"ZEIT_LANG\": \"2011-06-30T00:00:00\", \"sum_BES\": 428100.0}, {\"StichtagDatJahr_str\": \"2011-03-31\", \"ZEIT_LANG\": \"2011-03-31T00:00:00\", \"sum_BES\": 423600.0}, {\"StichtagDatJahr_str\": \"2010-12-31\", \"ZEIT_LANG\": \"2010-12-31T00:00:00\", \"sum_BES\": 423600.0}, {\"StichtagDatJahr_str\": \"2010-09-30\", \"ZEIT_LANG\": \"2010-09-30T00:00:00\", \"sum_BES\": 424700.0}, {\"StichtagDatJahr_str\": \"2010-06-30\", \"ZEIT_LANG\": \"2010-06-30T00:00:00\", \"sum_BES\": 419800.0}, {\"StichtagDatJahr_str\": \"2010-03-31\", \"ZEIT_LANG\": \"2010-03-31T00:00:00\", \"sum_BES\": 417300.0}, {\"StichtagDatJahr_str\": \"2009-12-31\", \"ZEIT_LANG\": \"2009-12-31T00:00:00\", \"sum_BES\": 417800.0}, {\"StichtagDatJahr_str\": \"2009-09-30\", \"ZEIT_LANG\": \"2009-09-30T00:00:00\", \"sum_BES\": 421500.0}, {\"StichtagDatJahr_str\": \"2009-06-30\", \"ZEIT_LANG\": \"2009-06-30T00:00:00\", \"sum_BES\": 417600.0}, {\"StichtagDatJahr_str\": \"2009-03-31\", \"ZEIT_LANG\": \"2009-03-31T00:00:00\", \"sum_BES\": 419200.0}, {\"StichtagDatJahr_str\": \"2008-12-31\", \"ZEIT_LANG\": \"2008-12-31T00:00:00\", \"sum_BES\": 417600.0}, {\"StichtagDatJahr_str\": \"2008-09-30\", \"ZEIT_LANG\": \"2008-09-30T00:00:00\", \"sum_BES\": 422100.0}, {\"StichtagDatJahr_str\": \"2008-06-30\", \"ZEIT_LANG\": \"2008-06-30T00:00:00\", \"sum_BES\": 418300.0}, {\"StichtagDatJahr_str\": \"2008-03-31\", \"ZEIT_LANG\": \"2008-03-31T00:00:00\", \"sum_BES\": 410700.0}, {\"StichtagDatJahr_str\": \"2007-12-31\", \"ZEIT_LANG\": \"2007-12-31T00:00:00\", \"sum_BES\": 406000.0}, {\"StichtagDatJahr_str\": \"2007-09-30\", \"ZEIT_LANG\": \"2007-09-30T00:00:00\", \"sum_BES\": 402700.0}, {\"StichtagDatJahr_str\": \"2007-06-30\", \"ZEIT_LANG\": \"2007-06-30T00:00:00\", \"sum_BES\": 398700.0}, {\"StichtagDatJahr_str\": \"2007-03-31\", \"ZEIT_LANG\": \"2007-03-31T00:00:00\", \"sum_BES\": 391700.0}, {\"StichtagDatJahr_str\": \"2006-12-31\", \"ZEIT_LANG\": \"2006-12-31T00:00:00\", \"sum_BES\": 389600.0}, {\"StichtagDatJahr_str\": \"2006-09-30\", \"ZEIT_LANG\": \"2006-09-30T00:00:00\", \"sum_BES\": 387500.0}, {\"StichtagDatJahr_str\": \"2006-06-30\", \"ZEIT_LANG\": \"2006-06-30T00:00:00\", \"sum_BES\": 380200.0}, {\"StichtagDatJahr_str\": \"2006-03-31\", \"ZEIT_LANG\": \"2006-03-31T00:00:00\", \"sum_BES\": 379600.0}, {\"StichtagDatJahr_str\": \"2005-12-31\", \"ZEIT_LANG\": \"2005-12-31T00:00:00\", \"sum_BES\": 377200.0}, {\"StichtagDatJahr_str\": \"2005-09-30\", \"ZEIT_LANG\": \"2005-09-30T00:00:00\", \"sum_BES\": 380800.0}, {\"StichtagDatJahr_str\": \"2005-06-30\", \"ZEIT_LANG\": \"2005-06-30T00:00:00\", \"sum_BES\": 372100.0}, {\"StichtagDatJahr_str\": \"2005-03-31\", \"ZEIT_LANG\": \"2005-03-31T00:00:00\", \"sum_BES\": 372600.0}, {\"StichtagDatJahr_str\": \"2004-12-31\", \"ZEIT_LANG\": \"2004-12-31T00:00:00\", \"sum_BES\": 374800.0}, {\"StichtagDatJahr_str\": \"2004-09-30\", \"ZEIT_LANG\": \"2004-09-30T00:00:00\", \"sum_BES\": 376500.0}, {\"StichtagDatJahr_str\": \"2004-06-30\", \"ZEIT_LANG\": \"2004-06-30T00:00:00\", \"sum_BES\": 375400.0}, {\"StichtagDatJahr_str\": \"2004-03-31\", \"ZEIT_LANG\": \"2004-03-31T00:00:00\", \"sum_BES\": 378300.0}, {\"StichtagDatJahr_str\": \"2003-12-31\", \"ZEIT_LANG\": \"2003-12-31T00:00:00\", \"sum_BES\": 375800.0}, {\"StichtagDatJahr_str\": \"2003-09-30\", \"ZEIT_LANG\": \"2003-09-30T00:00:00\", \"sum_BES\": 380800.0}, {\"StichtagDatJahr_str\": \"2003-06-30\", \"ZEIT_LANG\": \"2003-06-30T00:00:00\", \"sum_BES\": 379000.0}, {\"StichtagDatJahr_str\": \"1998-09-30\", \"ZEIT_LANG\": \"1998-09-30T00:00:00\", \"sum_BES\": 315287.0}, {\"StichtagDatJahr_str\": \"1985-09-30\", \"ZEIT_LANG\": \"1985-09-30T00:00:00\", \"sum_BES\": 334857.0}]}}, {\"mode\": \"vega-lite\"});\n",
       "</script>"
      ],
      "text/plain": [
       "alt.LayerChart(...)"
      ]
     },
     "execution_count": 35,
     "metadata": {},
     "output_type": "execute_result"
    }
   ],
   "source": [
    "grafik1 = mypy_dv.plot_altair_multiline_highlight(\n",
    "    data = myAgg1.reset_index()\n",
    "    , x = 'ZEIT_LANG:T'\n",
    "    , y = 'sum_BES:Q'\n",
    "    , x_beschriftung = 'Jahr'\n",
    "    , y_beschriftung = 'Anzahl Beschäftigte'\n",
    "    , warning_status  = \"ignore\"\n",
    "    , category=''\n",
    "    , category_beschriftung=''\n",
    "    , myTitle = \"Entwicklung Beschäftigten in der Stadt Zürich, seit \"+str(data2betested.index.year.min())\n",
    ")\n",
    "grafik1"
   ]
  },
  {
   "cell_type": "markdown",
   "metadata": {},
   "source": [
    "Speichere diese Grafik mit Zeitstempel:"
   ]
  },
  {
   "cell_type": "code",
   "execution_count": 36,
   "metadata": {},
   "outputs": [
    {
     "name": "stdout",
     "output_type": "stream",
     "text": [
      "grafiken_testing/wir400od4004_alt1_besch_total_2024-06-18.png\n"
     ]
    }
   ],
   "source": [
    "grafic_name = package_name+\"_alt1_besch_total\"+date_today+\".png\"\n",
    "print('grafiken_testing/'+grafic_name)\n",
    "#grafik1.save('grafiken_testing/'+grafic_name+'.html', embed_options={'renderer':'svg'})\n",
    "grafik1.save('grafiken_testing/'+grafic_name)"
   ]
  },
  {
   "cell_type": "markdown",
   "metadata": {
    "tags": []
   },
   "source": [
    "#### Entwicklung Beschäftigte nach Beschäftigungsgrad"
   ]
  },
  {
   "cell_type": "code",
   "execution_count": 37,
   "metadata": {
    "tags": []
   },
   "outputs": [
    {
     "data": {
      "text/html": [
       "<div>\n",
       "<style scoped>\n",
       "    .dataframe tbody tr th:only-of-type {\n",
       "        vertical-align: middle;\n",
       "    }\n",
       "\n",
       "    .dataframe tbody tr th {\n",
       "        vertical-align: top;\n",
       "    }\n",
       "\n",
       "    .dataframe thead th {\n",
       "        text-align: right;\n",
       "    }\n",
       "</style>\n",
       "<table border=\"1\" class=\"dataframe\">\n",
       "  <thead>\n",
       "    <tr style=\"text-align: right;\">\n",
       "      <th></th>\n",
       "      <th>StichtagDatJahr_str</th>\n",
       "      <th>ZEIT_LANG</th>\n",
       "      <th>BEG_LANG</th>\n",
       "      <th>BEG_CODE</th>\n",
       "      <th>sum_BES</th>\n",
       "    </tr>\n",
       "  </thead>\n",
       "  <tbody>\n",
       "    <tr>\n",
       "      <th>0</th>\n",
       "      <td>1985-09-30</td>\n",
       "      <td>1985-09-30</td>\n",
       "      <td>Teilzeitbeschäftigte</td>\n",
       "      <td>BEG1200</td>\n",
       "      <td>71512</td>\n",
       "    </tr>\n",
       "    <tr>\n",
       "      <th>1</th>\n",
       "      <td>2017-06-30</td>\n",
       "      <td>2017-06-30</td>\n",
       "      <td>Teilzeitbeschäftigte</td>\n",
       "      <td>BEG1200</td>\n",
       "      <td>180600</td>\n",
       "    </tr>\n",
       "    <tr>\n",
       "      <th>2</th>\n",
       "      <td>2016-12-31</td>\n",
       "      <td>2016-12-31</td>\n",
       "      <td>Teilzeitbeschäftigte</td>\n",
       "      <td>BEG1200</td>\n",
       "      <td>181500</td>\n",
       "    </tr>\n",
       "    <tr>\n",
       "      <th>3</th>\n",
       "      <td>2016-09-30</td>\n",
       "      <td>2016-09-30</td>\n",
       "      <td>Teilzeitbeschäftigte</td>\n",
       "      <td>BEG1200</td>\n",
       "      <td>180600</td>\n",
       "    </tr>\n",
       "    <tr>\n",
       "      <th>4</th>\n",
       "      <td>2016-06-30</td>\n",
       "      <td>2016-06-30</td>\n",
       "      <td>Teilzeitbeschäftigte</td>\n",
       "      <td>BEG1200</td>\n",
       "      <td>182300</td>\n",
       "    </tr>\n",
       "  </tbody>\n",
       "</table>\n",
       "</div>"
      ],
      "text/plain": [
       "  StichtagDatJahr_str  ZEIT_LANG              BEG_LANG BEG_CODE  sum_BES\n",
       "0          1985-09-30 1985-09-30  Teilzeitbeschäftigte  BEG1200    71512\n",
       "1          2017-06-30 2017-06-30  Teilzeitbeschäftigte  BEG1200   180600\n",
       "2          2016-12-31 2016-12-31  Teilzeitbeschäftigte  BEG1200   181500\n",
       "3          2016-09-30 2016-09-30  Teilzeitbeschäftigte  BEG1200   180600\n",
       "4          2016-06-30 2016-06-30  Teilzeitbeschäftigte  BEG1200   182300"
      ]
     },
     "execution_count": 37,
     "metadata": {},
     "output_type": "execute_result"
    }
   ],
   "source": [
    "myAgg2 = data2betested.loc[data_min_date:data_max_date]\\\n",
    "    .groupby(['StichtagDatJahr_str', 'ZEIT_LANG','BEG_LANG', 'BEG_CODE',]) \\\n",
    "    .agg(sum_BES=('BES', 'sum')) \\\n",
    "    .sort_values('BEG_CODE', ascending=False) \n",
    "    \n",
    "myAgg2.reset_index().head(5)"
   ]
  },
  {
   "cell_type": "code",
   "execution_count": 38,
   "metadata": {},
   "outputs": [
    {
     "data": {
      "text/html": [
       "\n",
       "<style>\n",
       "  #altair-viz-6f6d62b04c244d1ca583eb44c1eb30b3.vega-embed {\n",
       "    width: 100%;\n",
       "    display: flex;\n",
       "  }\n",
       "\n",
       "  #altair-viz-6f6d62b04c244d1ca583eb44c1eb30b3.vega-embed details,\n",
       "  #altair-viz-6f6d62b04c244d1ca583eb44c1eb30b3.vega-embed details summary {\n",
       "    position: relative;\n",
       "  }\n",
       "</style>\n",
       "<div id=\"altair-viz-6f6d62b04c244d1ca583eb44c1eb30b3\"></div>\n",
       "<script type=\"text/javascript\">\n",
       "  var VEGA_DEBUG = (typeof VEGA_DEBUG == \"undefined\") ? {} : VEGA_DEBUG;\n",
       "  (function(spec, embedOpt){\n",
       "    let outputDiv = document.currentScript.previousElementSibling;\n",
       "    if (outputDiv.id !== \"altair-viz-6f6d62b04c244d1ca583eb44c1eb30b3\") {\n",
       "      outputDiv = document.getElementById(\"altair-viz-6f6d62b04c244d1ca583eb44c1eb30b3\");\n",
       "    }\n",
       "    const paths = {\n",
       "      \"vega\": \"https://cdn.jsdelivr.net/npm/vega@5?noext\",\n",
       "      \"vega-lib\": \"https://cdn.jsdelivr.net/npm/vega-lib?noext\",\n",
       "      \"vega-lite\": \"https://cdn.jsdelivr.net/npm/vega-lite@5.8.0?noext\",\n",
       "      \"vega-embed\": \"https://cdn.jsdelivr.net/npm/vega-embed@6?noext\",\n",
       "    };\n",
       "\n",
       "    function maybeLoadScript(lib, version) {\n",
       "      var key = `${lib.replace(\"-\", \"\")}_version`;\n",
       "      return (VEGA_DEBUG[key] == version) ?\n",
       "        Promise.resolve(paths[lib]) :\n",
       "        new Promise(function(resolve, reject) {\n",
       "          var s = document.createElement('script');\n",
       "          document.getElementsByTagName(\"head\")[0].appendChild(s);\n",
       "          s.async = true;\n",
       "          s.onload = () => {\n",
       "            VEGA_DEBUG[key] = version;\n",
       "            return resolve(paths[lib]);\n",
       "          };\n",
       "          s.onerror = () => reject(`Error loading script: ${paths[lib]}`);\n",
       "          s.src = paths[lib];\n",
       "        });\n",
       "    }\n",
       "\n",
       "    function showError(err) {\n",
       "      outputDiv.innerHTML = `<div class=\"error\" style=\"color:red;\">${err}</div>`;\n",
       "      throw err;\n",
       "    }\n",
       "\n",
       "    function displayChart(vegaEmbed) {\n",
       "      vegaEmbed(outputDiv, spec, embedOpt)\n",
       "        .catch(err => showError(`Javascript Error: ${err.message}<br>This usually means there's a typo in your chart specification. See the javascript console for the full traceback.`));\n",
       "    }\n",
       "\n",
       "    if(typeof define === \"function\" && define.amd) {\n",
       "      requirejs.config({paths});\n",
       "      require([\"vega-embed\"], displayChart, err => showError(`Error loading script: ${err.message}`));\n",
       "    } else {\n",
       "      maybeLoadScript(\"vega\", \"5\")\n",
       "        .then(() => maybeLoadScript(\"vega-lite\", \"5.8.0\"))\n",
       "        .then(() => maybeLoadScript(\"vega-embed\", \"6\"))\n",
       "        .catch(showError)\n",
       "        .then(() => displayChart(vegaEmbed));\n",
       "    }\n",
       "  })({\"config\": {\"view\": {\"continuousWidth\": 300, \"continuousHeight\": 300}}, \"layer\": [{\"mark\": {\"type\": \"circle\"}, \"encoding\": {\"color\": {\"field\": \"BEG_LANG\", \"legend\": {\"orient\": \"right\", \"title\": \"BG:\"}, \"type\": \"nominal\"}, \"opacity\": {\"value\": 1.3}, \"tooltip\": [{\"field\": \"ZEIT_LANG\", \"type\": \"temporal\"}, {\"field\": \"BEG_LANG\", \"type\": \"nominal\"}, {\"field\": \"sum_BES\", \"type\": \"quantitative\"}], \"x\": {\"axis\": {\"title\": \"Jahr\"}, \"field\": \"ZEIT_LANG\", \"type\": \"temporal\"}, \"y\": {\"axis\": {\"title\": \"Anzahl Besch\\u00e4ftigte\"}, \"field\": \"sum_BES\", \"type\": \"quantitative\"}}, \"name\": \"view_2\", \"title\": \"Entwicklung Besch\\u00e4ftigten nach Besch\\u00e4ftigungsgrad seit, 1985\"}, {\"mark\": {\"type\": \"line\"}, \"encoding\": {\"color\": {\"field\": \"BEG_LANG\", \"legend\": {\"orient\": \"right\", \"title\": \"BG:\"}, \"type\": \"nominal\"}, \"size\": {\"condition\": {\"test\": {\"not\": {\"param\": \"param_2\"}}, \"value\": 1.2}, \"value\": 3}, \"tooltip\": [{\"field\": \"ZEIT_LANG\", \"type\": \"temporal\"}, {\"field\": \"BEG_LANG\", \"type\": \"nominal\"}, {\"field\": \"sum_BES\", \"type\": \"quantitative\"}], \"x\": {\"axis\": {\"title\": \"Jahr\"}, \"field\": \"ZEIT_LANG\", \"type\": \"temporal\"}, \"y\": {\"axis\": {\"title\": \"Anzahl Besch\\u00e4ftigte\"}, \"field\": \"sum_BES\", \"type\": \"quantitative\"}}, \"title\": \"Entwicklung Besch\\u00e4ftigten nach Besch\\u00e4ftigungsgrad seit, 1985\"}], \"data\": {\"name\": \"data-e482f34d909447595dab726c1107a39d\"}, \"height\": 400, \"params\": [{\"name\": \"param_2\", \"select\": {\"type\": \"point\", \"fields\": [\"BEG_LANG:N\"], \"nearest\": true, \"on\": \"pointerover\"}, \"views\": [\"view_2\"]}], \"width\": 750, \"$schema\": \"https://vega.github.io/schema/vega-lite/v5.8.0.json\", \"datasets\": {\"data-e482f34d909447595dab726c1107a39d\": [{\"StichtagDatJahr_str\": \"1985-09-30\", \"ZEIT_LANG\": \"1985-09-30T00:00:00\", \"BEG_LANG\": \"Teilzeitbesch\\u00e4ftigte\", \"BEG_CODE\": \"BEG1200\", \"sum_BES\": 71512.0}, {\"StichtagDatJahr_str\": \"2017-06-30\", \"ZEIT_LANG\": \"2017-06-30T00:00:00\", \"BEG_LANG\": \"Teilzeitbesch\\u00e4ftigte\", \"BEG_CODE\": \"BEG1200\", \"sum_BES\": 180600.0}, {\"StichtagDatJahr_str\": \"2016-12-31\", \"ZEIT_LANG\": \"2016-12-31T00:00:00\", \"BEG_LANG\": \"Teilzeitbesch\\u00e4ftigte\", \"BEG_CODE\": \"BEG1200\", \"sum_BES\": 181500.0}, {\"StichtagDatJahr_str\": \"2016-09-30\", \"ZEIT_LANG\": \"2016-09-30T00:00:00\", \"BEG_LANG\": \"Teilzeitbesch\\u00e4ftigte\", \"BEG_CODE\": \"BEG1200\", \"sum_BES\": 180600.0}, {\"StichtagDatJahr_str\": \"2016-06-30\", \"ZEIT_LANG\": \"2016-06-30T00:00:00\", \"BEG_LANG\": \"Teilzeitbesch\\u00e4ftigte\", \"BEG_CODE\": \"BEG1200\", \"sum_BES\": 182300.0}, {\"StichtagDatJahr_str\": \"2016-03-31\", \"ZEIT_LANG\": \"2016-03-31T00:00:00\", \"BEG_LANG\": \"Teilzeitbesch\\u00e4ftigte\", \"BEG_CODE\": \"BEG1200\", \"sum_BES\": 180400.0}, {\"StichtagDatJahr_str\": \"2015-12-31\", \"ZEIT_LANG\": \"2015-12-31T00:00:00\", \"BEG_LANG\": \"Teilzeitbesch\\u00e4ftigte\", \"BEG_CODE\": \"BEG1200\", \"sum_BES\": 180700.0}, {\"StichtagDatJahr_str\": \"2015-09-30\", \"ZEIT_LANG\": \"2015-09-30T00:00:00\", \"BEG_LANG\": \"Teilzeitbesch\\u00e4ftigte\", \"BEG_CODE\": \"BEG1200\", \"sum_BES\": 179900.0}, {\"StichtagDatJahr_str\": \"2015-06-30\", \"ZEIT_LANG\": \"2015-06-30T00:00:00\", \"BEG_LANG\": \"Teilzeitbesch\\u00e4ftigte\", \"BEG_CODE\": \"BEG1200\", \"sum_BES\": 178600.0}, {\"StichtagDatJahr_str\": \"2015-03-31\", \"ZEIT_LANG\": \"2015-03-31T00:00:00\", \"BEG_LANG\": \"Teilzeitbesch\\u00e4ftigte\", \"BEG_CODE\": \"BEG1200\", \"sum_BES\": 170800.0}, {\"StichtagDatJahr_str\": \"2014-12-31\", \"ZEIT_LANG\": \"2014-12-31T00:00:00\", \"BEG_LANG\": \"Teilzeitbesch\\u00e4ftigte\", \"BEG_CODE\": \"BEG1200\", \"sum_BES\": 174500.0}, {\"StichtagDatJahr_str\": \"2014-09-30\", \"ZEIT_LANG\": \"2014-09-30T00:00:00\", \"BEG_LANG\": \"Teilzeitbesch\\u00e4ftigte\", \"BEG_CODE\": \"BEG1200\", \"sum_BES\": 173300.0}, {\"StichtagDatJahr_str\": \"2014-06-30\", \"ZEIT_LANG\": \"2014-06-30T00:00:00\", \"BEG_LANG\": \"Teilzeitbesch\\u00e4ftigte\", \"BEG_CODE\": \"BEG1200\", \"sum_BES\": 171400.0}, {\"StichtagDatJahr_str\": \"2014-03-31\", \"ZEIT_LANG\": \"2014-03-31T00:00:00\", \"BEG_LANG\": \"Teilzeitbesch\\u00e4ftigte\", \"BEG_CODE\": \"BEG1200\", \"sum_BES\": 170300.0}, {\"StichtagDatJahr_str\": \"2013-12-31\", \"ZEIT_LANG\": \"2013-12-31T00:00:00\", \"BEG_LANG\": \"Teilzeitbesch\\u00e4ftigte\", \"BEG_CODE\": \"BEG1200\", \"sum_BES\": 170700.0}, {\"StichtagDatJahr_str\": \"2013-06-30\", \"ZEIT_LANG\": \"2013-06-30T00:00:00\", \"BEG_LANG\": \"Teilzeitbesch\\u00e4ftigte\", \"BEG_CODE\": \"BEG1200\", \"sum_BES\": 168000.0}, {\"StichtagDatJahr_str\": \"2013-03-31\", \"ZEIT_LANG\": \"2013-03-31T00:00:00\", \"BEG_LANG\": \"Teilzeitbesch\\u00e4ftigte\", \"BEG_CODE\": \"BEG1200\", \"sum_BES\": 170400.0}, {\"StichtagDatJahr_str\": \"2012-12-31\", \"ZEIT_LANG\": \"2012-12-31T00:00:00\", \"BEG_LANG\": \"Teilzeitbesch\\u00e4ftigte\", \"BEG_CODE\": \"BEG1200\", \"sum_BES\": 168700.0}, {\"StichtagDatJahr_str\": \"2012-09-30\", \"ZEIT_LANG\": \"2012-09-30T00:00:00\", \"BEG_LANG\": \"Teilzeitbesch\\u00e4ftigte\", \"BEG_CODE\": \"BEG1200\", \"sum_BES\": 168800.0}, {\"StichtagDatJahr_str\": \"2012-06-30\", \"ZEIT_LANG\": \"2012-06-30T00:00:00\", \"BEG_LANG\": \"Teilzeitbesch\\u00e4ftigte\", \"BEG_CODE\": \"BEG1200\", \"sum_BES\": 165000.0}, {\"StichtagDatJahr_str\": \"2012-03-31\", \"ZEIT_LANG\": \"2012-03-31T00:00:00\", \"BEG_LANG\": \"Teilzeitbesch\\u00e4ftigte\", \"BEG_CODE\": \"BEG1200\", \"sum_BES\": 162700.0}, {\"StichtagDatJahr_str\": \"2011-12-31\", \"ZEIT_LANG\": \"2011-12-31T00:00:00\", \"BEG_LANG\": \"Teilzeitbesch\\u00e4ftigte\", \"BEG_CODE\": \"BEG1200\", \"sum_BES\": 159800.0}, {\"StichtagDatJahr_str\": \"2011-09-30\", \"ZEIT_LANG\": \"2011-09-30T00:00:00\", \"BEG_LANG\": \"Teilzeitbesch\\u00e4ftigte\", \"BEG_CODE\": \"BEG1200\", \"sum_BES\": 158700.0}, {\"StichtagDatJahr_str\": \"2011-06-30\", \"ZEIT_LANG\": \"2011-06-30T00:00:00\", \"BEG_LANG\": \"Teilzeitbesch\\u00e4ftigte\", \"BEG_CODE\": \"BEG1200\", \"sum_BES\": 159100.0}, {\"StichtagDatJahr_str\": \"2011-03-31\", \"ZEIT_LANG\": \"2011-03-31T00:00:00\", \"BEG_LANG\": \"Teilzeitbesch\\u00e4ftigte\", \"BEG_CODE\": \"BEG1200\", \"sum_BES\": 158600.0}, {\"StichtagDatJahr_str\": \"2010-12-31\", \"ZEIT_LANG\": \"2010-12-31T00:00:00\", \"BEG_LANG\": \"Teilzeitbesch\\u00e4ftigte\", \"BEG_CODE\": \"BEG1200\", \"sum_BES\": 155400.0}, {\"StichtagDatJahr_str\": \"2010-09-30\", \"ZEIT_LANG\": \"2010-09-30T00:00:00\", \"BEG_LANG\": \"Teilzeitbesch\\u00e4ftigte\", \"BEG_CODE\": \"BEG1200\", \"sum_BES\": 156400.0}, {\"StichtagDatJahr_str\": \"2017-03-31\", \"ZEIT_LANG\": \"2017-03-31T00:00:00\", \"BEG_LANG\": \"Teilzeitbesch\\u00e4ftigte\", \"BEG_CODE\": \"BEG1200\", \"sum_BES\": 180000.0}, {\"StichtagDatJahr_str\": \"2017-09-30\", \"ZEIT_LANG\": \"2017-09-30T00:00:00\", \"BEG_LANG\": \"Teilzeitbesch\\u00e4ftigte\", \"BEG_CODE\": \"BEG1200\", \"sum_BES\": 184300.0}, {\"StichtagDatJahr_str\": \"2010-03-31\", \"ZEIT_LANG\": \"2010-03-31T00:00:00\", \"BEG_LANG\": \"Teilzeitbesch\\u00e4ftigte\", \"BEG_CODE\": \"BEG1200\", \"sum_BES\": 155200.0}, {\"StichtagDatJahr_str\": \"2017-12-31\", \"ZEIT_LANG\": \"2017-12-31T00:00:00\", \"BEG_LANG\": \"Teilzeitbesch\\u00e4ftigte\", \"BEG_CODE\": \"BEG1200\", \"sum_BES\": 187100.0}, {\"StichtagDatJahr_str\": \"2024-03-31\", \"ZEIT_LANG\": \"2024-03-31T00:00:00\", \"BEG_LANG\": \"Teilzeitbesch\\u00e4ftigte\", \"BEG_CODE\": \"BEG1200\", \"sum_BES\": 215900.0}, {\"StichtagDatJahr_str\": \"2023-12-31\", \"ZEIT_LANG\": \"2023-12-31T00:00:00\", \"BEG_LANG\": \"Teilzeitbesch\\u00e4ftigte\", \"BEG_CODE\": \"BEG1200\", \"sum_BES\": 221300.0}, {\"StichtagDatJahr_str\": \"2023-09-30\", \"ZEIT_LANG\": \"2023-09-30T00:00:00\", \"BEG_LANG\": \"Teilzeitbesch\\u00e4ftigte\", \"BEG_CODE\": \"BEG1200\", \"sum_BES\": 217800.0}, {\"StichtagDatJahr_str\": \"2023-06-30\", \"ZEIT_LANG\": \"2023-06-30T00:00:00\", \"BEG_LANG\": \"Teilzeitbesch\\u00e4ftigte\", \"BEG_CODE\": \"BEG1200\", \"sum_BES\": 219000.0}, {\"StichtagDatJahr_str\": \"2023-03-31\", \"ZEIT_LANG\": \"2023-03-31T00:00:00\", \"BEG_LANG\": \"Teilzeitbesch\\u00e4ftigte\", \"BEG_CODE\": \"BEG1200\", \"sum_BES\": 213600.0}, {\"StichtagDatJahr_str\": \"2022-12-31\", \"ZEIT_LANG\": \"2022-12-31T00:00:00\", \"BEG_LANG\": \"Teilzeitbesch\\u00e4ftigte\", \"BEG_CODE\": \"BEG1200\", \"sum_BES\": 217200.0}, {\"StichtagDatJahr_str\": \"2022-09-30\", \"ZEIT_LANG\": \"2022-09-30T00:00:00\", \"BEG_LANG\": \"Teilzeitbesch\\u00e4ftigte\", \"BEG_CODE\": \"BEG1200\", \"sum_BES\": 213600.0}, {\"StichtagDatJahr_str\": \"2022-06-30\", \"ZEIT_LANG\": \"2022-06-30T00:00:00\", \"BEG_LANG\": \"Teilzeitbesch\\u00e4ftigte\", \"BEG_CODE\": \"BEG1200\", \"sum_BES\": 210600.0}, {\"StichtagDatJahr_str\": \"2022-03-31\", \"ZEIT_LANG\": \"2022-03-31T00:00:00\", \"BEG_LANG\": \"Teilzeitbesch\\u00e4ftigte\", \"BEG_CODE\": \"BEG1200\", \"sum_BES\": 206300.0}, {\"StichtagDatJahr_str\": \"2021-12-31\", \"ZEIT_LANG\": \"2021-12-31T00:00:00\", \"BEG_LANG\": \"Teilzeitbesch\\u00e4ftigte\", \"BEG_CODE\": \"BEG1200\", \"sum_BES\": 208900.0}, {\"StichtagDatJahr_str\": \"2021-09-30\", \"ZEIT_LANG\": \"2021-09-30T00:00:00\", \"BEG_LANG\": \"Teilzeitbesch\\u00e4ftigte\", \"BEG_CODE\": \"BEG1200\", \"sum_BES\": 203700.0}, {\"StichtagDatJahr_str\": \"2021-06-30\", \"ZEIT_LANG\": \"2021-06-30T00:00:00\", \"BEG_LANG\": \"Teilzeitbesch\\u00e4ftigte\", \"BEG_CODE\": \"BEG1200\", \"sum_BES\": 201800.0}, {\"StichtagDatJahr_str\": \"2021-03-31\", \"ZEIT_LANG\": \"2021-03-31T00:00:00\", \"BEG_LANG\": \"Teilzeitbesch\\u00e4ftigte\", \"BEG_CODE\": \"BEG1200\", \"sum_BES\": 194800.0}, {\"StichtagDatJahr_str\": \"2020-12-31\", \"ZEIT_LANG\": \"2020-12-31T00:00:00\", \"BEG_LANG\": \"Teilzeitbesch\\u00e4ftigte\", \"BEG_CODE\": \"BEG1200\", \"sum_BES\": 200200.0}, {\"StichtagDatJahr_str\": \"2020-09-30\", \"ZEIT_LANG\": \"2020-09-30T00:00:00\", \"BEG_LANG\": \"Teilzeitbesch\\u00e4ftigte\", \"BEG_CODE\": \"BEG1200\", \"sum_BES\": 206300.0}, {\"StichtagDatJahr_str\": \"2020-06-30\", \"ZEIT_LANG\": \"2020-06-30T00:00:00\", \"BEG_LANG\": \"Teilzeitbesch\\u00e4ftigte\", \"BEG_CODE\": \"BEG1200\", \"sum_BES\": 195800.0}, {\"StichtagDatJahr_str\": \"2020-03-31\", \"ZEIT_LANG\": \"2020-03-31T00:00:00\", \"BEG_LANG\": \"Teilzeitbesch\\u00e4ftigte\", \"BEG_CODE\": \"BEG1200\", \"sum_BES\": 201700.0}, {\"StichtagDatJahr_str\": \"2019-12-31\", \"ZEIT_LANG\": \"2019-12-31T00:00:00\", \"BEG_LANG\": \"Teilzeitbesch\\u00e4ftigte\", \"BEG_CODE\": \"BEG1200\", \"sum_BES\": 204600.0}, {\"StichtagDatJahr_str\": \"2019-09-30\", \"ZEIT_LANG\": \"2019-09-30T00:00:00\", \"BEG_LANG\": \"Teilzeitbesch\\u00e4ftigte\", \"BEG_CODE\": \"BEG1200\", \"sum_BES\": 203600.0}, {\"StichtagDatJahr_str\": \"2019-06-30\", \"ZEIT_LANG\": \"2019-06-30T00:00:00\", \"BEG_LANG\": \"Teilzeitbesch\\u00e4ftigte\", \"BEG_CODE\": \"BEG1200\", \"sum_BES\": 200900.0}, {\"StichtagDatJahr_str\": \"2019-03-31\", \"ZEIT_LANG\": \"2019-03-31T00:00:00\", \"BEG_LANG\": \"Teilzeitbesch\\u00e4ftigte\", \"BEG_CODE\": \"BEG1200\", \"sum_BES\": 196100.0}, {\"StichtagDatJahr_str\": \"2018-12-31\", \"ZEIT_LANG\": \"2018-12-31T00:00:00\", \"BEG_LANG\": \"Teilzeitbesch\\u00e4ftigte\", \"BEG_CODE\": \"BEG1200\", \"sum_BES\": 195200.0}, {\"StichtagDatJahr_str\": \"2018-09-30\", \"ZEIT_LANG\": \"2018-09-30T00:00:00\", \"BEG_LANG\": \"Teilzeitbesch\\u00e4ftigte\", \"BEG_CODE\": \"BEG1200\", \"sum_BES\": 194100.0}, {\"StichtagDatJahr_str\": \"2018-06-30\", \"ZEIT_LANG\": \"2018-06-30T00:00:00\", \"BEG_LANG\": \"Teilzeitbesch\\u00e4ftigte\", \"BEG_CODE\": \"BEG1200\", \"sum_BES\": 191500.0}, {\"StichtagDatJahr_str\": \"2018-03-31\", \"ZEIT_LANG\": \"2018-03-31T00:00:00\", \"BEG_LANG\": \"Teilzeitbesch\\u00e4ftigte\", \"BEG_CODE\": \"BEG1200\", \"sum_BES\": 187500.0}, {\"StichtagDatJahr_str\": \"2010-06-30\", \"ZEIT_LANG\": \"2010-06-30T00:00:00\", \"BEG_LANG\": \"Teilzeitbesch\\u00e4ftigte\", \"BEG_CODE\": \"BEG1200\", \"sum_BES\": 155700.0}, {\"StichtagDatJahr_str\": \"2013-09-30\", \"ZEIT_LANG\": \"2013-09-30T00:00:00\", \"BEG_LANG\": \"Teilzeitbesch\\u00e4ftigte\", \"BEG_CODE\": \"BEG1200\", \"sum_BES\": 169400.0}, {\"StichtagDatJahr_str\": \"2008-03-31\", \"ZEIT_LANG\": \"2008-03-31T00:00:00\", \"BEG_LANG\": \"Teilzeitbesch\\u00e4ftigte\", \"BEG_CODE\": \"BEG1200\", \"sum_BES\": 148600.0}, {\"StichtagDatJahr_str\": \"2007-06-30\", \"ZEIT_LANG\": \"2007-06-30T00:00:00\", \"BEG_LANG\": \"Teilzeitbesch\\u00e4ftigte\", \"BEG_CODE\": \"BEG1200\", \"sum_BES\": 144600.0}, {\"StichtagDatJahr_str\": \"2004-03-31\", \"ZEIT_LANG\": \"2004-03-31T00:00:00\", \"BEG_LANG\": \"Teilzeitbesch\\u00e4ftigte\", \"BEG_CODE\": \"BEG1200\", \"sum_BES\": 129300.0}, {\"StichtagDatJahr_str\": \"2008-06-30\", \"ZEIT_LANG\": \"2008-06-30T00:00:00\", \"BEG_LANG\": \"Teilzeitbesch\\u00e4ftigte\", \"BEG_CODE\": \"BEG1200\", \"sum_BES\": 152700.0}, {\"StichtagDatJahr_str\": \"2004-06-30\", \"ZEIT_LANG\": \"2004-06-30T00:00:00\", \"BEG_LANG\": \"Teilzeitbesch\\u00e4ftigte\", \"BEG_CODE\": \"BEG1200\", \"sum_BES\": 128100.0}, {\"StichtagDatJahr_str\": \"2004-09-30\", \"ZEIT_LANG\": \"2004-09-30T00:00:00\", \"BEG_LANG\": \"Teilzeitbesch\\u00e4ftigte\", \"BEG_CODE\": \"BEG1200\", \"sum_BES\": 127900.0}, {\"StichtagDatJahr_str\": \"2007-12-31\", \"ZEIT_LANG\": \"2007-12-31T00:00:00\", \"BEG_LANG\": \"Teilzeitbesch\\u00e4ftigte\", \"BEG_CODE\": \"BEG1200\", \"sum_BES\": 146300.0}, {\"StichtagDatJahr_str\": \"2004-12-31\", \"ZEIT_LANG\": \"2004-12-31T00:00:00\", \"BEG_LANG\": \"Teilzeitbesch\\u00e4ftigte\", \"BEG_CODE\": \"BEG1200\", \"sum_BES\": 130400.0}, {\"StichtagDatJahr_str\": \"2007-09-30\", \"ZEIT_LANG\": \"2007-09-30T00:00:00\", \"BEG_LANG\": \"Teilzeitbesch\\u00e4ftigte\", \"BEG_CODE\": \"BEG1200\", \"sum_BES\": 143600.0}, {\"StichtagDatJahr_str\": \"2005-03-31\", \"ZEIT_LANG\": \"2005-03-31T00:00:00\", \"BEG_LANG\": \"Teilzeitbesch\\u00e4ftigte\", \"BEG_CODE\": \"BEG1200\", \"sum_BES\": 130600.0}, {\"StichtagDatJahr_str\": \"2003-12-31\", \"ZEIT_LANG\": \"2003-12-31T00:00:00\", \"BEG_LANG\": \"Teilzeitbesch\\u00e4ftigte\", \"BEG_CODE\": \"BEG1200\", \"sum_BES\": 125900.0}, {\"StichtagDatJahr_str\": \"2007-03-31\", \"ZEIT_LANG\": \"2007-03-31T00:00:00\", \"BEG_LANG\": \"Teilzeitbesch\\u00e4ftigte\", \"BEG_CODE\": \"BEG1200\", \"sum_BES\": 141500.0}, {\"StichtagDatJahr_str\": \"2005-06-30\", \"ZEIT_LANG\": \"2005-06-30T00:00:00\", \"BEG_LANG\": \"Teilzeitbesch\\u00e4ftigte\", \"BEG_CODE\": \"BEG1200\", \"sum_BES\": 131300.0}, {\"StichtagDatJahr_str\": \"2006-12-31\", \"ZEIT_LANG\": \"2006-12-31T00:00:00\", \"BEG_LANG\": \"Teilzeitbesch\\u00e4ftigte\", \"BEG_CODE\": \"BEG1200\", \"sum_BES\": 141000.0}, {\"StichtagDatJahr_str\": \"2005-09-30\", \"ZEIT_LANG\": \"2005-09-30T00:00:00\", \"BEG_LANG\": \"Teilzeitbesch\\u00e4ftigte\", \"BEG_CODE\": \"BEG1200\", \"sum_BES\": 133700.0}, {\"StichtagDatJahr_str\": \"2006-09-30\", \"ZEIT_LANG\": \"2006-09-30T00:00:00\", \"BEG_LANG\": \"Teilzeitbesch\\u00e4ftigte\", \"BEG_CODE\": \"BEG1200\", \"sum_BES\": 137600.0}, {\"StichtagDatJahr_str\": \"2006-06-30\", \"ZEIT_LANG\": \"2006-06-30T00:00:00\", \"BEG_LANG\": \"Teilzeitbesch\\u00e4ftigte\", \"BEG_CODE\": \"BEG1200\", \"sum_BES\": 133900.0}, {\"StichtagDatJahr_str\": \"2005-12-31\", \"ZEIT_LANG\": \"2005-12-31T00:00:00\", \"BEG_LANG\": \"Teilzeitbesch\\u00e4ftigte\", \"BEG_CODE\": \"BEG1200\", \"sum_BES\": 133000.0}, {\"StichtagDatJahr_str\": \"2008-09-30\", \"ZEIT_LANG\": \"2008-09-30T00:00:00\", \"BEG_LANG\": \"Teilzeitbesch\\u00e4ftigte\", \"BEG_CODE\": \"BEG1200\", \"sum_BES\": 153700.0}, {\"StichtagDatJahr_str\": \"2006-03-31\", \"ZEIT_LANG\": \"2006-03-31T00:00:00\", \"BEG_LANG\": \"Teilzeitbesch\\u00e4ftigte\", \"BEG_CODE\": \"BEG1200\", \"sum_BES\": 135600.0}, {\"StichtagDatJahr_str\": \"2009-03-31\", \"ZEIT_LANG\": \"2009-03-31T00:00:00\", \"BEG_LANG\": \"Teilzeitbesch\\u00e4ftigte\", \"BEG_CODE\": \"BEG1200\", \"sum_BES\": 154300.0}, {\"StichtagDatJahr_str\": \"2008-12-31\", \"ZEIT_LANG\": \"2008-12-31T00:00:00\", \"BEG_LANG\": \"Teilzeitbesch\\u00e4ftigte\", \"BEG_CODE\": \"BEG1200\", \"sum_BES\": 152000.0}, {\"StichtagDatJahr_str\": \"2009-12-31\", \"ZEIT_LANG\": \"2009-12-31T00:00:00\", \"BEG_LANG\": \"Teilzeitbesch\\u00e4ftigte\", \"BEG_CODE\": \"BEG1200\", \"sum_BES\": 153500.0}, {\"StichtagDatJahr_str\": \"1998-09-30\", \"ZEIT_LANG\": \"1998-09-30T00:00:00\", \"BEG_LANG\": \"Teilzeitbesch\\u00e4ftigte\", \"BEG_CODE\": \"BEG1200\", \"sum_BES\": 86767.0}, {\"StichtagDatJahr_str\": \"2003-06-30\", \"ZEIT_LANG\": \"2003-06-30T00:00:00\", \"BEG_LANG\": \"Teilzeitbesch\\u00e4ftigte\", \"BEG_CODE\": \"BEG1200\", \"sum_BES\": 128000.0}, {\"StichtagDatJahr_str\": \"2003-09-30\", \"ZEIT_LANG\": \"2003-09-30T00:00:00\", \"BEG_LANG\": \"Teilzeitbesch\\u00e4ftigte\", \"BEG_CODE\": \"BEG1200\", \"sum_BES\": 129500.0}, {\"StichtagDatJahr_str\": \"2009-06-30\", \"ZEIT_LANG\": \"2009-06-30T00:00:00\", \"BEG_LANG\": \"Teilzeitbesch\\u00e4ftigte\", \"BEG_CODE\": \"BEG1200\", \"sum_BES\": 152800.0}, {\"StichtagDatJahr_str\": \"2009-09-30\", \"ZEIT_LANG\": \"2009-09-30T00:00:00\", \"BEG_LANG\": \"Teilzeitbesch\\u00e4ftigte\", \"BEG_CODE\": \"BEG1200\", \"sum_BES\": 154700.0}, {\"StichtagDatJahr_str\": \"2022-06-30\", \"ZEIT_LANG\": \"2022-06-30T00:00:00\", \"BEG_LANG\": \"Vollzeitbesch\\u00e4ftigte\", \"BEG_CODE\": \"BEG1100\", \"sum_BES\": 295200.0}, {\"StichtagDatJahr_str\": \"2019-12-31\", \"ZEIT_LANG\": \"2019-12-31T00:00:00\", \"BEG_LANG\": \"Vollzeitbesch\\u00e4ftigte\", \"BEG_CODE\": \"BEG1100\", \"sum_BES\": 282900.0}, {\"StichtagDatJahr_str\": \"2005-03-31\", \"ZEIT_LANG\": \"2005-03-31T00:00:00\", \"BEG_LANG\": \"Vollzeitbesch\\u00e4ftigte\", \"BEG_CODE\": \"BEG1100\", \"sum_BES\": 242000.0}, {\"StichtagDatJahr_str\": \"2019-09-30\", \"ZEIT_LANG\": \"2019-09-30T00:00:00\", \"BEG_LANG\": \"Vollzeitbesch\\u00e4ftigte\", \"BEG_CODE\": \"BEG1100\", \"sum_BES\": 283000.0}, {\"StichtagDatJahr_str\": \"2023-09-30\", \"ZEIT_LANG\": \"2023-09-30T00:00:00\", \"BEG_LANG\": \"Vollzeitbesch\\u00e4ftigte\", \"BEG_CODE\": \"BEG1100\", \"sum_BES\": 302200.0}, {\"StichtagDatJahr_str\": \"2019-06-30\", \"ZEIT_LANG\": \"2019-06-30T00:00:00\", \"BEG_LANG\": \"Vollzeitbesch\\u00e4ftigte\", \"BEG_CODE\": \"BEG1100\", \"sum_BES\": 282800.0}, {\"StichtagDatJahr_str\": \"2019-03-31\", \"ZEIT_LANG\": \"2019-03-31T00:00:00\", \"BEG_LANG\": \"Vollzeitbesch\\u00e4ftigte\", \"BEG_CODE\": \"BEG1100\", \"sum_BES\": 283100.0}, {\"StichtagDatJahr_str\": \"2005-06-30\", \"ZEIT_LANG\": \"2005-06-30T00:00:00\", \"BEG_LANG\": \"Vollzeitbesch\\u00e4ftigte\", \"BEG_CODE\": \"BEG1100\", \"sum_BES\": 240800.0}, {\"StichtagDatJahr_str\": \"1998-09-30\", \"ZEIT_LANG\": \"1998-09-30T00:00:00\", \"BEG_LANG\": \"Vollzeitbesch\\u00e4ftigte\", \"BEG_CODE\": \"BEG1100\", \"sum_BES\": 228520.0}, {\"StichtagDatJahr_str\": \"2023-12-31\", \"ZEIT_LANG\": \"2023-12-31T00:00:00\", \"BEG_LANG\": \"Vollzeitbesch\\u00e4ftigte\", \"BEG_CODE\": \"BEG1100\", \"sum_BES\": 304200.0}, {\"StichtagDatJahr_str\": \"2018-12-31\", \"ZEIT_LANG\": \"2018-12-31T00:00:00\", \"BEG_LANG\": \"Vollzeitbesch\\u00e4ftigte\", \"BEG_CODE\": \"BEG1100\", \"sum_BES\": 283000.0}, {\"StichtagDatJahr_str\": \"2005-09-30\", \"ZEIT_LANG\": \"2005-09-30T00:00:00\", \"BEG_LANG\": \"Vollzeitbesch\\u00e4ftigte\", \"BEG_CODE\": \"BEG1100\", \"sum_BES\": 247100.0}, {\"StichtagDatJahr_str\": \"2018-09-30\", \"ZEIT_LANG\": \"2018-09-30T00:00:00\", \"BEG_LANG\": \"Vollzeitbesch\\u00e4ftigte\", \"BEG_CODE\": \"BEG1100\", \"sum_BES\": 283700.0}, {\"StichtagDatJahr_str\": \"2018-06-30\", \"ZEIT_LANG\": \"2018-06-30T00:00:00\", \"BEG_LANG\": \"Vollzeitbesch\\u00e4ftigte\", \"BEG_CODE\": \"BEG1100\", \"sum_BES\": 281300.0}, {\"StichtagDatJahr_str\": \"2005-12-31\", \"ZEIT_LANG\": \"2005-12-31T00:00:00\", \"BEG_LANG\": \"Vollzeitbesch\\u00e4ftigte\", \"BEG_CODE\": \"BEG1100\", \"sum_BES\": 244200.0}, {\"StichtagDatJahr_str\": \"2023-06-30\", \"ZEIT_LANG\": \"2023-06-30T00:00:00\", \"BEG_LANG\": \"Vollzeitbesch\\u00e4ftigte\", \"BEG_CODE\": \"BEG1100\", \"sum_BES\": 303900.0}, {\"StichtagDatJahr_str\": \"2004-12-31\", \"ZEIT_LANG\": \"2004-12-31T00:00:00\", \"BEG_LANG\": \"Vollzeitbesch\\u00e4ftigte\", \"BEG_CODE\": \"BEG1100\", \"sum_BES\": 244400.0}, {\"StichtagDatJahr_str\": \"2020-03-31\", \"ZEIT_LANG\": \"2020-03-31T00:00:00\", \"BEG_LANG\": \"Vollzeitbesch\\u00e4ftigte\", \"BEG_CODE\": \"BEG1100\", \"sum_BES\": 283500.0}, {\"StichtagDatJahr_str\": \"2003-12-31\", \"ZEIT_LANG\": \"2003-12-31T00:00:00\", \"BEG_LANG\": \"Vollzeitbesch\\u00e4ftigte\", \"BEG_CODE\": \"BEG1100\", \"sum_BES\": 249900.0}, {\"StichtagDatJahr_str\": \"2022-03-31\", \"ZEIT_LANG\": \"2022-03-31T00:00:00\", \"BEG_LANG\": \"Vollzeitbesch\\u00e4ftigte\", \"BEG_CODE\": \"BEG1100\", \"sum_BES\": 292900.0}, {\"StichtagDatJahr_str\": \"2022-09-30\", \"ZEIT_LANG\": \"2022-09-30T00:00:00\", \"BEG_LANG\": \"Vollzeitbesch\\u00e4ftigte\", \"BEG_CODE\": \"BEG1100\", \"sum_BES\": 299500.0}, {\"StichtagDatJahr_str\": \"2021-12-31\", \"ZEIT_LANG\": \"2021-12-31T00:00:00\", \"BEG_LANG\": \"Vollzeitbesch\\u00e4ftigte\", \"BEG_CODE\": \"BEG1100\", \"sum_BES\": 292600.0}, {\"StichtagDatJahr_str\": \"2003-09-30\", \"ZEIT_LANG\": \"2003-09-30T00:00:00\", \"BEG_LANG\": \"Vollzeitbesch\\u00e4ftigte\", \"BEG_CODE\": \"BEG1100\", \"sum_BES\": 251300.0}, {\"StichtagDatJahr_str\": \"2004-03-31\", \"ZEIT_LANG\": \"2004-03-31T00:00:00\", \"BEG_LANG\": \"Vollzeitbesch\\u00e4ftigte\", \"BEG_CODE\": \"BEG1100\", \"sum_BES\": 249000.0}, {\"StichtagDatJahr_str\": \"2021-09-30\", \"ZEIT_LANG\": \"2021-09-30T00:00:00\", \"BEG_LANG\": \"Vollzeitbesch\\u00e4ftigte\", \"BEG_CODE\": \"BEG1100\", \"sum_BES\": 291100.0}, {\"StichtagDatJahr_str\": \"2022-12-31\", \"ZEIT_LANG\": \"2022-12-31T00:00:00\", \"BEG_LANG\": \"Vollzeitbesch\\u00e4ftigte\", \"BEG_CODE\": \"BEG1100\", \"sum_BES\": 298900.0}, {\"StichtagDatJahr_str\": \"2021-06-30\", \"ZEIT_LANG\": \"2021-06-30T00:00:00\", \"BEG_LANG\": \"Vollzeitbesch\\u00e4ftigte\", \"BEG_CODE\": \"BEG1100\", \"sum_BES\": 286100.0}, {\"StichtagDatJahr_str\": \"2004-06-30\", \"ZEIT_LANG\": \"2004-06-30T00:00:00\", \"BEG_LANG\": \"Vollzeitbesch\\u00e4ftigte\", \"BEG_CODE\": \"BEG1100\", \"sum_BES\": 247300.0}, {\"StichtagDatJahr_str\": \"2018-03-31\", \"ZEIT_LANG\": \"2018-03-31T00:00:00\", \"BEG_LANG\": \"Vollzeitbesch\\u00e4ftigte\", \"BEG_CODE\": \"BEG1100\", \"sum_BES\": 279700.0}, {\"StichtagDatJahr_str\": \"2021-03-31\", \"ZEIT_LANG\": \"2021-03-31T00:00:00\", \"BEG_LANG\": \"Vollzeitbesch\\u00e4ftigte\", \"BEG_CODE\": \"BEG1100\", \"sum_BES\": 285400.0}, {\"StichtagDatJahr_str\": \"2020-12-31\", \"ZEIT_LANG\": \"2020-12-31T00:00:00\", \"BEG_LANG\": \"Vollzeitbesch\\u00e4ftigte\", \"BEG_CODE\": \"BEG1100\", \"sum_BES\": 286000.0}, {\"StichtagDatJahr_str\": \"2004-09-30\", \"ZEIT_LANG\": \"2004-09-30T00:00:00\", \"BEG_LANG\": \"Vollzeitbesch\\u00e4ftigte\", \"BEG_CODE\": \"BEG1100\", \"sum_BES\": 248600.0}, {\"StichtagDatJahr_str\": \"2020-09-30\", \"ZEIT_LANG\": \"2020-09-30T00:00:00\", \"BEG_LANG\": \"Vollzeitbesch\\u00e4ftigte\", \"BEG_CODE\": \"BEG1100\", \"sum_BES\": 284200.0}, {\"StichtagDatJahr_str\": \"2023-03-31\", \"ZEIT_LANG\": \"2023-03-31T00:00:00\", \"BEG_LANG\": \"Vollzeitbesch\\u00e4ftigte\", \"BEG_CODE\": \"BEG1100\", \"sum_BES\": 301500.0}, {\"StichtagDatJahr_str\": \"2003-06-30\", \"ZEIT_LANG\": \"2003-06-30T00:00:00\", \"BEG_LANG\": \"Vollzeitbesch\\u00e4ftigte\", \"BEG_CODE\": \"BEG1100\", \"sum_BES\": 251000.0}, {\"StichtagDatJahr_str\": \"2020-06-30\", \"ZEIT_LANG\": \"2020-06-30T00:00:00\", \"BEG_LANG\": \"Vollzeitbesch\\u00e4ftigte\", \"BEG_CODE\": \"BEG1100\", \"sum_BES\": 285700.0}, {\"StichtagDatJahr_str\": \"2009-12-31\", \"ZEIT_LANG\": \"2009-12-31T00:00:00\", \"BEG_LANG\": \"Vollzeitbesch\\u00e4ftigte\", \"BEG_CODE\": \"BEG1100\", \"sum_BES\": 264300.0}, {\"StichtagDatJahr_str\": \"2017-03-31\", \"ZEIT_LANG\": \"2017-03-31T00:00:00\", \"BEG_LANG\": \"Vollzeitbesch\\u00e4ftigte\", \"BEG_CODE\": \"BEG1100\", \"sum_BES\": 275700.0}, {\"StichtagDatJahr_str\": \"2017-12-31\", \"ZEIT_LANG\": \"2017-12-31T00:00:00\", \"BEG_LANG\": \"Vollzeitbesch\\u00e4ftigte\", \"BEG_CODE\": \"BEG1100\", \"sum_BES\": 279700.0}, {\"StichtagDatJahr_str\": \"2006-03-31\", \"ZEIT_LANG\": \"2006-03-31T00:00:00\", \"BEG_LANG\": \"Vollzeitbesch\\u00e4ftigte\", \"BEG_CODE\": \"BEG1100\", \"sum_BES\": 244000.0}, {\"StichtagDatJahr_str\": \"2013-09-30\", \"ZEIT_LANG\": \"2013-09-30T00:00:00\", \"BEG_LANG\": \"Vollzeitbesch\\u00e4ftigte\", \"BEG_CODE\": \"BEG1100\", \"sum_BES\": 275600.0}, {\"StichtagDatJahr_str\": \"1985-09-30\", \"ZEIT_LANG\": \"1985-09-30T00:00:00\", \"BEG_LANG\": \"Vollzeitbesch\\u00e4ftigte\", \"BEG_CODE\": \"BEG1100\", \"sum_BES\": 263345.0}, {\"StichtagDatJahr_str\": \"2013-06-30\", \"ZEIT_LANG\": \"2013-06-30T00:00:00\", \"BEG_LANG\": \"Vollzeitbesch\\u00e4ftigte\", \"BEG_CODE\": \"BEG1100\", \"sum_BES\": 274200.0}, {\"StichtagDatJahr_str\": \"2013-03-31\", \"ZEIT_LANG\": \"2013-03-31T00:00:00\", \"BEG_LANG\": \"Vollzeitbesch\\u00e4ftigte\", \"BEG_CODE\": \"BEG1100\", \"sum_BES\": 272500.0}, {\"StichtagDatJahr_str\": \"2008-06-30\", \"ZEIT_LANG\": \"2008-06-30T00:00:00\", \"BEG_LANG\": \"Vollzeitbesch\\u00e4ftigte\", \"BEG_CODE\": \"BEG1100\", \"sum_BES\": 265600.0}, {\"StichtagDatJahr_str\": \"2012-12-31\", \"ZEIT_LANG\": \"2012-12-31T00:00:00\", \"BEG_LANG\": \"Vollzeitbesch\\u00e4ftigte\", \"BEG_CODE\": \"BEG1100\", \"sum_BES\": 273000.0}, {\"StichtagDatJahr_str\": \"2012-09-30\", \"ZEIT_LANG\": \"2012-09-30T00:00:00\", \"BEG_LANG\": \"Vollzeitbesch\\u00e4ftigte\", \"BEG_CODE\": \"BEG1100\", \"sum_BES\": 274900.0}, {\"StichtagDatJahr_str\": \"2008-09-30\", \"ZEIT_LANG\": \"2008-09-30T00:00:00\", \"BEG_LANG\": \"Vollzeitbesch\\u00e4ftigte\", \"BEG_CODE\": \"BEG1100\", \"sum_BES\": 268400.0}, {\"StichtagDatJahr_str\": \"2012-06-30\", \"ZEIT_LANG\": \"2012-06-30T00:00:00\", \"BEG_LANG\": \"Vollzeitbesch\\u00e4ftigte\", \"BEG_CODE\": \"BEG1100\", \"sum_BES\": 270700.0}, {\"StichtagDatJahr_str\": \"2012-03-31\", \"ZEIT_LANG\": \"2012-03-31T00:00:00\", \"BEG_LANG\": \"Vollzeitbesch\\u00e4ftigte\", \"BEG_CODE\": \"BEG1100\", \"sum_BES\": 269700.0}, {\"StichtagDatJahr_str\": \"2008-12-31\", \"ZEIT_LANG\": \"2008-12-31T00:00:00\", \"BEG_LANG\": \"Vollzeitbesch\\u00e4ftigte\", \"BEG_CODE\": \"BEG1100\", \"sum_BES\": 265600.0}, {\"StichtagDatJahr_str\": \"2011-12-31\", \"ZEIT_LANG\": \"2011-12-31T00:00:00\", \"BEG_LANG\": \"Vollzeitbesch\\u00e4ftigte\", \"BEG_CODE\": \"BEG1100\", \"sum_BES\": 268500.0}, {\"StichtagDatJahr_str\": \"2011-09-30\", \"ZEIT_LANG\": \"2011-09-30T00:00:00\", \"BEG_LANG\": \"Vollzeitbesch\\u00e4ftigte\", \"BEG_CODE\": \"BEG1100\", \"sum_BES\": 272200.0}, {\"StichtagDatJahr_str\": \"2009-03-31\", \"ZEIT_LANG\": \"2009-03-31T00:00:00\", \"BEG_LANG\": \"Vollzeitbesch\\u00e4ftigte\", \"BEG_CODE\": \"BEG1100\", \"sum_BES\": 264900.0}, {\"StichtagDatJahr_str\": \"2011-06-30\", \"ZEIT_LANG\": \"2011-06-30T00:00:00\", \"BEG_LANG\": \"Vollzeitbesch\\u00e4ftigte\", \"BEG_CODE\": \"BEG1100\", \"sum_BES\": 269000.0}, {\"StichtagDatJahr_str\": \"2011-03-31\", \"ZEIT_LANG\": \"2011-03-31T00:00:00\", \"BEG_LANG\": \"Vollzeitbesch\\u00e4ftigte\", \"BEG_CODE\": \"BEG1100\", \"sum_BES\": 265000.0}, {\"StichtagDatJahr_str\": \"2009-06-30\", \"ZEIT_LANG\": \"2009-06-30T00:00:00\", \"BEG_LANG\": \"Vollzeitbesch\\u00e4ftigte\", \"BEG_CODE\": \"BEG1100\", \"sum_BES\": 264800.0}, {\"StichtagDatJahr_str\": \"2010-12-31\", \"ZEIT_LANG\": \"2010-12-31T00:00:00\", \"BEG_LANG\": \"Vollzeitbesch\\u00e4ftigte\", \"BEG_CODE\": \"BEG1100\", \"sum_BES\": 268200.0}, {\"StichtagDatJahr_str\": \"2010-09-30\", \"ZEIT_LANG\": \"2010-09-30T00:00:00\", \"BEG_LANG\": \"Vollzeitbesch\\u00e4ftigte\", \"BEG_CODE\": \"BEG1100\", \"sum_BES\": 268300.0}, {\"StichtagDatJahr_str\": \"2009-09-30\", \"ZEIT_LANG\": \"2009-09-30T00:00:00\", \"BEG_LANG\": \"Vollzeitbesch\\u00e4ftigte\", \"BEG_CODE\": \"BEG1100\", \"sum_BES\": 266800.0}, {\"StichtagDatJahr_str\": \"2010-06-30\", \"ZEIT_LANG\": \"2010-06-30T00:00:00\", \"BEG_LANG\": \"Vollzeitbesch\\u00e4ftigte\", \"BEG_CODE\": \"BEG1100\", \"sum_BES\": 264100.0}, {\"StichtagDatJahr_str\": \"2008-03-31\", \"ZEIT_LANG\": \"2008-03-31T00:00:00\", \"BEG_LANG\": \"Vollzeitbesch\\u00e4ftigte\", \"BEG_CODE\": \"BEG1100\", \"sum_BES\": 262100.0}, {\"StichtagDatJahr_str\": \"2013-12-31\", \"ZEIT_LANG\": \"2013-12-31T00:00:00\", \"BEG_LANG\": \"Vollzeitbesch\\u00e4ftigte\", \"BEG_CODE\": \"BEG1100\", \"sum_BES\": 272400.0}, {\"StichtagDatJahr_str\": \"2014-03-31\", \"ZEIT_LANG\": \"2014-03-31T00:00:00\", \"BEG_LANG\": \"Vollzeitbesch\\u00e4ftigte\", \"BEG_CODE\": \"BEG1100\", \"sum_BES\": 271500.0}, {\"StichtagDatJahr_str\": \"2016-03-31\", \"ZEIT_LANG\": \"2016-03-31T00:00:00\", \"BEG_LANG\": \"Vollzeitbesch\\u00e4ftigte\", \"BEG_CODE\": \"BEG1100\", \"sum_BES\": 275200.0}, {\"StichtagDatJahr_str\": \"2017-09-30\", \"ZEIT_LANG\": \"2017-09-30T00:00:00\", \"BEG_LANG\": \"Vollzeitbesch\\u00e4ftigte\", \"BEG_CODE\": \"BEG1100\", \"sum_BES\": 281000.0}, {\"StichtagDatJahr_str\": \"2017-06-30\", \"ZEIT_LANG\": \"2017-06-30T00:00:00\", \"BEG_LANG\": \"Vollzeitbesch\\u00e4ftigte\", \"BEG_CODE\": \"BEG1100\", \"sum_BES\": 279900.0}, {\"StichtagDatJahr_str\": \"2006-06-30\", \"ZEIT_LANG\": \"2006-06-30T00:00:00\", \"BEG_LANG\": \"Vollzeitbesch\\u00e4ftigte\", \"BEG_CODE\": \"BEG1100\", \"sum_BES\": 246300.0}, {\"StichtagDatJahr_str\": \"2010-03-31\", \"ZEIT_LANG\": \"2010-03-31T00:00:00\", \"BEG_LANG\": \"Vollzeitbesch\\u00e4ftigte\", \"BEG_CODE\": \"BEG1100\", \"sum_BES\": 262100.0}, {\"StichtagDatJahr_str\": \"2016-12-31\", \"ZEIT_LANG\": \"2016-12-31T00:00:00\", \"BEG_LANG\": \"Vollzeitbesch\\u00e4ftigte\", \"BEG_CODE\": \"BEG1100\", \"sum_BES\": 276400.0}, {\"StichtagDatJahr_str\": \"2006-09-30\", \"ZEIT_LANG\": \"2006-09-30T00:00:00\", \"BEG_LANG\": \"Vollzeitbesch\\u00e4ftigte\", \"BEG_CODE\": \"BEG1100\", \"sum_BES\": 249900.0}, {\"StichtagDatJahr_str\": \"2016-09-30\", \"ZEIT_LANG\": \"2016-09-30T00:00:00\", \"BEG_LANG\": \"Vollzeitbesch\\u00e4ftigte\", \"BEG_CODE\": \"BEG1100\", \"sum_BES\": 277200.0}, {\"StichtagDatJahr_str\": \"2016-06-30\", \"ZEIT_LANG\": \"2016-06-30T00:00:00\", \"BEG_LANG\": \"Vollzeitbesch\\u00e4ftigte\", \"BEG_CODE\": \"BEG1100\", \"sum_BES\": 274200.0}, {\"StichtagDatJahr_str\": \"2006-12-31\", \"ZEIT_LANG\": \"2006-12-31T00:00:00\", \"BEG_LANG\": \"Vollzeitbesch\\u00e4ftigte\", \"BEG_CODE\": \"BEG1100\", \"sum_BES\": 248600.0}, {\"StichtagDatJahr_str\": \"2015-12-31\", \"ZEIT_LANG\": \"2015-12-31T00:00:00\", \"BEG_LANG\": \"Vollzeitbesch\\u00e4ftigte\", \"BEG_CODE\": \"BEG1100\", \"sum_BES\": 272900.0}, {\"StichtagDatJahr_str\": \"2007-12-31\", \"ZEIT_LANG\": \"2007-12-31T00:00:00\", \"BEG_LANG\": \"Vollzeitbesch\\u00e4ftigte\", \"BEG_CODE\": \"BEG1100\", \"sum_BES\": 259700.0}, {\"StichtagDatJahr_str\": \"2007-03-31\", \"ZEIT_LANG\": \"2007-03-31T00:00:00\", \"BEG_LANG\": \"Vollzeitbesch\\u00e4ftigte\", \"BEG_CODE\": \"BEG1100\", \"sum_BES\": 250200.0}, {\"StichtagDatJahr_str\": \"2015-09-30\", \"ZEIT_LANG\": \"2015-09-30T00:00:00\", \"BEG_LANG\": \"Vollzeitbesch\\u00e4ftigte\", \"BEG_CODE\": \"BEG1100\", \"sum_BES\": 274800.0}, {\"StichtagDatJahr_str\": \"2015-06-30\", \"ZEIT_LANG\": \"2015-06-30T00:00:00\", \"BEG_LANG\": \"Vollzeitbesch\\u00e4ftigte\", \"BEG_CODE\": \"BEG1100\", \"sum_BES\": 273200.0}, {\"StichtagDatJahr_str\": \"2007-06-30\", \"ZEIT_LANG\": \"2007-06-30T00:00:00\", \"BEG_LANG\": \"Vollzeitbesch\\u00e4ftigte\", \"BEG_CODE\": \"BEG1100\", \"sum_BES\": 254100.0}, {\"StichtagDatJahr_str\": \"2015-03-31\", \"ZEIT_LANG\": \"2015-03-31T00:00:00\", \"BEG_LANG\": \"Vollzeitbesch\\u00e4ftigte\", \"BEG_CODE\": \"BEG1100\", \"sum_BES\": 277500.0}, {\"StichtagDatJahr_str\": \"2014-12-31\", \"ZEIT_LANG\": \"2014-12-31T00:00:00\", \"BEG_LANG\": \"Vollzeitbesch\\u00e4ftigte\", \"BEG_CODE\": \"BEG1100\", \"sum_BES\": 277000.0}, {\"StichtagDatJahr_str\": \"2007-09-30\", \"ZEIT_LANG\": \"2007-09-30T00:00:00\", \"BEG_LANG\": \"Vollzeitbesch\\u00e4ftigte\", \"BEG_CODE\": \"BEG1100\", \"sum_BES\": 259100.0}, {\"StichtagDatJahr_str\": \"2014-09-30\", \"ZEIT_LANG\": \"2014-09-30T00:00:00\", \"BEG_LANG\": \"Vollzeitbesch\\u00e4ftigte\", \"BEG_CODE\": \"BEG1100\", \"sum_BES\": 277500.0}, {\"StichtagDatJahr_str\": \"2014-06-30\", \"ZEIT_LANG\": \"2014-06-30T00:00:00\", \"BEG_LANG\": \"Vollzeitbesch\\u00e4ftigte\", \"BEG_CODE\": \"BEG1100\", \"sum_BES\": 275000.0}, {\"StichtagDatJahr_str\": \"2024-03-31\", \"ZEIT_LANG\": \"2024-03-31T00:00:00\", \"BEG_LANG\": \"Vollzeitbesch\\u00e4ftigte\", \"BEG_CODE\": \"BEG1100\", \"sum_BES\": 304800.0}]}}, {\"mode\": \"vega-lite\"});\n",
       "</script>"
      ],
      "text/plain": [
       "alt.LayerChart(...)"
      ]
     },
     "execution_count": 38,
     "metadata": {},
     "output_type": "execute_result"
    }
   ],
   "source": [
    "grafik2 = mypy_dv.plot_altair_multiline_highlight(\n",
    "    data = myAgg2.reset_index()\n",
    "    , x = 'ZEIT_LANG:T'\n",
    "    , y = 'sum_BES:Q'\n",
    "    , x_beschriftung = 'Jahr'\n",
    "    , y_beschriftung = 'Anzahl Beschäftigte'\n",
    "    , warning_status  = \"ignore\"\n",
    "    , category='BEG_LANG:N'\n",
    "    , category_beschriftung='BG:'\n",
    "    , myTitle = \"Entwicklung Beschäftigten nach Beschäftigungsgrad seit, \"+str(data2betested.index.year.min())\n",
    ")\n",
    "grafik2"
   ]
  },
  {
   "cell_type": "code",
   "execution_count": 39,
   "metadata": {},
   "outputs": [
    {
     "name": "stdout",
     "output_type": "stream",
     "text": [
      "grafiken_testing/wir400od4004_alt2_bg_zeit_2024-06-18.png\n"
     ]
    }
   ],
   "source": [
    "grafic_name = package_name+\"_alt2_bg_zeit\"+date_today+\".png\"\n",
    "print('grafiken_testing/'+grafic_name)\n",
    "\n",
    "grafik2.save('grafiken_testing/'+grafic_name)"
   ]
  },
  {
   "cell_type": "markdown",
   "metadata": {
    "tags": []
   },
   "source": [
    "#### Barcharts mit Seaborn"
   ]
  },
  {
   "cell_type": "code",
   "execution_count": 40,
   "metadata": {},
   "outputs": [],
   "source": [
    "#Stile for the following sns graphs\n",
    "sns.set_theme(style=\"whitegrid\")"
   ]
  },
  {
   "cell_type": "code",
   "execution_count": 41,
   "metadata": {},
   "outputs": [
    {
     "data": {
      "text/plain": [
       "<seaborn.axisgrid.FacetGrid at 0x2126d46e690>"
      ]
     },
     "execution_count": 41,
     "metadata": {},
     "output_type": "execute_result"
    },
    {
     "data": {
      "image/png": "[encoded data removed]",
      "text/plain": [
       "<Figure size 1800x600 with 1 Axes>"
      ]
     },
     "metadata": {},
     "output_type": "display_data"
    }
   ],
   "source": [
    "#sns.color_palette(\"flare\", as_cmap=True)\n",
    "myHist = sns.catplot(x=\"ZEIT_LANG\"\n",
    "            , y=\"BES\"\n",
    "            , hue=\"RAUM_LANG\"\n",
    "            , kind=\"violin\" #boxen, violin, --> wenn die aggregation nicht genau den werten in der grafik entspricht\n",
    "            , palette=\"tab20\" #, color=\"green\" 'tab10', 'tab10_r', 'tab20', 'tab20_r', 'tab20b', 'tab20b_r', 'tab20c', 'tab20c_r',\n",
    "            , height=6\n",
    "            , aspect=3\n",
    "            , edgecolor= None\n",
    "            , order=None , legend_out=True, legend=False\n",
    "            ,data=data2betested.loc[data_min_date:data_max_date]\\\n",
    "                     .reset_index().sort_values('RAUM_LANG', ascending = True)\n",
    "           )\n",
    "myHist.set_xlabels('Jahr', fontsize=11) # not set_label\n",
    "myHist.set_ylabels('Anzahl Beschäftigte', fontsize=11)\n",
    "\n",
    "myHist\n"
   ]
  },
  {
   "cell_type": "code",
   "execution_count": 42,
   "metadata": {},
   "outputs": [
    {
     "name": "stdout",
     "output_type": "stream",
     "text": [
      "grafiken_testing/wir400od4004_violin_bg_zeit_2024-06-18.png\n"
     ]
    }
   ],
   "source": [
    "grafic_name = package_name+\"_violin_bg_zeit\"+date_today+\".png\"\n",
    "\n",
    "print('grafiken_testing/'+grafic_name)\n",
    "\n",
    "\n",
    "myHist.savefig('grafiken_testing/'+grafic_name)"
   ]
  },
  {
   "cell_type": "markdown",
   "metadata": {},
   "source": [
    "#### Faced Grids"
   ]
  },
  {
   "cell_type": "code",
   "execution_count": 43,
   "metadata": {},
   "outputs": [
    {
     "data": {
      "text/plain": [
       "Index(['ZEIT_LANG', 'ZEIT_CODE', 'RAUM_LANG', 'RAUM_CODE', 'BEG_LANG', 'BEG_CODE', 'BES',\n",
       "       'StichtagDatJahr_str', 'Jahr', 'RAUM_my_sort'],\n",
       "      dtype='object')"
      ]
     },
     "execution_count": 43,
     "metadata": {},
     "output_type": "execute_result"
    }
   ],
   "source": [
    "data2betested.columns"
   ]
  },
  {
   "cell_type": "code",
   "execution_count": 44,
   "metadata": {},
   "outputs": [
    {
     "data": {
      "text/html": [
       "<div>\n",
       "<style scoped>\n",
       "    .dataframe tbody tr th:only-of-type {\n",
       "        vertical-align: middle;\n",
       "    }\n",
       "\n",
       "    .dataframe tbody tr th {\n",
       "        vertical-align: top;\n",
       "    }\n",
       "\n",
       "    .dataframe thead th {\n",
       "        text-align: right;\n",
       "    }\n",
       "</style>\n",
       "<table border=\"1\" class=\"dataframe\">\n",
       "  <thead>\n",
       "    <tr style=\"text-align: right;\">\n",
       "      <th></th>\n",
       "      <th>StichtagDatJahr</th>\n",
       "      <th>ZEIT_LANG</th>\n",
       "      <th>ZEIT_CODE</th>\n",
       "      <th>RAUM_LANG</th>\n",
       "      <th>RAUM_CODE</th>\n",
       "      <th>BEG_LANG</th>\n",
       "      <th>BEG_CODE</th>\n",
       "      <th>BES</th>\n",
       "      <th>StichtagDatJahr_str</th>\n",
       "      <th>Jahr</th>\n",
       "      <th>RAUM_my_sort</th>\n",
       "    </tr>\n",
       "  </thead>\n",
       "  <tbody>\n",
       "    <tr>\n",
       "      <th>0</th>\n",
       "      <td>1985-09-30</td>\n",
       "      <td>1985-09-30</td>\n",
       "      <td>Z30091985</td>\n",
       "      <td>Stadt Zürich (ab 1934)</td>\n",
       "      <td>R30000</td>\n",
       "      <td>Teilzeitbeschäftigte</td>\n",
       "      <td>BEG1200</td>\n",
       "      <td>71512</td>\n",
       "      <td>1985-09-30</td>\n",
       "      <td>1985</td>\n",
       "      <td>0</td>\n",
       "    </tr>\n",
       "    <tr>\n",
       "      <th>110</th>\n",
       "      <td>2016-09-30</td>\n",
       "      <td>2016-09-30</td>\n",
       "      <td>Z30092016</td>\n",
       "      <td>Stadt Zürich (ab 1934)</td>\n",
       "      <td>R30000</td>\n",
       "      <td>Vollzeitbeschäftigte</td>\n",
       "      <td>BEG1100</td>\n",
       "      <td>277200</td>\n",
       "      <td>2016-09-30</td>\n",
       "      <td>2016</td>\n",
       "      <td>0</td>\n",
       "    </tr>\n",
       "  </tbody>\n",
       "</table>\n",
       "</div>"
      ],
      "text/plain": [
       "    StichtagDatJahr  ZEIT_LANG  ZEIT_CODE               RAUM_LANG RAUM_CODE              BEG_LANG  \\\n",
       "0        1985-09-30 1985-09-30  Z30091985  Stadt Zürich (ab 1934)    R30000  Teilzeitbeschäftigte   \n",
       "110      2016-09-30 2016-09-30  Z30092016  Stadt Zürich (ab 1934)    R30000  Vollzeitbeschäftigte   \n",
       "\n",
       "    BEG_CODE    BES StichtagDatJahr_str  Jahr  RAUM_my_sort  \n",
       "0    BEG1200  71512          1985-09-30  1985             0  \n",
       "110  BEG1100 277200          2016-09-30  2016             0  "
      ]
     },
     "execution_count": 44,
     "metadata": {},
     "output_type": "execute_result"
    }
   ],
   "source": [
    "myFG =data2betested[['ZEIT_LANG', 'ZEIT_CODE', 'RAUM_LANG', 'RAUM_CODE', 'BEG_LANG', 'BEG_CODE', 'BES', 'StichtagDatJahr_str', 'Jahr', 'RAUM_my_sort']]\\\n",
    "                     .query('BES>10').loc[data_min_date:data_max_date]\\\n",
    "                     .reset_index().sort_values('RAUM_my_sort', ascending = True)\n",
    "\n",
    "myFG.head(2)"
   ]
  },
  {
   "cell_type": "code",
   "execution_count": 45,
   "metadata": {},
   "outputs": [
    {
     "data": {
      "image/png": "[encoded data removed]",
      "text/plain": [
       "<Figure size 985.875x400 with 1 Axes>"
      ]
     },
     "metadata": {},
     "output_type": "display_data"
    }
   ],
   "source": [
    "faced_grid1 = mypy_dv.plot_sns_facetgrid(\n",
    "    data = myFG.reset_index()\n",
    "    , col = \"RAUM_LANG\"\n",
    "    , hue = \"BEG_LANG\"\n",
    "    , col_wrap = 2\n",
    "    , height = 6\n",
    "    , grafiktyp = sns.lineplot\n",
    "    , x = \"StichtagDatJahr\"\n",
    "    , y = \"BES\"\n",
    "    , ylabel= \"Anzahl Beschäftigte\"\n",
    "    , myTitle=\"Beschäftite nach BG, seit \"+str(data2betested.index.year.min())\n",
    "    )"
   ]
  },
  {
   "cell_type": "code",
   "execution_count": 46,
   "metadata": {},
   "outputs": [
    {
     "name": "stdout",
     "output_type": "stream",
     "text": [
      "grafiken_testing/wir400od4004_fg_besch_bg__2024-06-18.png\n"
     ]
    }
   ],
   "source": [
    "grafic_name = package_name+\"_fg_besch_bg_\"+date_today+\".png\"\n",
    "\n",
    "print('grafiken_testing/'+grafic_name)\n",
    "\n",
    "\n",
    "faced_grid1.savefig('grafiken_testing/'+grafic_name)"
   ]
  },
  {
   "cell_type": "markdown",
   "metadata": {},
   "source": [
    "#### Treemaps"
   ]
  },
  {
   "cell_type": "code",
   "execution_count": 47,
   "metadata": {},
   "outputs": [
    {
     "data": {
      "text/plain": [
       "Index(['ZEIT_LANG', 'ZEIT_CODE', 'RAUM_LANG', 'RAUM_CODE', 'BEG_LANG', 'BEG_CODE', 'BES',\n",
       "       'StichtagDatJahr_str', 'Jahr', 'RAUM_my_sort'],\n",
       "      dtype='object')"
      ]
     },
     "execution_count": 47,
     "metadata": {},
     "output_type": "execute_result"
    }
   ],
   "source": [
    "data2betested.columns"
   ]
  },
  {
   "cell_type": "code",
   "execution_count": 48,
   "metadata": {},
   "outputs": [
    {
     "data": {
      "text/html": [
       "<div>\n",
       "<style scoped>\n",
       "    .dataframe tbody tr th:only-of-type {\n",
       "        vertical-align: middle;\n",
       "    }\n",
       "\n",
       "    .dataframe tbody tr th {\n",
       "        vertical-align: top;\n",
       "    }\n",
       "\n",
       "    .dataframe thead th {\n",
       "        text-align: right;\n",
       "    }\n",
       "</style>\n",
       "<table border=\"1\" class=\"dataframe\">\n",
       "  <thead>\n",
       "    <tr style=\"text-align: right;\">\n",
       "      <th></th>\n",
       "      <th>Jahr</th>\n",
       "      <th>BEG_LANG</th>\n",
       "      <th>BEG_CODE</th>\n",
       "      <th>med_BES</th>\n",
       "    </tr>\n",
       "  </thead>\n",
       "  <tbody>\n",
       "    <tr>\n",
       "      <th>0</th>\n",
       "      <td>1985</td>\n",
       "      <td>Teilzeitbeschäftigte</td>\n",
       "      <td>BEG1200</td>\n",
       "      <td>71512</td>\n",
       "    </tr>\n",
       "    <tr>\n",
       "      <th>1</th>\n",
       "      <td>2009</td>\n",
       "      <td>Teilzeitbeschäftigte</td>\n",
       "      <td>BEG1200</td>\n",
       "      <td>153900</td>\n",
       "    </tr>\n",
       "    <tr>\n",
       "      <th>2</th>\n",
       "      <td>2024</td>\n",
       "      <td>Teilzeitbeschäftigte</td>\n",
       "      <td>BEG1200</td>\n",
       "      <td>215900</td>\n",
       "    </tr>\n",
       "    <tr>\n",
       "      <th>3</th>\n",
       "      <td>2023</td>\n",
       "      <td>Teilzeitbeschäftigte</td>\n",
       "      <td>BEG1200</td>\n",
       "      <td>218400</td>\n",
       "    </tr>\n",
       "    <tr>\n",
       "      <th>4</th>\n",
       "      <td>2022</td>\n",
       "      <td>Teilzeitbeschäftigte</td>\n",
       "      <td>BEG1200</td>\n",
       "      <td>212100</td>\n",
       "    </tr>\n",
       "  </tbody>\n",
       "</table>\n",
       "</div>"
      ],
      "text/plain": [
       "   Jahr              BEG_LANG BEG_CODE  med_BES\n",
       "0  1985  Teilzeitbeschäftigte  BEG1200    71512\n",
       "1  2009  Teilzeitbeschäftigte  BEG1200   153900\n",
       "2  2024  Teilzeitbeschäftigte  BEG1200   215900\n",
       "3  2023  Teilzeitbeschäftigte  BEG1200   218400\n",
       "4  2022  Teilzeitbeschäftigte  BEG1200   212100"
      ]
     },
     "execution_count": 48,
     "metadata": {},
     "output_type": "execute_result"
    }
   ],
   "source": [
    "myTM = data2betested.loc[data_min_date:data_max_date]\\\n",
    "    .groupby([ 'Jahr','BEG_LANG', 'BEG_CODE',]) \\\n",
    "    .agg(med_BES=('BES', 'median')) \\\n",
    "    .sort_values('BEG_CODE', ascending=False) \n",
    "    \n",
    "myTM.reset_index().head(5)"
   ]
  },
  {
   "cell_type": "code",
   "execution_count": 49,
   "metadata": {},
   "outputs": [
    {
     "name": "stdout",
     "output_type": "stream",
     "text": [
      "path: [<plotly.express._special_inputs.Constant object at 0x000002126D1123D0>, 'BEG_LANG', 'Jahr']\n",
      "Typ von path: <class 'list'>\n"
     ]
    },
    {
     "data": {
      "application/vnd.plotly.v1+json": {
       "config": {
        "plotlyServerURL": "https://plot.ly"
       },
       "data": [
        {
         "branchvalues": "total",
         "customdata": [
          [
           "Teilzeitbeschäftigte"
          ],
          [
           "Teilzeitbeschäftigte"
          ],
          [
           "Vollzeitbeschäftigte"
          ],
          [
           "Teilzeitbeschäftigte"
          ],
          [
           "Vollzeitbeschäftigte"
          ],
          [
           "Teilzeitbeschäftigte"
          ],
          [
           "Vollzeitbeschäftigte"
          ],
          [
           "Teilzeitbeschäftigte"
          ],
          [
           "Vollzeitbeschäftigte"
          ],
          [
           "Teilzeitbeschäftigte"
          ],
          [
           "Vollzeitbeschäftigte"
          ],
          [
           "Teilzeitbeschäftigte"
          ],
          [
           "Vollzeitbeschäftigte"
          ],
          [
           "Teilzeitbeschäftigte"
          ],
          [
           "Vollzeitbeschäftigte"
          ],
          [
           "Teilzeitbeschäftigte"
          ],
          [
           "Vollzeitbeschäftigte"
          ],
          [
           "Teilzeitbeschäftigte"
          ],
          [
           "Vollzeitbeschäftigte"
          ],
          [
           "Teilzeitbeschäftigte"
          ],
          [
           "Vollzeitbeschäftigte"
          ],
          [
           "Teilzeitbeschäftigte"
          ],
          [
           "Vollzeitbeschäftigte"
          ],
          [
           "Vollzeitbeschäftigte"
          ],
          [
           "Vollzeitbeschäftigte"
          ],
          [
           "Teilzeitbeschäftigte"
          ],
          [
           "Vollzeitbeschäftigte"
          ],
          [
           "Teilzeitbeschäftigte"
          ],
          [
           "Vollzeitbeschäftigte"
          ],
          [
           "Teilzeitbeschäftigte"
          ],
          [
           "Vollzeitbeschäftigte"
          ],
          [
           "Teilzeitbeschäftigte"
          ],
          [
           "Teilzeitbeschäftigte"
          ],
          [
           "Vollzeitbeschäftigte"
          ],
          [
           "Vollzeitbeschäftigte"
          ],
          [
           "Teilzeitbeschäftigte"
          ],
          [
           "Vollzeitbeschäftigte"
          ],
          [
           "Teilzeitbeschäftigte"
          ],
          [
           "Vollzeitbeschäftigte"
          ],
          [
           "Vollzeitbeschäftigte"
          ],
          [
           "Teilzeitbeschäftigte"
          ],
          [
           "Vollzeitbeschäftigte"
          ],
          [
           "Teilzeitbeschäftigte"
          ],
          [
           "Vollzeitbeschäftigte"
          ],
          [
           "Teilzeitbeschäftigte"
          ],
          [
           "Teilzeitbeschäftigte"
          ],
          [
           "Teilzeitbeschäftigte"
          ],
          [
           "Vollzeitbeschäftigte"
          ],
          [
           "Teilzeitbeschäftigte"
          ],
          [
           "Vollzeitbeschäftigte"
          ],
          [
           "(?)"
          ]
         ],
         "domain": {
          "x": [
           0,
           1
          ],
          "y": [
           0,
           1
          ]
         },
         "hovertemplate": "%{label}<br><br>Anzahl:<br>%{value}<extra></extra>",
         "ids": [
          "Beschäftigte nach Beschäftigungsgrad, seit 1985/Teilzeitbeschäftigte/1985",
          "Beschäftigte nach Beschäftigungsgrad, seit 1985/Teilzeitbeschäftigte/2012",
          "Beschäftigte nach Beschäftigungsgrad, seit 1985/Vollzeitbeschäftigte/2011",
          "Beschäftigte nach Beschäftigungsgrad, seit 1985/Teilzeitbeschäftigte/2011",
          "Beschäftigte nach Beschäftigungsgrad, seit 1985/Vollzeitbeschäftigte/2010",
          "Beschäftigte nach Beschäftigungsgrad, seit 1985/Teilzeitbeschäftigte/2010",
          "Beschäftigte nach Beschäftigungsgrad, seit 1985/Vollzeitbeschäftigte/2009",
          "Beschäftigte nach Beschäftigungsgrad, seit 1985/Teilzeitbeschäftigte/2009",
          "Beschäftigte nach Beschäftigungsgrad, seit 1985/Vollzeitbeschäftigte/2008",
          "Beschäftigte nach Beschäftigungsgrad, seit 1985/Teilzeitbeschäftigte/2008",
          "Beschäftigte nach Beschäftigungsgrad, seit 1985/Vollzeitbeschäftigte/2007",
          "Beschäftigte nach Beschäftigungsgrad, seit 1985/Teilzeitbeschäftigte/2007",
          "Beschäftigte nach Beschäftigungsgrad, seit 1985/Vollzeitbeschäftigte/2012",
          "Beschäftigte nach Beschäftigungsgrad, seit 1985/Teilzeitbeschäftigte/2006",
          "Beschäftigte nach Beschäftigungsgrad, seit 1985/Vollzeitbeschäftigte/2005",
          "Beschäftigte nach Beschäftigungsgrad, seit 1985/Teilzeitbeschäftigte/2005",
          "Beschäftigte nach Beschäftigungsgrad, seit 1985/Vollzeitbeschäftigte/2004",
          "Beschäftigte nach Beschäftigungsgrad, seit 1985/Teilzeitbeschäftigte/2004",
          "Beschäftigte nach Beschäftigungsgrad, seit 1985/Vollzeitbeschäftigte/2003",
          "Beschäftigte nach Beschäftigungsgrad, seit 1985/Teilzeitbeschäftigte/2003",
          "Beschäftigte nach Beschäftigungsgrad, seit 1985/Vollzeitbeschäftigte/1998",
          "Beschäftigte nach Beschäftigungsgrad, seit 1985/Teilzeitbeschäftigte/1998",
          "Beschäftigte nach Beschäftigungsgrad, seit 1985/Vollzeitbeschäftigte/1985",
          "Beschäftigte nach Beschäftigungsgrad, seit 1985/Vollzeitbeschäftigte/2006",
          "Beschäftigte nach Beschäftigungsgrad, seit 1985/Vollzeitbeschäftigte/2019",
          "Beschäftigte nach Beschäftigungsgrad, seit 1985/Teilzeitbeschäftigte/2020",
          "Beschäftigte nach Beschäftigungsgrad, seit 1985/Vollzeitbeschäftigte/2020",
          "Beschäftigte nach Beschäftigungsgrad, seit 1985/Teilzeitbeschäftigte/2021",
          "Beschäftigte nach Beschäftigungsgrad, seit 1985/Vollzeitbeschäftigte/2023",
          "Beschäftigte nach Beschäftigungsgrad, seit 1985/Teilzeitbeschäftigte/2022",
          "Beschäftigte nach Beschäftigungsgrad, seit 1985/Vollzeitbeschäftigte/2022",
          "Beschäftigte nach Beschäftigungsgrad, seit 1985/Teilzeitbeschäftigte/2023",
          "Beschäftigte nach Beschäftigungsgrad, seit 1985/Teilzeitbeschäftigte/2019",
          "Beschäftigte nach Beschäftigungsgrad, seit 1985/Vollzeitbeschäftigte/2021",
          "Beschäftigte nach Beschäftigungsgrad, seit 1985/Vollzeitbeschäftigte/2018",
          "Beschäftigte nach Beschäftigungsgrad, seit 1985/Teilzeitbeschäftigte/2016",
          "Beschäftigte nach Beschäftigungsgrad, seit 1985/Vollzeitbeschäftigte/2017",
          "Beschäftigte nach Beschäftigungsgrad, seit 1985/Teilzeitbeschäftigte/2017",
          "Beschäftigte nach Beschäftigungsgrad, seit 1985/Vollzeitbeschäftigte/2016",
          "Beschäftigte nach Beschäftigungsgrad, seit 1985/Vollzeitbeschäftigte/2015",
          "Beschäftigte nach Beschäftigungsgrad, seit 1985/Teilzeitbeschäftigte/2015",
          "Beschäftigte nach Beschäftigungsgrad, seit 1985/Vollzeitbeschäftigte/2014",
          "Beschäftigte nach Beschäftigungsgrad, seit 1985/Teilzeitbeschäftigte/2014",
          "Beschäftigte nach Beschäftigungsgrad, seit 1985/Vollzeitbeschäftigte/2013",
          "Beschäftigte nach Beschäftigungsgrad, seit 1985/Teilzeitbeschäftigte/2013",
          "Beschäftigte nach Beschäftigungsgrad, seit 1985/Teilzeitbeschäftigte/2024",
          "Beschäftigte nach Beschäftigungsgrad, seit 1985/Teilzeitbeschäftigte/2018",
          "Beschäftigte nach Beschäftigungsgrad, seit 1985/Vollzeitbeschäftigte/2024",
          "Beschäftigte nach Beschäftigungsgrad, seit 1985/Teilzeitbeschäftigte",
          "Beschäftigte nach Beschäftigungsgrad, seit 1985/Vollzeitbeschäftigte",
          "Beschäftigte nach Beschäftigungsgrad, seit 1985"
         ],
         "labels": [
          "1985",
          "2012",
          "2011",
          "2011",
          "2010",
          "2010",
          "2009",
          "2009",
          "2008",
          "2008",
          "2007",
          "2007",
          "2012",
          "2006",
          "2005",
          "2005",
          "2004",
          "2004",
          "2003",
          "2003",
          "1998",
          "1998",
          "1985",
          "2006",
          "2019",
          "2020",
          "2020",
          "2021",
          "2023",
          "2022",
          "2022",
          "2023",
          "2019",
          "2021",
          "2018",
          "2016",
          "2017",
          "2017",
          "2016",
          "2015",
          "2015",
          "2014",
          "2014",
          "2013",
          "2013",
          "2024",
          "2018",
          "2024",
          "Teilzeitbeschäftigte",
          "Vollzeitbeschäftigte",
          "Beschäftigte nach Beschäftigungsgrad, seit 1985"
         ],
         "marker": {
          "colors": [
           "#00cc96",
           "#00cc96",
           "#ab63fa",
           "#00cc96",
           "#ab63fa",
           "#00cc96",
           "#ab63fa",
           "#00cc96",
           "#ab63fa",
           "#00cc96",
           "#ab63fa",
           "#00cc96",
           "#ab63fa",
           "#00cc96",
           "#ab63fa",
           "#00cc96",
           "#ab63fa",
           "#00cc96",
           "#ab63fa",
           "#00cc96",
           "#ab63fa",
           "#00cc96",
           "#ab63fa",
           "#ab63fa",
           "#ab63fa",
           "#00cc96",
           "#ab63fa",
           "#00cc96",
           "#ab63fa",
           "#00cc96",
           "#ab63fa",
           "#00cc96",
           "#00cc96",
           "#ab63fa",
           "#ab63fa",
           "#00cc96",
           "#ab63fa",
           "#00cc96",
           "#ab63fa",
           "#ab63fa",
           "#00cc96",
           "#ab63fa",
           "#00cc96",
           "#ab63fa",
           "#00cc96",
           "#00cc96",
           "#00cc96",
           "#ab63fa",
           "#00cc96",
           "#ab63fa",
           "lightgrey"
          ]
         },
         "name": "",
         "parents": [
          "Beschäftigte nach Beschäftigungsgrad, seit 1985/Teilzeitbeschäftigte",
          "Beschäftigte nach Beschäftigungsgrad, seit 1985/Teilzeitbeschäftigte",
          "Beschäftigte nach Beschäftigungsgrad, seit 1985/Vollzeitbeschäftigte",
          "Beschäftigte nach Beschäftigungsgrad, seit 1985/Teilzeitbeschäftigte",
          "Beschäftigte nach Beschäftigungsgrad, seit 1985/Vollzeitbeschäftigte",
          "Beschäftigte nach Beschäftigungsgrad, seit 1985/Teilzeitbeschäftigte",
          "Beschäftigte nach Beschäftigungsgrad, seit 1985/Vollzeitbeschäftigte",
          "Beschäftigte nach Beschäftigungsgrad, seit 1985/Teilzeitbeschäftigte",
          "Beschäftigte nach Beschäftigungsgrad, seit 1985/Vollzeitbeschäftigte",
          "Beschäftigte nach Beschäftigungsgrad, seit 1985/Teilzeitbeschäftigte",
          "Beschäftigte nach Beschäftigungsgrad, seit 1985/Vollzeitbeschäftigte",
          "Beschäftigte nach Beschäftigungsgrad, seit 1985/Teilzeitbeschäftigte",
          "Beschäftigte nach Beschäftigungsgrad, seit 1985/Vollzeitbeschäftigte",
          "Beschäftigte nach Beschäftigungsgrad, seit 1985/Teilzeitbeschäftigte",
          "Beschäftigte nach Beschäftigungsgrad, seit 1985/Vollzeitbeschäftigte",
          "Beschäftigte nach Beschäftigungsgrad, seit 1985/Teilzeitbeschäftigte",
          "Beschäftigte nach Beschäftigungsgrad, seit 1985/Vollzeitbeschäftigte",
          "Beschäftigte nach Beschäftigungsgrad, seit 1985/Teilzeitbeschäftigte",
          "Beschäftigte nach Beschäftigungsgrad, seit 1985/Vollzeitbeschäftigte",
          "Beschäftigte nach Beschäftigungsgrad, seit 1985/Teilzeitbeschäftigte",
          "Beschäftigte nach Beschäftigungsgrad, seit 1985/Vollzeitbeschäftigte",
          "Beschäftigte nach Beschäftigungsgrad, seit 1985/Teilzeitbeschäftigte",
          "Beschäftigte nach Beschäftigungsgrad, seit 1985/Vollzeitbeschäftigte",
          "Beschäftigte nach Beschäftigungsgrad, seit 1985/Vollzeitbeschäftigte",
          "Beschäftigte nach Beschäftigungsgrad, seit 1985/Vollzeitbeschäftigte",
          "Beschäftigte nach Beschäftigungsgrad, seit 1985/Teilzeitbeschäftigte",
          "Beschäftigte nach Beschäftigungsgrad, seit 1985/Vollzeitbeschäftigte",
          "Beschäftigte nach Beschäftigungsgrad, seit 1985/Teilzeitbeschäftigte",
          "Beschäftigte nach Beschäftigungsgrad, seit 1985/Vollzeitbeschäftigte",
          "Beschäftigte nach Beschäftigungsgrad, seit 1985/Teilzeitbeschäftigte",
          "Beschäftigte nach Beschäftigungsgrad, seit 1985/Vollzeitbeschäftigte",
          "Beschäftigte nach Beschäftigungsgrad, seit 1985/Teilzeitbeschäftigte",
          "Beschäftigte nach Beschäftigungsgrad, seit 1985/Teilzeitbeschäftigte",
          "Beschäftigte nach Beschäftigungsgrad, seit 1985/Vollzeitbeschäftigte",
          "Beschäftigte nach Beschäftigungsgrad, seit 1985/Vollzeitbeschäftigte",
          "Beschäftigte nach Beschäftigungsgrad, seit 1985/Teilzeitbeschäftigte",
          "Beschäftigte nach Beschäftigungsgrad, seit 1985/Vollzeitbeschäftigte",
          "Beschäftigte nach Beschäftigungsgrad, seit 1985/Teilzeitbeschäftigte",
          "Beschäftigte nach Beschäftigungsgrad, seit 1985/Vollzeitbeschäftigte",
          "Beschäftigte nach Beschäftigungsgrad, seit 1985/Vollzeitbeschäftigte",
          "Beschäftigte nach Beschäftigungsgrad, seit 1985/Teilzeitbeschäftigte",
          "Beschäftigte nach Beschäftigungsgrad, seit 1985/Vollzeitbeschäftigte",
          "Beschäftigte nach Beschäftigungsgrad, seit 1985/Teilzeitbeschäftigte",
          "Beschäftigte nach Beschäftigungsgrad, seit 1985/Vollzeitbeschäftigte",
          "Beschäftigte nach Beschäftigungsgrad, seit 1985/Teilzeitbeschäftigte",
          "Beschäftigte nach Beschäftigungsgrad, seit 1985/Teilzeitbeschäftigte",
          "Beschäftigte nach Beschäftigungsgrad, seit 1985/Teilzeitbeschäftigte",
          "Beschäftigte nach Beschäftigungsgrad, seit 1985/Vollzeitbeschäftigte",
          "Beschäftigte nach Beschäftigungsgrad, seit 1985",
          "Beschäftigte nach Beschäftigungsgrad, seit 1985",
          ""
         ],
         "root": {
          "color": "grey"
         },
         "type": "treemap",
         "values": [
          71512,
          166850,
          268750,
          158900,
          266150,
          155550,
          264850,
          153900,
          265600,
          152350,
          256600,
          144100,
          271850,
          136600,
          243100,
          132150,
          247950,
          128700,
          251000,
          128000,
          228520,
          86767,
          263345,
          247450,
          282950,
          200950,
          284950,
          202750,
          303050,
          212100,
          297050,
          218400,
          202250,
          288600,
          282150,
          181050,
          279800,
          182450,
          275800,
          274000,
          179250,
          276000,
          172350,
          273350,
          169900,
          215900,
          192800,
          304800,
          3945529,
          6497665,
          10443194
         ]
        }
       ],
       "layout": {
        "height": 700,
        "legend": {
         "tracegroupgap": 0
        },
        "margin": {
         "b": 25,
         "l": 25,
         "r": 25,
         "t": 25
        },
        "template": {
         "data": {
          "bar": [
           {
            "error_x": {
             "color": "#2a3f5f"
            },
            "error_y": {
             "color": "#2a3f5f"
            },
            "marker": {
             "line": {
              "color": "#E5ECF6",
              "width": 0.5
             },
             "pattern": {
              "fillmode": "overlay",
              "size": 10,
              "solidity": 0.2
             }
            },
            "type": "bar"
           }
          ],
          "barpolar": [
           {
            "marker": {
             "line": {
              "color": "#E5ECF6",
              "width": 0.5
             },
             "pattern": {
              "fillmode": "overlay",
              "size": 10,
              "solidity": 0.2
             }
            },
            "type": "barpolar"
           }
          ],
          "carpet": [
           {
            "aaxis": {
             "endlinecolor": "#2a3f5f",
             "gridcolor": "white",
             "linecolor": "white",
             "minorgridcolor": "white",
             "startlinecolor": "#2a3f5f"
            },
            "baxis": {
             "endlinecolor": "#2a3f5f",
             "gridcolor": "white",
             "linecolor": "white",
             "minorgridcolor": "white",
             "startlinecolor": "#2a3f5f"
            },
            "type": "carpet"
           }
          ],
          "choropleth": [
           {
            "colorbar": {
             "outlinewidth": 0,
             "ticks": ""
            },
            "type": "choropleth"
           }
          ],
          "contour": [
           {
            "colorbar": {
             "outlinewidth": 0,
             "ticks": ""
            },
            "colorscale": [
             [
              0,
              "#0d0887"
             ],
             [
              0.1111111111111111,
              "#46039f"
             ],
             [
              0.2222222222222222,
              "#7201a8"
             ],
             [
              0.3333333333333333,
              "#9c179e"
             ],
             [
              0.4444444444444444,
              "#bd3786"
             ],
             [
              0.5555555555555556,
              "#d8576b"
             ],
             [
              0.6666666666666666,
              "#ed7953"
             ],
             [
              0.7777777777777778,
              "#fb9f3a"
             ],
             [
              0.8888888888888888,
              "#fdca26"
             ],
             [
              1,
              "#f0f921"
             ]
            ],
            "type": "contour"
           }
          ],
          "contourcarpet": [
           {
            "colorbar": {
             "outlinewidth": 0,
             "ticks": ""
            },
            "type": "contourcarpet"
           }
          ],
          "heatmap": [
           {
            "colorbar": {
             "outlinewidth": 0,
             "ticks": ""
            },
            "colorscale": [
             [
              0,
              "#0d0887"
             ],
             [
              0.1111111111111111,
              "#46039f"
             ],
             [
              0.2222222222222222,
              "#7201a8"
             ],
             [
              0.3333333333333333,
              "#9c179e"
             ],
             [
              0.4444444444444444,
              "#bd3786"
             ],
             [
              0.5555555555555556,
              "#d8576b"
             ],
             [
              0.6666666666666666,
              "#ed7953"
             ],
             [
              0.7777777777777778,
              "#fb9f3a"
             ],
             [
              0.8888888888888888,
              "#fdca26"
             ],
             [
              1,
              "#f0f921"
             ]
            ],
            "type": "heatmap"
           }
          ],
          "heatmapgl": [
           {
            "colorbar": {
             "outlinewidth": 0,
             "ticks": ""
            },
            "colorscale": [
             [
              0,
              "#0d0887"
             ],
             [
              0.1111111111111111,
              "#46039f"
             ],
             [
              0.2222222222222222,
              "#7201a8"
             ],
             [
              0.3333333333333333,
              "#9c179e"
             ],
             [
              0.4444444444444444,
              "#bd3786"
             ],
             [
              0.5555555555555556,
              "#d8576b"
             ],
             [
              0.6666666666666666,
              "#ed7953"
             ],
             [
              0.7777777777777778,
              "#fb9f3a"
             ],
             [
              0.8888888888888888,
              "#fdca26"
             ],
             [
              1,
              "#f0f921"
             ]
            ],
            "type": "heatmapgl"
           }
          ],
          "histogram": [
           {
            "marker": {
             "pattern": {
              "fillmode": "overlay",
              "size": 10,
              "solidity": 0.2
             }
            },
            "type": "histogram"
           }
          ],
          "histogram2d": [
           {
            "colorbar": {
             "outlinewidth": 0,
             "ticks": ""
            },
            "colorscale": [
             [
              0,
              "#0d0887"
             ],
             [
              0.1111111111111111,
              "#46039f"
             ],
             [
              0.2222222222222222,
              "#7201a8"
             ],
             [
              0.3333333333333333,
              "#9c179e"
             ],
             [
              0.4444444444444444,
              "#bd3786"
             ],
             [
              0.5555555555555556,
              "#d8576b"
             ],
             [
              0.6666666666666666,
              "#ed7953"
             ],
             [
              0.7777777777777778,
              "#fb9f3a"
             ],
             [
              0.8888888888888888,
              "#fdca26"
             ],
             [
              1,
              "#f0f921"
             ]
            ],
            "type": "histogram2d"
           }
          ],
          "histogram2dcontour": [
           {
            "colorbar": {
             "outlinewidth": 0,
             "ticks": ""
            },
            "colorscale": [
             [
              0,
              "#0d0887"
             ],
             [
              0.1111111111111111,
              "#46039f"
             ],
             [
              0.2222222222222222,
              "#7201a8"
             ],
             [
              0.3333333333333333,
              "#9c179e"
             ],
             [
              0.4444444444444444,
              "#bd3786"
             ],
             [
              0.5555555555555556,
              "#d8576b"
             ],
             [
              0.6666666666666666,
              "#ed7953"
             ],
             [
              0.7777777777777778,
              "#fb9f3a"
             ],
             [
              0.8888888888888888,
              "#fdca26"
             ],
             [
              1,
              "#f0f921"
             ]
            ],
            "type": "histogram2dcontour"
           }
          ],
          "mesh3d": [
           {
            "colorbar": {
             "outlinewidth": 0,
             "ticks": ""
            },
            "type": "mesh3d"
           }
          ],
          "parcoords": [
           {
            "line": {
             "colorbar": {
              "outlinewidth": 0,
              "ticks": ""
             }
            },
            "type": "parcoords"
           }
          ],
          "pie": [
           {
            "automargin": true,
            "type": "pie"
           }
          ],
          "scatter": [
           {
            "fillpattern": {
             "fillmode": "overlay",
             "size": 10,
             "solidity": 0.2
            },
            "type": "scatter"
           }
          ],
          "scatter3d": [
           {
            "line": {
             "colorbar": {
              "outlinewidth": 0,
              "ticks": ""
             }
            },
            "marker": {
             "colorbar": {
              "outlinewidth": 0,
              "ticks": ""
             }
            },
            "type": "scatter3d"
           }
          ],
          "scattercarpet": [
           {
            "marker": {
             "colorbar": {
              "outlinewidth": 0,
              "ticks": ""
             }
            },
            "type": "scattercarpet"
           }
          ],
          "scattergeo": [
           {
            "marker": {
             "colorbar": {
              "outlinewidth": 0,
              "ticks": ""
             }
            },
            "type": "scattergeo"
           }
          ],
          "scattergl": [
           {
            "marker": {
             "colorbar": {
              "outlinewidth": 0,
              "ticks": ""
             }
            },
            "type": "scattergl"
           }
          ],
          "scattermapbox": [
           {
            "marker": {
             "colorbar": {
              "outlinewidth": 0,
              "ticks": ""
             }
            },
            "type": "scattermapbox"
           }
          ],
          "scatterpolar": [
           {
            "marker": {
             "colorbar": {
              "outlinewidth": 0,
              "ticks": ""
             }
            },
            "type": "scatterpolar"
           }
          ],
          "scatterpolargl": [
           {
            "marker": {
             "colorbar": {
              "outlinewidth": 0,
              "ticks": ""
             }
            },
            "type": "scatterpolargl"
           }
          ],
          "scatterternary": [
           {
            "marker": {
             "colorbar": {
              "outlinewidth": 0,
              "ticks": ""
             }
            },
            "type": "scatterternary"
           }
          ],
          "surface": [
           {
            "colorbar": {
             "outlinewidth": 0,
             "ticks": ""
            },
            "colorscale": [
             [
              0,
              "#0d0887"
             ],
             [
              0.1111111111111111,
              "#46039f"
             ],
             [
              0.2222222222222222,
              "#7201a8"
             ],
             [
              0.3333333333333333,
              "#9c179e"
             ],
             [
              0.4444444444444444,
              "#bd3786"
             ],
             [
              0.5555555555555556,
              "#d8576b"
             ],
             [
              0.6666666666666666,
              "#ed7953"
             ],
             [
              0.7777777777777778,
              "#fb9f3a"
             ],
             [
              0.8888888888888888,
              "#fdca26"
             ],
             [
              1,
              "#f0f921"
             ]
            ],
            "type": "surface"
           }
          ],
          "table": [
           {
            "cells": {
             "fill": {
              "color": "#EBF0F8"
             },
             "line": {
              "color": "white"
             }
            },
            "header": {
             "fill": {
              "color": "#C8D4E3"
             },
             "line": {
              "color": "white"
             }
            },
            "type": "table"
           }
          ]
         },
         "layout": {
          "annotationdefaults": {
           "arrowcolor": "#2a3f5f",
           "arrowhead": 0,
           "arrowwidth": 1
          },
          "autotypenumbers": "strict",
          "coloraxis": {
           "colorbar": {
            "outlinewidth": 0,
            "ticks": ""
           }
          },
          "colorscale": {
           "diverging": [
            [
             0,
             "#8e0152"
            ],
            [
             0.1,
             "#c51b7d"
            ],
            [
             0.2,
             "#de77ae"
            ],
            [
             0.3,
             "#f1b6da"
            ],
            [
             0.4,
             "#fde0ef"
            ],
            [
             0.5,
             "#f7f7f7"
            ],
            [
             0.6,
             "#e6f5d0"
            ],
            [
             0.7,
             "#b8e186"
            ],
            [
             0.8,
             "#7fbc41"
            ],
            [
             0.9,
             "#4d9221"
            ],
            [
             1,
             "#276419"
            ]
           ],
           "sequential": [
            [
             0,
             "#0d0887"
            ],
            [
             0.1111111111111111,
             "#46039f"
            ],
            [
             0.2222222222222222,
             "#7201a8"
            ],
            [
             0.3333333333333333,
             "#9c179e"
            ],
            [
             0.4444444444444444,
             "#bd3786"
            ],
            [
             0.5555555555555556,
             "#d8576b"
            ],
            [
             0.6666666666666666,
             "#ed7953"
            ],
            [
             0.7777777777777778,
             "#fb9f3a"
            ],
            [
             0.8888888888888888,
             "#fdca26"
            ],
            [
             1,
             "#f0f921"
            ]
           ],
           "sequentialminus": [
            [
             0,
             "#0d0887"
            ],
            [
             0.1111111111111111,
             "#46039f"
            ],
            [
             0.2222222222222222,
             "#7201a8"
            ],
            [
             0.3333333333333333,
             "#9c179e"
            ],
            [
             0.4444444444444444,
             "#bd3786"
            ],
            [
             0.5555555555555556,
             "#d8576b"
            ],
            [
             0.6666666666666666,
             "#ed7953"
            ],
            [
             0.7777777777777778,
             "#fb9f3a"
            ],
            [
             0.8888888888888888,
             "#fdca26"
            ],
            [
             1,
             "#f0f921"
            ]
           ]
          },
          "colorway": [
           "#636efa",
           "#EF553B",
           "#00cc96",
           "#ab63fa",
           "#FFA15A",
           "#19d3f3",
           "#FF6692",
           "#B6E880",
           "#FF97FF",
           "#FECB52"
          ],
          "font": {
           "color": "#2a3f5f"
          },
          "geo": {
           "bgcolor": "white",
           "lakecolor": "white",
           "landcolor": "#E5ECF6",
           "showlakes": true,
           "showland": true,
           "subunitcolor": "white"
          },
          "hoverlabel": {
           "align": "left"
          },
          "hovermode": "closest",
          "mapbox": {
           "style": "light"
          },
          "paper_bgcolor": "white",
          "plot_bgcolor": "#E5ECF6",
          "polar": {
           "angularaxis": {
            "gridcolor": "white",
            "linecolor": "white",
            "ticks": ""
           },
           "bgcolor": "#E5ECF6",
           "radialaxis": {
            "gridcolor": "white",
            "linecolor": "white",
            "ticks": ""
           }
          },
          "scene": {
           "xaxis": {
            "backgroundcolor": "#E5ECF6",
            "gridcolor": "white",
            "gridwidth": 2,
            "linecolor": "white",
            "showbackground": true,
            "ticks": "",
            "zerolinecolor": "white"
           },
           "yaxis": {
            "backgroundcolor": "#E5ECF6",
            "gridcolor": "white",
            "gridwidth": 2,
            "linecolor": "white",
            "showbackground": true,
            "ticks": "",
            "zerolinecolor": "white"
           },
           "zaxis": {
            "backgroundcolor": "#E5ECF6",
            "gridcolor": "white",
            "gridwidth": 2,
            "linecolor": "white",
            "showbackground": true,
            "ticks": "",
            "zerolinecolor": "white"
           }
          },
          "shapedefaults": {
           "line": {
            "color": "#2a3f5f"
           }
          },
          "ternary": {
           "aaxis": {
            "gridcolor": "white",
            "linecolor": "white",
            "ticks": ""
           },
           "baxis": {
            "gridcolor": "white",
            "linecolor": "white",
            "ticks": ""
           },
           "bgcolor": "#E5ECF6",
           "caxis": {
            "gridcolor": "white",
            "linecolor": "white",
            "ticks": ""
           }
          },
          "title": {
           "x": 0.05
          },
          "xaxis": {
           "automargin": true,
           "gridcolor": "white",
           "linecolor": "white",
           "ticks": "",
           "title": {
            "standoff": 15
           },
           "zerolinecolor": "white",
           "zerolinewidth": 2
          },
          "yaxis": {
           "automargin": true,
           "gridcolor": "white",
           "linecolor": "white",
           "ticks": "",
           "title": {
            "standoff": 15
           },
           "zerolinecolor": "white",
           "zerolinewidth": 2
          }
         }
        },
        "width": 1100
       }
      }
     },
     "metadata": {},
     "output_type": "display_data"
    }
   ],
   "source": [
    "treeMap1 = mypy_dv.plot_px_treemap(\n",
    "    data=myTM.reset_index()\n",
    "    ,levels=[\"BEG_LANG\", \"Jahr\" ]\n",
    "    ,values=\"med_BES\"\n",
    "    ,color=\"BEG_LANG\"\n",
    "    ,myHeaderTitle=\"Beschäftigte nach Beschäftigungsgrad, seit \"+data_min_date\n",
    "    ,color_discrete_map={'(?)':'lightgrey', 'Wohnen':'lightblue'}                \n",
    "    #,margin_val_bottom=25\n",
    ")\n",
    "treeMap1\n"
   ]
  },
  {
   "cell_type": "code",
   "execution_count": 50,
   "metadata": {},
   "outputs": [
    {
     "name": "stdout",
     "output_type": "stream",
     "text": [
      "wir400od4004_tm_besch_bg_jahr__2024-06-18.png\n"
     ]
    },
    {
     "ename": "AttributeError",
     "evalue": "'NoneType' object has no attribute 'write_image'",
     "output_type": "error",
     "traceback": [
      "\u001b[1;31m---------------------------------------------------------------------------\u001b[0m",
      "\u001b[1;31mAttributeError\u001b[0m                            Traceback (most recent call last)",
      "Cell \u001b[1;32mIn[50], line 4\u001b[0m\n\u001b[0;32m      1\u001b[0m grafic_name \u001b[38;5;241m=\u001b[39m package_name\u001b[38;5;241m+\u001b[39m\u001b[38;5;124m\"\u001b[39m\u001b[38;5;124m_tm_besch_bg_jahr_\u001b[39m\u001b[38;5;124m\"\u001b[39m\u001b[38;5;241m+\u001b[39mdate_today\u001b[38;5;241m+\u001b[39m\u001b[38;5;124m\"\u001b[39m\u001b[38;5;124m.png\u001b[39m\u001b[38;5;124m\"\u001b[39m\n\u001b[0;32m      2\u001b[0m \u001b[38;5;28mprint\u001b[39m(grafic_name)\n\u001b[1;32m----> 4\u001b[0m \u001b[43mtreeMap1\u001b[49m\u001b[38;5;241;43m.\u001b[39;49m\u001b[43mwrite_image\u001b[49m(\u001b[38;5;124m'\u001b[39m\u001b[38;5;124mgrafiken_testing/\u001b[39m\u001b[38;5;124m'\u001b[39m\u001b[38;5;241m+\u001b[39mgrafic_name)\n",
      "\u001b[1;31mAttributeError\u001b[0m: 'NoneType' object has no attribute 'write_image'"
     ]
    }
   ],
   "source": [
    "grafic_name = package_name+\"_tm_besch_bg_jahr_\"+date_today+\".png\"\n",
    "print(grafic_name)\n",
    "\n",
    "treeMap1.write_image('grafiken_testing/'+grafic_name)"
   ]
  },
  {
   "cell_type": "code",
   "execution_count": null,
   "metadata": {},
   "outputs": [
    {
     "name": "stdout",
     "output_type": "stream",
     "text": [
      "path: [<plotly.express._special_inputs.Constant object at 0x0000028270F8F790>, 'Jahr', 'BEG_LANG']\n",
      "Typ von path: <class 'list'>\n"
     ]
    },
    {
     "data": {
      "application/vnd.plotly.v1+json": {
       "config": {
        "plotlyServerURL": "https://plot.ly"
       },
       "data": [
        {
         "branchvalues": "total",
         "customdata": [
          [
           "Teilzeitbeschäftigte"
          ],
          [
           "Teilzeitbeschäftigte"
          ],
          [
           "Teilzeitbeschäftigte"
          ],
          [
           "Teilzeitbeschäftigte"
          ],
          [
           "Teilzeitbeschäftigte"
          ],
          [
           "Teilzeitbeschäftigte"
          ],
          [
           "Teilzeitbeschäftigte"
          ],
          [
           "Teilzeitbeschäftigte"
          ],
          [
           "Teilzeitbeschäftigte"
          ],
          [
           "Teilzeitbeschäftigte"
          ],
          [
           "Teilzeitbeschäftigte"
          ],
          [
           "Teilzeitbeschäftigte"
          ],
          [
           "Teilzeitbeschäftigte"
          ],
          [
           "Teilzeitbeschäftigte"
          ],
          [
           "Teilzeitbeschäftigte"
          ],
          [
           "Teilzeitbeschäftigte"
          ],
          [
           "Teilzeitbeschäftigte"
          ],
          [
           "Teilzeitbeschäftigte"
          ],
          [
           "Teilzeitbeschäftigte"
          ],
          [
           "Teilzeitbeschäftigte"
          ],
          [
           "Teilzeitbeschäftigte"
          ],
          [
           "Teilzeitbeschäftigte"
          ],
          [
           "Teilzeitbeschäftigte"
          ],
          [
           "Teilzeitbeschäftigte"
          ],
          [
           "Teilzeitbeschäftigte"
          ],
          [
           "Teilzeitbeschäftigte"
          ],
          [
           "Vollzeitbeschäftigte"
          ],
          [
           "Vollzeitbeschäftigte"
          ],
          [
           "Vollzeitbeschäftigte"
          ],
          [
           "Vollzeitbeschäftigte"
          ],
          [
           "Vollzeitbeschäftigte"
          ],
          [
           "Vollzeitbeschäftigte"
          ],
          [
           "Vollzeitbeschäftigte"
          ],
          [
           "Vollzeitbeschäftigte"
          ],
          [
           "Vollzeitbeschäftigte"
          ],
          [
           "Vollzeitbeschäftigte"
          ],
          [
           "Vollzeitbeschäftigte"
          ],
          [
           "Vollzeitbeschäftigte"
          ],
          [
           "Vollzeitbeschäftigte"
          ],
          [
           "Vollzeitbeschäftigte"
          ],
          [
           "Vollzeitbeschäftigte"
          ],
          [
           "Vollzeitbeschäftigte"
          ],
          [
           "Vollzeitbeschäftigte"
          ],
          [
           "Vollzeitbeschäftigte"
          ],
          [
           "Vollzeitbeschäftigte"
          ],
          [
           "Vollzeitbeschäftigte"
          ],
          [
           "Vollzeitbeschäftigte"
          ],
          [
           "Vollzeitbeschäftigte"
          ],
          [
           "Vollzeitbeschäftigte"
          ],
          [
           "Vollzeitbeschäftigte"
          ],
          [
           "Vollzeitbeschäftigte"
          ],
          [
           "Vollzeitbeschäftigte"
          ],
          [
           "(?)"
          ],
          [
           "(?)"
          ],
          [
           "(?)"
          ],
          [
           "(?)"
          ],
          [
           "(?)"
          ],
          [
           "(?)"
          ],
          [
           "(?)"
          ],
          [
           "(?)"
          ],
          [
           "(?)"
          ],
          [
           "(?)"
          ],
          [
           "(?)"
          ],
          [
           "(?)"
          ],
          [
           "(?)"
          ],
          [
           "(?)"
          ],
          [
           "(?)"
          ],
          [
           "(?)"
          ],
          [
           "(?)"
          ],
          [
           "(?)"
          ],
          [
           "(?)"
          ],
          [
           "(?)"
          ],
          [
           "(?)"
          ],
          [
           "(?)"
          ],
          [
           "(?)"
          ],
          [
           "(?)"
          ],
          [
           "(?)"
          ],
          [
           "(?)"
          ],
          [
           "(?)"
          ]
         ],
         "domain": {
          "x": [
           0,
           1
          ],
          "y": [
           0,
           1
          ]
         },
         "hovertemplate": "%{label}<br><br>Anzahl:<br>%{value}<extra></extra>",
         "ids": [
          "Beschäftigte nach Beschäftigungsgrad, seit 1985/1985/Teilzeitbeschäftigte",
          "Beschäftigte nach Beschäftigungsgrad, seit 1985/2023/Teilzeitbeschäftigte",
          "Beschäftigte nach Beschäftigungsgrad, seit 1985/2022/Teilzeitbeschäftigte",
          "Beschäftigte nach Beschäftigungsgrad, seit 1985/2021/Teilzeitbeschäftigte",
          "Beschäftigte nach Beschäftigungsgrad, seit 1985/2020/Teilzeitbeschäftigte",
          "Beschäftigte nach Beschäftigungsgrad, seit 1985/2019/Teilzeitbeschäftigte",
          "Beschäftigte nach Beschäftigungsgrad, seit 1985/2018/Teilzeitbeschäftigte",
          "Beschäftigte nach Beschäftigungsgrad, seit 1985/2017/Teilzeitbeschäftigte",
          "Beschäftigte nach Beschäftigungsgrad, seit 1985/2016/Teilzeitbeschäftigte",
          "Beschäftigte nach Beschäftigungsgrad, seit 1985/2015/Teilzeitbeschäftigte",
          "Beschäftigte nach Beschäftigungsgrad, seit 1985/2014/Teilzeitbeschäftigte",
          "Beschäftigte nach Beschäftigungsgrad, seit 1985/2013/Teilzeitbeschäftigte",
          "Beschäftigte nach Beschäftigungsgrad, seit 1985/2012/Teilzeitbeschäftigte",
          "Beschäftigte nach Beschäftigungsgrad, seit 1985/2024/Teilzeitbeschäftigte",
          "Beschäftigte nach Beschäftigungsgrad, seit 1985/2010/Teilzeitbeschäftigte",
          "Beschäftigte nach Beschäftigungsgrad, seit 1985/2009/Teilzeitbeschäftigte",
          "Beschäftigte nach Beschäftigungsgrad, seit 1985/2008/Teilzeitbeschäftigte",
          "Beschäftigte nach Beschäftigungsgrad, seit 1985/2007/Teilzeitbeschäftigte",
          "Beschäftigte nach Beschäftigungsgrad, seit 1985/2006/Teilzeitbeschäftigte",
          "Beschäftigte nach Beschäftigungsgrad, seit 1985/2005/Teilzeitbeschäftigte",
          "Beschäftigte nach Beschäftigungsgrad, seit 1985/2004/Teilzeitbeschäftigte",
          "Beschäftigte nach Beschäftigungsgrad, seit 1985/2003/Teilzeitbeschäftigte",
          "Beschäftigte nach Beschäftigungsgrad, seit 1985/2001/Teilzeitbeschäftigte",
          "Beschäftigte nach Beschäftigungsgrad, seit 1985/1998/Teilzeitbeschäftigte",
          "Beschäftigte nach Beschäftigungsgrad, seit 1985/1995/Teilzeitbeschäftigte",
          "Beschäftigte nach Beschäftigungsgrad, seit 1985/2011/Teilzeitbeschäftigte",
          "Beschäftigte nach Beschäftigungsgrad, seit 1985/2013/Vollzeitbeschäftigte",
          "Beschäftigte nach Beschäftigungsgrad, seit 1985/2014/Vollzeitbeschäftigte",
          "Beschäftigte nach Beschäftigungsgrad, seit 1985/2015/Vollzeitbeschäftigte",
          "Beschäftigte nach Beschäftigungsgrad, seit 1985/2016/Vollzeitbeschäftigte",
          "Beschäftigte nach Beschäftigungsgrad, seit 1985/2022/Vollzeitbeschäftigte",
          "Beschäftigte nach Beschäftigungsgrad, seit 1985/2018/Vollzeitbeschäftigte",
          "Beschäftigte nach Beschäftigungsgrad, seit 1985/2019/Vollzeitbeschäftigte",
          "Beschäftigte nach Beschäftigungsgrad, seit 1985/2020/Vollzeitbeschäftigte",
          "Beschäftigte nach Beschäftigungsgrad, seit 1985/2021/Vollzeitbeschäftigte",
          "Beschäftigte nach Beschäftigungsgrad, seit 1985/2012/Vollzeitbeschäftigte",
          "Beschäftigte nach Beschäftigungsgrad, seit 1985/2017/Vollzeitbeschäftigte",
          "Beschäftigte nach Beschäftigungsgrad, seit 1985/2011/Vollzeitbeschäftigte",
          "Beschäftigte nach Beschäftigungsgrad, seit 1985/2005/Vollzeitbeschäftigte",
          "Beschäftigte nach Beschäftigungsgrad, seit 1985/2009/Vollzeitbeschäftigte",
          "Beschäftigte nach Beschäftigungsgrad, seit 1985/2008/Vollzeitbeschäftigte",
          "Beschäftigte nach Beschäftigungsgrad, seit 1985/2007/Vollzeitbeschäftigte",
          "Beschäftigte nach Beschäftigungsgrad, seit 1985/2006/Vollzeitbeschäftigte",
          "Beschäftigte nach Beschäftigungsgrad, seit 1985/2004/Vollzeitbeschäftigte",
          "Beschäftigte nach Beschäftigungsgrad, seit 1985/2003/Vollzeitbeschäftigte",
          "Beschäftigte nach Beschäftigungsgrad, seit 1985/2001/Vollzeitbeschäftigte",
          "Beschäftigte nach Beschäftigungsgrad, seit 1985/1998/Vollzeitbeschäftigte",
          "Beschäftigte nach Beschäftigungsgrad, seit 1985/1995/Vollzeitbeschäftigte",
          "Beschäftigte nach Beschäftigungsgrad, seit 1985/1985/Vollzeitbeschäftigte",
          "Beschäftigte nach Beschäftigungsgrad, seit 1985/2023/Vollzeitbeschäftigte",
          "Beschäftigte nach Beschäftigungsgrad, seit 1985/2010/Vollzeitbeschäftigte",
          "Beschäftigte nach Beschäftigungsgrad, seit 1985/2024/Vollzeitbeschäftigte",
          "Beschäftigte nach Beschäftigungsgrad, seit 1985/1985",
          "Beschäftigte nach Beschäftigungsgrad, seit 1985/1995",
          "Beschäftigte nach Beschäftigungsgrad, seit 1985/1998",
          "Beschäftigte nach Beschäftigungsgrad, seit 1985/2001",
          "Beschäftigte nach Beschäftigungsgrad, seit 1985/2003",
          "Beschäftigte nach Beschäftigungsgrad, seit 1985/2004",
          "Beschäftigte nach Beschäftigungsgrad, seit 1985/2005",
          "Beschäftigte nach Beschäftigungsgrad, seit 1985/2006",
          "Beschäftigte nach Beschäftigungsgrad, seit 1985/2007",
          "Beschäftigte nach Beschäftigungsgrad, seit 1985/2008",
          "Beschäftigte nach Beschäftigungsgrad, seit 1985/2009",
          "Beschäftigte nach Beschäftigungsgrad, seit 1985/2010",
          "Beschäftigte nach Beschäftigungsgrad, seit 1985/2011",
          "Beschäftigte nach Beschäftigungsgrad, seit 1985/2012",
          "Beschäftigte nach Beschäftigungsgrad, seit 1985/2013",
          "Beschäftigte nach Beschäftigungsgrad, seit 1985/2014",
          "Beschäftigte nach Beschäftigungsgrad, seit 1985/2015",
          "Beschäftigte nach Beschäftigungsgrad, seit 1985/2016",
          "Beschäftigte nach Beschäftigungsgrad, seit 1985/2017",
          "Beschäftigte nach Beschäftigungsgrad, seit 1985/2018",
          "Beschäftigte nach Beschäftigungsgrad, seit 1985/2019",
          "Beschäftigte nach Beschäftigungsgrad, seit 1985/2020",
          "Beschäftigte nach Beschäftigungsgrad, seit 1985/2021",
          "Beschäftigte nach Beschäftigungsgrad, seit 1985/2022",
          "Beschäftigte nach Beschäftigungsgrad, seit 1985/2023",
          "Beschäftigte nach Beschäftigungsgrad, seit 1985/2024",
          "Beschäftigte nach Beschäftigungsgrad, seit 1985"
         ],
         "labels": [
          "Teilzeitbeschäftigte",
          "Teilzeitbeschäftigte",
          "Teilzeitbeschäftigte",
          "Teilzeitbeschäftigte",
          "Teilzeitbeschäftigte",
          "Teilzeitbeschäftigte",
          "Teilzeitbeschäftigte",
          "Teilzeitbeschäftigte",
          "Teilzeitbeschäftigte",
          "Teilzeitbeschäftigte",
          "Teilzeitbeschäftigte",
          "Teilzeitbeschäftigte",
          "Teilzeitbeschäftigte",
          "Teilzeitbeschäftigte",
          "Teilzeitbeschäftigte",
          "Teilzeitbeschäftigte",
          "Teilzeitbeschäftigte",
          "Teilzeitbeschäftigte",
          "Teilzeitbeschäftigte",
          "Teilzeitbeschäftigte",
          "Teilzeitbeschäftigte",
          "Teilzeitbeschäftigte",
          "Teilzeitbeschäftigte",
          "Teilzeitbeschäftigte",
          "Teilzeitbeschäftigte",
          "Teilzeitbeschäftigte",
          "Vollzeitbeschäftigte",
          "Vollzeitbeschäftigte",
          "Vollzeitbeschäftigte",
          "Vollzeitbeschäftigte",
          "Vollzeitbeschäftigte",
          "Vollzeitbeschäftigte",
          "Vollzeitbeschäftigte",
          "Vollzeitbeschäftigte",
          "Vollzeitbeschäftigte",
          "Vollzeitbeschäftigte",
          "Vollzeitbeschäftigte",
          "Vollzeitbeschäftigte",
          "Vollzeitbeschäftigte",
          "Vollzeitbeschäftigte",
          "Vollzeitbeschäftigte",
          "Vollzeitbeschäftigte",
          "Vollzeitbeschäftigte",
          "Vollzeitbeschäftigte",
          "Vollzeitbeschäftigte",
          "Vollzeitbeschäftigte",
          "Vollzeitbeschäftigte",
          "Vollzeitbeschäftigte",
          "Vollzeitbeschäftigte",
          "Vollzeitbeschäftigte",
          "Vollzeitbeschäftigte",
          "Vollzeitbeschäftigte",
          "1985",
          "1995",
          "1998",
          "2001",
          "2003",
          "2004",
          "2005",
          "2006",
          "2007",
          "2008",
          "2009",
          "2010",
          "2011",
          "2012",
          "2013",
          "2014",
          "2015",
          "2016",
          "2017",
          "2018",
          "2019",
          "2020",
          "2021",
          "2022",
          "2023",
          "2024",
          "Beschäftigte nach Beschäftigungsgrad, seit 1985"
         ],
         "marker": {
          "colors": [
           "#00cc96",
           "#00cc96",
           "#00cc96",
           "#00cc96",
           "#00cc96",
           "#00cc96",
           "#00cc96",
           "#00cc96",
           "#00cc96",
           "#00cc96",
           "#00cc96",
           "#00cc96",
           "#00cc96",
           "#00cc96",
           "#00cc96",
           "#00cc96",
           "#00cc96",
           "#00cc96",
           "#00cc96",
           "#00cc96",
           "#00cc96",
           "#00cc96",
           "#00cc96",
           "#00cc96",
           "#00cc96",
           "#00cc96",
           "#ab63fa",
           "#ab63fa",
           "#ab63fa",
           "#ab63fa",
           "#ab63fa",
           "#ab63fa",
           "#ab63fa",
           "#ab63fa",
           "#ab63fa",
           "#ab63fa",
           "#ab63fa",
           "#ab63fa",
           "#ab63fa",
           "#ab63fa",
           "#ab63fa",
           "#ab63fa",
           "#ab63fa",
           "#ab63fa",
           "#ab63fa",
           "#ab63fa",
           "#ab63fa",
           "#ab63fa",
           "#ab63fa",
           "#ab63fa",
           "#ab63fa",
           "#ab63fa",
           "lightgrey",
           "lightgrey",
           "lightgrey",
           "lightgrey",
           "lightgrey",
           "lightgrey",
           "lightgrey",
           "lightgrey",
           "lightgrey",
           "lightgrey",
           "lightgrey",
           "lightgrey",
           "lightgrey",
           "lightgrey",
           "lightgrey",
           "lightgrey",
           "lightgrey",
           "lightgrey",
           "lightgrey",
           "lightgrey",
           "lightgrey",
           "lightgrey",
           "lightgrey",
           "lightgrey",
           "lightgrey",
           "lightgrey",
           "lightgrey"
          ]
         },
         "name": "",
         "parents": [
          "Beschäftigte nach Beschäftigungsgrad, seit 1985/1985",
          "Beschäftigte nach Beschäftigungsgrad, seit 1985/2023",
          "Beschäftigte nach Beschäftigungsgrad, seit 1985/2022",
          "Beschäftigte nach Beschäftigungsgrad, seit 1985/2021",
          "Beschäftigte nach Beschäftigungsgrad, seit 1985/2020",
          "Beschäftigte nach Beschäftigungsgrad, seit 1985/2019",
          "Beschäftigte nach Beschäftigungsgrad, seit 1985/2018",
          "Beschäftigte nach Beschäftigungsgrad, seit 1985/2017",
          "Beschäftigte nach Beschäftigungsgrad, seit 1985/2016",
          "Beschäftigte nach Beschäftigungsgrad, seit 1985/2015",
          "Beschäftigte nach Beschäftigungsgrad, seit 1985/2014",
          "Beschäftigte nach Beschäftigungsgrad, seit 1985/2013",
          "Beschäftigte nach Beschäftigungsgrad, seit 1985/2012",
          "Beschäftigte nach Beschäftigungsgrad, seit 1985/2024",
          "Beschäftigte nach Beschäftigungsgrad, seit 1985/2010",
          "Beschäftigte nach Beschäftigungsgrad, seit 1985/2009",
          "Beschäftigte nach Beschäftigungsgrad, seit 1985/2008",
          "Beschäftigte nach Beschäftigungsgrad, seit 1985/2007",
          "Beschäftigte nach Beschäftigungsgrad, seit 1985/2006",
          "Beschäftigte nach Beschäftigungsgrad, seit 1985/2005",
          "Beschäftigte nach Beschäftigungsgrad, seit 1985/2004",
          "Beschäftigte nach Beschäftigungsgrad, seit 1985/2003",
          "Beschäftigte nach Beschäftigungsgrad, seit 1985/2001",
          "Beschäftigte nach Beschäftigungsgrad, seit 1985/1998",
          "Beschäftigte nach Beschäftigungsgrad, seit 1985/1995",
          "Beschäftigte nach Beschäftigungsgrad, seit 1985/2011",
          "Beschäftigte nach Beschäftigungsgrad, seit 1985/2013",
          "Beschäftigte nach Beschäftigungsgrad, seit 1985/2014",
          "Beschäftigte nach Beschäftigungsgrad, seit 1985/2015",
          "Beschäftigte nach Beschäftigungsgrad, seit 1985/2016",
          "Beschäftigte nach Beschäftigungsgrad, seit 1985/2022",
          "Beschäftigte nach Beschäftigungsgrad, seit 1985/2018",
          "Beschäftigte nach Beschäftigungsgrad, seit 1985/2019",
          "Beschäftigte nach Beschäftigungsgrad, seit 1985/2020",
          "Beschäftigte nach Beschäftigungsgrad, seit 1985/2021",
          "Beschäftigte nach Beschäftigungsgrad, seit 1985/2012",
          "Beschäftigte nach Beschäftigungsgrad, seit 1985/2017",
          "Beschäftigte nach Beschäftigungsgrad, seit 1985/2011",
          "Beschäftigte nach Beschäftigungsgrad, seit 1985/2005",
          "Beschäftigte nach Beschäftigungsgrad, seit 1985/2009",
          "Beschäftigte nach Beschäftigungsgrad, seit 1985/2008",
          "Beschäftigte nach Beschäftigungsgrad, seit 1985/2007",
          "Beschäftigte nach Beschäftigungsgrad, seit 1985/2006",
          "Beschäftigte nach Beschäftigungsgrad, seit 1985/2004",
          "Beschäftigte nach Beschäftigungsgrad, seit 1985/2003",
          "Beschäftigte nach Beschäftigungsgrad, seit 1985/2001",
          "Beschäftigte nach Beschäftigungsgrad, seit 1985/1998",
          "Beschäftigte nach Beschäftigungsgrad, seit 1985/1995",
          "Beschäftigte nach Beschäftigungsgrad, seit 1985/1985",
          "Beschäftigte nach Beschäftigungsgrad, seit 1985/2023",
          "Beschäftigte nach Beschäftigungsgrad, seit 1985/2010",
          "Beschäftigte nach Beschäftigungsgrad, seit 1985/2024",
          "Beschäftigte nach Beschäftigungsgrad, seit 1985",
          "Beschäftigte nach Beschäftigungsgrad, seit 1985",
          "Beschäftigte nach Beschäftigungsgrad, seit 1985",
          "Beschäftigte nach Beschäftigungsgrad, seit 1985",
          "Beschäftigte nach Beschäftigungsgrad, seit 1985",
          "Beschäftigte nach Beschäftigungsgrad, seit 1985",
          "Beschäftigte nach Beschäftigungsgrad, seit 1985",
          "Beschäftigte nach Beschäftigungsgrad, seit 1985",
          "Beschäftigte nach Beschäftigungsgrad, seit 1985",
          "Beschäftigte nach Beschäftigungsgrad, seit 1985",
          "Beschäftigte nach Beschäftigungsgrad, seit 1985",
          "Beschäftigte nach Beschäftigungsgrad, seit 1985",
          "Beschäftigte nach Beschäftigungsgrad, seit 1985",
          "Beschäftigte nach Beschäftigungsgrad, seit 1985",
          "Beschäftigte nach Beschäftigungsgrad, seit 1985",
          "Beschäftigte nach Beschäftigungsgrad, seit 1985",
          "Beschäftigte nach Beschäftigungsgrad, seit 1985",
          "Beschäftigte nach Beschäftigungsgrad, seit 1985",
          "Beschäftigte nach Beschäftigungsgrad, seit 1985",
          "Beschäftigte nach Beschäftigungsgrad, seit 1985",
          "Beschäftigte nach Beschäftigungsgrad, seit 1985",
          "Beschäftigte nach Beschäftigungsgrad, seit 1985",
          "Beschäftigte nach Beschäftigungsgrad, seit 1985",
          "Beschäftigte nach Beschäftigungsgrad, seit 1985",
          "Beschäftigte nach Beschäftigungsgrad, seit 1985",
          "Beschäftigte nach Beschäftigungsgrad, seit 1985",
          ""
         ],
         "root": {
          "color": "grey"
         },
         "type": "treemap",
         "values": [
          71512,
          218400,
          212100,
          202750,
          200950,
          202250,
          192800,
          182450,
          181050,
          179250,
          172350,
          169900,
          166850,
          215900,
          155550,
          153900,
          152350,
          144100,
          136600,
          132150,
          128700,
          128000,
          99530,
          86767,
          84611,
          158900,
          273350,
          276000,
          274000,
          275800,
          297050,
          282150,
          282950,
          284950,
          288600,
          271850,
          279800,
          268750,
          243100,
          264850,
          265600,
          256600,
          247450,
          247950,
          251000,
          241683,
          228520,
          232677,
          263345,
          303050,
          266150,
          304800,
          334857,
          317288,
          315287,
          341213,
          379000,
          376650,
          375250,
          384050,
          400700,
          417950,
          418750,
          421700,
          427650,
          438700,
          443250,
          448350,
          453250,
          456850,
          462250,
          474950,
          485200,
          485900,
          491350,
          509150,
          521450,
          520700,
          11101695
         ]
        }
       ],
       "layout": {
        "height": 700,
        "legend": {
         "tracegroupgap": 0
        },
        "margin": {
         "b": 25,
         "l": 25,
         "r": 25,
         "t": 25
        },
        "template": {
         "data": {
          "bar": [
           {
            "error_x": {
             "color": "#2a3f5f"
            },
            "error_y": {
             "color": "#2a3f5f"
            },
            "marker": {
             "line": {
              "color": "#E5ECF6",
              "width": 0.5
             },
             "pattern": {
              "fillmode": "overlay",
              "size": 10,
              "solidity": 0.2
             }
            },
            "type": "bar"
           }
          ],
          "barpolar": [
           {
            "marker": {
             "line": {
              "color": "#E5ECF6",
              "width": 0.5
             },
             "pattern": {
              "fillmode": "overlay",
              "size": 10,
              "solidity": 0.2
             }
            },
            "type": "barpolar"
           }
          ],
          "carpet": [
           {
            "aaxis": {
             "endlinecolor": "#2a3f5f",
             "gridcolor": "white",
             "linecolor": "white",
             "minorgridcolor": "white",
             "startlinecolor": "#2a3f5f"
            },
            "baxis": {
             "endlinecolor": "#2a3f5f",
             "gridcolor": "white",
             "linecolor": "white",
             "minorgridcolor": "white",
             "startlinecolor": "#2a3f5f"
            },
            "type": "carpet"
           }
          ],
          "choropleth": [
           {
            "colorbar": {
             "outlinewidth": 0,
             "ticks": ""
            },
            "type": "choropleth"
           }
          ],
          "contour": [
           {
            "colorbar": {
             "outlinewidth": 0,
             "ticks": ""
            },
            "colorscale": [
             [
              0,
              "#0d0887"
             ],
             [
              0.1111111111111111,
              "#46039f"
             ],
             [
              0.2222222222222222,
              "#7201a8"
             ],
             [
              0.3333333333333333,
              "#9c179e"
             ],
             [
              0.4444444444444444,
              "#bd3786"
             ],
             [
              0.5555555555555556,
              "#d8576b"
             ],
             [
              0.6666666666666666,
              "#ed7953"
             ],
             [
              0.7777777777777778,
              "#fb9f3a"
             ],
             [
              0.8888888888888888,
              "#fdca26"
             ],
             [
              1,
              "#f0f921"
             ]
            ],
            "type": "contour"
           }
          ],
          "contourcarpet": [
           {
            "colorbar": {
             "outlinewidth": 0,
             "ticks": ""
            },
            "type": "contourcarpet"
           }
          ],
          "heatmap": [
           {
            "colorbar": {
             "outlinewidth": 0,
             "ticks": ""
            },
            "colorscale": [
             [
              0,
              "#0d0887"
             ],
             [
              0.1111111111111111,
              "#46039f"
             ],
             [
              0.2222222222222222,
              "#7201a8"
             ],
             [
              0.3333333333333333,
              "#9c179e"
             ],
             [
              0.4444444444444444,
              "#bd3786"
             ],
             [
              0.5555555555555556,
              "#d8576b"
             ],
             [
              0.6666666666666666,
              "#ed7953"
             ],
             [
              0.7777777777777778,
              "#fb9f3a"
             ],
             [
              0.8888888888888888,
              "#fdca26"
             ],
             [
              1,
              "#f0f921"
             ]
            ],
            "type": "heatmap"
           }
          ],
          "heatmapgl": [
           {
            "colorbar": {
             "outlinewidth": 0,
             "ticks": ""
            },
            "colorscale": [
             [
              0,
              "#0d0887"
             ],
             [
              0.1111111111111111,
              "#46039f"
             ],
             [
              0.2222222222222222,
              "#7201a8"
             ],
             [
              0.3333333333333333,
              "#9c179e"
             ],
             [
              0.4444444444444444,
              "#bd3786"
             ],
             [
              0.5555555555555556,
              "#d8576b"
             ],
             [
              0.6666666666666666,
              "#ed7953"
             ],
             [
              0.7777777777777778,
              "#fb9f3a"
             ],
             [
              0.8888888888888888,
              "#fdca26"
             ],
             [
              1,
              "#f0f921"
             ]
            ],
            "type": "heatmapgl"
           }
          ],
          "histogram": [
           {
            "marker": {
             "pattern": {
              "fillmode": "overlay",
              "size": 10,
              "solidity": 0.2
             }
            },
            "type": "histogram"
           }
          ],
          "histogram2d": [
           {
            "colorbar": {
             "outlinewidth": 0,
             "ticks": ""
            },
            "colorscale": [
             [
              0,
              "#0d0887"
             ],
             [
              0.1111111111111111,
              "#46039f"
             ],
             [
              0.2222222222222222,
              "#7201a8"
             ],
             [
              0.3333333333333333,
              "#9c179e"
             ],
             [
              0.4444444444444444,
              "#bd3786"
             ],
             [
              0.5555555555555556,
              "#d8576b"
             ],
             [
              0.6666666666666666,
              "#ed7953"
             ],
             [
              0.7777777777777778,
              "#fb9f3a"
             ],
             [
              0.8888888888888888,
              "#fdca26"
             ],
             [
              1,
              "#f0f921"
             ]
            ],
            "type": "histogram2d"
           }
          ],
          "histogram2dcontour": [
           {
            "colorbar": {
             "outlinewidth": 0,
             "ticks": ""
            },
            "colorscale": [
             [
              0,
              "#0d0887"
             ],
             [
              0.1111111111111111,
              "#46039f"
             ],
             [
              0.2222222222222222,
              "#7201a8"
             ],
             [
              0.3333333333333333,
              "#9c179e"
             ],
             [
              0.4444444444444444,
              "#bd3786"
             ],
             [
              0.5555555555555556,
              "#d8576b"
             ],
             [
              0.6666666666666666,
              "#ed7953"
             ],
             [
              0.7777777777777778,
              "#fb9f3a"
             ],
             [
              0.8888888888888888,
              "#fdca26"
             ],
             [
              1,
              "#f0f921"
             ]
            ],
            "type": "histogram2dcontour"
           }
          ],
          "mesh3d": [
           {
            "colorbar": {
             "outlinewidth": 0,
             "ticks": ""
            },
            "type": "mesh3d"
           }
          ],
          "parcoords": [
           {
            "line": {
             "colorbar": {
              "outlinewidth": 0,
              "ticks": ""
             }
            },
            "type": "parcoords"
           }
          ],
          "pie": [
           {
            "automargin": true,
            "type": "pie"
           }
          ],
          "scatter": [
           {
            "fillpattern": {
             "fillmode": "overlay",
             "size": 10,
             "solidity": 0.2
            },
            "type": "scatter"
           }
          ],
          "scatter3d": [
           {
            "line": {
             "colorbar": {
              "outlinewidth": 0,
              "ticks": ""
             }
            },
            "marker": {
             "colorbar": {
              "outlinewidth": 0,
              "ticks": ""
             }
            },
            "type": "scatter3d"
           }
          ],
          "scattercarpet": [
           {
            "marker": {
             "colorbar": {
              "outlinewidth": 0,
              "ticks": ""
             }
            },
            "type": "scattercarpet"
           }
          ],
          "scattergeo": [
           {
            "marker": {
             "colorbar": {
              "outlinewidth": 0,
              "ticks": ""
             }
            },
            "type": "scattergeo"
           }
          ],
          "scattergl": [
           {
            "marker": {
             "colorbar": {
              "outlinewidth": 0,
              "ticks": ""
             }
            },
            "type": "scattergl"
           }
          ],
          "scattermapbox": [
           {
            "marker": {
             "colorbar": {
              "outlinewidth": 0,
              "ticks": ""
             }
            },
            "type": "scattermapbox"
           }
          ],
          "scatterpolar": [
           {
            "marker": {
             "colorbar": {
              "outlinewidth": 0,
              "ticks": ""
             }
            },
            "type": "scatterpolar"
           }
          ],
          "scatterpolargl": [
           {
            "marker": {
             "colorbar": {
              "outlinewidth": 0,
              "ticks": ""
             }
            },
            "type": "scatterpolargl"
           }
          ],
          "scatterternary": [
           {
            "marker": {
             "colorbar": {
              "outlinewidth": 0,
              "ticks": ""
             }
            },
            "type": "scatterternary"
           }
          ],
          "surface": [
           {
            "colorbar": {
             "outlinewidth": 0,
             "ticks": ""
            },
            "colorscale": [
             [
              0,
              "#0d0887"
             ],
             [
              0.1111111111111111,
              "#46039f"
             ],
             [
              0.2222222222222222,
              "#7201a8"
             ],
             [
              0.3333333333333333,
              "#9c179e"
             ],
             [
              0.4444444444444444,
              "#bd3786"
             ],
             [
              0.5555555555555556,
              "#d8576b"
             ],
             [
              0.6666666666666666,
              "#ed7953"
             ],
             [
              0.7777777777777778,
              "#fb9f3a"
             ],
             [
              0.8888888888888888,
              "#fdca26"
             ],
             [
              1,
              "#f0f921"
             ]
            ],
            "type": "surface"
           }
          ],
          "table": [
           {
            "cells": {
             "fill": {
              "color": "#EBF0F8"
             },
             "line": {
              "color": "white"
             }
            },
            "header": {
             "fill": {
              "color": "#C8D4E3"
             },
             "line": {
              "color": "white"
             }
            },
            "type": "table"
           }
          ]
         },
         "layout": {
          "annotationdefaults": {
           "arrowcolor": "#2a3f5f",
           "arrowhead": 0,
           "arrowwidth": 1
          },
          "autotypenumbers": "strict",
          "coloraxis": {
           "colorbar": {
            "outlinewidth": 0,
            "ticks": ""
           }
          },
          "colorscale": {
           "diverging": [
            [
             0,
             "#8e0152"
            ],
            [
             0.1,
             "#c51b7d"
            ],
            [
             0.2,
             "#de77ae"
            ],
            [
             0.3,
             "#f1b6da"
            ],
            [
             0.4,
             "#fde0ef"
            ],
            [
             0.5,
             "#f7f7f7"
            ],
            [
             0.6,
             "#e6f5d0"
            ],
            [
             0.7,
             "#b8e186"
            ],
            [
             0.8,
             "#7fbc41"
            ],
            [
             0.9,
             "#4d9221"
            ],
            [
             1,
             "#276419"
            ]
           ],
           "sequential": [
            [
             0,
             "#0d0887"
            ],
            [
             0.1111111111111111,
             "#46039f"
            ],
            [
             0.2222222222222222,
             "#7201a8"
            ],
            [
             0.3333333333333333,
             "#9c179e"
            ],
            [
             0.4444444444444444,
             "#bd3786"
            ],
            [
             0.5555555555555556,
             "#d8576b"
            ],
            [
             0.6666666666666666,
             "#ed7953"
            ],
            [
             0.7777777777777778,
             "#fb9f3a"
            ],
            [
             0.8888888888888888,
             "#fdca26"
            ],
            [
             1,
             "#f0f921"
            ]
           ],
           "sequentialminus": [
            [
             0,
             "#0d0887"
            ],
            [
             0.1111111111111111,
             "#46039f"
            ],
            [
             0.2222222222222222,
             "#7201a8"
            ],
            [
             0.3333333333333333,
             "#9c179e"
            ],
            [
             0.4444444444444444,
             "#bd3786"
            ],
            [
             0.5555555555555556,
             "#d8576b"
            ],
            [
             0.6666666666666666,
             "#ed7953"
            ],
            [
             0.7777777777777778,
             "#fb9f3a"
            ],
            [
             0.8888888888888888,
             "#fdca26"
            ],
            [
             1,
             "#f0f921"
            ]
           ]
          },
          "colorway": [
           "#636efa",
           "#EF553B",
           "#00cc96",
           "#ab63fa",
           "#FFA15A",
           "#19d3f3",
           "#FF6692",
           "#B6E880",
           "#FF97FF",
           "#FECB52"
          ],
          "font": {
           "color": "#2a3f5f"
          },
          "geo": {
           "bgcolor": "white",
           "lakecolor": "white",
           "landcolor": "#E5ECF6",
           "showlakes": true,
           "showland": true,
           "subunitcolor": "white"
          },
          "hoverlabel": {
           "align": "left"
          },
          "hovermode": "closest",
          "mapbox": {
           "style": "light"
          },
          "paper_bgcolor": "white",
          "plot_bgcolor": "#E5ECF6",
          "polar": {
           "angularaxis": {
            "gridcolor": "white",
            "linecolor": "white",
            "ticks": ""
           },
           "bgcolor": "#E5ECF6",
           "radialaxis": {
            "gridcolor": "white",
            "linecolor": "white",
            "ticks": ""
           }
          },
          "scene": {
           "xaxis": {
            "backgroundcolor": "#E5ECF6",
            "gridcolor": "white",
            "gridwidth": 2,
            "linecolor": "white",
            "showbackground": true,
            "ticks": "",
            "zerolinecolor": "white"
           },
           "yaxis": {
            "backgroundcolor": "#E5ECF6",
            "gridcolor": "white",
            "gridwidth": 2,
            "linecolor": "white",
            "showbackground": true,
            "ticks": "",
            "zerolinecolor": "white"
           },
           "zaxis": {
            "backgroundcolor": "#E5ECF6",
            "gridcolor": "white",
            "gridwidth": 2,
            "linecolor": "white",
            "showbackground": true,
            "ticks": "",
            "zerolinecolor": "white"
           }
          },
          "shapedefaults": {
           "line": {
            "color": "#2a3f5f"
           }
          },
          "ternary": {
           "aaxis": {
            "gridcolor": "white",
            "linecolor": "white",
            "ticks": ""
           },
           "baxis": {
            "gridcolor": "white",
            "linecolor": "white",
            "ticks": ""
           },
           "bgcolor": "#E5ECF6",
           "caxis": {
            "gridcolor": "white",
            "linecolor": "white",
            "ticks": ""
           }
          },
          "title": {
           "x": 0.05
          },
          "xaxis": {
           "automargin": true,
           "gridcolor": "white",
           "linecolor": "white",
           "ticks": "",
           "title": {
            "standoff": 15
           },
           "zerolinecolor": "white",
           "zerolinewidth": 2
          },
          "yaxis": {
           "automargin": true,
           "gridcolor": "white",
           "linecolor": "white",
           "ticks": "",
           "title": {
            "standoff": 15
           },
           "zerolinecolor": "white",
           "zerolinewidth": 2
          }
         }
        },
        "width": 1100
       }
      }
     },
     "metadata": {},
     "output_type": "display_data"
    }
   ],
   "source": [
    "treeMap2 = mypy_dv.plot_px_treemap(\n",
    "    data=myTM.reset_index()\n",
    "    ,levels=[\"Jahr\", \"BEG_LANG\"]\n",
    "    ,values=\"med_BES\"\n",
    "    ,color=\"BEG_LANG\"\n",
    "    ,myHeaderTitle=\"Beschäftigte nach Beschäftigungsgrad, seit \"+data_min_date\n",
    "    ,color_discrete_map={'(?)':'lightgrey', 'Wohnen':'lightblue'}                \n",
    "    #,margin_val_bottom=25\n",
    ")\n",
    "\n",
    "treeMap2 "
   ]
  },
  {
   "cell_type": "code",
   "execution_count": null,
   "metadata": {},
   "outputs": [
    {
     "name": "stdout",
     "output_type": "stream",
     "text": [
      "wir400od4004_tm_jahr_besch_bg_2024-05-28.png\n"
     ]
    },
    {
     "ename": "AttributeError",
     "evalue": "'NoneType' object has no attribute 'write_image'",
     "output_type": "error",
     "traceback": [
      "\u001b[1;31m---------------------------------------------------------------------------\u001b[0m",
      "\u001b[1;31mAttributeError\u001b[0m                            Traceback (most recent call last)",
      "Cell \u001b[1;32mIn[95], line 4\u001b[0m\n\u001b[0;32m      1\u001b[0m grafic_name \u001b[38;5;241m=\u001b[39m package_name\u001b[38;5;241m+\u001b[39m\u001b[38;5;124m\"\u001b[39m\u001b[38;5;124m_tm_jahr_besch_bg\u001b[39m\u001b[38;5;124m\"\u001b[39m\u001b[38;5;241m+\u001b[39mdate_today\u001b[38;5;241m+\u001b[39m\u001b[38;5;124m\"\u001b[39m\u001b[38;5;124m.png\u001b[39m\u001b[38;5;124m\"\u001b[39m\n\u001b[0;32m      2\u001b[0m \u001b[38;5;28mprint\u001b[39m(grafic_name)\n\u001b[1;32m----> 4\u001b[0m \u001b[43mtreeMap2\u001b[49m\u001b[38;5;241;43m.\u001b[39;49m\u001b[43mwrite_image\u001b[49m(\u001b[38;5;124m'\u001b[39m\u001b[38;5;124mgrafiken_testing/\u001b[39m\u001b[38;5;124m'\u001b[39m\u001b[38;5;241m+\u001b[39mgrafic_name)\n",
      "\u001b[1;31mAttributeError\u001b[0m: 'NoneType' object has no attribute 'write_image'"
     ]
    }
   ],
   "source": [
    "grafic_name = package_name+\"_tm_jahr_besch_bg\"+date_today+\".png\"\n",
    "print(grafic_name)\n",
    "\n",
    "treeMap2.write_image('grafiken_testing/'+grafic_name)"
   ]
  },
  {
   "cell_type": "markdown",
   "metadata": {},
   "source": [
    "## ---------------------- hier Plausi beendet\n",
    "\n",
    "Übersicht zu LOSD-Jobs:\n",
    "[Sharepoint](https://kollaboration.intranet.stzh.ch/orga/ssz-produkte/Lists/SASA_Outputs/DispForm.aspx?ID=875&Source=https%3A%2F%2Fkollaboration%2Eintranet%2Estzh%2Ech%2Forga%2Fssz%2Dprodukte%2FLists%2FSASA%5FOutputs%2FOGD%2520Metadaten%2Easpx%23InplviewHasheb69a2c0%2Ded94%2D4ef2%2D91a5%2D3b19f038e442%3DFilterField1%253DMetadaten%25255Fx002d%25255FPublikations%25255Fx00%2DFilterValue1%253DINT&ContentTypeId=0x0100988EAF029F1EFE4CA675F53C32A5D53D01006DBC563E6FBE9E4EB6FDC780799752E1)"
   ]
  }
 ],
 "metadata": {
  "kernelspec": {
   "display_name": "Python 3 (ipykernel)",
   "language": "python",
   "name": "python3"
  },
  "language_info": {
   "codemirror_mode": {
    "name": "ipython",
    "version": 3
   },
   "file_extension": ".py",
   "mimetype": "text/x-python",
   "name": "python",
   "nbconvert_exporter": "python",
   "pygments_lexer": "ipython3",
   "version": "3.11.8"
  }
 },
 "nbformat": 4,
 "nbformat_minor": 4
}
