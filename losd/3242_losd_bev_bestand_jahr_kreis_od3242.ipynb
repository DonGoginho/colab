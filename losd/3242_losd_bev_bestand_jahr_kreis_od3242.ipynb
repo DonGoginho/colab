{
 "cells": [
  {
   "attachments": {},
   "cell_type": "markdown",
   "metadata": {},
   "source": [
    "# Testing LOSD\n",
    "### Bevölkerung nach Stadtkreis, seit 1993\n",
    "\n",
    "Wirtschaftliche Wohnbevölkerung der Stadt Zürich nach Stadtkreis und Jahr, seit 1993.\n",
    "\n",
    "https://data.integ.stadt-zuerich.ch/dataset/bev324od3242\n",
    "\n",
    "Datum: 12.02.2024\n",
    "\n",
    "### Colab\n",
    "Mit Colab kann das Jupyter-Notebook interaktiv im Browser gestartet werden. \n",
    "\n",
    "Klicke auf den Button:\n",
    "[![Open In Colab](https://colab.research.google.com/assets/colab-badge.svg)](https://github.com/DonGoginho/colab/blob/main/losd/3242_losd_bev_bestand_jahr_kreis_od3242.ipynb)\n"
   ]
  },
  {
   "cell_type": "markdown",
   "metadata": {},
   "source": [
    "### Importiere die notwendigen Packages"
   ]
  },
  {
   "cell_type": "code",
   "execution_count": 1,
   "metadata": {},
   "outputs": [],
   "source": [
    "#%pip install altair datetime folium geopandas io requests matplotlib numpy pandas seaborn plotly"
   ]
  },
  {
   "cell_type": "code",
   "execution_count": 2,
   "metadata": {},
   "outputs": [],
   "source": [
    "import altair as alt\n",
    "import datetime\n",
    "import folium \n",
    "import geopandas as gpd\n",
    "import io\n",
    "import matplotlib.pyplot as plt\n",
    "import numpy as np\n",
    "import pandas as pd\n",
    "#import pivottablejs\n",
    "#from pivottablejs import pivot_ui\n",
    "import plotly.express as px\n",
    "import requests\n",
    "import seaborn as sns"
   ]
  },
  {
   "cell_type": "code",
   "execution_count": 3,
   "metadata": {},
   "outputs": [],
   "source": [
    "SSL_VERIFY = False\n",
    "# evtl. SSL_VERIFY auf False setzen wenn die Verbindung zu https://www.gemeinderat-zuerich.ch nicht klappt (z.B. wegen Proxy)\n",
    "# Um die SSL Verifikation auszustellen, bitte die nächste Zeile einkommentieren (\"#\" entfernen)\n",
    "# SSL_VERIFY = False"
   ]
  },
  {
   "cell_type": "code",
   "execution_count": 4,
   "metadata": {},
   "outputs": [],
   "source": [
    "if not SSL_VERIFY:\n",
    "    import urllib3\n",
    "    urllib3.disable_warnings()"
   ]
  },
  {
   "cell_type": "markdown",
   "metadata": {},
   "source": [
    "Definiere Settings. Hier das Zahlenformat von Float-Werten (z.B. *'{:,.2f}'.format* mit Komma als Tausenderzeichen), "
   ]
  },
  {
   "cell_type": "code",
   "execution_count": 5,
   "metadata": {},
   "outputs": [],
   "source": [
    "#pd.options.display.float_format = lambda x : '{:,.1f}'.format(x) if (np.isnan(x) | np.isinf(x)) else '{:,.0f}'.format(x) if int(x) == x else '{:,.1f}'.format(x)\n",
    "pd.options.display.float_format = '{:.0f}'.format\n",
    "pd.set_option('display.width', 100)\n",
    "pd.set_option('display.max_columns', 15)"
   ]
  },
  {
   "cell_type": "markdown",
   "metadata": {},
   "source": [
    "### Setze einige Pfadvariabeln"
   ]
  },
  {
   "cell_type": "markdown",
   "metadata": {},
   "source": [
    "**BITTE HIER ANPASSEN**"
   ]
  },
  {
   "cell_type": "code",
   "execution_count": 6,
   "metadata": {},
   "outputs": [
    {
     "name": "stdout",
     "output_type": "stream",
     "text": [
      "BEV324OD3242\n"
     ]
    }
   ],
   "source": [
    "package_name = \"bev324od3242\"\n",
    "package_name = package_name.upper()\n",
    "print(package_name)"
   ]
  },
  {
   "cell_type": "code",
   "execution_count": 7,
   "metadata": {
    "tags": []
   },
   "outputs": [],
   "source": [
    "dataset_name = \"bev324od3242.csv\""
   ]
  },
  {
   "cell_type": "markdown",
   "metadata": {},
   "source": [
    "**Statische Pfade CKAN-URLs**"
   ]
  },
  {
   "cell_type": "code",
   "execution_count": 8,
   "metadata": {
    "tags": []
   },
   "outputs": [],
   "source": [
    "ckan_integ_url =\"https://data.integ.stadt-zuerich.ch/dataset/\"\n",
    "ld_integ_url =\"https://ld.integ.stadt-zuerich.ch/statistics/view/\""
   ]
  },
  {
   "cell_type": "code",
   "execution_count": 9,
   "metadata": {},
   "outputs": [],
   "source": [
    "ckan_prod_url =\"https://data.stadt-zuerich.ch/dataset/\"\n",
    "ld_prod_url =\"https://ld.stadt-zuerich.ch/statistics/view/\""
   ]
  },
  {
   "cell_type": "markdown",
   "metadata": {
    "tags": []
   },
   "source": [
    "### Checke die Metadaten auf der CKAN INTEG- oder PROD-Webseite\n",
    "\n",
    "Offenbar lassen sich aktuell im Markdownteil keine Variabeln ausführen, daher gehen wir wie unten gezeigt vor. Siehe dazu: https://data-dive.com/jupyterlab-markdown-cells-include-variables\n",
    "Instead of setting the cell to Markdown, create Markdown from withnin a code cell! We can just use python variable replacement syntax to make the text dynamic"
   ]
  },
  {
   "cell_type": "code",
   "execution_count": 10,
   "metadata": {},
   "outputs": [],
   "source": [
    "from IPython.display import Markdown as md"
   ]
  },
  {
   "cell_type": "code",
   "execution_count": 11,
   "metadata": {},
   "outputs": [
    {
     "data": {
      "text/markdown": [
       " **1. Dataset auf INTEG-Datakatalog:** Link https://data.integ.stadt-zuerich.ch/dataset/bev324od3242 "
      ],
      "text/plain": [
       "<IPython.core.display.Markdown object>"
      ]
     },
     "execution_count": 11,
     "metadata": {},
     "output_type": "execute_result"
    }
   ],
   "source": [
    "md(\" **1. Dataset auf INTEG-Datakatalog:** Link {} \".format(ckan_integ_url+package_name.lower()))"
   ]
  },
  {
   "cell_type": "code",
   "execution_count": 12,
   "metadata": {},
   "outputs": [
    {
     "data": {
      "text/markdown": [
       " **2. Dataset auf INTEG-LD:** Link https://ld.integ.stadt-zuerich.ch/statistics/view/BEV324OD3242 "
      ],
      "text/plain": [
       "<IPython.core.display.Markdown object>"
      ]
     },
     "execution_count": 12,
     "metadata": {},
     "output_type": "execute_result"
    }
   ],
   "source": [
    "md(\" **2. Dataset auf INTEG-LD:** Link {} \".format(ld_integ_url+package_name.upper()))"
   ]
  },
  {
   "cell_type": "code",
   "execution_count": 13,
   "metadata": {},
   "outputs": [
    {
     "data": {
      "text/markdown": [
       " **3. Dataset auf PROD-Datakatalog:** Link https://data.stadt-zuerich.ch/dataset/bev324od3242 "
      ],
      "text/plain": [
       "<IPython.core.display.Markdown object>"
      ]
     },
     "execution_count": 13,
     "metadata": {},
     "output_type": "execute_result"
    }
   ],
   "source": [
    "md(\" **3. Dataset auf PROD-Datakatalog:** Link {} \".format(ckan_prod_url+package_name.lower()))"
   ]
  },
  {
   "cell_type": "code",
   "execution_count": 14,
   "metadata": {},
   "outputs": [
    {
     "data": {
      "text/markdown": [
       " **4. Dataset auf PROD-LD:** Link https://ld.stadt-zuerich.ch/statistics/view/BEV324OD3242 "
      ],
      "text/plain": [
       "<IPython.core.display.Markdown object>"
      ]
     },
     "execution_count": 14,
     "metadata": {},
     "output_type": "execute_result"
    }
   ],
   "source": [
    "md(\" **4. Dataset auf PROD-LD:** Link {} \".format(ld_prod_url+package_name.upper()))"
   ]
  },
  {
   "cell_type": "markdown",
   "metadata": {
    "tags": []
   },
   "source": [
    "### Setze ein paar Zeitvariabeln\n",
    "Zum Unterschied zwischen import datetime und from datedtime import datetime, siehe [Link](https://stackoverflow.com/questions/15707532/import-datetime-v-s-from-datetime-import-datetime)\n",
    "Zuerst die Zeitvariabeln als Strings"
   ]
  },
  {
   "cell_type": "code",
   "execution_count": 15,
   "metadata": {},
   "outputs": [],
   "source": [
    "now = datetime.date.today()\n",
    "year_today = now.strftime(\"%Y\")"
   ]
  },
  {
   "cell_type": "markdown",
   "metadata": {},
   "source": [
    "Und hier noch die Zeitvariabeln als Integers:\n",
    "- `aktuellesJahr`\n",
    "- `aktuellerMonat`: Der gerade jetzt aktuelle Monat\n",
    "- `selectedMonat`: Der aktuellste Monat in den Daten. In der Regel zwei Monate her."
   ]
  },
  {
   "cell_type": "code",
   "execution_count": 16,
   "metadata": {},
   "outputs": [],
   "source": [
    "int_times = now.timetuple()\n",
    "aktuellesJahr = int_times[0]\n",
    "aktuellerMonat = int_times[1]\n",
    "selectedMonat = int_times[1]-2\n",
    "#print(aktuellesJahr, aktuellerMonat,'datenstand: ', selectedMonat, int_times)"
   ]
  },
  {
   "cell_type": "markdown",
   "metadata": {
    "tags": []
   },
   "source": [
    "### Importiere den Datensatz \n",
    "\n",
    "Definiere zuerst folgende Werte:\n",
    "1) Kommt der Datensatz von PROD oder INTEG?\n",
    "2) Beziehst Du den Datensatz direkt ab der DROPZONE oder aus dem INTERNET?"
   ]
  },
  {
   "cell_type": "code",
   "execution_count": 17,
   "metadata": {},
   "outputs": [
    {
     "name": "stdout",
     "output_type": "stream",
     "text": [
      "int - web\n"
     ]
    }
   ],
   "source": [
    "#Die Datasets sind nur zum Testen auf INT-DWH-Dropzone. Wenn der Test vorbei ist, sind sie auf PROD. \n",
    "# Über den Status kann man einfach switchen\n",
    "\n",
    "status = \"int\"; #prod vs something else\n",
    "data_source = \"web\"; #dropzone vs something else\n",
    "print(status+\" - \"+ data_source)"
   ]
  },
  {
   "cell_type": "code",
   "execution_count": 18,
   "metadata": {
    "tags": []
   },
   "outputs": [
    {
     "name": "stdout",
     "output_type": "stream",
     "text": [
      "fp lautet:https://ld.integ.stadt-zuerich.ch/statistics/view/BEV324OD3242/observation?format=csv\n"
     ]
    }
   ],
   "source": [
    "# Filepath\n",
    "if status == \"prod\":\n",
    "    if data_source == \"dropzone\":\n",
    "            #fp = dropzone_path_prod+\"\\\\\"+ package_name +\"\\\\\"+dataset_name\n",
    "            print(\"fp lautet:\"+fp)\n",
    "    else:\n",
    "        #fp = ckan_prod_url+package_name+'/download/'+dataset_name\n",
    "        fp = ld_prod_url+package_name+'/observation?format=csv'\n",
    "        print(\"fp lautet:\"+fp)\n",
    "else:\n",
    "    if data_source == \"dropzone\":\n",
    "        #fp = dropzone_path_integ+\"\\\\\"+ package_name +\"\\\\\"+dataset_name\n",
    "        print(\"fp lautet:\"+fp)\n",
    "    else:\n",
    "        #fp = ckan_integ_url+package_name+'/download/'+dataset_name\n",
    "        fp = ld_integ_url+package_name+'/observation?format=csv'\n",
    "        print(\"fp lautet:\"+fp)\n"
   ]
  },
  {
   "cell_type": "code",
   "execution_count": 19,
   "metadata": {},
   "outputs": [
    {
     "name": "stdout",
     "output_type": "stream",
     "text": [
      "web\n"
     ]
    },
    {
     "data": {
      "text/plain": [
       "ZEIT_lang    datetime64[ns]\n",
       "ZEIT_code            object\n",
       "RAUM_lang            object\n",
       "RAUM_code            object\n",
       "BEW                 float64\n",
       "dtype: object"
      ]
     },
     "execution_count": 19,
     "metadata": {},
     "output_type": "execute_result"
    }
   ],
   "source": [
    "# Read the data\n",
    "if data_source == \"dropzone\":\n",
    "    data2betested = pd.read_csv(\n",
    "        fp\n",
    "        , sep=','\n",
    "        ,parse_dates=['StichtagDatJahr']\n",
    "        ,low_memory=False\n",
    "    )\n",
    "    print(\"dropzone\")\n",
    "else:\n",
    "    r = requests.get(fp, verify=False)  \n",
    "    r.encoding = 'utf-8'\n",
    "    data2betested = pd.read_csv(\n",
    "        io.StringIO(r.text)\n",
    "        ,parse_dates=['ZEIT_lang']\n",
    "        ,low_memory=False)\n",
    "    print(\"web\")\n",
    "\n",
    "data2betested.dtypes\n",
    "#data2betested.sort_values(\"ZEIT_lang\", ascending=True)"
   ]
  },
  {
   "cell_type": "code",
   "execution_count": 20,
   "metadata": {},
   "outputs": [
    {
     "data": {
      "text/html": [
       "<div>\n",
       "<style scoped>\n",
       "    .dataframe tbody tr th:only-of-type {\n",
       "        vertical-align: middle;\n",
       "    }\n",
       "\n",
       "    .dataframe tbody tr th {\n",
       "        vertical-align: top;\n",
       "    }\n",
       "\n",
       "    .dataframe thead th {\n",
       "        text-align: right;\n",
       "    }\n",
       "</style>\n",
       "<table border=\"1\" class=\"dataframe\">\n",
       "  <thead>\n",
       "    <tr style=\"text-align: right;\">\n",
       "      <th></th>\n",
       "      <th>ZEIT_lang</th>\n",
       "      <th>ZEIT_code</th>\n",
       "      <th>RAUM_lang</th>\n",
       "      <th>RAUM_code</th>\n",
       "      <th>BEW</th>\n",
       "    </tr>\n",
       "  </thead>\n",
       "  <tbody>\n",
       "    <tr>\n",
       "      <th>3</th>\n",
       "      <td>2023-12-31</td>\n",
       "      <td>Z31122023</td>\n",
       "      <td>Kreis 6 (ab 1934)</td>\n",
       "      <td>R01200</td>\n",
       "      <td>35688</td>\n",
       "    </tr>\n",
       "    <tr>\n",
       "      <th>1</th>\n",
       "      <td>2022-12-31</td>\n",
       "      <td>Z31122022</td>\n",
       "      <td>Kreis 5 (ab 1915)</td>\n",
       "      <td>R00800</td>\n",
       "      <td>15888</td>\n",
       "    </tr>\n",
       "  </tbody>\n",
       "</table>\n",
       "</div>"
      ],
      "text/plain": [
       "   ZEIT_lang  ZEIT_code          RAUM_lang RAUM_code   BEW\n",
       "3 2023-12-31  Z31122023  Kreis 6 (ab 1934)    R01200 35688\n",
       "1 2022-12-31  Z31122022  Kreis 5 (ab 1915)    R00800 15888"
      ]
     },
     "execution_count": 20,
     "metadata": {},
     "output_type": "execute_result"
    }
   ],
   "source": [
    "data2betested.sort_values(\"ZEIT_lang\", ascending=False).head(2)"
   ]
  },
  {
   "cell_type": "markdown",
   "metadata": {},
   "source": [
    "Berechne weitere Attribute falls notwendig"
   ]
  },
  {
   "cell_type": "markdown",
   "metadata": {},
   "source": [
    "`ACHTUNG`!\n",
    "\n",
    "In Pandas kann `datetime` Daten ab dem Jahr **1677** speichern. Das liegt daran, dass Pandas datetime64[ns] auf der Basis von NumPy verwendet, das wiederum den Datentyp datetime64 bereitstellt, der auf dem Standard des Proleptischen Gregorianischen Kalenders basiert. Dieser Kalender geht bis zum Jahr 1677 zurück.\n",
    "\n",
    "Alternative: Abfangen des Problems mit Funktion:\n",
    "\n",
    "-----------------------------------------------"
   ]
  },
  {
   "cell_type": "code",
   "execution_count": 21,
   "metadata": {},
   "outputs": [],
   "source": [
    "def convert_to_datetime(date_str):\n",
    "    try:\n",
    "        date = pd.to_datetime(date_str)\n",
    "        if date.year < 1677:\n",
    "            raise ValueError(\"Datum liegt außerhalb des gültigen Bereichs für datetime-Objekte.\")\n",
    "        return date\n",
    "    except ValueError:\n",
    "        return pd.NaT  # Falls ein ungültiges Datum übergeben wurde, gib NaT (Not a Timestamp) zurück\n"
   ]
  },
  {
   "cell_type": "markdown",
   "metadata": {},
   "source": [
    "-------------------------------------------------------"
   ]
  },
  {
   "cell_type": "code",
   "execution_count": 22,
   "metadata": {},
   "outputs": [
    {
     "data": {
      "text/html": [
       "<div>\n",
       "<style scoped>\n",
       "    .dataframe tbody tr th:only-of-type {\n",
       "        vertical-align: middle;\n",
       "    }\n",
       "\n",
       "    .dataframe tbody tr th {\n",
       "        vertical-align: top;\n",
       "    }\n",
       "\n",
       "    .dataframe thead th {\n",
       "        text-align: right;\n",
       "    }\n",
       "</style>\n",
       "<table border=\"1\" class=\"dataframe\">\n",
       "  <thead>\n",
       "    <tr style=\"text-align: right;\">\n",
       "      <th></th>\n",
       "      <th>ZEIT_lang</th>\n",
       "      <th>ZEIT_code</th>\n",
       "      <th>RAUM_lang</th>\n",
       "      <th>RAUM_code</th>\n",
       "      <th>BEW</th>\n",
       "      <th>StichtagDatJahr</th>\n",
       "      <th>StichtagDatJahr_str</th>\n",
       "      <th>Jahr_nbr</th>\n",
       "      <th>RAUM_my_sort</th>\n",
       "    </tr>\n",
       "  </thead>\n",
       "  <tbody>\n",
       "    <tr>\n",
       "      <th>3</th>\n",
       "      <td>2023-12-31</td>\n",
       "      <td>Z31122023</td>\n",
       "      <td>Kreis 6 (ab 1934)</td>\n",
       "      <td>R01200</td>\n",
       "      <td>35688</td>\n",
       "      <td>2023-12-31</td>\n",
       "      <td>2023-12-31</td>\n",
       "      <td>2023</td>\n",
       "      <td>1200</td>\n",
       "    </tr>\n",
       "    <tr>\n",
       "      <th>1</th>\n",
       "      <td>2022-12-31</td>\n",
       "      <td>Z31122022</td>\n",
       "      <td>Kreis 5 (ab 1915)</td>\n",
       "      <td>R00800</td>\n",
       "      <td>15888</td>\n",
       "      <td>2022-12-31</td>\n",
       "      <td>2022-12-31</td>\n",
       "      <td>2022</td>\n",
       "      <td>800</td>\n",
       "    </tr>\n",
       "    <tr>\n",
       "      <th>2</th>\n",
       "      <td>2021-12-31</td>\n",
       "      <td>Z31122021</td>\n",
       "      <td>Kreis 1 (Stadtgebiet vor 1893)</td>\n",
       "      <td>R10000</td>\n",
       "      <td>5817</td>\n",
       "      <td>2021-12-31</td>\n",
       "      <td>2021-12-31</td>\n",
       "      <td>2021</td>\n",
       "      <td>10000</td>\n",
       "    </tr>\n",
       "    <tr>\n",
       "      <th>4</th>\n",
       "      <td>2020-12-31</td>\n",
       "      <td>Z31122020</td>\n",
       "      <td>altes Quartier Schwamendingen (1934-1969); Kre...</td>\n",
       "      <td>R01700</td>\n",
       "      <td>32845</td>\n",
       "      <td>2020-12-31</td>\n",
       "      <td>2020-12-31</td>\n",
       "      <td>2020</td>\n",
       "      <td>1700</td>\n",
       "    </tr>\n",
       "    <tr>\n",
       "      <th>5</th>\n",
       "      <td>2018-12-31</td>\n",
       "      <td>Z31122018</td>\n",
       "      <td>Kreis 8 (ab 1915)</td>\n",
       "      <td>R01100</td>\n",
       "      <td>16788</td>\n",
       "      <td>2018-12-31</td>\n",
       "      <td>2018-12-31</td>\n",
       "      <td>2018</td>\n",
       "      <td>1100</td>\n",
       "    </tr>\n",
       "    <tr>\n",
       "      <th>0</th>\n",
       "      <td>1956-12-31</td>\n",
       "      <td>Z31121956</td>\n",
       "      <td>altes Quartier Schwamendingen (1934-1969); Kre...</td>\n",
       "      <td>R01700</td>\n",
       "      <td>26069</td>\n",
       "      <td>1956-12-31</td>\n",
       "      <td>1956-12-31</td>\n",
       "      <td>1956</td>\n",
       "      <td>1700</td>\n",
       "    </tr>\n",
       "  </tbody>\n",
       "</table>\n",
       "</div>"
      ],
      "text/plain": [
       "   ZEIT_lang  ZEIT_code                                          RAUM_lang RAUM_code   BEW  \\\n",
       "3 2023-12-31  Z31122023                                  Kreis 6 (ab 1934)    R01200 35688   \n",
       "1 2022-12-31  Z31122022                                  Kreis 5 (ab 1915)    R00800 15888   \n",
       "2 2021-12-31  Z31122021                     Kreis 1 (Stadtgebiet vor 1893)    R10000  5817   \n",
       "4 2020-12-31  Z31122020  altes Quartier Schwamendingen (1934-1969); Kre...    R01700 32845   \n",
       "5 2018-12-31  Z31122018                                  Kreis 8 (ab 1915)    R01100 16788   \n",
       "0 1956-12-31  Z31121956  altes Quartier Schwamendingen (1934-1969); Kre...    R01700 26069   \n",
       "\n",
       "  StichtagDatJahr StichtagDatJahr_str  Jahr_nbr  RAUM_my_sort  \n",
       "3      2023-12-31          2023-12-31      2023          1200  \n",
       "1      2022-12-31          2022-12-31      2022           800  \n",
       "2      2021-12-31          2021-12-31      2021         10000  \n",
       "4      2020-12-31          2020-12-31      2020          1700  \n",
       "5      2018-12-31          2018-12-31      2018          1100  \n",
       "0      1956-12-31          1956-12-31      1956          1700  "
      ]
     },
     "execution_count": 22,
     "metadata": {},
     "output_type": "execute_result"
    }
   ],
   "source": [
    "data2betested = (\n",
    "    data2betested\n",
    "    .copy()\n",
    "    .assign(\n",
    "        StichtagDatJahr = lambda x: x.ZEIT_lang.apply(convert_to_datetime),\n",
    "        #StichtagDatJahr = lambda x: x.ZEIT_lang,\n",
    "        StichtagDatJahr_str = lambda x: x.ZEIT_lang.astype(str),\n",
    "        #Jahr = lambda x: x.ZEIT_lang.dt.year,\n",
    "        Jahr_nbr = lambda x: x.ZEIT_code.str[-4:].astype(int),    \n",
    "        RAUM_my_sort = lambda x: x.RAUM_code.str[1:].astype(int),\n",
    "\n",
    "    )\n",
    "    .sort_values('ZEIT_lang', ascending=False)\n",
    "    )\n",
    "data2betested"
   ]
  },
  {
   "cell_type": "markdown",
   "metadata": {},
   "source": [
    "Minimales und maximales Jahr im Datensatz"
   ]
  },
  {
   "cell_type": "code",
   "execution_count": 23,
   "metadata": {},
   "outputs": [
    {
     "name": "stdout",
     "output_type": "stream",
     "text": [
      "Die Daten haben ein Minimumjahr von 1956 und ein Maximumjahr von 2023\n"
     ]
    }
   ],
   "source": [
    "data_max_date = str(max(data2betested.StichtagDatJahr).year)\n",
    "data_min_date = str(min(data2betested.StichtagDatJahr).year)\n",
    "\n",
    "print(f\"Die Daten haben ein Minimumjahr von {data_min_date} und ein Maximumjahr von {data_max_date}\")"
   ]
  },
  {
   "cell_type": "markdown",
   "metadata": {},
   "source": [
    "Zeitbereich aus den Daten:"
   ]
  },
  {
   "cell_type": "code",
   "execution_count": 24,
   "metadata": {},
   "outputs": [
    {
     "name": "stdout",
     "output_type": "stream",
     "text": [
      "Die Daten haben ein Minimumjahr von 1956 und ein Maximumjahr von 2023\n"
     ]
    }
   ],
   "source": [
    "data_max_date = str(max(data2betested.Jahr_nbr))\n",
    "\n",
    "try:\n",
    "    if min(data2betested.Jahr_nbr) < 1678:\n",
    "        data_min_date=\"1688\"\n",
    "    else:\n",
    "        data_min_date = str(min(data2betested.Jahr_nbr))\n",
    "except ValueError:\n",
    "    print(\"Fehler...\")\n",
    "\n",
    "print(f\"Die Daten haben ein Minimumjahr von {data_min_date} und ein Maximumjahr von {data_max_date}\")\n"
   ]
  },
  {
   "cell_type": "markdown",
   "metadata": {},
   "source": [
    "### Einfache Datentests"
   ]
  },
  {
   "cell_type": "code",
   "execution_count": 25,
   "metadata": {},
   "outputs": [
    {
     "data": {
      "text/html": [
       "<div>\n",
       "<style scoped>\n",
       "    .dataframe tbody tr th:only-of-type {\n",
       "        vertical-align: middle;\n",
       "    }\n",
       "\n",
       "    .dataframe tbody tr th {\n",
       "        vertical-align: top;\n",
       "    }\n",
       "\n",
       "    .dataframe thead th {\n",
       "        text-align: right;\n",
       "    }\n",
       "</style>\n",
       "<table border=\"1\" class=\"dataframe\">\n",
       "  <thead>\n",
       "    <tr style=\"text-align: right;\">\n",
       "      <th></th>\n",
       "      <th>3</th>\n",
       "      <th>1</th>\n",
       "    </tr>\n",
       "  </thead>\n",
       "  <tbody>\n",
       "    <tr>\n",
       "      <th>ZEIT_lang</th>\n",
       "      <td>2023-12-31 00:00:00</td>\n",
       "      <td>2022-12-31 00:00:00</td>\n",
       "    </tr>\n",
       "    <tr>\n",
       "      <th>ZEIT_code</th>\n",
       "      <td>Z31122023</td>\n",
       "      <td>Z31122022</td>\n",
       "    </tr>\n",
       "    <tr>\n",
       "      <th>RAUM_lang</th>\n",
       "      <td>Kreis 6 (ab 1934)</td>\n",
       "      <td>Kreis 5 (ab 1915)</td>\n",
       "    </tr>\n",
       "    <tr>\n",
       "      <th>RAUM_code</th>\n",
       "      <td>R01200</td>\n",
       "      <td>R00800</td>\n",
       "    </tr>\n",
       "    <tr>\n",
       "      <th>BEW</th>\n",
       "      <td>35688</td>\n",
       "      <td>15888</td>\n",
       "    </tr>\n",
       "    <tr>\n",
       "      <th>StichtagDatJahr</th>\n",
       "      <td>2023-12-31 00:00:00</td>\n",
       "      <td>2022-12-31 00:00:00</td>\n",
       "    </tr>\n",
       "    <tr>\n",
       "      <th>StichtagDatJahr_str</th>\n",
       "      <td>2023-12-31</td>\n",
       "      <td>2022-12-31</td>\n",
       "    </tr>\n",
       "    <tr>\n",
       "      <th>Jahr_nbr</th>\n",
       "      <td>2023</td>\n",
       "      <td>2022</td>\n",
       "    </tr>\n",
       "    <tr>\n",
       "      <th>RAUM_my_sort</th>\n",
       "      <td>1200</td>\n",
       "      <td>800</td>\n",
       "    </tr>\n",
       "  </tbody>\n",
       "</table>\n",
       "</div>"
      ],
      "text/plain": [
       "                                       3                    1\n",
       "ZEIT_lang            2023-12-31 00:00:00  2022-12-31 00:00:00\n",
       "ZEIT_code                      Z31122023            Z31122022\n",
       "RAUM_lang              Kreis 6 (ab 1934)    Kreis 5 (ab 1915)\n",
       "RAUM_code                         R01200               R00800\n",
       "BEW                                35688                15888\n",
       "StichtagDatJahr      2023-12-31 00:00:00  2022-12-31 00:00:00\n",
       "StichtagDatJahr_str           2023-12-31           2022-12-31\n",
       "Jahr_nbr                            2023                 2022\n",
       "RAUM_my_sort                        1200                  800"
      ]
     },
     "execution_count": 25,
     "metadata": {},
     "output_type": "execute_result"
    }
   ],
   "source": [
    "data2betested.head(2).T"
   ]
  },
  {
   "cell_type": "code",
   "execution_count": 26,
   "metadata": {},
   "outputs": [
    {
     "name": "stdout",
     "output_type": "stream",
     "text": [
      "<class 'pandas.core.frame.DataFrame'>\n",
      "Int64Index: 6 entries, 3 to 0\n",
      "Data columns (total 9 columns):\n",
      " #   Column               Non-Null Count  Dtype         \n",
      "---  ------               --------------  -----         \n",
      " 0   ZEIT_lang            6 non-null      datetime64[ns]\n",
      " 1   ZEIT_code            6 non-null      object        \n",
      " 2   RAUM_lang            6 non-null      object        \n",
      " 3   RAUM_code            6 non-null      object        \n",
      " 4   BEW                  6 non-null      float64       \n",
      " 5   StichtagDatJahr      6 non-null      datetime64[ns]\n",
      " 6   StichtagDatJahr_str  6 non-null      object        \n",
      " 7   Jahr_nbr             6 non-null      int32         \n",
      " 8   RAUM_my_sort         6 non-null      int32         \n",
      "dtypes: datetime64[ns](2), float64(1), int32(2), object(4)\n",
      "memory usage: 1.9 KB\n"
     ]
    }
   ],
   "source": [
    "data2betested.info(memory_usage='deep', verbose=True)"
   ]
  },
  {
   "cell_type": "code",
   "execution_count": 27,
   "metadata": {},
   "outputs": [
    {
     "name": "stdout",
     "output_type": "stream",
     "text": [
      "The dataset has 6 rows (observations) and 9 columns (variables).\n",
      "There seem to be 0 exact duplicates in the data.\n"
     ]
    }
   ],
   "source": [
    "print(f'The dataset has {data2betested.shape[0]:,.0f} rows (observations) and {data2betested.shape[1]:,.0f} columns (variables).')\n",
    "print(f'There seem to be {data2betested.duplicated().sum()} exact duplicates in the data.')"
   ]
  },
  {
   "cell_type": "markdown",
   "metadata": {},
   "source": [
    "Welches sind die Quartiere ohne Werte bei BEW?"
   ]
  },
  {
   "cell_type": "code",
   "execution_count": 28,
   "metadata": {},
   "outputs": [
    {
     "data": {
      "text/html": [
       "<div>\n",
       "<style scoped>\n",
       "    .dataframe tbody tr th:only-of-type {\n",
       "        vertical-align: middle;\n",
       "    }\n",
       "\n",
       "    .dataframe tbody tr th {\n",
       "        vertical-align: top;\n",
       "    }\n",
       "\n",
       "    .dataframe thead th {\n",
       "        text-align: right;\n",
       "    }\n",
       "</style>\n",
       "<table border=\"1\" class=\"dataframe\">\n",
       "  <thead>\n",
       "    <tr style=\"text-align: right;\">\n",
       "      <th></th>\n",
       "      <th>ZEIT_lang</th>\n",
       "      <th>ZEIT_code</th>\n",
       "      <th>RAUM_lang</th>\n",
       "      <th>RAUM_code</th>\n",
       "      <th>BEW</th>\n",
       "      <th>StichtagDatJahr</th>\n",
       "      <th>StichtagDatJahr_str</th>\n",
       "      <th>Jahr_nbr</th>\n",
       "      <th>RAUM_my_sort</th>\n",
       "    </tr>\n",
       "  </thead>\n",
       "  <tbody>\n",
       "  </tbody>\n",
       "</table>\n",
       "</div>"
      ],
      "text/plain": [
       "Empty DataFrame\n",
       "Columns: [ZEIT_lang, ZEIT_code, RAUM_lang, RAUM_code, BEW, StichtagDatJahr, StichtagDatJahr_str, Jahr_nbr, RAUM_my_sort]\n",
       "Index: []"
      ]
     },
     "execution_count": 28,
     "metadata": {},
     "output_type": "execute_result"
    }
   ],
   "source": [
    "data2betested[np.isnan(data2betested.BEW)]"
   ]
  },
  {
   "cell_type": "markdown",
   "metadata": {
    "colab_type": "text",
    "id": "1dTPVmmsgOVx"
   },
   "source": [
    "### Verwende das Datum als Index\n",
    "\n",
    "While we did already parse the `datetime` column into the respective datetime type, it currently is just a regular column. \n",
    "**To enable quick and convenient queries and aggregations, we need to turn it into the index of the DataFrame**"
   ]
  },
  {
   "cell_type": "code",
   "execution_count": 29,
   "metadata": {},
   "outputs": [],
   "source": [
    "data2betested = data2betested.set_index(\"StichtagDatJahr\") \n",
    "data2betested = data2betested.sort_index()"
   ]
  },
  {
   "cell_type": "code",
   "execution_count": 30,
   "metadata": {},
   "outputs": [
    {
     "data": {
      "text/plain": [
       "Int64Index([1956, 2018, 2020, 2021, 2022, 2023], dtype='int64', name='StichtagDatJahr')"
      ]
     },
     "execution_count": 30,
     "metadata": {},
     "output_type": "execute_result"
    }
   ],
   "source": [
    "data2betested.index.year.unique()\n"
   ]
  },
  {
   "cell_type": "markdown",
   "metadata": {},
   "source": [
    "### Beschreibe einzelne Attribute"
   ]
  },
  {
   "cell_type": "markdown",
   "metadata": {},
   "source": [
    "Beschreibe nicht numerische Attribute"
   ]
  },
  {
   "cell_type": "code",
   "execution_count": 31,
   "metadata": {},
   "outputs": [
    {
     "data": {
      "text/html": [
       "<div>\n",
       "<style scoped>\n",
       "    .dataframe tbody tr th:only-of-type {\n",
       "        vertical-align: middle;\n",
       "    }\n",
       "\n",
       "    .dataframe tbody tr th {\n",
       "        vertical-align: top;\n",
       "    }\n",
       "\n",
       "    .dataframe thead th {\n",
       "        text-align: right;\n",
       "    }\n",
       "</style>\n",
       "<table border=\"1\" class=\"dataframe\">\n",
       "  <thead>\n",
       "    <tr style=\"text-align: right;\">\n",
       "      <th></th>\n",
       "      <th>ZEIT_lang</th>\n",
       "      <th>ZEIT_code</th>\n",
       "      <th>RAUM_lang</th>\n",
       "      <th>RAUM_code</th>\n",
       "      <th>StichtagDatJahr_str</th>\n",
       "    </tr>\n",
       "  </thead>\n",
       "  <tbody>\n",
       "    <tr>\n",
       "      <th>count</th>\n",
       "      <td>6</td>\n",
       "      <td>6</td>\n",
       "      <td>6</td>\n",
       "      <td>6</td>\n",
       "      <td>6</td>\n",
       "    </tr>\n",
       "    <tr>\n",
       "      <th>unique</th>\n",
       "      <td>NaN</td>\n",
       "      <td>6</td>\n",
       "      <td>5</td>\n",
       "      <td>5</td>\n",
       "      <td>6</td>\n",
       "    </tr>\n",
       "    <tr>\n",
       "      <th>top</th>\n",
       "      <td>NaN</td>\n",
       "      <td>Z31121956</td>\n",
       "      <td>altes Quartier Schwamendingen (1934-1969); Kre...</td>\n",
       "      <td>R01700</td>\n",
       "      <td>1956-12-31</td>\n",
       "    </tr>\n",
       "    <tr>\n",
       "      <th>freq</th>\n",
       "      <td>NaN</td>\n",
       "      <td>1</td>\n",
       "      <td>2</td>\n",
       "      <td>2</td>\n",
       "      <td>1</td>\n",
       "    </tr>\n",
       "    <tr>\n",
       "      <th>mean</th>\n",
       "      <td>2010-12-31 04:00:00</td>\n",
       "      <td>NaN</td>\n",
       "      <td>NaN</td>\n",
       "      <td>NaN</td>\n",
       "      <td>NaN</td>\n",
       "    </tr>\n",
       "    <tr>\n",
       "      <th>min</th>\n",
       "      <td>1956-12-31 00:00:00</td>\n",
       "      <td>NaN</td>\n",
       "      <td>NaN</td>\n",
       "      <td>NaN</td>\n",
       "      <td>NaN</td>\n",
       "    </tr>\n",
       "    <tr>\n",
       "      <th>25%</th>\n",
       "      <td>2019-07-01 18:00:00</td>\n",
       "      <td>NaN</td>\n",
       "      <td>NaN</td>\n",
       "      <td>NaN</td>\n",
       "      <td>NaN</td>\n",
       "    </tr>\n",
       "    <tr>\n",
       "      <th>50%</th>\n",
       "      <td>2021-07-01 12:00:00</td>\n",
       "      <td>NaN</td>\n",
       "      <td>NaN</td>\n",
       "      <td>NaN</td>\n",
       "      <td>NaN</td>\n",
       "    </tr>\n",
       "    <tr>\n",
       "      <th>75%</th>\n",
       "      <td>2022-09-30 18:00:00</td>\n",
       "      <td>NaN</td>\n",
       "      <td>NaN</td>\n",
       "      <td>NaN</td>\n",
       "      <td>NaN</td>\n",
       "    </tr>\n",
       "    <tr>\n",
       "      <th>max</th>\n",
       "      <td>2023-12-31 00:00:00</td>\n",
       "      <td>NaN</td>\n",
       "      <td>NaN</td>\n",
       "      <td>NaN</td>\n",
       "      <td>NaN</td>\n",
       "    </tr>\n",
       "  </tbody>\n",
       "</table>\n",
       "</div>"
      ],
      "text/plain": [
       "                  ZEIT_lang  ZEIT_code                                          RAUM_lang  \\\n",
       "count                     6          6                                                  6   \n",
       "unique                  NaN          6                                                  5   \n",
       "top                     NaN  Z31121956  altes Quartier Schwamendingen (1934-1969); Kre...   \n",
       "freq                    NaN          1                                                  2   \n",
       "mean    2010-12-31 04:00:00        NaN                                                NaN   \n",
       "min     1956-12-31 00:00:00        NaN                                                NaN   \n",
       "25%     2019-07-01 18:00:00        NaN                                                NaN   \n",
       "50%     2021-07-01 12:00:00        NaN                                                NaN   \n",
       "75%     2022-09-30 18:00:00        NaN                                                NaN   \n",
       "max     2023-12-31 00:00:00        NaN                                                NaN   \n",
       "\n",
       "       RAUM_code StichtagDatJahr_str  \n",
       "count          6                   6  \n",
       "unique         5                   6  \n",
       "top       R01700          1956-12-31  \n",
       "freq           2                   1  \n",
       "mean         NaN                 NaN  \n",
       "min          NaN                 NaN  \n",
       "25%          NaN                 NaN  \n",
       "50%          NaN                 NaN  \n",
       "75%          NaN                 NaN  \n",
       "max          NaN                 NaN  "
      ]
     },
     "metadata": {},
     "output_type": "display_data"
    }
   ],
   "source": [
    "# describe non-numerical features\n",
    "try:\n",
    "    with pd.option_context('display.float_format', '{:,.2f}'.format):\n",
    "        display(data2betested.describe(exclude='number',datetime_is_numeric=True))\n",
    "except:\n",
    "    print(\"No categorical data in dataset.\")"
   ]
  },
  {
   "cell_type": "markdown",
   "metadata": {},
   "source": [
    "Beschreibe numerische Attribute"
   ]
  },
  {
   "cell_type": "code",
   "execution_count": 32,
   "metadata": {},
   "outputs": [
    {
     "data": {
      "text/html": [
       "<div>\n",
       "<style scoped>\n",
       "    .dataframe tbody tr th:only-of-type {\n",
       "        vertical-align: middle;\n",
       "    }\n",
       "\n",
       "    .dataframe tbody tr th {\n",
       "        vertical-align: top;\n",
       "    }\n",
       "\n",
       "    .dataframe thead th {\n",
       "        text-align: right;\n",
       "    }\n",
       "</style>\n",
       "<table border=\"1\" class=\"dataframe\">\n",
       "  <thead>\n",
       "    <tr style=\"text-align: right;\">\n",
       "      <th></th>\n",
       "      <th>BEW</th>\n",
       "      <th>Jahr_nbr</th>\n",
       "      <th>RAUM_my_sort</th>\n",
       "    </tr>\n",
       "  </thead>\n",
       "  <tbody>\n",
       "    <tr>\n",
       "      <th>count</th>\n",
       "      <td>6</td>\n",
       "      <td>6</td>\n",
       "      <td>6</td>\n",
       "    </tr>\n",
       "    <tr>\n",
       "      <th>mean</th>\n",
       "      <td>22,182</td>\n",
       "      <td>2,010</td>\n",
       "      <td>2,750</td>\n",
       "    </tr>\n",
       "    <tr>\n",
       "      <th>std</th>\n",
       "      <td>11,382</td>\n",
       "      <td>27</td>\n",
       "      <td>3,569</td>\n",
       "    </tr>\n",
       "    <tr>\n",
       "      <th>min</th>\n",
       "      <td>5,817</td>\n",
       "      <td>1,956</td>\n",
       "      <td>800</td>\n",
       "    </tr>\n",
       "    <tr>\n",
       "      <th>25%</th>\n",
       "      <td>16,113</td>\n",
       "      <td>2,018</td>\n",
       "      <td>1,125</td>\n",
       "    </tr>\n",
       "    <tr>\n",
       "      <th>50%</th>\n",
       "      <td>21,428</td>\n",
       "      <td>2,020</td>\n",
       "      <td>1,450</td>\n",
       "    </tr>\n",
       "    <tr>\n",
       "      <th>75%</th>\n",
       "      <td>31,151</td>\n",
       "      <td>2,022</td>\n",
       "      <td>1,700</td>\n",
       "    </tr>\n",
       "    <tr>\n",
       "      <th>max</th>\n",
       "      <td>35,688</td>\n",
       "      <td>2,023</td>\n",
       "      <td>10,000</td>\n",
       "    </tr>\n",
       "  </tbody>\n",
       "</table>\n",
       "</div>"
      ],
      "text/plain": [
       "         BEW  Jahr_nbr  RAUM_my_sort\n",
       "count      6         6             6\n",
       "mean  22,182     2,010         2,750\n",
       "std   11,382        27         3,569\n",
       "min    5,817     1,956           800\n",
       "25%   16,113     2,018         1,125\n",
       "50%   21,428     2,020         1,450\n",
       "75%   31,151     2,022         1,700\n",
       "max   35,688     2,023        10,000"
      ]
     },
     "metadata": {},
     "output_type": "display_data"
    }
   ],
   "source": [
    "# describe numerical features\n",
    "try:\n",
    "    with pd.option_context('display.float_format', '{:,.0f}'.format):\n",
    "        display(data2betested.describe(include='number'))\n",
    "except:\n",
    "    print(\"No numercial data in dataset.\")"
   ]
  },
  {
   "cell_type": "code",
   "execution_count": 33,
   "metadata": {},
   "outputs": [
    {
     "data": {
      "image/png": "[encoded data removed]",
      "text/plain": [
       "<Figure size 1800x600 with 4 Axes>"
      ]
     },
     "metadata": {},
     "output_type": "display_data"
    }
   ],
   "source": [
    "plt.style.use('ggplot')\n",
    "params = {\n",
    "    'text.color': (0.25, 0.25, 0.25),\n",
    "    'figure.figsize': [18, 6],\n",
    "   }\n",
    "plt.rcParams.update(params)\n",
    "\n",
    "try:\n",
    "    data2betested.hist(bins=25, rwidth=0.9)\n",
    "    plt.tight_layout()\n",
    "    plt.show()\n",
    "except:\n",
    "    print(\"No numercial data to plot.\") "
   ]
  },
  {
   "cell_type": "markdown",
   "metadata": {},
   "source": [
    "### Gibt es Duplikate?"
   ]
  },
  {
   "cell_type": "code",
   "execution_count": 34,
   "metadata": {},
   "outputs": [
    {
     "data": {
      "text/html": [
       "<div>\n",
       "<style scoped>\n",
       "    .dataframe tbody tr th:only-of-type {\n",
       "        vertical-align: middle;\n",
       "    }\n",
       "\n",
       "    .dataframe tbody tr th {\n",
       "        vertical-align: top;\n",
       "    }\n",
       "\n",
       "    .dataframe thead th {\n",
       "        text-align: right;\n",
       "    }\n",
       "</style>\n",
       "<table border=\"1\" class=\"dataframe\">\n",
       "  <thead>\n",
       "    <tr style=\"text-align: right;\">\n",
       "      <th></th>\n",
       "      <th>ZEIT_lang</th>\n",
       "      <th>ZEIT_code</th>\n",
       "      <th>RAUM_lang</th>\n",
       "      <th>RAUM_code</th>\n",
       "      <th>BEW</th>\n",
       "      <th>StichtagDatJahr_str</th>\n",
       "      <th>Jahr_nbr</th>\n",
       "      <th>RAUM_my_sort</th>\n",
       "    </tr>\n",
       "    <tr>\n",
       "      <th>StichtagDatJahr</th>\n",
       "      <th></th>\n",
       "      <th></th>\n",
       "      <th></th>\n",
       "      <th></th>\n",
       "      <th></th>\n",
       "      <th></th>\n",
       "      <th></th>\n",
       "      <th></th>\n",
       "    </tr>\n",
       "  </thead>\n",
       "  <tbody>\n",
       "  </tbody>\n",
       "</table>\n",
       "</div>"
      ],
      "text/plain": [
       "Empty DataFrame\n",
       "Columns: [ZEIT_lang, ZEIT_code, RAUM_lang, RAUM_code, BEW, StichtagDatJahr_str, Jahr_nbr, RAUM_my_sort]\n",
       "Index: []"
      ]
     },
     "execution_count": 34,
     "metadata": {},
     "output_type": "execute_result"
    }
   ],
   "source": [
    "# find duplicate rows\n",
    "duplicate_rows = data2betested[data2betested.duplicated()]\n",
    "duplicate_rows"
   ]
  },
  {
   "cell_type": "markdown",
   "metadata": {},
   "source": [
    "### Nullwerte und Missings?"
   ]
  },
  {
   "cell_type": "code",
   "execution_count": 35,
   "metadata": {},
   "outputs": [
    {
     "data": {
      "text/plain": [
       "ZEIT_lang              0\n",
       "ZEIT_code              0\n",
       "RAUM_lang              0\n",
       "RAUM_code              0\n",
       "BEW                    0\n",
       "StichtagDatJahr_str    0\n",
       "Jahr_nbr               0\n",
       "RAUM_my_sort           0\n",
       "dtype: int64"
      ]
     },
     "execution_count": 35,
     "metadata": {},
     "output_type": "execute_result"
    }
   ],
   "source": [
    "data2betested.isnull().sum()"
   ]
  },
  {
   "cell_type": "code",
   "execution_count": 36,
   "metadata": {},
   "outputs": [
    {
     "data": {
      "image/png": "[encoded data removed]",
      "text/plain": [
       "<Figure size 2500x1000 with 2 Axes>"
      ]
     },
     "metadata": {},
     "output_type": "display_data"
    }
   ],
   "source": [
    "# check missing values with missingno\n",
    "# https://github.com/ResidentMario/missingno\n",
    "import missingno as msno\n",
    "msno.matrix(data2betested, labels=True, sort='descending');\n",
    "#msno.heatmap(data2betested)"
   ]
  },
  {
   "cell_type": "markdown",
   "metadata": {},
   "source": [
    "### Gruppierungen"
   ]
  },
  {
   "cell_type": "code",
   "execution_count": 37,
   "metadata": {},
   "outputs": [
    {
     "data": {
      "text/html": [
       "<div>\n",
       "<style scoped>\n",
       "    .dataframe tbody tr th:only-of-type {\n",
       "        vertical-align: middle;\n",
       "    }\n",
       "\n",
       "    .dataframe tbody tr th {\n",
       "        vertical-align: top;\n",
       "    }\n",
       "\n",
       "    .dataframe thead th {\n",
       "        text-align: right;\n",
       "    }\n",
       "</style>\n",
       "<table border=\"1\" class=\"dataframe\">\n",
       "  <thead>\n",
       "    <tr style=\"text-align: right;\">\n",
       "      <th></th>\n",
       "      <th>Jahr_nbr</th>\n",
       "      <th>sum_AnzBestWir</th>\n",
       "    </tr>\n",
       "  </thead>\n",
       "  <tbody>\n",
       "    <tr>\n",
       "      <th>0</th>\n",
       "      <td>2023</td>\n",
       "      <td>35688</td>\n",
       "    </tr>\n",
       "    <tr>\n",
       "      <th>1</th>\n",
       "      <td>2022</td>\n",
       "      <td>15888</td>\n",
       "    </tr>\n",
       "    <tr>\n",
       "      <th>2</th>\n",
       "      <td>2021</td>\n",
       "      <td>5817</td>\n",
       "    </tr>\n",
       "  </tbody>\n",
       "</table>\n",
       "</div>"
      ],
      "text/plain": [
       "   Jahr_nbr  sum_AnzBestWir\n",
       "0      2023           35688\n",
       "1      2022           15888\n",
       "2      2021            5817"
      ]
     },
     "execution_count": 37,
     "metadata": {},
     "output_type": "execute_result"
    }
   ],
   "source": [
    "agg_jahr = data2betested.loc[data_min_date:data_max_date]\\\n",
    "    .groupby(['Jahr_nbr']) \\\n",
    "    .agg(sum_AnzBestWir=('BEW', 'sum')) \\\n",
    "    .sort_values('Jahr_nbr', ascending=False) \n",
    "agg_jahr.reset_index().head(3)"
   ]
  },
  {
   "cell_type": "code",
   "execution_count": 38,
   "metadata": {},
   "outputs": [
    {
     "data": {
      "text/plain": [
       "array(['altes Quartier Schwamendingen (1934-1969); Kreis 12 (ab 1970)',\n",
       "       'Kreis 8 (ab 1915)', 'Kreis 1 (Stadtgebiet vor 1893)',\n",
       "       'Kreis 5 (ab 1915)', 'Kreis 6 (ab 1934)'], dtype=object)"
      ]
     },
     "execution_count": 38,
     "metadata": {},
     "output_type": "execute_result"
    }
   ],
   "source": [
    "data2betested.RAUM_lang.unique()"
   ]
  },
  {
   "cell_type": "code",
   "execution_count": 39,
   "metadata": {},
   "outputs": [
    {
     "data": {
      "text/html": [
       "<div>\n",
       "<style scoped>\n",
       "    .dataframe tbody tr th:only-of-type {\n",
       "        vertical-align: middle;\n",
       "    }\n",
       "\n",
       "    .dataframe tbody tr th {\n",
       "        vertical-align: top;\n",
       "    }\n",
       "\n",
       "    .dataframe thead th {\n",
       "        text-align: right;\n",
       "    }\n",
       "</style>\n",
       "<table border=\"1\" class=\"dataframe\">\n",
       "  <thead>\n",
       "    <tr style=\"text-align: right;\">\n",
       "      <th></th>\n",
       "      <th>Jahr_nbr</th>\n",
       "      <th>RAUM_lang</th>\n",
       "      <th>RAUM_code</th>\n",
       "      <th>sum_AnzBestWir</th>\n",
       "    </tr>\n",
       "  </thead>\n",
       "  <tbody>\n",
       "    <tr>\n",
       "      <th>0</th>\n",
       "      <td>2023</td>\n",
       "      <td>Kreis 6 (ab 1934)</td>\n",
       "      <td>R01200</td>\n",
       "      <td>35688</td>\n",
       "    </tr>\n",
       "    <tr>\n",
       "      <th>1</th>\n",
       "      <td>2022</td>\n",
       "      <td>Kreis 5 (ab 1915)</td>\n",
       "      <td>R00800</td>\n",
       "      <td>15888</td>\n",
       "    </tr>\n",
       "    <tr>\n",
       "      <th>2</th>\n",
       "      <td>2021</td>\n",
       "      <td>Kreis 1 (Stadtgebiet vor 1893)</td>\n",
       "      <td>R10000</td>\n",
       "      <td>5817</td>\n",
       "    </tr>\n",
       "    <tr>\n",
       "      <th>3</th>\n",
       "      <td>2020</td>\n",
       "      <td>altes Quartier Schwamendingen (1934-1969); Kre...</td>\n",
       "      <td>R01700</td>\n",
       "      <td>32845</td>\n",
       "    </tr>\n",
       "    <tr>\n",
       "      <th>4</th>\n",
       "      <td>2018</td>\n",
       "      <td>Kreis 8 (ab 1915)</td>\n",
       "      <td>R01100</td>\n",
       "      <td>16788</td>\n",
       "    </tr>\n",
       "    <tr>\n",
       "      <th>5</th>\n",
       "      <td>1956</td>\n",
       "      <td>altes Quartier Schwamendingen (1934-1969); Kre...</td>\n",
       "      <td>R01700</td>\n",
       "      <td>26069</td>\n",
       "    </tr>\n",
       "  </tbody>\n",
       "</table>\n",
       "</div>"
      ],
      "text/plain": [
       "   Jahr_nbr                                          RAUM_lang RAUM_code  sum_AnzBestWir\n",
       "0      2023                                  Kreis 6 (ab 1934)    R01200           35688\n",
       "1      2022                                  Kreis 5 (ab 1915)    R00800           15888\n",
       "2      2021                     Kreis 1 (Stadtgebiet vor 1893)    R10000            5817\n",
       "3      2020  altes Quartier Schwamendingen (1934-1969); Kre...    R01700           32845\n",
       "4      2018                                  Kreis 8 (ab 1915)    R01100           16788\n",
       "5      1956  altes Quartier Schwamendingen (1934-1969); Kre...    R01700           26069"
      ]
     },
     "execution_count": 39,
     "metadata": {},
     "output_type": "execute_result"
    }
   ],
   "source": [
    "agg_Quarts = data2betested.loc[data_min_date:data_max_date]\\\n",
    "    .groupby(['Jahr_nbr','RAUM_lang', 'RAUM_code']) \\\n",
    "    .agg(sum_AnzBestWir=('BEW', 'sum')) \\\n",
    "    .sort_values(['Jahr_nbr','RAUM_code'], ascending=[False, True]) \n",
    "agg_Quarts.reset_index().head(50)"
   ]
  },
  {
   "cell_type": "code",
   "execution_count": 40,
   "metadata": {},
   "outputs": [
    {
     "data": {
      "text/plain": [
       "Index(['ZEIT_lang', 'ZEIT_code', 'RAUM_lang', 'RAUM_code', 'BEW', 'StichtagDatJahr_str',\n",
       "       'Jahr_nbr', 'RAUM_my_sort'],\n",
       "      dtype='object')"
      ]
     },
     "execution_count": 40,
     "metadata": {},
     "output_type": "execute_result"
    }
   ],
   "source": [
    "data2betested.columns"
   ]
  },
  {
   "cell_type": "markdown",
   "metadata": {},
   "source": [
    "### Zeitpunkte und Zeiträume abfragen\n",
    "\n",
    "A particular powerful feature of the Pandas DataFrame is its indexing capability that also works using time-based entities, such as dates and times. We have already created the index above, so let's put it to use."
   ]
  },
  {
   "cell_type": "code",
   "execution_count": 41,
   "metadata": {},
   "outputs": [
    {
     "data": {
      "text/html": [
       "<div>\n",
       "<style scoped>\n",
       "    .dataframe tbody tr th:only-of-type {\n",
       "        vertical-align: middle;\n",
       "    }\n",
       "\n",
       "    .dataframe tbody tr th {\n",
       "        vertical-align: top;\n",
       "    }\n",
       "\n",
       "    .dataframe thead th {\n",
       "        text-align: right;\n",
       "    }\n",
       "</style>\n",
       "<table border=\"1\" class=\"dataframe\">\n",
       "  <thead>\n",
       "    <tr style=\"text-align: right;\">\n",
       "      <th></th>\n",
       "      <th>ZEIT_lang</th>\n",
       "      <th>ZEIT_code</th>\n",
       "      <th>RAUM_lang</th>\n",
       "      <th>RAUM_code</th>\n",
       "      <th>BEW</th>\n",
       "      <th>StichtagDatJahr_str</th>\n",
       "      <th>Jahr_nbr</th>\n",
       "      <th>RAUM_my_sort</th>\n",
       "    </tr>\n",
       "    <tr>\n",
       "      <th>StichtagDatJahr</th>\n",
       "      <th></th>\n",
       "      <th></th>\n",
       "      <th></th>\n",
       "      <th></th>\n",
       "      <th></th>\n",
       "      <th></th>\n",
       "      <th></th>\n",
       "      <th></th>\n",
       "    </tr>\n",
       "  </thead>\n",
       "  <tbody>\n",
       "    <tr>\n",
       "      <th>2023-12-31</th>\n",
       "      <td>2023-12-31</td>\n",
       "      <td>Z31122023</td>\n",
       "      <td>Kreis 6 (ab 1934)</td>\n",
       "      <td>R01200</td>\n",
       "      <td>35688</td>\n",
       "      <td>2023-12-31</td>\n",
       "      <td>2023</td>\n",
       "      <td>1200</td>\n",
       "    </tr>\n",
       "  </tbody>\n",
       "</table>\n",
       "</div>"
      ],
      "text/plain": [
       "                 ZEIT_lang  ZEIT_code          RAUM_lang RAUM_code   BEW StichtagDatJahr_str  \\\n",
       "StichtagDatJahr                                                                                \n",
       "2023-12-31      2023-12-31  Z31122023  Kreis 6 (ab 1934)    R01200 35688          2023-12-31   \n",
       "\n",
       "                 Jahr_nbr  RAUM_my_sort  \n",
       "StichtagDatJahr                          \n",
       "2023-12-31           2023          1200  "
      ]
     },
     "execution_count": 41,
     "metadata": {},
     "output_type": "execute_result"
    }
   ],
   "source": [
    "data2betested.loc[data_max_date].head(2)\n",
    "#data2betested.loc[\"2021-10-31\":\"2021-11-30\"].head(2)"
   ]
  },
  {
   "cell_type": "markdown",
   "metadata": {},
   "source": [
    "### Visualisierungen nach Zeitausschnitten"
   ]
  },
  {
   "cell_type": "markdown",
   "metadata": {},
   "source": [
    "#### Entwicklung Wohnbevölkerung seit ..."
   ]
  },
  {
   "cell_type": "code",
   "execution_count": 42,
   "metadata": {},
   "outputs": [
    {
     "data": {
      "text/html": [
       "<div>\n",
       "<style scoped>\n",
       "    .dataframe tbody tr th:only-of-type {\n",
       "        vertical-align: middle;\n",
       "    }\n",
       "\n",
       "    .dataframe tbody tr th {\n",
       "        vertical-align: top;\n",
       "    }\n",
       "\n",
       "    .dataframe thead th {\n",
       "        text-align: right;\n",
       "    }\n",
       "</style>\n",
       "<table border=\"1\" class=\"dataframe\">\n",
       "  <thead>\n",
       "    <tr style=\"text-align: right;\">\n",
       "      <th></th>\n",
       "      <th>StichtagDatJahr</th>\n",
       "      <th>sum_WBev</th>\n",
       "    </tr>\n",
       "  </thead>\n",
       "  <tbody>\n",
       "    <tr>\n",
       "      <th>0</th>\n",
       "      <td>2023-12-31</td>\n",
       "      <td>35688</td>\n",
       "    </tr>\n",
       "    <tr>\n",
       "      <th>1</th>\n",
       "      <td>2022-12-31</td>\n",
       "      <td>15888</td>\n",
       "    </tr>\n",
       "    <tr>\n",
       "      <th>2</th>\n",
       "      <td>2021-12-31</td>\n",
       "      <td>5817</td>\n",
       "    </tr>\n",
       "    <tr>\n",
       "      <th>3</th>\n",
       "      <td>2020-12-31</td>\n",
       "      <td>32845</td>\n",
       "    </tr>\n",
       "    <tr>\n",
       "      <th>4</th>\n",
       "      <td>2018-12-31</td>\n",
       "      <td>16788</td>\n",
       "    </tr>\n",
       "    <tr>\n",
       "      <th>5</th>\n",
       "      <td>1956-12-31</td>\n",
       "      <td>26069</td>\n",
       "    </tr>\n",
       "  </tbody>\n",
       "</table>\n",
       "</div>"
      ],
      "text/plain": [
       "  StichtagDatJahr  sum_WBev\n",
       "0      2023-12-31     35688\n",
       "1      2022-12-31     15888\n",
       "2      2021-12-31      5817\n",
       "3      2020-12-31     32845\n",
       "4      2018-12-31     16788\n",
       "5      1956-12-31     26069"
      ]
     },
     "execution_count": 42,
     "metadata": {},
     "output_type": "execute_result"
    }
   ],
   "source": [
    "myAggAll = data2betested.loc[data_min_date:data_max_date]\\\n",
    "    .groupby(['StichtagDatJahr']) \\\n",
    "    .agg(sum_WBev=('BEW', 'sum')) \\\n",
    "    .sort_values('StichtagDatJahr', ascending=False) \n",
    "\n",
    "myAggAll.reset_index().head(30)"
   ]
  },
  {
   "cell_type": "code",
   "execution_count": 43,
   "metadata": {},
   "outputs": [
    {
     "data": {
      "text/html": [
       "\n",
       "<div id=\"altair-viz-e8897fe3e2a545c483fde8c99e172d40\"></div>\n",
       "<script type=\"text/javascript\">\n",
       "  (function(spec, embedOpt){\n",
       "    let outputDiv = document.currentScript.previousElementSibling;\n",
       "    if (outputDiv.id !== \"altair-viz-e8897fe3e2a545c483fde8c99e172d40\") {\n",
       "      outputDiv = document.getElementById(\"altair-viz-e8897fe3e2a545c483fde8c99e172d40\");\n",
       "    }\n",
       "    const paths = {\n",
       "      \"vega\": \"https://cdn.jsdelivr.net/npm//vega@5?noext\",\n",
       "      \"vega-lib\": \"https://cdn.jsdelivr.net/npm//vega-lib?noext\",\n",
       "      \"vega-lite\": \"https://cdn.jsdelivr.net/npm//vega-lite@4.8.1?noext\",\n",
       "      \"vega-embed\": \"https://cdn.jsdelivr.net/npm//vega-embed@6?noext\",\n",
       "    };\n",
       "\n",
       "    function loadScript(lib) {\n",
       "      return new Promise(function(resolve, reject) {\n",
       "        var s = document.createElement('script');\n",
       "        s.src = paths[lib];\n",
       "        s.async = true;\n",
       "        s.onload = () => resolve(paths[lib]);\n",
       "        s.onerror = () => reject(`Error loading script: ${paths[lib]}`);\n",
       "        document.getElementsByTagName(\"head\")[0].appendChild(s);\n",
       "      });\n",
       "    }\n",
       "\n",
       "    function showError(err) {\n",
       "      outputDiv.innerHTML = `<div class=\"error\" style=\"color:red;\">${err}</div>`;\n",
       "      throw err;\n",
       "    }\n",
       "\n",
       "    function displayChart(vegaEmbed) {\n",
       "      vegaEmbed(outputDiv, spec, embedOpt)\n",
       "        .catch(err => showError(`Javascript Error: ${err.message}<br>This usually means there's a typo in your chart specification. See the javascript console for the full traceback.`));\n",
       "    }\n",
       "\n",
       "    if(typeof define === \"function\" && define.amd) {\n",
       "      requirejs.config({paths});\n",
       "      require([\"vega-embed\"], displayChart, err => showError(`Error loading script: ${err.message}`));\n",
       "    } else if (typeof vegaEmbed === \"function\") {\n",
       "      displayChart(vegaEmbed);\n",
       "    } else {\n",
       "      loadScript(\"vega\")\n",
       "        .then(() => loadScript(\"vega-lite\"))\n",
       "        .then(() => loadScript(\"vega-embed\"))\n",
       "        .catch(showError)\n",
       "        .then(() => displayChart(vegaEmbed));\n",
       "    }\n",
       "  })({\"config\": {\"view\": {\"continuousWidth\": 400, \"continuousHeight\": 300}}, \"layer\": [{\"mark\": \"line\", \"encoding\": {\"size\": {\"condition\": {\"value\": 0.5, \"selection\": {\"not\": \"selector001\"}}, \"value\": 4}, \"tooltip\": [{\"type\": \"temporal\", \"field\": \"StichtagDatJahr\"}, {\"type\": \"quantitative\", \"field\": \"sum_WBev\"}], \"x\": {\"type\": \"temporal\", \"axis\": {\"title\": \"Jahr\"}, \"field\": \"StichtagDatJahr\"}, \"y\": {\"type\": \"quantitative\", \"axis\": {\"title\": \"Anz. Personen\"}, \"field\": \"sum_WBev\"}}, \"selection\": {\"selector002\": {\"type\": \"interval\", \"bind\": \"scales\", \"encodings\": [\"x\", \"y\"]}}, \"title\": \"Bev\\u00f6lkerungsentwicklung, seit 1956\"}, {\"mark\": \"circle\", \"encoding\": {\"opacity\": {\"value\": 0.75}, \"tooltip\": [{\"type\": \"temporal\", \"field\": \"StichtagDatJahr\"}, {\"type\": \"quantitative\", \"field\": \"sum_WBev\"}], \"x\": {\"type\": \"temporal\", \"axis\": {\"title\": \"Jahr\"}, \"field\": \"StichtagDatJahr\"}, \"y\": {\"type\": \"quantitative\", \"axis\": {\"title\": \"Anz. Personen\"}, \"field\": \"sum_WBev\"}}, \"height\": 350, \"selection\": {\"selector001\": {\"type\": \"single\", \"on\": \"mouseover\", \"fields\": [\"sum_WBev\"], \"nearest\": true}}, \"title\": \"Bev\\u00f6lkerungsentwicklung, seit 1956\", \"width\": 750}], \"data\": {\"name\": \"data-090ed22c31e87af8d6948d2910df0995\"}, \"$schema\": \"https://vega.github.io/schema/vega-lite/v4.8.1.json\", \"datasets\": {\"data-090ed22c31e87af8d6948d2910df0995\": [{\"StichtagDatJahr\": \"2023-12-31T00:00:00\", \"sum_WBev\": 35688.0}, {\"StichtagDatJahr\": \"2022-12-31T00:00:00\", \"sum_WBev\": 15888.0}, {\"StichtagDatJahr\": \"2021-12-31T00:00:00\", \"sum_WBev\": 5817.0}, {\"StichtagDatJahr\": \"2020-12-31T00:00:00\", \"sum_WBev\": 32845.0}, {\"StichtagDatJahr\": \"2018-12-31T00:00:00\", \"sum_WBev\": 16788.0}, {\"StichtagDatJahr\": \"1956-12-31T00:00:00\", \"sum_WBev\": 26069.0}]}}, {\"mode\": \"vega-lite\"});\n",
       "</script>"
      ],
      "text/plain": [
       "alt.LayerChart(...)"
      ]
     },
     "execution_count": 43,
     "metadata": {},
     "output_type": "execute_result"
    }
   ],
   "source": [
    "myTitle=\"Bevölkerungsentwicklung, seit \"+data_min_date\n",
    "\n",
    "highlight = alt.selection(type='single', on='mouseover',\n",
    "                          fields=['sum_WBev'], nearest=True)\n",
    "#x='date:StichtagDatJahr',\n",
    "base = alt.Chart(myAggAll.reset_index().query('sum_WBev>30'), title=myTitle).encode(\n",
    "    x=alt.X('StichtagDatJahr', axis=alt.Axis(title='Jahr'))# , axis=alt.Axis(format='%', title='percentage')\n",
    "    , y=alt.X('sum_WBev', axis=alt.Axis(title='Anz. Personen'))\n",
    "    #, color=alt.Color('QuarLang', legend=alt.Legend(title=\"Altersgruppen\", orient=\"right\"))  \n",
    "    ,tooltip=['StichtagDatJahr','sum_WBev']    \n",
    ")\n",
    "points = base.mark_circle().encode(\n",
    "    opacity=alt.value(0.75)\n",
    ").add_selection(\n",
    "    highlight\n",
    ").properties(\n",
    "    width=750 , height=350\n",
    ")\n",
    "lines = base.mark_line().encode(\n",
    "    size=alt.condition(~highlight, alt.value(0.5), alt.value(4))\n",
    ").interactive()\n",
    "\n",
    "lines + points"
   ]
  },
  {
   "cell_type": "markdown",
   "metadata": {
    "tags": []
   },
   "source": [
    "#### Entwicklung Wohnbevölkerung nach Stadtkreis seit ..."
   ]
  },
  {
   "cell_type": "code",
   "execution_count": 44,
   "metadata": {},
   "outputs": [
    {
     "data": {
      "text/plain": [
       "Index(['ZEIT_lang', 'ZEIT_code', 'RAUM_lang', 'RAUM_code', 'BEW', 'StichtagDatJahr_str',\n",
       "       'Jahr_nbr', 'RAUM_my_sort'],\n",
       "      dtype='object')"
      ]
     },
     "execution_count": 44,
     "metadata": {},
     "output_type": "execute_result"
    }
   ],
   "source": [
    "data2betested.columns"
   ]
  },
  {
   "cell_type": "code",
   "execution_count": 56,
   "metadata": {
    "tags": []
   },
   "outputs": [
    {
     "data": {
      "text/html": [
       "<div>\n",
       "<style scoped>\n",
       "    .dataframe tbody tr th:only-of-type {\n",
       "        vertical-align: middle;\n",
       "    }\n",
       "\n",
       "    .dataframe tbody tr th {\n",
       "        vertical-align: top;\n",
       "    }\n",
       "\n",
       "    .dataframe thead th {\n",
       "        text-align: right;\n",
       "    }\n",
       "</style>\n",
       "<table border=\"1\" class=\"dataframe\">\n",
       "  <thead>\n",
       "    <tr style=\"text-align: right;\">\n",
       "      <th></th>\n",
       "      <th>StichtagDatJahr</th>\n",
       "      <th>RAUM_lang</th>\n",
       "      <th>RAUM_code</th>\n",
       "      <th>sum_WBev</th>\n",
       "    </tr>\n",
       "  </thead>\n",
       "  <tbody>\n",
       "    <tr>\n",
       "      <th>0</th>\n",
       "      <td>2023-12-31</td>\n",
       "      <td>Kreis 6 (ab 1934)</td>\n",
       "      <td>R01200</td>\n",
       "      <td>35688</td>\n",
       "    </tr>\n",
       "    <tr>\n",
       "      <th>1</th>\n",
       "      <td>2022-12-31</td>\n",
       "      <td>Kreis 5 (ab 1915)</td>\n",
       "      <td>R00800</td>\n",
       "      <td>15888</td>\n",
       "    </tr>\n",
       "    <tr>\n",
       "      <th>2</th>\n",
       "      <td>2021-12-31</td>\n",
       "      <td>Kreis 1 (Stadtgebiet vor 1893)</td>\n",
       "      <td>R10000</td>\n",
       "      <td>5817</td>\n",
       "    </tr>\n",
       "  </tbody>\n",
       "</table>\n",
       "</div>"
      ],
      "text/plain": [
       "  StichtagDatJahr                       RAUM_lang RAUM_code  sum_WBev\n",
       "0      2023-12-31               Kreis 6 (ab 1934)    R01200     35688\n",
       "1      2022-12-31               Kreis 5 (ab 1915)    R00800     15888\n",
       "2      2021-12-31  Kreis 1 (Stadtgebiet vor 1893)    R10000      5817"
      ]
     },
     "execution_count": 56,
     "metadata": {},
     "output_type": "execute_result"
    }
   ],
   "source": [
    "myAgg = data2betested.loc[data_min_date:data_max_date]\\\n",
    "    .groupby(['StichtagDatJahr', 'RAUM_lang', 'RAUM_code']) \\\n",
    "    .agg(sum_WBev=('BEW', 'sum')) \\\n",
    "    .sort_values('StichtagDatJahr', ascending=False) \n",
    "\n",
    "myAgg.reset_index().head(3)"
   ]
  },
  {
   "cell_type": "code",
   "execution_count": 57,
   "metadata": {},
   "outputs": [
    {
     "data": {
      "text/html": [
       "\n",
       "<div id=\"altair-viz-46ae415760494ebb85758a7440d5822b\"></div>\n",
       "<script type=\"text/javascript\">\n",
       "  (function(spec, embedOpt){\n",
       "    let outputDiv = document.currentScript.previousElementSibling;\n",
       "    if (outputDiv.id !== \"altair-viz-46ae415760494ebb85758a7440d5822b\") {\n",
       "      outputDiv = document.getElementById(\"altair-viz-46ae415760494ebb85758a7440d5822b\");\n",
       "    }\n",
       "    const paths = {\n",
       "      \"vega\": \"https://cdn.jsdelivr.net/npm//vega@5?noext\",\n",
       "      \"vega-lib\": \"https://cdn.jsdelivr.net/npm//vega-lib?noext\",\n",
       "      \"vega-lite\": \"https://cdn.jsdelivr.net/npm//vega-lite@4.8.1?noext\",\n",
       "      \"vega-embed\": \"https://cdn.jsdelivr.net/npm//vega-embed@6?noext\",\n",
       "    };\n",
       "\n",
       "    function loadScript(lib) {\n",
       "      return new Promise(function(resolve, reject) {\n",
       "        var s = document.createElement('script');\n",
       "        s.src = paths[lib];\n",
       "        s.async = true;\n",
       "        s.onload = () => resolve(paths[lib]);\n",
       "        s.onerror = () => reject(`Error loading script: ${paths[lib]}`);\n",
       "        document.getElementsByTagName(\"head\")[0].appendChild(s);\n",
       "      });\n",
       "    }\n",
       "\n",
       "    function showError(err) {\n",
       "      outputDiv.innerHTML = `<div class=\"error\" style=\"color:red;\">${err}</div>`;\n",
       "      throw err;\n",
       "    }\n",
       "\n",
       "    function displayChart(vegaEmbed) {\n",
       "      vegaEmbed(outputDiv, spec, embedOpt)\n",
       "        .catch(err => showError(`Javascript Error: ${err.message}<br>This usually means there's a typo in your chart specification. See the javascript console for the full traceback.`));\n",
       "    }\n",
       "\n",
       "    if(typeof define === \"function\" && define.amd) {\n",
       "      requirejs.config({paths});\n",
       "      require([\"vega-embed\"], displayChart, err => showError(`Error loading script: ${err.message}`));\n",
       "    } else if (typeof vegaEmbed === \"function\") {\n",
       "      displayChart(vegaEmbed);\n",
       "    } else {\n",
       "      loadScript(\"vega\")\n",
       "        .then(() => loadScript(\"vega-lite\"))\n",
       "        .then(() => loadScript(\"vega-embed\"))\n",
       "        .catch(showError)\n",
       "        .then(() => displayChart(vegaEmbed));\n",
       "    }\n",
       "  })({\"config\": {\"view\": {\"continuousWidth\": 400, \"continuousHeight\": 300}}, \"layer\": [{\"mark\": \"line\", \"encoding\": {\"color\": {\"type\": \"nominal\", \"field\": \"RAUM_lang\", \"legend\": {\"orient\": \"right\", \"title\": \"Stadtquartier\"}, \"scale\": {\"scheme\": \"category20c\"}}, \"size\": {\"condition\": {\"value\": 0.5, \"selection\": {\"not\": \"selector007\"}}, \"value\": 4}, \"tooltip\": [{\"type\": \"temporal\", \"field\": \"StichtagDatJahr\"}, {\"type\": \"nominal\", \"field\": \"RAUM_lang\"}, {\"type\": \"quantitative\", \"field\": \"sum_WBev\"}], \"x\": {\"type\": \"temporal\", \"axis\": {\"title\": \"Jahr\"}, \"field\": \"StichtagDatJahr\"}, \"y\": {\"type\": \"quantitative\", \"axis\": {\"title\": \"Anz. Personen\"}, \"field\": \"sum_WBev\"}}, \"selection\": {\"selector008\": {\"type\": \"interval\", \"bind\": \"scales\", \"encodings\": [\"x\", \"y\"]}}, \"title\": \"Bev\\u00f6lkerung nach Stadtkreis, seit 1956\"}, {\"mark\": \"circle\", \"encoding\": {\"color\": {\"type\": \"nominal\", \"field\": \"RAUM_lang\", \"legend\": {\"orient\": \"right\", \"title\": \"Stadtquartier\"}, \"scale\": {\"scheme\": \"category20c\"}}, \"opacity\": {\"value\": 0.75}, \"tooltip\": [{\"type\": \"temporal\", \"field\": \"StichtagDatJahr\"}, {\"type\": \"nominal\", \"field\": \"RAUM_lang\"}, {\"type\": \"quantitative\", \"field\": \"sum_WBev\"}], \"x\": {\"type\": \"temporal\", \"axis\": {\"title\": \"Jahr\"}, \"field\": \"StichtagDatJahr\"}, \"y\": {\"type\": \"quantitative\", \"axis\": {\"title\": \"Anz. Personen\"}, \"field\": \"sum_WBev\"}}, \"height\": 350, \"selection\": {\"selector007\": {\"type\": \"single\", \"on\": \"mouseover\", \"fields\": [\"RAUM_lang\"], \"nearest\": true}}, \"title\": \"Bev\\u00f6lkerung nach Stadtkreis, seit 1956\", \"width\": 750}], \"data\": {\"name\": \"data-f64775b70e7eb11eddeb325edc4f7d13\"}, \"$schema\": \"https://vega.github.io/schema/vega-lite/v4.8.1.json\", \"datasets\": {\"data-f64775b70e7eb11eddeb325edc4f7d13\": [{\"StichtagDatJahr\": \"2023-12-31T00:00:00\", \"RAUM_lang\": \"Kreis 6 (ab 1934)\", \"RAUM_code\": \"R01200\", \"sum_WBev\": 35688.0}, {\"StichtagDatJahr\": \"2022-12-31T00:00:00\", \"RAUM_lang\": \"Kreis 5 (ab 1915)\", \"RAUM_code\": \"R00800\", \"sum_WBev\": 15888.0}, {\"StichtagDatJahr\": \"2021-12-31T00:00:00\", \"RAUM_lang\": \"Kreis 1 (Stadtgebiet vor 1893)\", \"RAUM_code\": \"R10000\", \"sum_WBev\": 5817.0}, {\"StichtagDatJahr\": \"2020-12-31T00:00:00\", \"RAUM_lang\": \"altes Quartier Schwamendingen (1934-1969); Kreis 12 (ab 1970)\", \"RAUM_code\": \"R01700\", \"sum_WBev\": 32845.0}, {\"StichtagDatJahr\": \"2018-12-31T00:00:00\", \"RAUM_lang\": \"Kreis 8 (ab 1915)\", \"RAUM_code\": \"R01100\", \"sum_WBev\": 16788.0}, {\"StichtagDatJahr\": \"1956-12-31T00:00:00\", \"RAUM_lang\": \"altes Quartier Schwamendingen (1934-1969); Kreis 12 (ab 1970)\", \"RAUM_code\": \"R01700\", \"sum_WBev\": 26069.0}]}}, {\"mode\": \"vega-lite\"});\n",
       "</script>"
      ],
      "text/plain": [
       "alt.LayerChart(...)"
      ]
     },
     "execution_count": 57,
     "metadata": {},
     "output_type": "execute_result"
    }
   ],
   "source": [
    "\n",
    "myTitle=\"Bevölkerung nach Stadtkreis, seit \"+data_min_date\n",
    "\n",
    "highlight = alt.selection(type='single', on='mouseover',\n",
    "                          fields=['RAUM_lang'], nearest=True)\n",
    "#x='date:StichtagDatJahr',\n",
    "base = alt.Chart(myAgg.reset_index().query('sum_WBev>0'), title=myTitle).encode(\n",
    "    x=alt.X('StichtagDatJahr', axis=alt.Axis(title='Jahr'))# , axis=alt.Axis(format='%', title='percentage')\n",
    "    , y=alt.X('sum_WBev', axis=alt.Axis(title='Anz. Personen'))\n",
    "    , color=alt.Color('RAUM_lang', legend=alt.Legend(title=\"Stadtquartier\", orient=\"right\"), scale=alt.Scale(scheme='category20c'))  \n",
    "    ,tooltip=['StichtagDatJahr', 'RAUM_lang','sum_WBev']    \n",
    ")\n",
    "points = base.mark_circle().encode(\n",
    "    opacity=alt.value(0.75)\n",
    ").add_selection(\n",
    "    highlight\n",
    ").properties(\n",
    "    width=750 , height=350\n",
    ")\n",
    "lines = base.mark_line().encode(\n",
    "    size=alt.condition(~highlight, alt.value(0.5), alt.value(4))\n",
    ").interactive()\n",
    "\n",
    "lines + points"
   ]
  },
  {
   "cell_type": "code",
   "execution_count": null,
   "metadata": {},
   "outputs": [],
   "source": []
  },
  {
   "cell_type": "markdown",
   "metadata": {
    "tags": []
   },
   "source": [
    "#### Entwicklung Wohnbevölkerung nach Stadtkreis, 1890-1981"
   ]
  },
  {
   "cell_type": "code",
   "execution_count": 58,
   "metadata": {},
   "outputs": [
    {
     "data": {
      "text/html": [
       "<div>\n",
       "<style scoped>\n",
       "    .dataframe tbody tr th:only-of-type {\n",
       "        vertical-align: middle;\n",
       "    }\n",
       "\n",
       "    .dataframe tbody tr th {\n",
       "        vertical-align: top;\n",
       "    }\n",
       "\n",
       "    .dataframe thead th {\n",
       "        text-align: right;\n",
       "    }\n",
       "</style>\n",
       "<table border=\"1\" class=\"dataframe\">\n",
       "  <thead>\n",
       "    <tr style=\"text-align: right;\">\n",
       "      <th></th>\n",
       "      <th>StichtagDatJahr</th>\n",
       "      <th>RAUM_code</th>\n",
       "      <th>RAUM_lang</th>\n",
       "      <th>RAUM_my_sort</th>\n",
       "      <th>sum_WBev</th>\n",
       "    </tr>\n",
       "  </thead>\n",
       "  <tbody>\n",
       "    <tr>\n",
       "      <th>0</th>\n",
       "      <td>1956-12-31</td>\n",
       "      <td>R01700</td>\n",
       "      <td>altes Quartier Schwamendingen (1934-1969); Kre...</td>\n",
       "      <td>1700</td>\n",
       "      <td>26069</td>\n",
       "    </tr>\n",
       "  </tbody>\n",
       "</table>\n",
       "</div>"
      ],
      "text/plain": [
       "  StichtagDatJahr RAUM_code                                          RAUM_lang  RAUM_my_sort  \\\n",
       "0      1956-12-31    R01700  altes Quartier Schwamendingen (1934-1969); Kre...          1700   \n",
       "\n",
       "   sum_WBev  \n",
       "0     26069  "
      ]
     },
     "execution_count": 58,
     "metadata": {},
     "output_type": "execute_result"
    }
   ],
   "source": [
    "#myAgg = data2betested.loc[\"2008-11-30\":\"2021-10-31\"]\n",
    "myAgg2 = data2betested.loc[\"1890\":\"1981\"]\\\n",
    "    .groupby(['StichtagDatJahr', 'RAUM_code', 'RAUM_lang', 'RAUM_my_sort']) \\\n",
    "    .agg(sum_WBev=('BEW', 'sum')) \\\n",
    "    .sort_values('StichtagDatJahr', ascending=True) \n",
    "\n",
    "myAgg2.reset_index().head(8)\n"
   ]
  },
  {
   "cell_type": "code",
   "execution_count": 59,
   "metadata": {},
   "outputs": [
    {
     "data": {
      "text/html": [
       "\n",
       "<div id=\"altair-viz-354d0be5d8ca46f4832ab6f6bd18aa22\"></div>\n",
       "<script type=\"text/javascript\">\n",
       "  (function(spec, embedOpt){\n",
       "    let outputDiv = document.currentScript.previousElementSibling;\n",
       "    if (outputDiv.id !== \"altair-viz-354d0be5d8ca46f4832ab6f6bd18aa22\") {\n",
       "      outputDiv = document.getElementById(\"altair-viz-354d0be5d8ca46f4832ab6f6bd18aa22\");\n",
       "    }\n",
       "    const paths = {\n",
       "      \"vega\": \"https://cdn.jsdelivr.net/npm//vega@5?noext\",\n",
       "      \"vega-lib\": \"https://cdn.jsdelivr.net/npm//vega-lib?noext\",\n",
       "      \"vega-lite\": \"https://cdn.jsdelivr.net/npm//vega-lite@4.8.1?noext\",\n",
       "      \"vega-embed\": \"https://cdn.jsdelivr.net/npm//vega-embed@6?noext\",\n",
       "    };\n",
       "\n",
       "    function loadScript(lib) {\n",
       "      return new Promise(function(resolve, reject) {\n",
       "        var s = document.createElement('script');\n",
       "        s.src = paths[lib];\n",
       "        s.async = true;\n",
       "        s.onload = () => resolve(paths[lib]);\n",
       "        s.onerror = () => reject(`Error loading script: ${paths[lib]}`);\n",
       "        document.getElementsByTagName(\"head\")[0].appendChild(s);\n",
       "      });\n",
       "    }\n",
       "\n",
       "    function showError(err) {\n",
       "      outputDiv.innerHTML = `<div class=\"error\" style=\"color:red;\">${err}</div>`;\n",
       "      throw err;\n",
       "    }\n",
       "\n",
       "    function displayChart(vegaEmbed) {\n",
       "      vegaEmbed(outputDiv, spec, embedOpt)\n",
       "        .catch(err => showError(`Javascript Error: ${err.message}<br>This usually means there's a typo in your chart specification. See the javascript console for the full traceback.`));\n",
       "    }\n",
       "\n",
       "    if(typeof define === \"function\" && define.amd) {\n",
       "      requirejs.config({paths});\n",
       "      require([\"vega-embed\"], displayChart, err => showError(`Error loading script: ${err.message}`));\n",
       "    } else if (typeof vegaEmbed === \"function\") {\n",
       "      displayChart(vegaEmbed);\n",
       "    } else {\n",
       "      loadScript(\"vega\")\n",
       "        .then(() => loadScript(\"vega-lite\"))\n",
       "        .then(() => loadScript(\"vega-embed\"))\n",
       "        .catch(showError)\n",
       "        .then(() => displayChart(vegaEmbed));\n",
       "    }\n",
       "  })({\"config\": {\"view\": {\"continuousWidth\": 400, \"continuousHeight\": 300}}, \"layer\": [{\"mark\": \"line\", \"encoding\": {\"color\": {\"type\": \"nominal\", \"field\": \"RAUM_lang\", \"legend\": {\"orient\": \"right\", \"title\": \"Stadtquartier\"}}, \"size\": {\"condition\": {\"value\": 0.5, \"selection\": {\"not\": \"selector009\"}}, \"value\": 4}, \"tooltip\": [{\"type\": \"temporal\", \"field\": \"StichtagDatJahr\"}, {\"type\": \"nominal\", \"field\": \"RAUM_lang\"}, {\"type\": \"quantitative\", \"field\": \"RAUM_my_sort\"}, {\"type\": \"quantitative\", \"field\": \"sum_WBev\"}], \"x\": {\"type\": \"temporal\", \"axis\": {\"title\": \"Jahr\"}, \"field\": \"StichtagDatJahr\"}, \"y\": {\"type\": \"quantitative\", \"axis\": {\"title\": \"Anz. Personen\"}, \"field\": \"sum_WBev\"}}, \"selection\": {\"selector010\": {\"type\": \"interval\", \"bind\": \"scales\", \"encodings\": [\"x\", \"y\"]}}, \"title\": \"Entwicklung Wohnbev\\u00f6lkerung nach Stadtkreisen, 1890-1981\"}, {\"mark\": \"circle\", \"encoding\": {\"color\": {\"type\": \"nominal\", \"field\": \"RAUM_lang\", \"legend\": {\"orient\": \"right\", \"title\": \"Stadtquartier\"}}, \"opacity\": {\"value\": 0.75}, \"tooltip\": [{\"type\": \"temporal\", \"field\": \"StichtagDatJahr\"}, {\"type\": \"nominal\", \"field\": \"RAUM_lang\"}, {\"type\": \"quantitative\", \"field\": \"RAUM_my_sort\"}, {\"type\": \"quantitative\", \"field\": \"sum_WBev\"}], \"x\": {\"type\": \"temporal\", \"axis\": {\"title\": \"Jahr\"}, \"field\": \"StichtagDatJahr\"}, \"y\": {\"type\": \"quantitative\", \"axis\": {\"title\": \"Anz. Personen\"}, \"field\": \"sum_WBev\"}}, \"height\": 350, \"selection\": {\"selector009\": {\"type\": \"single\", \"on\": \"mouseover\", \"fields\": [\"RAUM_lang\"], \"nearest\": true}}, \"title\": \"Entwicklung Wohnbev\\u00f6lkerung nach Stadtkreisen, 1890-1981\", \"width\": 750}], \"data\": {\"name\": \"data-220484c878b2306fe57beb8eb6165004\"}, \"$schema\": \"https://vega.github.io/schema/vega-lite/v4.8.1.json\", \"datasets\": {\"data-220484c878b2306fe57beb8eb6165004\": [{\"StichtagDatJahr\": \"1956-12-31T00:00:00\", \"RAUM_code\": \"R01700\", \"RAUM_lang\": \"altes Quartier Schwamendingen (1934-1969); Kreis 12 (ab 1970)\", \"RAUM_my_sort\": 1700, \"sum_WBev\": 26069.0}]}}, {\"mode\": \"vega-lite\"});\n",
       "</script>"
      ],
      "text/plain": [
       "alt.LayerChart(...)"
      ]
     },
     "execution_count": 59,
     "metadata": {},
     "output_type": "execute_result"
    }
   ],
   "source": [
    "myTitle=\"Entwicklung Wohnbevölkerung nach Stadtkreisen, 1890-1981\"\n",
    "\n",
    "highlight = alt.selection(type='single', on='mouseover',\n",
    "                          fields=['RAUM_lang'], nearest=True)\n",
    "#x='date:StichtagDatJahr',\n",
    "base = alt.Chart(myAgg2.reset_index().query('RAUM_my_sort > 100'), title=myTitle).encode(\n",
    "    x=alt.X('StichtagDatJahr', axis=alt.Axis(title='Jahr'))# , axis=alt.Axis(format='%', title='percentage')\n",
    "    , y=alt.X('sum_WBev', axis=alt.Axis(title='Anz. Personen'))\n",
    "    , color=alt.Color('RAUM_lang', legend=alt.Legend(title=\"Stadtquartier\", orient=\"right\"))  \n",
    "    ,tooltip=['StichtagDatJahr', 'RAUM_lang','RAUM_my_sort','sum_WBev']    \n",
    ")\n",
    "points = base.mark_circle().encode(\n",
    "    opacity=alt.value(0.75)\n",
    ").add_selection(\n",
    "    highlight\n",
    ").properties(\n",
    "    width=750 , height=350\n",
    ")\n",
    "lines = base.mark_line().encode(\n",
    "    size=alt.condition(~highlight, alt.value(0.5), alt.value(4))\n",
    ").interactive()\n",
    "\n",
    "lines + points"
   ]
  },
  {
   "cell_type": "markdown",
   "metadata": {
    "tags": []
   },
   "source": [
    "#### Barcharts mit Seaborn"
   ]
  },
  {
   "cell_type": "code",
   "execution_count": 49,
   "metadata": {},
   "outputs": [
    {
     "data": {
      "text/html": [
       "<div>\n",
       "<style scoped>\n",
       "    .dataframe tbody tr th:only-of-type {\n",
       "        vertical-align: middle;\n",
       "    }\n",
       "\n",
       "    .dataframe tbody tr th {\n",
       "        vertical-align: top;\n",
       "    }\n",
       "\n",
       "    .dataframe thead th {\n",
       "        text-align: right;\n",
       "    }\n",
       "</style>\n",
       "<table border=\"1\" class=\"dataframe\">\n",
       "  <thead>\n",
       "    <tr style=\"text-align: right;\">\n",
       "      <th></th>\n",
       "      <th>StichtagDatJahr</th>\n",
       "      <th>Jahr_nbr</th>\n",
       "      <th>RAUM_lang</th>\n",
       "      <th>RAUM_code</th>\n",
       "      <th>sum_WBev</th>\n",
       "    </tr>\n",
       "  </thead>\n",
       "  <tbody>\n",
       "    <tr>\n",
       "      <th>0</th>\n",
       "      <td>2018-12-31</td>\n",
       "      <td>2018</td>\n",
       "      <td>Kreis 8 (ab 1915)</td>\n",
       "      <td>R01100</td>\n",
       "      <td>16788</td>\n",
       "    </tr>\n",
       "    <tr>\n",
       "      <th>1</th>\n",
       "      <td>2020-12-31</td>\n",
       "      <td>2020</td>\n",
       "      <td>altes Quartier Schwamendingen (1934-1969); Kre...</td>\n",
       "      <td>R01700</td>\n",
       "      <td>32845</td>\n",
       "    </tr>\n",
       "    <tr>\n",
       "      <th>2</th>\n",
       "      <td>2021-12-31</td>\n",
       "      <td>2021</td>\n",
       "      <td>Kreis 1 (Stadtgebiet vor 1893)</td>\n",
       "      <td>R10000</td>\n",
       "      <td>5817</td>\n",
       "    </tr>\n",
       "  </tbody>\n",
       "</table>\n",
       "</div>"
      ],
      "text/plain": [
       "  StichtagDatJahr  Jahr_nbr                                          RAUM_lang RAUM_code  sum_WBev\n",
       "0      2018-12-31      2018                                  Kreis 8 (ab 1915)    R01100     16788\n",
       "1      2020-12-31      2020  altes Quartier Schwamendingen (1934-1969); Kre...    R01700     32845\n",
       "2      2021-12-31      2021                     Kreis 1 (Stadtgebiet vor 1893)    R10000      5817"
      ]
     },
     "execution_count": 49,
     "metadata": {},
     "output_type": "execute_result"
    }
   ],
   "source": [
    "#myAgg = data2betested.loc[\"2008-11-30\":\"2021-10-31\"]\n",
    "myAggBar = data2betested.loc[\"2015\":data_max_date]\\\n",
    "    .groupby(['StichtagDatJahr','Jahr_nbr', 'RAUM_lang', 'RAUM_code']) \\\n",
    "    .agg(sum_WBev=('BEW', 'sum')) \\\n",
    "    .sort_values('StichtagDatJahr', ascending=True) \n",
    "\n",
    "myAggBar.reset_index().head(3)"
   ]
  },
  {
   "cell_type": "code",
   "execution_count": 50,
   "metadata": {},
   "outputs": [],
   "source": [
    "#help(sns.catplot)     "
   ]
  },
  {
   "cell_type": "code",
   "execution_count": 51,
   "metadata": {},
   "outputs": [],
   "source": [
    "#Stile for the following sns graphs\n",
    "sns.set_theme(style=\"whitegrid\")"
   ]
  },
  {
   "cell_type": "code",
   "execution_count": 52,
   "metadata": {},
   "outputs": [
    {
     "data": {
      "text/plain": [
       "<seaborn.axisgrid.FacetGrid at 0x1f26070b1c8>"
      ]
     },
     "execution_count": 52,
     "metadata": {},
     "output_type": "execute_result"
    },
    {
     "data": {
      "image/png": "[encoded data removed]",
      "text/plain": [
       "<Figure size 1494x500 with 1 Axes>"
      ]
     },
     "metadata": {},
     "output_type": "display_data"
    }
   ],
   "source": [
    "#sns.color_palette(\"flare\", as_cmap=True)\n",
    "myHist = sns.catplot(x=\"Jahr_nbr\"\n",
    "            , y=\"sum_WBev\"\n",
    "            , hue=\"RAUM_lang\"\n",
    "            , kind=\"bar\" #boxen, violin, --> wenn die aggregation nicht genau den werten in der grafik entspricht\n",
    "            , palette=\"pastel\" #, color=\"green\"\n",
    "            , height=5\n",
    "            , aspect=2\n",
    "            , order=None, legend_out=True\n",
    "            ,data=myAggBar.reset_index().sort_values(\"RAUM_code\", ascending=True)\n",
    "           )\n",
    "myHist.set_xlabels('Quartiere', fontsize=11) # not set_label\n",
    "myHist.set_ylabels('Anz. Pers.', fontsize=11)\n"
   ]
  },
  {
   "cell_type": "code",
   "execution_count": 53,
   "metadata": {},
   "outputs": [
    {
     "data": {
      "text/plain": [
       "Index(['ZEIT_lang', 'ZEIT_code', 'RAUM_lang', 'RAUM_code', 'BEW', 'StichtagDatJahr_str',\n",
       "       'Jahr_nbr', 'RAUM_my_sort'],\n",
       "      dtype='object')"
      ]
     },
     "execution_count": 53,
     "metadata": {},
     "output_type": "execute_result"
    }
   ],
   "source": [
    "data2betested.columns"
   ]
  },
  {
   "cell_type": "code",
   "execution_count": 54,
   "metadata": {},
   "outputs": [
    {
     "data": {
      "text/html": [
       "<div>\n",
       "<style scoped>\n",
       "    .dataframe tbody tr th:only-of-type {\n",
       "        vertical-align: middle;\n",
       "    }\n",
       "\n",
       "    .dataframe tbody tr th {\n",
       "        vertical-align: top;\n",
       "    }\n",
       "\n",
       "    .dataframe thead th {\n",
       "        text-align: right;\n",
       "    }\n",
       "</style>\n",
       "<table border=\"1\" class=\"dataframe\">\n",
       "  <thead>\n",
       "    <tr style=\"text-align: right;\">\n",
       "      <th></th>\n",
       "      <th></th>\n",
       "      <th></th>\n",
       "      <th></th>\n",
       "      <th></th>\n",
       "      <th>sum_WBev</th>\n",
       "    </tr>\n",
       "    <tr>\n",
       "      <th>Jahr_nbr</th>\n",
       "      <th>StichtagDatJahr_str</th>\n",
       "      <th>RAUM_lang</th>\n",
       "      <th>RAUM_code</th>\n",
       "      <th>RAUM_my_sort</th>\n",
       "      <th></th>\n",
       "    </tr>\n",
       "  </thead>\n",
       "  <tbody>\n",
       "    <tr>\n",
       "      <th>2022</th>\n",
       "      <th>2022-12-31</th>\n",
       "      <th>Kreis 5 (ab 1915)</th>\n",
       "      <th>R00800</th>\n",
       "      <th>800</th>\n",
       "      <td>15888</td>\n",
       "    </tr>\n",
       "    <tr>\n",
       "      <th>2018</th>\n",
       "      <th>2018-12-31</th>\n",
       "      <th>Kreis 8 (ab 1915)</th>\n",
       "      <th>R01100</th>\n",
       "      <th>1100</th>\n",
       "      <td>16788</td>\n",
       "    </tr>\n",
       "    <tr>\n",
       "      <th>2023</th>\n",
       "      <th>2023-12-31</th>\n",
       "      <th>Kreis 6 (ab 1934)</th>\n",
       "      <th>R01200</th>\n",
       "      <th>1200</th>\n",
       "      <td>35688</td>\n",
       "    </tr>\n",
       "    <tr>\n",
       "      <th>1956</th>\n",
       "      <th>1956-12-31</th>\n",
       "      <th>altes Quartier Schwamendingen (1934-1969); Kreis 12 (ab 1970)</th>\n",
       "      <th>R01700</th>\n",
       "      <th>1700</th>\n",
       "      <td>26069</td>\n",
       "    </tr>\n",
       "    <tr>\n",
       "      <th>2020</th>\n",
       "      <th>2020-12-31</th>\n",
       "      <th>altes Quartier Schwamendingen (1934-1969); Kreis 12 (ab 1970)</th>\n",
       "      <th>R01700</th>\n",
       "      <th>1700</th>\n",
       "      <td>32845</td>\n",
       "    </tr>\n",
       "    <tr>\n",
       "      <th>2021</th>\n",
       "      <th>2021-12-31</th>\n",
       "      <th>Kreis 1 (Stadtgebiet vor 1893)</th>\n",
       "      <th>R10000</th>\n",
       "      <th>10000</th>\n",
       "      <td>5817</td>\n",
       "    </tr>\n",
       "  </tbody>\n",
       "</table>\n",
       "</div>"
      ],
      "text/plain": [
       "                                                                                                        sum_WBev\n",
       "Jahr_nbr StichtagDatJahr_str RAUM_lang                                          RAUM_code RAUM_my_sort          \n",
       "2022     2022-12-31          Kreis 5 (ab 1915)                                  R00800    800              15888\n",
       "2018     2018-12-31          Kreis 8 (ab 1915)                                  R01100    1100             16788\n",
       "2023     2023-12-31          Kreis 6 (ab 1934)                                  R01200    1200             35688\n",
       "1956     1956-12-31          altes Quartier Schwamendingen (1934-1969); Krei... R01700    1700             26069\n",
       "2020     2020-12-31          altes Quartier Schwamendingen (1934-1969); Krei... R01700    1700             32845\n",
       "2021     2021-12-31          Kreis 1 (Stadtgebiet vor 1893)                     R10000    10000             5817"
      ]
     },
     "execution_count": 54,
     "metadata": {},
     "output_type": "execute_result"
    }
   ],
   "source": [
    "myAggBar = data2betested.loc[data_min_date:data_max_date]\\\n",
    "    .groupby(['Jahr_nbr','StichtagDatJahr_str', 'RAUM_lang', 'RAUM_code', 'RAUM_my_sort']) \\\n",
    "    .agg(sum_WBev=('BEW', 'sum')) \\\n",
    "    .sort_values('RAUM_my_sort', ascending=True) \n",
    "\n",
    "myAggBar"
   ]
  },
  {
   "cell_type": "code",
   "execution_count": 55,
   "metadata": {},
   "outputs": [
    {
     "data": {
      "text/plain": [
       "<seaborn.axisgrid.FacetGrid at 0x1f2604b5cc8>"
      ]
     },
     "execution_count": 55,
     "metadata": {},
     "output_type": "execute_result"
    },
    {
     "data": {
      "image/png": "[encoded data removed]",
      "text/plain": [
       "<Figure size 1694x600 with 5 Axes>"
      ]
     },
     "metadata": {},
     "output_type": "display_data"
    }
   ],
   "source": [
    "g2 = sns.FacetGrid(myAggBar.reset_index(), col=\"RAUM_code\", hue=\"RAUM_lang\", col_wrap=4, height=3,)\n",
    "g2.map(sns.lineplot, \"Jahr_nbr\",\"sum_WBev\",alpha=.8)\n",
    "\n",
    "g2.set_axis_labels(\"\",\"Anz. Personen\")\n",
    "g2.set_titles(col_template=\"{col_name}\", row_template=\"{row_name}\")\n",
    "\n",
    "g2.add_legend()\n"
   ]
  },
  {
   "cell_type": "markdown",
   "metadata": {},
   "source": [
    "## ---------------------- hier Plausi beendet\n",
    "\n",
    "Übersicht zu LOSD-Jobs:\n",
    "[Sharepoint](https://kollaboration.intranet.stzh.ch/orga/ssz-produkte/Lists/SASA_Outputs/OGD%20Metadaten.aspx#InplviewHasheb69a2c0-ed94-4ef2-91a5-3b19f038e442=FilterField1%3DMetadaten%255Fx002d%255FPublikations%255Fx00-FilterValue1%3DINT)"
   ]
  }
 ],
 "metadata": {
  "kernelspec": {
   "display_name": "Python 3 (ipykernel)",
   "language": "python",
   "name": "python3"
  },
  "language_info": {
   "codemirror_mode": {
    "name": "ipython",
    "version": 3
   },
   "file_extension": ".py",
   "mimetype": "text/x-python",
   "name": "python",
   "nbconvert_exporter": "python",
   "pygments_lexer": "ipython3",
   "version": "3.7.16"
  }
 },
 "nbformat": 4,
 "nbformat_minor": 4
}
