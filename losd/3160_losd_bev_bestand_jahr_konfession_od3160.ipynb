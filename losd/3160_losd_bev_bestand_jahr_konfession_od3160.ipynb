{
 "cells": [
  {
   "attachments": {},
   "cell_type": "markdown",
   "metadata": {},
   "source": [
    "# Testing LOSD\n",
    "### Bevölkerung nach Konfession, seit 1934\n",
    "\n",
    "Wirtschaftliche Wohnbevölkerung der Stadt Zürich nach Religion und Jahr, seit 1934.\n",
    "\n",
    "https://data.integ.stadt-zuerich.ch/dataset/bev316od3160\n",
    "\n",
    "Datum: 15.03.2024\n",
    "\n",
    "### Colab\n",
    "Mit Colab kann das Jupyter-Notebook interaktiv im Browser gestartet werden. \n",
    "\n",
    "Klicke auf den Button:\n",
    "[![Open In Colab](https://colab.research.google.com/assets/colab-badge.svg)](https://github.com/DonGoginho/colab/blob/main/losd/3160_losd_bev_bestand_jahr_konfession_od3160.ipynb)\n"
   ]
  },
  {
   "cell_type": "markdown",
   "metadata": {},
   "source": [
    "### Importiere die notwendigen Packages"
   ]
  },
  {
   "cell_type": "code",
   "execution_count": 21,
   "metadata": {},
   "outputs": [],
   "source": [
    "#%pip install altair datetime folium geopandas io requests matplotlib numpy pandas seaborn plotly"
   ]
  },
  {
   "cell_type": "code",
   "execution_count": 22,
   "metadata": {},
   "outputs": [],
   "source": [
    "import altair as alt\n",
    "import datetime\n",
    "import folium \n",
    "import geopandas as gpd\n",
    "import io\n",
    "import matplotlib.pyplot as plt\n",
    "import numpy as np\n",
    "import pandas as pd\n",
    "#import pivottablejs\n",
    "#from pivottablejs import pivot_ui\n",
    "import plotly.express as px\n",
    "import requests\n",
    "import seaborn as sns"
   ]
  },
  {
   "cell_type": "code",
   "execution_count": 23,
   "metadata": {},
   "outputs": [],
   "source": [
    "SSL_VERIFY = False\n",
    "# evtl. SSL_VERIFY auf False setzen wenn die Verbindung zu https://www.gemeinderat-zuerich.ch nicht klappt (z.B. wegen Proxy)\n",
    "# Um die SSL Verifikation auszustellen, bitte die nächste Zeile einkommentieren (\"#\" entfernen)\n",
    "# SSL_VERIFY = False"
   ]
  },
  {
   "cell_type": "code",
   "execution_count": 24,
   "metadata": {},
   "outputs": [],
   "source": [
    "if not SSL_VERIFY:\n",
    "    import urllib3\n",
    "    urllib3.disable_warnings()"
   ]
  },
  {
   "cell_type": "markdown",
   "metadata": {},
   "source": [
    "Definiere Settings. Hier das Zahlenformat von Float-Werten (z.B. *'{:,.2f}'.format* mit Komma als Tausenderzeichen), "
   ]
  },
  {
   "cell_type": "code",
   "execution_count": 25,
   "metadata": {},
   "outputs": [],
   "source": [
    "#pd.options.display.float_format = lambda x : '{:,.1f}'.format(x) if (np.isnan(x) | np.isinf(x)) else '{:,.0f}'.format(x) if int(x) == x else '{:,.1f}'.format(x)\n",
    "pd.options.display.float_format = '{:.0f}'.format\n",
    "pd.set_option('display.width', 100)\n",
    "pd.set_option('display.max_columns', 15)"
   ]
  },
  {
   "cell_type": "markdown",
   "metadata": {},
   "source": [
    "### Setze einige Pfadvariabeln"
   ]
  },
  {
   "cell_type": "markdown",
   "metadata": {},
   "source": [
    "**BITTE HIER ANPASSEN**"
   ]
  },
  {
   "cell_type": "code",
   "execution_count": 26,
   "metadata": {},
   "outputs": [
    {
     "name": "stdout",
     "output_type": "stream",
     "text": [
      "BEV316OD3160\n"
     ]
    }
   ],
   "source": [
    "package_name = \"bev316od3160\"\n",
    "package_name = package_name.upper()\n",
    "print(package_name)"
   ]
  },
  {
   "cell_type": "code",
   "execution_count": 27,
   "metadata": {
    "tags": []
   },
   "outputs": [],
   "source": [
    "dataset_name = \"bev316od3160.csv\""
   ]
  },
  {
   "cell_type": "markdown",
   "metadata": {},
   "source": [
    "**Statische Pfade CKAN-URLs**"
   ]
  },
  {
   "cell_type": "code",
   "execution_count": 28,
   "metadata": {
    "tags": []
   },
   "outputs": [],
   "source": [
    "ckan_integ_url =\"https://data.integ.stadt-zuerich.ch/dataset/\"\n",
    "ld_integ_url =\"https://ld.integ.stadt-zuerich.ch/statistics/view/\""
   ]
  },
  {
   "cell_type": "code",
   "execution_count": 29,
   "metadata": {},
   "outputs": [],
   "source": [
    "ckan_prod_url =\"https://data.stadt-zuerich.ch/dataset/\"\n",
    "ld_prod_url =\"https://ld.stadt-zuerich.ch/statistics/view/\""
   ]
  },
  {
   "cell_type": "markdown",
   "metadata": {
    "tags": []
   },
   "source": [
    "### Checke die Metadaten auf der CKAN INTEG- oder PROD-Webseite\n",
    "\n",
    "Offenbar lassen sich aktuell im Markdownteil keine Variabeln ausführen, daher gehen wir wie unten gezeigt vor. Siehe dazu: https://data-dive.com/jupyterlab-markdown-cells-include-variables\n",
    "Instead of setting the cell to Markdown, create Markdown from withnin a code cell! We can just use python variable replacement syntax to make the text dynamic"
   ]
  },
  {
   "cell_type": "code",
   "execution_count": 30,
   "metadata": {},
   "outputs": [],
   "source": [
    "from IPython.display import Markdown as md"
   ]
  },
  {
   "cell_type": "code",
   "execution_count": 31,
   "metadata": {},
   "outputs": [
    {
     "data": {
      "text/markdown": [
       " **1. Dataset auf INTEG-Datakatalog:** Link https://data.integ.stadt-zuerich.ch/dataset/bev316od3160 "
      ],
      "text/plain": [
       "<IPython.core.display.Markdown object>"
      ]
     },
     "execution_count": 31,
     "metadata": {},
     "output_type": "execute_result"
    }
   ],
   "source": [
    "md(\" **1. Dataset auf INTEG-Datakatalog:** Link {} \".format(ckan_integ_url+package_name.lower()))"
   ]
  },
  {
   "cell_type": "code",
   "execution_count": 32,
   "metadata": {},
   "outputs": [
    {
     "data": {
      "text/markdown": [
       " **2. Dataset auf INTEG-LD:** Link https://ld.integ.stadt-zuerich.ch/statistics/view/BEV316OD3160 "
      ],
      "text/plain": [
       "<IPython.core.display.Markdown object>"
      ]
     },
     "execution_count": 32,
     "metadata": {},
     "output_type": "execute_result"
    }
   ],
   "source": [
    "md(\" **2. Dataset auf INTEG-LD:** Link {} \".format(ld_integ_url+package_name.upper()))"
   ]
  },
  {
   "cell_type": "code",
   "execution_count": 33,
   "metadata": {},
   "outputs": [
    {
     "data": {
      "text/markdown": [
       " **3. Dataset auf PROD-Datakatalog:** Link https://data.stadt-zuerich.ch/dataset/bev316od3160 "
      ],
      "text/plain": [
       "<IPython.core.display.Markdown object>"
      ]
     },
     "execution_count": 33,
     "metadata": {},
     "output_type": "execute_result"
    }
   ],
   "source": [
    "md(\" **3. Dataset auf PROD-Datakatalog:** Link {} \".format(ckan_prod_url+package_name.lower()))"
   ]
  },
  {
   "cell_type": "code",
   "execution_count": 34,
   "metadata": {},
   "outputs": [
    {
     "data": {
      "text/markdown": [
       " **4. Dataset auf PROD-LD:** Link https://ld.stadt-zuerich.ch/statistics/view/BEV316OD3160 "
      ],
      "text/plain": [
       "<IPython.core.display.Markdown object>"
      ]
     },
     "execution_count": 34,
     "metadata": {},
     "output_type": "execute_result"
    }
   ],
   "source": [
    "md(\" **4. Dataset auf PROD-LD:** Link {} \".format(ld_prod_url+package_name.upper()))"
   ]
  },
  {
   "cell_type": "markdown",
   "metadata": {
    "tags": []
   },
   "source": [
    "### Setze ein paar Zeitvariabeln\n",
    "Zum Unterschied zwischen import datetime und from datedtime import datetime, siehe [Link](https://stackoverflow.com/questions/15707532/import-datetime-v-s-from-datetime-import-datetime)\n",
    "Zuerst die Zeitvariabeln als Strings"
   ]
  },
  {
   "cell_type": "code",
   "execution_count": 35,
   "metadata": {},
   "outputs": [],
   "source": [
    "now = datetime.date.today()\n",
    "year_today = now.strftime(\"%Y\")"
   ]
  },
  {
   "cell_type": "markdown",
   "metadata": {},
   "source": [
    "Und hier noch die Zeitvariabeln als Integers:\n",
    "- `aktuellesJahr`\n",
    "- `aktuellerMonat`: Der gerade jetzt aktuelle Monat\n",
    "- `selectedMonat`: Der aktuellste Monat in den Daten. In der Regel zwei Monate her."
   ]
  },
  {
   "cell_type": "code",
   "execution_count": 36,
   "metadata": {},
   "outputs": [],
   "source": [
    "int_times = now.timetuple()\n",
    "aktuellesJahr = int_times[0]\n",
    "aktuellerMonat = int_times[1]\n",
    "selectedMonat = int_times[1]-2\n",
    "#print(aktuellesJahr, aktuellerMonat,'datenstand: ', selectedMonat, int_times)"
   ]
  },
  {
   "cell_type": "markdown",
   "metadata": {
    "tags": []
   },
   "source": [
    "### Importiere den Datensatz \n",
    "\n",
    "Definiere zuerst folgende Werte:\n",
    "1) Kommt der Datensatz von PROD oder INTEG?\n",
    "2) Beziehst Du den Datensatz direkt ab der DROPZONE oder aus dem INTERNET?"
   ]
  },
  {
   "cell_type": "code",
   "execution_count": 37,
   "metadata": {},
   "outputs": [
    {
     "name": "stdout",
     "output_type": "stream",
     "text": [
      "int - web\n"
     ]
    }
   ],
   "source": [
    "#Die Datasets sind nur zum Testen auf INT-DWH-Dropzone. Wenn der Test vorbei ist, sind sie auf PROD. \n",
    "# Über den Status kann man einfach switchen\n",
    "\n",
    "status = \"int\"; #prod vs something else\n",
    "data_source = \"web\"; #dropzone vs something else\n",
    "print(status+\" - \"+ data_source)"
   ]
  },
  {
   "cell_type": "code",
   "execution_count": 38,
   "metadata": {
    "tags": []
   },
   "outputs": [
    {
     "name": "stdout",
     "output_type": "stream",
     "text": [
      "fp lautet:https://ld.integ.stadt-zuerich.ch/statistics/view/BEV316OD3160/observation?format=csv\n"
     ]
    }
   ],
   "source": [
    "# Filepath\n",
    "if status == \"prod\":\n",
    "    if data_source == \"dropzone\":\n",
    "            #fp = dropzone_path_prod+\"\\\\\"+ package_name +\"\\\\\"+dataset_name\n",
    "            print(\"fp lautet:\"+fp)\n",
    "    else:\n",
    "        #fp = ckan_prod_url+package_name+'/download/'+dataset_name\n",
    "        fp = ld_prod_url+package_name+'/observation?format=csv'\n",
    "        print(\"fp lautet:\"+fp)\n",
    "else:\n",
    "    if data_source == \"dropzone\":\n",
    "        #fp = dropzone_path_integ+\"\\\\\"+ package_name +\"\\\\\"+dataset_name\n",
    "        print(\"fp lautet:\"+fp)\n",
    "    else:\n",
    "        #fp = ckan_integ_url+package_name+'/download/'+dataset_name\n",
    "        fp = ld_integ_url+package_name+'/observation?format=csv'\n",
    "        print(\"fp lautet:\"+fp)\n"
   ]
  },
  {
   "cell_type": "code",
   "execution_count": 39,
   "metadata": {},
   "outputs": [
    {
     "ename": "ProxyError",
     "evalue": "HTTPSConnectionPool(host='ld.integ.stadt-zuerich.ch', port=443): Max retries exceeded with url: /statistics/view/BEV316OD3160/observation?format=csv (Caused by ProxyError('Cannot connect to proxy.', OSError('Tunnel connection failed: 407 authenticationrequired')))",
     "output_type": "error",
     "traceback": [
      "\u001b[1;31m---------------------------------------------------------------------------\u001b[0m",
      "\u001b[1;31mOSError\u001b[0m                                   Traceback (most recent call last)",
      "\u001b[1;32mc:\\ProgramData\\Anaconda3\\envs\\gogo_gis\\lib\\site-packages\\urllib3\\connectionpool.py\u001b[0m in \u001b[0;36murlopen\u001b[1;34m(self, method, url, body, headers, retries, redirect, assert_same_host, timeout, pool_timeout, release_conn, chunked, body_pos, **response_kw)\u001b[0m\n\u001b[0;32m    699\u001b[0m             \u001b[1;32mif\u001b[0m \u001b[0mis_new_proxy_conn\u001b[0m \u001b[1;32mand\u001b[0m \u001b[0mhttp_tunnel_required\u001b[0m\u001b[1;33m:\u001b[0m\u001b[1;33m\u001b[0m\u001b[1;33m\u001b[0m\u001b[0m\n\u001b[1;32m--> 700\u001b[1;33m                 \u001b[0mself\u001b[0m\u001b[1;33m.\u001b[0m\u001b[0m_prepare_proxy\u001b[0m\u001b[1;33m(\u001b[0m\u001b[0mconn\u001b[0m\u001b[1;33m)\u001b[0m\u001b[1;33m\u001b[0m\u001b[1;33m\u001b[0m\u001b[0m\n\u001b[0m\u001b[0;32m    701\u001b[0m \u001b[1;33m\u001b[0m\u001b[0m\n",
      "\u001b[1;32mc:\\ProgramData\\Anaconda3\\envs\\gogo_gis\\lib\\site-packages\\urllib3\\connectionpool.py\u001b[0m in \u001b[0;36m_prepare_proxy\u001b[1;34m(self, conn)\u001b[0m\n\u001b[0;32m    993\u001b[0m \u001b[1;33m\u001b[0m\u001b[0m\n\u001b[1;32m--> 994\u001b[1;33m         \u001b[0mconn\u001b[0m\u001b[1;33m.\u001b[0m\u001b[0mconnect\u001b[0m\u001b[1;33m(\u001b[0m\u001b[1;33m)\u001b[0m\u001b[1;33m\u001b[0m\u001b[1;33m\u001b[0m\u001b[0m\n\u001b[0m\u001b[0;32m    995\u001b[0m \u001b[1;33m\u001b[0m\u001b[0m\n",
      "\u001b[1;32mc:\\ProgramData\\Anaconda3\\envs\\gogo_gis\\lib\\site-packages\\urllib3\\connection.py\u001b[0m in \u001b[0;36mconnect\u001b[1;34m(self)\u001b[0m\n\u001b[0;32m    370\u001b[0m             \u001b[1;31m# self._tunnel_host below.\u001b[0m\u001b[1;33m\u001b[0m\u001b[1;33m\u001b[0m\u001b[1;33m\u001b[0m\u001b[0m\n\u001b[1;32m--> 371\u001b[1;33m             \u001b[0mself\u001b[0m\u001b[1;33m.\u001b[0m\u001b[0m_tunnel\u001b[0m\u001b[1;33m(\u001b[0m\u001b[1;33m)\u001b[0m\u001b[1;33m\u001b[0m\u001b[1;33m\u001b[0m\u001b[0m\n\u001b[0m\u001b[0;32m    372\u001b[0m             \u001b[1;31m# Mark this connection as not reusable\u001b[0m\u001b[1;33m\u001b[0m\u001b[1;33m\u001b[0m\u001b[1;33m\u001b[0m\u001b[0m\n",
      "\u001b[1;32mc:\\ProgramData\\Anaconda3\\envs\\gogo_gis\\lib\\http\\client.py\u001b[0m in \u001b[0;36m_tunnel\u001b[1;34m(self)\u001b[0m\n\u001b[0;32m    930\u001b[0m             raise OSError(\"Tunnel connection failed: %d %s\" % (code,\n\u001b[1;32m--> 931\u001b[1;33m                                                                message.strip()))\n\u001b[0m\u001b[0;32m    932\u001b[0m         \u001b[1;32mwhile\u001b[0m \u001b[1;32mTrue\u001b[0m\u001b[1;33m:\u001b[0m\u001b[1;33m\u001b[0m\u001b[1;33m\u001b[0m\u001b[0m\n",
      "\u001b[1;31mOSError\u001b[0m: Tunnel connection failed: 407 authenticationrequired",
      "\nDuring handling of the above exception, another exception occurred:\n",
      "\u001b[1;31mMaxRetryError\u001b[0m                             Traceback (most recent call last)",
      "\u001b[1;32mc:\\ProgramData\\Anaconda3\\envs\\gogo_gis\\lib\\site-packages\\requests\\adapters.py\u001b[0m in \u001b[0;36msend\u001b[1;34m(self, request, stream, timeout, verify, cert, proxies)\u001b[0m\n\u001b[0;32m    498\u001b[0m                     \u001b[0mretries\u001b[0m\u001b[1;33m=\u001b[0m\u001b[0mself\u001b[0m\u001b[1;33m.\u001b[0m\u001b[0mmax_retries\u001b[0m\u001b[1;33m,\u001b[0m\u001b[1;33m\u001b[0m\u001b[1;33m\u001b[0m\u001b[0m\n\u001b[1;32m--> 499\u001b[1;33m                     \u001b[0mtimeout\u001b[0m\u001b[1;33m=\u001b[0m\u001b[0mtimeout\u001b[0m\u001b[1;33m,\u001b[0m\u001b[1;33m\u001b[0m\u001b[1;33m\u001b[0m\u001b[0m\n\u001b[0m\u001b[0;32m    500\u001b[0m                 )\n",
      "\u001b[1;32mc:\\ProgramData\\Anaconda3\\envs\\gogo_gis\\lib\\site-packages\\urllib3\\connectionpool.py\u001b[0m in \u001b[0;36murlopen\u001b[1;34m(self, method, url, body, headers, retries, redirect, assert_same_host, timeout, pool_timeout, release_conn, chunked, body_pos, **response_kw)\u001b[0m\n\u001b[0;32m    785\u001b[0m             retries = retries.increment(\n\u001b[1;32m--> 786\u001b[1;33m                 \u001b[0mmethod\u001b[0m\u001b[1;33m,\u001b[0m \u001b[0murl\u001b[0m\u001b[1;33m,\u001b[0m \u001b[0merror\u001b[0m\u001b[1;33m=\u001b[0m\u001b[0me\u001b[0m\u001b[1;33m,\u001b[0m \u001b[0m_pool\u001b[0m\u001b[1;33m=\u001b[0m\u001b[0mself\u001b[0m\u001b[1;33m,\u001b[0m \u001b[0m_stacktrace\u001b[0m\u001b[1;33m=\u001b[0m\u001b[0msys\u001b[0m\u001b[1;33m.\u001b[0m\u001b[0mexc_info\u001b[0m\u001b[1;33m(\u001b[0m\u001b[1;33m)\u001b[0m\u001b[1;33m[\u001b[0m\u001b[1;36m2\u001b[0m\u001b[1;33m]\u001b[0m\u001b[1;33m\u001b[0m\u001b[1;33m\u001b[0m\u001b[0m\n\u001b[0m\u001b[0;32m    787\u001b[0m             )\n",
      "\u001b[1;32mc:\\ProgramData\\Anaconda3\\envs\\gogo_gis\\lib\\site-packages\\urllib3\\util\\retry.py\u001b[0m in \u001b[0;36mincrement\u001b[1;34m(self, method, url, response, error, _pool, _stacktrace)\u001b[0m\n\u001b[0;32m    591\u001b[0m         \u001b[1;32mif\u001b[0m \u001b[0mnew_retry\u001b[0m\u001b[1;33m.\u001b[0m\u001b[0mis_exhausted\u001b[0m\u001b[1;33m(\u001b[0m\u001b[1;33m)\u001b[0m\u001b[1;33m:\u001b[0m\u001b[1;33m\u001b[0m\u001b[1;33m\u001b[0m\u001b[0m\n\u001b[1;32m--> 592\u001b[1;33m             \u001b[1;32mraise\u001b[0m \u001b[0mMaxRetryError\u001b[0m\u001b[1;33m(\u001b[0m\u001b[0m_pool\u001b[0m\u001b[1;33m,\u001b[0m \u001b[0murl\u001b[0m\u001b[1;33m,\u001b[0m \u001b[0merror\u001b[0m \u001b[1;32mor\u001b[0m \u001b[0mResponseError\u001b[0m\u001b[1;33m(\u001b[0m\u001b[0mcause\u001b[0m\u001b[1;33m)\u001b[0m\u001b[1;33m)\u001b[0m\u001b[1;33m\u001b[0m\u001b[1;33m\u001b[0m\u001b[0m\n\u001b[0m\u001b[0;32m    593\u001b[0m \u001b[1;33m\u001b[0m\u001b[0m\n",
      "\u001b[1;31mMaxRetryError\u001b[0m: HTTPSConnectionPool(host='ld.integ.stadt-zuerich.ch', port=443): Max retries exceeded with url: /statistics/view/BEV316OD3160/observation?format=csv (Caused by ProxyError('Cannot connect to proxy.', OSError('Tunnel connection failed: 407 authenticationrequired')))",
      "\nDuring handling of the above exception, another exception occurred:\n",
      "\u001b[1;31mProxyError\u001b[0m                                Traceback (most recent call last)",
      "\u001b[1;32m~\\AppData\\Local\\Temp\\ipykernel_1704\\65784074.py\u001b[0m in \u001b[0;36m<module>\u001b[1;34m\u001b[0m\n\u001b[0;32m      9\u001b[0m     \u001b[0mprint\u001b[0m\u001b[1;33m(\u001b[0m\u001b[1;34m\"dropzone\"\u001b[0m\u001b[1;33m)\u001b[0m\u001b[1;33m\u001b[0m\u001b[1;33m\u001b[0m\u001b[0m\n\u001b[0;32m     10\u001b[0m \u001b[1;32melse\u001b[0m\u001b[1;33m:\u001b[0m\u001b[1;33m\u001b[0m\u001b[1;33m\u001b[0m\u001b[0m\n\u001b[1;32m---> 11\u001b[1;33m     \u001b[0mr\u001b[0m \u001b[1;33m=\u001b[0m \u001b[0mrequests\u001b[0m\u001b[1;33m.\u001b[0m\u001b[0mget\u001b[0m\u001b[1;33m(\u001b[0m\u001b[0mfp\u001b[0m\u001b[1;33m,\u001b[0m \u001b[0mverify\u001b[0m\u001b[1;33m=\u001b[0m\u001b[1;32mFalse\u001b[0m\u001b[1;33m)\u001b[0m\u001b[1;33m\u001b[0m\u001b[1;33m\u001b[0m\u001b[0m\n\u001b[0m\u001b[0;32m     12\u001b[0m     \u001b[0mr\u001b[0m\u001b[1;33m.\u001b[0m\u001b[0mencoding\u001b[0m \u001b[1;33m=\u001b[0m \u001b[1;34m'utf-8'\u001b[0m\u001b[1;33m\u001b[0m\u001b[1;33m\u001b[0m\u001b[0m\n\u001b[0;32m     13\u001b[0m     data2betested = pd.read_csv(\n",
      "\u001b[1;32mc:\\ProgramData\\Anaconda3\\envs\\gogo_gis\\lib\\site-packages\\requests\\api.py\u001b[0m in \u001b[0;36mget\u001b[1;34m(url, params, **kwargs)\u001b[0m\n\u001b[0;32m     71\u001b[0m     \"\"\"\n\u001b[0;32m     72\u001b[0m \u001b[1;33m\u001b[0m\u001b[0m\n\u001b[1;32m---> 73\u001b[1;33m     \u001b[1;32mreturn\u001b[0m \u001b[0mrequest\u001b[0m\u001b[1;33m(\u001b[0m\u001b[1;34m\"get\"\u001b[0m\u001b[1;33m,\u001b[0m \u001b[0murl\u001b[0m\u001b[1;33m,\u001b[0m \u001b[0mparams\u001b[0m\u001b[1;33m=\u001b[0m\u001b[0mparams\u001b[0m\u001b[1;33m,\u001b[0m \u001b[1;33m**\u001b[0m\u001b[0mkwargs\u001b[0m\u001b[1;33m)\u001b[0m\u001b[1;33m\u001b[0m\u001b[1;33m\u001b[0m\u001b[0m\n\u001b[0m\u001b[0;32m     74\u001b[0m \u001b[1;33m\u001b[0m\u001b[0m\n\u001b[0;32m     75\u001b[0m \u001b[1;33m\u001b[0m\u001b[0m\n",
      "\u001b[1;32mc:\\ProgramData\\Anaconda3\\envs\\gogo_gis\\lib\\site-packages\\requests\\api.py\u001b[0m in \u001b[0;36mrequest\u001b[1;34m(method, url, **kwargs)\u001b[0m\n\u001b[0;32m     57\u001b[0m     \u001b[1;31m# cases, and look like a memory leak in others.\u001b[0m\u001b[1;33m\u001b[0m\u001b[1;33m\u001b[0m\u001b[1;33m\u001b[0m\u001b[0m\n\u001b[0;32m     58\u001b[0m     \u001b[1;32mwith\u001b[0m \u001b[0msessions\u001b[0m\u001b[1;33m.\u001b[0m\u001b[0mSession\u001b[0m\u001b[1;33m(\u001b[0m\u001b[1;33m)\u001b[0m \u001b[1;32mas\u001b[0m \u001b[0msession\u001b[0m\u001b[1;33m:\u001b[0m\u001b[1;33m\u001b[0m\u001b[1;33m\u001b[0m\u001b[0m\n\u001b[1;32m---> 59\u001b[1;33m         \u001b[1;32mreturn\u001b[0m \u001b[0msession\u001b[0m\u001b[1;33m.\u001b[0m\u001b[0mrequest\u001b[0m\u001b[1;33m(\u001b[0m\u001b[0mmethod\u001b[0m\u001b[1;33m=\u001b[0m\u001b[0mmethod\u001b[0m\u001b[1;33m,\u001b[0m \u001b[0murl\u001b[0m\u001b[1;33m=\u001b[0m\u001b[0murl\u001b[0m\u001b[1;33m,\u001b[0m \u001b[1;33m**\u001b[0m\u001b[0mkwargs\u001b[0m\u001b[1;33m)\u001b[0m\u001b[1;33m\u001b[0m\u001b[1;33m\u001b[0m\u001b[0m\n\u001b[0m\u001b[0;32m     60\u001b[0m \u001b[1;33m\u001b[0m\u001b[0m\n\u001b[0;32m     61\u001b[0m \u001b[1;33m\u001b[0m\u001b[0m\n",
      "\u001b[1;32mc:\\ProgramData\\Anaconda3\\envs\\gogo_gis\\lib\\site-packages\\requests\\sessions.py\u001b[0m in \u001b[0;36mrequest\u001b[1;34m(self, method, url, params, data, headers, cookies, files, auth, timeout, allow_redirects, proxies, hooks, stream, verify, cert, json)\u001b[0m\n\u001b[0;32m    585\u001b[0m         }\n\u001b[0;32m    586\u001b[0m         \u001b[0msend_kwargs\u001b[0m\u001b[1;33m.\u001b[0m\u001b[0mupdate\u001b[0m\u001b[1;33m(\u001b[0m\u001b[0msettings\u001b[0m\u001b[1;33m)\u001b[0m\u001b[1;33m\u001b[0m\u001b[1;33m\u001b[0m\u001b[0m\n\u001b[1;32m--> 587\u001b[1;33m         \u001b[0mresp\u001b[0m \u001b[1;33m=\u001b[0m \u001b[0mself\u001b[0m\u001b[1;33m.\u001b[0m\u001b[0msend\u001b[0m\u001b[1;33m(\u001b[0m\u001b[0mprep\u001b[0m\u001b[1;33m,\u001b[0m \u001b[1;33m**\u001b[0m\u001b[0msend_kwargs\u001b[0m\u001b[1;33m)\u001b[0m\u001b[1;33m\u001b[0m\u001b[1;33m\u001b[0m\u001b[0m\n\u001b[0m\u001b[0;32m    588\u001b[0m \u001b[1;33m\u001b[0m\u001b[0m\n\u001b[0;32m    589\u001b[0m         \u001b[1;32mreturn\u001b[0m \u001b[0mresp\u001b[0m\u001b[1;33m\u001b[0m\u001b[1;33m\u001b[0m\u001b[0m\n",
      "\u001b[1;32mc:\\ProgramData\\Anaconda3\\envs\\gogo_gis\\lib\\site-packages\\requests\\sessions.py\u001b[0m in \u001b[0;36msend\u001b[1;34m(self, request, **kwargs)\u001b[0m\n\u001b[0;32m    699\u001b[0m \u001b[1;33m\u001b[0m\u001b[0m\n\u001b[0;32m    700\u001b[0m         \u001b[1;31m# Send the request\u001b[0m\u001b[1;33m\u001b[0m\u001b[1;33m\u001b[0m\u001b[1;33m\u001b[0m\u001b[0m\n\u001b[1;32m--> 701\u001b[1;33m         \u001b[0mr\u001b[0m \u001b[1;33m=\u001b[0m \u001b[0madapter\u001b[0m\u001b[1;33m.\u001b[0m\u001b[0msend\u001b[0m\u001b[1;33m(\u001b[0m\u001b[0mrequest\u001b[0m\u001b[1;33m,\u001b[0m \u001b[1;33m**\u001b[0m\u001b[0mkwargs\u001b[0m\u001b[1;33m)\u001b[0m\u001b[1;33m\u001b[0m\u001b[1;33m\u001b[0m\u001b[0m\n\u001b[0m\u001b[0;32m    702\u001b[0m \u001b[1;33m\u001b[0m\u001b[0m\n\u001b[0;32m    703\u001b[0m         \u001b[1;31m# Total elapsed time of the request (approximately)\u001b[0m\u001b[1;33m\u001b[0m\u001b[1;33m\u001b[0m\u001b[1;33m\u001b[0m\u001b[0m\n",
      "\u001b[1;32mc:\\ProgramData\\Anaconda3\\envs\\gogo_gis\\lib\\site-packages\\requests\\adapters.py\u001b[0m in \u001b[0;36msend\u001b[1;34m(self, request, stream, timeout, verify, cert, proxies)\u001b[0m\n\u001b[0;32m    557\u001b[0m \u001b[1;33m\u001b[0m\u001b[0m\n\u001b[0;32m    558\u001b[0m             \u001b[1;32mif\u001b[0m \u001b[0misinstance\u001b[0m\u001b[1;33m(\u001b[0m\u001b[0me\u001b[0m\u001b[1;33m.\u001b[0m\u001b[0mreason\u001b[0m\u001b[1;33m,\u001b[0m \u001b[0m_ProxyError\u001b[0m\u001b[1;33m)\u001b[0m\u001b[1;33m:\u001b[0m\u001b[1;33m\u001b[0m\u001b[1;33m\u001b[0m\u001b[0m\n\u001b[1;32m--> 559\u001b[1;33m                 \u001b[1;32mraise\u001b[0m \u001b[0mProxyError\u001b[0m\u001b[1;33m(\u001b[0m\u001b[0me\u001b[0m\u001b[1;33m,\u001b[0m \u001b[0mrequest\u001b[0m\u001b[1;33m=\u001b[0m\u001b[0mrequest\u001b[0m\u001b[1;33m)\u001b[0m\u001b[1;33m\u001b[0m\u001b[1;33m\u001b[0m\u001b[0m\n\u001b[0m\u001b[0;32m    560\u001b[0m \u001b[1;33m\u001b[0m\u001b[0m\n\u001b[0;32m    561\u001b[0m             \u001b[1;32mif\u001b[0m \u001b[0misinstance\u001b[0m\u001b[1;33m(\u001b[0m\u001b[0me\u001b[0m\u001b[1;33m.\u001b[0m\u001b[0mreason\u001b[0m\u001b[1;33m,\u001b[0m \u001b[0m_SSLError\u001b[0m\u001b[1;33m)\u001b[0m\u001b[1;33m:\u001b[0m\u001b[1;33m\u001b[0m\u001b[1;33m\u001b[0m\u001b[0m\n",
      "\u001b[1;31mProxyError\u001b[0m: HTTPSConnectionPool(host='ld.integ.stadt-zuerich.ch', port=443): Max retries exceeded with url: /statistics/view/BEV316OD3160/observation?format=csv (Caused by ProxyError('Cannot connect to proxy.', OSError('Tunnel connection failed: 407 authenticationrequired')))"
     ]
    }
   ],
   "source": [
    "# Read the data\n",
    "if data_source == \"dropzone\":\n",
    "    data2betested = pd.read_csv(\n",
    "        fp\n",
    "        , sep=','\n",
    "        ,parse_dates=['StichtagDatJahr']\n",
    "        ,low_memory=False\n",
    "    )\n",
    "    print(\"dropzone\")\n",
    "else:\n",
    "    r = requests.get(fp, verify=False)  \n",
    "    r.encoding = 'utf-8'\n",
    "    data2betested = pd.read_csv(\n",
    "        io.StringIO(r.text)\n",
    "        ,parse_dates=['ZEIT_lang']\n",
    "        ,low_memory=False)\n",
    "    print(\"web\")\n",
    "\n",
    "data2betested.dtypes\n",
    "#data2betested.sort_values(\"ZEIT_lang\", ascending=True)"
   ]
  },
  {
   "cell_type": "code",
   "execution_count": null,
   "metadata": {},
   "outputs": [
    {
     "data": {
      "text/html": [
       "<div>\n",
       "<style scoped>\n",
       "    .dataframe tbody tr th:only-of-type {\n",
       "        vertical-align: middle;\n",
       "    }\n",
       "\n",
       "    .dataframe tbody tr th {\n",
       "        vertical-align: top;\n",
       "    }\n",
       "\n",
       "    .dataframe thead th {\n",
       "        text-align: right;\n",
       "    }\n",
       "</style>\n",
       "<table border=\"1\" class=\"dataframe\">\n",
       "  <thead>\n",
       "    <tr style=\"text-align: right;\">\n",
       "      <th></th>\n",
       "      <th>ZEIT_lang</th>\n",
       "      <th>ZEIT_code</th>\n",
       "      <th>RAUM_lang</th>\n",
       "      <th>RAUM_code</th>\n",
       "      <th>KON_lang</th>\n",
       "      <th>KON_code</th>\n",
       "      <th>BEW</th>\n",
       "    </tr>\n",
       "  </thead>\n",
       "  <tbody>\n",
       "    <tr>\n",
       "      <th>52</th>\n",
       "      <td>2023-12-31</td>\n",
       "      <td>Z31122023</td>\n",
       "      <td>Stadt Zürich (ab 1934)</td>\n",
       "      <td>R30000</td>\n",
       "      <td>Andere, ohne, unbekannt</td>\n",
       "      <td>KON9900</td>\n",
       "      <td>275174</td>\n",
       "    </tr>\n",
       "    <tr>\n",
       "      <th>157</th>\n",
       "      <td>2023-12-31</td>\n",
       "      <td>Z31122023</td>\n",
       "      <td>Stadt Zürich (ab 1934)</td>\n",
       "      <td>R30000</td>\n",
       "      <td>Römisch-katholische Kirche</td>\n",
       "      <td>KON2001</td>\n",
       "      <td>97639</td>\n",
       "    </tr>\n",
       "  </tbody>\n",
       "</table>\n",
       "</div>"
      ],
      "text/plain": [
       "     ZEIT_lang  ZEIT_code               RAUM_lang RAUM_code                    KON_lang KON_code  \\\n",
       "52  2023-12-31  Z31122023  Stadt Zürich (ab 1934)    R30000     Andere, ohne, unbekannt  KON9900   \n",
       "157 2023-12-31  Z31122023  Stadt Zürich (ab 1934)    R30000  Römisch-katholische Kirche  KON2001   \n",
       "\n",
       "       BEW  \n",
       "52  275174  \n",
       "157  97639  "
      ]
     },
     "execution_count": 85,
     "metadata": {},
     "output_type": "execute_result"
    }
   ],
   "source": [
    "data2betested.sort_values(\"ZEIT_lang\", ascending=False).head(2)"
   ]
  },
  {
   "cell_type": "markdown",
   "metadata": {},
   "source": [
    "Berechne weitere Attribute falls notwendig"
   ]
  },
  {
   "cell_type": "markdown",
   "metadata": {},
   "source": [
    "`ACHTUNG`!\n",
    "\n",
    "In Pandas kann `datetime` Daten ab dem Jahr **1677** speichern. Das liegt daran, dass Pandas datetime64[ns] auf der Basis von NumPy verwendet, das wiederum den Datentyp datetime64 bereitstellt, der auf dem Standard des Proleptischen Gregorianischen Kalenders basiert. Dieser Kalender geht bis zum Jahr 1677 zurück.\n",
    "\n",
    "Alternative: Abfangen des Problems mit Funktion:\n",
    "\n",
    "-----------------------------------------------"
   ]
  },
  {
   "cell_type": "code",
   "execution_count": null,
   "metadata": {},
   "outputs": [],
   "source": [
    "def convert_to_datetime(date_str):\n",
    "    try:\n",
    "        date = pd.to_datetime(date_str)\n",
    "        if date.year < 1677:\n",
    "            raise ValueError(\"Datum liegt außerhalb des gültigen Bereichs für datetime-Objekte.\")\n",
    "        return date\n",
    "    except ValueError:\n",
    "        return pd.NaT  # Falls ein ungültiges Datum übergeben wurde, gib NaT (Not a Timestamp) zurück\n"
   ]
  },
  {
   "cell_type": "markdown",
   "metadata": {},
   "source": [
    "-------------------------------------------------------"
   ]
  },
  {
   "cell_type": "code",
   "execution_count": null,
   "metadata": {},
   "outputs": [
    {
     "data": {
      "text/html": [
       "<div>\n",
       "<style scoped>\n",
       "    .dataframe tbody tr th:only-of-type {\n",
       "        vertical-align: middle;\n",
       "    }\n",
       "\n",
       "    .dataframe tbody tr th {\n",
       "        vertical-align: top;\n",
       "    }\n",
       "\n",
       "    .dataframe thead th {\n",
       "        text-align: right;\n",
       "    }\n",
       "</style>\n",
       "<table border=\"1\" class=\"dataframe\">\n",
       "  <thead>\n",
       "    <tr style=\"text-align: right;\">\n",
       "      <th></th>\n",
       "      <th>ZEIT_lang</th>\n",
       "      <th>ZEIT_code</th>\n",
       "      <th>RAUM_lang</th>\n",
       "      <th>RAUM_code</th>\n",
       "      <th>KON_lang</th>\n",
       "      <th>KON_code</th>\n",
       "      <th>BEW</th>\n",
       "      <th>StichtagDatJahr</th>\n",
       "      <th>StichtagDatJahr_str</th>\n",
       "      <th>Jahr_nbr</th>\n",
       "      <th>RAUM_my_sort</th>\n",
       "    </tr>\n",
       "  </thead>\n",
       "  <tbody>\n",
       "    <tr>\n",
       "      <th>52</th>\n",
       "      <td>2023-12-31</td>\n",
       "      <td>Z31122023</td>\n",
       "      <td>Stadt Zürich (ab 1934)</td>\n",
       "      <td>R30000</td>\n",
       "      <td>Andere, ohne, unbekannt</td>\n",
       "      <td>KON9900</td>\n",
       "      <td>275174</td>\n",
       "      <td>2023-12-31</td>\n",
       "      <td>2023-12-31</td>\n",
       "      <td>2023</td>\n",
       "      <td>30000</td>\n",
       "    </tr>\n",
       "    <tr>\n",
       "      <th>157</th>\n",
       "      <td>2023-12-31</td>\n",
       "      <td>Z31122023</td>\n",
       "      <td>Stadt Zürich (ab 1934)</td>\n",
       "      <td>R30000</td>\n",
       "      <td>Römisch-katholische Kirche</td>\n",
       "      <td>KON2001</td>\n",
       "      <td>97639</td>\n",
       "      <td>2023-12-31</td>\n",
       "      <td>2023-12-31</td>\n",
       "      <td>2023</td>\n",
       "      <td>30000</td>\n",
       "    </tr>\n",
       "    <tr>\n",
       "      <th>258</th>\n",
       "      <td>2023-12-31</td>\n",
       "      <td>Z31122023</td>\n",
       "      <td>Stadt Zürich (ab 1934)</td>\n",
       "      <td>R30000</td>\n",
       "      <td>Evangelisch-reformierte Kirche</td>\n",
       "      <td>KON1001</td>\n",
       "      <td>74269</td>\n",
       "      <td>2023-12-31</td>\n",
       "      <td>2023-12-31</td>\n",
       "      <td>2023</td>\n",
       "      <td>30000</td>\n",
       "    </tr>\n",
       "    <tr>\n",
       "      <th>40</th>\n",
       "      <td>2022-12-31</td>\n",
       "      <td>Z31122022</td>\n",
       "      <td>Stadt Zürich (ab 1934)</td>\n",
       "      <td>R30000</td>\n",
       "      <td>Römisch-katholische Kirche</td>\n",
       "      <td>KON2001</td>\n",
       "      <td>102074</td>\n",
       "      <td>2022-12-31</td>\n",
       "      <td>2022-12-31</td>\n",
       "      <td>2022</td>\n",
       "      <td>30000</td>\n",
       "    </tr>\n",
       "    <tr>\n",
       "      <th>204</th>\n",
       "      <td>2022-12-31</td>\n",
       "      <td>Z31122022</td>\n",
       "      <td>Stadt Zürich (ab 1934)</td>\n",
       "      <td>R30000</td>\n",
       "      <td>Andere, ohne, unbekannt</td>\n",
       "      <td>KON9900</td>\n",
       "      <td>263856</td>\n",
       "      <td>2022-12-31</td>\n",
       "      <td>2022-12-31</td>\n",
       "      <td>2022</td>\n",
       "      <td>30000</td>\n",
       "    </tr>\n",
       "    <tr>\n",
       "      <th>...</th>\n",
       "      <td>...</td>\n",
       "      <td>...</td>\n",
       "      <td>...</td>\n",
       "      <td>...</td>\n",
       "      <td>...</td>\n",
       "      <td>...</td>\n",
       "      <td>...</td>\n",
       "      <td>...</td>\n",
       "      <td>...</td>\n",
       "      <td>...</td>\n",
       "      <td>...</td>\n",
       "    </tr>\n",
       "    <tr>\n",
       "      <th>116</th>\n",
       "      <td>1934-12-31</td>\n",
       "      <td>Z31121934</td>\n",
       "      <td>Stadt Zürich (ab 1934)</td>\n",
       "      <td>R30000</td>\n",
       "      <td>Römisch-katholische Kirche</td>\n",
       "      <td>KON2001</td>\n",
       "      <td>92740</td>\n",
       "      <td>1934-12-31</td>\n",
       "      <td>1934-12-31</td>\n",
       "      <td>1934</td>\n",
       "      <td>30000</td>\n",
       "    </tr>\n",
       "    <tr>\n",
       "      <th>240</th>\n",
       "      <td>1930-12-31</td>\n",
       "      <td>Z31121930</td>\n",
       "      <td>Stadt Zürich (ab 1934)</td>\n",
       "      <td>R30000</td>\n",
       "      <td>Evangelisch-reformierte Kirche</td>\n",
       "      <td>KON1001</td>\n",
       "      <td>189773</td>\n",
       "      <td>1930-12-31</td>\n",
       "      <td>1930-12-31</td>\n",
       "      <td>1930</td>\n",
       "      <td>30000</td>\n",
       "    </tr>\n",
       "    <tr>\n",
       "      <th>2</th>\n",
       "      <td>1920-12-31</td>\n",
       "      <td>Z31121920</td>\n",
       "      <td>Stadt Zürich (ab 1934)</td>\n",
       "      <td>R30000</td>\n",
       "      <td>Evangelisch-reformierte Kirche</td>\n",
       "      <td>KON1001</td>\n",
       "      <td>155027</td>\n",
       "      <td>1920-12-31</td>\n",
       "      <td>1920-12-31</td>\n",
       "      <td>1920</td>\n",
       "      <td>30000</td>\n",
       "    </tr>\n",
       "    <tr>\n",
       "      <th>25</th>\n",
       "      <td>1910-12-31</td>\n",
       "      <td>Z31121910</td>\n",
       "      <td>Stadt Zürich (ab 1934)</td>\n",
       "      <td>R30000</td>\n",
       "      <td>Evangelisch-reformierte Kirche</td>\n",
       "      <td>KON1001</td>\n",
       "      <td>139649</td>\n",
       "      <td>1910-12-31</td>\n",
       "      <td>1910-12-31</td>\n",
       "      <td>1910</td>\n",
       "      <td>30000</td>\n",
       "    </tr>\n",
       "    <tr>\n",
       "      <th>142</th>\n",
       "      <td>1900-12-31</td>\n",
       "      <td>Z31121900</td>\n",
       "      <td>Stadt Zürich (ab 1934)</td>\n",
       "      <td>R30000</td>\n",
       "      <td>Evangelisch-reformierte Kirche</td>\n",
       "      <td>KON1001</td>\n",
       "      <td>116555</td>\n",
       "      <td>1900-12-31</td>\n",
       "      <td>1900-12-31</td>\n",
       "      <td>1900</td>\n",
       "      <td>30000</td>\n",
       "    </tr>\n",
       "  </tbody>\n",
       "</table>\n",
       "<p>274 rows × 11 columns</p>\n",
       "</div>"
      ],
      "text/plain": [
       "     ZEIT_lang  ZEIT_code               RAUM_lang RAUM_code                        KON_lang  \\\n",
       "52  2023-12-31  Z31122023  Stadt Zürich (ab 1934)    R30000         Andere, ohne, unbekannt   \n",
       "157 2023-12-31  Z31122023  Stadt Zürich (ab 1934)    R30000      Römisch-katholische Kirche   \n",
       "258 2023-12-31  Z31122023  Stadt Zürich (ab 1934)    R30000  Evangelisch-reformierte Kirche   \n",
       "40  2022-12-31  Z31122022  Stadt Zürich (ab 1934)    R30000      Römisch-katholische Kirche   \n",
       "204 2022-12-31  Z31122022  Stadt Zürich (ab 1934)    R30000         Andere, ohne, unbekannt   \n",
       "..         ...        ...                     ...       ...                             ...   \n",
       "116 1934-12-31  Z31121934  Stadt Zürich (ab 1934)    R30000      Römisch-katholische Kirche   \n",
       "240 1930-12-31  Z31121930  Stadt Zürich (ab 1934)    R30000  Evangelisch-reformierte Kirche   \n",
       "2   1920-12-31  Z31121920  Stadt Zürich (ab 1934)    R30000  Evangelisch-reformierte Kirche   \n",
       "25  1910-12-31  Z31121910  Stadt Zürich (ab 1934)    R30000  Evangelisch-reformierte Kirche   \n",
       "142 1900-12-31  Z31121900  Stadt Zürich (ab 1934)    R30000  Evangelisch-reformierte Kirche   \n",
       "\n",
       "    KON_code    BEW StichtagDatJahr StichtagDatJahr_str  Jahr_nbr  RAUM_my_sort  \n",
       "52   KON9900 275174      2023-12-31          2023-12-31      2023         30000  \n",
       "157  KON2001  97639      2023-12-31          2023-12-31      2023         30000  \n",
       "258  KON1001  74269      2023-12-31          2023-12-31      2023         30000  \n",
       "40   KON2001 102074      2022-12-31          2022-12-31      2022         30000  \n",
       "204  KON9900 263856      2022-12-31          2022-12-31      2022         30000  \n",
       "..       ...    ...             ...                 ...       ...           ...  \n",
       "116  KON2001  92740      1934-12-31          1934-12-31      1934         30000  \n",
       "240  KON1001 189773      1930-12-31          1930-12-31      1930         30000  \n",
       "2    KON1001 155027      1920-12-31          1920-12-31      1920         30000  \n",
       "25   KON1001 139649      1910-12-31          1910-12-31      1910         30000  \n",
       "142  KON1001 116555      1900-12-31          1900-12-31      1900         30000  \n",
       "\n",
       "[274 rows x 11 columns]"
      ]
     },
     "execution_count": 87,
     "metadata": {},
     "output_type": "execute_result"
    }
   ],
   "source": [
    "data2betested = (\n",
    "    data2betested\n",
    "    .copy()\n",
    "    .assign(\n",
    "        StichtagDatJahr = lambda x: x.ZEIT_lang.apply(convert_to_datetime),\n",
    "        #StichtagDatJahr = lambda x: x.ZEIT_lang,\n",
    "        StichtagDatJahr_str = lambda x: x.ZEIT_lang.astype(str),\n",
    "        #Jahr = lambda x: x.ZEIT_lang.dt.year,\n",
    "        Jahr_nbr = lambda x: x.ZEIT_code.str[-4:].astype(int),    \n",
    "        RAUM_my_sort = lambda x: x.RAUM_code.str[1:].astype(int),\n",
    "\n",
    "    )\n",
    "    .sort_values('ZEIT_lang', ascending=False)\n",
    "    )\n",
    "data2betested"
   ]
  },
  {
   "cell_type": "markdown",
   "metadata": {},
   "source": [
    "Minimales und maximales Jahr im Datensatz"
   ]
  },
  {
   "cell_type": "code",
   "execution_count": null,
   "metadata": {},
   "outputs": [
    {
     "name": "stdout",
     "output_type": "stream",
     "text": [
      "Die Daten haben ein Minimumjahr von 1900 und ein Maximumjahr von 2023\n"
     ]
    }
   ],
   "source": [
    "data_max_date = str(max(data2betested.StichtagDatJahr).year)\n",
    "data_min_date = str(min(data2betested.StichtagDatJahr).year)\n",
    "\n",
    "print(f\"Die Daten haben ein Minimumjahr von {data_min_date} und ein Maximumjahr von {data_max_date}\")"
   ]
  },
  {
   "cell_type": "markdown",
   "metadata": {},
   "source": [
    "Zeitbereich aus den Daten:"
   ]
  },
  {
   "cell_type": "code",
   "execution_count": null,
   "metadata": {},
   "outputs": [
    {
     "name": "stdout",
     "output_type": "stream",
     "text": [
      "Die Daten haben ein Minimumjahr von 1900 und ein Maximumjahr von 2023\n"
     ]
    }
   ],
   "source": [
    "data_max_date = str(max(data2betested.Jahr_nbr))\n",
    "\n",
    "try:\n",
    "    if min(data2betested.Jahr_nbr) < 1678:\n",
    "        data_min_date=\"1688\"\n",
    "    else:\n",
    "        data_min_date = str(min(data2betested.Jahr_nbr))\n",
    "except ValueError:\n",
    "    print(\"Fehler...\")\n",
    "\n",
    "print(f\"Die Daten haben ein Minimumjahr von {data_min_date} und ein Maximumjahr von {data_max_date}\")\n"
   ]
  },
  {
   "cell_type": "markdown",
   "metadata": {},
   "source": [
    "### Einfache Datentests"
   ]
  },
  {
   "cell_type": "code",
   "execution_count": null,
   "metadata": {},
   "outputs": [
    {
     "data": {
      "text/html": [
       "<div>\n",
       "<style scoped>\n",
       "    .dataframe tbody tr th:only-of-type {\n",
       "        vertical-align: middle;\n",
       "    }\n",
       "\n",
       "    .dataframe tbody tr th {\n",
       "        vertical-align: top;\n",
       "    }\n",
       "\n",
       "    .dataframe thead th {\n",
       "        text-align: right;\n",
       "    }\n",
       "</style>\n",
       "<table border=\"1\" class=\"dataframe\">\n",
       "  <thead>\n",
       "    <tr style=\"text-align: right;\">\n",
       "      <th></th>\n",
       "      <th>52</th>\n",
       "      <th>157</th>\n",
       "    </tr>\n",
       "  </thead>\n",
       "  <tbody>\n",
       "    <tr>\n",
       "      <th>ZEIT_lang</th>\n",
       "      <td>2023-12-31 00:00:00</td>\n",
       "      <td>2023-12-31 00:00:00</td>\n",
       "    </tr>\n",
       "    <tr>\n",
       "      <th>ZEIT_code</th>\n",
       "      <td>Z31122023</td>\n",
       "      <td>Z31122023</td>\n",
       "    </tr>\n",
       "    <tr>\n",
       "      <th>RAUM_lang</th>\n",
       "      <td>Stadt Zürich (ab 1934)</td>\n",
       "      <td>Stadt Zürich (ab 1934)</td>\n",
       "    </tr>\n",
       "    <tr>\n",
       "      <th>RAUM_code</th>\n",
       "      <td>R30000</td>\n",
       "      <td>R30000</td>\n",
       "    </tr>\n",
       "    <tr>\n",
       "      <th>KON_lang</th>\n",
       "      <td>Andere, ohne, unbekannt</td>\n",
       "      <td>Römisch-katholische Kirche</td>\n",
       "    </tr>\n",
       "    <tr>\n",
       "      <th>KON_code</th>\n",
       "      <td>KON9900</td>\n",
       "      <td>KON2001</td>\n",
       "    </tr>\n",
       "    <tr>\n",
       "      <th>BEW</th>\n",
       "      <td>275174</td>\n",
       "      <td>97639</td>\n",
       "    </tr>\n",
       "    <tr>\n",
       "      <th>StichtagDatJahr</th>\n",
       "      <td>2023-12-31 00:00:00</td>\n",
       "      <td>2023-12-31 00:00:00</td>\n",
       "    </tr>\n",
       "    <tr>\n",
       "      <th>StichtagDatJahr_str</th>\n",
       "      <td>2023-12-31</td>\n",
       "      <td>2023-12-31</td>\n",
       "    </tr>\n",
       "    <tr>\n",
       "      <th>Jahr_nbr</th>\n",
       "      <td>2023</td>\n",
       "      <td>2023</td>\n",
       "    </tr>\n",
       "    <tr>\n",
       "      <th>RAUM_my_sort</th>\n",
       "      <td>30000</td>\n",
       "      <td>30000</td>\n",
       "    </tr>\n",
       "  </tbody>\n",
       "</table>\n",
       "</div>"
      ],
      "text/plain": [
       "                                         52                          157\n",
       "ZEIT_lang                2023-12-31 00:00:00         2023-12-31 00:00:00\n",
       "ZEIT_code                          Z31122023                   Z31122023\n",
       "RAUM_lang             Stadt Zürich (ab 1934)      Stadt Zürich (ab 1934)\n",
       "RAUM_code                             R30000                      R30000\n",
       "KON_lang             Andere, ohne, unbekannt  Römisch-katholische Kirche\n",
       "KON_code                             KON9900                     KON2001\n",
       "BEW                                   275174                       97639\n",
       "StichtagDatJahr          2023-12-31 00:00:00         2023-12-31 00:00:00\n",
       "StichtagDatJahr_str               2023-12-31                  2023-12-31\n",
       "Jahr_nbr                                2023                        2023\n",
       "RAUM_my_sort                           30000                       30000"
      ]
     },
     "execution_count": 90,
     "metadata": {},
     "output_type": "execute_result"
    }
   ],
   "source": [
    "data2betested.head(2).T"
   ]
  },
  {
   "cell_type": "code",
   "execution_count": null,
   "metadata": {},
   "outputs": [
    {
     "name": "stdout",
     "output_type": "stream",
     "text": [
      "<class 'pandas.core.frame.DataFrame'>\n",
      "Int64Index: 274 entries, 52 to 142\n",
      "Data columns (total 11 columns):\n",
      " #   Column               Non-Null Count  Dtype         \n",
      "---  ------               --------------  -----         \n",
      " 0   ZEIT_lang            274 non-null    datetime64[ns]\n",
      " 1   ZEIT_code            274 non-null    object        \n",
      " 2   RAUM_lang            274 non-null    object        \n",
      " 3   RAUM_code            274 non-null    object        \n",
      " 4   KON_lang             274 non-null    object        \n",
      " 5   KON_code             274 non-null    object        \n",
      " 6   BEW                  274 non-null    float64       \n",
      " 7   StichtagDatJahr      274 non-null    datetime64[ns]\n",
      " 8   StichtagDatJahr_str  274 non-null    object        \n",
      " 9   Jahr_nbr             274 non-null    int32         \n",
      " 10  RAUM_my_sort         274 non-null    int32         \n",
      "dtypes: datetime64[ns](2), float64(1), int32(2), object(6)\n",
      "memory usage: 132.3 KB\n"
     ]
    }
   ],
   "source": [
    "data2betested.info(memory_usage='deep', verbose=True)"
   ]
  },
  {
   "cell_type": "code",
   "execution_count": null,
   "metadata": {},
   "outputs": [
    {
     "name": "stdout",
     "output_type": "stream",
     "text": [
      "The dataset has 274 rows (observations) and 11 columns (variables).\n",
      "There seem to be 0 exact duplicates in the data.\n"
     ]
    }
   ],
   "source": [
    "print(f'The dataset has {data2betested.shape[0]:,.0f} rows (observations) and {data2betested.shape[1]:,.0f} columns (variables).')\n",
    "print(f'There seem to be {data2betested.duplicated().sum()} exact duplicates in the data.')"
   ]
  },
  {
   "cell_type": "markdown",
   "metadata": {},
   "source": [
    "Welches sind die Quartiere ohne Werte bei BEW?"
   ]
  },
  {
   "cell_type": "code",
   "execution_count": null,
   "metadata": {},
   "outputs": [
    {
     "data": {
      "text/html": [
       "<div>\n",
       "<style scoped>\n",
       "    .dataframe tbody tr th:only-of-type {\n",
       "        vertical-align: middle;\n",
       "    }\n",
       "\n",
       "    .dataframe tbody tr th {\n",
       "        vertical-align: top;\n",
       "    }\n",
       "\n",
       "    .dataframe thead th {\n",
       "        text-align: right;\n",
       "    }\n",
       "</style>\n",
       "<table border=\"1\" class=\"dataframe\">\n",
       "  <thead>\n",
       "    <tr style=\"text-align: right;\">\n",
       "      <th></th>\n",
       "      <th>ZEIT_lang</th>\n",
       "      <th>ZEIT_code</th>\n",
       "      <th>RAUM_lang</th>\n",
       "      <th>RAUM_code</th>\n",
       "      <th>KON_lang</th>\n",
       "      <th>KON_code</th>\n",
       "      <th>BEW</th>\n",
       "      <th>StichtagDatJahr</th>\n",
       "      <th>StichtagDatJahr_str</th>\n",
       "      <th>Jahr_nbr</th>\n",
       "      <th>RAUM_my_sort</th>\n",
       "    </tr>\n",
       "  </thead>\n",
       "  <tbody>\n",
       "  </tbody>\n",
       "</table>\n",
       "</div>"
      ],
      "text/plain": [
       "Empty DataFrame\n",
       "Columns: [ZEIT_lang, ZEIT_code, RAUM_lang, RAUM_code, KON_lang, KON_code, BEW, StichtagDatJahr, StichtagDatJahr_str, Jahr_nbr, RAUM_my_sort]\n",
       "Index: []"
      ]
     },
     "execution_count": 93,
     "metadata": {},
     "output_type": "execute_result"
    }
   ],
   "source": [
    "data2betested[np.isnan(data2betested.BEW)]"
   ]
  },
  {
   "cell_type": "markdown",
   "metadata": {
    "colab_type": "text",
    "id": "1dTPVmmsgOVx"
   },
   "source": [
    "### Verwende das Datum als Index\n",
    "\n",
    "While we did already parse the `datetime` column into the respective datetime type, it currently is just a regular column. \n",
    "**To enable quick and convenient queries and aggregations, we need to turn it into the index of the DataFrame**"
   ]
  },
  {
   "cell_type": "code",
   "execution_count": null,
   "metadata": {},
   "outputs": [],
   "source": [
    "data2betested = data2betested.set_index(\"StichtagDatJahr\") \n",
    "data2betested = data2betested.sort_index()"
   ]
  },
  {
   "cell_type": "code",
   "execution_count": null,
   "metadata": {},
   "outputs": [
    {
     "data": {
      "text/plain": [
       "Int64Index([1900, 1910, 1920, 1930, 1934, 1935, 1936, 1937, 1938, 1939, 1940, 1941, 1942, 1943,\n",
       "            1944, 1945, 1946, 1947, 1948, 1949, 1950, 1951, 1952, 1953, 1954, 1955, 1956, 1957,\n",
       "            1958, 1959, 1960, 1961, 1962, 1963, 1964, 1965, 1966, 1967, 1968, 1969, 1970, 1971,\n",
       "            1972, 1973, 1974, 1975, 1976, 1977, 1978, 1979, 1980, 1981, 1982, 1983, 1984, 1985,\n",
       "            1986, 1987, 1988, 1989, 1990, 1991, 1992, 1993, 1994, 1995, 1996, 1997, 1998, 1999,\n",
       "            2000, 2001, 2002, 2003, 2004, 2005, 2006, 2007, 2008, 2009, 2010, 2011, 2012, 2013,\n",
       "            2014, 2015, 2016, 2017, 2018, 2019, 2020, 2021, 2022, 2023],\n",
       "           dtype='int64', name='StichtagDatJahr')"
      ]
     },
     "execution_count": 95,
     "metadata": {},
     "output_type": "execute_result"
    }
   ],
   "source": [
    "data2betested.index.year.unique()\n"
   ]
  },
  {
   "cell_type": "markdown",
   "metadata": {},
   "source": [
    "### Beschreibe einzelne Attribute"
   ]
  },
  {
   "cell_type": "markdown",
   "metadata": {},
   "source": [
    "Beschreibe nicht numerische Attribute"
   ]
  },
  {
   "cell_type": "code",
   "execution_count": null,
   "metadata": {},
   "outputs": [
    {
     "data": {
      "text/html": [
       "<div>\n",
       "<style scoped>\n",
       "    .dataframe tbody tr th:only-of-type {\n",
       "        vertical-align: middle;\n",
       "    }\n",
       "\n",
       "    .dataframe tbody tr th {\n",
       "        vertical-align: top;\n",
       "    }\n",
       "\n",
       "    .dataframe thead th {\n",
       "        text-align: right;\n",
       "    }\n",
       "</style>\n",
       "<table border=\"1\" class=\"dataframe\">\n",
       "  <thead>\n",
       "    <tr style=\"text-align: right;\">\n",
       "      <th></th>\n",
       "      <th>ZEIT_lang</th>\n",
       "      <th>ZEIT_code</th>\n",
       "      <th>RAUM_lang</th>\n",
       "      <th>RAUM_code</th>\n",
       "      <th>KON_lang</th>\n",
       "      <th>KON_code</th>\n",
       "      <th>StichtagDatJahr_str</th>\n",
       "    </tr>\n",
       "  </thead>\n",
       "  <tbody>\n",
       "    <tr>\n",
       "      <th>count</th>\n",
       "      <td>274</td>\n",
       "      <td>274</td>\n",
       "      <td>274</td>\n",
       "      <td>274</td>\n",
       "      <td>274</td>\n",
       "      <td>274</td>\n",
       "      <td>274</td>\n",
       "    </tr>\n",
       "    <tr>\n",
       "      <th>unique</th>\n",
       "      <td>NaN</td>\n",
       "      <td>94</td>\n",
       "      <td>1</td>\n",
       "      <td>1</td>\n",
       "      <td>3</td>\n",
       "      <td>3</td>\n",
       "      <td>94</td>\n",
       "    </tr>\n",
       "    <tr>\n",
       "      <th>top</th>\n",
       "      <td>NaN</td>\n",
       "      <td>Z31121977</td>\n",
       "      <td>Stadt Zürich (ab 1934)</td>\n",
       "      <td>R30000</td>\n",
       "      <td>Evangelisch-reformierte Kirche</td>\n",
       "      <td>KON1001</td>\n",
       "      <td>1977-12-31</td>\n",
       "    </tr>\n",
       "    <tr>\n",
       "      <th>freq</th>\n",
       "      <td>NaN</td>\n",
       "      <td>3</td>\n",
       "      <td>274</td>\n",
       "      <td>274</td>\n",
       "      <td>94</td>\n",
       "      <td>94</td>\n",
       "      <td>3</td>\n",
       "    </tr>\n",
       "    <tr>\n",
       "      <th>mean</th>\n",
       "      <td>1978-07-28 03:45:59.124087584</td>\n",
       "      <td>NaN</td>\n",
       "      <td>NaN</td>\n",
       "      <td>NaN</td>\n",
       "      <td>NaN</td>\n",
       "      <td>NaN</td>\n",
       "      <td>NaN</td>\n",
       "    </tr>\n",
       "    <tr>\n",
       "      <th>min</th>\n",
       "      <td>1900-12-31 00:00:00</td>\n",
       "      <td>NaN</td>\n",
       "      <td>NaN</td>\n",
       "      <td>NaN</td>\n",
       "      <td>NaN</td>\n",
       "      <td>NaN</td>\n",
       "      <td>NaN</td>\n",
       "    </tr>\n",
       "    <tr>\n",
       "      <th>25%</th>\n",
       "      <td>1955-12-31 00:00:00</td>\n",
       "      <td>NaN</td>\n",
       "      <td>NaN</td>\n",
       "      <td>NaN</td>\n",
       "      <td>NaN</td>\n",
       "      <td>NaN</td>\n",
       "      <td>NaN</td>\n",
       "    </tr>\n",
       "    <tr>\n",
       "      <th>50%</th>\n",
       "      <td>1978-12-31 00:00:00</td>\n",
       "      <td>NaN</td>\n",
       "      <td>NaN</td>\n",
       "      <td>NaN</td>\n",
       "      <td>NaN</td>\n",
       "      <td>NaN</td>\n",
       "      <td>NaN</td>\n",
       "    </tr>\n",
       "    <tr>\n",
       "      <th>75%</th>\n",
       "      <td>2001-09-30 18:00:00</td>\n",
       "      <td>NaN</td>\n",
       "      <td>NaN</td>\n",
       "      <td>NaN</td>\n",
       "      <td>NaN</td>\n",
       "      <td>NaN</td>\n",
       "      <td>NaN</td>\n",
       "    </tr>\n",
       "    <tr>\n",
       "      <th>max</th>\n",
       "      <td>2023-12-31 00:00:00</td>\n",
       "      <td>NaN</td>\n",
       "      <td>NaN</td>\n",
       "      <td>NaN</td>\n",
       "      <td>NaN</td>\n",
       "      <td>NaN</td>\n",
       "      <td>NaN</td>\n",
       "    </tr>\n",
       "  </tbody>\n",
       "</table>\n",
       "</div>"
      ],
      "text/plain": [
       "                            ZEIT_lang  ZEIT_code               RAUM_lang RAUM_code  \\\n",
       "count                             274        274                     274       274   \n",
       "unique                            NaN         94                       1         1   \n",
       "top                               NaN  Z31121977  Stadt Zürich (ab 1934)    R30000   \n",
       "freq                              NaN          3                     274       274   \n",
       "mean    1978-07-28 03:45:59.124087584        NaN                     NaN       NaN   \n",
       "min               1900-12-31 00:00:00        NaN                     NaN       NaN   \n",
       "25%               1955-12-31 00:00:00        NaN                     NaN       NaN   \n",
       "50%               1978-12-31 00:00:00        NaN                     NaN       NaN   \n",
       "75%               2001-09-30 18:00:00        NaN                     NaN       NaN   \n",
       "max               2023-12-31 00:00:00        NaN                     NaN       NaN   \n",
       "\n",
       "                              KON_lang KON_code StichtagDatJahr_str  \n",
       "count                              274      274                 274  \n",
       "unique                               3        3                  94  \n",
       "top     Evangelisch-reformierte Kirche  KON1001          1977-12-31  \n",
       "freq                                94       94                   3  \n",
       "mean                               NaN      NaN                 NaN  \n",
       "min                                NaN      NaN                 NaN  \n",
       "25%                                NaN      NaN                 NaN  \n",
       "50%                                NaN      NaN                 NaN  \n",
       "75%                                NaN      NaN                 NaN  \n",
       "max                                NaN      NaN                 NaN  "
      ]
     },
     "metadata": {},
     "output_type": "display_data"
    }
   ],
   "source": [
    "# describe non-numerical features\n",
    "try:\n",
    "    with pd.option_context('display.float_format', '{:,.2f}'.format):\n",
    "        display(data2betested.describe(exclude='number',datetime_is_numeric=True))\n",
    "except:\n",
    "    print(\"No categorical data in dataset.\")"
   ]
  },
  {
   "cell_type": "markdown",
   "metadata": {},
   "source": [
    "Beschreibe numerische Attribute"
   ]
  },
  {
   "cell_type": "code",
   "execution_count": null,
   "metadata": {},
   "outputs": [
    {
     "data": {
      "text/html": [
       "<div>\n",
       "<style scoped>\n",
       "    .dataframe tbody tr th:only-of-type {\n",
       "        vertical-align: middle;\n",
       "    }\n",
       "\n",
       "    .dataframe tbody tr th {\n",
       "        vertical-align: top;\n",
       "    }\n",
       "\n",
       "    .dataframe thead th {\n",
       "        text-align: right;\n",
       "    }\n",
       "</style>\n",
       "<table border=\"1\" class=\"dataframe\">\n",
       "  <thead>\n",
       "    <tr style=\"text-align: right;\">\n",
       "      <th></th>\n",
       "      <th>BEW</th>\n",
       "      <th>Jahr_nbr</th>\n",
       "      <th>RAUM_my_sort</th>\n",
       "    </tr>\n",
       "  </thead>\n",
       "  <tbody>\n",
       "    <tr>\n",
       "      <th>count</th>\n",
       "      <td>274</td>\n",
       "      <td>274</td>\n",
       "      <td>274</td>\n",
       "    </tr>\n",
       "    <tr>\n",
       "      <th>mean</th>\n",
       "      <td>128,803</td>\n",
       "      <td>1,978</td>\n",
       "      <td>30,000</td>\n",
       "    </tr>\n",
       "    <tr>\n",
       "      <th>std</th>\n",
       "      <td>70,991</td>\n",
       "      <td>27</td>\n",
       "      <td>0</td>\n",
       "    </tr>\n",
       "    <tr>\n",
       "      <th>min</th>\n",
       "      <td>13,634</td>\n",
       "      <td>1,900</td>\n",
       "      <td>30,000</td>\n",
       "    </tr>\n",
       "    <tr>\n",
       "      <th>25%</th>\n",
       "      <td>91,940</td>\n",
       "      <td>1,955</td>\n",
       "      <td>30,000</td>\n",
       "    </tr>\n",
       "    <tr>\n",
       "      <th>50%</th>\n",
       "      <td>123,694</td>\n",
       "      <td>1,978</td>\n",
       "      <td>30,000</td>\n",
       "    </tr>\n",
       "    <tr>\n",
       "      <th>75%</th>\n",
       "      <td>163,833</td>\n",
       "      <td>2,001</td>\n",
       "      <td>30,000</td>\n",
       "    </tr>\n",
       "    <tr>\n",
       "      <th>max</th>\n",
       "      <td>275,174</td>\n",
       "      <td>2,023</td>\n",
       "      <td>30,000</td>\n",
       "    </tr>\n",
       "  </tbody>\n",
       "</table>\n",
       "</div>"
      ],
      "text/plain": [
       "          BEW  Jahr_nbr  RAUM_my_sort\n",
       "count     274       274           274\n",
       "mean  128,803     1,978        30,000\n",
       "std    70,991        27             0\n",
       "min    13,634     1,900        30,000\n",
       "25%    91,940     1,955        30,000\n",
       "50%   123,694     1,978        30,000\n",
       "75%   163,833     2,001        30,000\n",
       "max   275,174     2,023        30,000"
      ]
     },
     "metadata": {},
     "output_type": "display_data"
    }
   ],
   "source": [
    "# describe numerical features\n",
    "try:\n",
    "    with pd.option_context('display.float_format', '{:,.0f}'.format):\n",
    "        display(data2betested.describe(include='number'))\n",
    "except:\n",
    "    print(\"No numercial data in dataset.\")"
   ]
  },
  {
   "cell_type": "code",
   "execution_count": null,
   "metadata": {},
   "outputs": [
    {
     "data": {
      "image/png": "[encoded data removed]",
      "text/plain": [
       "<Figure size 1800x600 with 4 Axes>"
      ]
     },
     "metadata": {},
     "output_type": "display_data"
    }
   ],
   "source": [
    "plt.style.use('ggplot')\n",
    "params = {\n",
    "    'text.color': (0.25, 0.25, 0.25),\n",
    "    'figure.figsize': [18, 6],\n",
    "   }\n",
    "plt.rcParams.update(params)\n",
    "\n",
    "try:\n",
    "    data2betested.hist(bins=25, rwidth=0.9)\n",
    "    plt.tight_layout()\n",
    "    plt.show()\n",
    "except:\n",
    "    print(\"No numercial data to plot.\") "
   ]
  },
  {
   "cell_type": "markdown",
   "metadata": {},
   "source": [
    "### Gibt es Duplikate?"
   ]
  },
  {
   "cell_type": "code",
   "execution_count": null,
   "metadata": {},
   "outputs": [
    {
     "data": {
      "text/html": [
       "<div>\n",
       "<style scoped>\n",
       "    .dataframe tbody tr th:only-of-type {\n",
       "        vertical-align: middle;\n",
       "    }\n",
       "\n",
       "    .dataframe tbody tr th {\n",
       "        vertical-align: top;\n",
       "    }\n",
       "\n",
       "    .dataframe thead th {\n",
       "        text-align: right;\n",
       "    }\n",
       "</style>\n",
       "<table border=\"1\" class=\"dataframe\">\n",
       "  <thead>\n",
       "    <tr style=\"text-align: right;\">\n",
       "      <th></th>\n",
       "      <th>ZEIT_lang</th>\n",
       "      <th>ZEIT_code</th>\n",
       "      <th>RAUM_lang</th>\n",
       "      <th>RAUM_code</th>\n",
       "      <th>KON_lang</th>\n",
       "      <th>KON_code</th>\n",
       "      <th>BEW</th>\n",
       "      <th>StichtagDatJahr_str</th>\n",
       "      <th>Jahr_nbr</th>\n",
       "      <th>RAUM_my_sort</th>\n",
       "    </tr>\n",
       "    <tr>\n",
       "      <th>StichtagDatJahr</th>\n",
       "      <th></th>\n",
       "      <th></th>\n",
       "      <th></th>\n",
       "      <th></th>\n",
       "      <th></th>\n",
       "      <th></th>\n",
       "      <th></th>\n",
       "      <th></th>\n",
       "      <th></th>\n",
       "      <th></th>\n",
       "    </tr>\n",
       "  </thead>\n",
       "  <tbody>\n",
       "  </tbody>\n",
       "</table>\n",
       "</div>"
      ],
      "text/plain": [
       "Empty DataFrame\n",
       "Columns: [ZEIT_lang, ZEIT_code, RAUM_lang, RAUM_code, KON_lang, KON_code, BEW, StichtagDatJahr_str, Jahr_nbr, RAUM_my_sort]\n",
       "Index: []"
      ]
     },
     "execution_count": 99,
     "metadata": {},
     "output_type": "execute_result"
    }
   ],
   "source": [
    "# find duplicate rows\n",
    "duplicate_rows = data2betested[data2betested.duplicated()]\n",
    "duplicate_rows"
   ]
  },
  {
   "cell_type": "markdown",
   "metadata": {},
   "source": [
    "### Nullwerte und Missings?"
   ]
  },
  {
   "cell_type": "code",
   "execution_count": null,
   "metadata": {},
   "outputs": [
    {
     "data": {
      "text/plain": [
       "ZEIT_lang              0\n",
       "ZEIT_code              0\n",
       "RAUM_lang              0\n",
       "RAUM_code              0\n",
       "KON_lang               0\n",
       "KON_code               0\n",
       "BEW                    0\n",
       "StichtagDatJahr_str    0\n",
       "Jahr_nbr               0\n",
       "RAUM_my_sort           0\n",
       "dtype: int64"
      ]
     },
     "execution_count": 100,
     "metadata": {},
     "output_type": "execute_result"
    }
   ],
   "source": [
    "data2betested.isnull().sum()"
   ]
  },
  {
   "cell_type": "code",
   "execution_count": null,
   "metadata": {},
   "outputs": [
    {
     "data": {
      "image/png": "[encoded data removed]",
      "text/plain": [
       "<Figure size 2500x1000 with 2 Axes>"
      ]
     },
     "metadata": {},
     "output_type": "display_data"
    }
   ],
   "source": [
    "# check missing values with missingno\n",
    "# https://github.com/ResidentMario/missingno\n",
    "import missingno as msno\n",
    "msno.matrix(data2betested, labels=True, sort='descending');\n",
    "#msno.heatmap(data2betested)"
   ]
  },
  {
   "cell_type": "markdown",
   "metadata": {},
   "source": [
    "### Gruppierungen"
   ]
  },
  {
   "cell_type": "code",
   "execution_count": null,
   "metadata": {},
   "outputs": [
    {
     "data": {
      "text/html": [
       "<div>\n",
       "<style scoped>\n",
       "    .dataframe tbody tr th:only-of-type {\n",
       "        vertical-align: middle;\n",
       "    }\n",
       "\n",
       "    .dataframe tbody tr th {\n",
       "        vertical-align: top;\n",
       "    }\n",
       "\n",
       "    .dataframe thead th {\n",
       "        text-align: right;\n",
       "    }\n",
       "</style>\n",
       "<table border=\"1\" class=\"dataframe\">\n",
       "  <thead>\n",
       "    <tr style=\"text-align: right;\">\n",
       "      <th></th>\n",
       "      <th>Jahr_nbr</th>\n",
       "      <th>sum_AnzBestWir</th>\n",
       "    </tr>\n",
       "  </thead>\n",
       "  <tbody>\n",
       "    <tr>\n",
       "      <th>0</th>\n",
       "      <td>2023</td>\n",
       "      <td>447082</td>\n",
       "    </tr>\n",
       "    <tr>\n",
       "      <th>1</th>\n",
       "      <td>2022</td>\n",
       "      <td>443037</td>\n",
       "    </tr>\n",
       "    <tr>\n",
       "      <th>2</th>\n",
       "      <td>2021</td>\n",
       "      <td>436332</td>\n",
       "    </tr>\n",
       "  </tbody>\n",
       "</table>\n",
       "</div>"
      ],
      "text/plain": [
       "   Jahr_nbr  sum_AnzBestWir\n",
       "0      2023          447082\n",
       "1      2022          443037\n",
       "2      2021          436332"
      ]
     },
     "execution_count": 102,
     "metadata": {},
     "output_type": "execute_result"
    }
   ],
   "source": [
    "agg_jahr = data2betested.loc[data_min_date:data_max_date]\\\n",
    "    .groupby(['Jahr_nbr']) \\\n",
    "    .agg(sum_AnzBestWir=('BEW', 'sum')) \\\n",
    "    .sort_values('Jahr_nbr', ascending=False) \n",
    "agg_jahr.reset_index().head(3)"
   ]
  },
  {
   "cell_type": "code",
   "execution_count": null,
   "metadata": {},
   "outputs": [
    {
     "data": {
      "text/plain": [
       "array(['Stadt Zürich (ab 1934)'], dtype=object)"
      ]
     },
     "execution_count": 103,
     "metadata": {},
     "output_type": "execute_result"
    }
   ],
   "source": [
    "data2betested.RAUM_lang.unique()"
   ]
  },
  {
   "cell_type": "code",
   "execution_count": null,
   "metadata": {},
   "outputs": [
    {
     "data": {
      "text/html": [
       "<div>\n",
       "<style scoped>\n",
       "    .dataframe tbody tr th:only-of-type {\n",
       "        vertical-align: middle;\n",
       "    }\n",
       "\n",
       "    .dataframe tbody tr th {\n",
       "        vertical-align: top;\n",
       "    }\n",
       "\n",
       "    .dataframe thead th {\n",
       "        text-align: right;\n",
       "    }\n",
       "</style>\n",
       "<table border=\"1\" class=\"dataframe\">\n",
       "  <thead>\n",
       "    <tr style=\"text-align: right;\">\n",
       "      <th></th>\n",
       "      <th>Jahr_nbr</th>\n",
       "      <th>RAUM_lang</th>\n",
       "      <th>RAUM_code</th>\n",
       "      <th>sum_AnzBestWir</th>\n",
       "    </tr>\n",
       "  </thead>\n",
       "  <tbody>\n",
       "    <tr>\n",
       "      <th>0</th>\n",
       "      <td>2023</td>\n",
       "      <td>Stadt Zürich (ab 1934)</td>\n",
       "      <td>R30000</td>\n",
       "      <td>447082</td>\n",
       "    </tr>\n",
       "    <tr>\n",
       "      <th>1</th>\n",
       "      <td>2022</td>\n",
       "      <td>Stadt Zürich (ab 1934)</td>\n",
       "      <td>R30000</td>\n",
       "      <td>443037</td>\n",
       "    </tr>\n",
       "    <tr>\n",
       "      <th>2</th>\n",
       "      <td>2021</td>\n",
       "      <td>Stadt Zürich (ab 1934)</td>\n",
       "      <td>R30000</td>\n",
       "      <td>436332</td>\n",
       "    </tr>\n",
       "    <tr>\n",
       "      <th>3</th>\n",
       "      <td>2020</td>\n",
       "      <td>Stadt Zürich (ab 1934)</td>\n",
       "      <td>R30000</td>\n",
       "      <td>434736</td>\n",
       "    </tr>\n",
       "    <tr>\n",
       "      <th>4</th>\n",
       "      <td>2019</td>\n",
       "      <td>Stadt Zürich (ab 1934)</td>\n",
       "      <td>R30000</td>\n",
       "      <td>434008</td>\n",
       "    </tr>\n",
       "    <tr>\n",
       "      <th>5</th>\n",
       "      <td>2018</td>\n",
       "      <td>Stadt Zürich (ab 1934)</td>\n",
       "      <td>R30000</td>\n",
       "      <td>428737</td>\n",
       "    </tr>\n",
       "    <tr>\n",
       "      <th>6</th>\n",
       "      <td>2017</td>\n",
       "      <td>Stadt Zürich (ab 1934)</td>\n",
       "      <td>R30000</td>\n",
       "      <td>423310</td>\n",
       "    </tr>\n",
       "    <tr>\n",
       "      <th>7</th>\n",
       "      <td>2016</td>\n",
       "      <td>Stadt Zürich (ab 1934)</td>\n",
       "      <td>R30000</td>\n",
       "      <td>415682</td>\n",
       "    </tr>\n",
       "    <tr>\n",
       "      <th>8</th>\n",
       "      <td>2015</td>\n",
       "      <td>Stadt Zürich (ab 1934)</td>\n",
       "      <td>R30000</td>\n",
       "      <td>410404</td>\n",
       "    </tr>\n",
       "    <tr>\n",
       "      <th>9</th>\n",
       "      <td>2014</td>\n",
       "      <td>Stadt Zürich (ab 1934)</td>\n",
       "      <td>R30000</td>\n",
       "      <td>404783</td>\n",
       "    </tr>\n",
       "    <tr>\n",
       "      <th>10</th>\n",
       "      <td>2013</td>\n",
       "      <td>Stadt Zürich (ab 1934)</td>\n",
       "      <td>R30000</td>\n",
       "      <td>398575</td>\n",
       "    </tr>\n",
       "    <tr>\n",
       "      <th>11</th>\n",
       "      <td>2012</td>\n",
       "      <td>Stadt Zürich (ab 1934)</td>\n",
       "      <td>R30000</td>\n",
       "      <td>394012</td>\n",
       "    </tr>\n",
       "    <tr>\n",
       "      <th>12</th>\n",
       "      <td>2011</td>\n",
       "      <td>Stadt Zürich (ab 1934)</td>\n",
       "      <td>R30000</td>\n",
       "      <td>390082</td>\n",
       "    </tr>\n",
       "    <tr>\n",
       "      <th>13</th>\n",
       "      <td>2010</td>\n",
       "      <td>Stadt Zürich (ab 1934)</td>\n",
       "      <td>R30000</td>\n",
       "      <td>385468</td>\n",
       "    </tr>\n",
       "    <tr>\n",
       "      <th>14</th>\n",
       "      <td>2009</td>\n",
       "      <td>Stadt Zürich (ab 1934)</td>\n",
       "      <td>R30000</td>\n",
       "      <td>382906</td>\n",
       "    </tr>\n",
       "    <tr>\n",
       "      <th>15</th>\n",
       "      <td>2008</td>\n",
       "      <td>Stadt Zürich (ab 1934)</td>\n",
       "      <td>R30000</td>\n",
       "      <td>380499</td>\n",
       "    </tr>\n",
       "    <tr>\n",
       "      <th>16</th>\n",
       "      <td>2007</td>\n",
       "      <td>Stadt Zürich (ab 1934)</td>\n",
       "      <td>R30000</td>\n",
       "      <td>376815</td>\n",
       "    </tr>\n",
       "    <tr>\n",
       "      <th>17</th>\n",
       "      <td>2006</td>\n",
       "      <td>Stadt Zürich (ab 1934)</td>\n",
       "      <td>R30000</td>\n",
       "      <td>370062</td>\n",
       "    </tr>\n",
       "    <tr>\n",
       "      <th>18</th>\n",
       "      <td>2005</td>\n",
       "      <td>Stadt Zürich (ab 1934)</td>\n",
       "      <td>R30000</td>\n",
       "      <td>366809</td>\n",
       "    </tr>\n",
       "    <tr>\n",
       "      <th>19</th>\n",
       "      <td>2004</td>\n",
       "      <td>Stadt Zürich (ab 1934)</td>\n",
       "      <td>R30000</td>\n",
       "      <td>364977</td>\n",
       "    </tr>\n",
       "    <tr>\n",
       "      <th>20</th>\n",
       "      <td>2003</td>\n",
       "      <td>Stadt Zürich (ab 1934)</td>\n",
       "      <td>R30000</td>\n",
       "      <td>364528</td>\n",
       "    </tr>\n",
       "    <tr>\n",
       "      <th>21</th>\n",
       "      <td>2002</td>\n",
       "      <td>Stadt Zürich (ab 1934)</td>\n",
       "      <td>R30000</td>\n",
       "      <td>364558</td>\n",
       "    </tr>\n",
       "    <tr>\n",
       "      <th>22</th>\n",
       "      <td>2001</td>\n",
       "      <td>Stadt Zürich (ab 1934)</td>\n",
       "      <td>R30000</td>\n",
       "      <td>362042</td>\n",
       "    </tr>\n",
       "    <tr>\n",
       "      <th>23</th>\n",
       "      <td>2000</td>\n",
       "      <td>Stadt Zürich (ab 1934)</td>\n",
       "      <td>R30000</td>\n",
       "      <td>360980</td>\n",
       "    </tr>\n",
       "    <tr>\n",
       "      <th>24</th>\n",
       "      <td>1999</td>\n",
       "      <td>Stadt Zürich (ab 1934)</td>\n",
       "      <td>R30000</td>\n",
       "      <td>360704</td>\n",
       "    </tr>\n",
       "    <tr>\n",
       "      <th>25</th>\n",
       "      <td>1998</td>\n",
       "      <td>Stadt Zürich (ab 1934)</td>\n",
       "      <td>R30000</td>\n",
       "      <td>359073</td>\n",
       "    </tr>\n",
       "    <tr>\n",
       "      <th>26</th>\n",
       "      <td>1997</td>\n",
       "      <td>Stadt Zürich (ab 1934)</td>\n",
       "      <td>R30000</td>\n",
       "      <td>358594</td>\n",
       "    </tr>\n",
       "    <tr>\n",
       "      <th>27</th>\n",
       "      <td>1996</td>\n",
       "      <td>Stadt Zürich (ab 1934)</td>\n",
       "      <td>R30000</td>\n",
       "      <td>359648</td>\n",
       "    </tr>\n",
       "    <tr>\n",
       "      <th>28</th>\n",
       "      <td>1995</td>\n",
       "      <td>Stadt Zürich (ab 1934)</td>\n",
       "      <td>R30000</td>\n",
       "      <td>360826</td>\n",
       "    </tr>\n",
       "    <tr>\n",
       "      <th>29</th>\n",
       "      <td>1994</td>\n",
       "      <td>Stadt Zürich (ab 1934)</td>\n",
       "      <td>R30000</td>\n",
       "      <td>360848</td>\n",
       "    </tr>\n",
       "    <tr>\n",
       "      <th>30</th>\n",
       "      <td>1993</td>\n",
       "      <td>Stadt Zürich (ab 1934)</td>\n",
       "      <td>R30000</td>\n",
       "      <td>360898</td>\n",
       "    </tr>\n",
       "    <tr>\n",
       "      <th>31</th>\n",
       "      <td>1992</td>\n",
       "      <td>Stadt Zürich (ab 1934)</td>\n",
       "      <td>R30000</td>\n",
       "      <td>359664</td>\n",
       "    </tr>\n",
       "    <tr>\n",
       "      <th>32</th>\n",
       "      <td>1991</td>\n",
       "      <td>Stadt Zürich (ab 1934)</td>\n",
       "      <td>R30000</td>\n",
       "      <td>360875</td>\n",
       "    </tr>\n",
       "    <tr>\n",
       "      <th>33</th>\n",
       "      <td>1990</td>\n",
       "      <td>Stadt Zürich (ab 1934)</td>\n",
       "      <td>R30000</td>\n",
       "      <td>356352</td>\n",
       "    </tr>\n",
       "    <tr>\n",
       "      <th>34</th>\n",
       "      <td>1989</td>\n",
       "      <td>Stadt Zürich (ab 1934)</td>\n",
       "      <td>R30000</td>\n",
       "      <td>355901</td>\n",
       "    </tr>\n",
       "    <tr>\n",
       "      <th>35</th>\n",
       "      <td>1988</td>\n",
       "      <td>Stadt Zürich (ab 1934)</td>\n",
       "      <td>R30000</td>\n",
       "      <td>357360</td>\n",
       "    </tr>\n",
       "    <tr>\n",
       "      <th>36</th>\n",
       "      <td>1987</td>\n",
       "      <td>Stadt Zürich (ab 1934)</td>\n",
       "      <td>R30000</td>\n",
       "      <td>358042</td>\n",
       "    </tr>\n",
       "    <tr>\n",
       "      <th>37</th>\n",
       "      <td>1986</td>\n",
       "      <td>Stadt Zürich (ab 1934)</td>\n",
       "      <td>R30000</td>\n",
       "      <td>358873</td>\n",
       "    </tr>\n",
       "    <tr>\n",
       "      <th>38</th>\n",
       "      <td>1985</td>\n",
       "      <td>Stadt Zürich (ab 1934)</td>\n",
       "      <td>R30000</td>\n",
       "      <td>359084</td>\n",
       "    </tr>\n",
       "    <tr>\n",
       "      <th>39</th>\n",
       "      <td>1984</td>\n",
       "      <td>Stadt Zürich (ab 1934)</td>\n",
       "      <td>R30000</td>\n",
       "      <td>361493</td>\n",
       "    </tr>\n",
       "    <tr>\n",
       "      <th>40</th>\n",
       "      <td>1983</td>\n",
       "      <td>Stadt Zürich (ab 1934)</td>\n",
       "      <td>R30000</td>\n",
       "      <td>363652</td>\n",
       "    </tr>\n",
       "    <tr>\n",
       "      <th>41</th>\n",
       "      <td>1982</td>\n",
       "      <td>Stadt Zürich (ab 1934)</td>\n",
       "      <td>R30000</td>\n",
       "      <td>366340</td>\n",
       "    </tr>\n",
       "    <tr>\n",
       "      <th>42</th>\n",
       "      <td>1981</td>\n",
       "      <td>Stadt Zürich (ab 1934)</td>\n",
       "      <td>R30000</td>\n",
       "      <td>368171</td>\n",
       "    </tr>\n",
       "    <tr>\n",
       "      <th>43</th>\n",
       "      <td>1980</td>\n",
       "      <td>Stadt Zürich (ab 1934)</td>\n",
       "      <td>R30000</td>\n",
       "      <td>370618</td>\n",
       "    </tr>\n",
       "    <tr>\n",
       "      <th>44</th>\n",
       "      <td>1979</td>\n",
       "      <td>Stadt Zürich (ab 1934)</td>\n",
       "      <td>R30000</td>\n",
       "      <td>374221</td>\n",
       "    </tr>\n",
       "    <tr>\n",
       "      <th>45</th>\n",
       "      <td>1978</td>\n",
       "      <td>Stadt Zürich (ab 1934)</td>\n",
       "      <td>R30000</td>\n",
       "      <td>376447</td>\n",
       "    </tr>\n",
       "    <tr>\n",
       "      <th>46</th>\n",
       "      <td>1977</td>\n",
       "      <td>Stadt Zürich (ab 1934)</td>\n",
       "      <td>R30000</td>\n",
       "      <td>379635</td>\n",
       "    </tr>\n",
       "    <tr>\n",
       "      <th>47</th>\n",
       "      <td>1976</td>\n",
       "      <td>Stadt Zürich (ab 1934)</td>\n",
       "      <td>R30000</td>\n",
       "      <td>382999</td>\n",
       "    </tr>\n",
       "    <tr>\n",
       "      <th>48</th>\n",
       "      <td>1975</td>\n",
       "      <td>Stadt Zürich (ab 1934)</td>\n",
       "      <td>R30000</td>\n",
       "      <td>389613</td>\n",
       "    </tr>\n",
       "    <tr>\n",
       "      <th>49</th>\n",
       "      <td>1974</td>\n",
       "      <td>Stadt Zürich (ab 1934)</td>\n",
       "      <td>R30000</td>\n",
       "      <td>396261</td>\n",
       "    </tr>\n",
       "  </tbody>\n",
       "</table>\n",
       "</div>"
      ],
      "text/plain": [
       "    Jahr_nbr               RAUM_lang RAUM_code  sum_AnzBestWir\n",
       "0       2023  Stadt Zürich (ab 1934)    R30000          447082\n",
       "1       2022  Stadt Zürich (ab 1934)    R30000          443037\n",
       "2       2021  Stadt Zürich (ab 1934)    R30000          436332\n",
       "3       2020  Stadt Zürich (ab 1934)    R30000          434736\n",
       "4       2019  Stadt Zürich (ab 1934)    R30000          434008\n",
       "5       2018  Stadt Zürich (ab 1934)    R30000          428737\n",
       "6       2017  Stadt Zürich (ab 1934)    R30000          423310\n",
       "7       2016  Stadt Zürich (ab 1934)    R30000          415682\n",
       "8       2015  Stadt Zürich (ab 1934)    R30000          410404\n",
       "9       2014  Stadt Zürich (ab 1934)    R30000          404783\n",
       "10      2013  Stadt Zürich (ab 1934)    R30000          398575\n",
       "11      2012  Stadt Zürich (ab 1934)    R30000          394012\n",
       "12      2011  Stadt Zürich (ab 1934)    R30000          390082\n",
       "13      2010  Stadt Zürich (ab 1934)    R30000          385468\n",
       "14      2009  Stadt Zürich (ab 1934)    R30000          382906\n",
       "15      2008  Stadt Zürich (ab 1934)    R30000          380499\n",
       "16      2007  Stadt Zürich (ab 1934)    R30000          376815\n",
       "17      2006  Stadt Zürich (ab 1934)    R30000          370062\n",
       "18      2005  Stadt Zürich (ab 1934)    R30000          366809\n",
       "19      2004  Stadt Zürich (ab 1934)    R30000          364977\n",
       "20      2003  Stadt Zürich (ab 1934)    R30000          364528\n",
       "21      2002  Stadt Zürich (ab 1934)    R30000          364558\n",
       "22      2001  Stadt Zürich (ab 1934)    R30000          362042\n",
       "23      2000  Stadt Zürich (ab 1934)    R30000          360980\n",
       "24      1999  Stadt Zürich (ab 1934)    R30000          360704\n",
       "25      1998  Stadt Zürich (ab 1934)    R30000          359073\n",
       "26      1997  Stadt Zürich (ab 1934)    R30000          358594\n",
       "27      1996  Stadt Zürich (ab 1934)    R30000          359648\n",
       "28      1995  Stadt Zürich (ab 1934)    R30000          360826\n",
       "29      1994  Stadt Zürich (ab 1934)    R30000          360848\n",
       "30      1993  Stadt Zürich (ab 1934)    R30000          360898\n",
       "31      1992  Stadt Zürich (ab 1934)    R30000          359664\n",
       "32      1991  Stadt Zürich (ab 1934)    R30000          360875\n",
       "33      1990  Stadt Zürich (ab 1934)    R30000          356352\n",
       "34      1989  Stadt Zürich (ab 1934)    R30000          355901\n",
       "35      1988  Stadt Zürich (ab 1934)    R30000          357360\n",
       "36      1987  Stadt Zürich (ab 1934)    R30000          358042\n",
       "37      1986  Stadt Zürich (ab 1934)    R30000          358873\n",
       "38      1985  Stadt Zürich (ab 1934)    R30000          359084\n",
       "39      1984  Stadt Zürich (ab 1934)    R30000          361493\n",
       "40      1983  Stadt Zürich (ab 1934)    R30000          363652\n",
       "41      1982  Stadt Zürich (ab 1934)    R30000          366340\n",
       "42      1981  Stadt Zürich (ab 1934)    R30000          368171\n",
       "43      1980  Stadt Zürich (ab 1934)    R30000          370618\n",
       "44      1979  Stadt Zürich (ab 1934)    R30000          374221\n",
       "45      1978  Stadt Zürich (ab 1934)    R30000          376447\n",
       "46      1977  Stadt Zürich (ab 1934)    R30000          379635\n",
       "47      1976  Stadt Zürich (ab 1934)    R30000          382999\n",
       "48      1975  Stadt Zürich (ab 1934)    R30000          389613\n",
       "49      1974  Stadt Zürich (ab 1934)    R30000          396261"
      ]
     },
     "execution_count": 104,
     "metadata": {},
     "output_type": "execute_result"
    }
   ],
   "source": [
    "agg_Quarts = data2betested.loc[data_min_date:data_max_date]\\\n",
    "    .groupby(['Jahr_nbr','RAUM_lang', 'RAUM_code']) \\\n",
    "    .agg(sum_AnzBestWir=('BEW', 'sum')) \\\n",
    "    .sort_values(['Jahr_nbr','RAUM_code'], ascending=[False, True]) \n",
    "agg_Quarts.reset_index().head(50)"
   ]
  },
  {
   "cell_type": "code",
   "execution_count": null,
   "metadata": {},
   "outputs": [
    {
     "data": {
      "text/plain": [
       "Index(['ZEIT_lang', 'ZEIT_code', 'RAUM_lang', 'RAUM_code', 'KON_lang', 'KON_code', 'BEW',\n",
       "       'StichtagDatJahr_str', 'Jahr_nbr', 'RAUM_my_sort'],\n",
       "      dtype='object')"
      ]
     },
     "execution_count": 105,
     "metadata": {},
     "output_type": "execute_result"
    }
   ],
   "source": [
    "data2betested.columns"
   ]
  },
  {
   "cell_type": "markdown",
   "metadata": {},
   "source": [
    "### Zeitpunkte und Zeiträume abfragen\n",
    "\n",
    "A particular powerful feature of the Pandas DataFrame is its indexing capability that also works using time-based entities, such as dates and times. We have already created the index above, so let's put it to use."
   ]
  },
  {
   "cell_type": "code",
   "execution_count": null,
   "metadata": {},
   "outputs": [
    {
     "data": {
      "text/html": [
       "<div>\n",
       "<style scoped>\n",
       "    .dataframe tbody tr th:only-of-type {\n",
       "        vertical-align: middle;\n",
       "    }\n",
       "\n",
       "    .dataframe tbody tr th {\n",
       "        vertical-align: top;\n",
       "    }\n",
       "\n",
       "    .dataframe thead th {\n",
       "        text-align: right;\n",
       "    }\n",
       "</style>\n",
       "<table border=\"1\" class=\"dataframe\">\n",
       "  <thead>\n",
       "    <tr style=\"text-align: right;\">\n",
       "      <th></th>\n",
       "      <th>ZEIT_lang</th>\n",
       "      <th>ZEIT_code</th>\n",
       "      <th>RAUM_lang</th>\n",
       "      <th>RAUM_code</th>\n",
       "      <th>KON_lang</th>\n",
       "      <th>KON_code</th>\n",
       "      <th>BEW</th>\n",
       "      <th>StichtagDatJahr_str</th>\n",
       "      <th>Jahr_nbr</th>\n",
       "      <th>RAUM_my_sort</th>\n",
       "    </tr>\n",
       "    <tr>\n",
       "      <th>StichtagDatJahr</th>\n",
       "      <th></th>\n",
       "      <th></th>\n",
       "      <th></th>\n",
       "      <th></th>\n",
       "      <th></th>\n",
       "      <th></th>\n",
       "      <th></th>\n",
       "      <th></th>\n",
       "      <th></th>\n",
       "      <th></th>\n",
       "    </tr>\n",
       "  </thead>\n",
       "  <tbody>\n",
       "    <tr>\n",
       "      <th>2023-12-31</th>\n",
       "      <td>2023-12-31</td>\n",
       "      <td>Z31122023</td>\n",
       "      <td>Stadt Zürich (ab 1934)</td>\n",
       "      <td>R30000</td>\n",
       "      <td>Evangelisch-reformierte Kirche</td>\n",
       "      <td>KON1001</td>\n",
       "      <td>74269</td>\n",
       "      <td>2023-12-31</td>\n",
       "      <td>2023</td>\n",
       "      <td>30000</td>\n",
       "    </tr>\n",
       "    <tr>\n",
       "      <th>2023-12-31</th>\n",
       "      <td>2023-12-31</td>\n",
       "      <td>Z31122023</td>\n",
       "      <td>Stadt Zürich (ab 1934)</td>\n",
       "      <td>R30000</td>\n",
       "      <td>Römisch-katholische Kirche</td>\n",
       "      <td>KON2001</td>\n",
       "      <td>97639</td>\n",
       "      <td>2023-12-31</td>\n",
       "      <td>2023</td>\n",
       "      <td>30000</td>\n",
       "    </tr>\n",
       "  </tbody>\n",
       "</table>\n",
       "</div>"
      ],
      "text/plain": [
       "                 ZEIT_lang  ZEIT_code               RAUM_lang RAUM_code  \\\n",
       "StichtagDatJahr                                                           \n",
       "2023-12-31      2023-12-31  Z31122023  Stadt Zürich (ab 1934)    R30000   \n",
       "2023-12-31      2023-12-31  Z31122023  Stadt Zürich (ab 1934)    R30000   \n",
       "\n",
       "                                       KON_lang KON_code   BEW StichtagDatJahr_str  Jahr_nbr  \\\n",
       "StichtagDatJahr                                                                                \n",
       "2023-12-31       Evangelisch-reformierte Kirche  KON1001 74269          2023-12-31      2023   \n",
       "2023-12-31           Römisch-katholische Kirche  KON2001 97639          2023-12-31      2023   \n",
       "\n",
       "                 RAUM_my_sort  \n",
       "StichtagDatJahr                \n",
       "2023-12-31              30000  \n",
       "2023-12-31              30000  "
      ]
     },
     "execution_count": 106,
     "metadata": {},
     "output_type": "execute_result"
    }
   ],
   "source": [
    "data2betested.loc[data_max_date].head(2)\n",
    "#data2betested.loc[\"2021-10-31\":\"2021-11-30\"].head(2)"
   ]
  },
  {
   "cell_type": "markdown",
   "metadata": {},
   "source": [
    "### Visualisierungen nach Zeitausschnitten"
   ]
  },
  {
   "cell_type": "markdown",
   "metadata": {},
   "source": [
    "#### Entwicklung Wohnbevölkerung seit ..."
   ]
  },
  {
   "cell_type": "code",
   "execution_count": null,
   "metadata": {},
   "outputs": [
    {
     "data": {
      "text/html": [
       "<div>\n",
       "<style scoped>\n",
       "    .dataframe tbody tr th:only-of-type {\n",
       "        vertical-align: middle;\n",
       "    }\n",
       "\n",
       "    .dataframe tbody tr th {\n",
       "        vertical-align: top;\n",
       "    }\n",
       "\n",
       "    .dataframe thead th {\n",
       "        text-align: right;\n",
       "    }\n",
       "</style>\n",
       "<table border=\"1\" class=\"dataframe\">\n",
       "  <thead>\n",
       "    <tr style=\"text-align: right;\">\n",
       "      <th></th>\n",
       "      <th>StichtagDatJahr</th>\n",
       "      <th>sum_WBev</th>\n",
       "    </tr>\n",
       "  </thead>\n",
       "  <tbody>\n",
       "    <tr>\n",
       "      <th>0</th>\n",
       "      <td>2023-12-31</td>\n",
       "      <td>447082</td>\n",
       "    </tr>\n",
       "    <tr>\n",
       "      <th>1</th>\n",
       "      <td>2022-12-31</td>\n",
       "      <td>443037</td>\n",
       "    </tr>\n",
       "    <tr>\n",
       "      <th>2</th>\n",
       "      <td>2021-12-31</td>\n",
       "      <td>436332</td>\n",
       "    </tr>\n",
       "    <tr>\n",
       "      <th>3</th>\n",
       "      <td>2020-12-31</td>\n",
       "      <td>434736</td>\n",
       "    </tr>\n",
       "    <tr>\n",
       "      <th>4</th>\n",
       "      <td>2019-12-31</td>\n",
       "      <td>434008</td>\n",
       "    </tr>\n",
       "    <tr>\n",
       "      <th>5</th>\n",
       "      <td>2018-12-31</td>\n",
       "      <td>428737</td>\n",
       "    </tr>\n",
       "    <tr>\n",
       "      <th>6</th>\n",
       "      <td>2017-12-31</td>\n",
       "      <td>423310</td>\n",
       "    </tr>\n",
       "    <tr>\n",
       "      <th>7</th>\n",
       "      <td>2016-12-31</td>\n",
       "      <td>415682</td>\n",
       "    </tr>\n",
       "    <tr>\n",
       "      <th>8</th>\n",
       "      <td>2015-12-31</td>\n",
       "      <td>410404</td>\n",
       "    </tr>\n",
       "    <tr>\n",
       "      <th>9</th>\n",
       "      <td>2014-12-31</td>\n",
       "      <td>404783</td>\n",
       "    </tr>\n",
       "    <tr>\n",
       "      <th>10</th>\n",
       "      <td>2013-12-31</td>\n",
       "      <td>398575</td>\n",
       "    </tr>\n",
       "    <tr>\n",
       "      <th>11</th>\n",
       "      <td>2012-12-31</td>\n",
       "      <td>394012</td>\n",
       "    </tr>\n",
       "    <tr>\n",
       "      <th>12</th>\n",
       "      <td>2011-12-31</td>\n",
       "      <td>390082</td>\n",
       "    </tr>\n",
       "    <tr>\n",
       "      <th>13</th>\n",
       "      <td>2010-12-31</td>\n",
       "      <td>385468</td>\n",
       "    </tr>\n",
       "    <tr>\n",
       "      <th>14</th>\n",
       "      <td>2009-12-31</td>\n",
       "      <td>382906</td>\n",
       "    </tr>\n",
       "    <tr>\n",
       "      <th>15</th>\n",
       "      <td>2008-12-31</td>\n",
       "      <td>380499</td>\n",
       "    </tr>\n",
       "    <tr>\n",
       "      <th>16</th>\n",
       "      <td>2007-12-31</td>\n",
       "      <td>376815</td>\n",
       "    </tr>\n",
       "    <tr>\n",
       "      <th>17</th>\n",
       "      <td>2006-12-31</td>\n",
       "      <td>370062</td>\n",
       "    </tr>\n",
       "    <tr>\n",
       "      <th>18</th>\n",
       "      <td>2005-12-31</td>\n",
       "      <td>366809</td>\n",
       "    </tr>\n",
       "    <tr>\n",
       "      <th>19</th>\n",
       "      <td>2004-12-31</td>\n",
       "      <td>364977</td>\n",
       "    </tr>\n",
       "    <tr>\n",
       "      <th>20</th>\n",
       "      <td>2003-12-31</td>\n",
       "      <td>364528</td>\n",
       "    </tr>\n",
       "    <tr>\n",
       "      <th>21</th>\n",
       "      <td>2002-12-31</td>\n",
       "      <td>364558</td>\n",
       "    </tr>\n",
       "    <tr>\n",
       "      <th>22</th>\n",
       "      <td>2001-12-31</td>\n",
       "      <td>362042</td>\n",
       "    </tr>\n",
       "    <tr>\n",
       "      <th>23</th>\n",
       "      <td>2000-12-31</td>\n",
       "      <td>360980</td>\n",
       "    </tr>\n",
       "    <tr>\n",
       "      <th>24</th>\n",
       "      <td>1999-12-31</td>\n",
       "      <td>360704</td>\n",
       "    </tr>\n",
       "    <tr>\n",
       "      <th>25</th>\n",
       "      <td>1998-12-31</td>\n",
       "      <td>359073</td>\n",
       "    </tr>\n",
       "    <tr>\n",
       "      <th>26</th>\n",
       "      <td>1997-12-31</td>\n",
       "      <td>358594</td>\n",
       "    </tr>\n",
       "    <tr>\n",
       "      <th>27</th>\n",
       "      <td>1996-12-31</td>\n",
       "      <td>359648</td>\n",
       "    </tr>\n",
       "    <tr>\n",
       "      <th>28</th>\n",
       "      <td>1995-12-31</td>\n",
       "      <td>360826</td>\n",
       "    </tr>\n",
       "    <tr>\n",
       "      <th>29</th>\n",
       "      <td>1994-12-31</td>\n",
       "      <td>360848</td>\n",
       "    </tr>\n",
       "  </tbody>\n",
       "</table>\n",
       "</div>"
      ],
      "text/plain": [
       "   StichtagDatJahr  sum_WBev\n",
       "0       2023-12-31    447082\n",
       "1       2022-12-31    443037\n",
       "2       2021-12-31    436332\n",
       "3       2020-12-31    434736\n",
       "4       2019-12-31    434008\n",
       "5       2018-12-31    428737\n",
       "6       2017-12-31    423310\n",
       "7       2016-12-31    415682\n",
       "8       2015-12-31    410404\n",
       "9       2014-12-31    404783\n",
       "10      2013-12-31    398575\n",
       "11      2012-12-31    394012\n",
       "12      2011-12-31    390082\n",
       "13      2010-12-31    385468\n",
       "14      2009-12-31    382906\n",
       "15      2008-12-31    380499\n",
       "16      2007-12-31    376815\n",
       "17      2006-12-31    370062\n",
       "18      2005-12-31    366809\n",
       "19      2004-12-31    364977\n",
       "20      2003-12-31    364528\n",
       "21      2002-12-31    364558\n",
       "22      2001-12-31    362042\n",
       "23      2000-12-31    360980\n",
       "24      1999-12-31    360704\n",
       "25      1998-12-31    359073\n",
       "26      1997-12-31    358594\n",
       "27      1996-12-31    359648\n",
       "28      1995-12-31    360826\n",
       "29      1994-12-31    360848"
      ]
     },
     "execution_count": 107,
     "metadata": {},
     "output_type": "execute_result"
    }
   ],
   "source": [
    "myAggAll = data2betested.loc[data_min_date:data_max_date]\\\n",
    "    .groupby(['StichtagDatJahr']) \\\n",
    "    .agg(sum_WBev=('BEW', 'sum')) \\\n",
    "    .sort_values('StichtagDatJahr', ascending=False) \n",
    "\n",
    "myAggAll.reset_index().head(30)"
   ]
  },
  {
   "cell_type": "code",
   "execution_count": null,
   "metadata": {},
   "outputs": [
    {
     "data": {
      "text/html": [
       "\n",
       "<div id=\"altair-viz-2879dd0f2a654edd8aad9a20e4ddcb7c\"></div>\n",
       "<script type=\"text/javascript\">\n",
       "  (function(spec, embedOpt){\n",
       "    let outputDiv = document.currentScript.previousElementSibling;\n",
       "    if (outputDiv.id !== \"altair-viz-2879dd0f2a654edd8aad9a20e4ddcb7c\") {\n",
       "      outputDiv = document.getElementById(\"altair-viz-2879dd0f2a654edd8aad9a20e4ddcb7c\");\n",
       "    }\n",
       "    const paths = {\n",
       "      \"vega\": \"https://cdn.jsdelivr.net/npm//vega@5?noext\",\n",
       "      \"vega-lib\": \"https://cdn.jsdelivr.net/npm//vega-lib?noext\",\n",
       "      \"vega-lite\": \"https://cdn.jsdelivr.net/npm//vega-lite@4.8.1?noext\",\n",
       "      \"vega-embed\": \"https://cdn.jsdelivr.net/npm//vega-embed@6?noext\",\n",
       "    };\n",
       "\n",
       "    function loadScript(lib) {\n",
       "      return new Promise(function(resolve, reject) {\n",
       "        var s = document.createElement('script');\n",
       "        s.src = paths[lib];\n",
       "        s.async = true;\n",
       "        s.onload = () => resolve(paths[lib]);\n",
       "        s.onerror = () => reject(`Error loading script: ${paths[lib]}`);\n",
       "        document.getElementsByTagName(\"head\")[0].appendChild(s);\n",
       "      });\n",
       "    }\n",
       "\n",
       "    function showError(err) {\n",
       "      outputDiv.innerHTML = `<div class=\"error\" style=\"color:red;\">${err}</div>`;\n",
       "      throw err;\n",
       "    }\n",
       "\n",
       "    function displayChart(vegaEmbed) {\n",
       "      vegaEmbed(outputDiv, spec, embedOpt)\n",
       "        .catch(err => showError(`Javascript Error: ${err.message}<br>This usually means there's a typo in your chart specification. See the javascript console for the full traceback.`));\n",
       "    }\n",
       "\n",
       "    if(typeof define === \"function\" && define.amd) {\n",
       "      requirejs.config({paths});\n",
       "      require([\"vega-embed\"], displayChart, err => showError(`Error loading script: ${err.message}`));\n",
       "    } else if (typeof vegaEmbed === \"function\") {\n",
       "      displayChart(vegaEmbed);\n",
       "    } else {\n",
       "      loadScript(\"vega\")\n",
       "        .then(() => loadScript(\"vega-lite\"))\n",
       "        .then(() => loadScript(\"vega-embed\"))\n",
       "        .catch(showError)\n",
       "        .then(() => displayChart(vegaEmbed));\n",
       "    }\n",
       "  })({\"config\": {\"view\": {\"continuousWidth\": 400, \"continuousHeight\": 300}}, \"layer\": [{\"mark\": \"line\", \"encoding\": {\"size\": {\"condition\": {\"value\": 0.5, \"selection\": {\"not\": \"selector007\"}}, \"value\": 4}, \"tooltip\": [{\"type\": \"temporal\", \"field\": \"StichtagDatJahr\"}, {\"type\": \"quantitative\", \"field\": \"sum_WBev\"}], \"x\": {\"type\": \"temporal\", \"axis\": {\"title\": \"Jahr\"}, \"field\": \"StichtagDatJahr\"}, \"y\": {\"type\": \"quantitative\", \"axis\": {\"title\": \"Anz. Personen\"}, \"field\": \"sum_WBev\"}}, \"selection\": {\"selector008\": {\"type\": \"interval\", \"bind\": \"scales\", \"encodings\": [\"x\", \"y\"]}}, \"title\": \"Bev\\u00f6lkerungsentwicklung, seit 1900\"}, {\"mark\": \"circle\", \"encoding\": {\"opacity\": {\"value\": 0.75}, \"tooltip\": [{\"type\": \"temporal\", \"field\": \"StichtagDatJahr\"}, {\"type\": \"quantitative\", \"field\": \"sum_WBev\"}], \"x\": {\"type\": \"temporal\", \"axis\": {\"title\": \"Jahr\"}, \"field\": \"StichtagDatJahr\"}, \"y\": {\"type\": \"quantitative\", \"axis\": {\"title\": \"Anz. Personen\"}, \"field\": \"sum_WBev\"}}, \"height\": 350, \"selection\": {\"selector007\": {\"type\": \"single\", \"on\": \"mouseover\", \"fields\": [\"sum_WBev\"], \"nearest\": true}}, \"title\": \"Bev\\u00f6lkerungsentwicklung, seit 1900\", \"width\": 750}], \"data\": {\"name\": \"data-97f9232008372a80484653ea8bfc6161\"}, \"$schema\": \"https://vega.github.io/schema/vega-lite/v4.8.1.json\", \"datasets\": {\"data-97f9232008372a80484653ea8bfc6161\": [{\"StichtagDatJahr\": \"2023-12-31T00:00:00\", \"sum_WBev\": 447082.0}, {\"StichtagDatJahr\": \"2022-12-31T00:00:00\", \"sum_WBev\": 443037.0}, {\"StichtagDatJahr\": \"2021-12-31T00:00:00\", \"sum_WBev\": 436332.0}, {\"StichtagDatJahr\": \"2020-12-31T00:00:00\", \"sum_WBev\": 434736.0}, {\"StichtagDatJahr\": \"2019-12-31T00:00:00\", \"sum_WBev\": 434008.0}, {\"StichtagDatJahr\": \"2018-12-31T00:00:00\", \"sum_WBev\": 428737.0}, {\"StichtagDatJahr\": \"2017-12-31T00:00:00\", \"sum_WBev\": 423310.0}, {\"StichtagDatJahr\": \"2016-12-31T00:00:00\", \"sum_WBev\": 415682.0}, {\"StichtagDatJahr\": \"2015-12-31T00:00:00\", \"sum_WBev\": 410404.0}, {\"StichtagDatJahr\": \"2014-12-31T00:00:00\", \"sum_WBev\": 404783.0}, {\"StichtagDatJahr\": \"2013-12-31T00:00:00\", \"sum_WBev\": 398575.0}, {\"StichtagDatJahr\": \"2012-12-31T00:00:00\", \"sum_WBev\": 394012.0}, {\"StichtagDatJahr\": \"2011-12-31T00:00:00\", \"sum_WBev\": 390082.0}, {\"StichtagDatJahr\": \"2010-12-31T00:00:00\", \"sum_WBev\": 385468.0}, {\"StichtagDatJahr\": \"2009-12-31T00:00:00\", \"sum_WBev\": 382906.0}, {\"StichtagDatJahr\": \"2008-12-31T00:00:00\", \"sum_WBev\": 380499.0}, {\"StichtagDatJahr\": \"2007-12-31T00:00:00\", \"sum_WBev\": 376815.0}, {\"StichtagDatJahr\": \"2006-12-31T00:00:00\", \"sum_WBev\": 370062.0}, {\"StichtagDatJahr\": \"2005-12-31T00:00:00\", \"sum_WBev\": 366809.0}, {\"StichtagDatJahr\": \"2004-12-31T00:00:00\", \"sum_WBev\": 364977.0}, {\"StichtagDatJahr\": \"2003-12-31T00:00:00\", \"sum_WBev\": 364528.0}, {\"StichtagDatJahr\": \"2002-12-31T00:00:00\", \"sum_WBev\": 364558.0}, {\"StichtagDatJahr\": \"2001-12-31T00:00:00\", \"sum_WBev\": 362042.0}, {\"StichtagDatJahr\": \"2000-12-31T00:00:00\", \"sum_WBev\": 360980.0}, {\"StichtagDatJahr\": \"1999-12-31T00:00:00\", \"sum_WBev\": 360704.0}, {\"StichtagDatJahr\": \"1998-12-31T00:00:00\", \"sum_WBev\": 359073.0}, {\"StichtagDatJahr\": \"1997-12-31T00:00:00\", \"sum_WBev\": 358594.0}, {\"StichtagDatJahr\": \"1996-12-31T00:00:00\", \"sum_WBev\": 359648.0}, {\"StichtagDatJahr\": \"1995-12-31T00:00:00\", \"sum_WBev\": 360826.0}, {\"StichtagDatJahr\": \"1994-12-31T00:00:00\", \"sum_WBev\": 360848.0}, {\"StichtagDatJahr\": \"1993-12-31T00:00:00\", \"sum_WBev\": 360898.0}, {\"StichtagDatJahr\": \"1992-12-31T00:00:00\", \"sum_WBev\": 359664.0}, {\"StichtagDatJahr\": \"1991-12-31T00:00:00\", \"sum_WBev\": 360875.0}, {\"StichtagDatJahr\": \"1990-12-31T00:00:00\", \"sum_WBev\": 356352.0}, {\"StichtagDatJahr\": \"1989-12-31T00:00:00\", \"sum_WBev\": 355901.0}, {\"StichtagDatJahr\": \"1988-12-31T00:00:00\", \"sum_WBev\": 357360.0}, {\"StichtagDatJahr\": \"1987-12-31T00:00:00\", \"sum_WBev\": 358042.0}, {\"StichtagDatJahr\": \"1986-12-31T00:00:00\", \"sum_WBev\": 358873.0}, {\"StichtagDatJahr\": \"1985-12-31T00:00:00\", \"sum_WBev\": 359084.0}, {\"StichtagDatJahr\": \"1984-12-31T00:00:00\", \"sum_WBev\": 361493.0}, {\"StichtagDatJahr\": \"1983-12-31T00:00:00\", \"sum_WBev\": 363652.0}, {\"StichtagDatJahr\": \"1982-12-31T00:00:00\", \"sum_WBev\": 366340.0}, {\"StichtagDatJahr\": \"1981-12-31T00:00:00\", \"sum_WBev\": 368171.0}, {\"StichtagDatJahr\": \"1980-12-31T00:00:00\", \"sum_WBev\": 370618.0}, {\"StichtagDatJahr\": \"1979-12-31T00:00:00\", \"sum_WBev\": 374221.0}, {\"StichtagDatJahr\": \"1978-12-31T00:00:00\", \"sum_WBev\": 376447.0}, {\"StichtagDatJahr\": \"1977-12-31T00:00:00\", \"sum_WBev\": 379635.0}, {\"StichtagDatJahr\": \"1976-12-31T00:00:00\", \"sum_WBev\": 382999.0}, {\"StichtagDatJahr\": \"1975-12-31T00:00:00\", \"sum_WBev\": 389613.0}, {\"StichtagDatJahr\": \"1974-12-31T00:00:00\", \"sum_WBev\": 396261.0}, {\"StichtagDatJahr\": \"1973-12-31T00:00:00\", \"sum_WBev\": 401577.0}, {\"StichtagDatJahr\": \"1972-12-31T00:00:00\", \"sum_WBev\": 407647.0}, {\"StichtagDatJahr\": \"1971-12-31T00:00:00\", \"sum_WBev\": 412169.0}, {\"StichtagDatJahr\": \"1970-12-31T00:00:00\", \"sum_WBev\": 417972.0}, {\"StichtagDatJahr\": \"1969-12-31T00:00:00\", \"sum_WBev\": 425117.0}, {\"StichtagDatJahr\": \"1968-12-31T00:00:00\", \"sum_WBev\": 430155.0}, {\"StichtagDatJahr\": \"1967-12-31T00:00:00\", \"sum_WBev\": 430594.0}, {\"StichtagDatJahr\": \"1966-12-31T00:00:00\", \"sum_WBev\": 431533.0}, {\"StichtagDatJahr\": \"1965-12-31T00:00:00\", \"sum_WBev\": 433865.0}, {\"StichtagDatJahr\": \"1964-12-31T00:00:00\", \"sum_WBev\": 437630.0}, {\"StichtagDatJahr\": \"1963-12-31T00:00:00\", \"sum_WBev\": 439090.0}, {\"StichtagDatJahr\": \"1962-12-31T00:00:00\", \"sum_WBev\": 440180.0}, {\"StichtagDatJahr\": \"1961-12-31T00:00:00\", \"sum_WBev\": 439322.0}, {\"StichtagDatJahr\": \"1960-12-31T00:00:00\", \"sum_WBev\": 437273.0}, {\"StichtagDatJahr\": \"1959-12-31T00:00:00\", \"sum_WBev\": 434080.0}, {\"StichtagDatJahr\": \"1958-12-31T00:00:00\", \"sum_WBev\": 431242.0}, {\"StichtagDatJahr\": \"1957-12-31T00:00:00\", \"sum_WBev\": 426349.0}, {\"StichtagDatJahr\": \"1956-12-31T00:00:00\", \"sum_WBev\": 420489.0}, {\"StichtagDatJahr\": \"1955-12-31T00:00:00\", \"sum_WBev\": 417351.0}, {\"StichtagDatJahr\": \"1954-12-31T00:00:00\", \"sum_WBev\": 413044.0}, {\"StichtagDatJahr\": \"1953-12-31T00:00:00\", \"sum_WBev\": 408544.0}, {\"StichtagDatJahr\": \"1952-12-31T00:00:00\", \"sum_WBev\": 403625.0}, {\"StichtagDatJahr\": \"1951-12-31T00:00:00\", \"sum_WBev\": 396260.0}, {\"StichtagDatJahr\": \"1950-12-31T00:00:00\", \"sum_WBev\": 389573.0}, {\"StichtagDatJahr\": \"1949-12-31T00:00:00\", \"sum_WBev\": 386003.0}, {\"StichtagDatJahr\": \"1948-12-31T00:00:00\", \"sum_WBev\": 383568.0}, {\"StichtagDatJahr\": \"1947-12-31T00:00:00\", \"sum_WBev\": 377087.0}, {\"StichtagDatJahr\": \"1946-12-31T00:00:00\", \"sum_WBev\": 367171.0}, {\"StichtagDatJahr\": \"1945-12-31T00:00:00\", \"sum_WBev\": 357381.0}, {\"StichtagDatJahr\": \"1944-12-31T00:00:00\", \"sum_WBev\": 351679.0}, {\"StichtagDatJahr\": \"1943-12-31T00:00:00\", \"sum_WBev\": 345819.0}, {\"StichtagDatJahr\": \"1942-12-31T00:00:00\", \"sum_WBev\": 339721.0}, {\"StichtagDatJahr\": \"1941-12-31T00:00:00\", \"sum_WBev\": 336531.0}, {\"StichtagDatJahr\": \"1940-12-31T00:00:00\", \"sum_WBev\": 334026.0}, {\"StichtagDatJahr\": \"1939-12-31T00:00:00\", \"sum_WBev\": 333984.0}, {\"StichtagDatJahr\": \"1938-12-31T00:00:00\", \"sum_WBev\": 326979.0}, {\"StichtagDatJahr\": \"1937-12-31T00:00:00\", \"sum_WBev\": 318926.0}, {\"StichtagDatJahr\": \"1936-12-31T00:00:00\", \"sum_WBev\": 317712.0}, {\"StichtagDatJahr\": \"1935-12-31T00:00:00\", \"sum_WBev\": 317157.0}, {\"StichtagDatJahr\": \"1934-12-31T00:00:00\", \"sum_WBev\": 315864.0}, {\"StichtagDatJahr\": \"1930-12-31T00:00:00\", \"sum_WBev\": 189773.0}, {\"StichtagDatJahr\": \"1920-12-31T00:00:00\", \"sum_WBev\": 155027.0}, {\"StichtagDatJahr\": \"1910-12-31T00:00:00\", \"sum_WBev\": 139649.0}, {\"StichtagDatJahr\": \"1900-12-31T00:00:00\", \"sum_WBev\": 116555.0}]}}, {\"mode\": \"vega-lite\"});\n",
       "</script>"
      ],
      "text/plain": [
       "alt.LayerChart(...)"
      ]
     },
     "execution_count": 108,
     "metadata": {},
     "output_type": "execute_result"
    }
   ],
   "source": [
    "myTitle=\"Bevölkerungsentwicklung, seit \"+data_min_date\n",
    "\n",
    "highlight = alt.selection(type='single', on='mouseover',\n",
    "                          fields=['sum_WBev'], nearest=True)\n",
    "#x='date:StichtagDatJahr',\n",
    "base = alt.Chart(myAggAll.reset_index().query('sum_WBev>30'), title=myTitle).encode(\n",
    "    x=alt.X('StichtagDatJahr', axis=alt.Axis(title='Jahr'))# , axis=alt.Axis(format='%', title='percentage')\n",
    "    , y=alt.X('sum_WBev', axis=alt.Axis(title='Anz. Personen'))\n",
    "    #, color=alt.Color('QuarLang', legend=alt.Legend(title=\"Altersgruppen\", orient=\"right\"))  \n",
    "    ,tooltip=['StichtagDatJahr','sum_WBev']    \n",
    ")\n",
    "points = base.mark_circle().encode(\n",
    "    opacity=alt.value(0.75)\n",
    ").add_selection(\n",
    "    highlight\n",
    ").properties(\n",
    "    width=750 , height=350\n",
    ")\n",
    "lines = base.mark_line().encode(\n",
    "    size=alt.condition(~highlight, alt.value(0.5), alt.value(4))\n",
    ").interactive()\n",
    "\n",
    "lines + points"
   ]
  },
  {
   "cell_type": "markdown",
   "metadata": {
    "tags": []
   },
   "source": [
    "#### Barcharts mit Seaborn"
   ]
  },
  {
   "cell_type": "code",
   "execution_count": null,
   "metadata": {},
   "outputs": [
    {
     "data": {
      "text/plain": [
       "Index(['ZEIT_lang', 'ZEIT_code', 'RAUM_lang', 'RAUM_code', 'KON_lang', 'KON_code', 'BEW',\n",
       "       'StichtagDatJahr_str', 'Jahr_nbr', 'RAUM_my_sort'],\n",
       "      dtype='object')"
      ]
     },
     "execution_count": 109,
     "metadata": {},
     "output_type": "execute_result"
    }
   ],
   "source": [
    "data2betested.columns"
   ]
  },
  {
   "cell_type": "code",
   "execution_count": null,
   "metadata": {},
   "outputs": [
    {
     "data": {
      "text/html": [
       "<div>\n",
       "<style scoped>\n",
       "    .dataframe tbody tr th:only-of-type {\n",
       "        vertical-align: middle;\n",
       "    }\n",
       "\n",
       "    .dataframe tbody tr th {\n",
       "        vertical-align: top;\n",
       "    }\n",
       "\n",
       "    .dataframe thead th {\n",
       "        text-align: right;\n",
       "    }\n",
       "</style>\n",
       "<table border=\"1\" class=\"dataframe\">\n",
       "  <thead>\n",
       "    <tr style=\"text-align: right;\">\n",
       "      <th></th>\n",
       "      <th>StichtagDatJahr</th>\n",
       "      <th>Jahr_nbr</th>\n",
       "      <th>RAUM_lang</th>\n",
       "      <th>RAUM_code</th>\n",
       "      <th>KON_lang</th>\n",
       "      <th>KON_code</th>\n",
       "      <th>sum_WBev</th>\n",
       "    </tr>\n",
       "  </thead>\n",
       "  <tbody>\n",
       "    <tr>\n",
       "      <th>0</th>\n",
       "      <td>2000-12-31</td>\n",
       "      <td>2000</td>\n",
       "      <td>Stadt Zürich (ab 1934)</td>\n",
       "      <td>R30000</td>\n",
       "      <td>Andere, ohne, unbekannt</td>\n",
       "      <td>KON9900</td>\n",
       "      <td>124559</td>\n",
       "    </tr>\n",
       "    <tr>\n",
       "      <th>1</th>\n",
       "      <td>2000-12-31</td>\n",
       "      <td>2000</td>\n",
       "      <td>Stadt Zürich (ab 1934)</td>\n",
       "      <td>R30000</td>\n",
       "      <td>Evangelisch-reformierte Kirche</td>\n",
       "      <td>KON1001</td>\n",
       "      <td>112513</td>\n",
       "    </tr>\n",
       "    <tr>\n",
       "      <th>2</th>\n",
       "      <td>2000-12-31</td>\n",
       "      <td>2000</td>\n",
       "      <td>Stadt Zürich (ab 1934)</td>\n",
       "      <td>R30000</td>\n",
       "      <td>Römisch-katholische Kirche</td>\n",
       "      <td>KON2001</td>\n",
       "      <td>123908</td>\n",
       "    </tr>\n",
       "  </tbody>\n",
       "</table>\n",
       "</div>"
      ],
      "text/plain": [
       "  StichtagDatJahr  Jahr_nbr               RAUM_lang RAUM_code                        KON_lang  \\\n",
       "0      2000-12-31      2000  Stadt Zürich (ab 1934)    R30000         Andere, ohne, unbekannt   \n",
       "1      2000-12-31      2000  Stadt Zürich (ab 1934)    R30000  Evangelisch-reformierte Kirche   \n",
       "2      2000-12-31      2000  Stadt Zürich (ab 1934)    R30000      Römisch-katholische Kirche   \n",
       "\n",
       "  KON_code  sum_WBev  \n",
       "0  KON9900    124559  \n",
       "1  KON1001    112513  \n",
       "2  KON2001    123908  "
      ]
     },
     "execution_count": 110,
     "metadata": {},
     "output_type": "execute_result"
    }
   ],
   "source": [
    "#myAgg = data2betested.loc[\"2008-11-30\":\"2021-10-31\"]\n",
    "myAggBar = data2betested.loc[\"2000\":data_max_date]\\\n",
    "    .groupby(['StichtagDatJahr','Jahr_nbr', 'RAUM_lang', 'RAUM_code','KON_lang', 'KON_code']) \\\n",
    "    .agg(sum_WBev=('BEW', 'sum')) \\\n",
    "    .sort_values('StichtagDatJahr', ascending=True) \n",
    "\n",
    "myAggBar.reset_index().head(3)"
   ]
  },
  {
   "cell_type": "code",
   "execution_count": null,
   "metadata": {},
   "outputs": [],
   "source": [
    "#help(sns.catplot)     "
   ]
  },
  {
   "cell_type": "code",
   "execution_count": null,
   "metadata": {},
   "outputs": [],
   "source": [
    "#Stile for the following sns graphs\n",
    "sns.set_theme(style=\"whitegrid\")"
   ]
  },
  {
   "cell_type": "code",
   "execution_count": null,
   "metadata": {},
   "outputs": [
    {
     "data": {
      "text/plain": [
       "<seaborn.axisgrid.FacetGrid at 0x23a073e0348>"
      ]
     },
     "execution_count": 113,
     "metadata": {},
     "output_type": "execute_result"
    },
    {
     "data": {
      "image/png": "[encoded data removed]",
      "text/plain": [
       "<Figure size 1264.12x500 with 1 Axes>"
      ]
     },
     "metadata": {},
     "output_type": "display_data"
    }
   ],
   "source": [
    "#sns.color_palette(\"flare\", as_cmap=True)\n",
    "myHist = sns.catplot(x=\"Jahr_nbr\"\n",
    "            , y=\"sum_WBev\"\n",
    "            , hue=\"KON_lang\"\n",
    "            , kind=\"bar\" #boxen, violin, --> wenn die aggregation nicht genau den werten in der grafik entspricht\n",
    "            , palette=\"pastel\" #, color=\"green\"\n",
    "            , height=5\n",
    "            , aspect=2\n",
    "            , order=None, legend_out=True\n",
    "            ,data=myAggBar.reset_index().sort_values(\"RAUM_code\", ascending=True)\n",
    "           )\n",
    "myHist.set_xlabels('Quartiere', fontsize=11) # not set_label\n",
    "myHist.set_ylabels('Anz. Pers.', fontsize=11)\n"
   ]
  },
  {
   "cell_type": "code",
   "execution_count": null,
   "metadata": {},
   "outputs": [
    {
     "data": {
      "text/plain": [
       "Index(['ZEIT_lang', 'ZEIT_code', 'RAUM_lang', 'RAUM_code', 'KON_lang', 'KON_code', 'BEW',\n",
       "       'StichtagDatJahr_str', 'Jahr_nbr', 'RAUM_my_sort'],\n",
       "      dtype='object')"
      ]
     },
     "execution_count": 114,
     "metadata": {},
     "output_type": "execute_result"
    }
   ],
   "source": [
    "data2betested.columns"
   ]
  },
  {
   "cell_type": "code",
   "execution_count": null,
   "metadata": {},
   "outputs": [
    {
     "data": {
      "text/html": [
       "<div>\n",
       "<style scoped>\n",
       "    .dataframe tbody tr th:only-of-type {\n",
       "        vertical-align: middle;\n",
       "    }\n",
       "\n",
       "    .dataframe tbody tr th {\n",
       "        vertical-align: top;\n",
       "    }\n",
       "\n",
       "    .dataframe thead th {\n",
       "        text-align: right;\n",
       "    }\n",
       "</style>\n",
       "<table border=\"1\" class=\"dataframe\">\n",
       "  <thead>\n",
       "    <tr style=\"text-align: right;\">\n",
       "      <th></th>\n",
       "      <th></th>\n",
       "      <th></th>\n",
       "      <th></th>\n",
       "      <th></th>\n",
       "      <th></th>\n",
       "      <th></th>\n",
       "      <th>sum_WBev</th>\n",
       "    </tr>\n",
       "    <tr>\n",
       "      <th>Jahr_nbr</th>\n",
       "      <th>StichtagDatJahr_str</th>\n",
       "      <th>RAUM_lang</th>\n",
       "      <th>RAUM_code</th>\n",
       "      <th>RAUM_my_sort</th>\n",
       "      <th>KON_lang</th>\n",
       "      <th>KON_code</th>\n",
       "      <th></th>\n",
       "    </tr>\n",
       "  </thead>\n",
       "  <tbody>\n",
       "    <tr>\n",
       "      <th>1900</th>\n",
       "      <th>1900-12-31</th>\n",
       "      <th>Stadt Zürich (ab 1934)</th>\n",
       "      <th>R30000</th>\n",
       "      <th>30000</th>\n",
       "      <th>Evangelisch-reformierte Kirche</th>\n",
       "      <th>KON1001</th>\n",
       "      <td>116555</td>\n",
       "    </tr>\n",
       "    <tr>\n",
       "      <th rowspan=\"2\" valign=\"top\">1990</th>\n",
       "      <th rowspan=\"2\" valign=\"top\">1990-12-31</th>\n",
       "      <th rowspan=\"2\" valign=\"top\">Stadt Zürich (ab 1934)</th>\n",
       "      <th rowspan=\"2\" valign=\"top\">R30000</th>\n",
       "      <th rowspan=\"2\" valign=\"top\">30000</th>\n",
       "      <th>Evangelisch-reformierte Kirche</th>\n",
       "      <th>KON1001</th>\n",
       "      <td>140044</td>\n",
       "    </tr>\n",
       "    <tr>\n",
       "      <th>Römisch-katholische Kirche</th>\n",
       "      <th>KON2001</th>\n",
       "      <td>140194</td>\n",
       "    </tr>\n",
       "    <tr>\n",
       "      <th rowspan=\"2\" valign=\"top\">1991</th>\n",
       "      <th rowspan=\"2\" valign=\"top\">1991-12-31</th>\n",
       "      <th rowspan=\"2\" valign=\"top\">Stadt Zürich (ab 1934)</th>\n",
       "      <th rowspan=\"2\" valign=\"top\">R30000</th>\n",
       "      <th rowspan=\"2\" valign=\"top\">30000</th>\n",
       "      <th>Andere, ohne, unbekannt</th>\n",
       "      <th>KON9900</th>\n",
       "      <td>87312</td>\n",
       "    </tr>\n",
       "    <tr>\n",
       "      <th>Evangelisch-reformierte Kirche</th>\n",
       "      <th>KON1001</th>\n",
       "      <td>135084</td>\n",
       "    </tr>\n",
       "    <tr>\n",
       "      <th>...</th>\n",
       "      <th>...</th>\n",
       "      <th>...</th>\n",
       "      <th>...</th>\n",
       "      <th>...</th>\n",
       "      <th>...</th>\n",
       "      <th>...</th>\n",
       "      <td>...</td>\n",
       "    </tr>\n",
       "    <tr>\n",
       "      <th rowspan=\"2\" valign=\"top\">1962</th>\n",
       "      <th rowspan=\"2\" valign=\"top\">1962-12-31</th>\n",
       "      <th rowspan=\"2\" valign=\"top\">Stadt Zürich (ab 1934)</th>\n",
       "      <th rowspan=\"2\" valign=\"top\">R30000</th>\n",
       "      <th rowspan=\"2\" valign=\"top\">30000</th>\n",
       "      <th>Evangelisch-reformierte Kirche</th>\n",
       "      <th>KON1001</th>\n",
       "      <td>260218</td>\n",
       "    </tr>\n",
       "    <tr>\n",
       "      <th>Andere, ohne, unbekannt</th>\n",
       "      <th>KON9900</th>\n",
       "      <td>19134</td>\n",
       "    </tr>\n",
       "    <tr>\n",
       "      <th>1961</th>\n",
       "      <th>1961-12-31</th>\n",
       "      <th>Stadt Zürich (ab 1934)</th>\n",
       "      <th>R30000</th>\n",
       "      <th>30000</th>\n",
       "      <th>Römisch-katholische Kirche</th>\n",
       "      <th>KON2001</th>\n",
       "      <td>157991</td>\n",
       "    </tr>\n",
       "    <tr>\n",
       "      <th>1963</th>\n",
       "      <th>1963-12-31</th>\n",
       "      <th>Stadt Zürich (ab 1934)</th>\n",
       "      <th>R30000</th>\n",
       "      <th>30000</th>\n",
       "      <th>Römisch-katholische Kirche</th>\n",
       "      <th>KON2001</th>\n",
       "      <td>161976</td>\n",
       "    </tr>\n",
       "    <tr>\n",
       "      <th>2023</th>\n",
       "      <th>2023-12-31</th>\n",
       "      <th>Stadt Zürich (ab 1934)</th>\n",
       "      <th>R30000</th>\n",
       "      <th>30000</th>\n",
       "      <th>Römisch-katholische Kirche</th>\n",
       "      <th>KON2001</th>\n",
       "      <td>97639</td>\n",
       "    </tr>\n",
       "  </tbody>\n",
       "</table>\n",
       "<p>274 rows × 1 columns</p>\n",
       "</div>"
      ],
      "text/plain": [
       "                                                                                                                    sum_WBev\n",
       "Jahr_nbr StichtagDatJahr_str RAUM_lang              RAUM_code RAUM_my_sort KON_lang                       KON_code          \n",
       "1900     1900-12-31          Stadt Zürich (ab 1934) R30000    30000        Evangelisch-reformierte Kirche KON1001     116555\n",
       "1990     1990-12-31          Stadt Zürich (ab 1934) R30000    30000        Evangelisch-reformierte Kirche KON1001     140044\n",
       "                                                                           Römisch-katholische Kirche     KON2001     140194\n",
       "1991     1991-12-31          Stadt Zürich (ab 1934) R30000    30000        Andere, ohne, unbekannt        KON9900      87312\n",
       "                                                                           Evangelisch-reformierte Kirche KON1001     135084\n",
       "...                                                                                                                      ...\n",
       "1962     1962-12-31          Stadt Zürich (ab 1934) R30000    30000        Evangelisch-reformierte Kirche KON1001     260218\n",
       "                                                                           Andere, ohne, unbekannt        KON9900      19134\n",
       "1961     1961-12-31          Stadt Zürich (ab 1934) R30000    30000        Römisch-katholische Kirche     KON2001     157991\n",
       "1963     1963-12-31          Stadt Zürich (ab 1934) R30000    30000        Römisch-katholische Kirche     KON2001     161976\n",
       "2023     2023-12-31          Stadt Zürich (ab 1934) R30000    30000        Römisch-katholische Kirche     KON2001      97639\n",
       "\n",
       "[274 rows x 1 columns]"
      ]
     },
     "execution_count": 115,
     "metadata": {},
     "output_type": "execute_result"
    }
   ],
   "source": [
    "myAggBar = data2betested.loc[data_min_date:data_max_date]\\\n",
    "    .groupby(['Jahr_nbr','StichtagDatJahr_str', 'RAUM_lang', 'RAUM_code', 'RAUM_my_sort', 'KON_lang', 'KON_code']) \\\n",
    "    .agg(sum_WBev=('BEW', 'sum')) \\\n",
    "    .sort_values('RAUM_my_sort', ascending=True) \n",
    "\n",
    "myAggBar"
   ]
  },
  {
   "cell_type": "code",
   "execution_count": null,
   "metadata": {},
   "outputs": [
    {
     "data": {
      "text/plain": [
       "<seaborn.axisgrid.FacetGrid at 0x23a0715a388>"
      ]
     },
     "execution_count": 116,
     "metadata": {},
     "output_type": "execute_result"
    },
    {
     "data": {
      "image/png": "[encoded data removed]",
      "text/plain": [
       "<Figure size 1464.12x300 with 3 Axes>"
      ]
     },
     "metadata": {},
     "output_type": "display_data"
    }
   ],
   "source": [
    "g2 = sns.FacetGrid(myAggBar.reset_index(), col=\"KON_lang\", hue=\"KON_lang\", col_wrap=4, height=3,)\n",
    "g2.map(sns.lineplot, \"Jahr_nbr\",\"sum_WBev\",alpha=.8)\n",
    "\n",
    "g2.set_axis_labels(\"\",\"Anz. Personen\")\n",
    "g2.set_titles(col_template=\"{col_name}\", row_template=\"{row_name}\")\n",
    "\n",
    "g2.add_legend()\n"
   ]
  },
  {
   "cell_type": "markdown",
   "metadata": {},
   "source": [
    "## ---------------------- hier Plausi beendet\n",
    "\n",
    "Übersicht zu LOSD-Jobs:\n",
    "[Sharepoint](https://kollaboration.intranet.stzh.ch/orga/ssz-produkte/Lists/SASA_Outputs/OGD%20Metadaten.aspx#InplviewHasheb69a2c0-ed94-4ef2-91a5-3b19f038e442=FilterField1%3DMetadaten%255Fx002d%255FPublikations%255Fx00-FilterValue1%3DINT)"
   ]
  }
 ],
 "metadata": {
  "kernelspec": {
   "display_name": "Python 3 (ipykernel)",
   "language": "python",
   "name": "python3"
  },
  "language_info": {
   "codemirror_mode": {
    "name": "ipython",
    "version": 3
   },
   "file_extension": ".py",
   "mimetype": "text/x-python",
   "name": "python",
   "nbconvert_exporter": "python",
   "pygments_lexer": "ipython3",
   "version": "3.7.16"
  }
 },
 "nbformat": 4,
 "nbformat_minor": 4
}
