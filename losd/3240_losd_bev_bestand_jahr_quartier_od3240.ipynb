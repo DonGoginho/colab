{
 "cells": [
  {
   "attachments": {},
   "cell_type": "markdown",
   "metadata": {},
   "source": [
    "# Testing LOSD\n",
    "### Bevölkerung nach Stadtquartier, seit 1941\n",
    "\n",
    "Wirtschaftliche Wohnbevölkerung der Stadt Zürich nach Statistischem Stadtquartier und Jahr, seit 1941.\n",
    "https://data.integ.stadt-zuerich.ch/dataset/bev324od3240 \n",
    "\n",
    "Datum: 12.02.2024\n",
    "\n",
    "### Colab\n",
    "Mit Colab kann das Jupyter-Notebook interaktiv im Browser gestartet werden. \n",
    "\n",
    "Klicke auf den Button:\n",
    "[![Open In Colab](https://colab.research.google.com/assets/colab-badge.svg)](https://github.com/DonGoginho/colab/blob/main/losd/3240_losd_bev_bestand_jahr_quartier_od3240.ipynb)\n"
   ]
  },
  {
   "cell_type": "markdown",
   "metadata": {},
   "source": [
    "### Importiere die notwendigen Packages"
   ]
  },
  {
   "cell_type": "code",
   "execution_count": 1,
   "metadata": {},
   "outputs": [],
   "source": [
    "#%pip install altair datetime folium geopandas io requests matplotlib numpy pandas seaborn plotly"
   ]
  },
  {
   "cell_type": "code",
   "execution_count": 2,
   "metadata": {},
   "outputs": [],
   "source": [
    "import altair as alt\n",
    "import datetime\n",
    "import folium \n",
    "import geopandas as gpd\n",
    "import io\n",
    "import matplotlib.pyplot as plt\n",
    "import numpy as np\n",
    "import pandas as pd\n",
    "#import pivottablejs\n",
    "#from pivottablejs import pivot_ui\n",
    "import plotly.express as px\n",
    "import requests\n",
    "import seaborn as sns"
   ]
  },
  {
   "cell_type": "code",
   "execution_count": 3,
   "metadata": {},
   "outputs": [],
   "source": [
    "SSL_VERIFY = False\n",
    "# evtl. SSL_VERIFY auf False setzen wenn die Verbindung zu https://www.gemeinderat-zuerich.ch nicht klappt (z.B. wegen Proxy)\n",
    "# Um die SSL Verifikation auszustellen, bitte die nächste Zeile einkommentieren (\"#\" entfernen)\n",
    "# SSL_VERIFY = False"
   ]
  },
  {
   "cell_type": "code",
   "execution_count": 4,
   "metadata": {},
   "outputs": [],
   "source": [
    "if not SSL_VERIFY:\n",
    "    import urllib3\n",
    "    urllib3.disable_warnings()"
   ]
  },
  {
   "cell_type": "markdown",
   "metadata": {},
   "source": [
    "Definiere Settings. Hier das Zahlenformat von Float-Werten (z.B. *'{:,.2f}'.format* mit Komma als Tausenderzeichen), "
   ]
  },
  {
   "cell_type": "code",
   "execution_count": 5,
   "metadata": {},
   "outputs": [],
   "source": [
    "#pd.options.display.float_format = lambda x : '{:,.1f}'.format(x) if (np.isnan(x) | np.isinf(x)) else '{:,.0f}'.format(x) if int(x) == x else '{:,.1f}'.format(x)\n",
    "pd.options.display.float_format = '{:.0f}'.format\n",
    "pd.set_option('display.width', 100)\n",
    "pd.set_option('display.max_columns', 15)"
   ]
  },
  {
   "cell_type": "markdown",
   "metadata": {},
   "source": [
    "### Setze einige Pfadvariabeln"
   ]
  },
  {
   "cell_type": "markdown",
   "metadata": {},
   "source": [
    "**BITTE HIER ANPASSEN**"
   ]
  },
  {
   "cell_type": "code",
   "execution_count": 6,
   "metadata": {},
   "outputs": [
    {
     "name": "stdout",
     "output_type": "stream",
     "text": [
      "BEV324OD3240\n"
     ]
    }
   ],
   "source": [
    "package_name = \"bev324od3240\"\n",
    "package_name = package_name.upper()\n",
    "print(package_name)"
   ]
  },
  {
   "cell_type": "code",
   "execution_count": 7,
   "metadata": {
    "tags": []
   },
   "outputs": [],
   "source": [
    "dataset_name = \"bev324od3240.csv\""
   ]
  },
  {
   "cell_type": "markdown",
   "metadata": {},
   "source": [
    "**Statische Pfade CKAN-URLs**"
   ]
  },
  {
   "cell_type": "code",
   "execution_count": 8,
   "metadata": {
    "tags": []
   },
   "outputs": [],
   "source": [
    "ckan_integ_url =\"https://data.integ.stadt-zuerich.ch/dataset/\"\n",
    "ld_integ_url =\"https://ld.integ.stadt-zuerich.ch/statistics/view/\""
   ]
  },
  {
   "cell_type": "code",
   "execution_count": 9,
   "metadata": {},
   "outputs": [],
   "source": [
    "ckan_prod_url =\"https://data.stadt-zuerich.ch/dataset/\"\n",
    "ld_prod_url =\"https://ld.stadt-zuerich.ch/statistics/view/\""
   ]
  },
  {
   "cell_type": "markdown",
   "metadata": {
    "tags": []
   },
   "source": [
    "### Checke die Metadaten auf der CKAN INTEG- oder PROD-Webseite\n",
    "\n",
    "Offenbar lassen sich aktuell im Markdownteil keine Variabeln ausführen, daher gehen wir wie unten gezeigt vor. Siehe dazu: https://data-dive.com/jupyterlab-markdown-cells-include-variables\n",
    "Instead of setting the cell to Markdown, create Markdown from withnin a code cell! We can just use python variable replacement syntax to make the text dynamic"
   ]
  },
  {
   "cell_type": "code",
   "execution_count": 10,
   "metadata": {},
   "outputs": [],
   "source": [
    "from IPython.display import Markdown as md"
   ]
  },
  {
   "cell_type": "code",
   "execution_count": 11,
   "metadata": {},
   "outputs": [
    {
     "data": {
      "text/markdown": [
       " **1. Dataset auf INTEG-Datakatalog:** Link https://data.integ.stadt-zuerich.ch/dataset/bev324od3240 "
      ],
      "text/plain": [
       "<IPython.core.display.Markdown object>"
      ]
     },
     "execution_count": 11,
     "metadata": {},
     "output_type": "execute_result"
    }
   ],
   "source": [
    "md(\" **1. Dataset auf INTEG-Datakatalog:** Link {} \".format(ckan_integ_url+package_name.lower()))"
   ]
  },
  {
   "cell_type": "code",
   "execution_count": 12,
   "metadata": {},
   "outputs": [
    {
     "data": {
      "text/markdown": [
       " **2. Dataset auf INTEG-LD:** Link https://ld.integ.stadt-zuerich.ch/statistics/view/BEV324OD3240 "
      ],
      "text/plain": [
       "<IPython.core.display.Markdown object>"
      ]
     },
     "execution_count": 12,
     "metadata": {},
     "output_type": "execute_result"
    }
   ],
   "source": [
    "md(\" **2. Dataset auf INTEG-LD:** Link {} \".format(ld_integ_url+package_name.upper()))"
   ]
  },
  {
   "cell_type": "code",
   "execution_count": 13,
   "metadata": {},
   "outputs": [
    {
     "data": {
      "text/markdown": [
       " **3. Dataset auf PROD-Datakatalog:** Link https://data.stadt-zuerich.ch/dataset/bev324od3240 "
      ],
      "text/plain": [
       "<IPython.core.display.Markdown object>"
      ]
     },
     "execution_count": 13,
     "metadata": {},
     "output_type": "execute_result"
    }
   ],
   "source": [
    "md(\" **3. Dataset auf PROD-Datakatalog:** Link {} \".format(ckan_prod_url+package_name.lower()))"
   ]
  },
  {
   "cell_type": "code",
   "execution_count": 14,
   "metadata": {},
   "outputs": [
    {
     "data": {
      "text/markdown": [
       " **4. Dataset auf PROD-LD:** Link https://ld.stadt-zuerich.ch/statistics/view/BEV324OD3240 "
      ],
      "text/plain": [
       "<IPython.core.display.Markdown object>"
      ]
     },
     "execution_count": 14,
     "metadata": {},
     "output_type": "execute_result"
    }
   ],
   "source": [
    "md(\" **4. Dataset auf PROD-LD:** Link {} \".format(ld_prod_url+package_name.upper()))"
   ]
  },
  {
   "cell_type": "markdown",
   "metadata": {
    "tags": []
   },
   "source": [
    "### Setze ein paar Zeitvariabeln\n",
    "Zum Unterschied zwischen import datetime und from datedtime import datetime, siehe [Link](https://stackoverflow.com/questions/15707532/import-datetime-v-s-from-datetime-import-datetime)\n",
    "Zuerst die Zeitvariabeln als Strings"
   ]
  },
  {
   "cell_type": "code",
   "execution_count": 15,
   "metadata": {},
   "outputs": [],
   "source": [
    "now = datetime.date.today()\n",
    "year_today = now.strftime(\"%Y\")"
   ]
  },
  {
   "cell_type": "markdown",
   "metadata": {},
   "source": [
    "Und hier noch die Zeitvariabeln als Integers:\n",
    "- `aktuellesJahr`\n",
    "- `aktuellerMonat`: Der gerade jetzt aktuelle Monat\n",
    "- `selectedMonat`: Der aktuellste Monat in den Daten. In der Regel zwei Monate her."
   ]
  },
  {
   "cell_type": "code",
   "execution_count": 16,
   "metadata": {},
   "outputs": [],
   "source": [
    "int_times = now.timetuple()\n",
    "aktuellesJahr = int_times[0]\n",
    "aktuellerMonat = int_times[1]\n",
    "selectedMonat = int_times[1]-2\n",
    "#print(aktuellesJahr, aktuellerMonat,'datenstand: ', selectedMonat, int_times)"
   ]
  },
  {
   "cell_type": "markdown",
   "metadata": {
    "tags": []
   },
   "source": [
    "### Importiere den Datensatz \n",
    "\n",
    "Definiere zuerst folgende Werte:\n",
    "1) Kommt der Datensatz von PROD oder INTEG?\n",
    "2) Beziehst Du den Datensatz direkt ab der DROPZONE oder aus dem INTERNET?"
   ]
  },
  {
   "cell_type": "code",
   "execution_count": 17,
   "metadata": {},
   "outputs": [
    {
     "name": "stdout",
     "output_type": "stream",
     "text": [
      "int - web\n"
     ]
    }
   ],
   "source": [
    "#Die Datasets sind nur zum Testen auf INT-DWH-Dropzone. Wenn der Test vorbei ist, sind sie auf PROD. \n",
    "# Über den Status kann man einfach switchen\n",
    "\n",
    "status = \"int\"; #prod vs something else\n",
    "data_source = \"web\"; #dropzone vs something else\n",
    "print(status+\" - \"+ data_source)"
   ]
  },
  {
   "cell_type": "code",
   "execution_count": 18,
   "metadata": {
    "tags": []
   },
   "outputs": [
    {
     "name": "stdout",
     "output_type": "stream",
     "text": [
      "fp lautet:https://ld.integ.stadt-zuerich.ch/statistics/view/BEV324OD3240/observation?format=csv\n"
     ]
    }
   ],
   "source": [
    "# Filepath\n",
    "if status == \"prod\":\n",
    "    if data_source == \"dropzone\":\n",
    "            #fp = dropzone_path_prod+\"\\\\\"+ package_name +\"\\\\\"+dataset_name\n",
    "            print(\"fp lautet:\"+fp)\n",
    "    else:\n",
    "        #fp = ckan_prod_url+package_name+'/download/'+dataset_name\n",
    "        fp = ld_prod_url+package_name+'/observation?format=csv'\n",
    "        print(\"fp lautet:\"+fp)\n",
    "else:\n",
    "    if data_source == \"dropzone\":\n",
    "        #fp = dropzone_path_integ+\"\\\\\"+ package_name +\"\\\\\"+dataset_name\n",
    "        print(\"fp lautet:\"+fp)\n",
    "    else:\n",
    "        #fp = ckan_integ_url+package_name+'/download/'+dataset_name\n",
    "        fp = ld_integ_url+package_name+'/observation?format=csv'\n",
    "        print(\"fp lautet:\"+fp)\n"
   ]
  },
  {
   "cell_type": "code",
   "execution_count": 19,
   "metadata": {},
   "outputs": [
    {
     "name": "stdout",
     "output_type": "stream",
     "text": [
      "web\n"
     ]
    },
    {
     "data": {
      "text/plain": [
       "ZEIT_lang    datetime64[ns]\n",
       "ZEIT_code            object\n",
       "RAUM_lang            object\n",
       "RAUM_code            object\n",
       "BEW                 float64\n",
       "dtype: object"
      ]
     },
     "execution_count": 19,
     "metadata": {},
     "output_type": "execute_result"
    }
   ],
   "source": [
    "# Read the data\n",
    "if data_source == \"dropzone\":\n",
    "    data2betested = pd.read_csv(\n",
    "        fp\n",
    "        , sep=','\n",
    "        ,parse_dates=['StichtagDatJahr']\n",
    "        ,low_memory=False\n",
    "    )\n",
    "    print(\"dropzone\")\n",
    "else:\n",
    "    r = requests.get(fp, verify=False)  \n",
    "    r.encoding = 'utf-8'\n",
    "    data2betested = pd.read_csv(\n",
    "        io.StringIO(r.text)\n",
    "        ,parse_dates=['ZEIT_lang']\n",
    "        ,low_memory=False)\n",
    "    print(\"web\")\n",
    "\n",
    "data2betested.dtypes\n",
    "#data2betested"
   ]
  },
  {
   "cell_type": "markdown",
   "metadata": {},
   "source": [
    "Berechne weitere Attribute falls notwendig"
   ]
  },
  {
   "cell_type": "code",
   "execution_count": 20,
   "metadata": {},
   "outputs": [
    {
     "data": {
      "text/html": [
       "<div>\n",
       "<style scoped>\n",
       "    .dataframe tbody tr th:only-of-type {\n",
       "        vertical-align: middle;\n",
       "    }\n",
       "\n",
       "    .dataframe tbody tr th {\n",
       "        vertical-align: top;\n",
       "    }\n",
       "\n",
       "    .dataframe thead th {\n",
       "        text-align: right;\n",
       "    }\n",
       "</style>\n",
       "<table border=\"1\" class=\"dataframe\">\n",
       "  <thead>\n",
       "    <tr style=\"text-align: right;\">\n",
       "      <th></th>\n",
       "      <th>ZEIT_lang</th>\n",
       "      <th>ZEIT_code</th>\n",
       "      <th>RAUM_lang</th>\n",
       "      <th>RAUM_code</th>\n",
       "      <th>BEW</th>\n",
       "      <th>StichtagDatJahr</th>\n",
       "      <th>StichtagDatJahr_str</th>\n",
       "      <th>Jahr</th>\n",
       "      <th>RAUM_my_sort</th>\n",
       "    </tr>\n",
       "  </thead>\n",
       "  <tbody>\n",
       "    <tr>\n",
       "      <th>11</th>\n",
       "      <td>2023-12-31</td>\n",
       "      <td>Z31122023</td>\n",
       "      <td>Schwamendingen-Mitte</td>\n",
       "      <td>R00122</td>\n",
       "      <td>11421</td>\n",
       "      <td>2023-12-31</td>\n",
       "      <td>2023-12-31</td>\n",
       "      <td>2023</td>\n",
       "      <td>122</td>\n",
       "    </tr>\n",
       "    <tr>\n",
       "      <th>5</th>\n",
       "      <td>2023-12-31</td>\n",
       "      <td>Z31122023</td>\n",
       "      <td>Oberstrass</td>\n",
       "      <td>R00063</td>\n",
       "      <td>10887</td>\n",
       "      <td>2023-12-31</td>\n",
       "      <td>2023-12-31</td>\n",
       "      <td>2023</td>\n",
       "      <td>63</td>\n",
       "    </tr>\n",
       "    <tr>\n",
       "      <th>61</th>\n",
       "      <td>2021-12-31</td>\n",
       "      <td>Z31122021</td>\n",
       "      <td>Escher Wyss</td>\n",
       "      <td>R00052</td>\n",
       "      <td>6221</td>\n",
       "      <td>2021-12-31</td>\n",
       "      <td>2021-12-31</td>\n",
       "      <td>2021</td>\n",
       "      <td>52</td>\n",
       "    </tr>\n",
       "    <tr>\n",
       "      <th>49</th>\n",
       "      <td>2021-12-31</td>\n",
       "      <td>Z31122021</td>\n",
       "      <td>Albisrieden</td>\n",
       "      <td>R00091</td>\n",
       "      <td>22412</td>\n",
       "      <td>2021-12-31</td>\n",
       "      <td>2021-12-31</td>\n",
       "      <td>2021</td>\n",
       "      <td>91</td>\n",
       "    </tr>\n",
       "    <tr>\n",
       "      <th>6</th>\n",
       "      <td>2021-12-31</td>\n",
       "      <td>Z31122021</td>\n",
       "      <td>Werd</td>\n",
       "      <td>R00041</td>\n",
       "      <td>4574</td>\n",
       "      <td>2021-12-31</td>\n",
       "      <td>2021-12-31</td>\n",
       "      <td>2021</td>\n",
       "      <td>41</td>\n",
       "    </tr>\n",
       "    <tr>\n",
       "      <th>...</th>\n",
       "      <td>...</td>\n",
       "      <td>...</td>\n",
       "      <td>...</td>\n",
       "      <td>...</td>\n",
       "      <td>...</td>\n",
       "      <td>...</td>\n",
       "      <td>...</td>\n",
       "      <td>...</td>\n",
       "      <td>...</td>\n",
       "    </tr>\n",
       "    <tr>\n",
       "      <th>13</th>\n",
       "      <td>1920-12-31</td>\n",
       "      <td>Z31121920</td>\n",
       "      <td>Mühlebach</td>\n",
       "      <td>R00082</td>\n",
       "      <td>7639</td>\n",
       "      <td>1920-12-31</td>\n",
       "      <td>1920-12-31</td>\n",
       "      <td>1920</td>\n",
       "      <td>82</td>\n",
       "    </tr>\n",
       "    <tr>\n",
       "      <th>44</th>\n",
       "      <td>1920-12-31</td>\n",
       "      <td>Z31121920</td>\n",
       "      <td>Wipkingen</td>\n",
       "      <td>R00102</td>\n",
       "      <td>11661</td>\n",
       "      <td>1920-12-31</td>\n",
       "      <td>1920-12-31</td>\n",
       "      <td>1920</td>\n",
       "      <td>102</td>\n",
       "    </tr>\n",
       "    <tr>\n",
       "      <th>20</th>\n",
       "      <td>1920-12-31</td>\n",
       "      <td>Z31121920</td>\n",
       "      <td>Enge</td>\n",
       "      <td>R00024</td>\n",
       "      <td>10714</td>\n",
       "      <td>1920-12-31</td>\n",
       "      <td>1920-12-31</td>\n",
       "      <td>1920</td>\n",
       "      <td>24</td>\n",
       "    </tr>\n",
       "    <tr>\n",
       "      <th>33</th>\n",
       "      <td>1910-12-31</td>\n",
       "      <td>Z31121910</td>\n",
       "      <td>Hard</td>\n",
       "      <td>R00044</td>\n",
       "      <td>4981</td>\n",
       "      <td>1910-12-31</td>\n",
       "      <td>1910-12-31</td>\n",
       "      <td>1910</td>\n",
       "      <td>44</td>\n",
       "    </tr>\n",
       "    <tr>\n",
       "      <th>22</th>\n",
       "      <td>1900-12-31</td>\n",
       "      <td>Z31121900</td>\n",
       "      <td>Werd</td>\n",
       "      <td>R00041</td>\n",
       "      <td>5517</td>\n",
       "      <td>1900-12-31</td>\n",
       "      <td>1900-12-31</td>\n",
       "      <td>1900</td>\n",
       "      <td>41</td>\n",
       "    </tr>\n",
       "  </tbody>\n",
       "</table>\n",
       "<p>66 rows × 9 columns</p>\n",
       "</div>"
      ],
      "text/plain": [
       "    ZEIT_lang  ZEIT_code             RAUM_lang RAUM_code   BEW StichtagDatJahr  \\\n",
       "11 2023-12-31  Z31122023  Schwamendingen-Mitte    R00122 11421      2023-12-31   \n",
       "5  2023-12-31  Z31122023            Oberstrass    R00063 10887      2023-12-31   \n",
       "61 2021-12-31  Z31122021           Escher Wyss    R00052  6221      2021-12-31   \n",
       "49 2021-12-31  Z31122021           Albisrieden    R00091 22412      2021-12-31   \n",
       "6  2021-12-31  Z31122021                  Werd    R00041  4574      2021-12-31   \n",
       "..        ...        ...                   ...       ...   ...             ...   \n",
       "13 1920-12-31  Z31121920             Mühlebach    R00082  7639      1920-12-31   \n",
       "44 1920-12-31  Z31121920             Wipkingen    R00102 11661      1920-12-31   \n",
       "20 1920-12-31  Z31121920                  Enge    R00024 10714      1920-12-31   \n",
       "33 1910-12-31  Z31121910                  Hard    R00044  4981      1910-12-31   \n",
       "22 1900-12-31  Z31121900                  Werd    R00041  5517      1900-12-31   \n",
       "\n",
       "   StichtagDatJahr_str  Jahr  RAUM_my_sort  \n",
       "11          2023-12-31  2023           122  \n",
       "5           2023-12-31  2023            63  \n",
       "61          2021-12-31  2021            52  \n",
       "49          2021-12-31  2021            91  \n",
       "6           2021-12-31  2021            41  \n",
       "..                 ...   ...           ...  \n",
       "13          1920-12-31  1920            82  \n",
       "44          1920-12-31  1920           102  \n",
       "20          1920-12-31  1920            24  \n",
       "33          1910-12-31  1910            44  \n",
       "22          1900-12-31  1900            41  \n",
       "\n",
       "[66 rows x 9 columns]"
      ]
     },
     "execution_count": 20,
     "metadata": {},
     "output_type": "execute_result"
    }
   ],
   "source": [
    "data2betested = (\n",
    "    data2betested\n",
    "    .copy()\n",
    "    .assign(\n",
    "        #Aktualisierungs_Datum_str= lambda x: x.Aktualisierungs_Datum.astype(str),\n",
    "        StichtagDatJahr = lambda x: x.ZEIT_lang,\n",
    "        StichtagDatJahr_str = lambda x: x.ZEIT_lang.astype(str),\n",
    "        Jahr = lambda x: x.ZEIT_lang.dt.year,\n",
    "        #Jahr_nbr = lambda x: x.ZEIT_code.str[-4:].astype(int),    \n",
    "        RAUM_my_sort = lambda x: x.RAUM_code.str[-3:].astype(int),\n",
    "\n",
    "    )\n",
    "    .sort_values('ZEIT_lang', ascending=False)\n",
    "    )\n",
    "data2betested"
   ]
  },
  {
   "cell_type": "markdown",
   "metadata": {},
   "source": [
    "Zeitbereich aus den Daten:"
   ]
  },
  {
   "cell_type": "code",
   "execution_count": 21,
   "metadata": {},
   "outputs": [
    {
     "name": "stdout",
     "output_type": "stream",
     "text": [
      "Die Daten haben ein Minimumjahr von 1900 und ein Maximumjahr von 2023\n"
     ]
    }
   ],
   "source": [
    "data_max_date = str(max(data2betested.ZEIT_lang).year)\n",
    "data_min_date = str(min(data2betested.ZEIT_lang).year)\n",
    "\n",
    "print(f\"Die Daten haben ein Minimumjahr von {data_min_date} und ein Maximumjahr von {data_max_date}\")\n"
   ]
  },
  {
   "cell_type": "markdown",
   "metadata": {},
   "source": [
    "### Einfache Datentests"
   ]
  },
  {
   "cell_type": "code",
   "execution_count": 22,
   "metadata": {},
   "outputs": [
    {
     "data": {
      "text/html": [
       "<div>\n",
       "<style scoped>\n",
       "    .dataframe tbody tr th:only-of-type {\n",
       "        vertical-align: middle;\n",
       "    }\n",
       "\n",
       "    .dataframe tbody tr th {\n",
       "        vertical-align: top;\n",
       "    }\n",
       "\n",
       "    .dataframe thead th {\n",
       "        text-align: right;\n",
       "    }\n",
       "</style>\n",
       "<table border=\"1\" class=\"dataframe\">\n",
       "  <thead>\n",
       "    <tr style=\"text-align: right;\">\n",
       "      <th></th>\n",
       "      <th>11</th>\n",
       "      <th>5</th>\n",
       "    </tr>\n",
       "  </thead>\n",
       "  <tbody>\n",
       "    <tr>\n",
       "      <th>ZEIT_lang</th>\n",
       "      <td>2023-12-31 00:00:00</td>\n",
       "      <td>2023-12-31 00:00:00</td>\n",
       "    </tr>\n",
       "    <tr>\n",
       "      <th>ZEIT_code</th>\n",
       "      <td>Z31122023</td>\n",
       "      <td>Z31122023</td>\n",
       "    </tr>\n",
       "    <tr>\n",
       "      <th>RAUM_lang</th>\n",
       "      <td>Schwamendingen-Mitte</td>\n",
       "      <td>Oberstrass</td>\n",
       "    </tr>\n",
       "    <tr>\n",
       "      <th>RAUM_code</th>\n",
       "      <td>R00122</td>\n",
       "      <td>R00063</td>\n",
       "    </tr>\n",
       "    <tr>\n",
       "      <th>BEW</th>\n",
       "      <td>11421</td>\n",
       "      <td>10887</td>\n",
       "    </tr>\n",
       "    <tr>\n",
       "      <th>StichtagDatJahr</th>\n",
       "      <td>2023-12-31 00:00:00</td>\n",
       "      <td>2023-12-31 00:00:00</td>\n",
       "    </tr>\n",
       "    <tr>\n",
       "      <th>StichtagDatJahr_str</th>\n",
       "      <td>2023-12-31</td>\n",
       "      <td>2023-12-31</td>\n",
       "    </tr>\n",
       "    <tr>\n",
       "      <th>Jahr</th>\n",
       "      <td>2023</td>\n",
       "      <td>2023</td>\n",
       "    </tr>\n",
       "    <tr>\n",
       "      <th>RAUM_my_sort</th>\n",
       "      <td>122</td>\n",
       "      <td>63</td>\n",
       "    </tr>\n",
       "  </tbody>\n",
       "</table>\n",
       "</div>"
      ],
      "text/plain": [
       "                                       11                   5 \n",
       "ZEIT_lang             2023-12-31 00:00:00  2023-12-31 00:00:00\n",
       "ZEIT_code                       Z31122023            Z31122023\n",
       "RAUM_lang            Schwamendingen-Mitte           Oberstrass\n",
       "RAUM_code                          R00122               R00063\n",
       "BEW                                 11421                10887\n",
       "StichtagDatJahr       2023-12-31 00:00:00  2023-12-31 00:00:00\n",
       "StichtagDatJahr_str            2023-12-31           2023-12-31\n",
       "Jahr                                 2023                 2023\n",
       "RAUM_my_sort                          122                   63"
      ]
     },
     "execution_count": 22,
     "metadata": {},
     "output_type": "execute_result"
    }
   ],
   "source": [
    "data2betested.head(2).T"
   ]
  },
  {
   "cell_type": "code",
   "execution_count": 23,
   "metadata": {},
   "outputs": [
    {
     "name": "stdout",
     "output_type": "stream",
     "text": [
      "<class 'pandas.core.frame.DataFrame'>\n",
      "Int64Index: 66 entries, 11 to 22\n",
      "Data columns (total 9 columns):\n",
      " #   Column               Non-Null Count  Dtype         \n",
      "---  ------               --------------  -----         \n",
      " 0   ZEIT_lang            66 non-null     datetime64[ns]\n",
      " 1   ZEIT_code            66 non-null     object        \n",
      " 2   RAUM_lang            66 non-null     object        \n",
      " 3   RAUM_code            66 non-null     object        \n",
      " 4   BEW                  66 non-null     float64       \n",
      " 5   StichtagDatJahr      66 non-null     datetime64[ns]\n",
      " 6   StichtagDatJahr_str  66 non-null     object        \n",
      " 7   Jahr                 66 non-null     int64         \n",
      " 8   RAUM_my_sort         66 non-null     int32         \n",
      "dtypes: datetime64[ns](2), float64(1), int32(1), int64(1), object(4)\n",
      "memory usage: 19.8 KB\n"
     ]
    }
   ],
   "source": [
    "data2betested.info(memory_usage='deep', verbose=True)"
   ]
  },
  {
   "cell_type": "code",
   "execution_count": 24,
   "metadata": {},
   "outputs": [
    {
     "name": "stdout",
     "output_type": "stream",
     "text": [
      "The dataset has 66 rows (observations) and 9 columns (variables).\n",
      "There seem to be 0 exact duplicates in the data.\n"
     ]
    }
   ],
   "source": [
    "print(f'The dataset has {data2betested.shape[0]:,.0f} rows (observations) and {data2betested.shape[1]:,.0f} columns (variables).')\n",
    "print(f'There seem to be {data2betested.duplicated().sum()} exact duplicates in the data.')"
   ]
  },
  {
   "cell_type": "markdown",
   "metadata": {},
   "source": [
    "Welches sind die Quartiere ohne Werte bei BEW?"
   ]
  },
  {
   "cell_type": "code",
   "execution_count": 25,
   "metadata": {},
   "outputs": [
    {
     "data": {
      "text/html": [
       "<div>\n",
       "<style scoped>\n",
       "    .dataframe tbody tr th:only-of-type {\n",
       "        vertical-align: middle;\n",
       "    }\n",
       "\n",
       "    .dataframe tbody tr th {\n",
       "        vertical-align: top;\n",
       "    }\n",
       "\n",
       "    .dataframe thead th {\n",
       "        text-align: right;\n",
       "    }\n",
       "</style>\n",
       "<table border=\"1\" class=\"dataframe\">\n",
       "  <thead>\n",
       "    <tr style=\"text-align: right;\">\n",
       "      <th></th>\n",
       "      <th>ZEIT_lang</th>\n",
       "      <th>ZEIT_code</th>\n",
       "      <th>RAUM_lang</th>\n",
       "      <th>RAUM_code</th>\n",
       "      <th>BEW</th>\n",
       "      <th>StichtagDatJahr</th>\n",
       "      <th>StichtagDatJahr_str</th>\n",
       "      <th>Jahr</th>\n",
       "      <th>RAUM_my_sort</th>\n",
       "    </tr>\n",
       "  </thead>\n",
       "  <tbody>\n",
       "  </tbody>\n",
       "</table>\n",
       "</div>"
      ],
      "text/plain": [
       "Empty DataFrame\n",
       "Columns: [ZEIT_lang, ZEIT_code, RAUM_lang, RAUM_code, BEW, StichtagDatJahr, StichtagDatJahr_str, Jahr, RAUM_my_sort]\n",
       "Index: []"
      ]
     },
     "execution_count": 25,
     "metadata": {},
     "output_type": "execute_result"
    }
   ],
   "source": [
    "data2betested[np.isnan(data2betested.BEW)]"
   ]
  },
  {
   "cell_type": "markdown",
   "metadata": {
    "colab_type": "text",
    "id": "1dTPVmmsgOVx"
   },
   "source": [
    "### Verwende das Datum als Index\n",
    "\n",
    "While we did already parse the `datetime` column into the respective datetime type, it currently is just a regular column. \n",
    "**To enable quick and convenient queries and aggregations, we need to turn it into the index of the DataFrame**"
   ]
  },
  {
   "cell_type": "code",
   "execution_count": 26,
   "metadata": {},
   "outputs": [],
   "source": [
    "data2betested = data2betested.set_index(\"StichtagDatJahr\") \n",
    "data2betested = data2betested.sort_index()"
   ]
  },
  {
   "cell_type": "code",
   "execution_count": 27,
   "metadata": {},
   "outputs": [
    {
     "data": {
      "text/plain": [
       "Int64Index([1900, 1910, 1920, 1930, 1943, 1944, 1949, 1950, 1951, 1953, 1954, 1955, 1956, 1957,\n",
       "            1960, 1961, 1962, 1963, 1964, 1965, 1967, 1968, 1970, 1971, 1972, 1973, 1974, 1975,\n",
       "            1976, 1977, 1978, 1979, 2018, 2019, 2020, 2021, 2023],\n",
       "           dtype='int64', name='StichtagDatJahr')"
      ]
     },
     "execution_count": 27,
     "metadata": {},
     "output_type": "execute_result"
    }
   ],
   "source": [
    "data2betested.index.year.unique()"
   ]
  },
  {
   "cell_type": "markdown",
   "metadata": {},
   "source": [
    "### Beschreibe einzelne Attribute"
   ]
  },
  {
   "cell_type": "markdown",
   "metadata": {},
   "source": [
    "Beschreibe nicht numerische Attribute"
   ]
  },
  {
   "cell_type": "code",
   "execution_count": 28,
   "metadata": {},
   "outputs": [
    {
     "data": {
      "text/html": [
       "<div>\n",
       "<style scoped>\n",
       "    .dataframe tbody tr th:only-of-type {\n",
       "        vertical-align: middle;\n",
       "    }\n",
       "\n",
       "    .dataframe tbody tr th {\n",
       "        vertical-align: top;\n",
       "    }\n",
       "\n",
       "    .dataframe thead th {\n",
       "        text-align: right;\n",
       "    }\n",
       "</style>\n",
       "<table border=\"1\" class=\"dataframe\">\n",
       "  <thead>\n",
       "    <tr style=\"text-align: right;\">\n",
       "      <th></th>\n",
       "      <th>ZEIT_lang</th>\n",
       "      <th>ZEIT_code</th>\n",
       "      <th>RAUM_lang</th>\n",
       "      <th>RAUM_code</th>\n",
       "      <th>StichtagDatJahr_str</th>\n",
       "    </tr>\n",
       "  </thead>\n",
       "  <tbody>\n",
       "    <tr>\n",
       "      <th>count</th>\n",
       "      <td>66</td>\n",
       "      <td>66</td>\n",
       "      <td>66</td>\n",
       "      <td>66</td>\n",
       "      <td>66</td>\n",
       "    </tr>\n",
       "    <tr>\n",
       "      <th>unique</th>\n",
       "      <td>NaN</td>\n",
       "      <td>37</td>\n",
       "      <td>32</td>\n",
       "      <td>32</td>\n",
       "      <td>37</td>\n",
       "    </tr>\n",
       "    <tr>\n",
       "      <th>top</th>\n",
       "      <td>NaN</td>\n",
       "      <td>Z31122021</td>\n",
       "      <td>Enge</td>\n",
       "      <td>R00024</td>\n",
       "      <td>2021-12-31</td>\n",
       "    </tr>\n",
       "    <tr>\n",
       "      <th>freq</th>\n",
       "      <td>NaN</td>\n",
       "      <td>4</td>\n",
       "      <td>7</td>\n",
       "      <td>7</td>\n",
       "      <td>4</td>\n",
       "    </tr>\n",
       "    <tr>\n",
       "      <th>mean</th>\n",
       "      <td>1971-08-09 12:00:00</td>\n",
       "      <td>NaN</td>\n",
       "      <td>NaN</td>\n",
       "      <td>NaN</td>\n",
       "      <td>NaN</td>\n",
       "    </tr>\n",
       "    <tr>\n",
       "      <th>min</th>\n",
       "      <td>1900-12-31 00:00:00</td>\n",
       "      <td>NaN</td>\n",
       "      <td>NaN</td>\n",
       "      <td>NaN</td>\n",
       "      <td>NaN</td>\n",
       "    </tr>\n",
       "    <tr>\n",
       "      <th>25%</th>\n",
       "      <td>1956-03-31 12:00:00</td>\n",
       "      <td>NaN</td>\n",
       "      <td>NaN</td>\n",
       "      <td>NaN</td>\n",
       "      <td>NaN</td>\n",
       "    </tr>\n",
       "    <tr>\n",
       "      <th>50%</th>\n",
       "      <td>1968-07-01 00:00:00</td>\n",
       "      <td>NaN</td>\n",
       "      <td>NaN</td>\n",
       "      <td>NaN</td>\n",
       "      <td>NaN</td>\n",
       "    </tr>\n",
       "    <tr>\n",
       "      <th>75%</th>\n",
       "      <td>1977-09-30 18:00:00</td>\n",
       "      <td>NaN</td>\n",
       "      <td>NaN</td>\n",
       "      <td>NaN</td>\n",
       "      <td>NaN</td>\n",
       "    </tr>\n",
       "    <tr>\n",
       "      <th>max</th>\n",
       "      <td>2023-12-31 00:00:00</td>\n",
       "      <td>NaN</td>\n",
       "      <td>NaN</td>\n",
       "      <td>NaN</td>\n",
       "      <td>NaN</td>\n",
       "    </tr>\n",
       "  </tbody>\n",
       "</table>\n",
       "</div>"
      ],
      "text/plain": [
       "                  ZEIT_lang  ZEIT_code RAUM_lang RAUM_code StichtagDatJahr_str\n",
       "count                    66         66        66        66                  66\n",
       "unique                  NaN         37        32        32                  37\n",
       "top                     NaN  Z31122021      Enge    R00024          2021-12-31\n",
       "freq                    NaN          4         7         7                   4\n",
       "mean    1971-08-09 12:00:00        NaN       NaN       NaN                 NaN\n",
       "min     1900-12-31 00:00:00        NaN       NaN       NaN                 NaN\n",
       "25%     1956-03-31 12:00:00        NaN       NaN       NaN                 NaN\n",
       "50%     1968-07-01 00:00:00        NaN       NaN       NaN                 NaN\n",
       "75%     1977-09-30 18:00:00        NaN       NaN       NaN                 NaN\n",
       "max     2023-12-31 00:00:00        NaN       NaN       NaN                 NaN"
      ]
     },
     "metadata": {},
     "output_type": "display_data"
    }
   ],
   "source": [
    "# describe non-numerical features\n",
    "try:\n",
    "    with pd.option_context('display.float_format', '{:,.2f}'.format):\n",
    "        display(data2betested.describe(exclude='number',datetime_is_numeric=True))\n",
    "except:\n",
    "    print(\"No categorical data in dataset.\")"
   ]
  },
  {
   "cell_type": "markdown",
   "metadata": {},
   "source": [
    "Beschreibe numerische Attribute"
   ]
  },
  {
   "cell_type": "code",
   "execution_count": 29,
   "metadata": {},
   "outputs": [
    {
     "data": {
      "text/html": [
       "<div>\n",
       "<style scoped>\n",
       "    .dataframe tbody tr th:only-of-type {\n",
       "        vertical-align: middle;\n",
       "    }\n",
       "\n",
       "    .dataframe tbody tr th {\n",
       "        vertical-align: top;\n",
       "    }\n",
       "\n",
       "    .dataframe thead th {\n",
       "        text-align: right;\n",
       "    }\n",
       "</style>\n",
       "<table border=\"1\" class=\"dataframe\">\n",
       "  <thead>\n",
       "    <tr style=\"text-align: right;\">\n",
       "      <th></th>\n",
       "      <th>BEW</th>\n",
       "      <th>Jahr</th>\n",
       "      <th>RAUM_my_sort</th>\n",
       "    </tr>\n",
       "  </thead>\n",
       "  <tbody>\n",
       "    <tr>\n",
       "      <th>count</th>\n",
       "      <td>66</td>\n",
       "      <td>66</td>\n",
       "      <td>66</td>\n",
       "    </tr>\n",
       "    <tr>\n",
       "      <th>mean</th>\n",
       "      <td>12,193</td>\n",
       "      <td>1,971</td>\n",
       "      <td>63</td>\n",
       "    </tr>\n",
       "    <tr>\n",
       "      <th>std</th>\n",
       "      <td>6,923</td>\n",
       "      <td>29</td>\n",
       "      <td>34</td>\n",
       "    </tr>\n",
       "    <tr>\n",
       "      <th>min</th>\n",
       "      <td>910</td>\n",
       "      <td>1,900</td>\n",
       "      <td>11</td>\n",
       "    </tr>\n",
       "    <tr>\n",
       "      <th>25%</th>\n",
       "      <td>7,491</td>\n",
       "      <td>1,955</td>\n",
       "      <td>32</td>\n",
       "    </tr>\n",
       "    <tr>\n",
       "      <th>50%</th>\n",
       "      <td>10,884</td>\n",
       "      <td>1,968</td>\n",
       "      <td>63</td>\n",
       "    </tr>\n",
       "    <tr>\n",
       "      <th>75%</th>\n",
       "      <td>16,512</td>\n",
       "      <td>1,977</td>\n",
       "      <td>83</td>\n",
       "    </tr>\n",
       "    <tr>\n",
       "      <th>max</th>\n",
       "      <td>30,192</td>\n",
       "      <td>2,023</td>\n",
       "      <td>122</td>\n",
       "    </tr>\n",
       "  </tbody>\n",
       "</table>\n",
       "</div>"
      ],
      "text/plain": [
       "         BEW  Jahr  RAUM_my_sort\n",
       "count     66    66            66\n",
       "mean  12,193 1,971            63\n",
       "std    6,923    29            34\n",
       "min      910 1,900            11\n",
       "25%    7,491 1,955            32\n",
       "50%   10,884 1,968            63\n",
       "75%   16,512 1,977            83\n",
       "max   30,192 2,023           122"
      ]
     },
     "metadata": {},
     "output_type": "display_data"
    }
   ],
   "source": [
    "# describe numerical features\n",
    "try:\n",
    "    with pd.option_context('display.float_format', '{:,.0f}'.format):\n",
    "        display(data2betested.describe(include='number'))\n",
    "except:\n",
    "    print(\"No numercial data in dataset.\")"
   ]
  },
  {
   "cell_type": "code",
   "execution_count": 30,
   "metadata": {},
   "outputs": [
    {
     "data": {
      "image/png": "[encoded data removed]",
      "text/plain": [
       "<Figure size 1800x600 with 4 Axes>"
      ]
     },
     "metadata": {},
     "output_type": "display_data"
    }
   ],
   "source": [
    "plt.style.use('ggplot')\n",
    "params = {\n",
    "    'text.color': (0.25, 0.25, 0.25),\n",
    "    'figure.figsize': [18, 6],\n",
    "   }\n",
    "plt.rcParams.update(params)\n",
    "\n",
    "try:\n",
    "    data2betested.hist(bins=25, rwidth=0.9)\n",
    "    plt.tight_layout()\n",
    "    plt.show()\n",
    "except:\n",
    "    print(\"No numercial data to plot.\") "
   ]
  },
  {
   "cell_type": "markdown",
   "metadata": {},
   "source": [
    "### Gibt es Duplikate?"
   ]
  },
  {
   "cell_type": "code",
   "execution_count": 31,
   "metadata": {},
   "outputs": [
    {
     "data": {
      "text/html": [
       "<div>\n",
       "<style scoped>\n",
       "    .dataframe tbody tr th:only-of-type {\n",
       "        vertical-align: middle;\n",
       "    }\n",
       "\n",
       "    .dataframe tbody tr th {\n",
       "        vertical-align: top;\n",
       "    }\n",
       "\n",
       "    .dataframe thead th {\n",
       "        text-align: right;\n",
       "    }\n",
       "</style>\n",
       "<table border=\"1\" class=\"dataframe\">\n",
       "  <thead>\n",
       "    <tr style=\"text-align: right;\">\n",
       "      <th></th>\n",
       "      <th>ZEIT_lang</th>\n",
       "      <th>ZEIT_code</th>\n",
       "      <th>RAUM_lang</th>\n",
       "      <th>RAUM_code</th>\n",
       "      <th>BEW</th>\n",
       "      <th>StichtagDatJahr_str</th>\n",
       "      <th>Jahr</th>\n",
       "      <th>RAUM_my_sort</th>\n",
       "    </tr>\n",
       "    <tr>\n",
       "      <th>StichtagDatJahr</th>\n",
       "      <th></th>\n",
       "      <th></th>\n",
       "      <th></th>\n",
       "      <th></th>\n",
       "      <th></th>\n",
       "      <th></th>\n",
       "      <th></th>\n",
       "      <th></th>\n",
       "    </tr>\n",
       "  </thead>\n",
       "  <tbody>\n",
       "  </tbody>\n",
       "</table>\n",
       "</div>"
      ],
      "text/plain": [
       "Empty DataFrame\n",
       "Columns: [ZEIT_lang, ZEIT_code, RAUM_lang, RAUM_code, BEW, StichtagDatJahr_str, Jahr, RAUM_my_sort]\n",
       "Index: []"
      ]
     },
     "execution_count": 31,
     "metadata": {},
     "output_type": "execute_result"
    }
   ],
   "source": [
    "# find duplicate rows\n",
    "duplicate_rows = data2betested[data2betested.duplicated()]\n",
    "duplicate_rows"
   ]
  },
  {
   "cell_type": "markdown",
   "metadata": {},
   "source": [
    "### Nullwerte und Missings?"
   ]
  },
  {
   "cell_type": "code",
   "execution_count": 32,
   "metadata": {},
   "outputs": [
    {
     "data": {
      "text/plain": [
       "ZEIT_lang              0\n",
       "ZEIT_code              0\n",
       "RAUM_lang              0\n",
       "RAUM_code              0\n",
       "BEW                    0\n",
       "StichtagDatJahr_str    0\n",
       "Jahr                   0\n",
       "RAUM_my_sort           0\n",
       "dtype: int64"
      ]
     },
     "execution_count": 32,
     "metadata": {},
     "output_type": "execute_result"
    }
   ],
   "source": [
    "data2betested.isnull().sum()"
   ]
  },
  {
   "cell_type": "code",
   "execution_count": 33,
   "metadata": {},
   "outputs": [
    {
     "data": {
      "image/png": "[encoded data removed]",
      "text/plain": [
       "<Figure size 2500x1000 with 2 Axes>"
      ]
     },
     "metadata": {},
     "output_type": "display_data"
    }
   ],
   "source": [
    "# check missing values with missingno\n",
    "# https://github.com/ResidentMario/missingno\n",
    "import missingno as msno\n",
    "msno.matrix(data2betested, labels=True, sort='descending');\n",
    "#msno.heatmap(data2betested)"
   ]
  },
  {
   "cell_type": "markdown",
   "metadata": {},
   "source": [
    "### Gruppierungen"
   ]
  },
  {
   "cell_type": "code",
   "execution_count": 34,
   "metadata": {},
   "outputs": [
    {
     "data": {
      "text/html": [
       "<div>\n",
       "<style scoped>\n",
       "    .dataframe tbody tr th:only-of-type {\n",
       "        vertical-align: middle;\n",
       "    }\n",
       "\n",
       "    .dataframe tbody tr th {\n",
       "        vertical-align: top;\n",
       "    }\n",
       "\n",
       "    .dataframe thead th {\n",
       "        text-align: right;\n",
       "    }\n",
       "</style>\n",
       "<table border=\"1\" class=\"dataframe\">\n",
       "  <thead>\n",
       "    <tr style=\"text-align: right;\">\n",
       "      <th></th>\n",
       "      <th>Jahr</th>\n",
       "      <th>sum_AnzBestWir</th>\n",
       "    </tr>\n",
       "  </thead>\n",
       "  <tbody>\n",
       "    <tr>\n",
       "      <th>0</th>\n",
       "      <td>2023</td>\n",
       "      <td>22308</td>\n",
       "    </tr>\n",
       "    <tr>\n",
       "      <th>1</th>\n",
       "      <td>2021</td>\n",
       "      <td>59748</td>\n",
       "    </tr>\n",
       "    <tr>\n",
       "      <th>2</th>\n",
       "      <td>2020</td>\n",
       "      <td>34945</td>\n",
       "    </tr>\n",
       "  </tbody>\n",
       "</table>\n",
       "</div>"
      ],
      "text/plain": [
       "   Jahr  sum_AnzBestWir\n",
       "0  2023           22308\n",
       "1  2021           59748\n",
       "2  2020           34945"
      ]
     },
     "execution_count": 34,
     "metadata": {},
     "output_type": "execute_result"
    }
   ],
   "source": [
    "agg_jahr = data2betested.loc[data_min_date:data_max_date]\\\n",
    "    .groupby(['Jahr']) \\\n",
    "    .agg(sum_AnzBestWir=('BEW', 'sum')) \\\n",
    "    .sort_values('Jahr', ascending=False) \n",
    "agg_jahr.reset_index().head(3)"
   ]
  },
  {
   "cell_type": "code",
   "execution_count": 35,
   "metadata": {},
   "outputs": [
    {
     "data": {
      "text/html": [
       "<div>\n",
       "<style scoped>\n",
       "    .dataframe tbody tr th:only-of-type {\n",
       "        vertical-align: middle;\n",
       "    }\n",
       "\n",
       "    .dataframe tbody tr th {\n",
       "        vertical-align: top;\n",
       "    }\n",
       "\n",
       "    .dataframe thead th {\n",
       "        text-align: right;\n",
       "    }\n",
       "</style>\n",
       "<table border=\"1\" class=\"dataframe\">\n",
       "  <thead>\n",
       "    <tr style=\"text-align: right;\">\n",
       "      <th></th>\n",
       "      <th>RAUM_my_sort</th>\n",
       "      <th>RAUM_lang</th>\n",
       "      <th>RAUM_code</th>\n",
       "      <th>sum_AnzBestWir</th>\n",
       "    </tr>\n",
       "  </thead>\n",
       "  <tbody>\n",
       "    <tr>\n",
       "      <th>0</th>\n",
       "      <td>122</td>\n",
       "      <td>Schwamendingen-Mitte</td>\n",
       "      <td>R00122</td>\n",
       "      <td>22493</td>\n",
       "    </tr>\n",
       "    <tr>\n",
       "      <th>1</th>\n",
       "      <td>121</td>\n",
       "      <td>Saatlen</td>\n",
       "      <td>R00121</td>\n",
       "      <td>6818</td>\n",
       "    </tr>\n",
       "    <tr>\n",
       "      <th>2</th>\n",
       "      <td>119</td>\n",
       "      <td>Seebach</td>\n",
       "      <td>R00119</td>\n",
       "      <td>71951</td>\n",
       "    </tr>\n",
       "    <tr>\n",
       "      <th>3</th>\n",
       "      <td>115</td>\n",
       "      <td>Oerlikon</td>\n",
       "      <td>R00115</td>\n",
       "      <td>23214</td>\n",
       "    </tr>\n",
       "    <tr>\n",
       "      <th>4</th>\n",
       "      <td>111</td>\n",
       "      <td>Affoltern</td>\n",
       "      <td>R00111</td>\n",
       "      <td>53049</td>\n",
       "    </tr>\n",
       "    <tr>\n",
       "      <th>5</th>\n",
       "      <td>102</td>\n",
       "      <td>Wipkingen</td>\n",
       "      <td>R00102</td>\n",
       "      <td>28266</td>\n",
       "    </tr>\n",
       "    <tr>\n",
       "      <th>6</th>\n",
       "      <td>101</td>\n",
       "      <td>Höngg</td>\n",
       "      <td>R00101</td>\n",
       "      <td>17018</td>\n",
       "    </tr>\n",
       "    <tr>\n",
       "      <th>7</th>\n",
       "      <td>92</td>\n",
       "      <td>Altstetten</td>\n",
       "      <td>R00092</td>\n",
       "      <td>27638</td>\n",
       "    </tr>\n",
       "    <tr>\n",
       "      <th>8</th>\n",
       "      <td>91</td>\n",
       "      <td>Albisrieden</td>\n",
       "      <td>R00091</td>\n",
       "      <td>34820</td>\n",
       "    </tr>\n",
       "    <tr>\n",
       "      <th>9</th>\n",
       "      <td>83</td>\n",
       "      <td>Weinegg</td>\n",
       "      <td>R00083</td>\n",
       "      <td>18649</td>\n",
       "    </tr>\n",
       "    <tr>\n",
       "      <th>10</th>\n",
       "      <td>82</td>\n",
       "      <td>Mühlebach</td>\n",
       "      <td>R00082</td>\n",
       "      <td>7639</td>\n",
       "    </tr>\n",
       "    <tr>\n",
       "      <th>11</th>\n",
       "      <td>81</td>\n",
       "      <td>Seefeld</td>\n",
       "      <td>R00081</td>\n",
       "      <td>17953</td>\n",
       "    </tr>\n",
       "    <tr>\n",
       "      <th>12</th>\n",
       "      <td>74</td>\n",
       "      <td>Witikon</td>\n",
       "      <td>R00074</td>\n",
       "      <td>15319</td>\n",
       "    </tr>\n",
       "    <tr>\n",
       "      <th>13</th>\n",
       "      <td>73</td>\n",
       "      <td>Hirslanden</td>\n",
       "      <td>R00073</td>\n",
       "      <td>9437</td>\n",
       "    </tr>\n",
       "    <tr>\n",
       "      <th>14</th>\n",
       "      <td>72</td>\n",
       "      <td>Hottingen</td>\n",
       "      <td>R00072</td>\n",
       "      <td>28859</td>\n",
       "    </tr>\n",
       "    <tr>\n",
       "      <th>15</th>\n",
       "      <td>71</td>\n",
       "      <td>Fluntern</td>\n",
       "      <td>R00071</td>\n",
       "      <td>38264</td>\n",
       "    </tr>\n",
       "    <tr>\n",
       "      <th>16</th>\n",
       "      <td>63</td>\n",
       "      <td>Oberstrass</td>\n",
       "      <td>R00063</td>\n",
       "      <td>36391</td>\n",
       "    </tr>\n",
       "    <tr>\n",
       "      <th>17</th>\n",
       "      <td>61</td>\n",
       "      <td>Unterstrass</td>\n",
       "      <td>R00061</td>\n",
       "      <td>30192</td>\n",
       "    </tr>\n",
       "    <tr>\n",
       "      <th>18</th>\n",
       "      <td>52</td>\n",
       "      <td>Escher Wyss</td>\n",
       "      <td>R00052</td>\n",
       "      <td>7852</td>\n",
       "    </tr>\n",
       "    <tr>\n",
       "      <th>19</th>\n",
       "      <td>51</td>\n",
       "      <td>Gewerbeschule</td>\n",
       "      <td>R00051</td>\n",
       "      <td>23412</td>\n",
       "    </tr>\n",
       "    <tr>\n",
       "      <th>20</th>\n",
       "      <td>44</td>\n",
       "      <td>Hard</td>\n",
       "      <td>R00044</td>\n",
       "      <td>32960</td>\n",
       "    </tr>\n",
       "    <tr>\n",
       "      <th>21</th>\n",
       "      <td>42</td>\n",
       "      <td>Langstrasse</td>\n",
       "      <td>R00042</td>\n",
       "      <td>17753</td>\n",
       "    </tr>\n",
       "    <tr>\n",
       "      <th>22</th>\n",
       "      <td>41</td>\n",
       "      <td>Werd</td>\n",
       "      <td>R00041</td>\n",
       "      <td>10091</td>\n",
       "    </tr>\n",
       "    <tr>\n",
       "      <th>23</th>\n",
       "      <td>34</td>\n",
       "      <td>Sihlfeld</td>\n",
       "      <td>R00034</td>\n",
       "      <td>27917</td>\n",
       "    </tr>\n",
       "    <tr>\n",
       "      <th>24</th>\n",
       "      <td>33</td>\n",
       "      <td>Friesenberg</td>\n",
       "      <td>R00033</td>\n",
       "      <td>20283</td>\n",
       "    </tr>\n",
       "    <tr>\n",
       "      <th>25</th>\n",
       "      <td>32</td>\n",
       "      <td>Südlicher Teil</td>\n",
       "      <td>R00032</td>\n",
       "      <td>16646</td>\n",
       "    </tr>\n",
       "    <tr>\n",
       "      <th>26</th>\n",
       "      <td>31</td>\n",
       "      <td>Alt-Wiedikon</td>\n",
       "      <td>R00031</td>\n",
       "      <td>32703</td>\n",
       "    </tr>\n",
       "    <tr>\n",
       "      <th>27</th>\n",
       "      <td>24</td>\n",
       "      <td>Enge</td>\n",
       "      <td>R00024</td>\n",
       "      <td>77025</td>\n",
       "    </tr>\n",
       "    <tr>\n",
       "      <th>28</th>\n",
       "      <td>21</td>\n",
       "      <td>Wollishofen</td>\n",
       "      <td>R00021</td>\n",
       "      <td>34381</td>\n",
       "    </tr>\n",
       "    <tr>\n",
       "      <th>29</th>\n",
       "      <td>14</td>\n",
       "      <td>City</td>\n",
       "      <td>R00014</td>\n",
       "      <td>4769</td>\n",
       "    </tr>\n",
       "    <tr>\n",
       "      <th>30</th>\n",
       "      <td>13</td>\n",
       "      <td>Lindenhof</td>\n",
       "      <td>R00013</td>\n",
       "      <td>4884</td>\n",
       "    </tr>\n",
       "    <tr>\n",
       "      <th>31</th>\n",
       "      <td>11</td>\n",
       "      <td>Rathaus</td>\n",
       "      <td>R00011</td>\n",
       "      <td>6104</td>\n",
       "    </tr>\n",
       "  </tbody>\n",
       "</table>\n",
       "</div>"
      ],
      "text/plain": [
       "    RAUM_my_sort             RAUM_lang RAUM_code  sum_AnzBestWir\n",
       "0            122  Schwamendingen-Mitte    R00122           22493\n",
       "1            121               Saatlen    R00121            6818\n",
       "2            119               Seebach    R00119           71951\n",
       "3            115              Oerlikon    R00115           23214\n",
       "4            111             Affoltern    R00111           53049\n",
       "5            102             Wipkingen    R00102           28266\n",
       "6            101                 Höngg    R00101           17018\n",
       "7             92            Altstetten    R00092           27638\n",
       "8             91           Albisrieden    R00091           34820\n",
       "9             83               Weinegg    R00083           18649\n",
       "10            82             Mühlebach    R00082            7639\n",
       "11            81               Seefeld    R00081           17953\n",
       "12            74               Witikon    R00074           15319\n",
       "13            73            Hirslanden    R00073            9437\n",
       "14            72             Hottingen    R00072           28859\n",
       "15            71              Fluntern    R00071           38264\n",
       "16            63            Oberstrass    R00063           36391\n",
       "17            61           Unterstrass    R00061           30192\n",
       "18            52           Escher Wyss    R00052            7852\n",
       "19            51         Gewerbeschule    R00051           23412\n",
       "20            44                  Hard    R00044           32960\n",
       "21            42           Langstrasse    R00042           17753\n",
       "22            41                  Werd    R00041           10091\n",
       "23            34              Sihlfeld    R00034           27917\n",
       "24            33           Friesenberg    R00033           20283\n",
       "25            32        Südlicher Teil    R00032           16646\n",
       "26            31          Alt-Wiedikon    R00031           32703\n",
       "27            24                  Enge    R00024           77025\n",
       "28            21           Wollishofen    R00021           34381\n",
       "29            14                  City    R00014            4769\n",
       "30            13             Lindenhof    R00013            4884\n",
       "31            11               Rathaus    R00011            6104"
      ]
     },
     "execution_count": 35,
     "metadata": {},
     "output_type": "execute_result"
    }
   ],
   "source": [
    "agg_Quarts = data2betested.loc[data_min_date:data_max_date]\\\n",
    "    .groupby(['RAUM_my_sort', 'RAUM_lang', 'RAUM_code']) \\\n",
    "    .agg(sum_AnzBestWir=('BEW', 'sum')) \\\n",
    "    .sort_values('RAUM_code', ascending=False) \n",
    "agg_Quarts.reset_index().head(50)"
   ]
  },
  {
   "cell_type": "code",
   "execution_count": 36,
   "metadata": {},
   "outputs": [
    {
     "data": {
      "text/plain": [
       "Index(['ZEIT_lang', 'ZEIT_code', 'RAUM_lang', 'RAUM_code', 'BEW', 'StichtagDatJahr_str', 'Jahr',\n",
       "       'RAUM_my_sort'],\n",
       "      dtype='object')"
      ]
     },
     "execution_count": 36,
     "metadata": {},
     "output_type": "execute_result"
    }
   ],
   "source": [
    "data2betested.columns"
   ]
  },
  {
   "cell_type": "markdown",
   "metadata": {},
   "source": [
    "### Zeitpunkte und Zeiträume abfragen\n",
    "\n",
    "A particular powerful feature of the Pandas DataFrame is its indexing capability that also works using time-based entities, such as dates and times. We have already created the index above, so let's put it to use."
   ]
  },
  {
   "cell_type": "code",
   "execution_count": 37,
   "metadata": {},
   "outputs": [
    {
     "data": {
      "text/html": [
       "<div>\n",
       "<style scoped>\n",
       "    .dataframe tbody tr th:only-of-type {\n",
       "        vertical-align: middle;\n",
       "    }\n",
       "\n",
       "    .dataframe tbody tr th {\n",
       "        vertical-align: top;\n",
       "    }\n",
       "\n",
       "    .dataframe thead th {\n",
       "        text-align: right;\n",
       "    }\n",
       "</style>\n",
       "<table border=\"1\" class=\"dataframe\">\n",
       "  <thead>\n",
       "    <tr style=\"text-align: right;\">\n",
       "      <th></th>\n",
       "      <th>ZEIT_lang</th>\n",
       "      <th>ZEIT_code</th>\n",
       "      <th>RAUM_lang</th>\n",
       "      <th>RAUM_code</th>\n",
       "      <th>BEW</th>\n",
       "      <th>StichtagDatJahr_str</th>\n",
       "      <th>Jahr</th>\n",
       "      <th>RAUM_my_sort</th>\n",
       "    </tr>\n",
       "    <tr>\n",
       "      <th>StichtagDatJahr</th>\n",
       "      <th></th>\n",
       "      <th></th>\n",
       "      <th></th>\n",
       "      <th></th>\n",
       "      <th></th>\n",
       "      <th></th>\n",
       "      <th></th>\n",
       "      <th></th>\n",
       "    </tr>\n",
       "  </thead>\n",
       "  <tbody>\n",
       "    <tr>\n",
       "      <th>2023-12-31</th>\n",
       "      <td>2023-12-31</td>\n",
       "      <td>Z31122023</td>\n",
       "      <td>Oberstrass</td>\n",
       "      <td>R00063</td>\n",
       "      <td>10887</td>\n",
       "      <td>2023-12-31</td>\n",
       "      <td>2023</td>\n",
       "      <td>63</td>\n",
       "    </tr>\n",
       "    <tr>\n",
       "      <th>2023-12-31</th>\n",
       "      <td>2023-12-31</td>\n",
       "      <td>Z31122023</td>\n",
       "      <td>Schwamendingen-Mitte</td>\n",
       "      <td>R00122</td>\n",
       "      <td>11421</td>\n",
       "      <td>2023-12-31</td>\n",
       "      <td>2023</td>\n",
       "      <td>122</td>\n",
       "    </tr>\n",
       "  </tbody>\n",
       "</table>\n",
       "</div>"
      ],
      "text/plain": [
       "                 ZEIT_lang  ZEIT_code             RAUM_lang RAUM_code   BEW StichtagDatJahr_str  \\\n",
       "StichtagDatJahr                                                                                   \n",
       "2023-12-31      2023-12-31  Z31122023            Oberstrass    R00063 10887          2023-12-31   \n",
       "2023-12-31      2023-12-31  Z31122023  Schwamendingen-Mitte    R00122 11421          2023-12-31   \n",
       "\n",
       "                 Jahr  RAUM_my_sort  \n",
       "StichtagDatJahr                      \n",
       "2023-12-31       2023            63  \n",
       "2023-12-31       2023           122  "
      ]
     },
     "execution_count": 37,
     "metadata": {},
     "output_type": "execute_result"
    }
   ],
   "source": [
    "data2betested.loc[data_max_date].head(2)\n",
    "#data2betested.loc[\"2021-10-31\":\"2021-11-30\"].head(2)"
   ]
  },
  {
   "cell_type": "markdown",
   "metadata": {},
   "source": [
    "### Visualisierungen nach Zeitausschnitten"
   ]
  },
  {
   "cell_type": "markdown",
   "metadata": {},
   "source": [
    "#### Entwicklung Wohnbevölkerung seit ..."
   ]
  },
  {
   "cell_type": "code",
   "execution_count": 51,
   "metadata": {},
   "outputs": [
    {
     "data": {
      "text/html": [
       "<div>\n",
       "<style scoped>\n",
       "    .dataframe tbody tr th:only-of-type {\n",
       "        vertical-align: middle;\n",
       "    }\n",
       "\n",
       "    .dataframe tbody tr th {\n",
       "        vertical-align: top;\n",
       "    }\n",
       "\n",
       "    .dataframe thead th {\n",
       "        text-align: right;\n",
       "    }\n",
       "</style>\n",
       "<table border=\"1\" class=\"dataframe\">\n",
       "  <thead>\n",
       "    <tr style=\"text-align: right;\">\n",
       "      <th></th>\n",
       "      <th>StichtagDatJahr</th>\n",
       "      <th>sum_WBev</th>\n",
       "    </tr>\n",
       "  </thead>\n",
       "  <tbody>\n",
       "    <tr>\n",
       "      <th>0</th>\n",
       "      <td>2023-12-31</td>\n",
       "      <td>22308</td>\n",
       "    </tr>\n",
       "  </tbody>\n",
       "</table>\n",
       "</div>"
      ],
      "text/plain": [
       "  StichtagDatJahr  sum_WBev\n",
       "0      2023-12-31     22308"
      ]
     },
     "execution_count": 51,
     "metadata": {},
     "output_type": "execute_result"
    }
   ],
   "source": [
    "myAggAll = data2betested.loc[data_min_date:data_max_date]\\\n",
    "    .groupby(['StichtagDatJahr']) \\\n",
    "    .agg(sum_WBev=('BEW', 'sum')) \\\n",
    "    .sort_values('StichtagDatJahr', ascending=False) \n",
    "\n",
    "myAggAll.reset_index().head(1)"
   ]
  },
  {
   "cell_type": "code",
   "execution_count": 39,
   "metadata": {},
   "outputs": [
    {
     "data": {
      "text/html": [
       "\n",
       "<div id=\"altair-viz-5d240a6913c14f59a81657a465ca492e\"></div>\n",
       "<script type=\"text/javascript\">\n",
       "  (function(spec, embedOpt){\n",
       "    let outputDiv = document.currentScript.previousElementSibling;\n",
       "    if (outputDiv.id !== \"altair-viz-5d240a6913c14f59a81657a465ca492e\") {\n",
       "      outputDiv = document.getElementById(\"altair-viz-5d240a6913c14f59a81657a465ca492e\");\n",
       "    }\n",
       "    const paths = {\n",
       "      \"vega\": \"https://cdn.jsdelivr.net/npm//vega@5?noext\",\n",
       "      \"vega-lib\": \"https://cdn.jsdelivr.net/npm//vega-lib?noext\",\n",
       "      \"vega-lite\": \"https://cdn.jsdelivr.net/npm//vega-lite@4.8.1?noext\",\n",
       "      \"vega-embed\": \"https://cdn.jsdelivr.net/npm//vega-embed@6?noext\",\n",
       "    };\n",
       "\n",
       "    function loadScript(lib) {\n",
       "      return new Promise(function(resolve, reject) {\n",
       "        var s = document.createElement('script');\n",
       "        s.src = paths[lib];\n",
       "        s.async = true;\n",
       "        s.onload = () => resolve(paths[lib]);\n",
       "        s.onerror = () => reject(`Error loading script: ${paths[lib]}`);\n",
       "        document.getElementsByTagName(\"head\")[0].appendChild(s);\n",
       "      });\n",
       "    }\n",
       "\n",
       "    function showError(err) {\n",
       "      outputDiv.innerHTML = `<div class=\"error\" style=\"color:red;\">${err}</div>`;\n",
       "      throw err;\n",
       "    }\n",
       "\n",
       "    function displayChart(vegaEmbed) {\n",
       "      vegaEmbed(outputDiv, spec, embedOpt)\n",
       "        .catch(err => showError(`Javascript Error: ${err.message}<br>This usually means there's a typo in your chart specification. See the javascript console for the full traceback.`));\n",
       "    }\n",
       "\n",
       "    if(typeof define === \"function\" && define.amd) {\n",
       "      requirejs.config({paths});\n",
       "      require([\"vega-embed\"], displayChart, err => showError(`Error loading script: ${err.message}`));\n",
       "    } else if (typeof vegaEmbed === \"function\") {\n",
       "      displayChart(vegaEmbed);\n",
       "    } else {\n",
       "      loadScript(\"vega\")\n",
       "        .then(() => loadScript(\"vega-lite\"))\n",
       "        .then(() => loadScript(\"vega-embed\"))\n",
       "        .catch(showError)\n",
       "        .then(() => displayChart(vegaEmbed));\n",
       "    }\n",
       "  })({\"config\": {\"view\": {\"continuousWidth\": 400, \"continuousHeight\": 300}}, \"layer\": [{\"mark\": \"line\", \"encoding\": {\"size\": {\"condition\": {\"value\": 0.5, \"selection\": {\"not\": \"selector001\"}}, \"value\": 4}, \"tooltip\": [{\"type\": \"temporal\", \"field\": \"StichtagDatJahr\"}, {\"type\": \"quantitative\", \"field\": \"sum_WBev\"}], \"x\": {\"type\": \"temporal\", \"axis\": {\"title\": \"Jahr\"}, \"field\": \"StichtagDatJahr\"}, \"y\": {\"type\": \"quantitative\", \"axis\": {\"title\": \"Anz. Personen\"}, \"field\": \"sum_WBev\"}}, \"selection\": {\"selector002\": {\"type\": \"interval\", \"bind\": \"scales\", \"encodings\": [\"x\", \"y\"]}}, \"title\": \"Bev\\u00f6lkerungsentwicklung, seit 1900\"}, {\"mark\": \"circle\", \"encoding\": {\"opacity\": {\"value\": 0.75}, \"tooltip\": [{\"type\": \"temporal\", \"field\": \"StichtagDatJahr\"}, {\"type\": \"quantitative\", \"field\": \"sum_WBev\"}], \"x\": {\"type\": \"temporal\", \"axis\": {\"title\": \"Jahr\"}, \"field\": \"StichtagDatJahr\"}, \"y\": {\"type\": \"quantitative\", \"axis\": {\"title\": \"Anz. Personen\"}, \"field\": \"sum_WBev\"}}, \"height\": 350, \"selection\": {\"selector001\": {\"type\": \"single\", \"on\": \"mouseover\", \"fields\": [\"sum_WBev\"], \"nearest\": true}}, \"title\": \"Bev\\u00f6lkerungsentwicklung, seit 1900\", \"width\": 750}], \"data\": {\"name\": \"data-93ef489432e593df7a378c02d570afce\"}, \"$schema\": \"https://vega.github.io/schema/vega-lite/v4.8.1.json\", \"datasets\": {\"data-93ef489432e593df7a378c02d570afce\": [{\"StichtagDatJahr\": \"2023-12-31T00:00:00\", \"sum_WBev\": 22308.0}, {\"StichtagDatJahr\": \"2021-12-31T00:00:00\", \"sum_WBev\": 59748.0}, {\"StichtagDatJahr\": \"2020-12-31T00:00:00\", \"sum_WBev\": 34945.0}, {\"StichtagDatJahr\": \"2019-12-31T00:00:00\", \"sum_WBev\": 26710.0}, {\"StichtagDatJahr\": \"2018-12-31T00:00:00\", \"sum_WBev\": 48782.0}, {\"StichtagDatJahr\": \"1979-12-31T00:00:00\", \"sum_WBev\": 17817.0}, {\"StichtagDatJahr\": \"1978-12-31T00:00:00\", \"sum_WBev\": 11982.0}, {\"StichtagDatJahr\": \"1977-12-31T00:00:00\", \"sum_WBev\": 15345.0}, {\"StichtagDatJahr\": \"1976-12-31T00:00:00\", \"sum_WBev\": 27730.0}, {\"StichtagDatJahr\": \"1975-12-31T00:00:00\", \"sum_WBev\": 34011.0}, {\"StichtagDatJahr\": \"1974-12-31T00:00:00\", \"sum_WBev\": 18150.0}, {\"StichtagDatJahr\": \"1973-12-31T00:00:00\", \"sum_WBev\": 14363.0}, {\"StichtagDatJahr\": \"1972-12-31T00:00:00\", \"sum_WBev\": 44656.0}, {\"StichtagDatJahr\": \"1971-12-31T00:00:00\", \"sum_WBev\": 18324.0}, {\"StichtagDatJahr\": \"1970-12-31T00:00:00\", \"sum_WBev\": 12381.0}, {\"StichtagDatJahr\": \"1968-12-31T00:00:00\", \"sum_WBev\": 13951.0}, {\"StichtagDatJahr\": \"1967-12-31T00:00:00\", \"sum_WBev\": 32965.0}, {\"StichtagDatJahr\": \"1965-12-31T00:00:00\", \"sum_WBev\": 15541.0}, {\"StichtagDatJahr\": \"1964-12-31T00:00:00\", \"sum_WBev\": 34704.0}, {\"StichtagDatJahr\": \"1963-12-31T00:00:00\", \"sum_WBev\": 53318.0}, {\"StichtagDatJahr\": \"1962-12-31T00:00:00\", \"sum_WBev\": 17668.0}, {\"StichtagDatJahr\": \"1961-12-31T00:00:00\", \"sum_WBev\": 31781.0}, {\"StichtagDatJahr\": \"1960-12-31T00:00:00\", \"sum_WBev\": 18011.0}, {\"StichtagDatJahr\": \"1957-12-31T00:00:00\", \"sum_WBev\": 16234.0}, {\"StichtagDatJahr\": \"1956-12-31T00:00:00\", \"sum_WBev\": 9818.0}, {\"StichtagDatJahr\": \"1955-12-31T00:00:00\", \"sum_WBev\": 9906.0}, {\"StichtagDatJahr\": \"1954-12-31T00:00:00\", \"sum_WBev\": 11368.0}, {\"StichtagDatJahr\": \"1953-12-31T00:00:00\", \"sum_WBev\": 11668.0}, {\"StichtagDatJahr\": \"1951-12-31T00:00:00\", \"sum_WBev\": 22919.0}, {\"StichtagDatJahr\": \"1950-12-31T00:00:00\", \"sum_WBev\": 17036.0}, {\"StichtagDatJahr\": \"1949-12-31T00:00:00\", \"sum_WBev\": 3859.0}, {\"StichtagDatJahr\": \"1944-12-31T00:00:00\", \"sum_WBev\": 13898.0}, {\"StichtagDatJahr\": \"1943-12-31T00:00:00\", \"sum_WBev\": 5695.0}, {\"StichtagDatJahr\": \"1930-12-31T00:00:00\", \"sum_WBev\": 16646.0}, {\"StichtagDatJahr\": \"1920-12-31T00:00:00\", \"sum_WBev\": 30014.0}, {\"StichtagDatJahr\": \"1910-12-31T00:00:00\", \"sum_WBev\": 4981.0}, {\"StichtagDatJahr\": \"1900-12-31T00:00:00\", \"sum_WBev\": 5517.0}]}}, {\"mode\": \"vega-lite\"});\n",
       "</script>"
      ],
      "text/plain": [
       "alt.LayerChart(...)"
      ]
     },
     "execution_count": 39,
     "metadata": {},
     "output_type": "execute_result"
    }
   ],
   "source": [
    "myTitle=\"Bevölkerungsentwicklung, seit \"+str(data2betested.index.year.min())\n",
    "\n",
    "highlight = alt.selection(type='single', on='mouseover',\n",
    "                          fields=['sum_WBev'], nearest=True)\n",
    "#x='date:StichtagDatJahr',\n",
    "base = alt.Chart(myAggAll.reset_index().query('sum_WBev>30'), title=myTitle).encode(\n",
    "    x=alt.X('StichtagDatJahr', axis=alt.Axis(title='Jahr'))# , axis=alt.Axis(format='%', title='percentage')\n",
    "    , y=alt.X('sum_WBev', axis=alt.Axis(title='Anz. Personen'))\n",
    "    #, color=alt.Color('QuarLang', legend=alt.Legend(title=\"Altersgruppen\", orient=\"right\"))  \n",
    "    ,tooltip=['StichtagDatJahr','sum_WBev']    \n",
    ")\n",
    "points = base.mark_circle().encode(\n",
    "    opacity=alt.value(0.75)\n",
    ").add_selection(\n",
    "    highlight\n",
    ").properties(\n",
    "    width=750 , height=350\n",
    ")\n",
    "lines = base.mark_line().encode(\n",
    "    size=alt.condition(~highlight, alt.value(0.5), alt.value(4))\n",
    ").interactive()\n",
    "\n",
    "lines + points"
   ]
  },
  {
   "cell_type": "markdown",
   "metadata": {
    "tags": []
   },
   "source": [
    "#### Entwicklung Wohnbevölkerung nach Stadtquartier seit ..."
   ]
  },
  {
   "cell_type": "code",
   "execution_count": 40,
   "metadata": {},
   "outputs": [
    {
     "data": {
      "text/plain": [
       "Index(['ZEIT_lang', 'ZEIT_code', 'RAUM_lang', 'RAUM_code', 'BEW', 'StichtagDatJahr_str', 'Jahr',\n",
       "       'RAUM_my_sort'],\n",
       "      dtype='object')"
      ]
     },
     "execution_count": 40,
     "metadata": {},
     "output_type": "execute_result"
    }
   ],
   "source": [
    "data2betested.columns"
   ]
  },
  {
   "cell_type": "code",
   "execution_count": 41,
   "metadata": {
    "tags": []
   },
   "outputs": [
    {
     "data": {
      "text/html": [
       "<div>\n",
       "<style scoped>\n",
       "    .dataframe tbody tr th:only-of-type {\n",
       "        vertical-align: middle;\n",
       "    }\n",
       "\n",
       "    .dataframe tbody tr th {\n",
       "        vertical-align: top;\n",
       "    }\n",
       "\n",
       "    .dataframe thead th {\n",
       "        text-align: right;\n",
       "    }\n",
       "</style>\n",
       "<table border=\"1\" class=\"dataframe\">\n",
       "  <thead>\n",
       "    <tr style=\"text-align: right;\">\n",
       "      <th></th>\n",
       "      <th>StichtagDatJahr</th>\n",
       "      <th>RAUM_lang</th>\n",
       "      <th>RAUM_code</th>\n",
       "      <th>sum_WBev</th>\n",
       "    </tr>\n",
       "  </thead>\n",
       "  <tbody>\n",
       "    <tr>\n",
       "      <th>0</th>\n",
       "      <td>1900-12-31</td>\n",
       "      <td>Werd</td>\n",
       "      <td>R00041</td>\n",
       "      <td>5517</td>\n",
       "    </tr>\n",
       "    <tr>\n",
       "      <th>1</th>\n",
       "      <td>1910-12-31</td>\n",
       "      <td>Hard</td>\n",
       "      <td>R00044</td>\n",
       "      <td>4981</td>\n",
       "    </tr>\n",
       "    <tr>\n",
       "      <th>2</th>\n",
       "      <td>1920-12-31</td>\n",
       "      <td>Enge</td>\n",
       "      <td>R00024</td>\n",
       "      <td>10714</td>\n",
       "    </tr>\n",
       "  </tbody>\n",
       "</table>\n",
       "</div>"
      ],
      "text/plain": [
       "  StichtagDatJahr RAUM_lang RAUM_code  sum_WBev\n",
       "0      1900-12-31      Werd    R00041      5517\n",
       "1      1910-12-31      Hard    R00044      4981\n",
       "2      1920-12-31      Enge    R00024     10714"
      ]
     },
     "execution_count": 41,
     "metadata": {},
     "output_type": "execute_result"
    }
   ],
   "source": [
    "#myAgg = data2betested.loc[\"2008-11-30\":\"2021-10-31\"]\n",
    "myAgg = data2betested.loc[data_min_date:data_max_date]\\\n",
    "    .groupby(['StichtagDatJahr', 'RAUM_lang', 'RAUM_code']) \\\n",
    "    .agg(sum_WBev=('BEW', 'sum')) \\\n",
    "    .sort_values('StichtagDatJahr', ascending=True) \n",
    "\n",
    "myAgg.reset_index().head(3)"
   ]
  },
  {
   "cell_type": "code",
   "execution_count": 42,
   "metadata": {},
   "outputs": [
    {
     "data": {
      "text/html": [
       "\n",
       "<div id=\"altair-viz-64eb8f8c452349a791517d3eaa5aa155\"></div>\n",
       "<script type=\"text/javascript\">\n",
       "  (function(spec, embedOpt){\n",
       "    let outputDiv = document.currentScript.previousElementSibling;\n",
       "    if (outputDiv.id !== \"altair-viz-64eb8f8c452349a791517d3eaa5aa155\") {\n",
       "      outputDiv = document.getElementById(\"altair-viz-64eb8f8c452349a791517d3eaa5aa155\");\n",
       "    }\n",
       "    const paths = {\n",
       "      \"vega\": \"https://cdn.jsdelivr.net/npm//vega@5?noext\",\n",
       "      \"vega-lib\": \"https://cdn.jsdelivr.net/npm//vega-lib?noext\",\n",
       "      \"vega-lite\": \"https://cdn.jsdelivr.net/npm//vega-lite@4.8.1?noext\",\n",
       "      \"vega-embed\": \"https://cdn.jsdelivr.net/npm//vega-embed@6?noext\",\n",
       "    };\n",
       "\n",
       "    function loadScript(lib) {\n",
       "      return new Promise(function(resolve, reject) {\n",
       "        var s = document.createElement('script');\n",
       "        s.src = paths[lib];\n",
       "        s.async = true;\n",
       "        s.onload = () => resolve(paths[lib]);\n",
       "        s.onerror = () => reject(`Error loading script: ${paths[lib]}`);\n",
       "        document.getElementsByTagName(\"head\")[0].appendChild(s);\n",
       "      });\n",
       "    }\n",
       "\n",
       "    function showError(err) {\n",
       "      outputDiv.innerHTML = `<div class=\"error\" style=\"color:red;\">${err}</div>`;\n",
       "      throw err;\n",
       "    }\n",
       "\n",
       "    function displayChart(vegaEmbed) {\n",
       "      vegaEmbed(outputDiv, spec, embedOpt)\n",
       "        .catch(err => showError(`Javascript Error: ${err.message}<br>This usually means there's a typo in your chart specification. See the javascript console for the full traceback.`));\n",
       "    }\n",
       "\n",
       "    if(typeof define === \"function\" && define.amd) {\n",
       "      requirejs.config({paths});\n",
       "      require([\"vega-embed\"], displayChart, err => showError(`Error loading script: ${err.message}`));\n",
       "    } else if (typeof vegaEmbed === \"function\") {\n",
       "      displayChart(vegaEmbed);\n",
       "    } else {\n",
       "      loadScript(\"vega\")\n",
       "        .then(() => loadScript(\"vega-lite\"))\n",
       "        .then(() => loadScript(\"vega-embed\"))\n",
       "        .catch(showError)\n",
       "        .then(() => displayChart(vegaEmbed));\n",
       "    }\n",
       "  })({\"config\": {\"view\": {\"continuousWidth\": 400, \"continuousHeight\": 300}}, \"layer\": [{\"mark\": \"line\", \"encoding\": {\"color\": {\"type\": \"nominal\", \"field\": \"RAUM_lang\", \"legend\": {\"orient\": \"right\", \"title\": \"Stadtquartier\"}}, \"size\": {\"condition\": {\"value\": 0.5, \"selection\": {\"not\": \"selector003\"}}, \"value\": 4}, \"tooltip\": [{\"type\": \"temporal\", \"field\": \"StichtagDatJahr\"}, {\"type\": \"nominal\", \"field\": \"RAUM_lang\"}, {\"type\": \"quantitative\", \"field\": \"sum_WBev\"}], \"x\": {\"type\": \"temporal\", \"axis\": {\"title\": \"Jahr\"}, \"field\": \"StichtagDatJahr\"}, \"y\": {\"type\": \"quantitative\", \"axis\": {\"title\": \"Anz. Personen\"}, \"field\": \"sum_WBev\"}}, \"selection\": {\"selector004\": {\"type\": \"interval\", \"bind\": \"scales\", \"encodings\": [\"x\", \"y\"]}}, \"title\": \"Bev\\u00f6lkerung nach Stadtquartier, seit 1900\"}, {\"mark\": \"circle\", \"encoding\": {\"color\": {\"type\": \"nominal\", \"field\": \"RAUM_lang\", \"legend\": {\"orient\": \"right\", \"title\": \"Stadtquartier\"}}, \"opacity\": {\"value\": 0.75}, \"tooltip\": [{\"type\": \"temporal\", \"field\": \"StichtagDatJahr\"}, {\"type\": \"nominal\", \"field\": \"RAUM_lang\"}, {\"type\": \"quantitative\", \"field\": \"sum_WBev\"}], \"x\": {\"type\": \"temporal\", \"axis\": {\"title\": \"Jahr\"}, \"field\": \"StichtagDatJahr\"}, \"y\": {\"type\": \"quantitative\", \"axis\": {\"title\": \"Anz. Personen\"}, \"field\": \"sum_WBev\"}}, \"height\": 350, \"selection\": {\"selector003\": {\"type\": \"single\", \"on\": \"mouseover\", \"fields\": [\"RAUM_lang\"], \"nearest\": true}}, \"title\": \"Bev\\u00f6lkerung nach Stadtquartier, seit 1900\", \"width\": 750}], \"data\": {\"name\": \"data-626fb47274bf2cacedc88757edd88729\"}, \"$schema\": \"https://vega.github.io/schema/vega-lite/v4.8.1.json\", \"datasets\": {\"data-626fb47274bf2cacedc88757edd88729\": [{\"StichtagDatJahr\": \"1900-12-31T00:00:00\", \"RAUM_lang\": \"Werd\", \"RAUM_code\": \"R00041\", \"sum_WBev\": 5517.0}, {\"StichtagDatJahr\": \"1910-12-31T00:00:00\", \"RAUM_lang\": \"Hard\", \"RAUM_code\": \"R00044\", \"sum_WBev\": 4981.0}, {\"StichtagDatJahr\": \"1920-12-31T00:00:00\", \"RAUM_lang\": \"Enge\", \"RAUM_code\": \"R00024\", \"sum_WBev\": 10714.0}, {\"StichtagDatJahr\": \"1920-12-31T00:00:00\", \"RAUM_lang\": \"M\\u00fchlebach\", \"RAUM_code\": \"R00082\", \"sum_WBev\": 7639.0}, {\"StichtagDatJahr\": \"1920-12-31T00:00:00\", \"RAUM_lang\": \"Wipkingen\", \"RAUM_code\": \"R00102\", \"sum_WBev\": 11661.0}, {\"StichtagDatJahr\": \"1930-12-31T00:00:00\", \"RAUM_lang\": \"S\\u00fcdlicher Teil\", \"RAUM_code\": \"R00032\", \"sum_WBev\": 16646.0}, {\"StichtagDatJahr\": \"1943-12-31T00:00:00\", \"RAUM_lang\": \"Weinegg\", \"RAUM_code\": \"R00083\", \"sum_WBev\": 5695.0}, {\"StichtagDatJahr\": \"1944-12-31T00:00:00\", \"RAUM_lang\": \"Gewerbeschule\", \"RAUM_code\": \"R00051\", \"sum_WBev\": 13898.0}, {\"StichtagDatJahr\": \"1949-12-31T00:00:00\", \"RAUM_lang\": \"City\", \"RAUM_code\": \"R00014\", \"sum_WBev\": 3859.0}, {\"StichtagDatJahr\": \"1950-12-31T00:00:00\", \"RAUM_lang\": \"Wollishofen\", \"RAUM_code\": \"R00021\", \"sum_WBev\": 17036.0}, {\"StichtagDatJahr\": \"1951-12-31T00:00:00\", \"RAUM_lang\": \"Albisrieden\", \"RAUM_code\": \"R00091\", \"sum_WBev\": 12408.0}, {\"StichtagDatJahr\": \"1951-12-31T00:00:00\", \"RAUM_lang\": \"Seefeld\", \"RAUM_code\": \"R00081\", \"sum_WBev\": 10511.0}, {\"StichtagDatJahr\": \"1953-12-31T00:00:00\", \"RAUM_lang\": \"Affoltern\", \"RAUM_code\": \"R00111\", \"sum_WBev\": 8522.0}, {\"StichtagDatJahr\": \"1953-12-31T00:00:00\", \"RAUM_lang\": \"Lindenhof\", \"RAUM_code\": \"R00013\", \"sum_WBev\": 3146.0}, {\"StichtagDatJahr\": \"1954-12-31T00:00:00\", \"RAUM_lang\": \"Witikon\", \"RAUM_code\": \"R00074\", \"sum_WBev\": 2417.0}, {\"StichtagDatJahr\": \"1954-12-31T00:00:00\", \"RAUM_lang\": \"Friesenberg\", \"RAUM_code\": \"R00033\", \"sum_WBev\": 8951.0}, {\"StichtagDatJahr\": \"1955-12-31T00:00:00\", \"RAUM_lang\": \"Fluntern\", \"RAUM_code\": \"R00071\", \"sum_WBev\": 9906.0}, {\"StichtagDatJahr\": \"1956-12-31T00:00:00\", \"RAUM_lang\": \"Fluntern\", \"RAUM_code\": \"R00071\", \"sum_WBev\": 9818.0}, {\"StichtagDatJahr\": \"1957-12-31T00:00:00\", \"RAUM_lang\": \"Hottingen\", \"RAUM_code\": \"R00072\", \"sum_WBev\": 16234.0}, {\"StichtagDatJahr\": \"1960-12-31T00:00:00\", \"RAUM_lang\": \"Enge\", \"RAUM_code\": \"R00024\", \"sum_WBev\": 13908.0}, {\"StichtagDatJahr\": \"1960-12-31T00:00:00\", \"RAUM_lang\": \"Witikon\", \"RAUM_code\": \"R00074\", \"sum_WBev\": 4103.0}, {\"StichtagDatJahr\": \"1961-12-31T00:00:00\", \"RAUM_lang\": \"Hard\", \"RAUM_code\": \"R00044\", \"sum_WBev\": 14028.0}, {\"StichtagDatJahr\": \"1961-12-31T00:00:00\", \"RAUM_lang\": \"Langstrasse\", \"RAUM_code\": \"R00042\", \"sum_WBev\": 17753.0}, {\"StichtagDatJahr\": \"1962-12-31T00:00:00\", \"RAUM_lang\": \"Alt-Wiedikon\", \"RAUM_code\": \"R00031\", \"sum_WBev\": 17668.0}, {\"StichtagDatJahr\": \"1963-12-31T00:00:00\", \"RAUM_lang\": \"Enge\", \"RAUM_code\": \"R00024\", \"sum_WBev\": 13271.0}, {\"StichtagDatJahr\": \"1963-12-31T00:00:00\", \"RAUM_lang\": \"Fluntern\", \"RAUM_code\": \"R00071\", \"sum_WBev\": 9855.0}, {\"StichtagDatJahr\": \"1963-12-31T00:00:00\", \"RAUM_lang\": \"Unterstrass\", \"RAUM_code\": \"R00061\", \"sum_WBev\": 30192.0}, {\"StichtagDatJahr\": \"1964-12-31T00:00:00\", \"RAUM_lang\": \"Sihlfeld\", \"RAUM_code\": \"R00034\", \"sum_WBev\": 27917.0}, {\"StichtagDatJahr\": \"1964-12-31T00:00:00\", \"RAUM_lang\": \"Weinegg\", \"RAUM_code\": \"R00083\", \"sum_WBev\": 6787.0}, {\"StichtagDatJahr\": \"1965-12-31T00:00:00\", \"RAUM_lang\": \"Hirslanden\", \"RAUM_code\": \"R00073\", \"sum_WBev\": 9437.0}, {\"StichtagDatJahr\": \"1965-12-31T00:00:00\", \"RAUM_lang\": \"Rathaus\", \"RAUM_code\": \"R00011\", \"sum_WBev\": 6104.0}, {\"StichtagDatJahr\": \"1967-12-31T00:00:00\", \"RAUM_lang\": \"Seebach\", \"RAUM_code\": \"R00119\", \"sum_WBev\": 19842.0}, {\"StichtagDatJahr\": \"1967-12-31T00:00:00\", \"RAUM_lang\": \"Oberstrass\", \"RAUM_code\": \"R00063\", \"sum_WBev\": 13123.0}, {\"StichtagDatJahr\": \"1968-12-31T00:00:00\", \"RAUM_lang\": \"Hard\", \"RAUM_code\": \"R00044\", \"sum_WBev\": 13951.0}, {\"StichtagDatJahr\": \"1970-12-31T00:00:00\", \"RAUM_lang\": \"Oberstrass\", \"RAUM_code\": \"R00063\", \"sum_WBev\": 12381.0}, {\"StichtagDatJahr\": \"1971-12-31T00:00:00\", \"RAUM_lang\": \"Enge\", \"RAUM_code\": \"R00024\", \"sum_WBev\": 10882.0}, {\"StichtagDatJahr\": \"1971-12-31T00:00:00\", \"RAUM_lang\": \"Seefeld\", \"RAUM_code\": \"R00081\", \"sum_WBev\": 7442.0}, {\"StichtagDatJahr\": \"1972-12-31T00:00:00\", \"RAUM_lang\": \"Altstetten\", \"RAUM_code\": \"R00092\", \"sum_WBev\": 27638.0}, {\"StichtagDatJahr\": \"1972-12-31T00:00:00\", \"RAUM_lang\": \"H\\u00f6ngg\", \"RAUM_code\": \"R00101\", \"sum_WBev\": 17018.0}, {\"StichtagDatJahr\": \"1973-12-31T00:00:00\", \"RAUM_lang\": \"Hottingen\", \"RAUM_code\": \"R00072\", \"sum_WBev\": 12625.0}, {\"StichtagDatJahr\": \"1973-12-31T00:00:00\", \"RAUM_lang\": \"Lindenhof\", \"RAUM_code\": \"R00013\", \"sum_WBev\": 1738.0}, {\"StichtagDatJahr\": \"1974-12-31T00:00:00\", \"RAUM_lang\": \"Friesenberg\", \"RAUM_code\": \"R00033\", \"sum_WBev\": 11332.0}, {\"StichtagDatJahr\": \"1974-12-31T00:00:00\", \"RAUM_lang\": \"Saatlen\", \"RAUM_code\": \"R00121\", \"sum_WBev\": 6818.0}, {\"StichtagDatJahr\": \"1975-12-31T00:00:00\", \"RAUM_lang\": \"Alt-Wiedikon\", \"RAUM_code\": \"R00031\", \"sum_WBev\": 15035.0}, {\"StichtagDatJahr\": \"1975-12-31T00:00:00\", \"RAUM_lang\": \"Escher Wyss\", \"RAUM_code\": \"R00052\", \"sum_WBev\": 1631.0}, {\"StichtagDatJahr\": \"1975-12-31T00:00:00\", \"RAUM_lang\": \"Wollishofen\", \"RAUM_code\": \"R00021\", \"sum_WBev\": 17345.0}, {\"StichtagDatJahr\": \"1976-12-31T00:00:00\", \"RAUM_lang\": \"Witikon\", \"RAUM_code\": \"R00074\", \"sum_WBev\": 8799.0}, {\"StichtagDatJahr\": \"1976-12-31T00:00:00\", \"RAUM_lang\": \"Gewerbeschule\", \"RAUM_code\": \"R00051\", \"sum_WBev\": 9514.0}, {\"StichtagDatJahr\": \"1976-12-31T00:00:00\", \"RAUM_lang\": \"Enge\", \"RAUM_code\": \"R00024\", \"sum_WBev\": 9417.0}, {\"StichtagDatJahr\": \"1977-12-31T00:00:00\", \"RAUM_lang\": \"Enge\", \"RAUM_code\": \"R00024\", \"sum_WBev\": 9178.0}, {\"StichtagDatJahr\": \"1977-12-31T00:00:00\", \"RAUM_lang\": \"Weinegg\", \"RAUM_code\": \"R00083\", \"sum_WBev\": 6167.0}, {\"StichtagDatJahr\": \"1978-12-31T00:00:00\", \"RAUM_lang\": \"City\", \"RAUM_code\": \"R00014\", \"sum_WBev\": 910.0}, {\"StichtagDatJahr\": \"1978-12-31T00:00:00\", \"RAUM_lang\": \"Schwamendingen-Mitte\", \"RAUM_code\": \"R00122\", \"sum_WBev\": 11072.0}, {\"StichtagDatJahr\": \"1979-12-31T00:00:00\", \"RAUM_lang\": \"Affoltern\", \"RAUM_code\": \"R00111\", \"sum_WBev\": 17817.0}, {\"StichtagDatJahr\": \"2018-12-31T00:00:00\", \"RAUM_lang\": \"Oerlikon\", \"RAUM_code\": \"R00115\", \"sum_WBev\": 23214.0}, {\"StichtagDatJahr\": \"2018-12-31T00:00:00\", \"RAUM_lang\": \"Seebach\", \"RAUM_code\": \"R00119\", \"sum_WBev\": 25568.0}, {\"StichtagDatJahr\": \"2019-12-31T00:00:00\", \"RAUM_lang\": \"Affoltern\", \"RAUM_code\": \"R00111\", \"sum_WBev\": 26710.0}, {\"StichtagDatJahr\": \"2020-12-31T00:00:00\", \"RAUM_lang\": \"Enge\", \"RAUM_code\": \"R00024\", \"sum_WBev\": 9655.0}, {\"StichtagDatJahr\": \"2020-12-31T00:00:00\", \"RAUM_lang\": \"Fluntern\", \"RAUM_code\": \"R00071\", \"sum_WBev\": 8685.0}, {\"StichtagDatJahr\": \"2020-12-31T00:00:00\", \"RAUM_lang\": \"Wipkingen\", \"RAUM_code\": \"R00102\", \"sum_WBev\": 16605.0}, {\"StichtagDatJahr\": \"2021-12-31T00:00:00\", \"RAUM_lang\": \"Albisrieden\", \"RAUM_code\": \"R00091\", \"sum_WBev\": 22412.0}, {\"StichtagDatJahr\": \"2021-12-31T00:00:00\", \"RAUM_lang\": \"Escher Wyss\", \"RAUM_code\": \"R00052\", \"sum_WBev\": 6221.0}, {\"StichtagDatJahr\": \"2021-12-31T00:00:00\", \"RAUM_lang\": \"Seebach\", \"RAUM_code\": \"R00119\", \"sum_WBev\": 26541.0}, {\"StichtagDatJahr\": \"2021-12-31T00:00:00\", \"RAUM_lang\": \"Werd\", \"RAUM_code\": \"R00041\", \"sum_WBev\": 4574.0}, {\"StichtagDatJahr\": \"2023-12-31T00:00:00\", \"RAUM_lang\": \"Oberstrass\", \"RAUM_code\": \"R00063\", \"sum_WBev\": 10887.0}, {\"StichtagDatJahr\": \"2023-12-31T00:00:00\", \"RAUM_lang\": \"Schwamendingen-Mitte\", \"RAUM_code\": \"R00122\", \"sum_WBev\": 11421.0}]}}, {\"mode\": \"vega-lite\"});\n",
       "</script>"
      ],
      "text/plain": [
       "alt.LayerChart(...)"
      ]
     },
     "execution_count": 42,
     "metadata": {},
     "output_type": "execute_result"
    }
   ],
   "source": [
    "\n",
    "myTitle=\"Bevölkerung nach Stadtquartier, seit \"+str(data2betested.index.year.min())\n",
    "highlight = alt.selection(type='single', on='mouseover',\n",
    "                          fields=['RAUM_lang'], nearest=True)\n",
    "#x='date:StichtagDatJahr',\n",
    "base = alt.Chart(myAgg.reset_index().query('sum_WBev>30'), title=myTitle).encode(\n",
    "    x=alt.X('StichtagDatJahr', axis=alt.Axis(title='Jahr'))# , axis=alt.Axis(format='%', title='percentage')\n",
    "    , y=alt.X('sum_WBev', axis=alt.Axis(title='Anz. Personen'))\n",
    "    , color=alt.Color('RAUM_lang', legend=alt.Legend(title=\"Stadtquartier\", orient=\"right\"))  \n",
    "    ,tooltip=['StichtagDatJahr', 'RAUM_lang','sum_WBev']    \n",
    ")\n",
    "points = base.mark_circle().encode(\n",
    "    opacity=alt.value(0.75)\n",
    ").add_selection(\n",
    "    highlight\n",
    ").properties(\n",
    "    width=750 , height=350\n",
    ")\n",
    "lines = base.mark_line().encode(\n",
    "    size=alt.condition(~highlight, alt.value(0.5), alt.value(4))\n",
    ").interactive()\n",
    "\n",
    "lines + points"
   ]
  },
  {
   "cell_type": "markdown",
   "metadata": {
    "tags": []
   },
   "source": [
    "#### Entwicklung Wohnbevölkerung nach Stadtquartier der Kreise 10-12, 1941-1981"
   ]
  },
  {
   "cell_type": "code",
   "execution_count": 43,
   "metadata": {},
   "outputs": [
    {
     "data": {
      "text/html": [
       "<div>\n",
       "<style scoped>\n",
       "    .dataframe tbody tr th:only-of-type {\n",
       "        vertical-align: middle;\n",
       "    }\n",
       "\n",
       "    .dataframe tbody tr th {\n",
       "        vertical-align: top;\n",
       "    }\n",
       "\n",
       "    .dataframe thead th {\n",
       "        text-align: right;\n",
       "    }\n",
       "</style>\n",
       "<table border=\"1\" class=\"dataframe\">\n",
       "  <thead>\n",
       "    <tr style=\"text-align: right;\">\n",
       "      <th></th>\n",
       "      <th>StichtagDatJahr</th>\n",
       "      <th>RAUM_code</th>\n",
       "      <th>RAUM_lang</th>\n",
       "      <th>RAUM_my_sort</th>\n",
       "      <th>sum_WBev</th>\n",
       "    </tr>\n",
       "  </thead>\n",
       "  <tbody>\n",
       "    <tr>\n",
       "      <th>0</th>\n",
       "      <td>1900-12-31</td>\n",
       "      <td>R00041</td>\n",
       "      <td>Werd</td>\n",
       "      <td>41</td>\n",
       "      <td>5517</td>\n",
       "    </tr>\n",
       "    <tr>\n",
       "      <th>1</th>\n",
       "      <td>1910-12-31</td>\n",
       "      <td>R00044</td>\n",
       "      <td>Hard</td>\n",
       "      <td>44</td>\n",
       "      <td>4981</td>\n",
       "    </tr>\n",
       "    <tr>\n",
       "      <th>2</th>\n",
       "      <td>1920-12-31</td>\n",
       "      <td>R00024</td>\n",
       "      <td>Enge</td>\n",
       "      <td>24</td>\n",
       "      <td>10714</td>\n",
       "    </tr>\n",
       "  </tbody>\n",
       "</table>\n",
       "</div>"
      ],
      "text/plain": [
       "  StichtagDatJahr RAUM_code RAUM_lang  RAUM_my_sort  sum_WBev\n",
       "0      1900-12-31    R00041      Werd            41      5517\n",
       "1      1910-12-31    R00044      Hard            44      4981\n",
       "2      1920-12-31    R00024      Enge            24     10714"
      ]
     },
     "execution_count": 43,
     "metadata": {},
     "output_type": "execute_result"
    }
   ],
   "source": [
    "#myAgg = data2betested.loc[\"2008-11-30\":\"2021-10-31\"]\n",
    "myAgg = data2betested.loc[\"1890\":\"1981\"]\\\n",
    "    .groupby(['StichtagDatJahr', 'RAUM_code', 'RAUM_lang', 'RAUM_my_sort']) \\\n",
    "    .agg(sum_WBev=('BEW', 'sum')) \\\n",
    "    .sort_values('StichtagDatJahr', ascending=True) \n",
    "\n",
    "myAgg.reset_index().head(3)\n"
   ]
  },
  {
   "cell_type": "code",
   "execution_count": 44,
   "metadata": {},
   "outputs": [
    {
     "data": {
      "text/html": [
       "\n",
       "<div id=\"altair-viz-7436f0de5e3f40569d9a6ee3ecfec4de\"></div>\n",
       "<script type=\"text/javascript\">\n",
       "  (function(spec, embedOpt){\n",
       "    let outputDiv = document.currentScript.previousElementSibling;\n",
       "    if (outputDiv.id !== \"altair-viz-7436f0de5e3f40569d9a6ee3ecfec4de\") {\n",
       "      outputDiv = document.getElementById(\"altair-viz-7436f0de5e3f40569d9a6ee3ecfec4de\");\n",
       "    }\n",
       "    const paths = {\n",
       "      \"vega\": \"https://cdn.jsdelivr.net/npm//vega@5?noext\",\n",
       "      \"vega-lib\": \"https://cdn.jsdelivr.net/npm//vega-lib?noext\",\n",
       "      \"vega-lite\": \"https://cdn.jsdelivr.net/npm//vega-lite@4.8.1?noext\",\n",
       "      \"vega-embed\": \"https://cdn.jsdelivr.net/npm//vega-embed@6?noext\",\n",
       "    };\n",
       "\n",
       "    function loadScript(lib) {\n",
       "      return new Promise(function(resolve, reject) {\n",
       "        var s = document.createElement('script');\n",
       "        s.src = paths[lib];\n",
       "        s.async = true;\n",
       "        s.onload = () => resolve(paths[lib]);\n",
       "        s.onerror = () => reject(`Error loading script: ${paths[lib]}`);\n",
       "        document.getElementsByTagName(\"head\")[0].appendChild(s);\n",
       "      });\n",
       "    }\n",
       "\n",
       "    function showError(err) {\n",
       "      outputDiv.innerHTML = `<div class=\"error\" style=\"color:red;\">${err}</div>`;\n",
       "      throw err;\n",
       "    }\n",
       "\n",
       "    function displayChart(vegaEmbed) {\n",
       "      vegaEmbed(outputDiv, spec, embedOpt)\n",
       "        .catch(err => showError(`Javascript Error: ${err.message}<br>This usually means there's a typo in your chart specification. See the javascript console for the full traceback.`));\n",
       "    }\n",
       "\n",
       "    if(typeof define === \"function\" && define.amd) {\n",
       "      requirejs.config({paths});\n",
       "      require([\"vega-embed\"], displayChart, err => showError(`Error loading script: ${err.message}`));\n",
       "    } else if (typeof vegaEmbed === \"function\") {\n",
       "      displayChart(vegaEmbed);\n",
       "    } else {\n",
       "      loadScript(\"vega\")\n",
       "        .then(() => loadScript(\"vega-lite\"))\n",
       "        .then(() => loadScript(\"vega-embed\"))\n",
       "        .catch(showError)\n",
       "        .then(() => displayChart(vegaEmbed));\n",
       "    }\n",
       "  })({\"config\": {\"view\": {\"continuousWidth\": 400, \"continuousHeight\": 300}}, \"layer\": [{\"mark\": \"line\", \"encoding\": {\"color\": {\"type\": \"nominal\", \"field\": \"RAUM_lang\", \"legend\": {\"orient\": \"right\", \"title\": \"Stadtquartier\"}}, \"size\": {\"condition\": {\"value\": 0.5, \"selection\": {\"not\": \"selector005\"}}, \"value\": 4}, \"tooltip\": [{\"type\": \"temporal\", \"field\": \"StichtagDatJahr\"}, {\"type\": \"nominal\", \"field\": \"RAUM_lang\"}, {\"type\": \"quantitative\", \"field\": \"sum_WBev\"}], \"x\": {\"type\": \"temporal\", \"axis\": {\"title\": \"Jahr\"}, \"field\": \"StichtagDatJahr\"}, \"y\": {\"type\": \"quantitative\", \"axis\": {\"title\": \"Anz. Personen\"}, \"field\": \"sum_WBev\"}}, \"selection\": {\"selector006\": {\"type\": \"interval\", \"bind\": \"scales\", \"encodings\": [\"x\", \"y\"]}}, \"title\": \"Entwicklung Wohnbev\\u00f6lkerung nach Stadtquartier der Kreise 10-12, 1941-1981\"}, {\"mark\": \"circle\", \"encoding\": {\"color\": {\"type\": \"nominal\", \"field\": \"RAUM_lang\", \"legend\": {\"orient\": \"right\", \"title\": \"Stadtquartier\"}}, \"opacity\": {\"value\": 0.75}, \"tooltip\": [{\"type\": \"temporal\", \"field\": \"StichtagDatJahr\"}, {\"type\": \"nominal\", \"field\": \"RAUM_lang\"}, {\"type\": \"quantitative\", \"field\": \"sum_WBev\"}], \"x\": {\"type\": \"temporal\", \"axis\": {\"title\": \"Jahr\"}, \"field\": \"StichtagDatJahr\"}, \"y\": {\"type\": \"quantitative\", \"axis\": {\"title\": \"Anz. Personen\"}, \"field\": \"sum_WBev\"}}, \"height\": 350, \"selection\": {\"selector005\": {\"type\": \"single\", \"on\": \"mouseover\", \"fields\": [\"RAUM_lang\"], \"nearest\": true}}, \"title\": \"Entwicklung Wohnbev\\u00f6lkerung nach Stadtquartier der Kreise 10-12, 1941-1981\", \"width\": 750}], \"data\": {\"name\": \"data-c79d60cb4e3521ee4b143c2973e5b581\"}, \"$schema\": \"https://vega.github.io/schema/vega-lite/v4.8.1.json\", \"datasets\": {\"data-c79d60cb4e3521ee4b143c2973e5b581\": [{\"StichtagDatJahr\": \"1920-12-31T00:00:00\", \"RAUM_code\": \"R00102\", \"RAUM_lang\": \"Wipkingen\", \"RAUM_my_sort\": 102, \"sum_WBev\": 11661.0}, {\"StichtagDatJahr\": \"1953-12-31T00:00:00\", \"RAUM_code\": \"R00111\", \"RAUM_lang\": \"Affoltern\", \"RAUM_my_sort\": 111, \"sum_WBev\": 8522.0}, {\"StichtagDatJahr\": \"1967-12-31T00:00:00\", \"RAUM_code\": \"R00119\", \"RAUM_lang\": \"Seebach\", \"RAUM_my_sort\": 119, \"sum_WBev\": 19842.0}, {\"StichtagDatJahr\": \"1972-12-31T00:00:00\", \"RAUM_code\": \"R00101\", \"RAUM_lang\": \"H\\u00f6ngg\", \"RAUM_my_sort\": 101, \"sum_WBev\": 17018.0}, {\"StichtagDatJahr\": \"1974-12-31T00:00:00\", \"RAUM_code\": \"R00121\", \"RAUM_lang\": \"Saatlen\", \"RAUM_my_sort\": 121, \"sum_WBev\": 6818.0}, {\"StichtagDatJahr\": \"1978-12-31T00:00:00\", \"RAUM_code\": \"R00122\", \"RAUM_lang\": \"Schwamendingen-Mitte\", \"RAUM_my_sort\": 122, \"sum_WBev\": 11072.0}, {\"StichtagDatJahr\": \"1979-12-31T00:00:00\", \"RAUM_code\": \"R00111\", \"RAUM_lang\": \"Affoltern\", \"RAUM_my_sort\": 111, \"sum_WBev\": 17817.0}]}}, {\"mode\": \"vega-lite\"});\n",
       "</script>"
      ],
      "text/plain": [
       "alt.LayerChart(...)"
      ]
     },
     "execution_count": 44,
     "metadata": {},
     "output_type": "execute_result"
    }
   ],
   "source": [
    "myTitle=\"Entwicklung Wohnbevölkerung nach Stadtquartier der Kreise 10-12, 1941-1981\"\n",
    "\n",
    "highlight = alt.selection(type='single', on='mouseover',\n",
    "                          fields=['RAUM_lang'], nearest=True)\n",
    "#x='date:StichtagDatJahr',\n",
    "base = alt.Chart(myAgg.reset_index().query('RAUM_my_sort > 100'), title=myTitle).encode(\n",
    "    x=alt.X('StichtagDatJahr', axis=alt.Axis(title='Jahr'))# , axis=alt.Axis(format='%', title='percentage')\n",
    "    , y=alt.X('sum_WBev', axis=alt.Axis(title='Anz. Personen'))\n",
    "    , color=alt.Color('RAUM_lang', legend=alt.Legend(title=\"Stadtquartier\", orient=\"right\"))  \n",
    "    ,tooltip=['StichtagDatJahr', 'RAUM_lang','sum_WBev']    \n",
    ")\n",
    "points = base.mark_circle().encode(\n",
    "    opacity=alt.value(0.75)\n",
    ").add_selection(\n",
    "    highlight\n",
    ").properties(\n",
    "    width=750 , height=350\n",
    ")\n",
    "lines = base.mark_line().encode(\n",
    "    size=alt.condition(~highlight, alt.value(0.5), alt.value(4))\n",
    ").interactive()\n",
    "\n",
    "lines + points"
   ]
  },
  {
   "cell_type": "markdown",
   "metadata": {
    "tags": []
   },
   "source": [
    "#### Barcharts mit Seaborn"
   ]
  },
  {
   "cell_type": "code",
   "execution_count": 45,
   "metadata": {},
   "outputs": [
    {
     "data": {
      "text/html": [
       "<div>\n",
       "<style scoped>\n",
       "    .dataframe tbody tr th:only-of-type {\n",
       "        vertical-align: middle;\n",
       "    }\n",
       "\n",
       "    .dataframe tbody tr th {\n",
       "        vertical-align: top;\n",
       "    }\n",
       "\n",
       "    .dataframe thead th {\n",
       "        text-align: right;\n",
       "    }\n",
       "</style>\n",
       "<table border=\"1\" class=\"dataframe\">\n",
       "  <thead>\n",
       "    <tr style=\"text-align: right;\">\n",
       "      <th></th>\n",
       "      <th>StichtagDatJahr</th>\n",
       "      <th>Jahr</th>\n",
       "      <th>RAUM_lang</th>\n",
       "      <th>RAUM_code</th>\n",
       "      <th>sum_WBev</th>\n",
       "    </tr>\n",
       "  </thead>\n",
       "  <tbody>\n",
       "    <tr>\n",
       "      <th>0</th>\n",
       "      <td>2018-12-31</td>\n",
       "      <td>2018</td>\n",
       "      <td>Oerlikon</td>\n",
       "      <td>R00115</td>\n",
       "      <td>23214</td>\n",
       "    </tr>\n",
       "    <tr>\n",
       "      <th>1</th>\n",
       "      <td>2018-12-31</td>\n",
       "      <td>2018</td>\n",
       "      <td>Seebach</td>\n",
       "      <td>R00119</td>\n",
       "      <td>25568</td>\n",
       "    </tr>\n",
       "    <tr>\n",
       "      <th>2</th>\n",
       "      <td>2019-12-31</td>\n",
       "      <td>2019</td>\n",
       "      <td>Affoltern</td>\n",
       "      <td>R00111</td>\n",
       "      <td>26710</td>\n",
       "    </tr>\n",
       "  </tbody>\n",
       "</table>\n",
       "</div>"
      ],
      "text/plain": [
       "  StichtagDatJahr  Jahr  RAUM_lang RAUM_code  sum_WBev\n",
       "0      2018-12-31  2018   Oerlikon    R00115     23214\n",
       "1      2018-12-31  2018    Seebach    R00119     25568\n",
       "2      2019-12-31  2019  Affoltern    R00111     26710"
      ]
     },
     "execution_count": 45,
     "metadata": {},
     "output_type": "execute_result"
    }
   ],
   "source": [
    "#myAgg = data2betested.loc[\"2008-11-30\":\"2021-10-31\"]\n",
    "myAggBar = data2betested.loc[\"2015\":data_max_date]\\\n",
    "    .groupby(['StichtagDatJahr','Jahr', 'RAUM_lang', 'RAUM_code']) \\\n",
    "    .agg(sum_WBev=('BEW', 'sum')) \\\n",
    "    .sort_values('StichtagDatJahr', ascending=True) \n",
    "\n",
    "myAggBar.reset_index().head(3)"
   ]
  },
  {
   "cell_type": "code",
   "execution_count": 46,
   "metadata": {},
   "outputs": [],
   "source": [
    "#help(sns.catplot)     "
   ]
  },
  {
   "cell_type": "code",
   "execution_count": 47,
   "metadata": {},
   "outputs": [],
   "source": [
    "#Stile for the following sns graphs\n",
    "sns.set_theme(style=\"whitegrid\")"
   ]
  },
  {
   "cell_type": "code",
   "execution_count": 48,
   "metadata": {},
   "outputs": [
    {
     "data": {
      "text/plain": [
       "<seaborn.axisgrid.FacetGrid at 0x29b0b282e08>"
      ]
     },
     "execution_count": 48,
     "metadata": {},
     "output_type": "execute_result"
    },
    {
     "data": {
      "image/png": "[encoded data removed]",
      "text/plain": [
       "<Figure size 1214.25x500 with 1 Axes>"
      ]
     },
     "metadata": {},
     "output_type": "display_data"
    }
   ],
   "source": [
    "#sns.color_palette(\"flare\", as_cmap=True)\n",
    "myHist = sns.catplot(x=\"Jahr\"\n",
    "            , y=\"sum_WBev\"\n",
    "            , hue=\"RAUM_lang\"\n",
    "            , kind=\"bar\" #boxen, violin, --> wenn die aggregation nicht genau den werten in der grafik entspricht\n",
    "            , palette=\"pastel\" #, color=\"green\"\n",
    "            , height=5\n",
    "            , aspect=2\n",
    "            , order=None, legend_out=True\n",
    "            ,data=myAggBar.reset_index().sort_values(\"RAUM_code\", ascending=True)\n",
    "           )\n",
    "myHist.set_xlabels('Quartiere', fontsize=11) # not set_label\n",
    "myHist.set_ylabels('Anz. Pers.', fontsize=11)\n"
   ]
  },
  {
   "cell_type": "code",
   "execution_count": 49,
   "metadata": {},
   "outputs": [
    {
     "data": {
      "text/html": [
       "<div>\n",
       "<style scoped>\n",
       "    .dataframe tbody tr th:only-of-type {\n",
       "        vertical-align: middle;\n",
       "    }\n",
       "\n",
       "    .dataframe tbody tr th {\n",
       "        vertical-align: top;\n",
       "    }\n",
       "\n",
       "    .dataframe thead th {\n",
       "        text-align: right;\n",
       "    }\n",
       "</style>\n",
       "<table border=\"1\" class=\"dataframe\">\n",
       "  <thead>\n",
       "    <tr style=\"text-align: right;\">\n",
       "      <th></th>\n",
       "      <th></th>\n",
       "      <th></th>\n",
       "      <th></th>\n",
       "      <th></th>\n",
       "      <th>sum_WBev</th>\n",
       "    </tr>\n",
       "    <tr>\n",
       "      <th>Jahr</th>\n",
       "      <th>StichtagDatJahr_str</th>\n",
       "      <th>RAUM_lang</th>\n",
       "      <th>RAUM_code</th>\n",
       "      <th>RAUM_my_sort</th>\n",
       "      <th></th>\n",
       "    </tr>\n",
       "  </thead>\n",
       "  <tbody>\n",
       "    <tr>\n",
       "      <th>1965</th>\n",
       "      <th>1965-12-31</th>\n",
       "      <th>Rathaus</th>\n",
       "      <th>R00011</th>\n",
       "      <th>11</th>\n",
       "      <td>6104</td>\n",
       "    </tr>\n",
       "    <tr>\n",
       "      <th>1973</th>\n",
       "      <th>1973-12-31</th>\n",
       "      <th>Lindenhof</th>\n",
       "      <th>R00013</th>\n",
       "      <th>13</th>\n",
       "      <td>1738</td>\n",
       "    </tr>\n",
       "    <tr>\n",
       "      <th>1953</th>\n",
       "      <th>1953-12-31</th>\n",
       "      <th>Lindenhof</th>\n",
       "      <th>R00013</th>\n",
       "      <th>13</th>\n",
       "      <td>3146</td>\n",
       "    </tr>\n",
       "    <tr>\n",
       "      <th>1978</th>\n",
       "      <th>1978-12-31</th>\n",
       "      <th>City</th>\n",
       "      <th>R00014</th>\n",
       "      <th>14</th>\n",
       "      <td>910</td>\n",
       "    </tr>\n",
       "    <tr>\n",
       "      <th>1949</th>\n",
       "      <th>1949-12-31</th>\n",
       "      <th>City</th>\n",
       "      <th>R00014</th>\n",
       "      <th>14</th>\n",
       "      <td>3859</td>\n",
       "    </tr>\n",
       "    <tr>\n",
       "      <th>...</th>\n",
       "      <th>...</th>\n",
       "      <th>...</th>\n",
       "      <th>...</th>\n",
       "      <th>...</th>\n",
       "      <td>...</td>\n",
       "    </tr>\n",
       "    <tr>\n",
       "      <th>1967</th>\n",
       "      <th>1967-12-31</th>\n",
       "      <th>Seebach</th>\n",
       "      <th>R00119</th>\n",
       "      <th>119</th>\n",
       "      <td>19842</td>\n",
       "    </tr>\n",
       "    <tr>\n",
       "      <th>2018</th>\n",
       "      <th>2018-12-31</th>\n",
       "      <th>Seebach</th>\n",
       "      <th>R00119</th>\n",
       "      <th>119</th>\n",
       "      <td>25568</td>\n",
       "    </tr>\n",
       "    <tr>\n",
       "      <th>1974</th>\n",
       "      <th>1974-12-31</th>\n",
       "      <th>Saatlen</th>\n",
       "      <th>R00121</th>\n",
       "      <th>121</th>\n",
       "      <td>6818</td>\n",
       "    </tr>\n",
       "    <tr>\n",
       "      <th>1978</th>\n",
       "      <th>1978-12-31</th>\n",
       "      <th>Schwamendingen-Mitte</th>\n",
       "      <th>R00122</th>\n",
       "      <th>122</th>\n",
       "      <td>11072</td>\n",
       "    </tr>\n",
       "    <tr>\n",
       "      <th>2023</th>\n",
       "      <th>2023-12-31</th>\n",
       "      <th>Schwamendingen-Mitte</th>\n",
       "      <th>R00122</th>\n",
       "      <th>122</th>\n",
       "      <td>11421</td>\n",
       "    </tr>\n",
       "  </tbody>\n",
       "</table>\n",
       "<p>66 rows × 1 columns</p>\n",
       "</div>"
      ],
      "text/plain": [
       "                                                                      sum_WBev\n",
       "Jahr StichtagDatJahr_str RAUM_lang            RAUM_code RAUM_my_sort          \n",
       "1965 1965-12-31          Rathaus              R00011    11                6104\n",
       "1973 1973-12-31          Lindenhof            R00013    13                1738\n",
       "1953 1953-12-31          Lindenhof            R00013    13                3146\n",
       "1978 1978-12-31          City                 R00014    14                 910\n",
       "1949 1949-12-31          City                 R00014    14                3859\n",
       "...                                                                        ...\n",
       "1967 1967-12-31          Seebach              R00119    119              19842\n",
       "2018 2018-12-31          Seebach              R00119    119              25568\n",
       "1974 1974-12-31          Saatlen              R00121    121               6818\n",
       "1978 1978-12-31          Schwamendingen-Mitte R00122    122              11072\n",
       "2023 2023-12-31          Schwamendingen-Mitte R00122    122              11421\n",
       "\n",
       "[66 rows x 1 columns]"
      ]
     },
     "execution_count": 49,
     "metadata": {},
     "output_type": "execute_result"
    }
   ],
   "source": [
    "myAggBar = data2betested.loc[data_min_date:data_max_date]\\\n",
    "    .groupby(['Jahr','StichtagDatJahr_str', 'RAUM_lang', 'RAUM_code', 'RAUM_my_sort']) \\\n",
    "    .agg(sum_WBev=('BEW', 'sum')) \\\n",
    "    .sort_values('RAUM_my_sort', ascending=True) \n",
    "\n",
    "myAggBar"
   ]
  },
  {
   "cell_type": "code",
   "execution_count": 50,
   "metadata": {},
   "outputs": [
    {
     "data": {
      "text/plain": [
       "<seaborn.axisgrid.FacetGrid at 0x29b0b2115c8>"
      ]
     },
     "execution_count": 50,
     "metadata": {},
     "output_type": "execute_result"
    },
    {
     "data": {
      "image/png": "[encoded data removed]",
      "text/plain": [
       "<Figure size 2014.25x1800 with 32 Axes>"
      ]
     },
     "metadata": {},
     "output_type": "display_data"
    }
   ],
   "source": [
    "g2 = sns.FacetGrid(myAggBar.reset_index(), col=\"RAUM_lang\", hue=\"RAUM_lang\", col_wrap=6, height=3,)\n",
    "g2.map(sns.lineplot, \"Jahr\",\"sum_WBev\",alpha=.8)\n",
    "\n",
    "g2.set_axis_labels(\"\",\"Anz. Personen\")\n",
    "g2.set_titles(col_template=\"{col_name}\", row_template=\"{row_name}\")\n",
    "\n",
    "g2.add_legend()\n"
   ]
  },
  {
   "cell_type": "markdown",
   "metadata": {},
   "source": [
    "## ---------------------- hier Plausi beendet\n",
    "\n",
    "Übersicht zu LOSD-Jobs:\n",
    "[Sharepoint](https://kollaboration.intranet.stzh.ch/orga/ssz-produkte/Lists/SASA_Outputs/OGD%20Metadaten.aspx#InplviewHasheb69a2c0-ed94-4ef2-91a5-3b19f038e442=FilterField1%3DMetadaten%255Fx002d%255FPublikations%255Fx00-FilterValue1%3DINT)"
   ]
  }
 ],
 "metadata": {
  "kernelspec": {
   "display_name": "Python 3 (ipykernel)",
   "language": "python",
   "name": "python3"
  },
  "language_info": {
   "codemirror_mode": {
    "name": "ipython",
    "version": 3
   },
   "file_extension": ".py",
   "mimetype": "text/x-python",
   "name": "python",
   "nbconvert_exporter": "python",
   "pygments_lexer": "ipython3",
   "version": "3.7.16"
  }
 },
 "nbformat": 4,
 "nbformat_minor": 4
}
